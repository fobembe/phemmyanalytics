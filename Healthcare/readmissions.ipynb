{
 "cells": [
  {
   "cell_type": "markdown",
   "id": "c60e0cbd-388a-4352-b624-9b9bc2ded5c2",
   "metadata": {},
   "source": [
    "## Determinants of Readmissons\n",
    "\n",
    "The need to reduce hospital readmissions of patients has been justified on two important grounds; first, the unplanned costs of readmission was put at between 15 to 20 billion dollars annually which is not healthy for the well-being of the healthcare system.  Secondly, reducing readmissions is seeing as a strategy of improving the quality of life of patients [Eric Alper et.al](https://www.uptodate.com/contents/hospital-discharge-and-readmission).\n",
    "\n",
    "This project seeks to understand some of the underlying causes of hospital readmission among diabetics patients.  The dataset is sourced from Kaggle [website](https://www.kaggle.com/datasets/saurabhtayal/diabetic-patients-readmission-prediction)."
   ]
  },
  {
   "cell_type": "markdown",
   "id": "f9f82e41-8b58-4742-b11c-a330d5ca5e48",
   "metadata": {},
   "source": [
    "### Import the necessary libraries and dataset"
   ]
  },
  {
   "cell_type": "code",
   "execution_count": 1,
   "id": "50367d14-bc68-4c49-b850-840f18196251",
   "metadata": {},
   "outputs": [],
   "source": [
    "import pandas as pd\n",
    "import numpy as np\n",
    "import matplotlib.pyplot as plt\n",
    "import seaborn as sns"
   ]
  },
  {
   "cell_type": "code",
   "execution_count": 2,
   "id": "95984bad-51a4-4f01-ac8b-60113af3b4c3",
   "metadata": {},
   "outputs": [],
   "source": [
    "import warnings\n",
    "warnings.filterwarnings(\"ignore\")"
   ]
  },
  {
   "cell_type": "code",
   "execution_count": 3,
   "id": "bd8fc4fe-fbea-4436-a7d9-8e6db0e386dc",
   "metadata": {},
   "outputs": [],
   "source": [
    "pd.set_option('display.max_columns', None)\n",
    "pd.set_option('display.max_rows', None)"
   ]
  },
  {
   "cell_type": "code",
   "execution_count": 4,
   "id": "e170814b-d000-467b-b373-6d20ef5da727",
   "metadata": {},
   "outputs": [
    {
     "data": {
      "text/html": [
       "<div>\n",
       "<style scoped>\n",
       "    .dataframe tbody tr th:only-of-type {\n",
       "        vertical-align: middle;\n",
       "    }\n",
       "\n",
       "    .dataframe tbody tr th {\n",
       "        vertical-align: top;\n",
       "    }\n",
       "\n",
       "    .dataframe thead th {\n",
       "        text-align: right;\n",
       "    }\n",
       "</style>\n",
       "<table border=\"1\" class=\"dataframe\">\n",
       "  <thead>\n",
       "    <tr style=\"text-align: right;\">\n",
       "      <th></th>\n",
       "      <th>encounter_id</th>\n",
       "      <th>patient_nbr</th>\n",
       "      <th>race</th>\n",
       "      <th>gender</th>\n",
       "      <th>age</th>\n",
       "      <th>weight</th>\n",
       "      <th>admission_type_id</th>\n",
       "      <th>discharge_disposition_id</th>\n",
       "      <th>admission_source_id</th>\n",
       "      <th>time_in_hospital</th>\n",
       "      <th>payer_code</th>\n",
       "      <th>medical_specialty</th>\n",
       "      <th>num_lab_procedures</th>\n",
       "      <th>num_procedures</th>\n",
       "      <th>num_medications</th>\n",
       "      <th>number_outpatient</th>\n",
       "      <th>number_emergency</th>\n",
       "      <th>number_inpatient</th>\n",
       "      <th>diag_1</th>\n",
       "      <th>diag_2</th>\n",
       "      <th>diag_3</th>\n",
       "      <th>number_diagnoses</th>\n",
       "      <th>max_glu_serum</th>\n",
       "      <th>A1Cresult</th>\n",
       "      <th>metformin</th>\n",
       "      <th>repaglinide</th>\n",
       "      <th>nateglinide</th>\n",
       "      <th>chlorpropamide</th>\n",
       "      <th>glimepiride</th>\n",
       "      <th>acetohexamide</th>\n",
       "      <th>glipizide</th>\n",
       "      <th>glyburide</th>\n",
       "      <th>tolbutamide</th>\n",
       "      <th>pioglitazone</th>\n",
       "      <th>rosiglitazone</th>\n",
       "      <th>acarbose</th>\n",
       "      <th>miglitol</th>\n",
       "      <th>troglitazone</th>\n",
       "      <th>tolazamide</th>\n",
       "      <th>examide</th>\n",
       "      <th>citoglipton</th>\n",
       "      <th>insulin</th>\n",
       "      <th>glyburide-metformin</th>\n",
       "      <th>glipizide-metformin</th>\n",
       "      <th>glimepiride-pioglitazone</th>\n",
       "      <th>metformin-rosiglitazone</th>\n",
       "      <th>metformin-pioglitazone</th>\n",
       "      <th>change</th>\n",
       "      <th>diabetesMed</th>\n",
       "      <th>readmitted</th>\n",
       "    </tr>\n",
       "  </thead>\n",
       "  <tbody>\n",
       "    <tr>\n",
       "      <th>0</th>\n",
       "      <td>2278392</td>\n",
       "      <td>8222157</td>\n",
       "      <td>Caucasian</td>\n",
       "      <td>Female</td>\n",
       "      <td>[0-10)</td>\n",
       "      <td>?</td>\n",
       "      <td>6</td>\n",
       "      <td>25</td>\n",
       "      <td>1</td>\n",
       "      <td>1</td>\n",
       "      <td>?</td>\n",
       "      <td>Pediatrics-Endocrinology</td>\n",
       "      <td>41</td>\n",
       "      <td>0</td>\n",
       "      <td>1</td>\n",
       "      <td>0</td>\n",
       "      <td>0</td>\n",
       "      <td>0</td>\n",
       "      <td>250.83</td>\n",
       "      <td>?</td>\n",
       "      <td>?</td>\n",
       "      <td>1</td>\n",
       "      <td>None</td>\n",
       "      <td>None</td>\n",
       "      <td>No</td>\n",
       "      <td>No</td>\n",
       "      <td>No</td>\n",
       "      <td>No</td>\n",
       "      <td>No</td>\n",
       "      <td>No</td>\n",
       "      <td>No</td>\n",
       "      <td>No</td>\n",
       "      <td>No</td>\n",
       "      <td>No</td>\n",
       "      <td>No</td>\n",
       "      <td>No</td>\n",
       "      <td>No</td>\n",
       "      <td>No</td>\n",
       "      <td>No</td>\n",
       "      <td>No</td>\n",
       "      <td>No</td>\n",
       "      <td>No</td>\n",
       "      <td>No</td>\n",
       "      <td>No</td>\n",
       "      <td>No</td>\n",
       "      <td>No</td>\n",
       "      <td>No</td>\n",
       "      <td>No</td>\n",
       "      <td>No</td>\n",
       "      <td>NO</td>\n",
       "    </tr>\n",
       "    <tr>\n",
       "      <th>1</th>\n",
       "      <td>149190</td>\n",
       "      <td>55629189</td>\n",
       "      <td>Caucasian</td>\n",
       "      <td>Female</td>\n",
       "      <td>[10-20)</td>\n",
       "      <td>?</td>\n",
       "      <td>1</td>\n",
       "      <td>1</td>\n",
       "      <td>7</td>\n",
       "      <td>3</td>\n",
       "      <td>?</td>\n",
       "      <td>?</td>\n",
       "      <td>59</td>\n",
       "      <td>0</td>\n",
       "      <td>18</td>\n",
       "      <td>0</td>\n",
       "      <td>0</td>\n",
       "      <td>0</td>\n",
       "      <td>276</td>\n",
       "      <td>250.01</td>\n",
       "      <td>255</td>\n",
       "      <td>9</td>\n",
       "      <td>None</td>\n",
       "      <td>None</td>\n",
       "      <td>No</td>\n",
       "      <td>No</td>\n",
       "      <td>No</td>\n",
       "      <td>No</td>\n",
       "      <td>No</td>\n",
       "      <td>No</td>\n",
       "      <td>No</td>\n",
       "      <td>No</td>\n",
       "      <td>No</td>\n",
       "      <td>No</td>\n",
       "      <td>No</td>\n",
       "      <td>No</td>\n",
       "      <td>No</td>\n",
       "      <td>No</td>\n",
       "      <td>No</td>\n",
       "      <td>No</td>\n",
       "      <td>No</td>\n",
       "      <td>Up</td>\n",
       "      <td>No</td>\n",
       "      <td>No</td>\n",
       "      <td>No</td>\n",
       "      <td>No</td>\n",
       "      <td>No</td>\n",
       "      <td>Ch</td>\n",
       "      <td>Yes</td>\n",
       "      <td>&gt;30</td>\n",
       "    </tr>\n",
       "    <tr>\n",
       "      <th>2</th>\n",
       "      <td>64410</td>\n",
       "      <td>86047875</td>\n",
       "      <td>AfricanAmerican</td>\n",
       "      <td>Female</td>\n",
       "      <td>[20-30)</td>\n",
       "      <td>?</td>\n",
       "      <td>1</td>\n",
       "      <td>1</td>\n",
       "      <td>7</td>\n",
       "      <td>2</td>\n",
       "      <td>?</td>\n",
       "      <td>?</td>\n",
       "      <td>11</td>\n",
       "      <td>5</td>\n",
       "      <td>13</td>\n",
       "      <td>2</td>\n",
       "      <td>0</td>\n",
       "      <td>1</td>\n",
       "      <td>648</td>\n",
       "      <td>250</td>\n",
       "      <td>V27</td>\n",
       "      <td>6</td>\n",
       "      <td>None</td>\n",
       "      <td>None</td>\n",
       "      <td>No</td>\n",
       "      <td>No</td>\n",
       "      <td>No</td>\n",
       "      <td>No</td>\n",
       "      <td>No</td>\n",
       "      <td>No</td>\n",
       "      <td>Steady</td>\n",
       "      <td>No</td>\n",
       "      <td>No</td>\n",
       "      <td>No</td>\n",
       "      <td>No</td>\n",
       "      <td>No</td>\n",
       "      <td>No</td>\n",
       "      <td>No</td>\n",
       "      <td>No</td>\n",
       "      <td>No</td>\n",
       "      <td>No</td>\n",
       "      <td>No</td>\n",
       "      <td>No</td>\n",
       "      <td>No</td>\n",
       "      <td>No</td>\n",
       "      <td>No</td>\n",
       "      <td>No</td>\n",
       "      <td>No</td>\n",
       "      <td>Yes</td>\n",
       "      <td>NO</td>\n",
       "    </tr>\n",
       "    <tr>\n",
       "      <th>3</th>\n",
       "      <td>500364</td>\n",
       "      <td>82442376</td>\n",
       "      <td>Caucasian</td>\n",
       "      <td>Male</td>\n",
       "      <td>[30-40)</td>\n",
       "      <td>?</td>\n",
       "      <td>1</td>\n",
       "      <td>1</td>\n",
       "      <td>7</td>\n",
       "      <td>2</td>\n",
       "      <td>?</td>\n",
       "      <td>?</td>\n",
       "      <td>44</td>\n",
       "      <td>1</td>\n",
       "      <td>16</td>\n",
       "      <td>0</td>\n",
       "      <td>0</td>\n",
       "      <td>0</td>\n",
       "      <td>8</td>\n",
       "      <td>250.43</td>\n",
       "      <td>403</td>\n",
       "      <td>7</td>\n",
       "      <td>None</td>\n",
       "      <td>None</td>\n",
       "      <td>No</td>\n",
       "      <td>No</td>\n",
       "      <td>No</td>\n",
       "      <td>No</td>\n",
       "      <td>No</td>\n",
       "      <td>No</td>\n",
       "      <td>No</td>\n",
       "      <td>No</td>\n",
       "      <td>No</td>\n",
       "      <td>No</td>\n",
       "      <td>No</td>\n",
       "      <td>No</td>\n",
       "      <td>No</td>\n",
       "      <td>No</td>\n",
       "      <td>No</td>\n",
       "      <td>No</td>\n",
       "      <td>No</td>\n",
       "      <td>Up</td>\n",
       "      <td>No</td>\n",
       "      <td>No</td>\n",
       "      <td>No</td>\n",
       "      <td>No</td>\n",
       "      <td>No</td>\n",
       "      <td>Ch</td>\n",
       "      <td>Yes</td>\n",
       "      <td>NO</td>\n",
       "    </tr>\n",
       "    <tr>\n",
       "      <th>4</th>\n",
       "      <td>16680</td>\n",
       "      <td>42519267</td>\n",
       "      <td>Caucasian</td>\n",
       "      <td>Male</td>\n",
       "      <td>[40-50)</td>\n",
       "      <td>?</td>\n",
       "      <td>1</td>\n",
       "      <td>1</td>\n",
       "      <td>7</td>\n",
       "      <td>1</td>\n",
       "      <td>?</td>\n",
       "      <td>?</td>\n",
       "      <td>51</td>\n",
       "      <td>0</td>\n",
       "      <td>8</td>\n",
       "      <td>0</td>\n",
       "      <td>0</td>\n",
       "      <td>0</td>\n",
       "      <td>197</td>\n",
       "      <td>157</td>\n",
       "      <td>250</td>\n",
       "      <td>5</td>\n",
       "      <td>None</td>\n",
       "      <td>None</td>\n",
       "      <td>No</td>\n",
       "      <td>No</td>\n",
       "      <td>No</td>\n",
       "      <td>No</td>\n",
       "      <td>No</td>\n",
       "      <td>No</td>\n",
       "      <td>Steady</td>\n",
       "      <td>No</td>\n",
       "      <td>No</td>\n",
       "      <td>No</td>\n",
       "      <td>No</td>\n",
       "      <td>No</td>\n",
       "      <td>No</td>\n",
       "      <td>No</td>\n",
       "      <td>No</td>\n",
       "      <td>No</td>\n",
       "      <td>No</td>\n",
       "      <td>Steady</td>\n",
       "      <td>No</td>\n",
       "      <td>No</td>\n",
       "      <td>No</td>\n",
       "      <td>No</td>\n",
       "      <td>No</td>\n",
       "      <td>Ch</td>\n",
       "      <td>Yes</td>\n",
       "      <td>NO</td>\n",
       "    </tr>\n",
       "  </tbody>\n",
       "</table>\n",
       "</div>"
      ],
      "text/plain": [
       "   encounter_id  patient_nbr             race  gender      age weight  \\\n",
       "0       2278392      8222157        Caucasian  Female   [0-10)      ?   \n",
       "1        149190     55629189        Caucasian  Female  [10-20)      ?   \n",
       "2         64410     86047875  AfricanAmerican  Female  [20-30)      ?   \n",
       "3        500364     82442376        Caucasian    Male  [30-40)      ?   \n",
       "4         16680     42519267        Caucasian    Male  [40-50)      ?   \n",
       "\n",
       "   admission_type_id  discharge_disposition_id  admission_source_id  \\\n",
       "0                  6                        25                    1   \n",
       "1                  1                         1                    7   \n",
       "2                  1                         1                    7   \n",
       "3                  1                         1                    7   \n",
       "4                  1                         1                    7   \n",
       "\n",
       "   time_in_hospital payer_code         medical_specialty  num_lab_procedures  \\\n",
       "0                 1          ?  Pediatrics-Endocrinology                  41   \n",
       "1                 3          ?                         ?                  59   \n",
       "2                 2          ?                         ?                  11   \n",
       "3                 2          ?                         ?                  44   \n",
       "4                 1          ?                         ?                  51   \n",
       "\n",
       "   num_procedures  num_medications  number_outpatient  number_emergency  \\\n",
       "0               0                1                  0                 0   \n",
       "1               0               18                  0                 0   \n",
       "2               5               13                  2                 0   \n",
       "3               1               16                  0                 0   \n",
       "4               0                8                  0                 0   \n",
       "\n",
       "   number_inpatient  diag_1  diag_2 diag_3  number_diagnoses max_glu_serum  \\\n",
       "0                 0  250.83       ?      ?                 1          None   \n",
       "1                 0     276  250.01    255                 9          None   \n",
       "2                 1     648     250    V27                 6          None   \n",
       "3                 0       8  250.43    403                 7          None   \n",
       "4                 0     197     157    250                 5          None   \n",
       "\n",
       "  A1Cresult metformin repaglinide nateglinide chlorpropamide glimepiride  \\\n",
       "0      None        No          No          No             No          No   \n",
       "1      None        No          No          No             No          No   \n",
       "2      None        No          No          No             No          No   \n",
       "3      None        No          No          No             No          No   \n",
       "4      None        No          No          No             No          No   \n",
       "\n",
       "  acetohexamide glipizide glyburide tolbutamide pioglitazone rosiglitazone  \\\n",
       "0            No        No        No          No           No            No   \n",
       "1            No        No        No          No           No            No   \n",
       "2            No    Steady        No          No           No            No   \n",
       "3            No        No        No          No           No            No   \n",
       "4            No    Steady        No          No           No            No   \n",
       "\n",
       "  acarbose miglitol troglitazone tolazamide examide citoglipton insulin  \\\n",
       "0       No       No           No         No      No          No      No   \n",
       "1       No       No           No         No      No          No      Up   \n",
       "2       No       No           No         No      No          No      No   \n",
       "3       No       No           No         No      No          No      Up   \n",
       "4       No       No           No         No      No          No  Steady   \n",
       "\n",
       "  glyburide-metformin glipizide-metformin glimepiride-pioglitazone  \\\n",
       "0                  No                  No                       No   \n",
       "1                  No                  No                       No   \n",
       "2                  No                  No                       No   \n",
       "3                  No                  No                       No   \n",
       "4                  No                  No                       No   \n",
       "\n",
       "  metformin-rosiglitazone metformin-pioglitazone change diabetesMed readmitted  \n",
       "0                      No                     No     No          No         NO  \n",
       "1                      No                     No     Ch         Yes        >30  \n",
       "2                      No                     No     No         Yes         NO  \n",
       "3                      No                     No     Ch         Yes         NO  \n",
       "4                      No                     No     Ch         Yes         NO  "
      ]
     },
     "execution_count": 4,
     "metadata": {},
     "output_type": "execute_result"
    }
   ],
   "source": [
    "df = pd.read_csv(\"diabetics.csv\")\n",
    "df.head()"
   ]
  },
  {
   "cell_type": "markdown",
   "id": "e06bb101-8f2b-4ffc-ab59-0a757433d421",
   "metadata": {},
   "source": [
    "### Perform Data Exploration"
   ]
  },
  {
   "cell_type": "code",
   "execution_count": 5,
   "id": "de48f335-6eec-4f1d-88ca-1ebe06dad0c7",
   "metadata": {},
   "outputs": [
    {
     "name": "stdout",
     "output_type": "stream",
     "text": [
      "<class 'pandas.core.frame.DataFrame'>\n",
      "RangeIndex: 101766 entries, 0 to 101765\n",
      "Data columns (total 50 columns):\n",
      " #   Column                    Non-Null Count   Dtype \n",
      "---  ------                    --------------   ----- \n",
      " 0   encounter_id              101766 non-null  int64 \n",
      " 1   patient_nbr               101766 non-null  int64 \n",
      " 2   race                      101766 non-null  object\n",
      " 3   gender                    101766 non-null  object\n",
      " 4   age                       101766 non-null  object\n",
      " 5   weight                    101766 non-null  object\n",
      " 6   admission_type_id         101766 non-null  int64 \n",
      " 7   discharge_disposition_id  101766 non-null  int64 \n",
      " 8   admission_source_id       101766 non-null  int64 \n",
      " 9   time_in_hospital          101766 non-null  int64 \n",
      " 10  payer_code                101766 non-null  object\n",
      " 11  medical_specialty         101766 non-null  object\n",
      " 12  num_lab_procedures        101766 non-null  int64 \n",
      " 13  num_procedures            101766 non-null  int64 \n",
      " 14  num_medications           101766 non-null  int64 \n",
      " 15  number_outpatient         101766 non-null  int64 \n",
      " 16  number_emergency          101766 non-null  int64 \n",
      " 17  number_inpatient          101766 non-null  int64 \n",
      " 18  diag_1                    101766 non-null  object\n",
      " 19  diag_2                    101766 non-null  object\n",
      " 20  diag_3                    101766 non-null  object\n",
      " 21  number_diagnoses          101766 non-null  int64 \n",
      " 22  max_glu_serum             101766 non-null  object\n",
      " 23  A1Cresult                 101766 non-null  object\n",
      " 24  metformin                 101766 non-null  object\n",
      " 25  repaglinide               101766 non-null  object\n",
      " 26  nateglinide               101766 non-null  object\n",
      " 27  chlorpropamide            101766 non-null  object\n",
      " 28  glimepiride               101766 non-null  object\n",
      " 29  acetohexamide             101766 non-null  object\n",
      " 30  glipizide                 101766 non-null  object\n",
      " 31  glyburide                 101766 non-null  object\n",
      " 32  tolbutamide               101766 non-null  object\n",
      " 33  pioglitazone              101766 non-null  object\n",
      " 34  rosiglitazone             101766 non-null  object\n",
      " 35  acarbose                  101766 non-null  object\n",
      " 36  miglitol                  101766 non-null  object\n",
      " 37  troglitazone              101766 non-null  object\n",
      " 38  tolazamide                101766 non-null  object\n",
      " 39  examide                   101766 non-null  object\n",
      " 40  citoglipton               101766 non-null  object\n",
      " 41  insulin                   101766 non-null  object\n",
      " 42  glyburide-metformin       101766 non-null  object\n",
      " 43  glipizide-metformin       101766 non-null  object\n",
      " 44  glimepiride-pioglitazone  101766 non-null  object\n",
      " 45  metformin-rosiglitazone   101766 non-null  object\n",
      " 46  metformin-pioglitazone    101766 non-null  object\n",
      " 47  change                    101766 non-null  object\n",
      " 48  diabetesMed               101766 non-null  object\n",
      " 49  readmitted                101766 non-null  object\n",
      "dtypes: int64(13), object(37)\n",
      "memory usage: 38.8+ MB\n"
     ]
    }
   ],
   "source": [
    "df.info()"
   ]
  },
  {
   "cell_type": "markdown",
   "id": "c5db6280-3ac1-4168-8211-b2cae97df179",
   "metadata": {},
   "source": [
    "### Identitying Necessary Features for modelling\n",
    "\n",
    "From literature search some of the factors that causes readmissions include:\n",
    "* Early discharge\n",
    "* Demographic factors\n",
    "* Discharge disposition\n",
    "* Severity of health condition\n",
    "* Self-discharge\n",
    "\n",
    "In view of the above factors, the features that are connected with the factors will be carefully selected forthis analysis"
   ]
  },
  {
   "cell_type": "code",
   "execution_count": 6,
   "id": "f4678528-33a4-4e67-bea3-d7716418bf21",
   "metadata": {},
   "outputs": [
    {
     "data": {
      "text/plain": [
       "(101766, 50)"
      ]
     },
     "execution_count": 6,
     "metadata": {},
     "output_type": "execute_result"
    }
   ],
   "source": [
    "# Check for duplicate rows\n",
    "\n",
    "df.shape"
   ]
  },
  {
   "cell_type": "code",
   "execution_count": 7,
   "id": "f10f8b5b-94dc-413a-a5e7-1c46a77db52d",
   "metadata": {},
   "outputs": [],
   "source": [
    "duplicateRows = df[df.duplicated()]"
   ]
  },
  {
   "cell_type": "code",
   "execution_count": 8,
   "id": "bb5a5762-98fb-4e32-acc5-237632fee8ff",
   "metadata": {},
   "outputs": [
    {
     "data": {
      "text/html": [
       "<div>\n",
       "<style scoped>\n",
       "    .dataframe tbody tr th:only-of-type {\n",
       "        vertical-align: middle;\n",
       "    }\n",
       "\n",
       "    .dataframe tbody tr th {\n",
       "        vertical-align: top;\n",
       "    }\n",
       "\n",
       "    .dataframe thead th {\n",
       "        text-align: right;\n",
       "    }\n",
       "</style>\n",
       "<table border=\"1\" class=\"dataframe\">\n",
       "  <thead>\n",
       "    <tr style=\"text-align: right;\">\n",
       "      <th></th>\n",
       "      <th>encounter_id</th>\n",
       "      <th>patient_nbr</th>\n",
       "      <th>race</th>\n",
       "      <th>gender</th>\n",
       "      <th>age</th>\n",
       "      <th>weight</th>\n",
       "      <th>admission_type_id</th>\n",
       "      <th>discharge_disposition_id</th>\n",
       "      <th>admission_source_id</th>\n",
       "      <th>time_in_hospital</th>\n",
       "      <th>payer_code</th>\n",
       "      <th>medical_specialty</th>\n",
       "      <th>num_lab_procedures</th>\n",
       "      <th>num_procedures</th>\n",
       "      <th>num_medications</th>\n",
       "      <th>number_outpatient</th>\n",
       "      <th>number_emergency</th>\n",
       "      <th>number_inpatient</th>\n",
       "      <th>diag_1</th>\n",
       "      <th>diag_2</th>\n",
       "      <th>diag_3</th>\n",
       "      <th>number_diagnoses</th>\n",
       "      <th>max_glu_serum</th>\n",
       "      <th>A1Cresult</th>\n",
       "      <th>metformin</th>\n",
       "      <th>repaglinide</th>\n",
       "      <th>nateglinide</th>\n",
       "      <th>chlorpropamide</th>\n",
       "      <th>glimepiride</th>\n",
       "      <th>acetohexamide</th>\n",
       "      <th>glipizide</th>\n",
       "      <th>glyburide</th>\n",
       "      <th>tolbutamide</th>\n",
       "      <th>pioglitazone</th>\n",
       "      <th>rosiglitazone</th>\n",
       "      <th>acarbose</th>\n",
       "      <th>miglitol</th>\n",
       "      <th>troglitazone</th>\n",
       "      <th>tolazamide</th>\n",
       "      <th>examide</th>\n",
       "      <th>citoglipton</th>\n",
       "      <th>insulin</th>\n",
       "      <th>glyburide-metformin</th>\n",
       "      <th>glipizide-metformin</th>\n",
       "      <th>glimepiride-pioglitazone</th>\n",
       "      <th>metformin-rosiglitazone</th>\n",
       "      <th>metformin-pioglitazone</th>\n",
       "      <th>change</th>\n",
       "      <th>diabetesMed</th>\n",
       "      <th>readmitted</th>\n",
       "    </tr>\n",
       "  </thead>\n",
       "  <tbody>\n",
       "  </tbody>\n",
       "</table>\n",
       "</div>"
      ],
      "text/plain": [
       "Empty DataFrame\n",
       "Columns: [encounter_id, patient_nbr, race, gender, age, weight, admission_type_id, discharge_disposition_id, admission_source_id, time_in_hospital, payer_code, medical_specialty, num_lab_procedures, num_procedures, num_medications, number_outpatient, number_emergency, number_inpatient, diag_1, diag_2, diag_3, number_diagnoses, max_glu_serum, A1Cresult, metformin, repaglinide, nateglinide, chlorpropamide, glimepiride, acetohexamide, glipizide, glyburide, tolbutamide, pioglitazone, rosiglitazone, acarbose, miglitol, troglitazone, tolazamide, examide, citoglipton, insulin, glyburide-metformin, glipizide-metformin, glimepiride-pioglitazone, metformin-rosiglitazone, metformin-pioglitazone, change, diabetesMed, readmitted]\n",
       "Index: []"
      ]
     },
     "execution_count": 8,
     "metadata": {},
     "output_type": "execute_result"
    }
   ],
   "source": [
    "duplicateRows"
   ]
  },
  {
   "cell_type": "code",
   "execution_count": 9,
   "id": "d782b389-c882-49a3-b5de-e5b6da2ac171",
   "metadata": {},
   "outputs": [
    {
     "data": {
      "text/plain": [
       "Caucasian          76099\n",
       "AfricanAmerican    19210\n",
       "?                   2273\n",
       "Hispanic            2037\n",
       "Other               1506\n",
       "Asian                641\n",
       "Name: race, dtype: int64"
      ]
     },
     "execution_count": 9,
     "metadata": {},
     "output_type": "execute_result"
    }
   ],
   "source": [
    "# explore the race feature--a demographic feature cogent for prediction\n",
    "\n",
    "df['race'].value_counts()"
   ]
  },
  {
   "cell_type": "markdown",
   "id": "39baa23d-fb3e-4a39-aa60-dd0cec6c9f24",
   "metadata": {},
   "source": [
    "Given that race which is a socio-demographic status that has been identified as one of the most important factors determinig readmissions, we shall delete all rows with no identification of race."
   ]
  },
  {
   "cell_type": "code",
   "execution_count": 10,
   "id": "cf58325b-9505-4c79-9ee9-8298d53a0942",
   "metadata": {},
   "outputs": [],
   "source": [
    "# Remove rows with '?'\n",
    "\n",
    "df = df[df['race']!='?']"
   ]
  },
  {
   "cell_type": "code",
   "execution_count": 11,
   "id": "b076b1a0-3054-4fa3-9319-d150f0cdd2de",
   "metadata": {},
   "outputs": [
    {
     "data": {
      "text/plain": [
       "(99493, 50)"
      ]
     },
     "execution_count": 11,
     "metadata": {},
     "output_type": "execute_result"
    }
   ],
   "source": [
    "df.shape"
   ]
  },
  {
   "cell_type": "code",
   "execution_count": 12,
   "id": "dbefea3e-48f2-4aef-9f8f-d7110c113b97",
   "metadata": {},
   "outputs": [
    {
     "data": {
      "text/plain": [
       "[70-80)     25469\n",
       "[60-70)     21988\n",
       "[50-60)     16895\n",
       "[80-90)     16800\n",
       "[40-50)      9465\n",
       "[30-40)      3699\n",
       "[90-100)     2724\n",
       "[20-30)      1611\n",
       "[10-20)       682\n",
       "[0-10)        160\n",
       "Name: age, dtype: int64"
      ]
     },
     "execution_count": 12,
     "metadata": {},
     "output_type": "execute_result"
    }
   ],
   "source": [
    "# Explore age\n",
    "\n",
    "df['age'].value_counts()"
   ]
  },
  {
   "cell_type": "code",
   "execution_count": 13,
   "id": "5656a344-814a-4ed2-9ce6-c0ec858b8e55",
   "metadata": {},
   "outputs": [
    {
     "data": {
      "text/plain": [
       "readmitted\n",
       "<30    11169\n",
       ">30    35007\n",
       "NO     53317\n",
       "Name: age, dtype: int64"
      ]
     },
     "execution_count": 13,
     "metadata": {},
     "output_type": "execute_result"
    }
   ],
   "source": [
    "df['age'].groupby(df.readmitted).count()"
   ]
  },
  {
   "cell_type": "markdown",
   "id": "f2664571-ff8e-4e44-ad56-1b8a0523ede4",
   "metadata": {},
   "source": [
    "This analysis is based on readmission within 30 days, hence, all readmissions beyond 30 days shall be excluded."
   ]
  },
  {
   "cell_type": "code",
   "execution_count": 14,
   "id": "5be74068-4de3-4be6-9144-f474350b939a",
   "metadata": {},
   "outputs": [],
   "source": [
    "# Adjust for readmitted variable to remove >30 days\n",
    "\n",
    "df = df[df['readmitted']!='>30']"
   ]
  },
  {
   "cell_type": "code",
   "execution_count": 15,
   "id": "50262e2e-d5ea-4af5-a2e3-c39e3b7ba289",
   "metadata": {},
   "outputs": [
    {
     "data": {
      "text/plain": [
       "(64486, 50)"
      ]
     },
     "execution_count": 15,
     "metadata": {},
     "output_type": "execute_result"
    }
   ],
   "source": [
    "df.shape"
   ]
  },
  {
   "cell_type": "code",
   "execution_count": 16,
   "id": "372e4704-de77-4cf7-8d49-1638f49aa098",
   "metadata": {},
   "outputs": [
    {
     "data": {
      "text/plain": [
       "?            62876\n",
       "[75-100)       637\n",
       "[50-75)        488\n",
       "[100-125)      321\n",
       "[125-150)       69\n",
       "[25-50)         53\n",
       "[150-175)       19\n",
       "[0-25)          17\n",
       "[175-200)        6\n",
       "Name: weight, dtype: int64"
      ]
     },
     "execution_count": 16,
     "metadata": {},
     "output_type": "execute_result"
    }
   ],
   "source": [
    "df['weight'].value_counts()"
   ]
  },
  {
   "cell_type": "markdown",
   "id": "2f62d8ce-f354-4c3b-8e41-75a0c7f0d67e",
   "metadata": {},
   "source": [
    "We'll delete the weight column because the number of unknown weight is overwelming"
   ]
  },
  {
   "cell_type": "code",
   "execution_count": 17,
   "id": "1d096407-b3af-45db-aadd-bacd7c7a8c01",
   "metadata": {},
   "outputs": [
    {
     "data": {
      "text/plain": [
       "1    33897\n",
       "3    12842\n",
       "2    11441\n",
       "6     3025\n",
       "5     3019\n",
       "8      234\n",
       "7       20\n",
       "4        8\n",
       "Name: admission_type_id, dtype: int64"
      ]
     },
     "execution_count": 17,
     "metadata": {},
     "output_type": "execute_result"
    }
   ],
   "source": [
    "# Admission type will be crucial to our analysis\n",
    "\n",
    "df['admission_type_id'].value_counts()"
   ]
  },
  {
   "cell_type": "code",
   "execution_count": 18,
   "id": "921d857e-ba23-406c-9879-31636affe344",
   "metadata": {},
   "outputs": [],
   "source": [
    "# Recode admission type_id to reflect its true meaning\n",
    "\n",
    "def admission_type(x):\n",
    "    if x == 1:\n",
    "        return \"Emergency\"\n",
    "    elif x == 2:\n",
    "        return \"Urgent\"\n",
    "    elif x == 3:\n",
    "        return \"Election\"\n",
    "    elif x == 5:\n",
    "        return \"Trauma\"\n",
    "    else:\n",
    "        return \"Others\""
   ]
  },
  {
   "cell_type": "code",
   "execution_count": 19,
   "id": "d2cc8153-c76d-4d17-8a91-ab7d42a8757f",
   "metadata": {},
   "outputs": [],
   "source": [
    "df['admissions'] = df['admission_type_id'].apply(admission_type)"
   ]
  },
  {
   "cell_type": "code",
   "execution_count": 20,
   "id": "d6e58409-cfdd-4264-97a3-1a665dfd71ab",
   "metadata": {},
   "outputs": [
    {
     "data": {
      "text/plain": [
       "Emergency    33897\n",
       "Election     12842\n",
       "Urgent       11441\n",
       "Others        3287\n",
       "Trauma        3019\n",
       "Name: admissions, dtype: int64"
      ]
     },
     "execution_count": 20,
     "metadata": {},
     "output_type": "execute_result"
    }
   ],
   "source": [
    "df['admissions'].value_counts()"
   ]
  },
  {
   "cell_type": "code",
   "execution_count": 21,
   "id": "572c3c15-14b1-4b39-93d6-fb39ca67232f",
   "metadata": {},
   "outputs": [
    {
     "data": {
      "text/plain": [
       "1     37582\n",
       "3      8796\n",
       "6      7403\n",
       "18     2646\n",
       "11     1608\n",
       "22     1467\n",
       "2      1402\n",
       "5       804\n",
       "25      603\n",
       "4       495\n",
       "7       392\n",
       "14      362\n",
       "13      361\n",
       "23      263\n",
       "28      104\n",
       "8        69\n",
       "15       45\n",
       "24       32\n",
       "9        19\n",
       "17        9\n",
       "19        8\n",
       "16        5\n",
       "27        4\n",
       "12        3\n",
       "10        2\n",
       "20        2\n",
       "Name: discharge_disposition_id, dtype: int64"
      ]
     },
     "execution_count": 21,
     "metadata": {},
     "output_type": "execute_result"
    }
   ],
   "source": [
    "# Discharge disposition ID is also a crucial variable\n",
    "\n",
    "df['discharge_disposition_id'].value_counts()"
   ]
  },
  {
   "cell_type": "code",
   "execution_count": 22,
   "id": "3209dc4c-060f-408d-b4a3-00dfc6665304",
   "metadata": {},
   "outputs": [],
   "source": [
    "# Recode the variable to reflect the true meanings\n",
    "\n",
    "def discharge(x):\n",
    "    if x == 1:\n",
    "        return \"Routine_Discharge\"\n",
    "    elif x == 2:\n",
    "        return \"GH_In_patientcare\"\n",
    "    elif x == 3:\n",
    "        return \"Skilled_Nursing_Faciltiy\"\n",
    "    elif x == 4:\n",
    "        return \"Intermediate_care_facility\"\n",
    "    elif x == 5:\n",
    "        return \"Designated_cancer_center\"\n",
    "    elif x == 6:\n",
    "        return \"Home_care_health\"\n",
    "    elif x == 7:\n",
    "        return \"Against_Medical_Advice\"\n",
    "    else:\n",
    "        return \"Reserved_For_national_Assignment\""
   ]
  },
  {
   "cell_type": "code",
   "execution_count": 23,
   "id": "57741191-36b0-4a0d-83bc-80a1e12f9666",
   "metadata": {},
   "outputs": [],
   "source": [
    "df['discharge'] = df['discharge_disposition_id'].apply(discharge)"
   ]
  },
  {
   "cell_type": "code",
   "execution_count": 24,
   "id": "5f5b0ba1-6632-406b-ab78-1f2b933c7375",
   "metadata": {},
   "outputs": [
    {
     "data": {
      "text/plain": [
       "Routine_Discharge                   37582\n",
       "Skilled_Nursing_Faciltiy             8796\n",
       "Reserved_For_national_Assignment     7612\n",
       "Home_care_health                     7403\n",
       "GH_In_patientcare                    1402\n",
       "Designated_cancer_center              804\n",
       "Intermediate_care_facility            495\n",
       "Against_Medical_Advice                392\n",
       "Name: discharge, dtype: int64"
      ]
     },
     "execution_count": 24,
     "metadata": {},
     "output_type": "execute_result"
    }
   ],
   "source": [
    "df['discharge'].value_counts()"
   ]
  },
  {
   "cell_type": "code",
   "execution_count": 25,
   "id": "8b61d7b5-5a22-4a20-abeb-7924fe521949",
   "metadata": {},
   "outputs": [
    {
     "data": {
      "text/plain": [
       "7     35238\n",
       "1     19363\n",
       "17     4270\n",
       "4      2338\n",
       "6      1630\n",
       "2       744\n",
       "5       614\n",
       "3       129\n",
       "20       79\n",
       "9        48\n",
       "8        12\n",
       "22        9\n",
       "10        5\n",
       "14        2\n",
       "11        2\n",
       "25        2\n",
       "13        1\n",
       "Name: admission_source_id, dtype: int64"
      ]
     },
     "execution_count": 25,
     "metadata": {},
     "output_type": "execute_result"
    }
   ],
   "source": [
    "# Check the source of admission\n",
    "\n",
    "df['admission_source_id'].value_counts()"
   ]
  },
  {
   "cell_type": "code",
   "execution_count": 26,
   "id": "3f5678c7-579c-4999-a8e2-0800c2683d38",
   "metadata": {},
   "outputs": [],
   "source": [
    "# Recode to get real meaning\n",
    "\n",
    "def admission_source(x):\n",
    "    if x == 1:\n",
    "        return \"Physcian Referral\"\n",
    "    elif x == 2:\n",
    "        return \"Clinic Referral\"\n",
    "    elif x == 7:\n",
    "        return \"Emergency_Room\"\n",
    "    elif x == 4:\n",
    "        return \"Transfer_Hospital\"\n",
    "    elif x == 5:\n",
    "        return \"Transfer_SNF\"\n",
    "    elif x == 6:\n",
    "        return \"Transfer_Another_Hospital\"\n",
    "    elif x == 17:\n",
    "        return \"Undefined\"\n",
    "    else:\n",
    "        return \"Others\""
   ]
  },
  {
   "cell_type": "code",
   "execution_count": 27,
   "id": "e1021783-0492-4f5e-bd7e-5259ffbac8f9",
   "metadata": {},
   "outputs": [],
   "source": [
    "df['adm_source'] = df['admission_source_id'].apply(admission_source)"
   ]
  },
  {
   "cell_type": "code",
   "execution_count": 28,
   "id": "d13e10e7-e71d-4a10-b3d4-28a2accbabbe",
   "metadata": {},
   "outputs": [
    {
     "data": {
      "text/plain": [
       "Emergency_Room               35238\n",
       "Physcian Referral            19363\n",
       "Undefined                     4270\n",
       "Transfer_Hospital             2338\n",
       "Transfer_Another_Hospital     1630\n",
       "Clinic Referral                744\n",
       "Transfer_SNF                   614\n",
       "Others                         289\n",
       "Name: adm_source, dtype: int64"
      ]
     },
     "execution_count": 28,
     "metadata": {},
     "output_type": "execute_result"
    }
   ],
   "source": [
    "df['adm_source'].value_counts()"
   ]
  },
  {
   "cell_type": "markdown",
   "id": "2329c0c5-4883-41e3-a06a-0d6f6e5cb695",
   "metadata": {},
   "source": [
    "Transfer source gives an indication of the severity of the illness which can help in understanding whether a patient was discharged prematurely from the facility.  We can as well remove the 'Undefined' source since this variable is an important one for this analysis."
   ]
  },
  {
   "cell_type": "code",
   "execution_count": 29,
   "id": "a1df9154-3e64-4834-90da-744832fde975",
   "metadata": {},
   "outputs": [],
   "source": [
    "df = df[df['adm_source']!='Undefined']"
   ]
  },
  {
   "cell_type": "code",
   "execution_count": 30,
   "id": "82fe58ac-9979-48a4-8955-8e46a1267352",
   "metadata": {},
   "outputs": [
    {
     "data": {
      "text/plain": [
       "(60216, 53)"
      ]
     },
     "execution_count": 30,
     "metadata": {},
     "output_type": "execute_result"
    }
   ],
   "source": [
    "df.shape"
   ]
  },
  {
   "cell_type": "markdown",
   "id": "49c76401-44da-4e2f-90df-186e07b977c7",
   "metadata": {},
   "source": [
    "#### Time the hospital\n",
    "\n",
    "This is an important feature according to the literature.  Patients that are discharged prematurely ended up being readmitted withing a short period of time.  Given that the maximumn number of days in the hospital is 14 days, we shall create categories to reflect the length of stay in the hospital"
   ]
  },
  {
   "cell_type": "code",
   "execution_count": 31,
   "id": "94595106-ff3d-40f1-a83f-69fc58399682",
   "metadata": {},
   "outputs": [
    {
     "data": {
      "text/plain": [
       "1      8778\n",
       "2     10250\n",
       "3     10540\n",
       "4      8040\n",
       "5      5836\n",
       "6      4356\n",
       "7      3429\n",
       "8      2585\n",
       "9      1752\n",
       "10     1386\n",
       "11     1059\n",
       "12      860\n",
       "13      724\n",
       "14      621\n",
       "Name: time_in_hospital, dtype: int64"
      ]
     },
     "execution_count": 31,
     "metadata": {},
     "output_type": "execute_result"
    }
   ],
   "source": [
    "df['time_in_hospital'].value_counts().sort_index()"
   ]
  },
  {
   "cell_type": "code",
   "execution_count": 32,
   "id": "bebb21ef-c971-43c9-841c-e82d0c331dca",
   "metadata": {},
   "outputs": [],
   "source": [
    "def duration(x):\n",
    "    if x == 1:\n",
    "        return '1 day'\n",
    "    elif x in [2,3,5]:\n",
    "        return '2-5 days'\n",
    "    elif x in [6,7,8]:\n",
    "        return '6-8 days'\n",
    "    elif x in [9,10]:\n",
    "        return '9-10 days'\n",
    "    else:\n",
    "        return '>10 days'"
   ]
  },
  {
   "cell_type": "code",
   "execution_count": 33,
   "id": "9fb6333a-b1ad-49e0-888b-8550dffe3c41",
   "metadata": {},
   "outputs": [],
   "source": [
    "df['hospital_duration'] = df['time_in_hospital'].apply(duration)"
   ]
  },
  {
   "cell_type": "code",
   "execution_count": 34,
   "id": "7eec0540-3691-4499-b339-2328b3835064",
   "metadata": {},
   "outputs": [
    {
     "data": {
      "text/plain": [
       "2-5 days     26626\n",
       ">10 days     11304\n",
       "6-8 days     10370\n",
       "1 day         8778\n",
       "9-10 days     3138\n",
       "Name: hospital_duration, dtype: int64"
      ]
     },
     "execution_count": 34,
     "metadata": {},
     "output_type": "execute_result"
    }
   ],
   "source": [
    "df['hospital_duration'].value_counts()"
   ]
  },
  {
   "cell_type": "markdown",
   "id": "f25f828e-0aa4-4cad-a87f-06bfc4f4581e",
   "metadata": {},
   "source": [
    "### Medical Speciality\n",
    "\n",
    "We did not see some arguements pointing to the role of medical speciality in readmissions.  However, we would like to see if this plays a crucial role in this project."
   ]
  },
  {
   "cell_type": "code",
   "execution_count": 35,
   "id": "ff4cfc6f-5cac-4235-bb60-aadd51fbb1ae",
   "metadata": {},
   "outputs": [
    {
     "data": {
      "text/plain": [
       "?                                       29192\n",
       "InternalMedicine                         9319\n",
       "Emergency/Trauma                         4539\n",
       "Family/GeneralPractice                   3732\n",
       "Cardiology                               2924\n",
       "Surgery-General                          1749\n",
       "Orthopedics                              1051\n",
       "Nephrology                                844\n",
       "Radiologist                               740\n",
       "Orthopedics-Reconstructive                635\n",
       "ObstetricsandGynecology                   512\n",
       "Surgery-Cardiovascular/Thoracic           502\n",
       "Psychiatry                                497\n",
       "Pulmonology                               492\n",
       "Urology                                   439\n",
       "Surgery-Neuro                             381\n",
       "Surgery-Vascular                          333\n",
       "Gastroenterology                          322\n",
       "PhysicalMedicineandRehabilitation         282\n",
       "Oncology                                  247\n",
       "Pediatrics                                169\n",
       "Neurology                                 152\n",
       "Pediatrics-Endocrinology                  136\n",
       "Otolaryngology                             85\n",
       "Endocrinology                              79\n",
       "Surgery-Thoracic                           78\n",
       "Surgery-Cardiovascular                     74\n",
       "Psychology                                 61\n",
       "Pediatrics-CriticalCare                    58\n",
       "Hematology                                 58\n",
       "Hematology/Oncology                        48\n",
       "Gynecology                                 47\n",
       "Podiatry                                   45\n",
       "Hospitalist                                38\n",
       "Radiology                                  37\n",
       "Surgeon                                    37\n",
       "Surgery-Plastic                            27\n",
       "Ophthalmology                              25\n",
       "SurgicalSpecialty                          24\n",
       "InfectiousDiseases                         23\n",
       "Osteopath                                  21\n",
       "Obsterics&Gynecology-GynecologicOnco       19\n",
       "Obstetrics                                 17\n",
       "Anesthesiology-Pediatric                   14\n",
       "Rheumatology                               12\n",
       "Anesthesiology                              9\n",
       "Pediatrics-Pulmonology                      8\n",
       "Surgery-Colon&Rectal                        8\n",
       "Surgery-Maxillofacial                       7\n",
       "OutreachServices                            7\n",
       "Pathology                                   7\n",
       "Endocrinology-Metabolism                    7\n",
       "Pediatrics-Neurology                        6\n",
       "Surgery-Pediatric                           6\n",
       "DCPTEAM                                     5\n",
       "PhysicianNotFound                           5\n",
       "Psychiatry-Child/Adolescent                 5\n",
       "AllergyandImmunology                        4\n",
       "Pediatrics-Hematology-Oncology              4\n",
       "Cardiology-Pediatric                        3\n",
       "Pediatrics-EmergencyMedicine                2\n",
       "Neurophysiology                             1\n",
       "Perinatology                                1\n",
       "Proctology                                  1\n",
       "Dentistry                                   1\n",
       "Speech                                      1\n",
       "Psychiatry-Addictive                        1\n",
       "Resident                                    1\n",
       "Name: medical_specialty, dtype: int64"
      ]
     },
     "execution_count": 35,
     "metadata": {},
     "output_type": "execute_result"
    }
   ],
   "source": [
    "df['medical_specialty'].value_counts()"
   ]
  },
  {
   "cell_type": "code",
   "execution_count": 116,
   "id": "593b80e8-9252-4aad-a7aa-104b11130f14",
   "metadata": {},
   "outputs": [],
   "source": [
    "# Based on the distribution of the dataset, we shall select rows in which we have lots of patients and medical specialty is provided\n",
    "\n",
    "speciality = ['Emergency', 'Family/GeneralPractice','Cardiology','Surgery-General','Nephrology'] \n",
    "df = df[df['medical_specialty'].isin(speciality)] "
   ]
  },
  {
   "cell_type": "code",
   "execution_count": 37,
   "id": "b3b5b311-b854-47d1-ab70-a8b90e27f074",
   "metadata": {},
   "outputs": [
    {
     "data": {
      "text/plain": [
       "(9249, 54)"
      ]
     },
     "execution_count": 37,
     "metadata": {},
     "output_type": "execute_result"
    }
   ],
   "source": [
    "df.shape"
   ]
  },
  {
   "cell_type": "code",
   "execution_count": 38,
   "id": "86eeadf8-25ca-4d61-b2ff-50c84f6f81fd",
   "metadata": {},
   "outputs": [
    {
     "data": {
      "text/plain": [
       "?     4073\n",
       "MC    2606\n",
       "BC     575\n",
       "SP     525\n",
       "UN     413\n",
       "MD     322\n",
       "HM     290\n",
       "CP     173\n",
       "CM     140\n",
       "OG      60\n",
       "DM      37\n",
       "PO      11\n",
       "WC      10\n",
       "CH       8\n",
       "MP       4\n",
       "OT       2\n",
       "Name: payer_code, dtype: int64"
      ]
     },
     "execution_count": 38,
     "metadata": {},
     "output_type": "execute_result"
    }
   ],
   "source": [
    "# Payer_code:  even though we do not see a clear logical association between payer code and readmission, \n",
    "#I have a suspicion that monetary issues may play a role\n",
    "\n",
    "df['payer_code'].value_counts()"
   ]
  },
  {
   "cell_type": "code",
   "execution_count": 39,
   "id": "15d5e190-62fa-4c61-a2af-e5f9ba750c30",
   "metadata": {},
   "outputs": [],
   "source": [
    "# We shall select the rows with known major payers\n",
    "\n",
    "payers =['MC','BC','SP','UN','MD','HM','CP','CM']\n",
    "df = df[df['payer_code'].isin(payers)] "
   ]
  },
  {
   "cell_type": "code",
   "execution_count": 40,
   "id": "62ee889c-d5d8-48d7-986b-b7f8cdec80d9",
   "metadata": {},
   "outputs": [
    {
     "data": {
      "text/plain": [
       "(5044, 54)"
      ]
     },
     "execution_count": 40,
     "metadata": {},
     "output_type": "execute_result"
    }
   ],
   "source": [
    "df.shape"
   ]
  },
  {
   "cell_type": "code",
   "execution_count": 41,
   "id": "2c3183a7-d617-4e0c-b655-3c599c9f6fac",
   "metadata": {},
   "outputs": [
    {
     "data": {
      "text/plain": [
       "0    1751\n",
       "1    1091\n",
       "2     701\n",
       "3     562\n",
       "6     403\n",
       "4     269\n",
       "5     267\n",
       "Name: num_procedures, dtype: int64"
      ]
     },
     "execution_count": 41,
     "metadata": {},
     "output_type": "execute_result"
    }
   ],
   "source": [
    "# Number of procedures\n",
    "\n",
    "df['num_procedures'].value_counts()"
   ]
  },
  {
   "cell_type": "code",
   "execution_count": 42,
   "id": "85476b9b-63c7-4b32-afba-4131a7f00489",
   "metadata": {},
   "outputs": [],
   "source": [
    "def proced(x):\n",
    "    if x == 0:\n",
    "        return 'None'\n",
    "    elif x == 1:\n",
    "        return '1 procd'\n",
    "    elif x == 2:\n",
    "        return '2 procd'\n",
    "    elif x ==3:\n",
    "        return '3 procd'\n",
    "    elif x in [4,5]:\n",
    "        return '4-5 procd'\n",
    "    else:\n",
    "        return '>5 times'"
   ]
  },
  {
   "cell_type": "code",
   "execution_count": 43,
   "id": "f5d49585-d142-4a18-8b88-45bd31da45c7",
   "metadata": {},
   "outputs": [],
   "source": [
    "df['procedures'] = df['num_procedures'].apply(proced)"
   ]
  },
  {
   "cell_type": "code",
   "execution_count": 44,
   "id": "c7f0f113-95a7-402d-a9c0-a43eaf45a3db",
   "metadata": {},
   "outputs": [
    {
     "data": {
      "text/plain": [
       "None         1751\n",
       "1 procd      1091\n",
       "2 procd       701\n",
       "3 procd       562\n",
       "4-5 procd     536\n",
       ">5 times      403\n",
       "Name: procedures, dtype: int64"
      ]
     },
     "execution_count": 44,
     "metadata": {},
     "output_type": "execute_result"
    }
   ],
   "source": [
    "df['procedures'].value_counts()"
   ]
  },
  {
   "cell_type": "code",
   "execution_count": 45,
   "id": "7fb63706-7f99-4d78-8a22-487fb605a7e6",
   "metadata": {},
   "outputs": [
    {
     "data": {
      "text/plain": [
       "1       8\n",
       "2      30\n",
       "3      56\n",
       "4      84\n",
       "5     110\n",
       "6     124\n",
       "7     175\n",
       "8     236\n",
       "9     222\n",
       "10    263\n",
       "11    279\n",
       "12    263\n",
       "13    257\n",
       "14    284\n",
       "15    279\n",
       "16    266\n",
       "17    240\n",
       "18    243\n",
       "19    193\n",
       "20    180\n",
       "21    156\n",
       "22    141\n",
       "23    135\n",
       "24     96\n",
       "25    106\n",
       "26     70\n",
       "27     87\n",
       "28     60\n",
       "29     35\n",
       "30     52\n",
       "31     36\n",
       "32     36\n",
       "33     25\n",
       "34     21\n",
       "35     19\n",
       "36     18\n",
       "37     17\n",
       "38     14\n",
       "39     15\n",
       "40     16\n",
       "41      8\n",
       "42      9\n",
       "43      9\n",
       "44      4\n",
       "45      6\n",
       "46      4\n",
       "47      2\n",
       "48      5\n",
       "49      6\n",
       "50      5\n",
       "51      3\n",
       "52      5\n",
       "53      4\n",
       "54      3\n",
       "55      4\n",
       "56      3\n",
       "57      3\n",
       "59      2\n",
       "60      2\n",
       "61      2\n",
       "62      2\n",
       "64      2\n",
       "65      1\n",
       "68      1\n",
       "72      1\n",
       "75      1\n",
       "Name: num_medications, dtype: int64"
      ]
     },
     "execution_count": 45,
     "metadata": {},
     "output_type": "execute_result"
    }
   ],
   "source": [
    "# Number of medications\n",
    "\n",
    "df['num_medications'].value_counts().sort_index()\n"
   ]
  },
  {
   "cell_type": "code",
   "execution_count": 46,
   "id": "5e8cfb2b-50ff-4c89-9c5a-f4f0a1d0adf2",
   "metadata": {},
   "outputs": [],
   "source": [
    "def medic(x):\n",
    "    if x in [1,2,3,4]:\n",
    "        return '1-4 med'\n",
    "    elif x in [5,6,7,8,9,10]:\n",
    "        return '5-10 med'\n",
    "    elif x in [11,12,13,14,15]:\n",
    "        return '11-15 med'\n",
    "    elif x in [16,17,18,19,20]:\n",
    "        return '16 - 20 med'\n",
    "    elif x in [21,22,23,24,25]:\n",
    "        return '21-25 med'\n",
    "    elif x in [26,27,28,29,30,31,32,33,34,35,36,37,38,39,40]:\n",
    "        return '26 - 40 med'\n",
    "    else:\n",
    "        return '>40 med'"
   ]
  },
  {
   "cell_type": "code",
   "execution_count": 47,
   "id": "0d3576b2-d519-4d34-a0c0-ea6e1825b5df",
   "metadata": {},
   "outputs": [],
   "source": [
    "df['medications'] = df['num_medications'].apply(medic)"
   ]
  },
  {
   "cell_type": "code",
   "execution_count": 48,
   "id": "5015026c-59f6-4567-8595-230a9660a074",
   "metadata": {},
   "outputs": [
    {
     "data": {
      "text/plain": [
       "11-15 med      1362\n",
       "5-10 med       1130\n",
       "16 - 20 med    1122\n",
       "21-25 med       634\n",
       "26 - 40 med     521\n",
       "1-4 med         178\n",
       ">40 med          97\n",
       "Name: medications, dtype: int64"
      ]
     },
     "execution_count": 48,
     "metadata": {},
     "output_type": "execute_result"
    }
   ],
   "source": [
    "df['medications'].value_counts()"
   ]
  },
  {
   "cell_type": "code",
   "execution_count": 49,
   "id": "92d538da-516c-4450-aaaa-7cf2b308e87a",
   "metadata": {},
   "outputs": [
    {
     "data": {
      "text/plain": [
       "0     4376\n",
       "1      404\n",
       "2      121\n",
       "3       69\n",
       "4       43\n",
       "5       14\n",
       "6        5\n",
       "8        4\n",
       "9        4\n",
       "13       2\n",
       "10       2\n",
       "Name: number_outpatient, dtype: int64"
      ]
     },
     "execution_count": 49,
     "metadata": {},
     "output_type": "execute_result"
    }
   ],
   "source": [
    "# number_outpatient \n",
    "# Number of outpatient visits of the patient in the year preceding the encounter\n",
    "\n",
    "df['number_outpatient'].value_counts()"
   ]
  },
  {
   "cell_type": "code",
   "execution_count": 50,
   "id": "cba1e05c-cad2-44e4-8c9c-c8f5a4e3f288",
   "metadata": {},
   "outputs": [],
   "source": [
    "def outp(x):\n",
    "    if x == 0:\n",
    "        return 'None'\n",
    "    elif x == 1:\n",
    "        return '1 Time'\n",
    "    elif x == 2:\n",
    "        return '2 Times'\n",
    "    elif x in [3,4,5]:\n",
    "        return '3 - 5 times'\n",
    "    else:\n",
    "        return '>5 times'"
   ]
  },
  {
   "cell_type": "code",
   "execution_count": 51,
   "id": "42848cc4-afac-4751-8787-bab796b04e37",
   "metadata": {},
   "outputs": [],
   "source": [
    "df['outpatient_visit'] = df['number_outpatient'].apply(outp)"
   ]
  },
  {
   "cell_type": "code",
   "execution_count": 52,
   "id": "db070aeb-552c-4e62-aa85-b53a87e74bbe",
   "metadata": {},
   "outputs": [
    {
     "data": {
      "text/plain": [
       "None           4376\n",
       "1 Time          404\n",
       "3 - 5 times     126\n",
       "2 Times         121\n",
       ">5 times         17\n",
       "Name: outpatient_visit, dtype: int64"
      ]
     },
     "execution_count": 52,
     "metadata": {},
     "output_type": "execute_result"
    }
   ],
   "source": [
    "df['outpatient_visit'].value_counts()"
   ]
  },
  {
   "cell_type": "code",
   "execution_count": 53,
   "id": "93ce1d71-481b-40d0-bdad-a82204fd10c6",
   "metadata": {},
   "outputs": [
    {
     "data": {
      "text/plain": [
       "0     4473\n",
       "1      390\n",
       "2       87\n",
       "3       31\n",
       "4       26\n",
       "5       12\n",
       "6        5\n",
       "7        5\n",
       "8        3\n",
       "9        1\n",
       "10       3\n",
       "13       1\n",
       "15       1\n",
       "16       1\n",
       "18       1\n",
       "19       1\n",
       "20       1\n",
       "21       1\n",
       "64       1\n",
       "Name: number_emergency, dtype: int64"
      ]
     },
     "execution_count": 53,
     "metadata": {},
     "output_type": "execute_result"
    }
   ],
   "source": [
    "# number of emergency visits prior to admission\n",
    "\n",
    "df['number_emergency'].value_counts().sort_index()"
   ]
  },
  {
   "cell_type": "code",
   "execution_count": 54,
   "id": "3428cb81-6989-4831-adaf-b741a5a01b8e",
   "metadata": {},
   "outputs": [],
   "source": [
    "def emergency(x):\n",
    "    if x == 0:\n",
    "        return 'None'\n",
    "    elif x == 1:\n",
    "        return '1 Time'\n",
    "    elif x == 2:\n",
    "        return '2 Times'\n",
    "    elif x in [3,4,5]:\n",
    "        return '3 - 5 times'\n",
    "    else:\n",
    "        return '>5 times'\n",
    "    \n",
    "    "
   ]
  },
  {
   "cell_type": "code",
   "execution_count": 55,
   "id": "e7ac858e-347f-4977-9819-cec37c9f036a",
   "metadata": {},
   "outputs": [],
   "source": [
    "df['emergency_visit'] = df['number_emergency'].apply(emergency)"
   ]
  },
  {
   "cell_type": "code",
   "execution_count": 56,
   "id": "d717e689-1190-4b99-a970-6c233e3cf57b",
   "metadata": {},
   "outputs": [
    {
     "data": {
      "text/plain": [
       "None           4473\n",
       "1 Time          390\n",
       "2 Times          87\n",
       "3 - 5 times      69\n",
       ">5 times         25\n",
       "Name: emergency_visit, dtype: int64"
      ]
     },
     "execution_count": 56,
     "metadata": {},
     "output_type": "execute_result"
    }
   ],
   "source": [
    "df['emergency_visit'].value_counts()"
   ]
  },
  {
   "cell_type": "code",
   "execution_count": 57,
   "id": "ea13672a-4fa4-4ae4-a43b-612ab63d3a03",
   "metadata": {},
   "outputs": [
    {
     "data": {
      "text/plain": [
       "0     3480\n",
       "1      942\n",
       "2      305\n",
       "3      138\n",
       "4       66\n",
       "5       45\n",
       "6       22\n",
       "7       14\n",
       "8       14\n",
       "9        7\n",
       "10       3\n",
       "11       3\n",
       "12       3\n",
       "13       1\n",
       "15       1\n",
       "Name: number_inpatient, dtype: int64"
      ]
     },
     "execution_count": 57,
     "metadata": {},
     "output_type": "execute_result"
    }
   ],
   "source": [
    "# inpatient visits\n",
    "\n",
    "df['number_inpatient'].value_counts().sort_index()"
   ]
  },
  {
   "cell_type": "code",
   "execution_count": 58,
   "id": "ec97ac45-e998-4f1a-8549-20dc12ac9061",
   "metadata": {},
   "outputs": [],
   "source": [
    "def inpatient(x):\n",
    "    if x == 0:\n",
    "        return 'None'\n",
    "    elif x == 1:\n",
    "        return '1 Time'\n",
    "    elif x == 2:\n",
    "        return '2 Times'\n",
    "    elif x in [3,4,5,6]:\n",
    "        return '3 - 6 times'\n",
    "    else:\n",
    "        return '>6 times'"
   ]
  },
  {
   "cell_type": "code",
   "execution_count": 59,
   "id": "5b7078b7-a8d8-44c2-90a6-8500f18315d1",
   "metadata": {},
   "outputs": [],
   "source": [
    "df['inpatient_visit'] = df['number_inpatient'].apply(inpatient)"
   ]
  },
  {
   "cell_type": "code",
   "execution_count": 60,
   "id": "35b90b8a-3027-494c-8c41-b6e529084e8d",
   "metadata": {},
   "outputs": [
    {
     "data": {
      "text/plain": [
       "None           3480\n",
       "1 Time          942\n",
       "2 Times         305\n",
       "3 - 6 times     271\n",
       ">6 times         46\n",
       "Name: inpatient_visit, dtype: int64"
      ]
     },
     "execution_count": 60,
     "metadata": {},
     "output_type": "execute_result"
    }
   ],
   "source": [
    "df['inpatient_visit'].value_counts()"
   ]
  },
  {
   "cell_type": "code",
   "execution_count": 61,
   "id": "1690f6b5-c84c-47e9-9c1c-efb41bef4ea5",
   "metadata": {},
   "outputs": [
    {
     "data": {
      "text/plain": [
       "NO     4208\n",
       "<30     836\n",
       "Name: readmitted, dtype: int64"
      ]
     },
     "execution_count": 61,
     "metadata": {},
     "output_type": "execute_result"
    }
   ],
   "source": [
    "# Check the target variable\n",
    "\n",
    "df['readmitted'].value_counts()"
   ]
  },
  {
   "cell_type": "code",
   "execution_count": 62,
   "id": "3550cff7-e900-4080-9282-e5ec50d4956d",
   "metadata": {},
   "outputs": [],
   "source": [
    "# Recode readmitted to Yes and No\n",
    "\n",
    "df['readmitted'] = df['readmitted'].replace({'NO':'No','<30':'Yes'})"
   ]
  },
  {
   "cell_type": "code",
   "execution_count": 63,
   "id": "0970d6fa-11cf-4709-9eb4-3b797114b368",
   "metadata": {},
   "outputs": [
    {
     "data": {
      "text/plain": [
       "No     4208\n",
       "Yes     836\n",
       "Name: readmitted, dtype: int64"
      ]
     },
     "execution_count": 63,
     "metadata": {},
     "output_type": "execute_result"
    }
   ],
   "source": [
    "df['readmitted'].value_counts()"
   ]
  },
  {
   "cell_type": "markdown",
   "id": "eef92bf9-bc98-4a54-8e8d-47e7a3635947",
   "metadata": {},
   "source": [
    "### Selection of variables\n",
    "\n",
    "Based on our initial exploration, the following variables will be selected for analysis:\n",
    "\n",
    "* race\n",
    "* age\n",
    "* admissions\n",
    "* adm_source\n",
    "* duration\n",
    "* medical_speciality\n",
    "* payer_code\n",
    "* procedures\n",
    "* medications\n",
    "* outpatients\n",
    "* inpatient\n",
    "* emergency\n",
    "* readmitted"
   ]
  },
  {
   "cell_type": "code",
   "execution_count": 64,
   "id": "43ecc2dd-ac93-41fe-9be0-b56b584e0103",
   "metadata": {},
   "outputs": [],
   "source": [
    "features = ['race','age','admissions','adm_source','discharge','hospital_duration','medical_specialty','payer_code','procedures',\n",
    "            'medications','outpatient_visit','inpatient_visit','emergency_visit','readmitted']\n",
    "\n",
    "data = df[features]"
   ]
  },
  {
   "cell_type": "code",
   "execution_count": 65,
   "id": "1c9d5e6a-0016-4e00-800a-8eab0cff45ab",
   "metadata": {},
   "outputs": [
    {
     "data": {
      "text/html": [
       "<div>\n",
       "<style scoped>\n",
       "    .dataframe tbody tr th:only-of-type {\n",
       "        vertical-align: middle;\n",
       "    }\n",
       "\n",
       "    .dataframe tbody tr th {\n",
       "        vertical-align: top;\n",
       "    }\n",
       "\n",
       "    .dataframe thead th {\n",
       "        text-align: right;\n",
       "    }\n",
       "</style>\n",
       "<table border=\"1\" class=\"dataframe\">\n",
       "  <thead>\n",
       "    <tr style=\"text-align: right;\">\n",
       "      <th></th>\n",
       "      <th>race</th>\n",
       "      <th>age</th>\n",
       "      <th>admissions</th>\n",
       "      <th>adm_source</th>\n",
       "      <th>discharge</th>\n",
       "      <th>hospital_duration</th>\n",
       "      <th>medical_specialty</th>\n",
       "      <th>payer_code</th>\n",
       "      <th>procedures</th>\n",
       "      <th>medications</th>\n",
       "      <th>outpatient_visit</th>\n",
       "      <th>inpatient_visit</th>\n",
       "      <th>emergency_visit</th>\n",
       "      <th>readmitted</th>\n",
       "    </tr>\n",
       "  </thead>\n",
       "  <tbody>\n",
       "    <tr>\n",
       "      <th>20737</th>\n",
       "      <td>Caucasian</td>\n",
       "      <td>[60-70)</td>\n",
       "      <td>Urgent</td>\n",
       "      <td>Physcian Referral</td>\n",
       "      <td>Routine_Discharge</td>\n",
       "      <td>2-5 days</td>\n",
       "      <td>Nephrology</td>\n",
       "      <td>MC</td>\n",
       "      <td>3 procd</td>\n",
       "      <td>11-15 med</td>\n",
       "      <td>None</td>\n",
       "      <td>None</td>\n",
       "      <td>None</td>\n",
       "      <td>No</td>\n",
       "    </tr>\n",
       "    <tr>\n",
       "      <th>24069</th>\n",
       "      <td>Caucasian</td>\n",
       "      <td>[30-40)</td>\n",
       "      <td>Emergency</td>\n",
       "      <td>Transfer_Another_Hospital</td>\n",
       "      <td>Routine_Discharge</td>\n",
       "      <td>&gt;10 days</td>\n",
       "      <td>Nephrology</td>\n",
       "      <td>MC</td>\n",
       "      <td>2 procd</td>\n",
       "      <td>16 - 20 med</td>\n",
       "      <td>None</td>\n",
       "      <td>None</td>\n",
       "      <td>None</td>\n",
       "      <td>No</td>\n",
       "    </tr>\n",
       "    <tr>\n",
       "      <th>24117</th>\n",
       "      <td>Caucasian</td>\n",
       "      <td>[30-40)</td>\n",
       "      <td>Urgent</td>\n",
       "      <td>Transfer_Hospital</td>\n",
       "      <td>Routine_Discharge</td>\n",
       "      <td>&gt;10 days</td>\n",
       "      <td>Nephrology</td>\n",
       "      <td>MC</td>\n",
       "      <td>4-5 procd</td>\n",
       "      <td>16 - 20 med</td>\n",
       "      <td>None</td>\n",
       "      <td>None</td>\n",
       "      <td>None</td>\n",
       "      <td>No</td>\n",
       "    </tr>\n",
       "    <tr>\n",
       "      <th>24198</th>\n",
       "      <td>AfricanAmerican</td>\n",
       "      <td>[20-30)</td>\n",
       "      <td>Emergency</td>\n",
       "      <td>Transfer_Another_Hospital</td>\n",
       "      <td>Routine_Discharge</td>\n",
       "      <td>1 day</td>\n",
       "      <td>Family/GeneralPractice</td>\n",
       "      <td>UN</td>\n",
       "      <td>None</td>\n",
       "      <td>5-10 med</td>\n",
       "      <td>None</td>\n",
       "      <td>None</td>\n",
       "      <td>None</td>\n",
       "      <td>No</td>\n",
       "    </tr>\n",
       "    <tr>\n",
       "      <th>24309</th>\n",
       "      <td>Caucasian</td>\n",
       "      <td>[50-60)</td>\n",
       "      <td>Emergency</td>\n",
       "      <td>Transfer_Another_Hospital</td>\n",
       "      <td>Routine_Discharge</td>\n",
       "      <td>2-5 days</td>\n",
       "      <td>Surgery-General</td>\n",
       "      <td>UN</td>\n",
       "      <td>None</td>\n",
       "      <td>11-15 med</td>\n",
       "      <td>None</td>\n",
       "      <td>None</td>\n",
       "      <td>None</td>\n",
       "      <td>No</td>\n",
       "    </tr>\n",
       "  </tbody>\n",
       "</table>\n",
       "</div>"
      ],
      "text/plain": [
       "                  race      age admissions                 adm_source  \\\n",
       "20737        Caucasian  [60-70)     Urgent          Physcian Referral   \n",
       "24069        Caucasian  [30-40)  Emergency  Transfer_Another_Hospital   \n",
       "24117        Caucasian  [30-40)     Urgent          Transfer_Hospital   \n",
       "24198  AfricanAmerican  [20-30)  Emergency  Transfer_Another_Hospital   \n",
       "24309        Caucasian  [50-60)  Emergency  Transfer_Another_Hospital   \n",
       "\n",
       "               discharge hospital_duration       medical_specialty payer_code  \\\n",
       "20737  Routine_Discharge          2-5 days              Nephrology         MC   \n",
       "24069  Routine_Discharge          >10 days              Nephrology         MC   \n",
       "24117  Routine_Discharge          >10 days              Nephrology         MC   \n",
       "24198  Routine_Discharge             1 day  Family/GeneralPractice         UN   \n",
       "24309  Routine_Discharge          2-5 days         Surgery-General         UN   \n",
       "\n",
       "      procedures  medications outpatient_visit inpatient_visit  \\\n",
       "20737    3 procd    11-15 med             None            None   \n",
       "24069    2 procd  16 - 20 med             None            None   \n",
       "24117  4-5 procd  16 - 20 med             None            None   \n",
       "24198       None     5-10 med             None            None   \n",
       "24309       None    11-15 med             None            None   \n",
       "\n",
       "      emergency_visit readmitted  \n",
       "20737            None         No  \n",
       "24069            None         No  \n",
       "24117            None         No  \n",
       "24198            None         No  \n",
       "24309            None         No  "
      ]
     },
     "execution_count": 65,
     "metadata": {},
     "output_type": "execute_result"
    }
   ],
   "source": [
    "data.head()"
   ]
  },
  {
   "cell_type": "code",
   "execution_count": 66,
   "id": "98bf9b42-ee68-44af-8537-3ee6080c50e7",
   "metadata": {},
   "outputs": [
    {
     "name": "stdout",
     "output_type": "stream",
     "text": [
      "<class 'pandas.core.frame.DataFrame'>\n",
      "Int64Index: 5044 entries, 20737 to 101764\n",
      "Data columns (total 14 columns):\n",
      " #   Column             Non-Null Count  Dtype \n",
      "---  ------             --------------  ----- \n",
      " 0   race               5044 non-null   object\n",
      " 1   age                5044 non-null   object\n",
      " 2   admissions         5044 non-null   object\n",
      " 3   adm_source         5044 non-null   object\n",
      " 4   discharge          5044 non-null   object\n",
      " 5   hospital_duration  5044 non-null   object\n",
      " 6   medical_specialty  5044 non-null   object\n",
      " 7   payer_code         5044 non-null   object\n",
      " 8   procedures         5044 non-null   object\n",
      " 9   medications        5044 non-null   object\n",
      " 10  outpatient_visit   5044 non-null   object\n",
      " 11  inpatient_visit    5044 non-null   object\n",
      " 12  emergency_visit    5044 non-null   object\n",
      " 13  readmitted         5044 non-null   object\n",
      "dtypes: object(14)\n",
      "memory usage: 591.1+ KB\n"
     ]
    }
   ],
   "source": [
    "data.info()"
   ]
  },
  {
   "cell_type": "code",
   "execution_count": 67,
   "id": "b5ef51a0-5ffe-45ee-b1e3-fbce6283e380",
   "metadata": {},
   "outputs": [
    {
     "data": {
      "text/plain": [
       "race                 category\n",
       "age                  category\n",
       "admissions           category\n",
       "adm_source           category\n",
       "discharge            category\n",
       "hospital_duration    category\n",
       "medical_specialty    category\n",
       "payer_code           category\n",
       "procedures           category\n",
       "medications          category\n",
       "outpatient_visit     category\n",
       "inpatient_visit      category\n",
       "emergency_visit      category\n",
       "readmitted           category\n",
       "dtype: object"
      ]
     },
     "execution_count": 67,
     "metadata": {},
     "output_type": "execute_result"
    }
   ],
   "source": [
    "# convert data to categorical features\n",
    "\n",
    "list_str_obj_cols = data.columns[data.dtypes == \"object\"].tolist()\n",
    "for str_obj_col in list_str_obj_cols:\n",
    "    data[str_obj_col] = data[str_obj_col].astype(\"category\")\n",
    "\n",
    "data.dtypes"
   ]
  },
  {
   "cell_type": "code",
   "execution_count": 68,
   "id": "b27b9f3a-ea7b-47eb-9dca-78ee037d885f",
   "metadata": {},
   "outputs": [
    {
     "data": {
      "text/html": [
       "<div>\n",
       "<style scoped>\n",
       "    .dataframe tbody tr th:only-of-type {\n",
       "        vertical-align: middle;\n",
       "    }\n",
       "\n",
       "    .dataframe tbody tr th {\n",
       "        vertical-align: top;\n",
       "    }\n",
       "\n",
       "    .dataframe thead th {\n",
       "        text-align: right;\n",
       "    }\n",
       "</style>\n",
       "<table border=\"1\" class=\"dataframe\">\n",
       "  <thead>\n",
       "    <tr style=\"text-align: right;\">\n",
       "      <th></th>\n",
       "      <th>race</th>\n",
       "      <th>age</th>\n",
       "      <th>admissions</th>\n",
       "      <th>adm_source</th>\n",
       "      <th>discharge</th>\n",
       "      <th>hospital_duration</th>\n",
       "      <th>medical_specialty</th>\n",
       "      <th>payer_code</th>\n",
       "      <th>procedures</th>\n",
       "      <th>medications</th>\n",
       "      <th>outpatient_visit</th>\n",
       "      <th>inpatient_visit</th>\n",
       "      <th>emergency_visit</th>\n",
       "      <th>readmitted</th>\n",
       "    </tr>\n",
       "  </thead>\n",
       "  <tbody>\n",
       "    <tr>\n",
       "      <th>20737</th>\n",
       "      <td>Caucasian</td>\n",
       "      <td>[60-70)</td>\n",
       "      <td>Urgent</td>\n",
       "      <td>Physcian Referral</td>\n",
       "      <td>Routine_Discharge</td>\n",
       "      <td>2-5 days</td>\n",
       "      <td>Nephrology</td>\n",
       "      <td>MC</td>\n",
       "      <td>3 procd</td>\n",
       "      <td>11-15 med</td>\n",
       "      <td>None</td>\n",
       "      <td>None</td>\n",
       "      <td>None</td>\n",
       "      <td>No</td>\n",
       "    </tr>\n",
       "    <tr>\n",
       "      <th>24069</th>\n",
       "      <td>Caucasian</td>\n",
       "      <td>[30-40)</td>\n",
       "      <td>Emergency</td>\n",
       "      <td>Transfer_Another_Hospital</td>\n",
       "      <td>Routine_Discharge</td>\n",
       "      <td>&gt;10 days</td>\n",
       "      <td>Nephrology</td>\n",
       "      <td>MC</td>\n",
       "      <td>2 procd</td>\n",
       "      <td>16 - 20 med</td>\n",
       "      <td>None</td>\n",
       "      <td>None</td>\n",
       "      <td>None</td>\n",
       "      <td>No</td>\n",
       "    </tr>\n",
       "    <tr>\n",
       "      <th>24117</th>\n",
       "      <td>Caucasian</td>\n",
       "      <td>[30-40)</td>\n",
       "      <td>Urgent</td>\n",
       "      <td>Transfer_Hospital</td>\n",
       "      <td>Routine_Discharge</td>\n",
       "      <td>&gt;10 days</td>\n",
       "      <td>Nephrology</td>\n",
       "      <td>MC</td>\n",
       "      <td>4-5 procd</td>\n",
       "      <td>16 - 20 med</td>\n",
       "      <td>None</td>\n",
       "      <td>None</td>\n",
       "      <td>None</td>\n",
       "      <td>No</td>\n",
       "    </tr>\n",
       "    <tr>\n",
       "      <th>24198</th>\n",
       "      <td>AfricanAmerican</td>\n",
       "      <td>[20-30)</td>\n",
       "      <td>Emergency</td>\n",
       "      <td>Transfer_Another_Hospital</td>\n",
       "      <td>Routine_Discharge</td>\n",
       "      <td>1 day</td>\n",
       "      <td>Family/GeneralPractice</td>\n",
       "      <td>UN</td>\n",
       "      <td>None</td>\n",
       "      <td>5-10 med</td>\n",
       "      <td>None</td>\n",
       "      <td>None</td>\n",
       "      <td>None</td>\n",
       "      <td>No</td>\n",
       "    </tr>\n",
       "    <tr>\n",
       "      <th>24309</th>\n",
       "      <td>Caucasian</td>\n",
       "      <td>[50-60)</td>\n",
       "      <td>Emergency</td>\n",
       "      <td>Transfer_Another_Hospital</td>\n",
       "      <td>Routine_Discharge</td>\n",
       "      <td>2-5 days</td>\n",
       "      <td>Surgery-General</td>\n",
       "      <td>UN</td>\n",
       "      <td>None</td>\n",
       "      <td>11-15 med</td>\n",
       "      <td>None</td>\n",
       "      <td>None</td>\n",
       "      <td>None</td>\n",
       "      <td>No</td>\n",
       "    </tr>\n",
       "  </tbody>\n",
       "</table>\n",
       "</div>"
      ],
      "text/plain": [
       "                  race      age admissions                 adm_source  \\\n",
       "20737        Caucasian  [60-70)     Urgent          Physcian Referral   \n",
       "24069        Caucasian  [30-40)  Emergency  Transfer_Another_Hospital   \n",
       "24117        Caucasian  [30-40)     Urgent          Transfer_Hospital   \n",
       "24198  AfricanAmerican  [20-30)  Emergency  Transfer_Another_Hospital   \n",
       "24309        Caucasian  [50-60)  Emergency  Transfer_Another_Hospital   \n",
       "\n",
       "               discharge hospital_duration       medical_specialty payer_code  \\\n",
       "20737  Routine_Discharge          2-5 days              Nephrology         MC   \n",
       "24069  Routine_Discharge          >10 days              Nephrology         MC   \n",
       "24117  Routine_Discharge          >10 days              Nephrology         MC   \n",
       "24198  Routine_Discharge             1 day  Family/GeneralPractice         UN   \n",
       "24309  Routine_Discharge          2-5 days         Surgery-General         UN   \n",
       "\n",
       "      procedures  medications outpatient_visit inpatient_visit  \\\n",
       "20737    3 procd    11-15 med             None            None   \n",
       "24069    2 procd  16 - 20 med             None            None   \n",
       "24117  4-5 procd  16 - 20 med             None            None   \n",
       "24198       None     5-10 med             None            None   \n",
       "24309       None    11-15 med             None            None   \n",
       "\n",
       "      emergency_visit readmitted  \n",
       "20737            None         No  \n",
       "24069            None         No  \n",
       "24117            None         No  \n",
       "24198            None         No  \n",
       "24309            None         No  "
      ]
     },
     "execution_count": 68,
     "metadata": {},
     "output_type": "execute_result"
    }
   ],
   "source": [
    "data.head()"
   ]
  },
  {
   "cell_type": "markdown",
   "id": "ea471eca-81da-482d-b961-c16adf5a0310",
   "metadata": {},
   "source": [
    "### Univariate and Bivariate Analysis"
   ]
  },
  {
   "cell_type": "code",
   "execution_count": 69,
   "id": "c5bc3fff-f103-465b-ace4-d81f96116caf",
   "metadata": {},
   "outputs": [
    {
     "data": {
      "text/html": [
       "<div>\n",
       "<style scoped>\n",
       "    .dataframe tbody tr th:only-of-type {\n",
       "        vertical-align: middle;\n",
       "    }\n",
       "\n",
       "    .dataframe tbody tr th {\n",
       "        vertical-align: top;\n",
       "    }\n",
       "\n",
       "    .dataframe thead th {\n",
       "        text-align: right;\n",
       "    }\n",
       "</style>\n",
       "<table border=\"1\" class=\"dataframe\">\n",
       "  <thead>\n",
       "    <tr style=\"text-align: right;\">\n",
       "      <th>readmitted</th>\n",
       "      <th>No</th>\n",
       "      <th>Yes</th>\n",
       "      <th>All</th>\n",
       "    </tr>\n",
       "    <tr>\n",
       "      <th>race</th>\n",
       "      <th></th>\n",
       "      <th></th>\n",
       "      <th></th>\n",
       "    </tr>\n",
       "  </thead>\n",
       "  <tbody>\n",
       "    <tr>\n",
       "      <th>AfricanAmerican</th>\n",
       "      <td>960</td>\n",
       "      <td>193</td>\n",
       "      <td>1153</td>\n",
       "    </tr>\n",
       "    <tr>\n",
       "      <th>Asian</th>\n",
       "      <td>35</td>\n",
       "      <td>5</td>\n",
       "      <td>40</td>\n",
       "    </tr>\n",
       "    <tr>\n",
       "      <th>Caucasian</th>\n",
       "      <td>3090</td>\n",
       "      <td>618</td>\n",
       "      <td>3708</td>\n",
       "    </tr>\n",
       "    <tr>\n",
       "      <th>Hispanic</th>\n",
       "      <td>73</td>\n",
       "      <td>7</td>\n",
       "      <td>80</td>\n",
       "    </tr>\n",
       "    <tr>\n",
       "      <th>Other</th>\n",
       "      <td>50</td>\n",
       "      <td>13</td>\n",
       "      <td>63</td>\n",
       "    </tr>\n",
       "    <tr>\n",
       "      <th>All</th>\n",
       "      <td>4208</td>\n",
       "      <td>836</td>\n",
       "      <td>5044</td>\n",
       "    </tr>\n",
       "  </tbody>\n",
       "</table>\n",
       "</div>"
      ],
      "text/plain": [
       "readmitted         No  Yes   All\n",
       "race                            \n",
       "AfricanAmerican   960  193  1153\n",
       "Asian              35    5    40\n",
       "Caucasian        3090  618  3708\n",
       "Hispanic           73    7    80\n",
       "Other              50   13    63\n",
       "All              4208  836  5044"
      ]
     },
     "execution_count": 69,
     "metadata": {},
     "output_type": "execute_result"
    }
   ],
   "source": [
    "race = pd.crosstab(data['race'],data['readmitted'],margins=True)\n",
    "race"
   ]
  },
  {
   "cell_type": "code",
   "execution_count": 70,
   "id": "1231c1d7-bea3-4e4a-aa56-961169b2edbe",
   "metadata": {},
   "outputs": [
    {
     "data": {
      "text/html": [
       "<div>\n",
       "<style scoped>\n",
       "    .dataframe tbody tr th:only-of-type {\n",
       "        vertical-align: middle;\n",
       "    }\n",
       "\n",
       "    .dataframe tbody tr th {\n",
       "        vertical-align: top;\n",
       "    }\n",
       "\n",
       "    .dataframe thead th {\n",
       "        text-align: right;\n",
       "    }\n",
       "</style>\n",
       "<table border=\"1\" class=\"dataframe\">\n",
       "  <thead>\n",
       "    <tr style=\"text-align: right;\">\n",
       "      <th>readmitted</th>\n",
       "      <th>No</th>\n",
       "      <th>Yes</th>\n",
       "    </tr>\n",
       "    <tr>\n",
       "      <th>race</th>\n",
       "      <th></th>\n",
       "      <th></th>\n",
       "    </tr>\n",
       "  </thead>\n",
       "  <tbody>\n",
       "    <tr>\n",
       "      <th>AfricanAmerican</th>\n",
       "      <td>0.832611</td>\n",
       "      <td>0.167389</td>\n",
       "    </tr>\n",
       "    <tr>\n",
       "      <th>Asian</th>\n",
       "      <td>0.875000</td>\n",
       "      <td>0.125000</td>\n",
       "    </tr>\n",
       "    <tr>\n",
       "      <th>Caucasian</th>\n",
       "      <td>0.833333</td>\n",
       "      <td>0.166667</td>\n",
       "    </tr>\n",
       "    <tr>\n",
       "      <th>Hispanic</th>\n",
       "      <td>0.912500</td>\n",
       "      <td>0.087500</td>\n",
       "    </tr>\n",
       "    <tr>\n",
       "      <th>Other</th>\n",
       "      <td>0.793651</td>\n",
       "      <td>0.206349</td>\n",
       "    </tr>\n",
       "    <tr>\n",
       "      <th>Total</th>\n",
       "      <td>0.834259</td>\n",
       "      <td>0.165741</td>\n",
       "    </tr>\n",
       "  </tbody>\n",
       "</table>\n",
       "</div>"
      ],
      "text/plain": [
       "readmitted             No       Yes\n",
       "race                               \n",
       "AfricanAmerican  0.832611  0.167389\n",
       "Asian            0.875000  0.125000\n",
       "Caucasian        0.833333  0.166667\n",
       "Hispanic         0.912500  0.087500\n",
       "Other            0.793651  0.206349\n",
       "Total            0.834259  0.165741"
      ]
     },
     "execution_count": 70,
     "metadata": {},
     "output_type": "execute_result"
    }
   ],
   "source": [
    "pd.crosstab(data.race, data.readmitted, margins=True, margins_name='Total', normalize='index')"
   ]
  },
  {
   "cell_type": "code",
   "execution_count": 71,
   "id": "5fd5c676-cc38-4610-95aa-926bc9814ecf",
   "metadata": {},
   "outputs": [
    {
     "data": {
      "image/png": "[encoded data removed]",
      "text/plain": [
       "<Figure size 640x480 with 1 Axes>"
      ]
     },
     "metadata": {},
     "output_type": "display_data"
    }
   ],
   "source": [
    "pd.crosstab(data['race'],data['readmitted']).plot(kind=\"bar\",stacked=False);"
   ]
  },
  {
   "cell_type": "code",
   "execution_count": 72,
   "id": "dc8d38db-32cf-40e3-8ac5-d7618f5263e7",
   "metadata": {},
   "outputs": [
    {
     "data": {
      "text/html": [
       "<div>\n",
       "<style scoped>\n",
       "    .dataframe tbody tr th:only-of-type {\n",
       "        vertical-align: middle;\n",
       "    }\n",
       "\n",
       "    .dataframe tbody tr th {\n",
       "        vertical-align: top;\n",
       "    }\n",
       "\n",
       "    .dataframe thead th {\n",
       "        text-align: right;\n",
       "    }\n",
       "</style>\n",
       "<table border=\"1\" class=\"dataframe\">\n",
       "  <thead>\n",
       "    <tr style=\"text-align: right;\">\n",
       "      <th>readmitted</th>\n",
       "      <th>No</th>\n",
       "      <th>Yes</th>\n",
       "    </tr>\n",
       "    <tr>\n",
       "      <th>age</th>\n",
       "      <th></th>\n",
       "      <th></th>\n",
       "    </tr>\n",
       "  </thead>\n",
       "  <tbody>\n",
       "    <tr>\n",
       "      <th>[10-20)</th>\n",
       "      <td>0.875000</td>\n",
       "      <td>0.125000</td>\n",
       "    </tr>\n",
       "    <tr>\n",
       "      <th>[20-30)</th>\n",
       "      <td>0.850746</td>\n",
       "      <td>0.149254</td>\n",
       "    </tr>\n",
       "    <tr>\n",
       "      <th>[30-40)</th>\n",
       "      <td>0.855615</td>\n",
       "      <td>0.144385</td>\n",
       "    </tr>\n",
       "    <tr>\n",
       "      <th>[40-50)</th>\n",
       "      <td>0.867117</td>\n",
       "      <td>0.132883</td>\n",
       "    </tr>\n",
       "    <tr>\n",
       "      <th>[50-60)</th>\n",
       "      <td>0.852654</td>\n",
       "      <td>0.147346</td>\n",
       "    </tr>\n",
       "    <tr>\n",
       "      <th>[60-70)</th>\n",
       "      <td>0.839404</td>\n",
       "      <td>0.160596</td>\n",
       "    </tr>\n",
       "    <tr>\n",
       "      <th>[70-80)</th>\n",
       "      <td>0.822853</td>\n",
       "      <td>0.177147</td>\n",
       "    </tr>\n",
       "    <tr>\n",
       "      <th>[80-90)</th>\n",
       "      <td>0.803342</td>\n",
       "      <td>0.196658</td>\n",
       "    </tr>\n",
       "    <tr>\n",
       "      <th>[90-100)</th>\n",
       "      <td>0.800000</td>\n",
       "      <td>0.200000</td>\n",
       "    </tr>\n",
       "    <tr>\n",
       "      <th>Total</th>\n",
       "      <td>0.834259</td>\n",
       "      <td>0.165741</td>\n",
       "    </tr>\n",
       "  </tbody>\n",
       "</table>\n",
       "</div>"
      ],
      "text/plain": [
       "readmitted        No       Yes\n",
       "age                           \n",
       "[10-20)     0.875000  0.125000\n",
       "[20-30)     0.850746  0.149254\n",
       "[30-40)     0.855615  0.144385\n",
       "[40-50)     0.867117  0.132883\n",
       "[50-60)     0.852654  0.147346\n",
       "[60-70)     0.839404  0.160596\n",
       "[70-80)     0.822853  0.177147\n",
       "[80-90)     0.803342  0.196658\n",
       "[90-100)    0.800000  0.200000\n",
       "Total       0.834259  0.165741"
      ]
     },
     "execution_count": 72,
     "metadata": {},
     "output_type": "execute_result"
    }
   ],
   "source": [
    "pd.crosstab(data.age, data.readmitted, margins=True, margins_name='Total', normalize='index')"
   ]
  },
  {
   "cell_type": "code",
   "execution_count": 73,
   "id": "9ff77048-abcc-4ed1-9889-08a00ac6d576",
   "metadata": {},
   "outputs": [
    {
     "data": {
      "image/png": "[encoded data removed]",
      "text/plain": [
       "<Figure size 640x480 with 1 Axes>"
      ]
     },
     "metadata": {},
     "output_type": "display_data"
    }
   ],
   "source": [
    "pd.crosstab(data['age'],data['readmitted']).plot(kind=\"bar\",stacked=True);"
   ]
  },
  {
   "cell_type": "code",
   "execution_count": 74,
   "id": "d2ed075b-4b30-4de8-a04a-6d3a3070cbf6",
   "metadata": {},
   "outputs": [
    {
     "data": {
      "text/html": [
       "<div>\n",
       "<style scoped>\n",
       "    .dataframe tbody tr th:only-of-type {\n",
       "        vertical-align: middle;\n",
       "    }\n",
       "\n",
       "    .dataframe tbody tr th {\n",
       "        vertical-align: top;\n",
       "    }\n",
       "\n",
       "    .dataframe thead th {\n",
       "        text-align: right;\n",
       "    }\n",
       "</style>\n",
       "<table border=\"1\" class=\"dataframe\">\n",
       "  <thead>\n",
       "    <tr style=\"text-align: right;\">\n",
       "      <th>readmitted</th>\n",
       "      <th>No</th>\n",
       "      <th>Yes</th>\n",
       "    </tr>\n",
       "    <tr>\n",
       "      <th>admissions</th>\n",
       "      <th></th>\n",
       "      <th></th>\n",
       "    </tr>\n",
       "  </thead>\n",
       "  <tbody>\n",
       "    <tr>\n",
       "      <th>Election</th>\n",
       "      <td>0.827818</td>\n",
       "      <td>0.172182</td>\n",
       "    </tr>\n",
       "    <tr>\n",
       "      <th>Emergency</th>\n",
       "      <td>0.829658</td>\n",
       "      <td>0.170342</td>\n",
       "    </tr>\n",
       "    <tr>\n",
       "      <th>Trauma</th>\n",
       "      <td>1.000000</td>\n",
       "      <td>0.000000</td>\n",
       "    </tr>\n",
       "    <tr>\n",
       "      <th>Urgent</th>\n",
       "      <td>0.850193</td>\n",
       "      <td>0.149807</td>\n",
       "    </tr>\n",
       "    <tr>\n",
       "      <th>Total</th>\n",
       "      <td>0.834259</td>\n",
       "      <td>0.165741</td>\n",
       "    </tr>\n",
       "  </tbody>\n",
       "</table>\n",
       "</div>"
      ],
      "text/plain": [
       "readmitted        No       Yes\n",
       "admissions                    \n",
       "Election    0.827818  0.172182\n",
       "Emergency   0.829658  0.170342\n",
       "Trauma      1.000000  0.000000\n",
       "Urgent      0.850193  0.149807\n",
       "Total       0.834259  0.165741"
      ]
     },
     "execution_count": 74,
     "metadata": {},
     "output_type": "execute_result"
    }
   ],
   "source": [
    "pd.crosstab(data.admissions, data.readmitted, margins=True, margins_name='Total', normalize='index')"
   ]
  },
  {
   "cell_type": "code",
   "execution_count": 75,
   "id": "ad156153-c858-45ae-822b-6b0fcd5d97f3",
   "metadata": {},
   "outputs": [
    {
     "data": {
      "image/png": "[encoded data removed]",
      "text/plain": [
       "<Figure size 640x480 with 1 Axes>"
      ]
     },
     "metadata": {},
     "output_type": "display_data"
    }
   ],
   "source": [
    "pd.crosstab(data['admissions'],data['readmitted']).plot(kind=\"bar\",stacked=True);"
   ]
  },
  {
   "cell_type": "code",
   "execution_count": 76,
   "id": "5c16540f-b47b-4245-810e-5bca7de11eff",
   "metadata": {},
   "outputs": [
    {
     "data": {
      "text/html": [
       "<div>\n",
       "<style scoped>\n",
       "    .dataframe tbody tr th:only-of-type {\n",
       "        vertical-align: middle;\n",
       "    }\n",
       "\n",
       "    .dataframe tbody tr th {\n",
       "        vertical-align: top;\n",
       "    }\n",
       "\n",
       "    .dataframe thead th {\n",
       "        text-align: right;\n",
       "    }\n",
       "</style>\n",
       "<table border=\"1\" class=\"dataframe\">\n",
       "  <thead>\n",
       "    <tr style=\"text-align: right;\">\n",
       "      <th>readmitted</th>\n",
       "      <th>No</th>\n",
       "      <th>Yes</th>\n",
       "    </tr>\n",
       "    <tr>\n",
       "      <th>adm_source</th>\n",
       "      <th></th>\n",
       "      <th></th>\n",
       "    </tr>\n",
       "  </thead>\n",
       "  <tbody>\n",
       "    <tr>\n",
       "      <th>Clinic Referral</th>\n",
       "      <td>0.833333</td>\n",
       "      <td>0.166667</td>\n",
       "    </tr>\n",
       "    <tr>\n",
       "      <th>Emergency_Room</th>\n",
       "      <td>0.802658</td>\n",
       "      <td>0.197342</td>\n",
       "    </tr>\n",
       "    <tr>\n",
       "      <th>Others</th>\n",
       "      <td>0.846154</td>\n",
       "      <td>0.153846</td>\n",
       "    </tr>\n",
       "    <tr>\n",
       "      <th>Physcian Referral</th>\n",
       "      <td>0.844500</td>\n",
       "      <td>0.155500</td>\n",
       "    </tr>\n",
       "    <tr>\n",
       "      <th>Transfer_Another_Hospital</th>\n",
       "      <td>0.904639</td>\n",
       "      <td>0.095361</td>\n",
       "    </tr>\n",
       "    <tr>\n",
       "      <th>Transfer_Hospital</th>\n",
       "      <td>0.887255</td>\n",
       "      <td>0.112745</td>\n",
       "    </tr>\n",
       "    <tr>\n",
       "      <th>Transfer_SNF</th>\n",
       "      <td>0.813559</td>\n",
       "      <td>0.186441</td>\n",
       "    </tr>\n",
       "    <tr>\n",
       "      <th>Total</th>\n",
       "      <td>0.834259</td>\n",
       "      <td>0.165741</td>\n",
       "    </tr>\n",
       "  </tbody>\n",
       "</table>\n",
       "</div>"
      ],
      "text/plain": [
       "readmitted                       No       Yes\n",
       "adm_source                                   \n",
       "Clinic Referral            0.833333  0.166667\n",
       "Emergency_Room             0.802658  0.197342\n",
       "Others                     0.846154  0.153846\n",
       "Physcian Referral          0.844500  0.155500\n",
       "Transfer_Another_Hospital  0.904639  0.095361\n",
       "Transfer_Hospital          0.887255  0.112745\n",
       "Transfer_SNF               0.813559  0.186441\n",
       "Total                      0.834259  0.165741"
      ]
     },
     "execution_count": 76,
     "metadata": {},
     "output_type": "execute_result"
    }
   ],
   "source": [
    "pd.crosstab(data.adm_source, data.readmitted, margins=True, margins_name='Total', normalize='index')"
   ]
  },
  {
   "cell_type": "code",
   "execution_count": 77,
   "id": "a2e91aeb-1fc4-4013-b5bf-bebd8c2c8fdd",
   "metadata": {},
   "outputs": [
    {
     "data": {
      "image/png": "[encoded data removed]",
      "text/plain": [
       "<Figure size 640x480 with 1 Axes>"
      ]
     },
     "metadata": {},
     "output_type": "display_data"
    }
   ],
   "source": [
    "pd.crosstab(data['adm_source'],data['readmitted']).plot(kind=\"bar\",stacked=True);"
   ]
  },
  {
   "cell_type": "code",
   "execution_count": 78,
   "id": "34be4893-d8e6-412b-ae98-dcd0c3ad08c7",
   "metadata": {},
   "outputs": [
    {
     "data": {
      "text/html": [
       "<div>\n",
       "<style scoped>\n",
       "    .dataframe tbody tr th:only-of-type {\n",
       "        vertical-align: middle;\n",
       "    }\n",
       "\n",
       "    .dataframe tbody tr th {\n",
       "        vertical-align: top;\n",
       "    }\n",
       "\n",
       "    .dataframe thead th {\n",
       "        text-align: right;\n",
       "    }\n",
       "</style>\n",
       "<table border=\"1\" class=\"dataframe\">\n",
       "  <thead>\n",
       "    <tr style=\"text-align: right;\">\n",
       "      <th>readmitted</th>\n",
       "      <th>No</th>\n",
       "      <th>Yes</th>\n",
       "    </tr>\n",
       "    <tr>\n",
       "      <th>discharge</th>\n",
       "      <th></th>\n",
       "      <th></th>\n",
       "    </tr>\n",
       "  </thead>\n",
       "  <tbody>\n",
       "    <tr>\n",
       "      <th>Against_Medical_Advice</th>\n",
       "      <td>0.740741</td>\n",
       "      <td>0.259259</td>\n",
       "    </tr>\n",
       "    <tr>\n",
       "      <th>Designated_cancer_center</th>\n",
       "      <td>0.892857</td>\n",
       "      <td>0.107143</td>\n",
       "    </tr>\n",
       "    <tr>\n",
       "      <th>GH_In_patientcare</th>\n",
       "      <td>0.831858</td>\n",
       "      <td>0.168142</td>\n",
       "    </tr>\n",
       "    <tr>\n",
       "      <th>Home_care_health</th>\n",
       "      <td>0.797101</td>\n",
       "      <td>0.202899</td>\n",
       "    </tr>\n",
       "    <tr>\n",
       "      <th>Intermediate_care_facility</th>\n",
       "      <td>0.848485</td>\n",
       "      <td>0.151515</td>\n",
       "    </tr>\n",
       "    <tr>\n",
       "      <th>Reserved_For_national_Assignment</th>\n",
       "      <td>0.811728</td>\n",
       "      <td>0.188272</td>\n",
       "    </tr>\n",
       "    <tr>\n",
       "      <th>Routine_Discharge</th>\n",
       "      <td>0.858639</td>\n",
       "      <td>0.141361</td>\n",
       "    </tr>\n",
       "    <tr>\n",
       "      <th>Skilled_Nursing_Faciltiy</th>\n",
       "      <td>0.737458</td>\n",
       "      <td>0.262542</td>\n",
       "    </tr>\n",
       "    <tr>\n",
       "      <th>Total</th>\n",
       "      <td>0.834259</td>\n",
       "      <td>0.165741</td>\n",
       "    </tr>\n",
       "  </tbody>\n",
       "</table>\n",
       "</div>"
      ],
      "text/plain": [
       "readmitted                              No       Yes\n",
       "discharge                                           \n",
       "Against_Medical_Advice            0.740741  0.259259\n",
       "Designated_cancer_center          0.892857  0.107143\n",
       "GH_In_patientcare                 0.831858  0.168142\n",
       "Home_care_health                  0.797101  0.202899\n",
       "Intermediate_care_facility        0.848485  0.151515\n",
       "Reserved_For_national_Assignment  0.811728  0.188272\n",
       "Routine_Discharge                 0.858639  0.141361\n",
       "Skilled_Nursing_Faciltiy          0.737458  0.262542\n",
       "Total                             0.834259  0.165741"
      ]
     },
     "execution_count": 78,
     "metadata": {},
     "output_type": "execute_result"
    }
   ],
   "source": [
    "pd.crosstab(data.discharge, data.readmitted, margins=True, margins_name='Total', normalize='index')"
   ]
  },
  {
   "cell_type": "code",
   "execution_count": 79,
   "id": "af2d316a-c6c0-414c-846e-7498501fde75",
   "metadata": {},
   "outputs": [
    {
     "data": {
      "image/png": "[encoded data removed]",
      "text/plain": [
       "<Figure size 640x480 with 1 Axes>"
      ]
     },
     "metadata": {},
     "output_type": "display_data"
    }
   ],
   "source": [
    "pd.crosstab(data['discharge'],data['readmitted']).plot(kind=\"bar\",stacked=True);"
   ]
  },
  {
   "cell_type": "code",
   "execution_count": 80,
   "id": "8b182abc-eef2-457f-9806-d8bd1f47dc7b",
   "metadata": {},
   "outputs": [
    {
     "data": {
      "text/html": [
       "<div>\n",
       "<style scoped>\n",
       "    .dataframe tbody tr th:only-of-type {\n",
       "        vertical-align: middle;\n",
       "    }\n",
       "\n",
       "    .dataframe tbody tr th {\n",
       "        vertical-align: top;\n",
       "    }\n",
       "\n",
       "    .dataframe thead th {\n",
       "        text-align: right;\n",
       "    }\n",
       "</style>\n",
       "<table border=\"1\" class=\"dataframe\">\n",
       "  <thead>\n",
       "    <tr style=\"text-align: right;\">\n",
       "      <th>readmitted</th>\n",
       "      <th>No</th>\n",
       "      <th>Yes</th>\n",
       "    </tr>\n",
       "    <tr>\n",
       "      <th>hospital_duration</th>\n",
       "      <th></th>\n",
       "      <th></th>\n",
       "    </tr>\n",
       "  </thead>\n",
       "  <tbody>\n",
       "    <tr>\n",
       "      <th>1 day</th>\n",
       "      <td>0.885458</td>\n",
       "      <td>0.114542</td>\n",
       "    </tr>\n",
       "    <tr>\n",
       "      <th>2-5 days</th>\n",
       "      <td>0.831584</td>\n",
       "      <td>0.168416</td>\n",
       "    </tr>\n",
       "    <tr>\n",
       "      <th>6-8 days</th>\n",
       "      <td>0.806888</td>\n",
       "      <td>0.193112</td>\n",
       "    </tr>\n",
       "    <tr>\n",
       "      <th>9-10 days</th>\n",
       "      <td>0.787402</td>\n",
       "      <td>0.212598</td>\n",
       "    </tr>\n",
       "    <tr>\n",
       "      <th>&gt;10 days</th>\n",
       "      <td>0.820981</td>\n",
       "      <td>0.179019</td>\n",
       "    </tr>\n",
       "    <tr>\n",
       "      <th>Total</th>\n",
       "      <td>0.834259</td>\n",
       "      <td>0.165741</td>\n",
       "    </tr>\n",
       "  </tbody>\n",
       "</table>\n",
       "</div>"
      ],
      "text/plain": [
       "readmitted               No       Yes\n",
       "hospital_duration                    \n",
       "1 day              0.885458  0.114542\n",
       "2-5 days           0.831584  0.168416\n",
       "6-8 days           0.806888  0.193112\n",
       "9-10 days          0.787402  0.212598\n",
       ">10 days           0.820981  0.179019\n",
       "Total              0.834259  0.165741"
      ]
     },
     "execution_count": 80,
     "metadata": {},
     "output_type": "execute_result"
    }
   ],
   "source": [
    "pd.crosstab(data.hospital_duration, data.readmitted, margins=True, margins_name='Total', normalize='index')"
   ]
  },
  {
   "cell_type": "code",
   "execution_count": 81,
   "id": "d32d8408-3b46-4b93-965b-e161bc0954d1",
   "metadata": {},
   "outputs": [
    {
     "data": {
      "image/png": "[encoded data removed]",
      "text/plain": [
       "<Figure size 640x480 with 1 Axes>"
      ]
     },
     "metadata": {},
     "output_type": "display_data"
    }
   ],
   "source": [
    "pd.crosstab(data['hospital_duration'],data['readmitted']).plot(kind=\"bar\",stacked=True);"
   ]
  },
  {
   "cell_type": "code",
   "execution_count": 82,
   "id": "afd49a40-ddd7-4259-8edb-90d4f6d30f29",
   "metadata": {},
   "outputs": [
    {
     "data": {
      "text/html": [
       "<div>\n",
       "<style scoped>\n",
       "    .dataframe tbody tr th:only-of-type {\n",
       "        vertical-align: middle;\n",
       "    }\n",
       "\n",
       "    .dataframe tbody tr th {\n",
       "        vertical-align: top;\n",
       "    }\n",
       "\n",
       "    .dataframe thead th {\n",
       "        text-align: right;\n",
       "    }\n",
       "</style>\n",
       "<table border=\"1\" class=\"dataframe\">\n",
       "  <thead>\n",
       "    <tr style=\"text-align: right;\">\n",
       "      <th>readmitted</th>\n",
       "      <th>No</th>\n",
       "      <th>Yes</th>\n",
       "    </tr>\n",
       "    <tr>\n",
       "      <th>medical_specialty</th>\n",
       "      <th></th>\n",
       "      <th></th>\n",
       "    </tr>\n",
       "  </thead>\n",
       "  <tbody>\n",
       "    <tr>\n",
       "      <th>Cardiology</th>\n",
       "      <td>0.869390</td>\n",
       "      <td>0.130610</td>\n",
       "    </tr>\n",
       "    <tr>\n",
       "      <th>Family/GeneralPractice</th>\n",
       "      <td>0.833871</td>\n",
       "      <td>0.166129</td>\n",
       "    </tr>\n",
       "    <tr>\n",
       "      <th>Nephrology</th>\n",
       "      <td>0.743316</td>\n",
       "      <td>0.256684</td>\n",
       "    </tr>\n",
       "    <tr>\n",
       "      <th>Surgery-General</th>\n",
       "      <td>0.833628</td>\n",
       "      <td>0.166372</td>\n",
       "    </tr>\n",
       "    <tr>\n",
       "      <th>Total</th>\n",
       "      <td>0.834259</td>\n",
       "      <td>0.165741</td>\n",
       "    </tr>\n",
       "  </tbody>\n",
       "</table>\n",
       "</div>"
      ],
      "text/plain": [
       "readmitted                    No       Yes\n",
       "medical_specialty                         \n",
       "Cardiology              0.869390  0.130610\n",
       "Family/GeneralPractice  0.833871  0.166129\n",
       "Nephrology              0.743316  0.256684\n",
       "Surgery-General         0.833628  0.166372\n",
       "Total                   0.834259  0.165741"
      ]
     },
     "execution_count": 82,
     "metadata": {},
     "output_type": "execute_result"
    }
   ],
   "source": [
    "pd.crosstab(data.medical_specialty, data.readmitted, margins=True, margins_name='Total', normalize='index')"
   ]
  },
  {
   "cell_type": "code",
   "execution_count": 83,
   "id": "cce81a9c-9853-40d3-9b4a-119023612a67",
   "metadata": {},
   "outputs": [
    {
     "data": {
      "image/png": "[encoded data removed]",
      "text/plain": [
       "<Figure size 640x480 with 1 Axes>"
      ]
     },
     "metadata": {},
     "output_type": "display_data"
    }
   ],
   "source": [
    "pd.crosstab(data['medical_specialty'],data['readmitted']).plot(kind=\"bar\",stacked=True);"
   ]
  },
  {
   "cell_type": "code",
   "execution_count": 84,
   "id": "7a651d80-6652-474f-8003-8f54355851e2",
   "metadata": {},
   "outputs": [
    {
     "data": {
      "text/html": [
       "<div>\n",
       "<style scoped>\n",
       "    .dataframe tbody tr th:only-of-type {\n",
       "        vertical-align: middle;\n",
       "    }\n",
       "\n",
       "    .dataframe tbody tr th {\n",
       "        vertical-align: top;\n",
       "    }\n",
       "\n",
       "    .dataframe thead th {\n",
       "        text-align: right;\n",
       "    }\n",
       "</style>\n",
       "<table border=\"1\" class=\"dataframe\">\n",
       "  <thead>\n",
       "    <tr style=\"text-align: right;\">\n",
       "      <th>readmitted</th>\n",
       "      <th>No</th>\n",
       "      <th>Yes</th>\n",
       "    </tr>\n",
       "    <tr>\n",
       "      <th>procedures</th>\n",
       "      <th></th>\n",
       "      <th></th>\n",
       "    </tr>\n",
       "  </thead>\n",
       "  <tbody>\n",
       "    <tr>\n",
       "      <th>1 procd</th>\n",
       "      <td>0.823098</td>\n",
       "      <td>0.176902</td>\n",
       "    </tr>\n",
       "    <tr>\n",
       "      <th>2 procd</th>\n",
       "      <td>0.811698</td>\n",
       "      <td>0.188302</td>\n",
       "    </tr>\n",
       "    <tr>\n",
       "      <th>3 procd</th>\n",
       "      <td>0.834520</td>\n",
       "      <td>0.165480</td>\n",
       "    </tr>\n",
       "    <tr>\n",
       "      <th>4-5 procd</th>\n",
       "      <td>0.854478</td>\n",
       "      <td>0.145522</td>\n",
       "    </tr>\n",
       "    <tr>\n",
       "      <th>&gt;5 times</th>\n",
       "      <td>0.866005</td>\n",
       "      <td>0.133995</td>\n",
       "    </tr>\n",
       "    <tr>\n",
       "      <th>None</th>\n",
       "      <td>0.836665</td>\n",
       "      <td>0.163335</td>\n",
       "    </tr>\n",
       "    <tr>\n",
       "      <th>Total</th>\n",
       "      <td>0.834259</td>\n",
       "      <td>0.165741</td>\n",
       "    </tr>\n",
       "  </tbody>\n",
       "</table>\n",
       "</div>"
      ],
      "text/plain": [
       "readmitted        No       Yes\n",
       "procedures                    \n",
       "1 procd     0.823098  0.176902\n",
       "2 procd     0.811698  0.188302\n",
       "3 procd     0.834520  0.165480\n",
       "4-5 procd   0.854478  0.145522\n",
       ">5 times    0.866005  0.133995\n",
       "None        0.836665  0.163335\n",
       "Total       0.834259  0.165741"
      ]
     },
     "execution_count": 84,
     "metadata": {},
     "output_type": "execute_result"
    }
   ],
   "source": [
    "pd.crosstab(data.procedures, data.readmitted, margins=True, margins_name='Total', normalize='index')"
   ]
  },
  {
   "cell_type": "code",
   "execution_count": 85,
   "id": "b538072e-b7ea-4392-bcc7-dce09cbcbbd0",
   "metadata": {},
   "outputs": [
    {
     "data": {
      "image/png": "[encoded data removed]",
      "text/plain": [
       "<Figure size 640x480 with 1 Axes>"
      ]
     },
     "metadata": {},
     "output_type": "display_data"
    }
   ],
   "source": [
    "pd.crosstab(data['procedures'],data['readmitted']).plot(kind=\"bar\",stacked=True);"
   ]
  },
  {
   "cell_type": "code",
   "execution_count": 86,
   "id": "1f997ee1-46d8-4115-89bd-91bf7f6890c3",
   "metadata": {},
   "outputs": [
    {
     "data": {
      "text/html": [
       "<div>\n",
       "<style scoped>\n",
       "    .dataframe tbody tr th:only-of-type {\n",
       "        vertical-align: middle;\n",
       "    }\n",
       "\n",
       "    .dataframe tbody tr th {\n",
       "        vertical-align: top;\n",
       "    }\n",
       "\n",
       "    .dataframe thead th {\n",
       "        text-align: right;\n",
       "    }\n",
       "</style>\n",
       "<table border=\"1\" class=\"dataframe\">\n",
       "  <thead>\n",
       "    <tr style=\"text-align: right;\">\n",
       "      <th>readmitted</th>\n",
       "      <th>No</th>\n",
       "      <th>Yes</th>\n",
       "    </tr>\n",
       "    <tr>\n",
       "      <th>medications</th>\n",
       "      <th></th>\n",
       "      <th></th>\n",
       "    </tr>\n",
       "  </thead>\n",
       "  <tbody>\n",
       "    <tr>\n",
       "      <th>1-4 med</th>\n",
       "      <td>0.915730</td>\n",
       "      <td>0.084270</td>\n",
       "    </tr>\n",
       "    <tr>\n",
       "      <th>11-15 med</th>\n",
       "      <td>0.841410</td>\n",
       "      <td>0.158590</td>\n",
       "    </tr>\n",
       "    <tr>\n",
       "      <th>16 - 20 med</th>\n",
       "      <td>0.798574</td>\n",
       "      <td>0.201426</td>\n",
       "    </tr>\n",
       "    <tr>\n",
       "      <th>21-25 med</th>\n",
       "      <td>0.810726</td>\n",
       "      <td>0.189274</td>\n",
       "    </tr>\n",
       "    <tr>\n",
       "      <th>26 - 40 med</th>\n",
       "      <td>0.800384</td>\n",
       "      <td>0.199616</td>\n",
       "    </tr>\n",
       "    <tr>\n",
       "      <th>5-10 med</th>\n",
       "      <td>0.876106</td>\n",
       "      <td>0.123894</td>\n",
       "    </tr>\n",
       "    <tr>\n",
       "      <th>&gt;40 med</th>\n",
       "      <td>0.845361</td>\n",
       "      <td>0.154639</td>\n",
       "    </tr>\n",
       "    <tr>\n",
       "      <th>Total</th>\n",
       "      <td>0.834259</td>\n",
       "      <td>0.165741</td>\n",
       "    </tr>\n",
       "  </tbody>\n",
       "</table>\n",
       "</div>"
      ],
      "text/plain": [
       "readmitted         No       Yes\n",
       "medications                    \n",
       "1-4 med      0.915730  0.084270\n",
       "11-15 med    0.841410  0.158590\n",
       "16 - 20 med  0.798574  0.201426\n",
       "21-25 med    0.810726  0.189274\n",
       "26 - 40 med  0.800384  0.199616\n",
       "5-10 med     0.876106  0.123894\n",
       ">40 med      0.845361  0.154639\n",
       "Total        0.834259  0.165741"
      ]
     },
     "execution_count": 86,
     "metadata": {},
     "output_type": "execute_result"
    }
   ],
   "source": [
    "pd.crosstab(data.medications, data.readmitted, margins=True, margins_name='Total', normalize='index')"
   ]
  },
  {
   "cell_type": "code",
   "execution_count": 87,
   "id": "9b5af7f4-d999-409d-b59c-3a4460d1c918",
   "metadata": {},
   "outputs": [
    {
     "data": {
      "image/png": "[encoded data removed]",
      "text/plain": [
       "<Figure size 640x480 with 1 Axes>"
      ]
     },
     "metadata": {},
     "output_type": "display_data"
    }
   ],
   "source": [
    "pd.crosstab(data['medications'],data['readmitted']).plot(kind=\"bar\",stacked=True);"
   ]
  },
  {
   "cell_type": "code",
   "execution_count": 88,
   "id": "ec0d11cf-4f44-4303-8a7b-47385884c232",
   "metadata": {},
   "outputs": [
    {
     "data": {
      "text/html": [
       "<div>\n",
       "<style scoped>\n",
       "    .dataframe tbody tr th:only-of-type {\n",
       "        vertical-align: middle;\n",
       "    }\n",
       "\n",
       "    .dataframe tbody tr th {\n",
       "        vertical-align: top;\n",
       "    }\n",
       "\n",
       "    .dataframe thead th {\n",
       "        text-align: right;\n",
       "    }\n",
       "</style>\n",
       "<table border=\"1\" class=\"dataframe\">\n",
       "  <thead>\n",
       "    <tr style=\"text-align: right;\">\n",
       "      <th>readmitted</th>\n",
       "      <th>No</th>\n",
       "      <th>Yes</th>\n",
       "    </tr>\n",
       "    <tr>\n",
       "      <th>emergency_visit</th>\n",
       "      <th></th>\n",
       "      <th></th>\n",
       "    </tr>\n",
       "  </thead>\n",
       "  <tbody>\n",
       "    <tr>\n",
       "      <th>1 Time</th>\n",
       "      <td>0.766667</td>\n",
       "      <td>0.233333</td>\n",
       "    </tr>\n",
       "    <tr>\n",
       "      <th>2 Times</th>\n",
       "      <td>0.655172</td>\n",
       "      <td>0.344828</td>\n",
       "    </tr>\n",
       "    <tr>\n",
       "      <th>3 - 5 times</th>\n",
       "      <td>0.492754</td>\n",
       "      <td>0.507246</td>\n",
       "    </tr>\n",
       "    <tr>\n",
       "      <th>&gt;5 times</th>\n",
       "      <td>0.120000</td>\n",
       "      <td>0.880000</td>\n",
       "    </tr>\n",
       "    <tr>\n",
       "      <th>None</th>\n",
       "      <td>0.852895</td>\n",
       "      <td>0.147105</td>\n",
       "    </tr>\n",
       "    <tr>\n",
       "      <th>Total</th>\n",
       "      <td>0.834259</td>\n",
       "      <td>0.165741</td>\n",
       "    </tr>\n",
       "  </tbody>\n",
       "</table>\n",
       "</div>"
      ],
      "text/plain": [
       "readmitted             No       Yes\n",
       "emergency_visit                    \n",
       "1 Time           0.766667  0.233333\n",
       "2 Times          0.655172  0.344828\n",
       "3 - 5 times      0.492754  0.507246\n",
       ">5 times         0.120000  0.880000\n",
       "None             0.852895  0.147105\n",
       "Total            0.834259  0.165741"
      ]
     },
     "execution_count": 88,
     "metadata": {},
     "output_type": "execute_result"
    }
   ],
   "source": [
    "pd.crosstab(data.emergency_visit, data.readmitted, margins=True, margins_name='Total', normalize='index')"
   ]
  },
  {
   "cell_type": "code",
   "execution_count": 89,
   "id": "eb97739e-2218-4acb-8c1a-e6c20eb568b0",
   "metadata": {},
   "outputs": [
    {
     "data": {
      "image/png": "[encoded data removed]",
      "text/plain": [
       "<Figure size 640x480 with 1 Axes>"
      ]
     },
     "metadata": {},
     "output_type": "display_data"
    }
   ],
   "source": [
    "pd.crosstab(data['emergency_visit'],data['readmitted']).plot(kind=\"bar\",stacked=True);"
   ]
  },
  {
   "cell_type": "code",
   "execution_count": 90,
   "id": "92ef9cd2-1156-4c26-9cee-726f2573ac31",
   "metadata": {},
   "outputs": [
    {
     "data": {
      "text/html": [
       "<div>\n",
       "<style scoped>\n",
       "    .dataframe tbody tr th:only-of-type {\n",
       "        vertical-align: middle;\n",
       "    }\n",
       "\n",
       "    .dataframe tbody tr th {\n",
       "        vertical-align: top;\n",
       "    }\n",
       "\n",
       "    .dataframe thead th {\n",
       "        text-align: right;\n",
       "    }\n",
       "</style>\n",
       "<table border=\"1\" class=\"dataframe\">\n",
       "  <thead>\n",
       "    <tr style=\"text-align: right;\">\n",
       "      <th>readmitted</th>\n",
       "      <th>No</th>\n",
       "      <th>Yes</th>\n",
       "    </tr>\n",
       "    <tr>\n",
       "      <th>outpatient_visit</th>\n",
       "      <th></th>\n",
       "      <th></th>\n",
       "    </tr>\n",
       "  </thead>\n",
       "  <tbody>\n",
       "    <tr>\n",
       "      <th>1 Time</th>\n",
       "      <td>0.764851</td>\n",
       "      <td>0.235149</td>\n",
       "    </tr>\n",
       "    <tr>\n",
       "      <th>2 Times</th>\n",
       "      <td>0.694215</td>\n",
       "      <td>0.305785</td>\n",
       "    </tr>\n",
       "    <tr>\n",
       "      <th>3 - 5 times</th>\n",
       "      <td>0.746032</td>\n",
       "      <td>0.253968</td>\n",
       "    </tr>\n",
       "    <tr>\n",
       "      <th>&gt;5 times</th>\n",
       "      <td>0.764706</td>\n",
       "      <td>0.235294</td>\n",
       "    </tr>\n",
       "    <tr>\n",
       "      <th>None</th>\n",
       "      <td>0.847349</td>\n",
       "      <td>0.152651</td>\n",
       "    </tr>\n",
       "    <tr>\n",
       "      <th>Total</th>\n",
       "      <td>0.834259</td>\n",
       "      <td>0.165741</td>\n",
       "    </tr>\n",
       "  </tbody>\n",
       "</table>\n",
       "</div>"
      ],
      "text/plain": [
       "readmitted              No       Yes\n",
       "outpatient_visit                    \n",
       "1 Time            0.764851  0.235149\n",
       "2 Times           0.694215  0.305785\n",
       "3 - 5 times       0.746032  0.253968\n",
       ">5 times          0.764706  0.235294\n",
       "None              0.847349  0.152651\n",
       "Total             0.834259  0.165741"
      ]
     },
     "execution_count": 90,
     "metadata": {},
     "output_type": "execute_result"
    }
   ],
   "source": [
    "pd.crosstab(data.outpatient_visit, data.readmitted, margins=True, margins_name='Total', normalize='index')"
   ]
  },
  {
   "cell_type": "code",
   "execution_count": 91,
   "id": "7b896c0b-9fec-4b0b-8c5b-c1f387c735ab",
   "metadata": {},
   "outputs": [
    {
     "data": {
      "image/png": "[encoded data removed]",
      "text/plain": [
       "<Figure size 640x480 with 1 Axes>"
      ]
     },
     "metadata": {},
     "output_type": "display_data"
    }
   ],
   "source": [
    "pd.crosstab(data['outpatient_visit'],data['readmitted']).plot(kind=\"bar\",stacked=True);"
   ]
  },
  {
   "cell_type": "code",
   "execution_count": 92,
   "id": "ecabee46-33a9-4ad9-beb6-94279de0328f",
   "metadata": {},
   "outputs": [
    {
     "data": {
      "text/html": [
       "<div>\n",
       "<style scoped>\n",
       "    .dataframe tbody tr th:only-of-type {\n",
       "        vertical-align: middle;\n",
       "    }\n",
       "\n",
       "    .dataframe tbody tr th {\n",
       "        vertical-align: top;\n",
       "    }\n",
       "\n",
       "    .dataframe thead th {\n",
       "        text-align: right;\n",
       "    }\n",
       "</style>\n",
       "<table border=\"1\" class=\"dataframe\">\n",
       "  <thead>\n",
       "    <tr style=\"text-align: right;\">\n",
       "      <th>readmitted</th>\n",
       "      <th>No</th>\n",
       "      <th>Yes</th>\n",
       "    </tr>\n",
       "    <tr>\n",
       "      <th>inpatient_visit</th>\n",
       "      <th></th>\n",
       "      <th></th>\n",
       "    </tr>\n",
       "  </thead>\n",
       "  <tbody>\n",
       "    <tr>\n",
       "      <th>1 Time</th>\n",
       "      <td>0.776008</td>\n",
       "      <td>0.223992</td>\n",
       "    </tr>\n",
       "    <tr>\n",
       "      <th>2 Times</th>\n",
       "      <td>0.675410</td>\n",
       "      <td>0.324590</td>\n",
       "    </tr>\n",
       "    <tr>\n",
       "      <th>3 - 6 times</th>\n",
       "      <td>0.560886</td>\n",
       "      <td>0.439114</td>\n",
       "    </tr>\n",
       "    <tr>\n",
       "      <th>&gt;6 times</th>\n",
       "      <td>0.260870</td>\n",
       "      <td>0.739130</td>\n",
       "    </tr>\n",
       "    <tr>\n",
       "      <th>None</th>\n",
       "      <td>0.892816</td>\n",
       "      <td>0.107184</td>\n",
       "    </tr>\n",
       "    <tr>\n",
       "      <th>Total</th>\n",
       "      <td>0.834259</td>\n",
       "      <td>0.165741</td>\n",
       "    </tr>\n",
       "  </tbody>\n",
       "</table>\n",
       "</div>"
      ],
      "text/plain": [
       "readmitted             No       Yes\n",
       "inpatient_visit                    \n",
       "1 Time           0.776008  0.223992\n",
       "2 Times          0.675410  0.324590\n",
       "3 - 6 times      0.560886  0.439114\n",
       ">6 times         0.260870  0.739130\n",
       "None             0.892816  0.107184\n",
       "Total            0.834259  0.165741"
      ]
     },
     "execution_count": 92,
     "metadata": {},
     "output_type": "execute_result"
    }
   ],
   "source": [
    "pd.crosstab(data.inpatient_visit, data.readmitted, margins=True, margins_name='Total', normalize='index')"
   ]
  },
  {
   "cell_type": "code",
   "execution_count": 93,
   "id": "b0daa1a5-2946-4bb8-a2a9-5a62be26838b",
   "metadata": {},
   "outputs": [
    {
     "data": {
      "image/png": "[encoded data removed]",
      "text/plain": [
       "<Figure size 640x480 with 1 Axes>"
      ]
     },
     "metadata": {},
     "output_type": "display_data"
    }
   ],
   "source": [
    "pd.crosstab(data['inpatient_visit'],data['readmitted']).plot(kind=\"bar\",stacked=True);"
   ]
  },
  {
   "cell_type": "code",
   "execution_count": 94,
   "id": "b213422e-7407-4a5d-bcb2-c28d02331408",
   "metadata": {},
   "outputs": [
    {
     "data": {
      "text/html": [
       "<div>\n",
       "<style scoped>\n",
       "    .dataframe tbody tr th:only-of-type {\n",
       "        vertical-align: middle;\n",
       "    }\n",
       "\n",
       "    .dataframe tbody tr th {\n",
       "        vertical-align: top;\n",
       "    }\n",
       "\n",
       "    .dataframe thead th {\n",
       "        text-align: right;\n",
       "    }\n",
       "</style>\n",
       "<table border=\"1\" class=\"dataframe\">\n",
       "  <thead>\n",
       "    <tr style=\"text-align: right;\">\n",
       "      <th>readmitted</th>\n",
       "      <th>No</th>\n",
       "      <th>Yes</th>\n",
       "    </tr>\n",
       "    <tr>\n",
       "      <th>payer_code</th>\n",
       "      <th></th>\n",
       "      <th></th>\n",
       "    </tr>\n",
       "  </thead>\n",
       "  <tbody>\n",
       "    <tr>\n",
       "      <th>BC</th>\n",
       "      <td>0.864348</td>\n",
       "      <td>0.135652</td>\n",
       "    </tr>\n",
       "    <tr>\n",
       "      <th>CM</th>\n",
       "      <td>0.728571</td>\n",
       "      <td>0.271429</td>\n",
       "    </tr>\n",
       "    <tr>\n",
       "      <th>CP</th>\n",
       "      <td>0.895954</td>\n",
       "      <td>0.104046</td>\n",
       "    </tr>\n",
       "    <tr>\n",
       "      <th>HM</th>\n",
       "      <td>0.913793</td>\n",
       "      <td>0.086207</td>\n",
       "    </tr>\n",
       "    <tr>\n",
       "      <th>MC</th>\n",
       "      <td>0.812740</td>\n",
       "      <td>0.187260</td>\n",
       "    </tr>\n",
       "    <tr>\n",
       "      <th>MD</th>\n",
       "      <td>0.822981</td>\n",
       "      <td>0.177019</td>\n",
       "    </tr>\n",
       "    <tr>\n",
       "      <th>SP</th>\n",
       "      <td>0.836190</td>\n",
       "      <td>0.163810</td>\n",
       "    </tr>\n",
       "    <tr>\n",
       "      <th>UN</th>\n",
       "      <td>0.888620</td>\n",
       "      <td>0.111380</td>\n",
       "    </tr>\n",
       "    <tr>\n",
       "      <th>Total</th>\n",
       "      <td>0.834259</td>\n",
       "      <td>0.165741</td>\n",
       "    </tr>\n",
       "  </tbody>\n",
       "</table>\n",
       "</div>"
      ],
      "text/plain": [
       "readmitted        No       Yes\n",
       "payer_code                    \n",
       "BC          0.864348  0.135652\n",
       "CM          0.728571  0.271429\n",
       "CP          0.895954  0.104046\n",
       "HM          0.913793  0.086207\n",
       "MC          0.812740  0.187260\n",
       "MD          0.822981  0.177019\n",
       "SP          0.836190  0.163810\n",
       "UN          0.888620  0.111380\n",
       "Total       0.834259  0.165741"
      ]
     },
     "execution_count": 94,
     "metadata": {},
     "output_type": "execute_result"
    }
   ],
   "source": [
    "pd.crosstab(data.payer_code, data.readmitted, margins=True, margins_name='Total', normalize='index')"
   ]
  },
  {
   "cell_type": "code",
   "execution_count": 95,
   "id": "a21e2aba-9902-4733-a9ea-af405f82ed54",
   "metadata": {},
   "outputs": [
    {
     "data": {
      "image/png": "[encoded data removed]",
      "text/plain": [
       "<Figure size 640x480 with 1 Axes>"
      ]
     },
     "metadata": {},
     "output_type": "display_data"
    }
   ],
   "source": [
    "pd.crosstab(data['payer_code'],data['readmitted']).plot(kind=\"bar\",stacked=True);"
   ]
  },
  {
   "cell_type": "markdown",
   "id": "51358a02-6d2f-403e-93e3-bc0647012905",
   "metadata": {},
   "source": [
    "### Econometric modelling"
   ]
  },
  {
   "cell_type": "code",
   "execution_count": 96,
   "id": "28905325-574f-4b7f-85a8-565442dc5c13",
   "metadata": {},
   "outputs": [],
   "source": [
    "# Create dummy variables\n",
    "data2 = pd.get_dummies(data, drop_first=True)"
   ]
  },
  {
   "cell_type": "code",
   "execution_count": 97,
   "id": "117fffd0-70b7-48b5-9196-6f92503fcbb2",
   "metadata": {},
   "outputs": [
    {
     "data": {
      "text/html": [
       "<div>\n",
       "<style scoped>\n",
       "    .dataframe tbody tr th:only-of-type {\n",
       "        vertical-align: middle;\n",
       "    }\n",
       "\n",
       "    .dataframe tbody tr th {\n",
       "        vertical-align: top;\n",
       "    }\n",
       "\n",
       "    .dataframe thead th {\n",
       "        text-align: right;\n",
       "    }\n",
       "</style>\n",
       "<table border=\"1\" class=\"dataframe\">\n",
       "  <thead>\n",
       "    <tr style=\"text-align: right;\">\n",
       "      <th></th>\n",
       "      <th>race_Asian</th>\n",
       "      <th>race_Caucasian</th>\n",
       "      <th>race_Hispanic</th>\n",
       "      <th>race_Other</th>\n",
       "      <th>age_[20-30)</th>\n",
       "      <th>age_[30-40)</th>\n",
       "      <th>age_[40-50)</th>\n",
       "      <th>age_[50-60)</th>\n",
       "      <th>age_[60-70)</th>\n",
       "      <th>age_[70-80)</th>\n",
       "      <th>age_[80-90)</th>\n",
       "      <th>age_[90-100)</th>\n",
       "      <th>admissions_Emergency</th>\n",
       "      <th>admissions_Trauma</th>\n",
       "      <th>admissions_Urgent</th>\n",
       "      <th>adm_source_Emergency_Room</th>\n",
       "      <th>adm_source_Others</th>\n",
       "      <th>adm_source_Physcian Referral</th>\n",
       "      <th>adm_source_Transfer_Another_Hospital</th>\n",
       "      <th>adm_source_Transfer_Hospital</th>\n",
       "      <th>adm_source_Transfer_SNF</th>\n",
       "      <th>discharge_Designated_cancer_center</th>\n",
       "      <th>discharge_GH_In_patientcare</th>\n",
       "      <th>discharge_Home_care_health</th>\n",
       "      <th>discharge_Intermediate_care_facility</th>\n",
       "      <th>discharge_Reserved_For_national_Assignment</th>\n",
       "      <th>discharge_Routine_Discharge</th>\n",
       "      <th>discharge_Skilled_Nursing_Faciltiy</th>\n",
       "      <th>hospital_duration_2-5 days</th>\n",
       "      <th>hospital_duration_6-8 days</th>\n",
       "      <th>hospital_duration_9-10 days</th>\n",
       "      <th>hospital_duration_&gt;10 days</th>\n",
       "      <th>medical_specialty_Family/GeneralPractice</th>\n",
       "      <th>medical_specialty_Nephrology</th>\n",
       "      <th>medical_specialty_Surgery-General</th>\n",
       "      <th>payer_code_CM</th>\n",
       "      <th>payer_code_CP</th>\n",
       "      <th>payer_code_HM</th>\n",
       "      <th>payer_code_MC</th>\n",
       "      <th>payer_code_MD</th>\n",
       "      <th>payer_code_SP</th>\n",
       "      <th>payer_code_UN</th>\n",
       "      <th>procedures_2 procd</th>\n",
       "      <th>procedures_3 procd</th>\n",
       "      <th>procedures_4-5 procd</th>\n",
       "      <th>procedures_&gt;5 times</th>\n",
       "      <th>procedures_None</th>\n",
       "      <th>medications_11-15 med</th>\n",
       "      <th>medications_16 - 20 med</th>\n",
       "      <th>medications_21-25 med</th>\n",
       "      <th>medications_26 - 40 med</th>\n",
       "      <th>medications_5-10 med</th>\n",
       "      <th>medications_&gt;40 med</th>\n",
       "      <th>outpatient_visit_2 Times</th>\n",
       "      <th>outpatient_visit_3 - 5 times</th>\n",
       "      <th>outpatient_visit_&gt;5 times</th>\n",
       "      <th>outpatient_visit_None</th>\n",
       "      <th>inpatient_visit_2 Times</th>\n",
       "      <th>inpatient_visit_3 - 6 times</th>\n",
       "      <th>inpatient_visit_&gt;6 times</th>\n",
       "      <th>inpatient_visit_None</th>\n",
       "      <th>emergency_visit_2 Times</th>\n",
       "      <th>emergency_visit_3 - 5 times</th>\n",
       "      <th>emergency_visit_&gt;5 times</th>\n",
       "      <th>emergency_visit_None</th>\n",
       "      <th>readmitted_Yes</th>\n",
       "    </tr>\n",
       "  </thead>\n",
       "  <tbody>\n",
       "    <tr>\n",
       "      <th>20737</th>\n",
       "      <td>0</td>\n",
       "      <td>1</td>\n",
       "      <td>0</td>\n",
       "      <td>0</td>\n",
       "      <td>0</td>\n",
       "      <td>0</td>\n",
       "      <td>0</td>\n",
       "      <td>0</td>\n",
       "      <td>1</td>\n",
       "      <td>0</td>\n",
       "      <td>0</td>\n",
       "      <td>0</td>\n",
       "      <td>0</td>\n",
       "      <td>0</td>\n",
       "      <td>1</td>\n",
       "      <td>0</td>\n",
       "      <td>0</td>\n",
       "      <td>1</td>\n",
       "      <td>0</td>\n",
       "      <td>0</td>\n",
       "      <td>0</td>\n",
       "      <td>0</td>\n",
       "      <td>0</td>\n",
       "      <td>0</td>\n",
       "      <td>0</td>\n",
       "      <td>0</td>\n",
       "      <td>1</td>\n",
       "      <td>0</td>\n",
       "      <td>1</td>\n",
       "      <td>0</td>\n",
       "      <td>0</td>\n",
       "      <td>0</td>\n",
       "      <td>0</td>\n",
       "      <td>1</td>\n",
       "      <td>0</td>\n",
       "      <td>0</td>\n",
       "      <td>0</td>\n",
       "      <td>0</td>\n",
       "      <td>1</td>\n",
       "      <td>0</td>\n",
       "      <td>0</td>\n",
       "      <td>0</td>\n",
       "      <td>0</td>\n",
       "      <td>1</td>\n",
       "      <td>0</td>\n",
       "      <td>0</td>\n",
       "      <td>0</td>\n",
       "      <td>1</td>\n",
       "      <td>0</td>\n",
       "      <td>0</td>\n",
       "      <td>0</td>\n",
       "      <td>0</td>\n",
       "      <td>0</td>\n",
       "      <td>0</td>\n",
       "      <td>0</td>\n",
       "      <td>0</td>\n",
       "      <td>1</td>\n",
       "      <td>0</td>\n",
       "      <td>0</td>\n",
       "      <td>0</td>\n",
       "      <td>1</td>\n",
       "      <td>0</td>\n",
       "      <td>0</td>\n",
       "      <td>0</td>\n",
       "      <td>1</td>\n",
       "      <td>0</td>\n",
       "    </tr>\n",
       "    <tr>\n",
       "      <th>24069</th>\n",
       "      <td>0</td>\n",
       "      <td>1</td>\n",
       "      <td>0</td>\n",
       "      <td>0</td>\n",
       "      <td>0</td>\n",
       "      <td>1</td>\n",
       "      <td>0</td>\n",
       "      <td>0</td>\n",
       "      <td>0</td>\n",
       "      <td>0</td>\n",
       "      <td>0</td>\n",
       "      <td>0</td>\n",
       "      <td>1</td>\n",
       "      <td>0</td>\n",
       "      <td>0</td>\n",
       "      <td>0</td>\n",
       "      <td>0</td>\n",
       "      <td>0</td>\n",
       "      <td>1</td>\n",
       "      <td>0</td>\n",
       "      <td>0</td>\n",
       "      <td>0</td>\n",
       "      <td>0</td>\n",
       "      <td>0</td>\n",
       "      <td>0</td>\n",
       "      <td>0</td>\n",
       "      <td>1</td>\n",
       "      <td>0</td>\n",
       "      <td>0</td>\n",
       "      <td>0</td>\n",
       "      <td>0</td>\n",
       "      <td>1</td>\n",
       "      <td>0</td>\n",
       "      <td>1</td>\n",
       "      <td>0</td>\n",
       "      <td>0</td>\n",
       "      <td>0</td>\n",
       "      <td>0</td>\n",
       "      <td>1</td>\n",
       "      <td>0</td>\n",
       "      <td>0</td>\n",
       "      <td>0</td>\n",
       "      <td>1</td>\n",
       "      <td>0</td>\n",
       "      <td>0</td>\n",
       "      <td>0</td>\n",
       "      <td>0</td>\n",
       "      <td>0</td>\n",
       "      <td>1</td>\n",
       "      <td>0</td>\n",
       "      <td>0</td>\n",
       "      <td>0</td>\n",
       "      <td>0</td>\n",
       "      <td>0</td>\n",
       "      <td>0</td>\n",
       "      <td>0</td>\n",
       "      <td>1</td>\n",
       "      <td>0</td>\n",
       "      <td>0</td>\n",
       "      <td>0</td>\n",
       "      <td>1</td>\n",
       "      <td>0</td>\n",
       "      <td>0</td>\n",
       "      <td>0</td>\n",
       "      <td>1</td>\n",
       "      <td>0</td>\n",
       "    </tr>\n",
       "    <tr>\n",
       "      <th>24117</th>\n",
       "      <td>0</td>\n",
       "      <td>1</td>\n",
       "      <td>0</td>\n",
       "      <td>0</td>\n",
       "      <td>0</td>\n",
       "      <td>1</td>\n",
       "      <td>0</td>\n",
       "      <td>0</td>\n",
       "      <td>0</td>\n",
       "      <td>0</td>\n",
       "      <td>0</td>\n",
       "      <td>0</td>\n",
       "      <td>0</td>\n",
       "      <td>0</td>\n",
       "      <td>1</td>\n",
       "      <td>0</td>\n",
       "      <td>0</td>\n",
       "      <td>0</td>\n",
       "      <td>0</td>\n",
       "      <td>1</td>\n",
       "      <td>0</td>\n",
       "      <td>0</td>\n",
       "      <td>0</td>\n",
       "      <td>0</td>\n",
       "      <td>0</td>\n",
       "      <td>0</td>\n",
       "      <td>1</td>\n",
       "      <td>0</td>\n",
       "      <td>0</td>\n",
       "      <td>0</td>\n",
       "      <td>0</td>\n",
       "      <td>1</td>\n",
       "      <td>0</td>\n",
       "      <td>1</td>\n",
       "      <td>0</td>\n",
       "      <td>0</td>\n",
       "      <td>0</td>\n",
       "      <td>0</td>\n",
       "      <td>1</td>\n",
       "      <td>0</td>\n",
       "      <td>0</td>\n",
       "      <td>0</td>\n",
       "      <td>0</td>\n",
       "      <td>0</td>\n",
       "      <td>1</td>\n",
       "      <td>0</td>\n",
       "      <td>0</td>\n",
       "      <td>0</td>\n",
       "      <td>1</td>\n",
       "      <td>0</td>\n",
       "      <td>0</td>\n",
       "      <td>0</td>\n",
       "      <td>0</td>\n",
       "      <td>0</td>\n",
       "      <td>0</td>\n",
       "      <td>0</td>\n",
       "      <td>1</td>\n",
       "      <td>0</td>\n",
       "      <td>0</td>\n",
       "      <td>0</td>\n",
       "      <td>1</td>\n",
       "      <td>0</td>\n",
       "      <td>0</td>\n",
       "      <td>0</td>\n",
       "      <td>1</td>\n",
       "      <td>0</td>\n",
       "    </tr>\n",
       "    <tr>\n",
       "      <th>24198</th>\n",
       "      <td>0</td>\n",
       "      <td>0</td>\n",
       "      <td>0</td>\n",
       "      <td>0</td>\n",
       "      <td>1</td>\n",
       "      <td>0</td>\n",
       "      <td>0</td>\n",
       "      <td>0</td>\n",
       "      <td>0</td>\n",
       "      <td>0</td>\n",
       "      <td>0</td>\n",
       "      <td>0</td>\n",
       "      <td>1</td>\n",
       "      <td>0</td>\n",
       "      <td>0</td>\n",
       "      <td>0</td>\n",
       "      <td>0</td>\n",
       "      <td>0</td>\n",
       "      <td>1</td>\n",
       "      <td>0</td>\n",
       "      <td>0</td>\n",
       "      <td>0</td>\n",
       "      <td>0</td>\n",
       "      <td>0</td>\n",
       "      <td>0</td>\n",
       "      <td>0</td>\n",
       "      <td>1</td>\n",
       "      <td>0</td>\n",
       "      <td>0</td>\n",
       "      <td>0</td>\n",
       "      <td>0</td>\n",
       "      <td>0</td>\n",
       "      <td>1</td>\n",
       "      <td>0</td>\n",
       "      <td>0</td>\n",
       "      <td>0</td>\n",
       "      <td>0</td>\n",
       "      <td>0</td>\n",
       "      <td>0</td>\n",
       "      <td>0</td>\n",
       "      <td>0</td>\n",
       "      <td>1</td>\n",
       "      <td>0</td>\n",
       "      <td>0</td>\n",
       "      <td>0</td>\n",
       "      <td>0</td>\n",
       "      <td>1</td>\n",
       "      <td>0</td>\n",
       "      <td>0</td>\n",
       "      <td>0</td>\n",
       "      <td>0</td>\n",
       "      <td>1</td>\n",
       "      <td>0</td>\n",
       "      <td>0</td>\n",
       "      <td>0</td>\n",
       "      <td>0</td>\n",
       "      <td>1</td>\n",
       "      <td>0</td>\n",
       "      <td>0</td>\n",
       "      <td>0</td>\n",
       "      <td>1</td>\n",
       "      <td>0</td>\n",
       "      <td>0</td>\n",
       "      <td>0</td>\n",
       "      <td>1</td>\n",
       "      <td>0</td>\n",
       "    </tr>\n",
       "    <tr>\n",
       "      <th>24309</th>\n",
       "      <td>0</td>\n",
       "      <td>1</td>\n",
       "      <td>0</td>\n",
       "      <td>0</td>\n",
       "      <td>0</td>\n",
       "      <td>0</td>\n",
       "      <td>0</td>\n",
       "      <td>1</td>\n",
       "      <td>0</td>\n",
       "      <td>0</td>\n",
       "      <td>0</td>\n",
       "      <td>0</td>\n",
       "      <td>1</td>\n",
       "      <td>0</td>\n",
       "      <td>0</td>\n",
       "      <td>0</td>\n",
       "      <td>0</td>\n",
       "      <td>0</td>\n",
       "      <td>1</td>\n",
       "      <td>0</td>\n",
       "      <td>0</td>\n",
       "      <td>0</td>\n",
       "      <td>0</td>\n",
       "      <td>0</td>\n",
       "      <td>0</td>\n",
       "      <td>0</td>\n",
       "      <td>1</td>\n",
       "      <td>0</td>\n",
       "      <td>1</td>\n",
       "      <td>0</td>\n",
       "      <td>0</td>\n",
       "      <td>0</td>\n",
       "      <td>0</td>\n",
       "      <td>0</td>\n",
       "      <td>1</td>\n",
       "      <td>0</td>\n",
       "      <td>0</td>\n",
       "      <td>0</td>\n",
       "      <td>0</td>\n",
       "      <td>0</td>\n",
       "      <td>0</td>\n",
       "      <td>1</td>\n",
       "      <td>0</td>\n",
       "      <td>0</td>\n",
       "      <td>0</td>\n",
       "      <td>0</td>\n",
       "      <td>1</td>\n",
       "      <td>1</td>\n",
       "      <td>0</td>\n",
       "      <td>0</td>\n",
       "      <td>0</td>\n",
       "      <td>0</td>\n",
       "      <td>0</td>\n",
       "      <td>0</td>\n",
       "      <td>0</td>\n",
       "      <td>0</td>\n",
       "      <td>1</td>\n",
       "      <td>0</td>\n",
       "      <td>0</td>\n",
       "      <td>0</td>\n",
       "      <td>1</td>\n",
       "      <td>0</td>\n",
       "      <td>0</td>\n",
       "      <td>0</td>\n",
       "      <td>1</td>\n",
       "      <td>0</td>\n",
       "    </tr>\n",
       "  </tbody>\n",
       "</table>\n",
       "</div>"
      ],
      "text/plain": [
       "       race_Asian  race_Caucasian  race_Hispanic  race_Other  age_[20-30)  \\\n",
       "20737           0               1              0           0            0   \n",
       "24069           0               1              0           0            0   \n",
       "24117           0               1              0           0            0   \n",
       "24198           0               0              0           0            1   \n",
       "24309           0               1              0           0            0   \n",
       "\n",
       "       age_[30-40)  age_[40-50)  age_[50-60)  age_[60-70)  age_[70-80)  \\\n",
       "20737            0            0            0            1            0   \n",
       "24069            1            0            0            0            0   \n",
       "24117            1            0            0            0            0   \n",
       "24198            0            0            0            0            0   \n",
       "24309            0            0            1            0            0   \n",
       "\n",
       "       age_[80-90)  age_[90-100)  admissions_Emergency  admissions_Trauma  \\\n",
       "20737            0             0                     0                  0   \n",
       "24069            0             0                     1                  0   \n",
       "24117            0             0                     0                  0   \n",
       "24198            0             0                     1                  0   \n",
       "24309            0             0                     1                  0   \n",
       "\n",
       "       admissions_Urgent  adm_source_Emergency_Room  adm_source_Others  \\\n",
       "20737                  1                          0                  0   \n",
       "24069                  0                          0                  0   \n",
       "24117                  1                          0                  0   \n",
       "24198                  0                          0                  0   \n",
       "24309                  0                          0                  0   \n",
       "\n",
       "       adm_source_Physcian Referral  adm_source_Transfer_Another_Hospital  \\\n",
       "20737                             1                                     0   \n",
       "24069                             0                                     1   \n",
       "24117                             0                                     0   \n",
       "24198                             0                                     1   \n",
       "24309                             0                                     1   \n",
       "\n",
       "       adm_source_Transfer_Hospital  adm_source_Transfer_SNF  \\\n",
       "20737                             0                        0   \n",
       "24069                             0                        0   \n",
       "24117                             1                        0   \n",
       "24198                             0                        0   \n",
       "24309                             0                        0   \n",
       "\n",
       "       discharge_Designated_cancer_center  discharge_GH_In_patientcare  \\\n",
       "20737                                   0                            0   \n",
       "24069                                   0                            0   \n",
       "24117                                   0                            0   \n",
       "24198                                   0                            0   \n",
       "24309                                   0                            0   \n",
       "\n",
       "       discharge_Home_care_health  discharge_Intermediate_care_facility  \\\n",
       "20737                           0                                     0   \n",
       "24069                           0                                     0   \n",
       "24117                           0                                     0   \n",
       "24198                           0                                     0   \n",
       "24309                           0                                     0   \n",
       "\n",
       "       discharge_Reserved_For_national_Assignment  \\\n",
       "20737                                           0   \n",
       "24069                                           0   \n",
       "24117                                           0   \n",
       "24198                                           0   \n",
       "24309                                           0   \n",
       "\n",
       "       discharge_Routine_Discharge  discharge_Skilled_Nursing_Faciltiy  \\\n",
       "20737                            1                                   0   \n",
       "24069                            1                                   0   \n",
       "24117                            1                                   0   \n",
       "24198                            1                                   0   \n",
       "24309                            1                                   0   \n",
       "\n",
       "       hospital_duration_2-5 days  hospital_duration_6-8 days  \\\n",
       "20737                           1                           0   \n",
       "24069                           0                           0   \n",
       "24117                           0                           0   \n",
       "24198                           0                           0   \n",
       "24309                           1                           0   \n",
       "\n",
       "       hospital_duration_9-10 days  hospital_duration_>10 days  \\\n",
       "20737                            0                           0   \n",
       "24069                            0                           1   \n",
       "24117                            0                           1   \n",
       "24198                            0                           0   \n",
       "24309                            0                           0   \n",
       "\n",
       "       medical_specialty_Family/GeneralPractice  medical_specialty_Nephrology  \\\n",
       "20737                                         0                             1   \n",
       "24069                                         0                             1   \n",
       "24117                                         0                             1   \n",
       "24198                                         1                             0   \n",
       "24309                                         0                             0   \n",
       "\n",
       "       medical_specialty_Surgery-General  payer_code_CM  payer_code_CP  \\\n",
       "20737                                  0              0              0   \n",
       "24069                                  0              0              0   \n",
       "24117                                  0              0              0   \n",
       "24198                                  0              0              0   \n",
       "24309                                  1              0              0   \n",
       "\n",
       "       payer_code_HM  payer_code_MC  payer_code_MD  payer_code_SP  \\\n",
       "20737              0              1              0              0   \n",
       "24069              0              1              0              0   \n",
       "24117              0              1              0              0   \n",
       "24198              0              0              0              0   \n",
       "24309              0              0              0              0   \n",
       "\n",
       "       payer_code_UN  procedures_2 procd  procedures_3 procd  \\\n",
       "20737              0                   0                   1   \n",
       "24069              0                   1                   0   \n",
       "24117              0                   0                   0   \n",
       "24198              1                   0                   0   \n",
       "24309              1                   0                   0   \n",
       "\n",
       "       procedures_4-5 procd  procedures_>5 times  procedures_None  \\\n",
       "20737                     0                    0                0   \n",
       "24069                     0                    0                0   \n",
       "24117                     1                    0                0   \n",
       "24198                     0                    0                1   \n",
       "24309                     0                    0                1   \n",
       "\n",
       "       medications_11-15 med  medications_16 - 20 med  medications_21-25 med  \\\n",
       "20737                      1                        0                      0   \n",
       "24069                      0                        1                      0   \n",
       "24117                      0                        1                      0   \n",
       "24198                      0                        0                      0   \n",
       "24309                      1                        0                      0   \n",
       "\n",
       "       medications_26 - 40 med  medications_5-10 med  medications_>40 med  \\\n",
       "20737                        0                     0                    0   \n",
       "24069                        0                     0                    0   \n",
       "24117                        0                     0                    0   \n",
       "24198                        0                     1                    0   \n",
       "24309                        0                     0                    0   \n",
       "\n",
       "       outpatient_visit_2 Times  outpatient_visit_3 - 5 times  \\\n",
       "20737                         0                             0   \n",
       "24069                         0                             0   \n",
       "24117                         0                             0   \n",
       "24198                         0                             0   \n",
       "24309                         0                             0   \n",
       "\n",
       "       outpatient_visit_>5 times  outpatient_visit_None  \\\n",
       "20737                          0                      1   \n",
       "24069                          0                      1   \n",
       "24117                          0                      1   \n",
       "24198                          0                      1   \n",
       "24309                          0                      1   \n",
       "\n",
       "       inpatient_visit_2 Times  inpatient_visit_3 - 6 times  \\\n",
       "20737                        0                            0   \n",
       "24069                        0                            0   \n",
       "24117                        0                            0   \n",
       "24198                        0                            0   \n",
       "24309                        0                            0   \n",
       "\n",
       "       inpatient_visit_>6 times  inpatient_visit_None  \\\n",
       "20737                         0                     1   \n",
       "24069                         0                     1   \n",
       "24117                         0                     1   \n",
       "24198                         0                     1   \n",
       "24309                         0                     1   \n",
       "\n",
       "       emergency_visit_2 Times  emergency_visit_3 - 5 times  \\\n",
       "20737                        0                            0   \n",
       "24069                        0                            0   \n",
       "24117                        0                            0   \n",
       "24198                        0                            0   \n",
       "24309                        0                            0   \n",
       "\n",
       "       emergency_visit_>5 times  emergency_visit_None  readmitted_Yes  \n",
       "20737                         0                     1               0  \n",
       "24069                         0                     1               0  \n",
       "24117                         0                     1               0  \n",
       "24198                         0                     1               0  \n",
       "24309                         0                     1               0  "
      ]
     },
     "execution_count": 97,
     "metadata": {},
     "output_type": "execute_result"
    }
   ],
   "source": [
    "data2.head()"
   ]
  },
  {
   "cell_type": "code",
   "execution_count": 98,
   "id": "ee2107de-abc3-463c-85ef-602326a9dfc8",
   "metadata": {},
   "outputs": [],
   "source": [
    "import statsmodels.formula.api as smf"
   ]
  },
  {
   "cell_type": "code",
   "execution_count": 101,
   "id": "223b5a05-6be9-47e4-b67f-9384bc774f03",
   "metadata": {},
   "outputs": [
    {
     "data": {
      "text/plain": [
       "Index(['race', 'age', 'admissions', 'adm_source', 'discharge',\n",
       "       'hospital_duration', 'medical_specialty', 'payer_code', 'procedures',\n",
       "       'medications', 'outpatient_visit', 'inpatient_visit', 'emergency_visit',\n",
       "       'readmitted'],\n",
       "      dtype='object')"
      ]
     },
     "execution_count": 101,
     "metadata": {},
     "output_type": "execute_result"
    }
   ],
   "source": [
    "data.columns"
   ]
  },
  {
   "cell_type": "code",
   "execution_count": 103,
   "id": "bb128a88-998c-40a4-a5db-54e2928b066d",
   "metadata": {},
   "outputs": [],
   "source": [
    "data['readmitted'].replace({'Yes':1,'No':0},inplace=True)"
   ]
  },
  {
   "cell_type": "code",
   "execution_count": 106,
   "id": "7df8f1d4-ab94-4e15-94c1-e1d03241a273",
   "metadata": {},
   "outputs": [
    {
     "data": {
      "text/plain": [
       "0    4208\n",
       "1     836\n",
       "Name: readmitted, dtype: int64"
      ]
     },
     "execution_count": 106,
     "metadata": {},
     "output_type": "execute_result"
    }
   ],
   "source": [
    "data['readmitted'].value_counts()"
   ]
  },
  {
   "cell_type": "code",
   "execution_count": 107,
   "id": "5d98860c-2987-4c7f-8b42-5bdf947bd0e6",
   "metadata": {},
   "outputs": [],
   "source": [
    "data['readmitted'] = data['readmitted'].astype(int)"
   ]
  },
  {
   "cell_type": "code",
   "execution_count": 112,
   "id": "7c0c4014-147a-4aab-9c2c-a933a370ef31",
   "metadata": {},
   "outputs": [
    {
     "name": "stdout",
     "output_type": "stream",
     "text": [
      "Optimization terminated successfully.\n",
      "         Current function value: 0.399544\n",
      "         Iterations 25\n"
     ]
    }
   ],
   "source": [
    "model = smf.logit('readmitted ~ race + age + admissions + adm_source + discharge +hospital_duration + medical_specialty + payer_code + procedures + medications + outpatient_visit + inpatient_visit + emergency_visit',\n",
    "data = data)\n",
    "\n",
    "results = model.fit(cov_type=\"hc0\")\n",
    "       "
   ]
  },
  {
   "cell_type": "code",
   "execution_count": 113,
   "id": "55f4a63b-f41b-40d9-952c-fc2165641fe6",
   "metadata": {},
   "outputs": [
    {
     "name": "stdout",
     "output_type": "stream",
     "text": [
      "                           Logit Regression Results                           \n",
      "==============================================================================\n",
      "Dep. Variable:             readmitted   No. Observations:                 5044\n",
      "Model:                          Logit   Df Residuals:                     4978\n",
      "Method:                           MLE   Df Model:                           65\n",
      "Date:                Wed, 23 Aug 2023   Pseudo R-squ.:                  0.1103\n",
      "Time:                        09:11:59   Log-Likelihood:                -2015.3\n",
      "converged:                       True   LL-Null:                       -2265.1\n",
      "Covariance Type:                  hc0   LLR p-value:                 2.675e-68\n",
      "=================================================================================================================\n",
      "                                                    coef    std err          z      P>|z|      [0.025      0.975]\n",
      "-----------------------------------------------------------------------------------------------------------------\n",
      "Intercept                                        -0.9622      1.592     -0.604      0.546      -4.082       2.158\n",
      "race[T.Asian]                                    -0.2678      0.501     -0.534      0.593      -1.251       0.715\n",
      "race[T.Caucasian]                                 0.0602      0.109      0.550      0.582      -0.154       0.275\n",
      "race[T.Hispanic]                                 -0.4255      0.395     -1.078      0.281      -1.200       0.348\n",
      "race[T.Other]                                     0.2745      0.363      0.757      0.449      -0.436       0.985\n",
      "age[T.[20-30)]                                   -0.9952      1.232     -0.808      0.419      -3.409       1.419\n",
      "age[T.[30-40)]                                   -0.8994      1.203     -0.748      0.455      -3.257       1.458\n",
      "age[T.[40-50)]                                   -0.7993      1.190     -0.672      0.502      -3.132       1.533\n",
      "age[T.[50-60)]                                   -0.6751      1.185     -0.570      0.569      -2.998       1.648\n",
      "age[T.[60-70)]                                   -0.5518      1.186     -0.465      0.642      -2.877       1.773\n",
      "age[T.[70-80)]                                   -0.5242      1.186     -0.442      0.659      -2.849       1.801\n",
      "age[T.[80-90)]                                   -0.4863      1.189     -0.409      0.682      -2.816       1.843\n",
      "age[T.[90-100)]                                  -0.4578      1.209     -0.379      0.705      -2.826       1.911\n",
      "admissions[T.Emergency]                          -0.3634      0.175     -2.071      0.038      -0.707      -0.019\n",
      "admissions[T.Trauma]                            -33.1857      1.031    -32.190      0.000     -35.206     -31.165\n",
      "admissions[T.Urgent]                             -0.3136      0.133     -2.350      0.019      -0.575      -0.052\n",
      "adm_source[T.Emergency_Room]                      0.1154      0.918      0.126      0.900      -1.684       1.914\n",
      "adm_source[T.Others]                              0.4996      1.228      0.407      0.684      -1.907       2.906\n",
      "adm_source[T.Physcian Referral]                  -0.1211      0.906     -0.134      0.894      -1.897       1.655\n",
      "adm_source[T.Transfer_Another_Hospital]          -0.3620      0.933     -0.388      0.698      -2.191       1.467\n",
      "adm_source[T.Transfer_Hospital]                  -0.3470      0.936     -0.371      0.711      -2.182       1.488\n",
      "adm_source[T.Transfer_SNF]                       -0.4661      0.984     -0.474      0.636      -2.394       1.462\n",
      "discharge[T.Designated_cancer_center]            -0.8061      0.982     -0.821      0.412      -2.731       1.118\n",
      "discharge[T.GH_In_patientcare]                   -0.2378      0.587     -0.405      0.685      -1.388       0.912\n",
      "discharge[T.Home_care_health]                    -0.3819      0.544     -0.702      0.483      -1.448       0.684\n",
      "discharge[T.Intermediate_care_facility]          -0.2685      0.744     -0.361      0.718      -1.727       1.190\n",
      "discharge[T.Reserved_For_national_Assignment]    -0.5930      0.555     -1.069      0.285      -1.680       0.494\n",
      "discharge[T.Routine_Discharge]                   -0.3909      0.528     -0.741      0.459      -1.426       0.644\n",
      "discharge[T.Skilled_Nursing_Faciltiy]             0.0268      0.542      0.050      0.960      -1.035       1.088\n",
      "hospital_duration[T.2-5 days]                     0.3209      0.129      2.480      0.013       0.067       0.575\n",
      "hospital_duration[T.6-8 days]                     0.3938      0.160      2.462      0.014       0.080       0.707\n",
      "hospital_duration[T.9-10 days]                    0.4887      0.219      2.235      0.025       0.060       0.917\n",
      "hospital_duration[T.>10 days]                     0.2478      0.155      1.595      0.111      -0.057       0.552\n",
      "medical_specialty[T.Family/GeneralPractice]       0.1806      0.115      1.572      0.116      -0.045       0.406\n",
      "medical_specialty[T.Nephrology]                   0.3623      0.150      2.418      0.016       0.069       0.656\n",
      "medical_specialty[T.Surgery-General]              0.0014      0.130      0.011      0.991      -0.252       0.255\n",
      "payer_code[T.CM]                                  0.6170      0.241      2.555      0.011       0.144       1.090\n",
      "payer_code[T.CP]                                 -0.2971      0.296     -1.003      0.316      -0.878       0.283\n",
      "payer_code[T.HM]                                 -0.2174      0.254     -0.856      0.392      -0.715       0.281\n",
      "payer_code[T.MC]                                  0.1408      0.155      0.909      0.363      -0.163       0.444\n",
      "payer_code[T.MD]                                  0.2153      0.205      1.048      0.295      -0.187       0.618\n",
      "payer_code[T.SP]                                  0.2668      0.185      1.442      0.149      -0.096       0.629\n",
      "payer_code[T.UN]                                  0.0311      0.210      0.148      0.882      -0.380       0.442\n",
      "procedures[T.2 procd]                             0.0756      0.137      0.554      0.580      -0.192       0.343\n",
      "procedures[T.3 procd]                             0.1094      0.150      0.729      0.466      -0.185       0.403\n",
      "procedures[T.4-5 procd]                           0.0904      0.160      0.566      0.572      -0.223       0.404\n",
      "procedures[T.>5 times]                            0.0314      0.187      0.168      0.867      -0.335       0.398\n",
      "procedures[T.None]                                0.0550      0.115      0.479      0.632      -0.170       0.280\n",
      "medications[T.11-15 med]                          0.3577      0.305      1.171      0.241      -0.241       0.956\n",
      "medications[T.16 - 20 med]                        0.5951      0.308      1.933      0.053      -0.008       1.198\n",
      "medications[T.21-25 med]                          0.2964      0.322      0.919      0.358      -0.336       0.928\n",
      "medications[T.26 - 40 med]                        0.4254      0.330      1.289      0.197      -0.221       1.072\n",
      "medications[T.5-10 med]                           0.3183      0.308      1.032      0.302      -0.286       0.923\n",
      "medications[T.>40 med]                            0.3628      0.447      0.811      0.417      -0.514       1.240\n",
      "outpatient_visit[T.2 Times]                       0.3350      0.259      1.292      0.196      -0.173       0.843\n",
      "outpatient_visit[T.3 - 5 times]                   0.2239      0.266      0.841      0.400      -0.298       0.746\n",
      "outpatient_visit[T.>5 times]                      0.1897      0.615      0.309      0.758      -1.015       1.395\n",
      "outpatient_visit[T.None]                         -0.0852      0.140     -0.610      0.542      -0.359       0.189\n",
      "inpatient_visit[T.2 Times]                        0.4804      0.154      3.124      0.002       0.179       0.782\n",
      "inpatient_visit[T.3 - 6 times]                    0.7690      0.159      4.838      0.000       0.457       1.081\n",
      "inpatient_visit[T.>6 times]                       1.7680      0.409      4.325      0.000       0.967       2.569\n",
      "inpatient_visit[T.None]                          -0.7185      0.099     -7.271      0.000      -0.912      -0.525\n",
      "emergency_visit[T.2 Times]                        0.3267      0.292      1.117      0.264      -0.246       0.900\n",
      "emergency_visit[T.3 - 5 times]                    0.9667      0.301      3.214      0.001       0.377       1.556\n",
      "emergency_visit[T.>5 times]                       2.0817      0.666      3.124      0.002       0.776       3.388\n",
      "emergency_visit[T.None]                          -0.1798      0.140     -1.285      0.199      -0.454       0.094\n",
      "=================================================================================================================\n"
     ]
    }
   ],
   "source": [
    "print(results.summary())"
   ]
  },
  {
   "cell_type": "code",
   "execution_count": null,
   "id": "d8b4d0f0-cf40-41a0-9b63-09859d923065",
   "metadata": {},
   "outputs": [],
   "source": []
  }
 ],
 "metadata": {
  "kernelspec": {
   "display_name": "Python 3 (ipykernel)",
   "language": "python",
   "name": "python3"
  },
  "language_info": {
   "codemirror_mode": {
    "name": "ipython",
    "version": 3
   },
   "file_extension": ".py",
   "mimetype": "text/x-python",
   "name": "python",
   "nbconvert_exporter": "python",
   "pygments_lexer": "ipython3",
   "version": "3.11.3"
  }
 },
 "nbformat": 4,
 "nbformat_minor": 5
}
