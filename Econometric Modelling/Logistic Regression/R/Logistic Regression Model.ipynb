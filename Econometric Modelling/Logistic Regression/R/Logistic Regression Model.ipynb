{
 "cells": [
  {
   "cell_type": "code",
   "execution_count": 1,
   "id": "a5af6bd1-a1cb-4a60-a9e7-7f73624434da",
   "metadata": {},
   "outputs": [
    {
     "name": "stderr",
     "output_type": "stream",
     "text": [
      "Warning message:\n",
      "\"package 'tidyverse' was built under R version 4.2.3\"\n",
      "Warning message:\n",
      "\"package 'ggplot2' was built under R version 4.2.3\"\n",
      "Warning message:\n",
      "\"package 'tibble' was built under R version 4.2.3\"\n",
      "Warning message:\n",
      "\"package 'tidyr' was built under R version 4.2.3\"\n",
      "Warning message:\n",
      "\"package 'readr' was built under R version 4.2.3\"\n",
      "Warning message:\n",
      "\"package 'purrr' was built under R version 4.2.3\"\n",
      "Warning message:\n",
      "\"package 'dplyr' was built under R version 4.2.3\"\n",
      "Warning message:\n",
      "\"package 'stringr' was built under R version 4.2.3\"\n",
      "Warning message:\n",
      "\"package 'forcats' was built under R version 4.2.3\"\n",
      "Warning message:\n",
      "\"package 'lubridate' was built under R version 4.2.3\"\n",
      "── \u001b[1mAttaching core tidyverse packages\u001b[22m ──────────────────────── tidyverse 2.0.0 ──\n",
      "\u001b[32m✔\u001b[39m \u001b[34mdplyr    \u001b[39m 1.1.3     \u001b[32m✔\u001b[39m \u001b[34mreadr    \u001b[39m 2.1.4\n",
      "\u001b[32m✔\u001b[39m \u001b[34mforcats  \u001b[39m 1.0.0     \u001b[32m✔\u001b[39m \u001b[34mstringr  \u001b[39m 1.5.0\n",
      "\u001b[32m✔\u001b[39m \u001b[34mggplot2  \u001b[39m 3.4.2     \u001b[32m✔\u001b[39m \u001b[34mtibble   \u001b[39m 3.2.1\n",
      "\u001b[32m✔\u001b[39m \u001b[34mlubridate\u001b[39m 1.9.2     \u001b[32m✔\u001b[39m \u001b[34mtidyr    \u001b[39m 1.3.0\n",
      "\u001b[32m✔\u001b[39m \u001b[34mpurrr    \u001b[39m 1.0.2     \n",
      "── \u001b[1mConflicts\u001b[22m ────────────────────────────────────────── tidyverse_conflicts() ──\n",
      "\u001b[31m✖\u001b[39m \u001b[34mdplyr\u001b[39m::\u001b[32mfilter()\u001b[39m masks \u001b[34mstats\u001b[39m::filter()\n",
      "\u001b[31m✖\u001b[39m \u001b[34mdplyr\u001b[39m::\u001b[32mlag()\u001b[39m    masks \u001b[34mstats\u001b[39m::lag()\n",
      "\u001b[36mℹ\u001b[39m Use the conflicted package (\u001b[3m\u001b[34m<http://conflicted.r-lib.org/>\u001b[39m\u001b[23m) to force all conflicts to become errors\n",
      "Warning message:\n",
      "\"package 'blorr' was built under R version 4.2.3\"\n",
      "Warning message:\n",
      "\"package 'DescTools' was built under R version 4.2.3\"\n",
      "Warning message:\n",
      "\"package 'robustbase' was built under R version 4.2.3\"\n",
      "Warning message:\n",
      "\"package 'car' was built under R version 4.2.3\"\n",
      "Loading required package: carData\n",
      "\n",
      "Warning message:\n",
      "\"package 'carData' was built under R version 4.2.3\"\n",
      "\n",
      "Attaching package: 'car'\n",
      "\n",
      "\n",
      "The following object is masked from 'package:DescTools':\n",
      "\n",
      "    Recode\n",
      "\n",
      "\n",
      "The following object is masked from 'package:dplyr':\n",
      "\n",
      "    recode\n",
      "\n",
      "\n",
      "The following object is masked from 'package:purrr':\n",
      "\n",
      "    some\n",
      "\n",
      "\n",
      "\n",
      "Please cite as: \n",
      "\n",
      "\n",
      " Hlavac, Marek (2022). stargazer: Well-Formatted Regression and Summary Statistics Tables.\n",
      "\n",
      " R package version 5.2.3. https://CRAN.R-project.org/package=stargazer \n",
      "\n",
      "\n",
      "Warning message:\n",
      "\"package 'haven' was built under R version 4.2.3\"\n",
      "Warning message:\n",
      "\"package 'mfx' was built under R version 4.2.3\"\n",
      "Loading required package: sandwich\n",
      "\n",
      "Warning message:\n",
      "\"package 'sandwich' was built under R version 4.2.3\"\n",
      "Loading required package: lmtest\n",
      "\n",
      "Warning message:\n",
      "\"package 'lmtest' was built under R version 4.2.3\"\n",
      "Loading required package: zoo\n",
      "\n",
      "Warning message:\n",
      "\"package 'zoo' was built under R version 4.2.3\"\n",
      "\n",
      "Attaching package: 'zoo'\n",
      "\n",
      "\n",
      "The following objects are masked from 'package:base':\n",
      "\n",
      "    as.Date, as.Date.numeric\n",
      "\n",
      "\n",
      "Loading required package: MASS\n",
      "\n",
      "Warning message:\n",
      "\"package 'MASS' was built under R version 4.2.3\"\n",
      "\n",
      "Attaching package: 'MASS'\n",
      "\n",
      "\n",
      "The following object is masked from 'package:dplyr':\n",
      "\n",
      "    select\n",
      "\n",
      "\n",
      "Loading required package: betareg\n",
      "\n",
      "Warning message:\n",
      "\"package 'betareg' was built under R version 4.2.3\"\n"
     ]
    }
   ],
   "source": [
    "library(tidyverse)\n",
    "library(blorr)\n",
    "library(DescTools)\n",
    "library(robustbase)\n",
    "library(car)\n",
    "library(stargazer)\n",
    "library(haven)\n",
    "library(mfx)"
   ]
  },
  {
   "cell_type": "code",
   "execution_count": 2,
   "id": "5dc41b4e-5eb1-4e74-8677-73366bb02d08",
   "metadata": {},
   "outputs": [
    {
     "data": {
      "text/html": [
       "<table class=\"dataframe\">\n",
       "<caption>A tibble: 6 × 35</caption>\n",
       "<thead>\n",
       "\t<tr><th scope=col>personid</th><th scope=col>private</th><th scope=col>eprhi</th><th scope=col>age</th><th scope=col>hisp</th><th scope=col>white</th><th scope=col>female</th><th scope=col>educyear</th><th scope=col>married</th><th scope=col>excel</th><th scope=col>⋯</th><th scope=col>agewhi</th><th scope=col>_est_blogit</th><th scope=col>_est_bprobit</th><th scope=col>_est_bOLS</th><th scope=col>_est_bloghet</th><th scope=col>_est_bprobhet</th><th scope=col>_est_bOLShet</th><th scope=col>_est_PROBIT</th><th scope=col>_est_IVPROBML</th><th scope=col>_est_IVPROB2S</th></tr>\n",
       "\t<tr><th scope=col>&lt;dbl&gt;</th><th scope=col>&lt;dbl&gt;</th><th scope=col>&lt;dbl&gt;</th><th scope=col>&lt;dbl&gt;</th><th scope=col>&lt;dbl&gt;</th><th scope=col>&lt;dbl&gt;</th><th scope=col>&lt;dbl&gt;</th><th scope=col>&lt;dbl&gt;</th><th scope=col>&lt;dbl&gt;</th><th scope=col>&lt;dbl&gt;</th><th scope=col>⋯</th><th scope=col>&lt;dbl&gt;</th><th scope=col>&lt;dbl&gt;</th><th scope=col>&lt;dbl&gt;</th><th scope=col>&lt;dbl&gt;</th><th scope=col>&lt;dbl&gt;</th><th scope=col>&lt;dbl&gt;</th><th scope=col>&lt;dbl&gt;</th><th scope=col>&lt;dbl&gt;</th><th scope=col>&lt;dbl&gt;</th><th scope=col>&lt;dbl&gt;</th></tr>\n",
       "</thead>\n",
       "<tbody>\n",
       "\t<tr><td>54963010</td><td>0</td><td>0</td><td>62</td><td>0</td><td>0</td><td>1</td><td>12</td><td>0</td><td>0</td><td>⋯</td><td> 0</td><td>1</td><td>1</td><td>1</td><td>1</td><td>1</td><td>1</td><td>1</td><td>1</td><td>1</td></tr>\n",
       "\t<tr><td>21629010</td><td>0</td><td>0</td><td>59</td><td>0</td><td>1</td><td>1</td><td>12</td><td>0</td><td>0</td><td>⋯</td><td>59</td><td>1</td><td>1</td><td>1</td><td>1</td><td>1</td><td>1</td><td>1</td><td>1</td><td>1</td></tr>\n",
       "\t<tr><td>20421010</td><td>0</td><td>0</td><td>60</td><td>0</td><td>0</td><td>0</td><td>13</td><td>0</td><td>0</td><td>⋯</td><td> 0</td><td>1</td><td>1</td><td>1</td><td>1</td><td>1</td><td>1</td><td>1</td><td>1</td><td>1</td></tr>\n",
       "\t<tr><td>38784010</td><td>0</td><td>0</td><td>62</td><td>0</td><td>1</td><td>1</td><td>10</td><td>0</td><td>0</td><td>⋯</td><td>62</td><td>1</td><td>1</td><td>1</td><td>1</td><td>1</td><td>1</td><td>1</td><td>1</td><td>1</td></tr>\n",
       "\t<tr><td>55630030</td><td>0</td><td>0</td><td>54</td><td>0</td><td>1</td><td>1</td><td> 9</td><td>0</td><td>0</td><td>⋯</td><td>54</td><td>1</td><td>1</td><td>1</td><td>1</td><td>1</td><td>1</td><td>1</td><td>1</td><td>1</td></tr>\n",
       "\t<tr><td>15893020</td><td>0</td><td>0</td><td>62</td><td>0</td><td>1</td><td>1</td><td>12</td><td>1</td><td>0</td><td>⋯</td><td>62</td><td>1</td><td>1</td><td>1</td><td>1</td><td>1</td><td>1</td><td>1</td><td>1</td><td>1</td></tr>\n",
       "</tbody>\n",
       "</table>\n"
      ],
      "text/latex": [
       "A tibble: 6 × 35\n",
       "\\begin{tabular}{lllllllllllllllllllll}\n",
       " personid & private & eprhi & age & hisp & white & female & educyear & married & excel & ⋯ & agewhi & \\_est\\_blogit & \\_est\\_bprobit & \\_est\\_bOLS & \\_est\\_bloghet & \\_est\\_bprobhet & \\_est\\_bOLShet & \\_est\\_PROBIT & \\_est\\_IVPROBML & \\_est\\_IVPROB2S\\\\\n",
       " <dbl> & <dbl> & <dbl> & <dbl> & <dbl> & <dbl> & <dbl> & <dbl> & <dbl> & <dbl> & ⋯ & <dbl> & <dbl> & <dbl> & <dbl> & <dbl> & <dbl> & <dbl> & <dbl> & <dbl> & <dbl>\\\\\n",
       "\\hline\n",
       "\t 54963010 & 0 & 0 & 62 & 0 & 0 & 1 & 12 & 0 & 0 & ⋯ &  0 & 1 & 1 & 1 & 1 & 1 & 1 & 1 & 1 & 1\\\\\n",
       "\t 21629010 & 0 & 0 & 59 & 0 & 1 & 1 & 12 & 0 & 0 & ⋯ & 59 & 1 & 1 & 1 & 1 & 1 & 1 & 1 & 1 & 1\\\\\n",
       "\t 20421010 & 0 & 0 & 60 & 0 & 0 & 0 & 13 & 0 & 0 & ⋯ &  0 & 1 & 1 & 1 & 1 & 1 & 1 & 1 & 1 & 1\\\\\n",
       "\t 38784010 & 0 & 0 & 62 & 0 & 1 & 1 & 10 & 0 & 0 & ⋯ & 62 & 1 & 1 & 1 & 1 & 1 & 1 & 1 & 1 & 1\\\\\n",
       "\t 55630030 & 0 & 0 & 54 & 0 & 1 & 1 &  9 & 0 & 0 & ⋯ & 54 & 1 & 1 & 1 & 1 & 1 & 1 & 1 & 1 & 1\\\\\n",
       "\t 15893020 & 0 & 0 & 62 & 0 & 1 & 1 & 12 & 1 & 0 & ⋯ & 62 & 1 & 1 & 1 & 1 & 1 & 1 & 1 & 1 & 1\\\\\n",
       "\\end{tabular}\n"
      ],
      "text/markdown": [
       "\n",
       "A tibble: 6 × 35\n",
       "\n",
       "| personid &lt;dbl&gt; | private &lt;dbl&gt; | eprhi &lt;dbl&gt; | age &lt;dbl&gt; | hisp &lt;dbl&gt; | white &lt;dbl&gt; | female &lt;dbl&gt; | educyear &lt;dbl&gt; | married &lt;dbl&gt; | excel &lt;dbl&gt; | ⋯ ⋯ | agewhi &lt;dbl&gt; | _est_blogit &lt;dbl&gt; | _est_bprobit &lt;dbl&gt; | _est_bOLS &lt;dbl&gt; | _est_bloghet &lt;dbl&gt; | _est_bprobhet &lt;dbl&gt; | _est_bOLShet &lt;dbl&gt; | _est_PROBIT &lt;dbl&gt; | _est_IVPROBML &lt;dbl&gt; | _est_IVPROB2S &lt;dbl&gt; |\n",
       "|---|---|---|---|---|---|---|---|---|---|---|---|---|---|---|---|---|---|---|---|---|\n",
       "| 54963010 | 0 | 0 | 62 | 0 | 0 | 1 | 12 | 0 | 0 | ⋯ |  0 | 1 | 1 | 1 | 1 | 1 | 1 | 1 | 1 | 1 |\n",
       "| 21629010 | 0 | 0 | 59 | 0 | 1 | 1 | 12 | 0 | 0 | ⋯ | 59 | 1 | 1 | 1 | 1 | 1 | 1 | 1 | 1 | 1 |\n",
       "| 20421010 | 0 | 0 | 60 | 0 | 0 | 0 | 13 | 0 | 0 | ⋯ |  0 | 1 | 1 | 1 | 1 | 1 | 1 | 1 | 1 | 1 |\n",
       "| 38784010 | 0 | 0 | 62 | 0 | 1 | 1 | 10 | 0 | 0 | ⋯ | 62 | 1 | 1 | 1 | 1 | 1 | 1 | 1 | 1 | 1 |\n",
       "| 55630030 | 0 | 0 | 54 | 0 | 1 | 1 |  9 | 0 | 0 | ⋯ | 54 | 1 | 1 | 1 | 1 | 1 | 1 | 1 | 1 | 1 |\n",
       "| 15893020 | 0 | 0 | 62 | 0 | 1 | 1 | 12 | 1 | 0 | ⋯ | 62 | 1 | 1 | 1 | 1 | 1 | 1 | 1 | 1 | 1 |\n",
       "\n"
      ],
      "text/plain": [
       "  personid private eprhi age hisp white female educyear married excel ⋯ agewhi\n",
       "1 54963010 0       0     62  0    0     1      12       0       0     ⋯  0    \n",
       "2 21629010 0       0     59  0    1     1      12       0       0     ⋯ 59    \n",
       "3 20421010 0       0     60  0    0     0      13       0       0     ⋯  0    \n",
       "4 38784010 0       0     62  0    1     1      10       0       0     ⋯ 62    \n",
       "5 55630030 0       0     54  0    1     1       9       0       0     ⋯ 54    \n",
       "6 15893020 0       0     62  0    1     1      12       1       0     ⋯ 62    \n",
       "  _est_blogit _est_bprobit _est_bOLS _est_bloghet _est_bprobhet _est_bOLShet\n",
       "1 1           1            1         1            1             1           \n",
       "2 1           1            1         1            1             1           \n",
       "3 1           1            1         1            1             1           \n",
       "4 1           1            1         1            1             1           \n",
       "5 1           1            1         1            1             1           \n",
       "6 1           1            1         1            1             1           \n",
       "  _est_PROBIT _est_IVPROBML _est_IVPROB2S\n",
       "1 1           1             1            \n",
       "2 1           1             1            \n",
       "3 1           1             1            \n",
       "4 1           1             1            \n",
       "5 1           1             1            \n",
       "6 1           1             1            "
      ]
     },
     "metadata": {},
     "output_type": "display_data"
    }
   ],
   "source": [
    "df <- read_dta(\"mus14data.dta\")\n",
    "head(df)"
   ]
  },
  {
   "cell_type": "code",
   "execution_count": 3,
   "id": "9ee52cca-d5b9-42ca-9cf5-35a469e64857",
   "metadata": {},
   "outputs": [],
   "source": [
    "df <- as.data.frame(df)"
   ]
  },
  {
   "cell_type": "markdown",
   "id": "debba905-4d63-4488-972c-4cd3037060cf",
   "metadata": {},
   "source": [
    "#### Select the variables to use"
   ]
  },
  {
   "cell_type": "code",
   "execution_count": 4,
   "id": "499b7ab8-d5ca-477c-8b91-6380f6b3dc37",
   "metadata": {},
   "outputs": [],
   "source": [
    "data <- df[c('ins', 'retire', 'age','hstatusg','hhincome','educyear','married','female','white','hisp','chronic','sretire','adl')]"
   ]
  },
  {
   "cell_type": "code",
   "execution_count": 5,
   "id": "8e5fbadb-2022-48b0-ba6e-3df53ae3360a",
   "metadata": {},
   "outputs": [
    {
     "data": {
      "text/html": [
       "<table class=\"dataframe\">\n",
       "<caption>A data.frame: 6 × 13</caption>\n",
       "<thead>\n",
       "\t<tr><th></th><th scope=col>ins</th><th scope=col>retire</th><th scope=col>age</th><th scope=col>hstatusg</th><th scope=col>hhincome</th><th scope=col>educyear</th><th scope=col>married</th><th scope=col>female</th><th scope=col>white</th><th scope=col>hisp</th><th scope=col>chronic</th><th scope=col>sretire</th><th scope=col>adl</th></tr>\n",
       "\t<tr><th></th><th scope=col>&lt;dbl&gt;</th><th scope=col>&lt;dbl&gt;</th><th scope=col>&lt;dbl&gt;</th><th scope=col>&lt;dbl&gt;</th><th scope=col>&lt;dbl&gt;</th><th scope=col>&lt;dbl&gt;</th><th scope=col>&lt;dbl&gt;</th><th scope=col>&lt;dbl&gt;</th><th scope=col>&lt;dbl&gt;</th><th scope=col>&lt;dbl&gt;</th><th scope=col>&lt;dbl&gt;</th><th scope=col>&lt;dbl&gt;</th><th scope=col>&lt;dbl&gt;</th></tr>\n",
       "</thead>\n",
       "<tbody>\n",
       "\t<tr><th scope=row>1</th><td>0</td><td>0</td><td>62</td><td>0</td><td>0</td><td>12</td><td>0</td><td>1</td><td>0</td><td>0</td><td>3</td><td>0</td><td>0</td></tr>\n",
       "\t<tr><th scope=row>2</th><td>0</td><td>0</td><td>59</td><td>0</td><td>0</td><td>12</td><td>0</td><td>1</td><td>1</td><td>0</td><td>1</td><td>0</td><td>3</td></tr>\n",
       "\t<tr><th scope=row>3</th><td>0</td><td>1</td><td>60</td><td>1</td><td>0</td><td>13</td><td>0</td><td>0</td><td>0</td><td>0</td><td>2</td><td>0</td><td>0</td></tr>\n",
       "\t<tr><th scope=row>4</th><td>0</td><td>0</td><td>62</td><td>0</td><td>0</td><td>10</td><td>0</td><td>1</td><td>1</td><td>0</td><td>4</td><td>0</td><td>3</td></tr>\n",
       "\t<tr><th scope=row>5</th><td>0</td><td>0</td><td>54</td><td>0</td><td>0</td><td> 9</td><td>0</td><td>1</td><td>1</td><td>0</td><td>6</td><td>0</td><td>0</td></tr>\n",
       "\t<tr><th scope=row>6</th><td>0</td><td>1</td><td>62</td><td>1</td><td>0</td><td>12</td><td>1</td><td>1</td><td>1</td><td>0</td><td>0</td><td>1</td><td>0</td></tr>\n",
       "</tbody>\n",
       "</table>\n"
      ],
      "text/latex": [
       "A data.frame: 6 × 13\n",
       "\\begin{tabular}{r|lllllllllllll}\n",
       "  & ins & retire & age & hstatusg & hhincome & educyear & married & female & white & hisp & chronic & sretire & adl\\\\\n",
       "  & <dbl> & <dbl> & <dbl> & <dbl> & <dbl> & <dbl> & <dbl> & <dbl> & <dbl> & <dbl> & <dbl> & <dbl> & <dbl>\\\\\n",
       "\\hline\n",
       "\t1 & 0 & 0 & 62 & 0 & 0 & 12 & 0 & 1 & 0 & 0 & 3 & 0 & 0\\\\\n",
       "\t2 & 0 & 0 & 59 & 0 & 0 & 12 & 0 & 1 & 1 & 0 & 1 & 0 & 3\\\\\n",
       "\t3 & 0 & 1 & 60 & 1 & 0 & 13 & 0 & 0 & 0 & 0 & 2 & 0 & 0\\\\\n",
       "\t4 & 0 & 0 & 62 & 0 & 0 & 10 & 0 & 1 & 1 & 0 & 4 & 0 & 3\\\\\n",
       "\t5 & 0 & 0 & 54 & 0 & 0 &  9 & 0 & 1 & 1 & 0 & 6 & 0 & 0\\\\\n",
       "\t6 & 0 & 1 & 62 & 1 & 0 & 12 & 1 & 1 & 1 & 0 & 0 & 1 & 0\\\\\n",
       "\\end{tabular}\n"
      ],
      "text/markdown": [
       "\n",
       "A data.frame: 6 × 13\n",
       "\n",
       "| <!--/--> | ins &lt;dbl&gt; | retire &lt;dbl&gt; | age &lt;dbl&gt; | hstatusg &lt;dbl&gt; | hhincome &lt;dbl&gt; | educyear &lt;dbl&gt; | married &lt;dbl&gt; | female &lt;dbl&gt; | white &lt;dbl&gt; | hisp &lt;dbl&gt; | chronic &lt;dbl&gt; | sretire &lt;dbl&gt; | adl &lt;dbl&gt; |\n",
       "|---|---|---|---|---|---|---|---|---|---|---|---|---|---|\n",
       "| 1 | 0 | 0 | 62 | 0 | 0 | 12 | 0 | 1 | 0 | 0 | 3 | 0 | 0 |\n",
       "| 2 | 0 | 0 | 59 | 0 | 0 | 12 | 0 | 1 | 1 | 0 | 1 | 0 | 3 |\n",
       "| 3 | 0 | 1 | 60 | 1 | 0 | 13 | 0 | 0 | 0 | 0 | 2 | 0 | 0 |\n",
       "| 4 | 0 | 0 | 62 | 0 | 0 | 10 | 0 | 1 | 1 | 0 | 4 | 0 | 3 |\n",
       "| 5 | 0 | 0 | 54 | 0 | 0 |  9 | 0 | 1 | 1 | 0 | 6 | 0 | 0 |\n",
       "| 6 | 0 | 1 | 62 | 1 | 0 | 12 | 1 | 1 | 1 | 0 | 0 | 1 | 0 |\n",
       "\n"
      ],
      "text/plain": [
       "  ins retire age hstatusg hhincome educyear married female white hisp chronic\n",
       "1 0   0      62  0        0        12       0       1      0     0    3      \n",
       "2 0   0      59  0        0        12       0       1      1     0    1      \n",
       "3 0   1      60  1        0        13       0       0      0     0    2      \n",
       "4 0   0      62  0        0        10       0       1      1     0    4      \n",
       "5 0   0      54  0        0         9       0       1      1     0    6      \n",
       "6 0   1      62  1        0        12       1       1      1     0    0      \n",
       "  sretire adl\n",
       "1 0       0  \n",
       "2 0       3  \n",
       "3 0       0  \n",
       "4 0       3  \n",
       "5 0       0  \n",
       "6 1       0  "
      ]
     },
     "metadata": {},
     "output_type": "display_data"
    }
   ],
   "source": [
    "head(data)"
   ]
  },
  {
   "cell_type": "code",
   "execution_count": 6,
   "id": "daaf01c2-3887-46a8-92f9-6e7fda5fce8d",
   "metadata": {},
   "outputs": [],
   "source": [
    "data <- data %>% mutate(linc = log(1+data$hhincome))"
   ]
  },
  {
   "cell_type": "code",
   "execution_count": 7,
   "id": "e412a9f8-feec-4573-a29c-cde74fd809ef",
   "metadata": {},
   "outputs": [
    {
     "name": "stdout",
     "output_type": "stream",
     "text": [
      "\n",
      "===============================================\n",
      "Statistic   N    Mean  St. Dev.  Min     Max   \n",
      "-----------------------------------------------\n",
      "ins       3,206 0.387   0.487     0       1    \n",
      "retire    3,206 0.625   0.484     0       1    \n",
      "age       3,206 66.914  3.676    52      86    \n",
      "hstatusg  3,206 0.705   0.456     0       1    \n",
      "hhincome  3,206 45.264  64.339  0.000 1,312.124\n",
      "educyear  3,206 11.899  3.305     0      17    \n",
      "married   3,206 0.733   0.442     0       1    \n",
      "female    3,206 0.478   0.500     0       1    \n",
      "white     3,206 0.821   0.384     0       1    \n",
      "hisp      3,206 0.073   0.260     0       1    \n",
      "chronic   3,206 2.063   1.416     0       8    \n",
      "sretire   3,206 0.388   0.487     0       1    \n",
      "adl       3,206 0.302   0.825     0       5    \n",
      "linc      3,206 3.427   0.889   0.000   7.180  \n",
      "-----------------------------------------------\n"
     ]
    }
   ],
   "source": [
    "stargazer(data,type='text')"
   ]
  },
  {
   "cell_type": "markdown",
   "id": "9c7ab66f-c918-4fb0-8879-20e9e367ea30",
   "metadata": {},
   "source": [
    "#### Run the Logit regression"
   ]
  },
  {
   "cell_type": "code",
   "execution_count": 8,
   "id": "7970e415-459d-434d-bc53-a06d75b4a3a7",
   "metadata": {},
   "outputs": [
    {
     "data": {
      "text/plain": [
       "\n",
       "Call:\n",
       "glm(formula = ins ~ retire + age + hstatusg + hhincome + educyear + \n",
       "    married + hisp, family = binomial(link = \"logit\"), data = data)\n",
       "\n",
       "Deviance Residuals: \n",
       "   Min      1Q  Median      3Q     Max  \n",
       "-2.456  -1.009  -0.703   1.224   2.373  \n",
       "\n",
       "Coefficients:\n",
       "             Estimate Std. Error z value Pr(>|z|)    \n",
       "(Intercept) -1.715578   0.748622  -2.292 0.021926 *  \n",
       "retire       0.196930   0.084207   2.339 0.019354 *  \n",
       "age         -0.014596   0.011287  -1.293 0.195969    \n",
       "hstatusg     0.312265   0.091674   3.406 0.000659 ***\n",
       "hhincome     0.002304   0.000762   3.023 0.002503 ** \n",
       "educyear     0.114263   0.014201   8.046 8.55e-16 ***\n",
       "married      0.578636   0.093320   6.201 5.63e-10 ***\n",
       "hisp        -0.810306   0.195751  -4.139 3.48e-05 ***\n",
       "---\n",
       "Signif. codes:  0 '***' 0.001 '**' 0.01 '*' 0.05 '.' 0.1 ' ' 1\n",
       "\n",
       "(Dispersion parameter for binomial family taken to be 1)\n",
       "\n",
       "    Null deviance: 4279.5  on 3205  degrees of freedom\n",
       "Residual deviance: 3989.8  on 3198  degrees of freedom\n",
       "AIC: 4005.8\n",
       "\n",
       "Number of Fisher Scoring iterations: 4\n"
      ]
     },
     "metadata": {},
     "output_type": "display_data"
    }
   ],
   "source": [
    "lgmodel <- glm(ins ~ retire + age + hstatusg + hhincome + educyear + married + hisp,data=data,family=binomial(link=\"logit\"))\n",
    "summary(lgmodel)"
   ]
  },
  {
   "cell_type": "markdown",
   "id": "f4c100e7-f5c1-4ac8-98cf-c1d5b28a1153",
   "metadata": {},
   "source": [
    "#### Get the results in odds ratio with mfx package"
   ]
  },
  {
   "cell_type": "code",
   "execution_count": 11,
   "id": "e0da1d2d-0b15-42bb-97e4-b71d387cd40c",
   "metadata": {},
   "outputs": [
    {
     "data": {
      "text/plain": [
       "Call:\n",
       "logitor(formula = ins ~ retire + age + hstatusg + hhincome + \n",
       "    educyear + married + hisp, data = data)\n",
       "\n",
       "Odds Ratio:\n",
       "         OddsRatio Std. Err.       z     P>|z|    \n",
       "retire   1.2176584 0.1025350  2.3386 0.0193538 *  \n",
       "age      0.9855105 0.0111235 -1.2931 0.1959695    \n",
       "hstatusg 1.3665173 0.1252739  3.4063 0.0006586 ***\n",
       "hhincome 1.0023063 0.0007638  3.0229 0.0025033 ** \n",
       "educyear 1.1210464 0.0159201  8.0460 8.553e-16 ***\n",
       "married  1.7836040 0.1664454  6.2006 5.626e-10 ***\n",
       "hisp     0.4447220 0.0870546 -4.1395 3.481e-05 ***\n",
       "---\n",
       "Signif. codes:  0 '***' 0.001 '**' 0.01 '*' 0.05 '.' 0.1 ' ' 1"
      ]
     },
     "metadata": {},
     "output_type": "display_data"
    }
   ],
   "source": [
    "logitor(ins ~ retire + age + hstatusg + hhincome + educyear + married + hisp,data=data)"
   ]
  },
  {
   "cell_type": "markdown",
   "id": "14e875fa-98fe-4fba-ba74-f4f8669fc52a",
   "metadata": {},
   "source": [
    "##### Interpretation\n",
    "\n",
    "* The odds of ins = 1 are 1.12 times higher when educyear increases by 1 year (keeping other predictors constant)\n",
    "* The odds of ins = 1 are 1.37 times higher when hhincome increases by $1\n",
    "* The odds of ins = 1 are 1.78 times higher when marital status is married."
   ]
  },
  {
   "cell_type": "markdown",
   "id": "e210f6f7-8aee-49ee-9493-95e6ac448d24",
   "metadata": {},
   "source": [
    "#### Get the model fit statistics using blorr package"
   ]
  },
  {
   "cell_type": "code",
   "execution_count": 12,
   "id": "69e47d17-923a-4555-b291-58a7f9553487",
   "metadata": {},
   "outputs": [
    {
     "name": "stdout",
     "output_type": "stream",
     "text": [
      "                               Model Fit Statistics                                \n",
      "----------------------------------------------------------------------------------\n",
      "Log-Lik Intercept Only:     -2139.771    Log-Lik Full Model:             -1994.878 \n",
      "Deviance(3198):              3989.757    LR(7):                            289.786 \n",
      "                                         Prob > LR:                          0.000 \n",
      "MCFadden's R2                   0.068    McFadden's Adj R2:                  0.064 \n",
      "ML (Cox-Snell) R2:              0.086    Cragg-Uhler(Nagelkerke) R2:         0.117 \n",
      "McKelvey & Zavoina's R2:        0.130    Efron's R2:                         0.082 \n",
      "Count R2:                       0.624    Adj Count R2:                       0.030 \n",
      "BIC:                         4054.339    AIC:                             4005.757 \n",
      "----------------------------------------------------------------------------------\n",
      "\n"
     ]
    }
   ],
   "source": [
    "lgmodelfit <- blr_model_fit_stats(lgmodel)\n",
    "print(lgmodelfit)"
   ]
  },
  {
   "cell_type": "markdown",
   "id": "2d13723e-b434-421e-86f0-3a562b892c46",
   "metadata": {},
   "source": [
    "#### Comparison of binary models and parameter estimates"
   ]
  },
  {
   "cell_type": "code",
   "execution_count": 13,
   "id": "b7d737da-7cba-40ac-9f7f-e052bd246eee",
   "metadata": {},
   "outputs": [],
   "source": [
    "blogit <- glm(ins ~ retire + age + hstatusg + hhincome + educyear + married + hisp,data=data,family=binomial(link=\"logit\"))\n",
    "bprobit <- glm(ins ~ retire + age + hstatusg + hhincome + educyear + married + hisp,data=data,family=binomial(link=\"probit\"))\n",
    "blogitr <- glmrob(ins ~ retire + age + hstatusg + hhincome + educyear + married + hisp,\n",
    "                  data=data,family=binomial(link=\"logit\"),method=\"Mqle\",control=glmrobMqle.control(tcc=1.2))\n",
    "bprobitr <- glmrob(ins ~ retire + age + hstatusg + hhincome + educyear + married + hisp,\n",
    "                  data=data,family=binomial(link=\"probit\"),method=\"Mqle\",control=glmrobMqle.control(tcc=1.2))"
   ]
  },
  {
   "cell_type": "code",
   "execution_count": 14,
   "id": "f8c0c88a-7367-4ab3-afc3-65f0267291f0",
   "metadata": {},
   "outputs": [
    {
     "name": "stdout",
     "output_type": "stream",
     "text": [
      "\n",
      "Results\n",
      "===========================================================\n",
      "                             Dependent variable:           \n",
      "                  -----------------------------------------\n",
      "                                     ins                   \n",
      "                   logistic    probit         robust       \n",
      "                                                GLM        \n",
      "                    blogit    bprobit    blogitr  bprobitr \n",
      "                     (1)        (2)        (3)       (4)   \n",
      "-----------------------------------------------------------\n",
      "retire             0.197**    0.118**    0.206**   0.126** \n",
      "                   (0.084)    (0.051)    (0.085)   (0.052) \n",
      "                                                           \n",
      "age                 -0.015     -0.009    -0.015    -0.009  \n",
      "                   (0.011)    (0.007)    (0.011)   (0.007) \n",
      "                                                           \n",
      "hstatusg           0.312***   0.198***  0.255***  0.160*** \n",
      "                   (0.092)    (0.055)    (0.092)   (0.056) \n",
      "                                                           \n",
      "hhincome           0.002***   0.001***  0.004***  0.002*** \n",
      "                   (0.001)    (0.0004)   (0.001)   (0.001) \n",
      "                                                           \n",
      "educyear           0.114***   0.071***  0.102***  0.063*** \n",
      "                   (0.014)    (0.008)    (0.014)   (0.009) \n",
      "                                                           \n",
      "married            0.579***   0.362***  0.502***  0.312*** \n",
      "                   (0.093)    (0.056)    (0.095)   (0.057) \n",
      "                                                           \n",
      "hisp              -0.810***  -0.473***  -0.751*** -0.443***\n",
      "                   (0.196)    (0.110)    (0.200)   (0.114) \n",
      "                                                           \n",
      "Constant           -1.716**   -1.069**  -1.533**  -0.957** \n",
      "                   (0.749)    (0.455)    (0.755)   (0.461) \n",
      "                                                           \n",
      "-----------------------------------------------------------\n",
      "Observations        3,206      3,206      3,206     3,206  \n",
      "Log Likelihood    -1,994.878 -1,993.624                    \n",
      "Akaike Inf. Crit. 4,005.757  4,003.247                     \n",
      "===========================================================\n",
      "Note:                           *p<0.1; **p<0.05; ***p<0.01\n"
     ]
    }
   ],
   "source": [
    "stargazer(blogit,bprobit,blogitr,bprobitr,title=\"Results\",type=\"text\", \n",
    "          column.labels=c(\"blogit\",\"bprobit\",\"blogitr\",\"bprobitr\"),align=TRUE)"
   ]
  },
  {
   "cell_type": "markdown",
   "id": "c0396eb0-4dc5-4d75-aeb8-f602495467b0",
   "metadata": {},
   "source": [
    "### Hypothesis and Specification Tests"
   ]
  },
  {
   "cell_type": "markdown",
   "id": "2e94a90e-ad54-410b-90f0-43cd317fd17c",
   "metadata": {},
   "source": [
    "#### Specification Error Tests--Linktest\n",
    "The idea behind linktest is that if the model is properly specified, one should not be able to find any additional predictors tha are statistically significant except by chance. The linktest uses the linear predicted value (fit) and liear predicted value square (fit2) as the predictors to rebuild the model.  It is expected that fit be statistically significant while fit2 should not.  If fit2 is significant, it signifies omitted variable problem."
   ]
  },
  {
   "cell_type": "code",
   "execution_count": 15,
   "id": "36b98d23-a79e-49e7-a177-8934d6227842",
   "metadata": {},
   "outputs": [
    {
     "data": {
      "text/plain": [
       "\n",
       "Call:\n",
       "glm(formula = resp ~ fit + fit2, family = binomial(link = \"logit\"), \n",
       "    data = newdat)\n",
       "\n",
       "Deviance Residuals: \n",
       "    Min       1Q   Median       3Q      Max  \n",
       "-1.3677  -1.0492  -0.6754   1.1978   2.9171  \n",
       "\n",
       "Coefficients:\n",
       "            Estimate Std. Error z value Pr(>|z|)    \n",
       "(Intercept)  0.03254    0.04641   0.701    0.483    \n",
       "fit          0.70526    0.08568   8.231  < 2e-16 ***\n",
       "fit2        -0.30740    0.06420  -4.789 1.68e-06 ***\n",
       "---\n",
       "Signif. codes:  0 '***' 0.001 '**' 0.01 '*' 0.05 '.' 0.1 ' ' 1\n",
       "\n",
       "(Dispersion parameter for binomial family taken to be 1)\n",
       "\n",
       "    Null deviance: 4279.5  on 3205  degrees of freedom\n",
       "Residual deviance: 3965.3  on 3203  degrees of freedom\n",
       "AIC: 3971.3\n",
       "\n",
       "Number of Fisher Scoring iterations: 5\n"
      ]
     },
     "metadata": {},
     "output_type": "display_data"
    }
   ],
   "source": [
    "blr_linktest(blogit)"
   ]
  },
  {
   "cell_type": "markdown",
   "id": "d5caa4b4-263e-4b04-89e4-162ea37de116",
   "metadata": {},
   "source": [
    "##### Result of linktest\n",
    "\n",
    "From the logistic regression output above, both fit and fit2 are significant.  The significance of fit2 indicaets that some important variables have been omitted from the model.  Omitted variables in this sense may mean an interaction term or a linearized variable of some of the predictors."
   ]
  },
  {
   "cell_type": "markdown",
   "id": "29fed5e4-7bf3-40ed-9d62-141fb4c55043",
   "metadata": {},
   "source": [
    "##### Check interaction terms between Age and female, chronic, white"
   ]
  },
  {
   "cell_type": "code",
   "execution_count": 16,
   "id": "6aacd493-89ec-476a-bbfe-12f6b20d60dc",
   "metadata": {},
   "outputs": [
    {
     "data": {
      "text/plain": [
       "\n",
       "Call:\n",
       "glm(formula = ins ~ retire + age + hstatusg + hhincome + educyear + \n",
       "    married + hisp + age:female + age:chronic + age:white, family = binomial(link = \"logit\"), \n",
       "    data = data)\n",
       "\n",
       "Deviance Residuals: \n",
       "    Min       1Q   Median       3Q      Max  \n",
       "-2.4164  -1.0009  -0.6994   1.2136   2.3762  \n",
       "\n",
       "Coefficients:\n",
       "              Estimate Std. Error z value Pr(>|z|)    \n",
       "(Intercept) -1.4822944  0.7677232  -1.931 0.053512 .  \n",
       "retire       0.1727569  0.0855816   2.019 0.043526 *  \n",
       "age         -0.0189278  0.0115362  -1.641 0.100853    \n",
       "hstatusg     0.3626005  0.0992086   3.655 0.000257 ***\n",
       "hhincome     0.0022426  0.0007629   2.940 0.003285 ** \n",
       "educyear     0.1147705  0.0143341   8.007 1.18e-15 ***\n",
       "married      0.5298555  0.0977695   5.419 5.98e-08 ***\n",
       "hisp        -0.8122282  0.1963483  -4.137 3.52e-05 ***\n",
       "age:female  -0.0019961  0.0012500  -1.597 0.110302    \n",
       "age:chronic  0.0005788  0.0004490   1.289 0.197428    \n",
       "age:white    0.0009366  0.0016072   0.583 0.560056    \n",
       "---\n",
       "Signif. codes:  0 '***' 0.001 '**' 0.01 '*' 0.05 '.' 0.1 ' ' 1\n",
       "\n",
       "(Dispersion parameter for binomial family taken to be 1)\n",
       "\n",
       "    Null deviance: 4279.5  on 3205  degrees of freedom\n",
       "Residual deviance: 3985.4  on 3195  degrees of freedom\n",
       "AIC: 4007.4\n",
       "\n",
       "Number of Fisher Scoring iterations: 4\n"
      ]
     },
     "metadata": {},
     "output_type": "display_data"
    }
   ],
   "source": [
    "blogit2 <- glm(ins ~ retire + age + hstatusg + hhincome + educyear + married + hisp + age:female + age:chronic + age:white,\n",
    "              data=data,family=binomial(link=\"logit\"))\n",
    "\n",
    "summary(blogit2)"
   ]
  },
  {
   "cell_type": "code",
   "execution_count": 17,
   "id": "5b8666db-53d8-44de-9b9b-946ab947ce6e",
   "metadata": {},
   "outputs": [
    {
     "data": {
      "text/plain": [
       "\n",
       "Call:\n",
       "glm(formula = resp ~ fit + fit2, family = binomial(link = \"logit\"), \n",
       "    data = newdat)\n",
       "\n",
       "Deviance Residuals: \n",
       "    Min       1Q   Median       3Q      Max  \n",
       "-1.3680  -1.0424  -0.6697   1.1888   2.9293  \n",
       "\n",
       "Coefficients:\n",
       "            Estimate Std. Error z value Pr(>|z|)    \n",
       "(Intercept)  0.03549    0.04641   0.765    0.444    \n",
       "fit          0.70612    0.08515   8.292  < 2e-16 ***\n",
       "fit2        -0.30967    0.06450  -4.801 1.58e-06 ***\n",
       "---\n",
       "Signif. codes:  0 '***' 0.001 '**' 0.01 '*' 0.05 '.' 0.1 ' ' 1\n",
       "\n",
       "(Dispersion parameter for binomial family taken to be 1)\n",
       "\n",
       "    Null deviance: 4279.5  on 3205  degrees of freedom\n",
       "Residual deviance: 3960.7  on 3203  degrees of freedom\n",
       "AIC: 3966.7\n",
       "\n",
       "Number of Fisher Scoring iterations: 5\n"
      ]
     },
     "metadata": {},
     "output_type": "display_data"
    }
   ],
   "source": [
    "blr_linktest(blogit2)"
   ]
  },
  {
   "cell_type": "markdown",
   "id": "3a8891a1-91a2-490e-b0d6-05e5e36b1b95",
   "metadata": {},
   "source": [
    "##### linearize age"
   ]
  },
  {
   "cell_type": "code",
   "execution_count": 18,
   "id": "bfc4951f-53ec-49dd-9342-c41624a5669f",
   "metadata": {},
   "outputs": [
    {
     "data": {
      "text/plain": [
       "\n",
       "Call:\n",
       "glm(formula = ins ~ retire + age + (age:log(age)) + hstatusg + \n",
       "    hhincome + educyear + married + hisp + age:female + age:chronic + \n",
       "    age:white, family = binomial(link = \"logit\"), data = data)\n",
       "\n",
       "Deviance Residuals: \n",
       "    Min       1Q   Median       3Q      Max  \n",
       "-2.3877  -1.0051  -0.6938   1.2102   2.3524  \n",
       "\n",
       "Coefficients:\n",
       "               Estimate Std. Error z value Pr(>|z|)    \n",
       "(Intercept)  -2.537e+01  1.331e+01  -1.906 0.056693 .  \n",
       "retire        1.535e-01  8.613e-02   1.782 0.074766 .  \n",
       "age           1.838e+00  1.033e+00   1.779 0.075260 .  \n",
       "hstatusg      3.419e-01  9.984e-02   3.425 0.000615 ***\n",
       "hhincome      2.167e-03  7.604e-04   2.850 0.004377 ** \n",
       "educyear      1.147e-01  1.435e-02   7.993 1.32e-15 ***\n",
       "married       5.384e-01  9.790e-02   5.499 3.82e-08 ***\n",
       "hisp         -7.995e-01  1.965e-01  -4.069 4.72e-05 ***\n",
       "age:log(age) -3.566e-01  1.984e-01  -1.797 0.072301 .  \n",
       "age:female   -2.261e-03  1.259e-03  -1.797 0.072384 .  \n",
       "age:chronic   6.402e-04  4.505e-04   1.421 0.155322    \n",
       "age:white     8.297e-04  1.609e-03   0.516 0.606180    \n",
       "---\n",
       "Signif. codes:  0 '***' 0.001 '**' 0.01 '*' 0.05 '.' 0.1 ' ' 1\n",
       "\n",
       "(Dispersion parameter for binomial family taken to be 1)\n",
       "\n",
       "    Null deviance: 4279.5  on 3205  degrees of freedom\n",
       "Residual deviance: 3982.0  on 3194  degrees of freedom\n",
       "AIC: 4006\n",
       "\n",
       "Number of Fisher Scoring iterations: 4\n"
      ]
     },
     "metadata": {},
     "output_type": "display_data"
    }
   ],
   "source": [
    "blogit3 <- glm(ins ~ retire + age + (age:log(age)) + hstatusg + hhincome + educyear + married + hisp + age:female + age:chronic + age:white,\n",
    "              data=data,family=binomial(link=\"logit\"))\n",
    "\n",
    "summary(blogit3)"
   ]
  },
  {
   "cell_type": "code",
   "execution_count": 19,
   "id": "55063475-6ce9-4a58-9e26-97e0360e61b4",
   "metadata": {},
   "outputs": [
    {
     "data": {
      "text/plain": [
       "\n",
       "Call:\n",
       "glm(formula = resp ~ fit + fit2, family = binomial(link = \"logit\"), \n",
       "    data = newdat)\n",
       "\n",
       "Deviance Residuals: \n",
       "    Min       1Q   Median       3Q      Max  \n",
       "-1.3550  -1.0484  -0.6607   1.1854   2.9000  \n",
       "\n",
       "Coefficients:\n",
       "            Estimate Std. Error z value Pr(>|z|)    \n",
       "(Intercept)  0.03823    0.04638   0.824     0.41    \n",
       "fit          0.69393    0.08580   8.087 6.09e-16 ***\n",
       "fit2        -0.32234    0.06579  -4.899 9.62e-07 ***\n",
       "---\n",
       "Signif. codes:  0 '***' 0.001 '**' 0.01 '*' 0.05 '.' 0.1 ' ' 1\n",
       "\n",
       "(Dispersion parameter for binomial family taken to be 1)\n",
       "\n",
       "    Null deviance: 4279.5  on 3205  degrees of freedom\n",
       "Residual deviance: 3956.0  on 3203  degrees of freedom\n",
       "AIC: 3962\n",
       "\n",
       "Number of Fisher Scoring iterations: 5\n"
      ]
     },
     "metadata": {},
     "output_type": "display_data"
    }
   ],
   "source": [
    "blr_linktest(blogit3)"
   ]
  },
  {
   "cell_type": "markdown",
   "id": "3b5b9ac6-4e55-4ae8-9b8b-d87cbdd69128",
   "metadata": {},
   "source": [
    "Exploring the interaction terms together with the linearization of the age variable, the model still suggest presence of omitted variables since fit2 is statistically significant.  However, given that linktest is a limited tool to detect specification errors, we need to use our best judgement to detect a good model.  This can be done using theoretical propositions.  From our final model, the intraction terms of age with chronic, female and white does not have any significant impact on the dependent variable."
   ]
  },
  {
   "cell_type": "markdown",
   "id": "7d45f161-0740-46ed-88e2-aa961e5966f1",
   "metadata": {},
   "source": [
    "#### Test of Goodness of Fit\n",
    "* Pseudo-R-square\n",
    "* Log-likelihood chi-square\n",
    "* Hosmee and Leseshow\n",
    "* classification accuracy\n"
   ]
  },
  {
   "cell_type": "markdown",
   "id": "5b3560a9-7301-4cb9-abd2-c796f5ad9e90",
   "metadata": {},
   "source": [
    "#### Goodness of fit with confusion matrix"
   ]
  },
  {
   "cell_type": "code",
   "execution_count": 21,
   "id": "a517d75b-3517-4c83-b459-fb1ab8c6898c",
   "metadata": {},
   "outputs": [
    {
     "name": "stderr",
     "output_type": "stream",
     "text": [
      "Warning message:\n",
      "\"package 'caret' was built under R version 4.2.3\"\n",
      "Loading required package: lattice\n",
      "\n",
      "\n",
      "Attaching package: 'caret'\n",
      "\n",
      "\n",
      "The following objects are masked from 'package:DescTools':\n",
      "\n",
      "    MAE, RMSE\n",
      "\n",
      "\n",
      "The following object is masked from 'package:purrr':\n",
      "\n",
      "    lift\n",
      "\n",
      "\n"
     ]
    }
   ],
   "source": [
    "library(caret)"
   ]
  },
  {
   "cell_type": "code",
   "execution_count": 22,
   "id": "6b703a73-495f-423f-b01d-efcb969ad2fd",
   "metadata": {},
   "outputs": [],
   "source": [
    "data$ins <- as.factor(data$ins)"
   ]
  },
  {
   "cell_type": "code",
   "execution_count": 23,
   "id": "157403e5-556f-4fdf-be6c-3cd4417550eb",
   "metadata": {},
   "outputs": [],
   "source": [
    "# Split the dataset into train and test set\n",
    "\n",
    "trainindex <- createDataPartition(data$ins,p = 0.8, list = F)\n",
    "trainData <- data[trainindex,]\n",
    "testData <- data[trainindex,]"
   ]
  },
  {
   "cell_type": "code",
   "execution_count": 24,
   "id": "62c3b440-ed17-4758-a757-967d993f1350",
   "metadata": {},
   "outputs": [],
   "source": [
    "# train the model\n",
    "\n",
    "logRegModel <- train(ins ~ .,data = trainData,method =\"glm\",family =\"binomial\")"
   ]
  },
  {
   "cell_type": "code",
   "execution_count": 25,
   "id": "c9f03cd7-d7fa-4dde-bed0-8ab8827e2221",
   "metadata": {},
   "outputs": [],
   "source": [
    "# Use the train model to predict the outcome\n",
    "\n",
    "predictions <- predict(logRegModel,testData)"
   ]
  },
  {
   "cell_type": "code",
   "execution_count": 26,
   "id": "ece004da-f2aa-4438-84c7-0f804b951ad5",
   "metadata": {},
   "outputs": [
    {
     "name": "stdout",
     "output_type": "stream",
     "text": [
      "Confusion Matrix and Statistics\n",
      "\n",
      "          Reference\n",
      "Prediction    0    1\n",
      "         0 1221  547\n",
      "         1  351  446\n",
      "                                          \n",
      "               Accuracy : 0.6499          \n",
      "                 95% CI : (0.6311, 0.6684)\n",
      "    No Information Rate : 0.6129          \n",
      "    P-Value [Acc > NIR] : 5.819e-05       \n",
      "                                          \n",
      "                  Kappa : 0.2344          \n",
      "                                          \n",
      " Mcnemar's Test P-Value : 7.655e-11       \n",
      "                                          \n",
      "            Sensitivity : 0.7767          \n",
      "            Specificity : 0.4491          \n",
      "         Pos Pred Value : 0.6906          \n",
      "         Neg Pred Value : 0.5596          \n",
      "             Prevalence : 0.6129          \n",
      "         Detection Rate : 0.4760          \n",
      "   Detection Prevalence : 0.6893          \n",
      "      Balanced Accuracy : 0.6129          \n",
      "                                          \n",
      "       'Positive' Class : 0               \n",
      "                                          \n"
     ]
    }
   ],
   "source": [
    "# Create confusion matrix\n",
    "\n",
    "confMatrix <- confusionMatrix(predictions,testData$ins)\n",
    "print(confMatrix)"
   ]
  },
  {
   "cell_type": "markdown",
   "id": "0ad6c37c-0160-47aa-8941-03b0807057e3",
   "metadata": {},
   "source": [
    "The model achieves 65% accuracy by correclty prediction 1221 as having no insurance and 446 as having insurance.  A total of 351 were incorrectly classified as having insurance when they do not hav while 547 wwere classified as having no insurance while they indeed have."
   ]
  },
  {
   "cell_type": "markdown",
   "id": "64b6745a-b2cd-4006-a1bd-eae85e1bf1e5",
   "metadata": {},
   "source": [
    "* Pseudo-Rsqure = 6.8%\n",
    "* Accuracy = 65%\n",
    "* Sensitivity = 78%\n",
    "* Specificity = 45%"
   ]
  },
  {
   "cell_type": "markdown",
   "id": "636381ef-9b04-4c35-bc83-bb5c08eb7390",
   "metadata": {},
   "source": [
    "#### Hosmer and Lemeshow's Goodness of Fit Test"
   ]
  },
  {
   "cell_type": "code",
   "execution_count": 27,
   "id": "90757c51-2ef2-43f2-a411-ae7960efd55e",
   "metadata": {},
   "outputs": [
    {
     "name": "stderr",
     "output_type": "stream",
     "text": [
      "Installing package into 'C:/Users/fobem/AppData/Local/R/win-library/4.2'\n",
      "(as 'lib' is unspecified)\n",
      "\n",
      "also installing the dependencies 'RcppGSL', 'RcppZiggurat', 'Rfast', 'statmod'\n",
      "\n",
      "\n"
     ]
    },
    {
     "name": "stdout",
     "output_type": "stream",
     "text": [
      "package 'RcppGSL' successfully unpacked and MD5 sums checked\n",
      "package 'RcppZiggurat' successfully unpacked and MD5 sums checked\n",
      "package 'Rfast' successfully unpacked and MD5 sums checked\n",
      "package 'statmod' successfully unpacked and MD5 sums checked\n",
      "package 'glmtoolbox' successfully unpacked and MD5 sums checked\n",
      "\n",
      "The downloaded binary packages are in\n",
      "\tC:\\Users\\fobem\\AppData\\Local\\Temp\\Rtmpe0T6JL\\downloaded_packages\n"
     ]
    }
   ],
   "source": [
    "install.packages(\"glmtoolbox\")"
   ]
  },
  {
   "cell_type": "code",
   "execution_count": 28,
   "id": "5152abf6-7ed1-4713-8859-4d82bb00a422",
   "metadata": {},
   "outputs": [
    {
     "name": "stderr",
     "output_type": "stream",
     "text": [
      "Warning message:\n",
      "\"package 'glmtoolbox' was built under R version 4.2.3\"\n"
     ]
    }
   ],
   "source": [
    "library(glmtoolbox)"
   ]
  },
  {
   "cell_type": "code",
   "execution_count": 29,
   "id": "41f8e45b-45ab-42a4-9137-41d4e6312beb",
   "metadata": {},
   "outputs": [
    {
     "name": "stdout",
     "output_type": "stream",
     "text": [
      "\n",
      "   The Hosmer-Lemeshow goodness-of-fit test\n",
      "\n",
      " Group Size Observed  Expected\n",
      "     1  321       32  42.37315\n",
      "     2  321       59  74.84060\n",
      "     3  321       96  92.25235\n",
      "     4  321      103 106.11623\n",
      "     5  321      149 121.07176\n",
      "     6  321      147 134.59408\n",
      "     7  321      155 145.25786\n",
      "     8  321      165 154.01920\n",
      "     9  321      163 172.57265\n",
      "    10  317      172 197.90212\n",
      "\n",
      "         Statistic =  32.8312 \n",
      "degrees of freedom =  8 \n",
      "           p-value =  6.6054e-05 \n",
      "\n"
     ]
    }
   ],
   "source": [
    "hltest(lgmodel)"
   ]
  },
  {
   "cell_type": "markdown",
   "id": "d8b58ef5-2dc0-47f2-808a-093667bc9554",
   "metadata": {},
   "source": [
    "The Hosmer and Lemeshow p-value of 0.000066 rejects the null hypothesis of a well-specified model which suggest that our model did not fit the data well"
   ]
  },
  {
   "cell_type": "markdown",
   "id": "d5d09bcb-1623-4be0-b1c9-57437bcb8c23",
   "metadata": {},
   "source": [
    "#### Multicollinearity--Misty Package\n",
    "\n",
    "Two commonly used measures of collinearity are Tolerance and VIF.  If the variables are totally uncorrelated with each other, both the tolrelance and VIF are 1.  If a variable is very closely related to another variable(s), the tolerance value goes to 0 and VIF gets very large.\n",
    "\n",
    "Going through the collinearity results displayed below, there seem to be no multicollinearity among the variables"
   ]
  },
  {
   "cell_type": "code",
   "execution_count": 30,
   "id": "a9f329b2-5a57-4de4-b6d6-935d745e206d",
   "metadata": {},
   "outputs": [
    {
     "name": "stderr",
     "output_type": "stream",
     "text": [
      "Warning message:\n",
      "\"package 'misty' was built under R version 4.2.3\"\n",
      "|-------------------------------------|\n",
      "| misty 0.5.3 (2023-09-17)            |\n",
      "| Miscellaneous Functions T. Yanagida |\n",
      "|-------------------------------------|\n",
      "\n"
     ]
    }
   ],
   "source": [
    "library(misty)"
   ]
  },
  {
   "cell_type": "code",
   "execution_count": 33,
   "id": "23e7f323-16df-45b4-8bc5-f787827ef94b",
   "metadata": {},
   "outputs": [],
   "source": [
    "## check.collin(lgmodel, print = \"all\")"
   ]
  },
  {
   "cell_type": "code",
   "execution_count": 32,
   "id": "3c86742f-f647-4aa6-9e4c-2e05a04dca9b",
   "metadata": {},
   "outputs": [
    {
     "name": "stdout",
     "output_type": "stream",
     "text": [
      " Collinearity Diagnostics\n",
      "\n",
      "  Tolerance (Tol), Std. Error Inflation Factor (SIF), and Variance Inflation Factor (VIF)\n",
      "\n",
      "               Estimate Std. Error z value Pr(>|z|)   Tol   SIF   VIF\n",
      "   (Intercept)   -1.716      0.749  -2.292    0.022                  \n",
      "   retire         0.197      0.084   2.339    0.019 0.889 1.061 1.125\n",
      "   age           -0.015      0.011  -1.293    0.196 0.869 1.073 1.150\n",
      "   hstatusg       0.312      0.092   3.406    0.001 0.897 1.056 1.115\n",
      "   hhincome       0.002      0.001   3.023    0.003 0.859 1.079 1.164\n",
      "   educyear       0.114      0.014   8.046    0.000 0.837 1.093 1.195\n",
      "   married        0.579      0.093   6.201    0.000 0.932 1.036 1.073\n",
      "   hisp          -0.810      0.196  -4.139    0.000 0.962 1.020 1.040\n"
     ]
    }
   ],
   "source": [
    "check.collin(lgmodel)"
   ]
  },
  {
   "cell_type": "markdown",
   "id": "74175214-09b3-4611-9b2a-7eac94a4bd54",
   "metadata": {},
   "source": [
    "#### Influential Observations"
   ]
  },
  {
   "cell_type": "code",
   "execution_count": 1,
   "id": "7e7ef6a8-95dd-4356-9d66-6284a11fca81",
   "metadata": {},
   "outputs": [
    {
     "ename": "ERROR",
     "evalue": "Error in library(LogisticDx): there is no package called 'LogisticDx'\n",
     "output_type": "error",
     "traceback": [
      "Error in library(LogisticDx): there is no package called 'LogisticDx'\nTraceback:\n",
      "1. library(LogisticDx)"
     ]
    }
   ],
   "source": [
    "library(LogisticDx)"
   ]
  },
  {
   "cell_type": "code",
   "execution_count": null,
   "id": "487dbba0-5220-4279-a6d4-06e2477a253e",
   "metadata": {},
   "outputs": [],
   "source": []
  }
 ],
 "metadata": {
  "kernelspec": {
   "display_name": "R",
   "language": "R",
   "name": "ir"
  },
  "language_info": {
   "codemirror_mode": "r",
   "file_extension": ".r",
   "mimetype": "text/x-r-source",
   "name": "R",
   "pygments_lexer": "r",
   "version": "4.2.0"
  }
 },
 "nbformat": 4,
 "nbformat_minor": 5
}
