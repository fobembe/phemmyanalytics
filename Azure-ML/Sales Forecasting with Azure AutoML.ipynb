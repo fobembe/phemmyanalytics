{
 "cells": [
  {
   "cell_type": "markdown",
   "id": "9fbfa646",
   "metadata": {},
   "source": [
    "## Demand Forecasting with Azure AutoML"
   ]
  },
  {
   "cell_type": "code",
   "execution_count": 2,
   "id": "1dfb64ef",
   "metadata": {},
   "outputs": [],
   "source": [
    "# Load Azure Libraries\n",
    "\n",
    "from azureml.core import Workspace, Dataset, Datastore\n",
    "from azureml.core import Experiment\n",
    "from azureml.core.compute import ComputeTarget\n",
    "from azureml.train.automl import AutoMLConfig\n",
    "from azureml.widgets import RunDetails\n",
    "from azureml.opendatasets import OjSalesSimulated\n",
    "from azureml.automl.core.forecasting_parameters import ForecastingParameters"
   ]
  },
  {
   "cell_type": "code",
   "execution_count": 3,
   "id": "e62f6e05",
   "metadata": {},
   "outputs": [],
   "source": [
    "# Load non-azure libraries\n",
    "\n",
    "import pandas as pd\n",
    "import numpy as np\n",
    "import os\n",
    "from pathlib import Path"
   ]
  },
  {
   "cell_type": "code",
   "execution_count": 5,
   "id": "cec7d902",
   "metadata": {},
   "outputs": [],
   "source": [
    "# Connect Jupyter notebook to AMLS Workspace and set the compute cluster\n",
    "\n",
    "ws = Workspace.from_config()\n",
    "compute_name = 'compute-cluster'\n",
    "compute_target = ComputeTarget(ws,compute_name)"
   ]
  },
  {
   "cell_type": "code",
   "execution_count": 6,
   "id": "bef7c0d6",
   "metadata": {},
   "outputs": [],
   "source": [
    "# set the datastore\n",
    "\n",
    "datastore = Datastore.get_default(ws)"
   ]
  },
  {
   "cell_type": "code",
   "execution_count": 7,
   "id": "6e1d75b6",
   "metadata": {},
   "outputs": [],
   "source": [
    "# load a subset of the dataset\n",
    "\n",
    "oj_sales_files = OjSalesSimulated.get_file_dataset()\n",
    "oj_sales = oj_sales_files.take(10)"
   ]
  },
  {
   "cell_type": "code",
   "execution_count": 8,
   "id": "21daebac",
   "metadata": {},
   "outputs": [],
   "source": [
    "# Create a folder to downlodad the files\n",
    "\n",
    "folder_name = \"OJ_Sales\"\n",
    "os.makedirs(folder_name,exist_ok=True)"
   ]
  },
  {
   "cell_type": "code",
   "execution_count": 9,
   "id": "d8a7cb84",
   "metadata": {},
   "outputs": [
    {
     "data": {
      "text/plain": [
       "['/mnt/batch/tasks/shared/LS_root/mounts/clusters/compute-instance-oj/code/OJ_Sales/https%3A/%2Fazureopendatastorage.azurefd.net/ojsales-simulatedcontainer/oj_sales_data/Store1000_dominicks.csv',\n",
       " '/mnt/batch/tasks/shared/LS_root/mounts/clusters/compute-instance-oj/code/OJ_Sales/https%3A/%2Fazureopendatastorage.azurefd.net/ojsales-simulatedcontainer/oj_sales_data/Store1001_minute.maid.csv',\n",
       " '/mnt/batch/tasks/shared/LS_root/mounts/clusters/compute-instance-oj/code/OJ_Sales/https%3A/%2Fazureopendatastorage.azurefd.net/ojsales-simulatedcontainer/oj_sales_data/Store1002_tropicana.csv',\n",
       " '/mnt/batch/tasks/shared/LS_root/mounts/clusters/compute-instance-oj/code/OJ_Sales/https%3A/%2Fazureopendatastorage.azurefd.net/ojsales-simulatedcontainer/oj_sales_data/Store1000_minute.maid.csv',\n",
       " '/mnt/batch/tasks/shared/LS_root/mounts/clusters/compute-instance-oj/code/OJ_Sales/https%3A/%2Fazureopendatastorage.azurefd.net/ojsales-simulatedcontainer/oj_sales_data/Store1001_tropicana.csv',\n",
       " '/mnt/batch/tasks/shared/LS_root/mounts/clusters/compute-instance-oj/code/OJ_Sales/https%3A/%2Fazureopendatastorage.azurefd.net/ojsales-simulatedcontainer/oj_sales_data/Store1003_dominicks.csv',\n",
       " '/mnt/batch/tasks/shared/LS_root/mounts/clusters/compute-instance-oj/code/OJ_Sales/https%3A/%2Fazureopendatastorage.azurefd.net/ojsales-simulatedcontainer/oj_sales_data/Store1000_tropicana.csv',\n",
       " '/mnt/batch/tasks/shared/LS_root/mounts/clusters/compute-instance-oj/code/OJ_Sales/https%3A/%2Fazureopendatastorage.azurefd.net/ojsales-simulatedcontainer/oj_sales_data/Store1002_dominicks.csv',\n",
       " '/mnt/batch/tasks/shared/LS_root/mounts/clusters/compute-instance-oj/code/OJ_Sales/https%3A/%2Fazureopendatastorage.azurefd.net/ojsales-simulatedcontainer/oj_sales_data/Store1001_dominicks.csv',\n",
       " '/mnt/batch/tasks/shared/LS_root/mounts/clusters/compute-instance-oj/code/OJ_Sales/https%3A/%2Fazureopendatastorage.azurefd.net/ojsales-simulatedcontainer/oj_sales_data/Store1002_minute.maid.csv']"
      ]
     },
     "execution_count": 9,
     "metadata": {},
     "output_type": "execute_result"
    }
   ],
   "source": [
    "# Download the files\n",
    "\n",
    "oj_sales.download(folder_name,overwrite=True)"
   ]
  },
  {
   "cell_type": "code",
   "execution_count": 10,
   "id": "b67fb9b0",
   "metadata": {},
   "outputs": [],
   "source": [
    "# Read in the 10 files as a single pandas datafram\n",
    "\n",
    "OJ_file_path = Path('OJ_Sales').rglob('*.csv')\n",
    "OJ_files = [x for x in OJ_file_path]\n",
    "df = pd.concat((pd.read_csv(f) for f in OJ_files))"
   ]
  },
  {
   "cell_type": "code",
   "execution_count": 11,
   "id": "540d78cd",
   "metadata": {},
   "outputs": [
    {
     "data": {
      "text/html": [
       "<div>\n",
       "<style scoped>\n",
       "    .dataframe tbody tr th:only-of-type {\n",
       "        vertical-align: middle;\n",
       "    }\n",
       "\n",
       "    .dataframe tbody tr th {\n",
       "        vertical-align: top;\n",
       "    }\n",
       "\n",
       "    .dataframe thead th {\n",
       "        text-align: right;\n",
       "    }\n",
       "</style>\n",
       "<table border=\"1\" class=\"dataframe\">\n",
       "  <thead>\n",
       "    <tr style=\"text-align: right;\">\n",
       "      <th></th>\n",
       "      <th>WeekStarting</th>\n",
       "      <th>Store</th>\n",
       "      <th>Brand</th>\n",
       "      <th>Quantity</th>\n",
       "      <th>Advert</th>\n",
       "      <th>Price</th>\n",
       "      <th>Revenue</th>\n",
       "    </tr>\n",
       "  </thead>\n",
       "  <tbody>\n",
       "    <tr>\n",
       "      <th>0</th>\n",
       "      <td>1990-06-14</td>\n",
       "      <td>1000</td>\n",
       "      <td>dominicks</td>\n",
       "      <td>12003</td>\n",
       "      <td>1</td>\n",
       "      <td>2.59</td>\n",
       "      <td>31087.77</td>\n",
       "    </tr>\n",
       "    <tr>\n",
       "      <th>1</th>\n",
       "      <td>1990-06-21</td>\n",
       "      <td>1000</td>\n",
       "      <td>dominicks</td>\n",
       "      <td>10239</td>\n",
       "      <td>1</td>\n",
       "      <td>2.39</td>\n",
       "      <td>24471.21</td>\n",
       "    </tr>\n",
       "    <tr>\n",
       "      <th>2</th>\n",
       "      <td>1990-06-28</td>\n",
       "      <td>1000</td>\n",
       "      <td>dominicks</td>\n",
       "      <td>17917</td>\n",
       "      <td>1</td>\n",
       "      <td>2.48</td>\n",
       "      <td>44434.16</td>\n",
       "    </tr>\n",
       "    <tr>\n",
       "      <th>3</th>\n",
       "      <td>1990-07-05</td>\n",
       "      <td>1000</td>\n",
       "      <td>dominicks</td>\n",
       "      <td>14218</td>\n",
       "      <td>1</td>\n",
       "      <td>2.33</td>\n",
       "      <td>33127.94</td>\n",
       "    </tr>\n",
       "    <tr>\n",
       "      <th>4</th>\n",
       "      <td>1990-07-12</td>\n",
       "      <td>1000</td>\n",
       "      <td>dominicks</td>\n",
       "      <td>15925</td>\n",
       "      <td>1</td>\n",
       "      <td>2.01</td>\n",
       "      <td>32009.25</td>\n",
       "    </tr>\n",
       "    <tr>\n",
       "      <th>5</th>\n",
       "      <td>1990-07-19</td>\n",
       "      <td>1000</td>\n",
       "      <td>dominicks</td>\n",
       "      <td>17850</td>\n",
       "      <td>1</td>\n",
       "      <td>2.17</td>\n",
       "      <td>38734.50</td>\n",
       "    </tr>\n",
       "    <tr>\n",
       "      <th>6</th>\n",
       "      <td>1990-07-26</td>\n",
       "      <td>1000</td>\n",
       "      <td>dominicks</td>\n",
       "      <td>10576</td>\n",
       "      <td>1</td>\n",
       "      <td>1.97</td>\n",
       "      <td>20834.72</td>\n",
       "    </tr>\n",
       "    <tr>\n",
       "      <th>7</th>\n",
       "      <td>1990-08-02</td>\n",
       "      <td>1000</td>\n",
       "      <td>dominicks</td>\n",
       "      <td>9912</td>\n",
       "      <td>1</td>\n",
       "      <td>2.26</td>\n",
       "      <td>22401.12</td>\n",
       "    </tr>\n",
       "    <tr>\n",
       "      <th>8</th>\n",
       "      <td>1990-08-09</td>\n",
       "      <td>1000</td>\n",
       "      <td>dominicks</td>\n",
       "      <td>9571</td>\n",
       "      <td>1</td>\n",
       "      <td>2.11</td>\n",
       "      <td>20194.81</td>\n",
       "    </tr>\n",
       "    <tr>\n",
       "      <th>9</th>\n",
       "      <td>1990-08-16</td>\n",
       "      <td>1000</td>\n",
       "      <td>dominicks</td>\n",
       "      <td>15748</td>\n",
       "      <td>1</td>\n",
       "      <td>2.42</td>\n",
       "      <td>38110.16</td>\n",
       "    </tr>\n",
       "  </tbody>\n",
       "</table>\n",
       "</div>"
      ],
      "text/plain": [
       "  WeekStarting  Store      Brand  Quantity  Advert  Price   Revenue\n",
       "0   1990-06-14   1000  dominicks     12003       1   2.59  31087.77\n",
       "1   1990-06-21   1000  dominicks     10239       1   2.39  24471.21\n",
       "2   1990-06-28   1000  dominicks     17917       1   2.48  44434.16\n",
       "3   1990-07-05   1000  dominicks     14218       1   2.33  33127.94\n",
       "4   1990-07-12   1000  dominicks     15925       1   2.01  32009.25\n",
       "5   1990-07-19   1000  dominicks     17850       1   2.17  38734.50\n",
       "6   1990-07-26   1000  dominicks     10576       1   1.97  20834.72\n",
       "7   1990-08-02   1000  dominicks      9912       1   2.26  22401.12\n",
       "8   1990-08-09   1000  dominicks      9571       1   2.11  20194.81\n",
       "9   1990-08-16   1000  dominicks     15748       1   2.42  38110.16"
      ]
     },
     "execution_count": 11,
     "metadata": {},
     "output_type": "execute_result"
    }
   ],
   "source": [
    "# view the first 10 rows\n",
    "\n",
    "df.head(10)"
   ]
  },
  {
   "cell_type": "code",
   "execution_count": 12,
   "id": "a0d90ab8",
   "metadata": {},
   "outputs": [
    {
     "name": "stdout",
     "output_type": "stream",
     "text": [
      "Validating arguments.\n",
      "Arguments validated.\n",
      "Successfully obtained datastore reference and path.\n",
      "Uploading file to managed-dataset/eb5b0356-4f55-47e9-9413-909ef26663e5/\n",
      "Successfully uploaded file to datastore.\n",
      "Creating and registering a new dataset.\n",
      "Successfully created and registered a new dataset.\n"
     ]
    },
    {
     "data": {
      "text/plain": [
       "{\n",
       "  \"source\": [\n",
       "    \"('workspaceblobstore', 'managed-dataset/eb5b0356-4f55-47e9-9413-909ef26663e5/')\"\n",
       "  ],\n",
       "  \"definition\": [\n",
       "    \"GetDatastoreFiles\",\n",
       "    \"ReadParquetFile\",\n",
       "    \"DropColumns\"\n",
       "  ],\n",
       "  \"registration\": {\n",
       "    \"id\": \"f585bebf-7886-46fe-9e9e-9866caf6549d\",\n",
       "    \"name\": \"OJ Sales Sample\",\n",
       "    \"version\": 1,\n",
       "    \"workspace\": \"Workspace.create(name='ws-ojforecasting', subscription_id='be234501-d43f-4775-b64e-61ebec9a9e0b', resource_group='rg-ojsalesforecasting')\"\n",
       "  }\n",
       "}"
      ]
     },
     "execution_count": 12,
     "metadata": {},
     "output_type": "execute_result"
    }
   ],
   "source": [
    "#  Register the dataframe as dataset\n",
    "\n",
    "Dataset.Tabular.register_pandas_dataframe(df,datastore,\"OJ Sales Sample\")"
   ]
  },
  {
   "cell_type": "markdown",
   "id": "fc4afb20",
   "metadata": {},
   "source": [
    "### Training Forecasting Model with Standard Algorithms"
   ]
  },
  {
   "cell_type": "code",
   "execution_count": 13,
   "id": "7ab3776d",
   "metadata": {},
   "outputs": [],
   "source": [
    "# Set up the experiment\n",
    "\n",
    "experiment_name = 'OJ-Sales-Forecasting'\n",
    "exp = Experiment(workspace=ws,name=experiment_name)"
   ]
  },
  {
   "cell_type": "code",
   "execution_count": 14,
   "id": "ebca147d",
   "metadata": {},
   "outputs": [],
   "source": [
    "# Retrieve the dataset\n",
    "\n",
    "dataset_name = \"OJ Sales Sample\"\n",
    "dataset = Dataset.get_by_name(ws,dataset_name,version='latest')"
   ]
  },
  {
   "cell_type": "code",
   "execution_count": 15,
   "id": "c875b9d3",
   "metadata": {},
   "outputs": [],
   "source": [
    "# set the target column\n",
    "\n",
    "target_column = 'Quantity'"
   ]
  },
  {
   "cell_type": "code",
   "execution_count": 16,
   "id": "90a8f440",
   "metadata": {},
   "outputs": [],
   "source": [
    "task = 'forecasting'"
   ]
  },
  {
   "cell_type": "code",
   "execution_count": 17,
   "id": "58d59001",
   "metadata": {},
   "outputs": [],
   "source": [
    "primary_metric = 'normalized_root_mean_squared_error'"
   ]
  },
  {
   "cell_type": "code",
   "execution_count": 18,
   "id": "90239e8f",
   "metadata": {},
   "outputs": [],
   "source": [
    "featurization = 'auto'"
   ]
  },
  {
   "cell_type": "code",
   "execution_count": 32,
   "id": "4204a4a7",
   "metadata": {},
   "outputs": [],
   "source": [
    "params = ForecastingParameters.from_parameters_dict({'country_or_region_for_holidays':'US',\n",
    "                                                    'drop_columns_names':'Revenue',\n",
    "                                                    'forecast_horizon':6,\n",
    "                                                    'target_rolling_window_size':'auto',\n",
    "                                                    'target_lags':'auto',\n",
    "                                                     'feature_lags':'auto',\n",
    "                                                    'seasonality':'auto',\n",
    "                                                    'short_series_handling':True,\n",
    "                                                    'use_stl':'season_trend',\n",
    "                                                    'time_column_name':'WeekStarting',\n",
    "                                                    'time_series_id_column_names':['Store','Brand'],\n",
    "                                                    'short_series_handling_configuration':'auto'},\n",
    "                                                    validate_params=True)"
   ]
  },
  {
   "cell_type": "code",
   "execution_count": 33,
   "id": "4e616e03",
   "metadata": {},
   "outputs": [],
   "source": [
    "# Configure AutoML Run\n",
    "\n",
    "config = AutoMLConfig(task=task,\n",
    "                     primary_metric = primary_metric,\n",
    "                     featurization=featurization,\n",
    "                     compute_target=compute_target,\n",
    "                     training_data=dataset,\n",
    "                     label_column_name=target_column,\n",
    "                     experiment_timeout_minutes=15,\n",
    "                     enable_early_stopping=True,\n",
    "                     n_cross_validations=3,\n",
    "                     model_explainability=True,\n",
    "                     enable_stack_ensemble=False,\n",
    "                     enable_voting_ensemble=True,\n",
    "                     forecasting_parameters=params)"
   ]
  },
  {
   "cell_type": "code",
   "execution_count": 34,
   "id": "42a73fdf",
   "metadata": {},
   "outputs": [
    {
     "name": "stdout",
     "output_type": "stream",
     "text": [
      "Submitting remote run.\n",
      "No run_configuration provided, running on compute-cluster with default configuration\n",
      "Running on remote compute: compute-cluster\n"
     ]
    },
    {
     "data": {
      "text/html": [
       "<table style=\"width:100%\"><tr><th>Experiment</th><th>Id</th><th>Type</th><th>Status</th><th>Details Page</th><th>Docs Page</th></tr><tr><td>OJ-Sales-Forecasting</td><td>AutoML_b18c7329-394a-4d6c-9cb2-7dee94396261</td><td>automl</td><td>NotStarted</td><td><a href=\"https://ml.azure.com/runs/AutoML_b18c7329-394a-4d6c-9cb2-7dee94396261?wsid=/subscriptions/be234501-d43f-4775-b64e-61ebec9a9e0b/resourcegroups/rg-ojsalesforecasting/workspaces/ws-ojforecasting&amp;tid=3be5252e-4663-4e96-b199-8ff99e4138c2\" target=\"_blank\" rel=\"noopener\">Link to Azure Machine Learning studio</a></td><td><a href=\"https://docs.microsoft.com/en-us/python/api/overview/azure/ml/intro?view=azure-ml-py\" target=\"_blank\" rel=\"noopener\">Link to Documentation</a></td></tr></table>"
      ],
      "text/plain": [
       "<IPython.core.display.HTML object>"
      ]
     },
     "metadata": {},
     "output_type": "display_data"
    },
    {
     "name": "stdout",
     "output_type": "stream",
     "text": [
      "\n",
      "Current status: ModelSelection. Beginning model selection.\n",
      "Heuristic parameters: Target_Lag = '[0]', Target_Rolling_Window = '0'.\n",
      "\n",
      "\n",
      "********************************************************************************************\n",
      "DATA GUARDRAILS: \n",
      "\n",
      "TYPE:         Time Series ID detection\n",
      "STATUS:       PASSED\n",
      "DESCRIPTION:  The data set was analyzed, and no duplicate time index were detected.\n",
      "              Learn more about time-series forecasting configurations: https://aka.ms/AutomatedMLForecastingConfiguration\n",
      "\n",
      "********************************************************************************************\n",
      "\n",
      "TYPE:         Frequency detection\n",
      "STATUS:       PASSED\n",
      "DESCRIPTION:  The time series was analyzed, all data points are aligned with detected frequency.\n",
      "              Learn more about data preparation for time-series forecasting: https://aka.ms/AutomatedMLDataPreparation\n",
      "\n",
      "********************************************************************************************\n",
      "\n",
      "TYPE:         Missing feature values imputation\n",
      "STATUS:       PASSED\n",
      "DESCRIPTION:  No feature missing values were detected in the training data.\n",
      "              Learn more about missing value imputation: https://aka.ms/AutomatedMLFeaturization\n",
      "\n",
      "********************************************************************************************\n",
      "\n",
      "TYPE:         Memory Issues Detection\n",
      "STATUS:       PASSED\n",
      "DESCRIPTION:  The selected horizon, lag and rolling window values were analyzed, and no potential memory issues were detected.\n",
      "              Learn more about time-series forecasting configurations: https://aka.ms/AutomatedMLForecastingConfiguration\n",
      "\n",
      "********************************************************************************************\n",
      "\n",
      "TYPE:         Short series handling\n",
      "STATUS:       PASSED\n",
      "DESCRIPTION:  Automated ML detected enough data points for each series in the input data to continue with training.\n",
      "              Learn more about short series handling: https://aka.ms/AutomatedMLShortSeriesHandling\n",
      "\n",
      "********************************************************************************************\n",
      "\n",
      "TYPE:         Automatic cross validation\n",
      "STATUS:       DONE\n",
      "DESCRIPTION:  Cross validation parameter(s) were automatically set for your dataset.\n",
      "              Learn more about time-series forecasting configurations: https://aka.ms/AutomatedMLForecastingConfiguration\n",
      "DETAILS:      If n_cross_validations and/or cv_step_size is not specified, Automated ML will determine those cross validation parameters automatically for you.\n",
      "+----------------------------------------------------------------+\n",
      "|Number of periods between two consecutive cross validation folds|\n",
      "+================================================================+\n",
      "|5                                                               |\n",
      "+----------------------------------------------------------------+\n",
      "\n",
      "********************************************************************************************\n",
      "\n",
      "********************************************************************************************\n",
      "ITER: The iteration being evaluated.\n",
      "PIPELINE: A summary description of the pipeline being evaluated.\n",
      "DURATION: Time taken for the current iteration.\n",
      "METRIC: The result of computing score on the fitted pipeline.\n",
      "BEST: The best observed score thus far.\n",
      "********************************************************************************************\n",
      "\n",
      " ITER   PIPELINE                                       DURATION            METRIC      BEST\n",
      "    0    Naive                                         0:00:14             0.3879    0.3879\n",
      "    1    SeasonalNaive                                 0:00:11             0.4197    0.3879\n",
      "    2    Average                                       0:00:11             0.2804    0.2804\n",
      "    3    SeasonalAverage                               0:00:12             0.3003    0.2804\n",
      "    4    ExponentialSmoothing                          0:01:15             0.2807    0.2804\n",
      "    5    Arimax                                        0:00:24             0.0272    0.0272\n",
      "    6    ProphetModel                                  0:00:23             0.0300    0.0272\n",
      "    7   StandardScalerWrapper LightGBM                 0:00:12             0.0139    0.0139\n",
      "    8   StandardScalerWrapper XGBoostRegressor         0:00:12             0.0172    0.0139\n",
      "    9   MaxAbsScaler ElasticNet                        0:00:12             0.0259    0.0139\n",
      "   10   RobustScaler ElasticNet                        0:00:11             0.0259    0.0139\n",
      "   11   MinMaxScaler ElasticNet                        0:00:11             0.0260    0.0139\n",
      "   12   StandardScalerWrapper ElasticNet               0:00:12             0.0262    0.0139\n",
      "   13   MinMaxScaler RandomForest                      0:00:12             0.1019    0.0139\n",
      "   14   MaxAbsScaler ElasticNet                        0:00:12             0.0256    0.0139\n",
      "   15   StandardScalerWrapper ElasticNet               0:00:12             0.0262    0.0139\n",
      "   16   MaxAbsScaler ElasticNet                        0:00:12             0.0262    0.0139\n",
      "   17   StandardScalerWrapper ElasticNet               0:00:12             0.0261    0.0139\n",
      "   18   MinMaxScaler ExtremeRandomTrees                0:00:12             0.0408    0.0139\n",
      "   19   MinMaxScaler RandomForest                      0:00:12             0.0281    0.0139\n",
      "   20   MinMaxScaler ExtremeRandomTrees                0:00:29             0.0733    0.0139\n",
      "   21   MinMaxScaler ExtremeRandomTrees                0:00:28             0.1307    0.0139\n",
      "   22   MaxAbsScaler ExtremeRandomTrees                0:00:28             0.0262    0.0139\n",
      "   23   MinMaxScaler DecisionTree                      0:00:28             0.0576    0.0139\n",
      "   24   RobustScaler ExtremeRandomTrees                0:00:28             0.0463    0.0139\n",
      "   25   SparseNormalizer LightGBM                      0:00:30             0.0127    0.0127\n",
      "   26   RobustScaler DecisionTree                      0:00:27             0.0583    0.0127\n",
      "   27   MaxAbsScaler LightGBM                          0:00:28             0.0174    0.0127\n",
      "   28   MinMaxScaler LightGBM                          0:00:28             0.0745    0.0127\n",
      "   29   MaxAbsScaler LightGBM                          0:00:32             0.0167    0.0127\n",
      "   30    VotingEnsemble                                0:00:49             0.0088    0.0088\n"
     ]
    },
    {
     "data": {
      "application/vnd.jupyter.widget-view+json": {
       "model_id": "ea5f9c3a5c6241e186a6f950b7d9ee9e",
       "version_major": 2,
       "version_minor": 0
      },
      "text/plain": [
       "_AutoMLWidget(widget_settings={'childWidgetDisplay': 'popup', 'send_telemetry': False, 'log_level': 'INFO', 's…"
      ]
     },
     "metadata": {},
     "output_type": "display_data"
    },
    {
     "data": {
      "application/aml.mini.widget.v1": "{\"status\": \"Completed\", \"workbench_run_details_uri\": \"https://ml.azure.com/runs/AutoML_b18c7329-394a-4d6c-9cb2-7dee94396261?wsid=/subscriptions/be234501-d43f-4775-b64e-61ebec9a9e0b/resourcegroups/rg-ojsalesforecasting/workspaces/ws-ojforecasting&tid=3be5252e-4663-4e96-b199-8ff99e4138c2\", \"run_id\": \"AutoML_b18c7329-394a-4d6c-9cb2-7dee94396261\", \"run_properties\": {\"run_id\": \"AutoML_b18c7329-394a-4d6c-9cb2-7dee94396261\", \"created_utc\": \"2023-06-10T15:25:11.411801Z\", \"properties\": {\"num_iterations\": \"1000\", \"training_type\": \"TrainFull\", \"acquisition_function\": \"EI\", \"primary_metric\": \"normalized_root_mean_squared_error\", \"train_split\": \"0\", \"acquisition_parameter\": \"0\", \"num_cross_validation\": \"3\", \"target\": \"compute-cluster\", \"AMLSettingsJsonString\": \"{\\\"path\\\":null,\\\"name\\\":\\\"OJ-Sales-Forecasting\\\",\\\"subscription_id\\\":\\\"be234501-d43f-4775-b64e-61ebec9a9e0b\\\",\\\"resource_group\\\":\\\"rg-ojsalesforecasting\\\",\\\"workspace_name\\\":\\\"ws-ojforecasting\\\",\\\"region\\\":\\\"eastus\\\",\\\"compute_target\\\":\\\"compute-cluster\\\",\\\"spark_service\\\":null,\\\"azure_service\\\":\\\"remote\\\",\\\"many_models\\\":false,\\\"pipeline_fetch_max_batch_size\\\":1,\\\"enable_batch_run\\\":true,\\\"enable_parallel_run\\\":false,\\\"num_procs\\\":null,\\\"enable_run_restructure\\\":false,\\\"start_auxiliary_runs_before_parent_complete\\\":false,\\\"enable_code_generation\\\":true,\\\"iterations\\\":1000,\\\"primary_metric\\\":\\\"normalized_root_mean_squared_error\\\",\\\"task_type\\\":\\\"regression\\\",\\\"positive_label\\\":null,\\\"data_script\\\":null,\\\"test_size\\\":0.0,\\\"test_include_predictions_only\\\":false,\\\"validation_size\\\":0.0,\\\"n_cross_validations\\\":3,\\\"y_min\\\":null,\\\"y_max\\\":null,\\\"num_classes\\\":null,\\\"featurization\\\":\\\"auto\\\",\\\"_ignore_package_version_incompatibilities\\\":false,\\\"is_timeseries\\\":true,\\\"max_cores_per_iteration\\\":1,\\\"max_concurrent_iterations\\\":1,\\\"iteration_timeout_minutes\\\":null,\\\"mem_in_mb\\\":null,\\\"enforce_time_on_windows\\\":false,\\\"experiment_timeout_minutes\\\":15,\\\"experiment_exit_score\\\":null,\\\"partition_column_names\\\":null,\\\"whitelist_models\\\":null,\\\"blacklist_algos\\\":[\\\"TensorFlowDNN\\\",\\\"TensorFlowLinearRegressor\\\"],\\\"supported_models\\\":[\\\"Average\\\",\\\"Prophet\\\",\\\"XGBoostRegressor\\\",\\\"TabnetRegressor\\\",\\\"LassoLars\\\",\\\"ExponentialSmoothing\\\",\\\"ExtremeRandomTrees\\\",\\\"KNN\\\",\\\"RandomForest\\\",\\\"ElasticNet\\\",\\\"GradientBoosting\\\",\\\"Arimax\\\",\\\"TensorFlowDNN\\\",\\\"SeasonalAverage\\\",\\\"SGD\\\",\\\"SeasonalNaive\\\",\\\"TensorFlowLinearRegressor\\\",\\\"Naive\\\",\\\"AutoArima\\\",\\\"LightGBM\\\",\\\"DecisionTree\\\",\\\"TCNForecaster\\\"],\\\"private_models\\\":[],\\\"auto_blacklist\\\":true,\\\"blacklist_samples_reached\\\":false,\\\"exclude_nan_labels\\\":true,\\\"verbosity\\\":20,\\\"_debug_log\\\":\\\"azureml_automl.log\\\",\\\"show_warnings\\\":false,\\\"model_explainability\\\":true,\\\"service_url\\\":null,\\\"sdk_url\\\":null,\\\"sdk_packages\\\":null,\\\"enable_onnx_compatible_models\\\":false,\\\"enable_split_onnx_featurizer_estimator_models\\\":false,\\\"vm_type\\\":\\\"STANDARD_D4S_V3\\\",\\\"telemetry_verbosity\\\":20,\\\"send_telemetry\\\":true,\\\"enable_dnn\\\":false,\\\"scenario\\\":\\\"AutoML\\\",\\\"environment_label\\\":null,\\\"save_mlflow\\\":false,\\\"enable_categorical_indicators\\\":false,\\\"force_text_dnn\\\":false,\\\"enable_feature_sweeping\\\":false,\\\"time_column_name\\\":\\\"WeekStarting\\\",\\\"grain_column_names\\\":[\\\"Store\\\",\\\"Brand\\\"],\\\"drop_column_names\\\":[],\\\"max_horizon\\\":6,\\\"dropna\\\":false,\\\"overwrite_columns\\\":true,\\\"transform_dictionary\\\":{\\\"min\\\":\\\"_automl_target_col\\\",\\\"max\\\":\\\"_automl_target_col\\\",\\\"mean\\\":\\\"_automl_target_col\\\"},\\\"window_size\\\":\\\"auto\\\",\\\"country_or_region\\\":\\\"US\\\",\\\"lags\\\":{\\\"_automl_target_col\\\":[\\\"auto\\\"]},\\\"feature_lags\\\":\\\"auto\\\",\\\"seasonality\\\":\\\"auto\\\",\\\"use_stl\\\":\\\"season_trend\\\",\\\"short_series_handling\\\":true,\\\"freq\\\":null,\\\"short_series_handling_configuration\\\":\\\"auto\\\",\\\"target_aggregation_function\\\":null,\\\"cv_step_size\\\":\\\"auto\\\",\\\"has_multiple_series\\\":true,\\\"enable_early_stopping\\\":true,\\\"early_stopping_n_iters\\\":10,\\\"arguments\\\":null,\\\"dataset_id\\\":\\\"f585bebf-7886-46fe-9e9e-9866caf6549d\\\",\\\"hyperdrive_config\\\":null,\\\"validation_dataset_id\\\":null,\\\"run_source\\\":null,\\\"metrics\\\":null,\\\"enable_metric_confidence\\\":false,\\\"enable_ensembling\\\":true,\\\"enable_stack_ensembling\\\":false,\\\"ensemble_iterations\\\":15,\\\"enable_tf\\\":false,\\\"enable_subsampling\\\":false,\\\"subsample_seed\\\":null,\\\"enable_nimbusml\\\":false,\\\"enable_streaming\\\":false,\\\"force_streaming\\\":false,\\\"track_child_runs\\\":true,\\\"n_best_runs\\\":1,\\\"allowed_private_models\\\":[],\\\"label_column_name\\\":\\\"Quantity\\\",\\\"weight_column_name\\\":null,\\\"cv_split_column_names\\\":null,\\\"enable_local_managed\\\":false,\\\"_local_managed_run_id\\\":null,\\\"cost_mode\\\":1,\\\"lag_length\\\":0,\\\"metric_operation\\\":\\\"minimize\\\",\\\"preprocess\\\":true}\", \"DataPrepJsonString\": \"{\\\\\\\"training_data\\\\\\\": {\\\\\\\"datasetId\\\\\\\": \\\\\\\"f585bebf-7886-46fe-9e9e-9866caf6549d\\\\\\\"}, \\\\\\\"datasets\\\\\\\": 0}\", \"EnableSubsampling\": \"False\", \"runTemplate\": \"AutoML\", \"azureml.runsource\": \"automl\", \"display_task_type\": \"forecasting\", \"dependencies_versions\": \"{\\\"azureml-widgets\\\": \\\"1.49.0\\\", \\\"azureml-training-tabular\\\": \\\"1.49.0\\\", \\\"azureml-train\\\": \\\"1.49.0\\\", \\\"azureml-train-restclients-hyperdrive\\\": \\\"1.49.0\\\", \\\"azureml-train-core\\\": \\\"1.49.0\\\", \\\"azureml-train-automl\\\": \\\"1.49.0\\\", \\\"azureml-train-automl-runtime\\\": \\\"1.49.0\\\", \\\"azureml-train-automl-client\\\": \\\"1.49.0\\\", \\\"azureml-tensorboard\\\": \\\"1.49.0\\\", \\\"azureml-telemetry\\\": \\\"1.49.0\\\", \\\"azureml-sdk\\\": \\\"1.49.0\\\", \\\"azureml-responsibleai\\\": \\\"1.49.0\\\", \\\"azureml-pipeline\\\": \\\"1.49.0\\\", \\\"azureml-pipeline-steps\\\": \\\"1.49.0\\\", \\\"azureml-pipeline-core\\\": \\\"1.49.0\\\", \\\"azureml-opendatasets\\\": \\\"1.49.0\\\", \\\"azureml-mlflow\\\": \\\"1.49.0\\\", \\\"azureml-interpret\\\": \\\"1.49.0\\\", \\\"azureml-inference-server-http\\\": \\\"0.8.0\\\", \\\"azureml-explain-model\\\": \\\"1.49.0\\\", \\\"azureml-defaults\\\": \\\"1.49.0\\\", \\\"azureml-dataset-runtime\\\": \\\"1.49.0\\\", \\\"azureml-dataprep\\\": \\\"4.9.1\\\", \\\"azureml-dataprep-rslex\\\": \\\"2.16.1\\\", \\\"azureml-dataprep-native\\\": \\\"38.0.0\\\", \\\"azureml-datadrift\\\": \\\"1.49.0\\\", \\\"azureml-core\\\": \\\"1.49.0\\\", \\\"azureml-contrib-services\\\": \\\"1.49.0\\\", \\\"azureml-contrib-server\\\": \\\"1.49.0\\\", \\\"azureml-contrib-reinforcementlearning\\\": \\\"1.49.0\\\", \\\"azureml-contrib-pipeline-steps\\\": \\\"1.49.0\\\", \\\"azureml-contrib-notebook\\\": \\\"1.49.0\\\", \\\"azureml-contrib-fairness\\\": \\\"1.49.0\\\", \\\"azureml-contrib-dataset\\\": \\\"1.49.0\\\", \\\"azureml-contrib-automl-pipeline-steps\\\": \\\"1.49.0\\\", \\\"azureml-cli-common\\\": \\\"1.49.0\\\", \\\"azureml-automl-runtime\\\": \\\"1.49.0\\\", \\\"azureml-automl-dnn-nlp\\\": \\\"1.49.0\\\", \\\"azureml-automl-core\\\": \\\"1.49.0\\\", \\\"azureml-accel-models\\\": \\\"1.49.0\\\"}\", \"_aml_system_scenario_identification\": \"Remote.Parent\", \"ClientType\": \"SDK\", \"PlatformVersion\": \"DPV1\", \"environment_cpu_name\": \"AzureML-AutoML\", \"environment_cpu_label\": \"prod\", \"environment_gpu_name\": \"AzureML-AutoML-GPU\", \"environment_gpu_label\": \"prod\", \"root_attribution\": \"automl\", \"attribution\": \"AutoML\", \"Orchestrator\": \"AutoML\", \"CancelUri\": \"https://eastus.api.azureml.ms/jasmine/v1.0/subscriptions/be234501-d43f-4775-b64e-61ebec9a9e0b/resourceGroups/rg-ojsalesforecasting/providers/Microsoft.MachineLearningServices/workspaces/ws-ojforecasting/experimentids/9b7f7c5c-a4ee-4457-9bc8-b3c23de3cf8f/cancel/AutoML_b18c7329-394a-4d6c-9cb2-7dee94396261\", \"ClientSdkVersion\": null, \"snapshotId\": \"00000000-0000-0000-0000-000000000000\", \"SetupRunId\": \"AutoML_b18c7329-394a-4d6c-9cb2-7dee94396261_setup\", \"SetupRunContainerId\": \"dcid.AutoML_b18c7329-394a-4d6c-9cb2-7dee94396261_setup\", \"forecasting_target_lags\": \"[0]\", \"forecasting_target_rolling_window_size\": \"0\", \"forecasting_max_horizon\": \"6\", \"forecasting_freq\": \"W-THU\", \"ProblemInfoJsonString\": \"{\\\"dataset_num_categorical\\\": 0, \\\"is_sparse\\\": false, \\\"subsampling\\\": false, \\\"has_extra_col\\\": true, \\\"dataset_classes\\\": 1140, \\\"dataset_features\\\": 17, \\\"dataset_samples\\\": 1210, \\\"single_frequency_class_detected\\\": false, \\\"series_column_count\\\": 2, \\\"series_count\\\": 10, \\\"series_len_min\\\": 121, \\\"series_len_max\\\": 121, \\\"series_len_avg\\\": 121.0, \\\"series_len_perc_25\\\": 121.0, \\\"series_len_perc_50\\\": 121.0, \\\"series_len_perc_75\\\": 121.0}\", \"ModelExplainRunId\": \"AutoML_b18c7329-394a-4d6c-9cb2-7dee94396261_ModelExplain\"}, \"tags\": {\"model_explain_run\": \"best_run\", \"_aml_system_automl_run_workspace_id\": \"d7beb904-62d8-4974-8200-515588d44a9c\", \"_aml_system_azureml.automlComponent\": \"AutoML\", \"auto\": \"Heuristic parameters: Target_Lag = '[0]', Target_Rolling_Window = '0'.\\n\", \"pipeline_id_000\": \"__AutoML_Naive__;__AutoML_SeasonalNaive__;__AutoML_Average__;__AutoML_SeasonalAverage__;__AutoML_ExponentialSmoothing__;__AutoML_Arimax__;__AutoML_Prophet__;faf12f74cf9bbd358ca5525682c5030d36f7be7c;4bc4ec47eb8df2d5d68b361cd60120e65196f757;2dc95d8bafd84221b8de309021c722b4fa570e77;25f83b241b8941c8c1f896a8338015dbab159f71;1ee8bbdda30f414fb76bee47d543cd5e109dcdf8;86f7c6ce026522eff88f32e647e3e27450da2679;6ea29a0b9fd1f634678397a456aaf8d4d853f689;7839ca66a0ff9be386363c852f0384a7b2a1c93f;4379608887dc335ce8c4ec4afbec7da03177d166;ae729f09378486945c70eb2a2306f8aa8f4e30a7;13907c2227a8ccd337dcfb9775a6091b777331e0;7b7eb05148aedbc9f680e7533de408ae512d737a;65d7c43a91915b98bea837d39e652767814c8983;480f8271b09711d8daebb36454a153b84ef1254e;e647a57da02d25aba6061b72d5df7283520175ad;b5f35f573ce4f6e8526176d4e0932b5193598307;3840ebb82b060782c0c1aaabbe352751ed0cb999;1f8577810e0ef1b58bfcf0cc67c0115f13247d60;9f8366eb0fbb7fd10038813ab49f380e5ba2e7c9;322472bb82968b4f37e85efa3a44571fd0e0a889;8ad00591e21e299c5e23524bb5477a4b9680db19;64340dcffb369217e2207fae00428187542b24ca;24aa063e5bcbced1b8187c4a568c9d707555a107;__AutoML_Ensemble__\", \"score_000\": \"0.38785548558348415;0.41965798087781064;0.2804037502151941;0.30029903565313676;0.2807462058420359;0.02720315966303095;0.030032736053515644;0.01394486692816288;0.017244882917416934;0.02589755501405447;0.025887541859973204;0.026030641551779202;0.026183725521949197;0.10190290151286573;0.025638392323644954;0.02619528258039758;0.026158197618483956;0.026074844799674802;0.040836106596162054;0.028067169941523265;0.0732807526337652;0.1306745819604672;0.02620605751644144;0.057604430906953254;0.04628352219116225;0.012696824474421624;0.058266019921129064;0.017379399835479366;0.07451197669626468;0.016674396024901953;0.008805441968454931\", \"predicted_cost_000\": \"0;0;0;0;0;0;0;0.5;0.5;0.5;0.5;0.5;0.5;0.5;0.5;0.5;0.5;0.5;0.5;0.5;0.09202140758623374;0.04061773101713614;0.05676858656897681;0.004827198474921718;0.05859036542047833;0.38390255100263354;0.0022031211170332235;0.17171494559566566;0.011682065346101625;0.04921512371884582;0\", \"fit_time_000\": \"0.09761266666666668;0.10175699999999999;0.105866;0.11068866666666666;15.785235333333333;3.4099049999999997;3.132725666666667;0.089964;0.21204233333333333;0.017831666666666666;0.028948333333333336;0.028881333333333332;0.030974333333333336;0.05588733333333334;0.03768966666666667;0.025920666666666665;0.033355;0.02289966666666667;0.05349033333333333;0.1193;0.09662833333333333;0.035842;0.030584333333333335;0.005960333333333334;0.020527;0.251177;0.005935666666666666;0.05721966666666667;0.014068333333333334;0.620768;14\", \"training_percent_000\": \"100;100;100;100;100;100;100;100;100;100;100;100;100;100;100;100;100;100;100;100;100;100;100;100;100;100;100;100;100;100;100\", \"iteration_000\": \"0;1;2;3;4;5;6;7;8;9;10;11;12;13;14;15;16;17;18;19;20;21;22;23;24;25;26;27;28;29;30\", \"run_preprocessor_000\": \";;;;;;;StandardScalerWrapper;StandardScalerWrapper;MaxAbsScaler;RobustScaler;MinMaxScaler;StandardScalerWrapper;MinMaxScaler;MaxAbsScaler;StandardScalerWrapper;MaxAbsScaler;StandardScalerWrapper;MinMaxScaler;MinMaxScaler;MinMaxScaler;MinMaxScaler;MaxAbsScaler;MinMaxScaler;RobustScaler;SparseNormalizer;RobustScaler;MaxAbsScaler;MinMaxScaler;MaxAbsScaler;\", \"run_algorithm_000\": \"Naive;SeasonalNaive;Average;SeasonalAverage;ExponentialSmoothing;Arimax;ProphetModel;LightGBM;XGBoostRegressor;ElasticNet;ElasticNet;ElasticNet;ElasticNet;RandomForest;ElasticNet;ElasticNet;ElasticNet;ElasticNet;ExtremeRandomTrees;RandomForest;ExtremeRandomTrees;ExtremeRandomTrees;ExtremeRandomTrees;DecisionTree;ExtremeRandomTrees;LightGBM;DecisionTree;LightGBM;LightGBM;LightGBM;VotingEnsemble\", \"dynamic_allowlisting_iterations\": \"<25>;\", \"_aml_system_azureml.automl_early_exit_message\": \"Experiment timeout reached, hence experiment stopped. Current experiment timeout: 0 hour(s) 15 minute(s)\", \"automl_best_child_run_id\": \"AutoML_b18c7329-394a-4d6c-9cb2-7dee94396261_30\", \"model_explain_best_run_child_id\": \"AutoML_b18c7329-394a-4d6c-9cb2-7dee94396261_30\"}, \"end_time_utc\": \"2023-06-10T15:42:32.09257Z\", \"status\": \"Completed\", \"log_files\": {}, \"log_groups\": [], \"run_duration\": \"0:17:20\", \"run_number\": \"1686410711\", \"run_queued_details\": {\"status\": \"Completed\", \"details\": null}}, \"child_runs\": [{\"run_id\": \"AutoML_b18c7329-394a-4d6c-9cb2-7dee94396261_setup\", \"run_number\": 1686410724, \"metric\": null, \"status\": \"Completed\", \"run_type\": \"azureml.scriptrun\", \"training_percent\": null, \"start_time\": \"2023-06-10T15:25:40.547844Z\", \"end_time\": \"2023-06-10T15:26:21.332887Z\", \"created_time\": \"2023-06-10T15:25:24.712893Z\", \"created_time_dt\": \"2023-06-10T15:25:24.712893Z\", \"duration\": \"0:00:56\", \"iteration\": null, \"goal\": null, \"run_name\": \"Completed\", \"run_properties\": null}, {\"run_id\": \"AutoML_b18c7329-394a-4d6c-9cb2-7dee94396261_0\", \"run_number\": 1686410782, \"metric\": null, \"status\": \"Completed\", \"run_type\": null, \"training_percent\": \"100\", \"start_time\": \"2023-06-10T15:26:48.582614Z\", \"end_time\": \"2023-06-10T15:27:02.089638Z\", \"created_time\": \"2023-06-10T15:26:22.557408Z\", \"created_time_dt\": \"2023-06-10T15:26:22.557408Z\", \"duration\": \"0:00:39\", \"iteration\": \"0\", \"goal\": \"normalized_root_mean_squared_error_min\", \"run_name\": \"Naive\", \"run_properties\": \"timeseries_param_dict={'time_column_name': 'WeekStarting', 'grain_column_names': ['Store', 'Brand'], 'target_column_name': 'Quantity', 'drop_column_names': [], 'overwrite_columns': True, 'dropna': False, 'transform_dictionary': {'min': '_automl_target_col', 'max': '_automl_target_col', 'mean': '_automl_target_col'}, 'max_horizon': 6, 'origin_time_colname': 'origin', 'country_or_region': 'US', 'n_cross_validations': 3, 'short_series_handling': True, 'max_cores_per_iteration': 1, 'feature_lags': 'auto', 'target_aggregation_function': None, 'cv_step_size': 5, 'window_size': 'auto', 'lags': {'_automl_target_col': ['auto']}, 'seasonality': 4, 'use_stl': 'season_trend', 'freq': 'W-THU', 'short_series_handling_configuration': 'auto', 'target_lags': [0], 'target_rolling_window_size': 0, 'arimax_raw_columns': ['Brand', 'Revenue', 'Price', 'Advert', 'WeekStarting', 'Store']}\", \"primary_metric\": 0.38785549, \"best_metric\": 0.38785549}, {\"run_id\": \"AutoML_b18c7329-394a-4d6c-9cb2-7dee94396261_2\", \"run_number\": 1686410783, \"metric\": null, \"status\": \"Completed\", \"run_type\": null, \"training_percent\": \"100\", \"start_time\": \"2023-06-10T15:27:14.93597Z\", \"end_time\": \"2023-06-10T15:27:26.394527Z\", \"created_time\": \"2023-06-10T15:26:23.38047Z\", \"created_time_dt\": \"2023-06-10T15:26:23.38047Z\", \"duration\": \"0:01:03\", \"iteration\": \"2\", \"goal\": \"normalized_root_mean_squared_error_min\", \"run_name\": \"Average\", \"run_properties\": \"timeseries_param_dict={'time_column_name': 'WeekStarting', 'grain_column_names': ['Store', 'Brand'], 'target_column_name': 'Quantity', 'drop_column_names': [], 'overwrite_columns': True, 'dropna': False, 'transform_dictionary': {'min': '_automl_target_col', 'max': '_automl_target_col', 'mean': '_automl_target_col'}, 'max_horizon': 6, 'origin_time_colname': 'origin', 'country_or_region': 'US', 'n_cross_validations': 3, 'short_series_handling': True, 'max_cores_per_iteration': 1, 'feature_lags': 'auto', 'target_aggregation_function': None, 'cv_step_size': 5, 'window_size': 'auto', 'lags': {'_automl_target_col': ['auto']}, 'seasonality': 4, 'use_stl': 'season_trend', 'freq': 'W-THU', 'short_series_handling_configuration': 'auto', 'target_lags': [0], 'target_rolling_window_size': 0, 'arimax_raw_columns': ['Brand', 'Revenue', 'Price', 'Advert', 'WeekStarting', 'Store']}\", \"primary_metric\": 0.28040375, \"best_metric\": 0.28040375}, {\"run_id\": \"AutoML_b18c7329-394a-4d6c-9cb2-7dee94396261_4\", \"run_number\": 1686410784, \"metric\": null, \"status\": \"Completed\", \"run_type\": null, \"training_percent\": \"100\", \"start_time\": \"2023-06-10T15:27:39.204777Z\", \"end_time\": \"2023-06-10T15:28:54.260579Z\", \"created_time\": \"2023-06-10T15:26:24.252222Z\", \"created_time_dt\": \"2023-06-10T15:26:24.252222Z\", \"duration\": \"0:02:30\", \"iteration\": \"4\", \"goal\": \"normalized_root_mean_squared_error_min\", \"run_name\": \"ExponentialSmoothing\", \"run_properties\": \"timeseries_param_dict={'time_column_name': 'WeekStarting', 'grain_column_names': ['Store', 'Brand'], 'target_column_name': 'Quantity', 'drop_column_names': [], 'overwrite_columns': True, 'dropna': False, 'transform_dictionary': {'min': '_automl_target_col', 'max': '_automl_target_col', 'mean': '_automl_target_col'}, 'max_horizon': 6, 'origin_time_colname': 'origin', 'country_or_region': 'US', 'n_cross_validations': 3, 'short_series_handling': True, 'max_cores_per_iteration': 1, 'feature_lags': 'auto', 'target_aggregation_function': None, 'cv_step_size': 5, 'window_size': 'auto', 'lags': {'_automl_target_col': ['auto']}, 'seasonality': 4, 'use_stl': 'season_trend', 'freq': 'W-THU', 'short_series_handling_configuration': 'auto', 'target_lags': [0], 'target_rolling_window_size': 0, 'arimax_raw_columns': ['Brand', 'Revenue', 'Price', 'Advert', 'WeekStarting', 'Store']}\", \"primary_metric\": 0.28074621, \"best_metric\": 0.28040375}, {\"run_id\": \"AutoML_b18c7329-394a-4d6c-9cb2-7dee94396261_6\", \"run_number\": 1686410785, \"metric\": null, \"status\": \"Completed\", \"run_type\": null, \"training_percent\": \"100\", \"start_time\": \"2023-06-10T15:29:19.754016Z\", \"end_time\": \"2023-06-10T15:29:42.872312Z\", \"created_time\": \"2023-06-10T15:26:25.117732Z\", \"created_time_dt\": \"2023-06-10T15:26:25.117732Z\", \"duration\": \"0:03:17\", \"iteration\": \"6\", \"goal\": \"normalized_root_mean_squared_error_min\", \"run_name\": \"ProphetModel\", \"run_properties\": \"timeseries_param_dict={'time_column_name': 'WeekStarting', 'grain_column_names': ['Store', 'Brand'], 'target_column_name': 'Quantity', 'drop_column_names': [], 'overwrite_columns': True, 'dropna': False, 'transform_dictionary': {'min': '_automl_target_col', 'max': '_automl_target_col', 'mean': '_automl_target_col'}, 'max_horizon': 6, 'origin_time_colname': 'origin', 'country_or_region': 'US', 'n_cross_validations': 3, 'short_series_handling': True, 'max_cores_per_iteration': 1, 'feature_lags': 'auto', 'target_aggregation_function': None, 'cv_step_size': 5, 'window_size': 'auto', 'lags': {'_automl_target_col': ['auto']}, 'seasonality': 4, 'use_stl': 'season_trend', 'freq': 'W-THU', 'short_series_handling_configuration': 'auto', 'target_lags': [0], 'target_rolling_window_size': 0, 'arimax_raw_columns': ['Brand', 'Revenue', 'Price', 'Advert', 'WeekStarting', 'Store']}\", \"primary_metric\": 0.03003274, \"best_metric\": 0.03003274}, {\"run_id\": \"AutoML_b18c7329-394a-4d6c-9cb2-7dee94396261_8\", \"run_number\": 1686410786, \"metric\": null, \"status\": \"Completed\", \"run_type\": null, \"training_percent\": \"100\", \"start_time\": \"2023-06-10T15:29:56.465093Z\", \"end_time\": \"2023-06-10T15:30:08.818337Z\", \"created_time\": \"2023-06-10T15:26:26.111443Z\", \"created_time_dt\": \"2023-06-10T15:26:26.111443Z\", \"duration\": \"0:03:42\", \"iteration\": \"8\", \"goal\": \"normalized_root_mean_squared_error_min\", \"run_name\": \"StandardScalerWrapper, XGBoostRegressor\", \"run_properties\": \"copy=True, with_mean=False, with_std=False\", \"primary_metric\": 0.01724488, \"best_metric\": 0.01724488}, {\"run_id\": \"AutoML_b18c7329-394a-4d6c-9cb2-7dee94396261_10\", \"run_number\": 1686410787, \"metric\": null, \"status\": \"Completed\", \"run_type\": null, \"training_percent\": \"100\", \"start_time\": \"2023-06-10T15:30:21.876737Z\", \"end_time\": \"2023-06-10T15:30:33.332299Z\", \"created_time\": \"2023-06-10T15:26:27.198561Z\", \"created_time_dt\": \"2023-06-10T15:26:27.198561Z\", \"duration\": \"0:04:06\", \"iteration\": \"10\", \"goal\": \"normalized_root_mean_squared_error_min\", \"run_name\": \"RobustScaler, ElasticNet\", \"run_properties\": \"copy=True, quantile_range=[10, 90], with_centering=True,\\n             with_scaling=False\", \"primary_metric\": 0.02588754, \"best_metric\": 0.01724488}, {\"run_id\": \"AutoML_b18c7329-394a-4d6c-9cb2-7dee94396261_12\", \"run_number\": 1686410788, \"metric\": null, \"status\": \"Completed\", \"run_type\": null, \"training_percent\": \"100\", \"start_time\": \"2023-06-10T15:30:46.166526Z\", \"end_time\": \"2023-06-10T15:30:57.903908Z\", \"created_time\": \"2023-06-10T15:26:28.054904Z\", \"created_time_dt\": \"2023-06-10T15:26:28.054904Z\", \"duration\": \"0:04:29\", \"iteration\": \"12\", \"goal\": \"normalized_root_mean_squared_error_min\", \"run_name\": \"StandardScalerWrapper, ElasticNet\", \"run_properties\": \"copy=True, with_mean=False, with_std=True\", \"primary_metric\": 0.02618373, \"best_metric\": 0.01724488}, {\"run_id\": \"AutoML_b18c7329-394a-4d6c-9cb2-7dee94396261_14\", \"run_number\": 1686410789, \"metric\": null, \"status\": \"Completed\", \"run_type\": null, \"training_percent\": \"100\", \"start_time\": \"2023-06-10T15:31:10.966151Z\", \"end_time\": \"2023-06-10T15:31:22.5311Z\", \"created_time\": \"2023-06-10T15:26:29.04721Z\", \"created_time_dt\": \"2023-06-10T15:26:29.04721Z\", \"duration\": \"0:04:53\", \"iteration\": \"14\", \"goal\": \"normalized_root_mean_squared_error_min\", \"run_name\": \"MaxAbsScaler, ElasticNet\", \"run_properties\": \"copy=True\", \"primary_metric\": 0.02563839, \"best_metric\": 0.01724488}, {\"run_id\": \"AutoML_b18c7329-394a-4d6c-9cb2-7dee94396261_17\", \"run_number\": 1686410790, \"metric\": null, \"status\": \"Completed\", \"run_type\": null, \"training_percent\": \"100\", \"start_time\": \"2023-06-10T15:31:48.00235Z\", \"end_time\": \"2023-06-10T15:31:59.629711Z\", \"created_time\": \"2023-06-10T15:26:30.299944Z\", \"created_time_dt\": \"2023-06-10T15:26:30.299944Z\", \"duration\": \"0:05:29\", \"iteration\": \"17\", \"goal\": \"normalized_root_mean_squared_error_min\", \"run_name\": \"StandardScalerWrapper, ElasticNet\", \"run_properties\": \"copy=True, with_mean=True, with_std=False\", \"primary_metric\": 0.02607484, \"best_metric\": 0.01724488}, {\"run_id\": \"AutoML_b18c7329-394a-4d6c-9cb2-7dee94396261_worker_0\", \"run_number\": 1686410791, \"metric\": null, \"status\": \"Completed\", \"run_type\": \"azureml.scriptrun\", \"training_percent\": null, \"start_time\": \"2023-06-10T15:26:40.293584Z\", \"end_time\": \"2023-06-10T15:32:37.006882Z\", \"created_time\": \"2023-06-10T15:26:31.428611Z\", \"created_time_dt\": \"2023-06-10T15:26:31.428611Z\", \"duration\": \"0:06:05\", \"iteration\": null, \"goal\": null, \"run_name\": \"Completed\", \"run_properties\": null}, {\"run_id\": \"AutoML_b18c7329-394a-4d6c-9cb2-7dee94396261_20\", \"run_number\": 1686411314, \"metric\": null, \"status\": \"Completed\", \"run_type\": \"azureml.scriptrun\", \"training_percent\": \"100\", \"start_time\": \"2023-06-10T15:35:31.666125Z\", \"end_time\": \"2023-06-10T15:36:00.410603Z\", \"created_time\": \"2023-06-10T15:35:14.391088Z\", \"created_time_dt\": \"2023-06-10T15:35:14.391088Z\", \"duration\": \"0:00:46\", \"iteration\": \"20\", \"goal\": \"normalized_root_mean_squared_error_min\", \"run_name\": \"MinMaxScaler, ExtremeRandomTrees\", \"run_properties\": \"copy=True, feature_range=(0, 1\", \"primary_metric\": 0.07328075, \"best_metric\": 0.01724488}, {\"run_id\": \"AutoML_b18c7329-394a-4d6c-9cb2-7dee94396261_21\", \"run_number\": 1686411361, \"metric\": null, \"status\": \"Completed\", \"run_type\": \"azureml.scriptrun\", \"training_percent\": \"100\", \"start_time\": \"2023-06-10T15:36:07.736445Z\", \"end_time\": \"2023-06-10T15:36:35.820975Z\", \"created_time\": \"2023-06-10T15:36:01.475703Z\", \"created_time_dt\": \"2023-06-10T15:36:01.475703Z\", \"duration\": \"0:00:34\", \"iteration\": \"21\", \"goal\": \"normalized_root_mean_squared_error_min\", \"run_name\": \"MinMaxScaler, ExtremeRandomTrees\", \"run_properties\": \"copy=True, feature_range=(0, 1\", \"primary_metric\": 0.13067458, \"best_metric\": 0.01724488}, {\"run_id\": \"AutoML_b18c7329-394a-4d6c-9cb2-7dee94396261_22\", \"run_number\": 1686411397, \"metric\": null, \"status\": \"Completed\", \"run_type\": \"azureml.scriptrun\", \"training_percent\": \"100\", \"start_time\": \"2023-06-10T15:36:44.398359Z\", \"end_time\": \"2023-06-10T15:37:12.253403Z\", \"created_time\": \"2023-06-10T15:36:37.19829Z\", \"created_time_dt\": \"2023-06-10T15:36:37.19829Z\", \"duration\": \"0:00:35\", \"iteration\": \"22\", \"goal\": \"normalized_root_mean_squared_error_min\", \"run_name\": \"MaxAbsScaler, ExtremeRandomTrees\", \"run_properties\": \"copy=True\", \"primary_metric\": 0.02620606, \"best_metric\": 0.01724488}, {\"run_id\": \"AutoML_b18c7329-394a-4d6c-9cb2-7dee94396261_23\", \"run_number\": 1686411433, \"metric\": null, \"status\": \"Completed\", \"run_type\": \"azureml.scriptrun\", \"training_percent\": \"100\", \"start_time\": \"2023-06-10T15:37:20.728051Z\", \"end_time\": \"2023-06-10T15:37:48.800518Z\", \"created_time\": \"2023-06-10T15:37:13.490038Z\", \"created_time_dt\": \"2023-06-10T15:37:13.490038Z\", \"duration\": \"0:00:35\", \"iteration\": \"23\", \"goal\": \"normalized_root_mean_squared_error_min\", \"run_name\": \"MinMaxScaler, DecisionTree\", \"run_properties\": \"copy=True, feature_range=(0, 1\", \"primary_metric\": 0.05760443, \"best_metric\": 0.01724488}, {\"run_id\": \"AutoML_b18c7329-394a-4d6c-9cb2-7dee94396261_24\", \"run_number\": 1686411469, \"metric\": null, \"status\": \"Completed\", \"run_type\": \"azureml.scriptrun\", \"training_percent\": \"100\", \"start_time\": \"2023-06-10T15:37:55.996127Z\", \"end_time\": \"2023-06-10T15:38:24.05704Z\", \"created_time\": \"2023-06-10T15:37:49.957685Z\", \"created_time_dt\": \"2023-06-10T15:37:49.957685Z\", \"duration\": \"0:00:34\", \"iteration\": \"24\", \"goal\": \"normalized_root_mean_squared_error_min\", \"run_name\": \"RobustScaler, ExtremeRandomTrees\", \"run_properties\": \"copy=True, quantile_range=[10, 90], with_centering=False,\\n             with_scaling=False\", \"primary_metric\": 0.04628352, \"best_metric\": 0.01724488}, {\"run_id\": \"AutoML_b18c7329-394a-4d6c-9cb2-7dee94396261_25\", \"run_number\": 1686411505, \"metric\": null, \"status\": \"Completed\", \"run_type\": \"azureml.scriptrun\", \"training_percent\": \"100\", \"start_time\": \"2023-06-10T15:38:33.282747Z\", \"end_time\": \"2023-06-10T15:39:02.796514Z\", \"created_time\": \"2023-06-10T15:38:25.948047Z\", \"created_time_dt\": \"2023-06-10T15:38:25.948047Z\", \"duration\": \"0:00:36\", \"iteration\": \"25\", \"goal\": \"normalized_root_mean_squared_error_min\", \"run_name\": \"SparseNormalizer, LightGBM\", \"run_properties\": \"copy=True, norm='l1'\", \"primary_metric\": 0.01269682, \"best_metric\": 0.01269682}, {\"run_id\": \"AutoML_b18c7329-394a-4d6c-9cb2-7dee94396261_26\", \"run_number\": 1686411543, \"metric\": null, \"status\": \"Completed\", \"run_type\": \"azureml.scriptrun\", \"training_percent\": \"100\", \"start_time\": \"2023-06-10T15:39:11.660196Z\", \"end_time\": \"2023-06-10T15:39:39.121089Z\", \"created_time\": \"2023-06-10T15:39:03.976847Z\", \"created_time_dt\": \"2023-06-10T15:39:03.976847Z\", \"duration\": \"0:00:35\", \"iteration\": \"26\", \"goal\": \"normalized_root_mean_squared_error_min\", \"run_name\": \"RobustScaler, DecisionTree\", \"run_properties\": \"copy=True, quantile_range=[10, 90], with_centering=False,\\n             with_scaling=False\", \"primary_metric\": 0.05826602, \"best_metric\": 0.01269682}, {\"run_id\": \"AutoML_b18c7329-394a-4d6c-9cb2-7dee94396261_27\", \"run_number\": 1686411580, \"metric\": null, \"status\": \"Completed\", \"run_type\": \"azureml.scriptrun\", \"training_percent\": \"100\", \"start_time\": \"2023-06-10T15:39:47.909766Z\", \"end_time\": \"2023-06-10T15:40:15.743949Z\", \"created_time\": \"2023-06-10T15:39:40.629694Z\", \"created_time_dt\": \"2023-06-10T15:39:40.629694Z\", \"duration\": \"0:00:35\", \"iteration\": \"27\", \"goal\": \"normalized_root_mean_squared_error_min\", \"run_name\": \"MaxAbsScaler, LightGBM\", \"run_properties\": \"copy=True\", \"primary_metric\": 0.0173794, \"best_metric\": 0.01269682}, {\"run_id\": \"AutoML_b18c7329-394a-4d6c-9cb2-7dee94396261_28\", \"run_number\": 1686411617, \"metric\": null, \"status\": \"Completed\", \"run_type\": \"azureml.scriptrun\", \"training_percent\": \"100\", \"start_time\": \"2023-06-10T15:40:25.323542Z\", \"end_time\": \"2023-06-10T15:40:52.875707Z\", \"created_time\": \"2023-06-10T15:40:17.277102Z\", \"created_time_dt\": \"2023-06-10T15:40:17.277102Z\", \"duration\": \"0:00:35\", \"iteration\": \"28\", \"goal\": \"normalized_root_mean_squared_error_min\", \"run_name\": \"MinMaxScaler, LightGBM\", \"run_properties\": \"copy=True, feature_range=(0, 1\", \"primary_metric\": 0.07451198, \"best_metric\": 0.01269682}, {\"run_id\": \"AutoML_b18c7329-394a-4d6c-9cb2-7dee94396261_29\", \"run_number\": 1686411654, \"metric\": null, \"status\": \"Completed\", \"run_type\": \"azureml.scriptrun\", \"training_percent\": \"100\", \"start_time\": \"2023-06-10T15:41:02.057225Z\", \"end_time\": \"2023-06-10T15:41:33.862398Z\", \"created_time\": \"2023-06-10T15:40:54.422047Z\", \"created_time_dt\": \"2023-06-10T15:40:54.422047Z\", \"duration\": \"0:00:39\", \"iteration\": \"29\", \"goal\": \"normalized_root_mean_squared_error_min\", \"run_name\": \"MaxAbsScaler, LightGBM\", \"run_properties\": \"copy=True\", \"primary_metric\": 0.0166744, \"best_metric\": 0.01269682}, {\"run_id\": \"AutoML_b18c7329-394a-4d6c-9cb2-7dee94396261_30\", \"run_number\": 1686411694, \"metric\": null, \"status\": \"Completed\", \"run_type\": \"azureml.scriptrun\", \"training_percent\": \"100\", \"start_time\": \"2023-06-10T15:41:42.117441Z\", \"end_time\": \"2023-06-10T15:42:30.907363Z\", \"created_time\": \"2023-06-10T15:41:34.534697Z\", \"created_time_dt\": \"2023-06-10T15:41:34.534697Z\", \"duration\": \"0:00:56\", \"iteration\": \"30\", \"goal\": \"normalized_root_mean_squared_error_min\", \"run_name\": \"VotingEnsemble\", \"run_properties\": \"estimators=[('25', Pipeline(memory=None, steps=[('sparsenormalizer', Normalizer(copy=True, norm='l1'\", \"primary_metric\": 0.00880544, \"best_metric\": 0.00880544}], \"children_metrics\": {\"categories\": [0], \"series\": {\"mean_absolute_percentage_error\": [{\"categories\": [\"0\", \"2\", \"4\", \"6\", \"8\", \"10\", \"12\", \"14\", \"17\", \"20\", \"21\", \"22\", \"23\", \"24\", \"25\", \"26\", \"27\", \"28\", \"29\", \"30\"], \"mode\": \"markers\", \"name\": \"mean_absolute_percentage_error\", \"stepped\": false, \"type\": \"scatter\", \"data\": [26.724033230268702, 20.23989344724369, 20.320751775603622, 2.0437471207129723, 1.0959261541189125, 1.6812865119315077, 1.7287742186802528, 1.6460097553503872, 1.7133167218808014, 5.115477420476576, 9.16718418574655, 1.6907723444984624, 3.9931854313720656, 3.139532975720515, 0.8398891552317057, 3.9758249278806086, 1.0696713856131446, 5.063725813782341, 1.0124340246461607, 0.5623461701609401]}, {\"categories\": [\"0\", \"2\", \"4\", \"6\", \"8\", \"10\", \"12\", \"14\", \"17\", \"20\", \"21\", \"22\", \"23\", \"24\", \"25\", \"26\", \"27\", \"28\", \"29\", \"30\"], \"mode\": \"lines\", \"name\": \"mean_absolute_percentage_error_min\", \"stepped\": true, \"type\": \"scatter\", \"data\": [26.724033230268702, 20.23989344724369, 20.23989344724369, 2.0437471207129723, 1.0959261541189125, 1.0959261541189125, 1.0959261541189125, 1.0959261541189125, 1.0959261541189125, 1.0959261541189125, 1.0959261541189125, 1.0959261541189125, 1.0959261541189125, 1.0959261541189125, 0.8398891552317057, 0.8398891552317057, 0.8398891552317057, 0.8398891552317057, 0.8398891552317057, 0.5623461701609401]}], \"root_mean_squared_log_error\": [{\"categories\": [\"0\", \"2\", \"4\", \"6\", \"8\", \"10\", \"12\", \"14\", \"17\", \"20\", \"21\", \"22\", \"23\", \"24\", \"25\", \"26\", \"27\", \"28\", \"29\", \"30\"], \"mode\": \"markers\", \"name\": \"root_mean_squared_log_error\", \"stepped\": false, \"type\": \"scatter\", \"data\": [0.318270534612257, 0.22626847489023802, 0.22668682714349578, 0.029114999853871153, 0.013774572583441252, 0.02527369849881894, 0.026250882990055745, 0.024624029618363834, 0.025923559553559558, 0.06338672268390223, 0.11108205730813348, 0.02230441724318637, 0.0485506367871486, 0.0395863803208762, 0.011291653914121626, 0.04950730208485082, 0.015656095263133215, 0.06503074600732571, 0.013916256070634257, 0.008342406609475791]}, {\"categories\": [\"0\", \"2\", \"4\", \"6\", \"8\", \"10\", \"12\", \"14\", \"17\", \"20\", \"21\", \"22\", \"23\", \"24\", \"25\", \"26\", \"27\", \"28\", \"29\", \"30\"], \"mode\": \"lines\", \"name\": \"root_mean_squared_log_error_min\", \"stepped\": true, \"type\": \"scatter\", \"data\": [0.318270534612257, 0.22626847489023802, 0.22626847489023802, 0.029114999853871153, 0.013774572583441252, 0.013774572583441252, 0.013774572583441252, 0.013774572583441252, 0.013774572583441252, 0.013774572583441252, 0.013774572583441252, 0.013774572583441252, 0.013774572583441252, 0.013774572583441252, 0.011291653914121626, 0.011291653914121626, 0.011291653914121626, 0.011291653914121626, 0.011291653914121626, 0.008342406609475791]}], \"normalized_root_mean_squared_error\": [{\"categories\": [\"0\", \"2\", \"4\", \"6\", \"8\", \"10\", \"12\", \"14\", \"17\", \"20\", \"21\", \"22\", \"23\", \"24\", \"25\", \"26\", \"27\", \"28\", \"29\", \"30\"], \"mode\": \"markers\", \"name\": \"normalized_root_mean_squared_error\", \"stepped\": false, \"type\": \"scatter\", \"data\": [0.38785548558348415, 0.2804037502151941, 0.2807462058420359, 0.030032736053515644, 0.017244882917416934, 0.025887541859973204, 0.026183725521949197, 0.025638392323644954, 0.026074844799674802, 0.0732807526337652, 0.1306745819604672, 0.02620605751644144, 0.057604430906953254, 0.04628352219116225, 0.012696824474421624, 0.058266019921129064, 0.017379399835479366, 0.07451197669626468, 0.016674396024901953, 0.008805441968454931]}, {\"categories\": [\"0\", \"2\", \"4\", \"6\", \"8\", \"10\", \"12\", \"14\", \"17\", \"20\", \"21\", \"22\", \"23\", \"24\", \"25\", \"26\", \"27\", \"28\", \"29\", \"30\"], \"mode\": \"lines\", \"name\": \"normalized_root_mean_squared_error_min\", \"stepped\": true, \"type\": \"scatter\", \"data\": [0.38785548558348415, 0.2804037502151941, 0.2804037502151941, 0.030032736053515644, 0.017244882917416934, 0.017244882917416934, 0.017244882917416934, 0.017244882917416934, 0.017244882917416934, 0.017244882917416934, 0.017244882917416934, 0.017244882917416934, 0.017244882917416934, 0.017244882917416934, 0.012696824474421624, 0.012696824474421624, 0.012696824474421624, 0.012696824474421624, 0.012696824474421624, 0.008805441968454931]}], \"normalized_median_absolute_error\": [{\"categories\": [\"0\", \"2\", \"4\", \"6\", \"8\", \"10\", \"12\", \"14\", \"17\", \"20\", \"21\", \"22\", \"23\", \"24\", \"25\", \"26\", \"27\", \"28\", \"29\", \"30\"], \"mode\": \"markers\", \"name\": \"normalized_median_absolute_error\", \"stepped\": false, \"type\": \"scatter\", \"data\": [0.31906267625964585, 0.23598428405147512, 0.2364939828851831, 0.020458423402153467, 0.012220034852596205, 0.016510961834992312, 0.016616055399298443, 0.01671170555764932, 0.01655646634622142, 0.05744784676956712, 0.10256246427806888, 0.018562645977977296, 0.0477350264408317, 0.034298456036286694, 0.009118306345598395, 0.046147780590168684, 0.011001652655140616, 0.05360073113889868, 0.010372307978397142, 0.005529672904466564]}, {\"categories\": [\"0\", \"2\", \"4\", \"6\", \"8\", \"10\", \"12\", \"14\", \"17\", \"20\", \"21\", \"22\", \"23\", \"24\", \"25\", \"26\", \"27\", \"28\", \"29\", \"30\"], \"mode\": \"lines\", \"name\": \"normalized_median_absolute_error_min\", \"stepped\": true, \"type\": \"scatter\", \"data\": [0.31906267625964585, 0.23598428405147512, 0.23598428405147512, 0.020458423402153467, 0.012220034852596205, 0.012220034852596205, 0.012220034852596205, 0.012220034852596205, 0.012220034852596205, 0.012220034852596205, 0.012220034852596205, 0.012220034852596205, 0.012220034852596205, 0.012220034852596205, 0.009118306345598395, 0.009118306345598395, 0.009118306345598395, 0.009118306345598395, 0.009118306345598395, 0.005529672904466564]}], \"root_mean_squared_error\": [{\"categories\": [\"0\", \"2\", \"4\", \"6\", \"8\", \"10\", \"12\", \"14\", \"17\", \"20\", \"21\", \"22\", \"23\", \"24\", \"25\", \"26\", \"27\", \"28\", \"29\", \"30\"], \"mode\": \"markers\", \"name\": \"root_mean_squared_error\", \"stepped\": false, \"type\": \"scatter\", \"data\": [4421.806939409317, 3077.1846154047103, 3080.701784342895, 349.8733614529174, 195.8460669511654, 304.1470799976073, 307.9368998284414, 301.4880697547566, 306.55406278679726, 820.1445091147172, 1454.6133160983138, 299.36310711041216, 648.1297884139659, 514.8615372404288, 145.46991196622287, 660.5216126638774, 201.5417606178412, 832.3226356910576, 190.8973916249115, 103.92008572779396]}, {\"categories\": [\"0\", \"2\", \"4\", \"6\", \"8\", \"10\", \"12\", \"14\", \"17\", \"20\", \"21\", \"22\", \"23\", \"24\", \"25\", \"26\", \"27\", \"28\", \"29\", \"30\"], \"mode\": \"lines\", \"name\": \"root_mean_squared_error_min\", \"stepped\": true, \"type\": \"scatter\", \"data\": [4421.806939409317, 3077.1846154047103, 3077.1846154047103, 349.8733614529174, 195.8460669511654, 195.8460669511654, 195.8460669511654, 195.8460669511654, 195.8460669511654, 195.8460669511654, 195.8460669511654, 195.8460669511654, 195.8460669511654, 195.8460669511654, 145.46991196622287, 145.46991196622287, 145.46991196622287, 145.46991196622287, 145.46991196622287, 103.92008572779396]}], \"normalized_root_mean_squared_log_error\": [{\"categories\": [\"0\", \"2\", \"4\", \"6\", \"8\", \"10\", \"12\", \"14\", \"17\", \"20\", \"21\", \"22\", \"23\", \"24\", \"25\", \"26\", \"27\", \"28\", \"29\", \"30\"], \"mode\": \"markers\", \"name\": \"normalized_root_mean_squared_log_error\", \"stepped\": false, \"type\": \"scatter\", \"data\": [0.3845830665586371, 0.2828038465407665, 0.2833594248109778, 0.03288304145667479, 0.016849360414564193, 0.02819286818590322, 0.029147671935860233, 0.02756634591083988, 0.02882463323804546, 0.07722881227234589, 0.13590826893655483, 0.026289158912977287, 0.05875646112448021, 0.048007693557667964, 0.01335956080707481, 0.05959509801393239, 0.017640253076981572, 0.07900748196328343, 0.016514646169045633, 0.009235301706764553]}, {\"categories\": [\"0\", \"2\", \"4\", \"6\", \"8\", \"10\", \"12\", \"14\", \"17\", \"20\", \"21\", \"22\", \"23\", \"24\", \"25\", \"26\", \"27\", \"28\", \"29\", \"30\"], \"mode\": \"lines\", \"name\": \"normalized_root_mean_squared_log_error_min\", \"stepped\": true, \"type\": \"scatter\", \"data\": [0.3845830665586371, 0.2828038465407665, 0.2828038465407665, 0.03288304145667479, 0.016849360414564193, 0.016849360414564193, 0.016849360414564193, 0.016849360414564193, 0.016849360414564193, 0.016849360414564193, 0.016849360414564193, 0.016849360414564193, 0.016849360414564193, 0.016849360414564193, 0.01335956080707481, 0.01335956080707481, 0.01335956080707481, 0.01335956080707481, 0.01335956080707481, 0.009235301706764553]}], \"normalized_mean_absolute_error\": [{\"categories\": [\"0\", \"2\", \"4\", \"6\", \"8\", \"10\", \"12\", \"14\", \"17\", \"20\", \"21\", \"22\", \"23\", \"24\", \"25\", \"26\", \"27\", \"28\", \"29\", \"30\"], \"mode\": \"markers\", \"name\": \"normalized_mean_absolute_error\", \"stepped\": false, \"type\": \"scatter\", \"data\": [0.33221250185134926, 0.2418666664963841, 0.2424469417788598, 0.02468244307915141, 0.014202258148299132, 0.020385018293010516, 0.020664114080496884, 0.020107269858794, 0.02057357246505651, 0.06235069028950213, 0.11066182453212685, 0.021365054923429817, 0.04977773691120648, 0.03855297972955755, 0.0103751482639732, 0.049336984702760094, 0.013621878673986761, 0.061108582636128485, 0.013086593143662015, 0.006948650207272126]}, {\"categories\": [\"0\", \"2\", \"4\", \"6\", \"8\", \"10\", \"12\", \"14\", \"17\", \"20\", \"21\", \"22\", \"23\", \"24\", \"25\", \"26\", \"27\", \"28\", \"29\", \"30\"], \"mode\": \"lines\", \"name\": \"normalized_mean_absolute_error_min\", \"stepped\": true, \"type\": \"scatter\", \"data\": [0.33221250185134926, 0.2418666664963841, 0.2418666664963841, 0.02468244307915141, 0.014202258148299132, 0.014202258148299132, 0.014202258148299132, 0.014202258148299132, 0.014202258148299132, 0.014202258148299132, 0.014202258148299132, 0.014202258148299132, 0.014202258148299132, 0.014202258148299132, 0.0103751482639732, 0.0103751482639732, 0.0103751482639732, 0.0103751482639732, 0.0103751482639732, 0.006948650207272126]}], \"explained_variance\": [{\"categories\": [\"0\", \"2\", \"4\", \"6\", \"8\", \"10\", \"12\", \"14\", \"17\", \"20\", \"21\", \"22\", \"23\", \"24\", \"25\", \"26\", \"27\", \"28\", \"29\", \"30\"], \"mode\": \"markers\", \"name\": \"explained_variance\", \"stepped\": false, \"type\": \"scatter\", \"data\": [-1.0814998611369508, -0.0013284838059372344, -0.0014563192204292141, 0.9864590488534732, 0.9959065038988237, 0.9901289317933735, 0.9898666193569491, 0.990286067090477, 0.9899623442873061, 0.9281976338843526, 0.774943914556748, 0.9900557894290817, 0.9576318400377782, 0.9718077042655963, 0.9977343054022138, 0.9557239242987157, 0.9957037912283478, 0.9268020934288406, 0.9960524019190626, 0.9988455356457994]}, {\"categories\": [\"0\", \"2\", \"4\", \"6\", \"8\", \"10\", \"12\", \"14\", \"17\", \"20\", \"21\", \"22\", \"23\", \"24\", \"25\", \"26\", \"27\", \"28\", \"29\", \"30\"], \"mode\": \"lines\", \"name\": \"explained_variance_max\", \"stepped\": true, \"type\": \"scatter\", \"data\": [-1.0814998611369508, -0.0013284838059372344, -0.0013284838059372344, 0.9864590488534732, 0.9959065038988237, 0.9959065038988237, 0.9959065038988237, 0.9959065038988237, 0.9959065038988237, 0.9959065038988237, 0.9959065038988237, 0.9959065038988237, 0.9959065038988237, 0.9959065038988237, 0.9977343054022138, 0.9977343054022138, 0.9977343054022138, 0.9977343054022138, 0.9977343054022138, 0.9988455356457994]}], \"mean_absolute_error\": [{\"categories\": [\"0\", \"2\", \"4\", \"6\", \"8\", \"10\", \"12\", \"14\", \"17\", \"20\", \"21\", \"22\", \"23\", \"24\", \"25\", \"26\", \"27\", \"28\", \"29\", \"30\"], \"mode\": \"markers\", \"name\": \"mean_absolute_error\", \"stepped\": false, \"type\": \"scatter\", \"data\": [3600.1777777777775, 2618.2133607294477, 2624.3957872833803, 267.4000860952019, 153.49422200520834, 220.77602936448548, 223.76909635918364, 217.7861345307252, 222.79845902083414, 675.045246161547, 1197.2090927666352, 231.69326719576733, 538.9059678345232, 417.29763489127254, 112.30955328298087, 533.9254157804986, 147.4513723616021, 661.5152095464069, 141.4303219818787, 75.26580110180183]}, {\"categories\": [\"0\", \"2\", \"4\", \"6\", \"8\", \"10\", \"12\", \"14\", \"17\", \"20\", \"21\", \"22\", \"23\", \"24\", \"25\", \"26\", \"27\", \"28\", \"29\", \"30\"], \"mode\": \"lines\", \"name\": \"mean_absolute_error_min\", \"stepped\": true, \"type\": \"scatter\", \"data\": [3600.1777777777775, 2618.2133607294477, 2618.2133607294477, 267.4000860952019, 153.49422200520834, 153.49422200520834, 153.49422200520834, 153.49422200520834, 153.49422200520834, 153.49422200520834, 153.49422200520834, 153.49422200520834, 153.49422200520834, 153.49422200520834, 112.30955328298087, 112.30955328298087, 112.30955328298087, 112.30955328298087, 112.30955328298087, 75.26580110180183]}], \"r2_score\": [{\"categories\": [\"0\", \"2\", \"4\", \"6\", \"8\", \"10\", \"12\", \"14\", \"17\", \"20\", \"21\", \"22\", \"23\", \"24\", \"25\", \"26\", \"27\", \"28\", \"29\", \"30\"], \"mode\": \"markers\", \"name\": \"r2_score\", \"stepped\": false, \"type\": \"scatter\", \"data\": [-0.956562609990597, -0.025093019724938603, -0.027532618109740687, 0.986196360413102, 0.9958295782154263, 0.9900031023167055, 0.9897524513951654, 0.9901722819305286, 0.9898443777560949, 0.9270239875048611, 0.7692241547903218, 0.9900403421350713, 0.9544720462555945, 0.9713212831436393, 0.9976928148752938, 0.952774894440326, 0.9955970417149124, 0.9251020959459374, 0.9960094800312308, 0.9988317275846607]}, {\"categories\": [\"0\", \"2\", \"4\", \"6\", \"8\", \"10\", \"12\", \"14\", \"17\", \"20\", \"21\", \"22\", \"23\", \"24\", \"25\", \"26\", \"27\", \"28\", \"29\", \"30\"], \"mode\": \"lines\", \"name\": \"r2_score_max\", \"stepped\": true, \"type\": \"scatter\", \"data\": [-0.956562609990597, -0.025093019724938603, -0.025093019724938603, 0.986196360413102, 0.9958295782154263, 0.9958295782154263, 0.9958295782154263, 0.9958295782154263, 0.9958295782154263, 0.9958295782154263, 0.9958295782154263, 0.9958295782154263, 0.9958295782154263, 0.9958295782154263, 0.9976928148752938, 0.9976928148752938, 0.9976928148752938, 0.9976928148752938, 0.9976928148752938, 0.9988317275846607]}], \"median_absolute_error\": [{\"categories\": [\"0\", \"2\", \"4\", \"6\", \"8\", \"10\", \"12\", \"14\", \"17\", \"20\", \"21\", \"22\", \"23\", \"24\", \"25\", \"26\", \"27\", \"28\", \"29\", \"30\"], \"mode\": \"markers\", \"name\": \"median_absolute_error\", \"stepped\": false, \"type\": \"scatter\", \"data\": [2973.6666666666665, 2549.391022021457, 2594.0278076094064, 198.48694134090934, 129.31770833333334, 155.70624552241406, 157.2357259965153, 156.04965775484348, 153.2403081829149, 547.4589963288685, 1127.8982523594461, 189.77166666666653, 467.915837872268, 354.8415269325621, 89.14130914123355, 434.0026608485247, 116.40270513924861, 574.3548096987737, 104.39763847817176, 59.06354580546334]}, {\"categories\": [\"0\", \"2\", \"4\", \"6\", \"8\", \"10\", \"12\", \"14\", \"17\", \"20\", \"21\", \"22\", \"23\", \"24\", \"25\", \"26\", \"27\", \"28\", \"29\", \"30\"], \"mode\": \"lines\", \"name\": \"median_absolute_error_min\", \"stepped\": true, \"type\": \"scatter\", \"data\": [2973.6666666666665, 2549.391022021457, 2549.391022021457, 198.48694134090934, 129.31770833333334, 129.31770833333334, 129.31770833333334, 129.31770833333334, 129.31770833333334, 129.31770833333334, 129.31770833333334, 129.31770833333334, 129.31770833333334, 129.31770833333334, 89.14130914123355, 89.14130914123355, 89.14130914123355, 89.14130914123355, 89.14130914123355, 59.06354580546334]}], \"spearman_correlation\": [{\"categories\": [\"0\", \"2\", \"4\", \"6\", \"8\", \"10\", \"12\", \"14\", \"17\", \"20\", \"21\", \"22\", \"23\", \"24\", \"25\", \"26\", \"27\", \"28\", \"29\", \"30\"], \"mode\": \"markers\", \"name\": \"spearman_correlation\", \"stepped\": false, \"type\": \"scatter\", \"data\": [-0.05104067631667617, 0.06042233235737814, 0.06868712458371083, 0.9929980550152822, 0.9956839862924888, 0.9949615633972401, 0.9949245160692787, 0.9950171343891824, 0.994905992405298, 0.9840881726405484, 0.9456515698805226, 0.99420209317403, 0.9763508727824313, 0.9881448550523295, 0.9974807816986203, 0.9748887509428424, 0.996795406131333, 0.9788274520700195, 0.9959988885801613, 0.9982032045938687]}, {\"categories\": [\"0\", \"2\", \"4\", \"6\", \"8\", \"10\", \"12\", \"14\", \"17\", \"20\", \"21\", \"22\", \"23\", \"24\", \"25\", \"26\", \"27\", \"28\", \"29\", \"30\"], \"mode\": \"lines\", \"name\": \"spearman_correlation_max\", \"stepped\": true, \"type\": \"scatter\", \"data\": [-0.05104067631667617, 0.06042233235737814, 0.06868712458371083, 0.9929980550152822, 0.9956839862924888, 0.9956839862924888, 0.9956839862924888, 0.9956839862924888, 0.9956839862924888, 0.9956839862924888, 0.9956839862924888, 0.9956839862924888, 0.9956839862924888, 0.9956839862924888, 0.9974807816986203, 0.9974807816986203, 0.9974807816986203, 0.9974807816986203, 0.9974807816986203, 0.9982032045938687]}]}, \"metricName\": null, \"primaryMetricName\": \"normalized_root_mean_squared_error\", \"showLegend\": false}, \"run_metrics\": [{\"name\": \"experiment_status\", \"run_id\": \"AutoML_b18c7329-394a-4d6c-9cb2-7dee94396261\", \"categories\": [0, 1, 2, 3, 4, 5, 6, 7, 8, 9, 10, 11, 12, 13, 14, 15, 16, 17], \"series\": [{\"data\": [\"DatasetFeaturization\", \"DatasetFeaturizationCompleted\", \"DatasetCrossValidationSplit\", \"DatasetFeaturization\", \"DatasetFeaturizationCompleted\", \"DatasetFeaturization\", \"DatasetFeaturizationCompleted\", \"DatasetFeaturization\", \"DatasetFeaturizationCompleted\", \"ModelSelection\", \"BestRunExplainModel\", \"ModelExplanationDataSetSetup\", \"PickSurrogateModel\", \"EngineeredFeatureExplanations\", \"EngineeredFeatureExplanations\", \"RawFeaturesExplanations\", \"RawFeaturesExplanations\", \"BestRunExplainModel\"]}]}, {\"name\": \"experiment_status_description\", \"run_id\": \"AutoML_b18c7329-394a-4d6c-9cb2-7dee94396261\", \"categories\": [0, 1, 2, 3, 4, 5, 6, 7, 8, 9, 10, 11, 12, 13, 14, 15, 16, 17], \"series\": [{\"data\": [\"Beginning to featurize the dataset.\", \"Completed featurizing the dataset.\", \"Generating individually featurized CV splits.\", \"Beginning to featurize the CV split.\", \"Completed featurizing the CV split.\", \"Beginning to featurize the CV split.\", \"Completed featurizing the CV split.\", \"Beginning to featurize the CV split.\", \"Completed featurizing the CV split.\", \"Beginning model selection.\", \"Best run model explanations started\", \"Model explanations data setup completed\", \"Choosing LightGBM as the surrogate model for explanations\", \"Computation of engineered features started\", \"Computation of engineered features completed\", \"Computation of raw features started\", \"Computation of raw features completed\", \"Best run model explanations completed\"]}]}, {\"name\": \"spearman_correlation\", \"run_id\": \"AutoML_b18c7329-394a-4d6c-9cb2-7dee94396261\", \"categories\": [0], \"series\": [{\"data\": [0.9982032045938687]}]}, {\"name\": \"normalized_root_mean_squared_log_error\", \"run_id\": \"AutoML_b18c7329-394a-4d6c-9cb2-7dee94396261\", \"categories\": [0], \"series\": [{\"data\": [0.009235301706764553]}]}, {\"name\": \"mean_absolute_percentage_error\", \"run_id\": \"AutoML_b18c7329-394a-4d6c-9cb2-7dee94396261\", \"categories\": [0], \"series\": [{\"data\": [0.5623461701609401]}]}, {\"name\": \"normalized_root_mean_squared_error\", \"run_id\": \"AutoML_b18c7329-394a-4d6c-9cb2-7dee94396261\", \"categories\": [0], \"series\": [{\"data\": [0.008805441968454931]}]}, {\"name\": \"r2_score\", \"run_id\": \"AutoML_b18c7329-394a-4d6c-9cb2-7dee94396261\", \"categories\": [0], \"series\": [{\"data\": [0.9988317275846607]}]}, {\"name\": \"median_absolute_error\", \"run_id\": \"AutoML_b18c7329-394a-4d6c-9cb2-7dee94396261\", \"categories\": [0], \"series\": [{\"data\": [59.06354580546334]}]}, {\"name\": \"normalized_median_absolute_error\", \"run_id\": \"AutoML_b18c7329-394a-4d6c-9cb2-7dee94396261\", \"categories\": [0], \"series\": [{\"data\": [0.005529672904466564]}]}, {\"name\": \"mean_absolute_error\", \"run_id\": \"AutoML_b18c7329-394a-4d6c-9cb2-7dee94396261\", \"categories\": [0], \"series\": [{\"data\": [75.26580110180183]}]}, {\"name\": \"root_mean_squared_error\", \"run_id\": \"AutoML_b18c7329-394a-4d6c-9cb2-7dee94396261\", \"categories\": [0], \"series\": [{\"data\": [103.92008572779396]}]}, {\"name\": \"explained_variance\", \"run_id\": \"AutoML_b18c7329-394a-4d6c-9cb2-7dee94396261\", \"categories\": [0], \"series\": [{\"data\": [0.9988455356457994]}]}, {\"name\": \"normalized_mean_absolute_error\", \"run_id\": \"AutoML_b18c7329-394a-4d6c-9cb2-7dee94396261\", \"categories\": [0], \"series\": [{\"data\": [0.006948650207272126]}]}, {\"name\": \"root_mean_squared_log_error\", \"run_id\": \"AutoML_b18c7329-394a-4d6c-9cb2-7dee94396261\", \"categories\": [0], \"series\": [{\"data\": [0.008342406609475791]}]}], \"run_logs\": \"\\nRun is completed.\", \"graph\": {}, \"widget_settings\": {\"childWidgetDisplay\": \"popup\", \"send_telemetry\": false, \"log_level\": \"INFO\", \"sdk_version\": \"1.49.0\"}, \"loading\": false}"
     },
     "metadata": {},
     "output_type": "display_data"
    }
   ],
   "source": [
    "# Train the model\n",
    "\n",
    "AutoML_run = exp.submit(config,show_output=True)\n",
    "RunDetails(AutoML_run).show()"
   ]
  },
  {
   "cell_type": "markdown",
   "id": "7af8e92b",
   "metadata": {},
   "source": [
    "### Registering the forecasting model"
   ]
  },
  {
   "cell_type": "code",
   "execution_count": 35,
   "id": "99d3e495",
   "metadata": {},
   "outputs": [],
   "source": [
    "# Give the model name and description\n",
    "\n",
    "description = 'Best AutoML Forecastin Run Using OJ Sales Sample Data'\n",
    "tags = {'project': \"OJ Sales\",\"Creator\":\"Femi Obembe\"}\n",
    "model_name = 'OJ-Sales-Sample-Forecasting-AutoML'"
   ]
  },
  {
   "cell_type": "code",
   "execution_count": 36,
   "id": "cc6554fa",
   "metadata": {},
   "outputs": [
    {
     "data": {
      "text/plain": [
       "Model(workspace=Workspace.create(name='ws-ojforecasting', subscription_id='be234501-d43f-4775-b64e-61ebec9a9e0b', resource_group='rg-ojsalesforecasting'), name=OJ-Sales-Sample-Forecasting-AutoML, id=OJ-Sales-Sample-Forecasting-AutoML:1, version=1, tags={'project': 'OJ Sales', 'Creator': 'Femi Obembe'}, properties={})"
      ]
     },
     "execution_count": 36,
     "metadata": {},
     "output_type": "execute_result"
    }
   ],
   "source": [
    "# Register the model to AMLS workspace\n",
    "\n",
    "AutoML_run.register_model(model_name=model_name,description=description,tags=tags)"
   ]
  },
  {
   "cell_type": "code",
   "execution_count": null,
   "id": "ac614d6f",
   "metadata": {},
   "outputs": [],
   "source": []
  }
 ],
 "metadata": {
  "kernelspec": {
   "display_name": "Python 3.8 - AzureML",
   "language": "python",
   "name": "python38-azureml"
  },
  "language_info": {
   "codemirror_mode": {
    "name": "ipython",
    "version": 3
   },
   "file_extension": ".py",
   "mimetype": "text/x-python",
   "name": "python",
   "nbconvert_exporter": "python",
   "pygments_lexer": "ipython3",
   "version": "3.8.5"
  }
 },
 "nbformat": 4,
 "nbformat_minor": 5
}
