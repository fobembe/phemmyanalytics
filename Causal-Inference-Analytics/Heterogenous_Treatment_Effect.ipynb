{
 "cells": [
  {
   "cell_type": "markdown",
   "id": "653aa9d2-e68f-46e4-8471-6a5419f6d36c",
   "metadata": {},
   "source": [
    "#### Causal Impact of Sales Discount on Revenue\r\n",
    "This project seeks to evaluate the impact of discount on sales revenue using Propensity Score Weighting. Randomized Control Trials (RCT) is the gold standard for carrying out causal evaluation where participants are randomized into treatments and contols thereby eliminating any bias that may occur from non-random assignments. In many cases however, assigning participants in this manner may not be feasible thereby preventing the use of RCTs. Rosenbaum and Rubin (1983) introduced Propensity Score analysis to address selection bias when RCT is not feasible. According to Rosenbaum and Rubin (1983), a Propensity Score is the conditional probability of assignment to a treatment condition given a set of observed covariates: e = p(z=i|X).\r\n",
    "\r\n",
    "When propensity scores are used, the resuting groups will have similar characteristics to those created through random assignment. Most applications relating to propensity score are found in Matching (Thoemmes & Kim, 2011), however, a major disadvantage of Matching is that a large number of subjects in the control group may be discarded.\r\n",
    "\r\n",
    "In this brief project, we apply proposensty score weighting to analyze the effect of discount on sales revenue. Application of discount is a very important marketing strategy in the field of marketing, given that not all customers will respona this marketing strategy, it is important to evaluate how and which group of customers are responding to discount with a view to organizing proper targeting to reap the full benefits of discounts.\r\n",
    "\r\n",
    "Out dataset is taken from the ContosoDW database in Microsoft SQL server. This dataset comprises information about some of the most important socio-demographic charactistics of the customers which pided us a good opportunity to generate propensity score as a weight to evaluate the effectiveness of the discount strategy."
   ]
  },
  {
   "cell_type": "code",
   "execution_count": 1,
   "id": "e8749e77-ddd7-4a78-ac98-00c9d0228efd",
   "metadata": {},
   "outputs": [],
   "source": [
    "import pandas as pd\n",
    "import numpy as np\n",
    "import matplotlib.pyplot as plt\n",
    "import seaborn as sns\n",
    "import warnings\n",
    "warnings.filterwarnings('ignore')"
   ]
  },
  {
   "cell_type": "code",
   "execution_count": 2,
   "id": "ab3d4bb7-6674-4c87-a0c8-6a6e6e1750c9",
   "metadata": {},
   "outputs": [],
   "source": [
    "%load_ext rpy2.ipython"
   ]
  },
  {
   "cell_type": "code",
   "execution_count": 3,
   "id": "73519346-a711-4a79-be28-86239b87579a",
   "metadata": {},
   "outputs": [
    {
     "name": "stdout",
     "output_type": "stream",
     "text": [
      "-- Attaching core tidyverse packages ------------------------ tidyverse 2.0.0 --\n",
      "v dplyr     1.0.9     v readr     2.1.2\n",
      "v forcats   1.0.0     v stringr   1.5.0\n",
      "v ggplot2   3.4.2     v tibble    3.2.1\n",
      "v lubridate 1.8.0     v tidyr     1.2.0\n",
      "v purrr     0.3.4     \n",
      "-- Conflicts ------------------------------------------ tidyverse_conflicts() --\n",
      "x dplyr::filter() masks stats::filter()\n",
      "x dplyr::lag()    masks stats::lag()\n",
      "i Use the conflicted package (<http://conflicted.r-lib.org/>) to force all conflicts to become errors\n"
     ]
    },
    {
     "data": {
      "text/plain": [
       "Loading required package: ranger\n",
       "randomForest 4.7-1.1\n",
       "Type rfNews() to see new features/changes/bug fixes.\n",
       "\n",
       "Attaching package: 'randomForest'\n",
       "\n",
       "The following object is masked from 'package:dplyr':\n",
       "\n",
       "    combine\n",
       "\n",
       "The following object is masked from 'package:ggplot2':\n",
       "\n",
       "    margin\n",
       "\n",
       "The following object is masked from 'package:ranger':\n",
       "\n",
       "    importance\n",
       "\n",
       "In addition: Warning messages:\n",
       "1: package 'causalweight' was built under R version 4.2.3 \n",
       "2: package 'ranger' was built under R version 4.2.3 \n",
       "3: package 'tidyverse' was built under R version 4.2.3 \n",
       "4: package 'ggplot2' was built under R version 4.2.3 \n",
       "5: package 'tibble' was built under R version 4.2.3 \n",
       "6: package 'stringr' was built under R version 4.2.3 \n",
       "7: package 'forcats' was built under R version 4.2.3 \n",
       "8: package 'randomForest' was built under R version 4.2.3 \n"
      ]
     },
     "metadata": {},
     "output_type": "display_data"
    }
   ],
   "source": [
    "%%R\n",
    "library(nnls)\n",
    "library(causalweight)\n",
    "library(tidyverse)\n",
    "library(randomForest)"
   ]
  },
  {
   "cell_type": "code",
   "execution_count": 5,
   "id": "ab326f8e-96c1-414b-a958-9bf0f3264133",
   "metadata": {},
   "outputs": [
    {
     "data": {
      "text/html": [
       "<div>\n",
       "<style scoped>\n",
       "    .dataframe tbody tr th:only-of-type {\n",
       "        vertical-align: middle;\n",
       "    }\n",
       "\n",
       "    .dataframe tbody tr th {\n",
       "        vertical-align: top;\n",
       "    }\n",
       "\n",
       "    .dataframe thead th {\n",
       "        text-align: right;\n",
       "    }\n",
       "</style>\n",
       "<table border=\"1\" class=\"dataframe\">\n",
       "  <thead>\n",
       "    <tr style=\"text-align: right;\">\n",
       "      <th></th>\n",
       "      <th>Unnamed: 0</th>\n",
       "      <th>Revenue</th>\n",
       "      <th>Discount</th>\n",
       "      <th>Quantity</th>\n",
       "      <th>Price</th>\n",
       "      <th>Married</th>\n",
       "      <th>Income</th>\n",
       "      <th>Education</th>\n",
       "      <th>Occupation</th>\n",
       "      <th>Gender</th>\n",
       "      <th>trt</th>\n",
       "      <th>Age</th>\n",
       "      <th>treatment</th>\n",
       "    </tr>\n",
       "  </thead>\n",
       "  <tbody>\n",
       "    <tr>\n",
       "      <th>0</th>\n",
       "      <td>0</td>\n",
       "      <td>102</td>\n",
       "      <td>18</td>\n",
       "      <td>2</td>\n",
       "      <td>60</td>\n",
       "      <td>N</td>\n",
       "      <td>60000</td>\n",
       "      <td>Bachelors</td>\n",
       "      <td>Professional</td>\n",
       "      <td>F</td>\n",
       "      <td>Yes</td>\n",
       "      <td>43</td>\n",
       "      <td>1</td>\n",
       "    </tr>\n",
       "    <tr>\n",
       "      <th>1</th>\n",
       "      <td>1</td>\n",
       "      <td>11899</td>\n",
       "      <td>626</td>\n",
       "      <td>44</td>\n",
       "      <td>285</td>\n",
       "      <td>N</td>\n",
       "      <td>40000</td>\n",
       "      <td>High School</td>\n",
       "      <td>Skilled Manual</td>\n",
       "      <td>M</td>\n",
       "      <td>Yes</td>\n",
       "      <td>29</td>\n",
       "      <td>1</td>\n",
       "    </tr>\n",
       "    <tr>\n",
       "      <th>2</th>\n",
       "      <td>2</td>\n",
       "      <td>126</td>\n",
       "      <td>15</td>\n",
       "      <td>3</td>\n",
       "      <td>47</td>\n",
       "      <td>N</td>\n",
       "      <td>30000</td>\n",
       "      <td>Partial College</td>\n",
       "      <td>Clerical</td>\n",
       "      <td>M</td>\n",
       "      <td>Yes</td>\n",
       "      <td>61</td>\n",
       "      <td>1</td>\n",
       "    </tr>\n",
       "    <tr>\n",
       "      <th>3</th>\n",
       "      <td>3</td>\n",
       "      <td>372</td>\n",
       "      <td>62</td>\n",
       "      <td>8</td>\n",
       "      <td>54</td>\n",
       "      <td>Y</td>\n",
       "      <td>20000</td>\n",
       "      <td>High School</td>\n",
       "      <td>Skilled Manual</td>\n",
       "      <td>M</td>\n",
       "      <td>Yes</td>\n",
       "      <td>59</td>\n",
       "      <td>1</td>\n",
       "    </tr>\n",
       "    <tr>\n",
       "      <th>4</th>\n",
       "      <td>4</td>\n",
       "      <td>276</td>\n",
       "      <td>45</td>\n",
       "      <td>6</td>\n",
       "      <td>54</td>\n",
       "      <td>Y</td>\n",
       "      <td>20000</td>\n",
       "      <td>Partial High School</td>\n",
       "      <td>Clerical</td>\n",
       "      <td>M</td>\n",
       "      <td>Yes</td>\n",
       "      <td>58</td>\n",
       "      <td>1</td>\n",
       "    </tr>\n",
       "  </tbody>\n",
       "</table>\n",
       "</div>"
      ],
      "text/plain": [
       "   Unnamed: 0  Revenue  Discount  Quantity  Price Married  Income  \\\n",
       "0           0      102        18         2     60       N   60000   \n",
       "1           1    11899       626        44    285       N   40000   \n",
       "2           2      126        15         3     47       N   30000   \n",
       "3           3      372        62         8     54       Y   20000   \n",
       "4           4      276        45         6     54       Y   20000   \n",
       "\n",
       "             Education      Occupation Gender  trt  Age  treatment  \n",
       "0            Bachelors    Professional      F  Yes   43          1  \n",
       "1          High School  Skilled Manual      M  Yes   29          1  \n",
       "2      Partial College        Clerical      M  Yes   61          1  \n",
       "3          High School  Skilled Manual      M  Yes   59          1  \n",
       "4  Partial High School        Clerical      M  Yes   58          1  "
      ]
     },
     "execution_count": 5,
     "metadata": {},
     "output_type": "execute_result"
    }
   ],
   "source": [
    "df = pd.read_csv(\"sales_data.csv\")\n",
    "df.head()"
   ]
  },
  {
   "cell_type": "code",
   "execution_count": 6,
   "id": "7307ac50-4300-4697-bf71-0c04abf18381",
   "metadata": {},
   "outputs": [
    {
     "data": {
      "text/html": [
       "<div>\n",
       "<style scoped>\n",
       "    .dataframe tbody tr th:only-of-type {\n",
       "        vertical-align: middle;\n",
       "    }\n",
       "\n",
       "    .dataframe tbody tr th {\n",
       "        vertical-align: top;\n",
       "    }\n",
       "\n",
       "    .dataframe thead th {\n",
       "        text-align: right;\n",
       "    }\n",
       "</style>\n",
       "<table border=\"1\" class=\"dataframe\">\n",
       "  <thead>\n",
       "    <tr style=\"text-align: right;\">\n",
       "      <th></th>\n",
       "      <th>Revenue</th>\n",
       "      <th>Discount</th>\n",
       "      <th>Quantity</th>\n",
       "      <th>Price</th>\n",
       "      <th>Married</th>\n",
       "      <th>Income</th>\n",
       "      <th>Education</th>\n",
       "      <th>Occupation</th>\n",
       "      <th>Gender</th>\n",
       "      <th>Age</th>\n",
       "      <th>treatment</th>\n",
       "    </tr>\n",
       "  </thead>\n",
       "  <tbody>\n",
       "    <tr>\n",
       "      <th>0</th>\n",
       "      <td>102</td>\n",
       "      <td>18</td>\n",
       "      <td>2</td>\n",
       "      <td>60</td>\n",
       "      <td>N</td>\n",
       "      <td>60000</td>\n",
       "      <td>Bachelors</td>\n",
       "      <td>Professional</td>\n",
       "      <td>F</td>\n",
       "      <td>43</td>\n",
       "      <td>1</td>\n",
       "    </tr>\n",
       "    <tr>\n",
       "      <th>1</th>\n",
       "      <td>11899</td>\n",
       "      <td>626</td>\n",
       "      <td>44</td>\n",
       "      <td>285</td>\n",
       "      <td>N</td>\n",
       "      <td>40000</td>\n",
       "      <td>High School</td>\n",
       "      <td>Skilled Manual</td>\n",
       "      <td>M</td>\n",
       "      <td>29</td>\n",
       "      <td>1</td>\n",
       "    </tr>\n",
       "    <tr>\n",
       "      <th>2</th>\n",
       "      <td>126</td>\n",
       "      <td>15</td>\n",
       "      <td>3</td>\n",
       "      <td>47</td>\n",
       "      <td>N</td>\n",
       "      <td>30000</td>\n",
       "      <td>Partial College</td>\n",
       "      <td>Clerical</td>\n",
       "      <td>M</td>\n",
       "      <td>61</td>\n",
       "      <td>1</td>\n",
       "    </tr>\n",
       "    <tr>\n",
       "      <th>3</th>\n",
       "      <td>372</td>\n",
       "      <td>62</td>\n",
       "      <td>8</td>\n",
       "      <td>54</td>\n",
       "      <td>Y</td>\n",
       "      <td>20000</td>\n",
       "      <td>High School</td>\n",
       "      <td>Skilled Manual</td>\n",
       "      <td>M</td>\n",
       "      <td>59</td>\n",
       "      <td>1</td>\n",
       "    </tr>\n",
       "    <tr>\n",
       "      <th>4</th>\n",
       "      <td>276</td>\n",
       "      <td>45</td>\n",
       "      <td>6</td>\n",
       "      <td>54</td>\n",
       "      <td>Y</td>\n",
       "      <td>20000</td>\n",
       "      <td>Partial High School</td>\n",
       "      <td>Clerical</td>\n",
       "      <td>M</td>\n",
       "      <td>58</td>\n",
       "      <td>1</td>\n",
       "    </tr>\n",
       "  </tbody>\n",
       "</table>\n",
       "</div>"
      ],
      "text/plain": [
       "   Revenue  Discount  Quantity  Price Married  Income            Education  \\\n",
       "0      102        18         2     60       N   60000            Bachelors   \n",
       "1    11899       626        44    285       N   40000          High School   \n",
       "2      126        15         3     47       N   30000      Partial College   \n",
       "3      372        62         8     54       Y   20000          High School   \n",
       "4      276        45         6     54       Y   20000  Partial High School   \n",
       "\n",
       "       Occupation Gender  Age  treatment  \n",
       "0    Professional      F   43          1  \n",
       "1  Skilled Manual      M   29          1  \n",
       "2        Clerical      M   61          1  \n",
       "3  Skilled Manual      M   59          1  \n",
       "4        Clerical      M   58          1  "
      ]
     },
     "execution_count": 6,
     "metadata": {},
     "output_type": "execute_result"
    }
   ],
   "source": [
    "df = df.drop([\"Unnamed: 0\",\"trt\"],axis=1)\n",
    "df.head()"
   ]
  },
  {
   "cell_type": "code",
   "execution_count": 7,
   "id": "12fc051e-27fc-4b68-b9ab-f5a239b6030d",
   "metadata": {},
   "outputs": [],
   "source": [
    "data = pd.get_dummies(df,drop_first=True)"
   ]
  },
  {
   "cell_type": "code",
   "execution_count": 8,
   "id": "0170a076-b040-4856-98e2-5475bd3c0c75",
   "metadata": {},
   "outputs": [
    {
     "data": {
      "text/html": [
       "<div>\n",
       "<style scoped>\n",
       "    .dataframe tbody tr th:only-of-type {\n",
       "        vertical-align: middle;\n",
       "    }\n",
       "\n",
       "    .dataframe tbody tr th {\n",
       "        vertical-align: top;\n",
       "    }\n",
       "\n",
       "    .dataframe thead th {\n",
       "        text-align: right;\n",
       "    }\n",
       "</style>\n",
       "<table border=\"1\" class=\"dataframe\">\n",
       "  <thead>\n",
       "    <tr style=\"text-align: right;\">\n",
       "      <th></th>\n",
       "      <th>Revenue</th>\n",
       "      <th>Discount</th>\n",
       "      <th>Quantity</th>\n",
       "      <th>Price</th>\n",
       "      <th>Income</th>\n",
       "      <th>Age</th>\n",
       "      <th>treatment</th>\n",
       "      <th>Married_Y</th>\n",
       "      <th>Education_Graduate Degree</th>\n",
       "      <th>Education_High School</th>\n",
       "      <th>Education_Partial College</th>\n",
       "      <th>Education_Partial High School</th>\n",
       "      <th>Occupation_Management</th>\n",
       "      <th>Occupation_Manual</th>\n",
       "      <th>Occupation_Professional</th>\n",
       "      <th>Occupation_Skilled Manual</th>\n",
       "      <th>Gender_M</th>\n",
       "    </tr>\n",
       "  </thead>\n",
       "  <tbody>\n",
       "    <tr>\n",
       "      <th>0</th>\n",
       "      <td>102</td>\n",
       "      <td>18</td>\n",
       "      <td>2</td>\n",
       "      <td>60</td>\n",
       "      <td>60000</td>\n",
       "      <td>43</td>\n",
       "      <td>1</td>\n",
       "      <td>0</td>\n",
       "      <td>0</td>\n",
       "      <td>0</td>\n",
       "      <td>0</td>\n",
       "      <td>0</td>\n",
       "      <td>0</td>\n",
       "      <td>0</td>\n",
       "      <td>1</td>\n",
       "      <td>0</td>\n",
       "      <td>0</td>\n",
       "    </tr>\n",
       "    <tr>\n",
       "      <th>1</th>\n",
       "      <td>11899</td>\n",
       "      <td>626</td>\n",
       "      <td>44</td>\n",
       "      <td>285</td>\n",
       "      <td>40000</td>\n",
       "      <td>29</td>\n",
       "      <td>1</td>\n",
       "      <td>0</td>\n",
       "      <td>0</td>\n",
       "      <td>1</td>\n",
       "      <td>0</td>\n",
       "      <td>0</td>\n",
       "      <td>0</td>\n",
       "      <td>0</td>\n",
       "      <td>0</td>\n",
       "      <td>1</td>\n",
       "      <td>1</td>\n",
       "    </tr>\n",
       "    <tr>\n",
       "      <th>2</th>\n",
       "      <td>126</td>\n",
       "      <td>15</td>\n",
       "      <td>3</td>\n",
       "      <td>47</td>\n",
       "      <td>30000</td>\n",
       "      <td>61</td>\n",
       "      <td>1</td>\n",
       "      <td>0</td>\n",
       "      <td>0</td>\n",
       "      <td>0</td>\n",
       "      <td>1</td>\n",
       "      <td>0</td>\n",
       "      <td>0</td>\n",
       "      <td>0</td>\n",
       "      <td>0</td>\n",
       "      <td>0</td>\n",
       "      <td>1</td>\n",
       "    </tr>\n",
       "    <tr>\n",
       "      <th>3</th>\n",
       "      <td>372</td>\n",
       "      <td>62</td>\n",
       "      <td>8</td>\n",
       "      <td>54</td>\n",
       "      <td>20000</td>\n",
       "      <td>59</td>\n",
       "      <td>1</td>\n",
       "      <td>1</td>\n",
       "      <td>0</td>\n",
       "      <td>1</td>\n",
       "      <td>0</td>\n",
       "      <td>0</td>\n",
       "      <td>0</td>\n",
       "      <td>0</td>\n",
       "      <td>0</td>\n",
       "      <td>1</td>\n",
       "      <td>1</td>\n",
       "    </tr>\n",
       "    <tr>\n",
       "      <th>4</th>\n",
       "      <td>276</td>\n",
       "      <td>45</td>\n",
       "      <td>6</td>\n",
       "      <td>54</td>\n",
       "      <td>20000</td>\n",
       "      <td>58</td>\n",
       "      <td>1</td>\n",
       "      <td>1</td>\n",
       "      <td>0</td>\n",
       "      <td>0</td>\n",
       "      <td>0</td>\n",
       "      <td>1</td>\n",
       "      <td>0</td>\n",
       "      <td>0</td>\n",
       "      <td>0</td>\n",
       "      <td>0</td>\n",
       "      <td>1</td>\n",
       "    </tr>\n",
       "  </tbody>\n",
       "</table>\n",
       "</div>"
      ],
      "text/plain": [
       "   Revenue  Discount  Quantity  Price  Income  Age  treatment  Married_Y  \\\n",
       "0      102        18         2     60   60000   43          1          0   \n",
       "1    11899       626        44    285   40000   29          1          0   \n",
       "2      126        15         3     47   30000   61          1          0   \n",
       "3      372        62         8     54   20000   59          1          1   \n",
       "4      276        45         6     54   20000   58          1          1   \n",
       "\n",
       "   Education_Graduate Degree  Education_High School  \\\n",
       "0                          0                      0   \n",
       "1                          0                      1   \n",
       "2                          0                      0   \n",
       "3                          0                      1   \n",
       "4                          0                      0   \n",
       "\n",
       "   Education_Partial College  Education_Partial High School  \\\n",
       "0                          0                              0   \n",
       "1                          0                              0   \n",
       "2                          1                              0   \n",
       "3                          0                              0   \n",
       "4                          0                              1   \n",
       "\n",
       "   Occupation_Management  Occupation_Manual  Occupation_Professional  \\\n",
       "0                      0                  0                        1   \n",
       "1                      0                  0                        0   \n",
       "2                      0                  0                        0   \n",
       "3                      0                  0                        0   \n",
       "4                      0                  0                        0   \n",
       "\n",
       "   Occupation_Skilled Manual  Gender_M  \n",
       "0                          0         0  \n",
       "1                          1         1  \n",
       "2                          0         1  \n",
       "3                          1         1  \n",
       "4                          0         1  "
      ]
     },
     "execution_count": 8,
     "metadata": {},
     "output_type": "execute_result"
    }
   ],
   "source": [
    "data.head()"
   ]
  },
  {
   "cell_type": "code",
   "execution_count": 9,
   "id": "d846f1a9-100b-4d5f-9a14-a7a484ba0075",
   "metadata": {},
   "outputs": [
    {
     "name": "stdout",
     "output_type": "stream",
     "text": [
      "<class 'pandas.core.frame.DataFrame'>\n",
      "RangeIndex: 33673 entries, 0 to 33672\n",
      "Data columns (total 17 columns):\n",
      " #   Column                         Non-Null Count  Dtype\n",
      "---  ------                         --------------  -----\n",
      " 0   Revenue                        33673 non-null  int64\n",
      " 1   Discount                       33673 non-null  int64\n",
      " 2   Quantity                       33673 non-null  int64\n",
      " 3   Price                          33673 non-null  int64\n",
      " 4   Income                         33673 non-null  int64\n",
      " 5   Age                            33673 non-null  int64\n",
      " 6   treatment                      33673 non-null  int64\n",
      " 7   Married_Y                      33673 non-null  uint8\n",
      " 8   Education_Graduate Degree      33673 non-null  uint8\n",
      " 9   Education_High School          33673 non-null  uint8\n",
      " 10  Education_Partial College      33673 non-null  uint8\n",
      " 11  Education_Partial High School  33673 non-null  uint8\n",
      " 12  Occupation_Management          33673 non-null  uint8\n",
      " 13  Occupation_Manual              33673 non-null  uint8\n",
      " 14  Occupation_Professional        33673 non-null  uint8\n",
      " 15  Occupation_Skilled Manual      33673 non-null  uint8\n",
      " 16  Gender_M                       33673 non-null  uint8\n",
      "dtypes: int64(7), uint8(10)\n",
      "memory usage: 2.1 MB\n"
     ]
    }
   ],
   "source": [
    "data.info()"
   ]
  },
  {
   "cell_type": "code",
   "execution_count": 10,
   "id": "f3904497-04c9-4365-8bbc-64cb1a4aaf0e",
   "metadata": {},
   "outputs": [],
   "source": [
    "data2 = data.sample(frac =.25)"
   ]
  },
  {
   "cell_type": "code",
   "execution_count": 11,
   "id": "2c7ece37-becc-4c26-ba0a-efbcc1959d2f",
   "metadata": {},
   "outputs": [
    {
     "data": {
      "text/plain": [
       "(8418, 17)"
      ]
     },
     "execution_count": 11,
     "metadata": {},
     "output_type": "execute_result"
    }
   ],
   "source": [
    "data2.shape"
   ]
  },
  {
   "cell_type": "code",
   "execution_count": 12,
   "id": "9cd6d1ee-39fa-4926-a75c-4bc8689c6967",
   "metadata": {},
   "outputs": [],
   "source": [
    "%R -i data2"
   ]
  },
  {
   "cell_type": "code",
   "execution_count": 13,
   "id": "1bc978f4-a0cd-4530-9f4a-c607ff4a9b98",
   "metadata": {},
   "outputs": [],
   "source": [
    "%%R\n",
    "data2[1:17] <- lapply(data2[1:17], as.numeric)"
   ]
  },
  {
   "cell_type": "code",
   "execution_count": 14,
   "id": "b09961a8-e8fb-4842-9dad-75b5ed2477d6",
   "metadata": {},
   "outputs": [],
   "source": [
    "%%R\n",
    "data2 <- data2 %>% relocate(treatment, .after = last_col())"
   ]
  },
  {
   "cell_type": "code",
   "execution_count": 15,
   "id": "957ee2c2-7519-4846-92c4-0a86bfc046b0",
   "metadata": {},
   "outputs": [],
   "source": [
    "%%R\n",
    "X = data2[,3:16]\n",
    "D = data2[,17]\n",
    "Y = data2[,1]"
   ]
  },
  {
   "cell_type": "code",
   "execution_count": 16,
   "id": "bb6c9f6a-0385-4881-974e-3a719a95fb08",
   "metadata": {},
   "outputs": [],
   "source": [
    "%%R\n",
    "output = treatDML(y=Y,d=D,x=X)"
   ]
  },
  {
   "cell_type": "code",
   "execution_count": 17,
   "id": "5a7b47f2-a1cf-4fdd-9368-651ee37ed683",
   "metadata": {},
   "outputs": [
    {
     "name": "stdout",
     "output_type": "stream",
     "text": [
      "[1] 34.33374\n"
     ]
    }
   ],
   "source": [
    "%%R\n",
    "output$effect"
   ]
  },
  {
   "cell_type": "code",
   "execution_count": 18,
   "id": "84887887-7f16-4397-b159-1cf403ceeddf",
   "metadata": {},
   "outputs": [
    {
     "name": "stdout",
     "output_type": "stream",
     "text": [
      "[1] 53.20527\n"
     ]
    }
   ],
   "source": [
    "%%R\n",
    "output$se"
   ]
  },
  {
   "cell_type": "code",
   "execution_count": 19,
   "id": "e15ffc6a-0383-4440-ba54-80617c905bc3",
   "metadata": {},
   "outputs": [
    {
     "name": "stdout",
     "output_type": "stream",
     "text": [
      "[1] 0.5187282\n"
     ]
    }
   ],
   "source": [
    "%%R\n",
    "output$pval"
   ]
  },
  {
   "cell_type": "code",
   "execution_count": 20,
   "id": "33fada00-4191-4514-a41b-178d4fb52bb3",
   "metadata": {},
   "outputs": [],
   "source": [
    "%%R\n",
    "output2 = treatDML(y=Y,d=D,x=X,MLmethod=\"randomforest\")"
   ]
  },
  {
   "cell_type": "code",
   "execution_count": 21,
   "id": "41db7759-cd8e-44de-9b1c-66c6466e70bd",
   "metadata": {},
   "outputs": [
    {
     "name": "stdout",
     "output_type": "stream",
     "text": [
      "[1] 1546.423\n"
     ]
    }
   ],
   "source": [
    "%%R\n",
    "output2$effect"
   ]
  },
  {
   "cell_type": "code",
   "execution_count": 22,
   "id": "fb1d8a7f-5480-45ac-aa6e-ddcd330e89c1",
   "metadata": {},
   "outputs": [
    {
     "name": "stdout",
     "output_type": "stream",
     "text": [
      "[1] 49.74676\n"
     ]
    }
   ],
   "source": [
    "%%R\n",
    "output2$se"
   ]
  },
  {
   "cell_type": "code",
   "execution_count": 23,
   "id": "594c2ea7-c808-4cdc-aeef-06d87c7ccf37",
   "metadata": {},
   "outputs": [
    {
     "name": "stdout",
     "output_type": "stream",
     "text": [
      "[1] 3.735072e-212\n"
     ]
    }
   ],
   "source": [
    "%%R\n",
    "output2$pval"
   ]
  },
  {
   "cell_type": "markdown",
   "id": "a039e124-a4f1-43b0-bf92-55604ba5c23c",
   "metadata": {},
   "source": [
    "#### Heterogenous Treatment Effect Estimation"
   ]
  },
  {
   "cell_type": "code",
   "execution_count": 24,
   "id": "7b89140d-5cba-42cc-8e68-d44abc42d87b",
   "metadata": {},
   "outputs": [
    {
     "data": {
      "text/plain": [
       "In addition: Warning message:\n",
       "package 'grf' was built under R version 4.2.3 \n"
      ]
     },
     "metadata": {},
     "output_type": "display_data"
    }
   ],
   "source": [
    "%%R\n",
    "library(grf)"
   ]
  },
  {
   "cell_type": "code",
   "execution_count": 25,
   "id": "1692de36-473c-49e1-b119-751f97417e72",
   "metadata": {},
   "outputs": [],
   "source": [
    "%%R\n",
    "cf = causal_forest(X=X,Y=Y,W=D)"
   ]
  },
  {
   "cell_type": "code",
   "execution_count": 26,
   "id": "1de2cd9b-fba8-49f8-a9a9-9708513a3bf7",
   "metadata": {},
   "outputs": [
    {
     "data": {
      "text/plain": [
       "In addition: Warning message:\n",
       "In average_treatment_effect(cf) :\n",
       "  Estimated treatment propensities take values between 0.024 and 1 and in particular get very close to 0 and 1. In this case, using `target.sample=overlap`, or filtering data as in Crump, Hotz, Imbens, and Mitnik (Biometrika, 2009) may be helpful.\n"
      ]
     },
     "metadata": {},
     "output_type": "display_data"
    }
   ],
   "source": [
    "%%R\n",
    "\n",
    "ATE = average_treatment_effect(cf)\n",
    "pval = 2*pnorm(-abs(ATE[1]/ATE[2]))"
   ]
  },
  {
   "cell_type": "code",
   "execution_count": 27,
   "id": "5c522611-eff1-4108-bb9a-ad9dda93edc4",
   "metadata": {},
   "outputs": [
    {
     "name": "stdout",
     "output_type": "stream",
     "text": [
      "estimate  std.err \n",
      "     NaN      NaN \n"
     ]
    }
   ],
   "source": [
    "%%R\n",
    "ATE"
   ]
  },
  {
   "cell_type": "code",
   "execution_count": 28,
   "id": "b0d8e057-5f72-483e-b0a2-44baea6edd7e",
   "metadata": {},
   "outputs": [
    {
     "name": "stdout",
     "output_type": "stream",
     "text": [
      "estimate \n",
      "     NaN \n"
     ]
    }
   ],
   "source": [
    "%%R\n",
    "pval"
   ]
  },
  {
   "cell_type": "code",
   "execution_count": 29,
   "id": "712c58d2-77d1-4296-839a-a3ce1c17417c",
   "metadata": {},
   "outputs": [],
   "source": [
    "%%R\n",
    "\n",
    "ate2 = average_treatment_effect(cf, target.sample = \"overlap\")"
   ]
  },
  {
   "cell_type": "code",
   "execution_count": 30,
   "id": "00cb5a50-d7e1-4d07-96c4-f6a1a4c5cc00",
   "metadata": {},
   "outputs": [],
   "source": [
    "%%R\n",
    "pval = 2*pnorm(-abs(ate2[1]/ate2[2]))"
   ]
  },
  {
   "cell_type": "code",
   "execution_count": 31,
   "id": "4d23d3e5-21c3-4077-ac21-cf4d1721430a",
   "metadata": {},
   "outputs": [
    {
     "name": "stdout",
     "output_type": "stream",
     "text": [
      "   estimate     std.err \n",
      "-11.9983257   0.5820772 \n"
     ]
    }
   ],
   "source": [
    "%%R\n",
    "ate2"
   ]
  },
  {
   "cell_type": "code",
   "execution_count": 32,
   "id": "f6e592af-2626-4647-a87b-d35396928695",
   "metadata": {},
   "outputs": [
    {
     "name": "stdout",
     "output_type": "stream",
     "text": [
      "    estimate \n",
      "2.100476e-94 \n"
     ]
    }
   ],
   "source": [
    "%%R\n",
    "pval"
   ]
  },
  {
   "cell_type": "code",
   "execution_count": 33,
   "id": "e52547f3-cec2-4fb6-b0fb-5f0a1115ebe6",
   "metadata": {},
   "outputs": [],
   "source": [
    "%%R\n",
    "\n",
    "CATE = cf$predictions"
   ]
  },
  {
   "cell_type": "code",
   "execution_count": 34,
   "id": "c7299641-e08c-4e2a-8546-11d008fe2d80",
   "metadata": {},
   "outputs": [
    {
     "data": {
      "image/png": "[encoded data removed]",
      "text/plain": [
       "<IPython.core.display.Image object>"
      ]
     },
     "metadata": {},
     "output_type": "display_data"
    }
   ],
   "source": [
    "%%R\n",
    "hist(CATE)"
   ]
  },
  {
   "cell_type": "code",
   "execution_count": 35,
   "id": "c7c25ad6-c8b8-490b-a96d-50b1b0174d2f",
   "metadata": {},
   "outputs": [
    {
     "name": "stdout",
     "output_type": "stream",
     "text": [
      "\n",
      "Best linear projection of the conditional average treatment effect.\n",
      "Confidence intervals are cluster- and heteroskedasticity-robust (HC3):\n",
      "\n",
      "             Estimate Std. Error  t value Pr(>|t|)    \n",
      "(Intercept) -12.61015    0.61034 -20.6607   <2e-16 ***\n",
      "A1           -0.30261    0.73685  -0.4107   0.6813    \n",
      "---\n",
      "Signif. codes:  0 '***' 0.001 '**' 0.01 '*' 0.05 '.' 0.1 ' ' 1\n",
      "\n"
     ]
    },
    {
     "data": {
      "text/plain": [
       "Warning in best_linear_projection(forest = cf, A = data2$Gender_M) :\n",
       "  Estimated treatment propensities take values between 0.024 and 1 and in particular get very close to 0 or 1. In this case, using `target.sample=overlap`, or `subset` to filter data as in Crump, Hotz, Imbens, and Mitnik (Biometrika, 2009) may be helpful.\n"
      ]
     },
     "metadata": {},
     "output_type": "display_data"
    }
   ],
   "source": [
    "%%R\n",
    "best_linear_projection(forest=cf,A=data2$Gender_M)"
   ]
  },
  {
   "cell_type": "code",
   "execution_count": 36,
   "id": "9d823c3d-e0e2-4931-ae5d-ff374de3b910",
   "metadata": {},
   "outputs": [
    {
     "name": "stdout",
     "output_type": "stream",
     "text": [
      "\n",
      "Best linear projection of the conditional average treatment effect.\n",
      "Confidence intervals are cluster- and heteroskedasticity-robust (HC3):\n",
      "\n",
      "               Estimate  Std. Error  t value Pr(>|t|)    \n",
      "(Intercept) -1.1242e+01  9.6730e-01 -11.6225   <2e-16 ***\n",
      "A1          -2.6087e-05  1.6090e-05  -1.6213    0.105    \n",
      "---\n",
      "Signif. codes:  0 '***' 0.001 '**' 0.01 '*' 0.05 '.' 0.1 ' ' 1\n",
      "\n"
     ]
    },
    {
     "data": {
      "text/plain": [
       "Warning in best_linear_projection(forest = cf, A = data2$Income) :\n",
       "  Estimated treatment propensities take values between 0.024 and 1 and in particular get very close to 0 or 1. In this case, using `target.sample=overlap`, or `subset` to filter data as in Crump, Hotz, Imbens, and Mitnik (Biometrika, 2009) may be helpful.\n"
      ]
     },
     "metadata": {},
     "output_type": "display_data"
    }
   ],
   "source": [
    "%%R\n",
    "best_linear_projection(forest=cf,A=data2$Income)"
   ]
  },
  {
   "cell_type": "code",
   "execution_count": 38,
   "id": "a5e624af-c2d0-473b-9d76-84670ef08aa5",
   "metadata": {},
   "outputs": [
    {
     "name": "stdout",
     "output_type": "stream",
     "text": [
      "\n",
      "Best linear projection of the conditional average treatment effect.\n",
      "Confidence intervals are cluster- and heteroskedasticity-robust (HC3):\n",
      "\n",
      "            Estimate Std. Error t value  Pr(>|t|)    \n",
      "(Intercept) -12.7611     0.3687 -34.611 < 2.2e-16 ***\n",
      "---\n",
      "Signif. codes:  0 '***' 0.001 '**' 0.01 '*' 0.05 '.' 0.1 ' ' 1\n",
      "\n"
     ]
    },
    {
     "data": {
      "text/plain": [
       "Warning in best_linear_projection(forest = cf, A = data2$Education_Graduate.Degree) :\n",
       "  Estimated treatment propensities take values between 0.024 and 1 and in particular get very close to 0 or 1. In this case, using `target.sample=overlap`, or `subset` to filter data as in Crump, Hotz, Imbens, and Mitnik (Biometrika, 2009) may be helpful.\n"
      ]
     },
     "metadata": {},
     "output_type": "display_data"
    }
   ],
   "source": [
    "%%R\n",
    "best_linear_projection(forest=cf,A=data2$Education_Graduate.Degree)"
   ]
  },
  {
   "cell_type": "code",
   "execution_count": 40,
   "id": "dfdc2925-1312-486e-88a6-fd52748f732a",
   "metadata": {},
   "outputs": [
    {
     "name": "stdout",
     "output_type": "stream",
     "text": [
      "\n",
      "Best linear projection of the conditional average treatment effect.\n",
      "Confidence intervals are cluster- and heteroskedasticity-robust (HC3):\n",
      "\n",
      "             Estimate Std. Error  t value  Pr(>|t|)    \n",
      "(Intercept) -11.50318    0.56607 -20.3213 < 2.2e-16 ***\n",
      "A1           -2.77511    0.71729  -3.8689 0.0001105 ***\n",
      "---\n",
      "Signif. codes:  0 '***' 0.001 '**' 0.01 '*' 0.05 '.' 0.1 ' ' 1\n",
      "\n"
     ]
    },
    {
     "data": {
      "text/plain": [
       "Warning in best_linear_projection(forest = cf, A = data2$Married_Y) :\n",
       "  Estimated treatment propensities take values between 0.024 and 1 and in particular get very close to 0 or 1. In this case, using `target.sample=overlap`, or `subset` to filter data as in Crump, Hotz, Imbens, and Mitnik (Biometrika, 2009) may be helpful.\n"
      ]
     },
     "metadata": {},
     "output_type": "display_data"
    }
   ],
   "source": [
    "%%R\n",
    "best_linear_projection(forest=cf,A=data2$Married_Y)"
   ]
  },
  {
   "cell_type": "code",
   "execution_count": 41,
   "id": "1914adf6-256f-48d0-87ed-42ecff40f5e1",
   "metadata": {},
   "outputs": [
    {
     "name": "stdout",
     "output_type": "stream",
     "text": [
      "                              IncNodePurity\n",
      "Quantity                        171251.5648\n",
      "Price                            34882.4307\n",
      "Income                           20792.0355\n",
      "Age                              15605.9721\n",
      "Married_Y                         9346.5164\n",
      "Education_Graduate.Degree         2520.2519\n",
      "Education_High.School             1480.9287\n",
      "Education_Partial.College         2708.9526\n",
      "Education_Partial.High.School     1297.0741\n",
      "Occupation_Management             1971.8397\n",
      "Occupation_Manual                  871.3835\n",
      "Occupation_Professional           2450.1092\n",
      "Occupation_Skilled.Manual         2750.8815\n",
      "Gender_M                          3467.8707\n"
     ]
    }
   ],
   "source": [
    "%%R\n",
    "\n",
    "dat = data.frame(CATE,X)\n",
    "randomf=randomForest(CATE~. ,data=dat)\n",
    "importance(randomf)"
   ]
  },
  {
   "cell_type": "markdown",
   "id": "4a286d62-03f3-4914-bbaf-7a52f166f9a0",
   "metadata": {},
   "source": [
    "#### Optimal Policy Learning"
   ]
  },
  {
   "cell_type": "code",
   "execution_count": 42,
   "id": "a2f09ed9-8432-4b18-8aa1-bddc13518b10",
   "metadata": {},
   "outputs": [
    {
     "name": "stdout",
     "output_type": "stream",
     "text": [
      "--- Please select a CRAN mirror for use in this session ---\n",
      "package 'BH' successfully unpacked and MD5 sums checked\n",
      "package 'policytree' successfully unpacked and MD5 sums checked\n",
      "\n",
      "The downloaded binary packages are in\n",
      "\tC:\\Users\\fobem\\AppData\\Local\\Temp\\Rtmpio7ptS\\downloaded_packages\n",
      "package 'downloader' successfully unpacked and MD5 sums checked\n",
      "package 'igraph' successfully unpacked and MD5 sums checked\n",
      "package 'visNetwork' successfully unpacked and MD5 sums checked\n",
      "package 'DiagrammeR' successfully unpacked and MD5 sums checked\n",
      "\n",
      "The downloaded binary packages are in\n",
      "\tC:\\Users\\fobem\\AppData\\Local\\Temp\\Rtmpio7ptS\\downloaded_packages\n"
     ]
    },
    {
     "data": {
      "text/plain": [
       "Installing package into 'C:/Users/fobem/AppData/Local/R/win-library/4.2'\n",
       "(as 'lib' is unspecified)\n",
       "also installing the dependency 'BH'\n",
       "\n",
       "trying URL 'https://cloud.r-project.org/bin/windows/contrib/4.2/BH_1.81.0-1.zip'\n",
       "Content type 'application/zip' length 21361477 bytes (20.4 MB)\n",
       "downloaded 20.4 MB\n",
       "\n",
       "trying URL 'https://cloud.r-project.org/bin/windows/contrib/4.2/policytree_1.2.2.zip'\n",
       "Content type 'application/zip' length 470139 bytes (459 KB)\n",
       "downloaded 459 KB\n",
       "\n",
       "Installing package into 'C:/Users/fobem/AppData/Local/R/win-library/4.2'\n",
       "(as 'lib' is unspecified)\n",
       "also installing the dependencies 'downloader', 'igraph', 'visNetwork'\n",
       "\n",
       "trying URL 'https://cloud.r-project.org/bin/windows/contrib/4.2/downloader_0.4.zip'\n",
       "Content type 'application/zip' length 25066 bytes (24 KB)\n",
       "downloaded 24 KB\n",
       "\n",
       "trying URL 'https://cloud.r-project.org/bin/windows/contrib/4.2/igraph_1.5.1.zip'\n",
       "Content type 'application/zip' length 6760402 bytes (6.4 MB)\n",
       "downloaded 6.4 MB\n",
       "\n",
       "trying URL 'https://cloud.r-project.org/bin/windows/contrib/4.2/visNetwork_2.1.2.zip'\n",
       "Content type 'application/zip' length 4699892 bytes (4.5 MB)\n",
       "downloaded 4.5 MB\n",
       "\n",
       "trying URL 'https://cloud.r-project.org/bin/windows/contrib/4.2/DiagrammeR_1.0.10.zip'\n",
       "Content type 'application/zip' length 2251463 bytes (2.1 MB)\n",
       "downloaded 2.1 MB\n",
       "\n"
      ]
     },
     "metadata": {},
     "output_type": "display_data"
    }
   ],
   "source": [
    "%%R\n",
    "install.packages(\"policytree\")\n",
    "install.packages(\"DiagrammeR\")"
   ]
  },
  {
   "cell_type": "code",
   "execution_count": 43,
   "id": "314dfaa7-9c4d-41c9-b9ad-4dc8f60338e3",
   "metadata": {},
   "outputs": [
    {
     "data": {
      "text/plain": [
       "In addition: Warning messages:\n",
       "1: package 'policytree' was built under R version 4.2.3 \n",
       "2: package 'DiagrammeR' was built under R version 4.2.3 \n"
      ]
     },
     "metadata": {},
     "output_type": "display_data"
    }
   ],
   "source": [
    "%%R\n",
    "library(policytree)\n",
    "library(DiagrammeR)"
   ]
  },
  {
   "cell_type": "code",
   "execution_count": 44,
   "id": "db977ede-a45e-40d1-87fc-6bf9a0ea1c38",
   "metadata": {},
   "outputs": [
    {
     "data": {
      "text/plain": [
       "Index(['Revenue', 'Discount', 'Quantity', 'Price', 'Income', 'Age',\n",
       "       'treatment', 'Married_Y', 'Education_Graduate Degree',\n",
       "       'Education_High School', 'Education_Partial College',\n",
       "       'Education_Partial High School', 'Occupation_Management',\n",
       "       'Occupation_Manual', 'Occupation_Professional',\n",
       "       'Occupation_Skilled Manual', 'Gender_M'],\n",
       "      dtype='object')"
      ]
     },
     "execution_count": 44,
     "metadata": {},
     "output_type": "execute_result"
    }
   ],
   "source": [
    "data2.columns"
   ]
  },
  {
   "cell_type": "code",
   "execution_count": 51,
   "id": "b1681cdd-a02f-4d7b-9fd6-d05f1b20b190",
   "metadata": {},
   "outputs": [
    {
     "data": {
      "text/plain": [
       "The following objects are masked from data2 (pos = 3):\n",
       "\n",
       "    Age, Discount, Education_Graduate Degree, Education_High School,\n",
       "    Education_Partial College, Education_Partial High School, Gender_M,\n",
       "    Income, Married_Y, Occupation_Management, Occupation_Manual,\n",
       "    Occupation_Professional, Occupation_Skilled Manual, Price,\n",
       "    Quantity, Revenue, treatment\n",
       "\n",
       "The following objects are masked from data2 (pos = 4):\n",
       "\n",
       "    Age, Discount, Education_Graduate Degree, Education_High School,\n",
       "    Education_Partial College, Education_Partial High School, Gender_M,\n",
       "    Income, Married_Y, Occupation_Management, Occupation_Manual,\n",
       "    Occupation_Professional, Occupation_Skilled Manual, Price,\n",
       "    Quantity, Revenue, treatment\n",
       "\n",
       "The following objects are masked from data2 (pos = 5):\n",
       "\n",
       "    Age, Discount, Education_Graduate Degree, Education_High School,\n",
       "    Education_Partial College, Education_Partial High School, Gender_M,\n",
       "    Income, Married_Y, Occupation_Management, Occupation_Manual,\n",
       "    Occupation_Professional, Occupation_Skilled Manual, Price,\n",
       "    Quantity, Revenue, treatment\n",
       "\n"
      ]
     },
     "metadata": {},
     "output_type": "display_data"
    }
   ],
   "source": [
    "%%R\n",
    "attach(data2)\n",
    "D = factor(D)\n",
    "Y = Y\n",
    "X = X\n",
    "\n",
    "forest =multi_arm_causal_forest(X=X,Y=Y,W=D)\n",
    "influence=double_robust_scores(forest)\n",
    "Xpol=cbind(Income,Gender_M,Married_Y)\n",
    "tree=policy_tree(X=Xpol,Gamma=influence,depth=2)\n",
    "plot(tree)"
   ]
  },
  {
   "attachments": {
    "4b180d3f-bec1-4d10-9d18-672866a59b6c.png": {
     "image/png": "[encoded data removed]"
    }
   },
   "cell_type": "markdown",
   "id": "6bd61476-453f-4fb5-acbd-c82a3cf84a5b",
   "metadata": {},
   "source": [
    "![image.png](attachment:4b180d3f-bec1-4d10-9d18-672866a59b6c.png)"
   ]
  },
  {
   "cell_type": "markdown",
   "id": "f69abd93-1fc2-478f-ac97-edbd741b76b4",
   "metadata": {},
   "source": [
    "The policy results advises that individuals whose age are less or equal to 56 years should be targeted with discounts while those whose age are above 56 should not be targeted."
   ]
  },
  {
   "attachments": {
    "9ee62826-9971-4d58-9eba-e61854bd2611.png": {
     "image/png": "[encoded data removed]"
    }
   },
   "cell_type": "markdown",
   "id": "680f932a-bab5-4f4e-aca4-0dad312da4e7",
   "metadata": {},
   "source": [
    "![image.png](attachment:9ee62826-9971-4d58-9eba-e61854bd2611.png)"
   ]
  },
  {
   "cell_type": "markdown",
   "id": "b14129bb-ae5d-4bfb-bacb-57e4632e5f77",
   "metadata": {},
   "source": [
    "The policy also advises that individuals who are female, earning income less than or equal to $160,000 annually should be targeted with discounts."
   ]
  },
  {
   "cell_type": "code",
   "execution_count": null,
   "id": "e920b9da-cb3f-41cb-aa74-35e77d5094c4",
   "metadata": {},
   "outputs": [],
   "source": []
  }
 ],
 "metadata": {
  "kernelspec": {
   "display_name": "Python 3 (ipykernel)",
   "language": "python",
   "name": "python3"
  },
  "language_info": {
   "codemirror_mode": {
    "name": "ipython",
    "version": 3
   },
   "file_extension": ".py",
   "mimetype": "text/x-python",
   "name": "python",
   "nbconvert_exporter": "python",
   "pygments_lexer": "ipython3",
   "version": "3.11.3"
  }
 },
 "nbformat": 4,
 "nbformat_minor": 5
}
