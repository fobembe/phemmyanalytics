{
  "nbformat": 4,
  "nbformat_minor": 0,
  "metadata": {
    "colab": {
      "provenance": []
    },
    "kernelspec": {
      "name": "python3",
      "display_name": "Python 3"
    },
    "language_info": {
      "name": "python"
    },
    "gpuClass": "standard",
    "accelerator": "GPU"
  },
  "cells": [
    {
      "cell_type": "code",
      "execution_count": 1,
      "metadata": {
        "colab": {
          "base_uri": "https://localhost:8080/"
        },
        "id": "YhmrfuyXuroO",
        "outputId": "a2635dd9-707d-4264-95d5-73c5e065648d"
      },
      "outputs": [
        {
          "output_type": "stream",
          "name": "stdout",
          "text": [
            "Looking in indexes: https://pypi.org/simple, https://us-python.pkg.dev/colab-wheels/public/simple/\n",
            "Collecting causalinference\n",
            "  Downloading CausalInference-0.1.3-py3-none-any.whl (51 kB)\n",
            "\u001b[K     |████████████████████████████████| 51 kB 5.9 MB/s \n",
            "\u001b[?25hInstalling collected packages: causalinference\n",
            "Successfully installed causalinference-0.1.3\n"
          ]
        }
      ],
      "source": [
        "!pip install causalinference"
      ]
    },
    {
      "cell_type": "code",
      "source": [
        "import pandas as pd\n",
        "import numpy as np\n",
        "import matplotlib.pyplot as plt\n",
        "import seaborn as sns\n",
        "from causalinference import CausalModel\n",
        "import warnings\n",
        "warnings.filterwarnings('ignore')"
      ],
      "metadata": {
        "id": "Ic9I0XR4vN96"
      },
      "execution_count": 2,
      "outputs": []
    },
    {
      "cell_type": "code",
      "source": [
        "data = pd.read_csv(\"/content/drive/MyDrive/Discount_Sales Project/discount.csv\")\n",
        "data.head()"
      ],
      "metadata": {
        "colab": {
          "base_uri": "https://localhost:8080/",
          "height": 206
        },
        "id": "9xIGJIscviGd",
        "outputId": "47fdd5a1-78ae-420b-c8e7-df22be98b6d8"
      },
      "execution_count": 3,
      "outputs": [
        {
          "output_type": "execute_result",
          "data": {
            "text/plain": [
              "   Unnamed: 0  price  total   age   Region  Discount_Percent  \\\n",
              "0          29  140.0  140.0  65.0  Midwest               0.0   \n",
              "1          72  379.8  379.8  71.0  Midwest               0.0   \n",
              "2         158  175.0  175.0  71.0    South               0.0   \n",
              "3         165  119.9  119.9  64.0    South               0.0   \n",
              "4         166  140.0  126.0  64.0    South              10.0   \n",
              "\n",
              "   customer_duration  season        status  \n",
              "0               10.0    Fall  Lower_Status  \n",
              "1                4.0  Winter  Lower_Status  \n",
              "2               35.0    Fall  Lower_Status  \n",
              "3               15.0  Winter  Lower_Status  \n",
              "4               15.0  Winter  Lower_Status  "
            ],
            "text/html": [
              "\n",
              "  <div id=\"df-c0a2323d-b0e3-4e26-87f0-a8c1ae45af8a\">\n",
              "    <div class=\"colab-df-container\">\n",
              "      <div>\n",
              "<style scoped>\n",
              "    .dataframe tbody tr th:only-of-type {\n",
              "        vertical-align: middle;\n",
              "    }\n",
              "\n",
              "    .dataframe tbody tr th {\n",
              "        vertical-align: top;\n",
              "    }\n",
              "\n",
              "    .dataframe thead th {\n",
              "        text-align: right;\n",
              "    }\n",
              "</style>\n",
              "<table border=\"1\" class=\"dataframe\">\n",
              "  <thead>\n",
              "    <tr style=\"text-align: right;\">\n",
              "      <th></th>\n",
              "      <th>Unnamed: 0</th>\n",
              "      <th>price</th>\n",
              "      <th>total</th>\n",
              "      <th>age</th>\n",
              "      <th>Region</th>\n",
              "      <th>Discount_Percent</th>\n",
              "      <th>customer_duration</th>\n",
              "      <th>season</th>\n",
              "      <th>status</th>\n",
              "    </tr>\n",
              "  </thead>\n",
              "  <tbody>\n",
              "    <tr>\n",
              "      <th>0</th>\n",
              "      <td>29</td>\n",
              "      <td>140.0</td>\n",
              "      <td>140.0</td>\n",
              "      <td>65.0</td>\n",
              "      <td>Midwest</td>\n",
              "      <td>0.0</td>\n",
              "      <td>10.0</td>\n",
              "      <td>Fall</td>\n",
              "      <td>Lower_Status</td>\n",
              "    </tr>\n",
              "    <tr>\n",
              "      <th>1</th>\n",
              "      <td>72</td>\n",
              "      <td>379.8</td>\n",
              "      <td>379.8</td>\n",
              "      <td>71.0</td>\n",
              "      <td>Midwest</td>\n",
              "      <td>0.0</td>\n",
              "      <td>4.0</td>\n",
              "      <td>Winter</td>\n",
              "      <td>Lower_Status</td>\n",
              "    </tr>\n",
              "    <tr>\n",
              "      <th>2</th>\n",
              "      <td>158</td>\n",
              "      <td>175.0</td>\n",
              "      <td>175.0</td>\n",
              "      <td>71.0</td>\n",
              "      <td>South</td>\n",
              "      <td>0.0</td>\n",
              "      <td>35.0</td>\n",
              "      <td>Fall</td>\n",
              "      <td>Lower_Status</td>\n",
              "    </tr>\n",
              "    <tr>\n",
              "      <th>3</th>\n",
              "      <td>165</td>\n",
              "      <td>119.9</td>\n",
              "      <td>119.9</td>\n",
              "      <td>64.0</td>\n",
              "      <td>South</td>\n",
              "      <td>0.0</td>\n",
              "      <td>15.0</td>\n",
              "      <td>Winter</td>\n",
              "      <td>Lower_Status</td>\n",
              "    </tr>\n",
              "    <tr>\n",
              "      <th>4</th>\n",
              "      <td>166</td>\n",
              "      <td>140.0</td>\n",
              "      <td>126.0</td>\n",
              "      <td>64.0</td>\n",
              "      <td>South</td>\n",
              "      <td>10.0</td>\n",
              "      <td>15.0</td>\n",
              "      <td>Winter</td>\n",
              "      <td>Lower_Status</td>\n",
              "    </tr>\n",
              "  </tbody>\n",
              "</table>\n",
              "</div>\n",
              "      <button class=\"colab-df-convert\" onclick=\"convertToInteractive('df-c0a2323d-b0e3-4e26-87f0-a8c1ae45af8a')\"\n",
              "              title=\"Convert this dataframe to an interactive table.\"\n",
              "              style=\"display:none;\">\n",
              "        \n",
              "  <svg xmlns=\"http://www.w3.org/2000/svg\" height=\"24px\"viewBox=\"0 0 24 24\"\n",
              "       width=\"24px\">\n",
              "    <path d=\"M0 0h24v24H0V0z\" fill=\"none\"/>\n",
              "    <path d=\"M18.56 5.44l.94 2.06.94-2.06 2.06-.94-2.06-.94-.94-2.06-.94 2.06-2.06.94zm-11 1L8.5 8.5l.94-2.06 2.06-.94-2.06-.94L8.5 2.5l-.94 2.06-2.06.94zm10 10l.94 2.06.94-2.06 2.06-.94-2.06-.94-.94-2.06-.94 2.06-2.06.94z\"/><path d=\"M17.41 7.96l-1.37-1.37c-.4-.4-.92-.59-1.43-.59-.52 0-1.04.2-1.43.59L10.3 9.45l-7.72 7.72c-.78.78-.78 2.05 0 2.83L4 21.41c.39.39.9.59 1.41.59.51 0 1.02-.2 1.41-.59l7.78-7.78 2.81-2.81c.8-.78.8-2.07 0-2.86zM5.41 20L4 18.59l7.72-7.72 1.47 1.35L5.41 20z\"/>\n",
              "  </svg>\n",
              "      </button>\n",
              "      \n",
              "  <style>\n",
              "    .colab-df-container {\n",
              "      display:flex;\n",
              "      flex-wrap:wrap;\n",
              "      gap: 12px;\n",
              "    }\n",
              "\n",
              "    .colab-df-convert {\n",
              "      background-color: #E8F0FE;\n",
              "      border: none;\n",
              "      border-radius: 50%;\n",
              "      cursor: pointer;\n",
              "      display: none;\n",
              "      fill: #1967D2;\n",
              "      height: 32px;\n",
              "      padding: 0 0 0 0;\n",
              "      width: 32px;\n",
              "    }\n",
              "\n",
              "    .colab-df-convert:hover {\n",
              "      background-color: #E2EBFA;\n",
              "      box-shadow: 0px 1px 2px rgba(60, 64, 67, 0.3), 0px 1px 3px 1px rgba(60, 64, 67, 0.15);\n",
              "      fill: #174EA6;\n",
              "    }\n",
              "\n",
              "    [theme=dark] .colab-df-convert {\n",
              "      background-color: #3B4455;\n",
              "      fill: #D2E3FC;\n",
              "    }\n",
              "\n",
              "    [theme=dark] .colab-df-convert:hover {\n",
              "      background-color: #434B5C;\n",
              "      box-shadow: 0px 1px 3px 1px rgba(0, 0, 0, 0.15);\n",
              "      filter: drop-shadow(0px 1px 2px rgba(0, 0, 0, 0.3));\n",
              "      fill: #FFFFFF;\n",
              "    }\n",
              "  </style>\n",
              "\n",
              "      <script>\n",
              "        const buttonEl =\n",
              "          document.querySelector('#df-c0a2323d-b0e3-4e26-87f0-a8c1ae45af8a button.colab-df-convert');\n",
              "        buttonEl.style.display =\n",
              "          google.colab.kernel.accessAllowed ? 'block' : 'none';\n",
              "\n",
              "        async function convertToInteractive(key) {\n",
              "          const element = document.querySelector('#df-c0a2323d-b0e3-4e26-87f0-a8c1ae45af8a');\n",
              "          const dataTable =\n",
              "            await google.colab.kernel.invokeFunction('convertToInteractive',\n",
              "                                                     [key], {});\n",
              "          if (!dataTable) return;\n",
              "\n",
              "          const docLinkHtml = 'Like what you see? Visit the ' +\n",
              "            '<a target=\"_blank\" href=https://colab.research.google.com/notebooks/data_table.ipynb>data table notebook</a>'\n",
              "            + ' to learn more about interactive tables.';\n",
              "          element.innerHTML = '';\n",
              "          dataTable['output_type'] = 'display_data';\n",
              "          await google.colab.output.renderOutput(dataTable, element);\n",
              "          const docLink = document.createElement('div');\n",
              "          docLink.innerHTML = docLinkHtml;\n",
              "          element.appendChild(docLink);\n",
              "        }\n",
              "      </script>\n",
              "    </div>\n",
              "  </div>\n",
              "  "
            ]
          },
          "metadata": {},
          "execution_count": 3
        }
      ]
    },
    {
      "cell_type": "code",
      "source": [
        "data['Discount_Percent'].value_counts()"
      ],
      "metadata": {
        "colab": {
          "base_uri": "https://localhost:8080/"
        },
        "id": "im8wjwrXvtFn",
        "outputId": "e04776ac-b986-4ec8-a5d4-bad6b4ced8b0"
      },
      "execution_count": 4,
      "outputs": [
        {
          "output_type": "execute_result",
          "data": {
            "text/plain": [
              "0.000000     22025\n",
              "20.000000     1439\n",
              "10.000000      694\n",
              "15.000000      517\n",
              "5.000000       182\n",
              "             ...  \n",
              "15.666614        1\n",
              "15.666614        1\n",
              "15.666615        1\n",
              "30.401338        1\n",
              "31.321818        1\n",
              "Name: Discount_Percent, Length: 2020, dtype: int64"
            ]
          },
          "metadata": {},
          "execution_count": 4
        }
      ]
    },
    {
      "cell_type": "code",
      "source": [
        "data['Discount_Percent'].describe()"
      ],
      "metadata": {
        "colab": {
          "base_uri": "https://localhost:8080/"
        },
        "id": "SRlYZGkVvvhO",
        "outputId": "135c1b96-e86b-4b7a-fea5-1634f0dbf1f8"
      },
      "execution_count": 5,
      "outputs": [
        {
          "output_type": "execute_result",
          "data": {
            "text/plain": [
              "count    28334.000000\n",
              "mean         5.052338\n",
              "std         11.493130\n",
              "min          0.000000\n",
              "25%          0.000000\n",
              "50%          0.000000\n",
              "75%          0.000000\n",
              "max         70.000000\n",
              "Name: Discount_Percent, dtype: float64"
            ]
          },
          "metadata": {},
          "execution_count": 5
        }
      ]
    },
    {
      "cell_type": "markdown",
      "source": [
        "### Perform experiment with disount of 10% and 15% compared with 0%"
      ],
      "metadata": {
        "id": "vwR-d1l4v6gy"
      }
    },
    {
      "cell_type": "code",
      "source": [
        "# Control sample\n",
        "\n",
        "control_pop = data.query(\"Discount_Percent==0.00\")"
      ],
      "metadata": {
        "id": "0clO05yOv1UK"
      },
      "execution_count": 6,
      "outputs": []
    },
    {
      "cell_type": "code",
      "source": [
        "control_pop.describe()"
      ],
      "metadata": {
        "colab": {
          "base_uri": "https://localhost:8080/",
          "height": 300
        },
        "id": "_2Nmg04bwEf0",
        "outputId": "c8a5a2c9-d391-4dfa-9ea3-6f461a16ed61"
      },
      "execution_count": 7,
      "outputs": [
        {
          "output_type": "execute_result",
          "data": {
            "text/plain": [
              "          Unnamed: 0         price         total           age  \\\n",
              "count   22025.000000  22025.000000  22025.000000  22025.000000   \n",
              "mean   143246.956413    151.013849    229.291130     46.362134   \n",
              "std     85663.882001    160.619888    385.275583     17.016780   \n",
              "min        29.000000      0.000000      0.000000     18.000000   \n",
              "25%     65501.000000     63.000000     69.900000     32.000000   \n",
              "50%    154176.000000    105.000000    125.000000     46.000000   \n",
              "75%    210548.000000    189.900000    226.525000     61.000000   \n",
              "max    286390.000000   4500.100000  11900.000000     75.000000   \n",
              "\n",
              "       Discount_Percent  customer_duration  \n",
              "count           22025.0       22025.000000  \n",
              "mean                0.0          13.170942  \n",
              "std                 0.0           8.449669  \n",
              "min                 0.0           3.000000  \n",
              "25%                 0.0           6.000000  \n",
              "50%                 0.0          11.000000  \n",
              "75%                 0.0          18.000000  \n",
              "max                 0.0          42.000000  "
            ],
            "text/html": [
              "\n",
              "  <div id=\"df-13e538e8-694f-45e3-b053-18584c094f2d\">\n",
              "    <div class=\"colab-df-container\">\n",
              "      <div>\n",
              "<style scoped>\n",
              "    .dataframe tbody tr th:only-of-type {\n",
              "        vertical-align: middle;\n",
              "    }\n",
              "\n",
              "    .dataframe tbody tr th {\n",
              "        vertical-align: top;\n",
              "    }\n",
              "\n",
              "    .dataframe thead th {\n",
              "        text-align: right;\n",
              "    }\n",
              "</style>\n",
              "<table border=\"1\" class=\"dataframe\">\n",
              "  <thead>\n",
              "    <tr style=\"text-align: right;\">\n",
              "      <th></th>\n",
              "      <th>Unnamed: 0</th>\n",
              "      <th>price</th>\n",
              "      <th>total</th>\n",
              "      <th>age</th>\n",
              "      <th>Discount_Percent</th>\n",
              "      <th>customer_duration</th>\n",
              "    </tr>\n",
              "  </thead>\n",
              "  <tbody>\n",
              "    <tr>\n",
              "      <th>count</th>\n",
              "      <td>22025.000000</td>\n",
              "      <td>22025.000000</td>\n",
              "      <td>22025.000000</td>\n",
              "      <td>22025.000000</td>\n",
              "      <td>22025.0</td>\n",
              "      <td>22025.000000</td>\n",
              "    </tr>\n",
              "    <tr>\n",
              "      <th>mean</th>\n",
              "      <td>143246.956413</td>\n",
              "      <td>151.013849</td>\n",
              "      <td>229.291130</td>\n",
              "      <td>46.362134</td>\n",
              "      <td>0.0</td>\n",
              "      <td>13.170942</td>\n",
              "    </tr>\n",
              "    <tr>\n",
              "      <th>std</th>\n",
              "      <td>85663.882001</td>\n",
              "      <td>160.619888</td>\n",
              "      <td>385.275583</td>\n",
              "      <td>17.016780</td>\n",
              "      <td>0.0</td>\n",
              "      <td>8.449669</td>\n",
              "    </tr>\n",
              "    <tr>\n",
              "      <th>min</th>\n",
              "      <td>29.000000</td>\n",
              "      <td>0.000000</td>\n",
              "      <td>0.000000</td>\n",
              "      <td>18.000000</td>\n",
              "      <td>0.0</td>\n",
              "      <td>3.000000</td>\n",
              "    </tr>\n",
              "    <tr>\n",
              "      <th>25%</th>\n",
              "      <td>65501.000000</td>\n",
              "      <td>63.000000</td>\n",
              "      <td>69.900000</td>\n",
              "      <td>32.000000</td>\n",
              "      <td>0.0</td>\n",
              "      <td>6.000000</td>\n",
              "    </tr>\n",
              "    <tr>\n",
              "      <th>50%</th>\n",
              "      <td>154176.000000</td>\n",
              "      <td>105.000000</td>\n",
              "      <td>125.000000</td>\n",
              "      <td>46.000000</td>\n",
              "      <td>0.0</td>\n",
              "      <td>11.000000</td>\n",
              "    </tr>\n",
              "    <tr>\n",
              "      <th>75%</th>\n",
              "      <td>210548.000000</td>\n",
              "      <td>189.900000</td>\n",
              "      <td>226.525000</td>\n",
              "      <td>61.000000</td>\n",
              "      <td>0.0</td>\n",
              "      <td>18.000000</td>\n",
              "    </tr>\n",
              "    <tr>\n",
              "      <th>max</th>\n",
              "      <td>286390.000000</td>\n",
              "      <td>4500.100000</td>\n",
              "      <td>11900.000000</td>\n",
              "      <td>75.000000</td>\n",
              "      <td>0.0</td>\n",
              "      <td>42.000000</td>\n",
              "    </tr>\n",
              "  </tbody>\n",
              "</table>\n",
              "</div>\n",
              "      <button class=\"colab-df-convert\" onclick=\"convertToInteractive('df-13e538e8-694f-45e3-b053-18584c094f2d')\"\n",
              "              title=\"Convert this dataframe to an interactive table.\"\n",
              "              style=\"display:none;\">\n",
              "        \n",
              "  <svg xmlns=\"http://www.w3.org/2000/svg\" height=\"24px\"viewBox=\"0 0 24 24\"\n",
              "       width=\"24px\">\n",
              "    <path d=\"M0 0h24v24H0V0z\" fill=\"none\"/>\n",
              "    <path d=\"M18.56 5.44l.94 2.06.94-2.06 2.06-.94-2.06-.94-.94-2.06-.94 2.06-2.06.94zm-11 1L8.5 8.5l.94-2.06 2.06-.94-2.06-.94L8.5 2.5l-.94 2.06-2.06.94zm10 10l.94 2.06.94-2.06 2.06-.94-2.06-.94-.94-2.06-.94 2.06-2.06.94z\"/><path d=\"M17.41 7.96l-1.37-1.37c-.4-.4-.92-.59-1.43-.59-.52 0-1.04.2-1.43.59L10.3 9.45l-7.72 7.72c-.78.78-.78 2.05 0 2.83L4 21.41c.39.39.9.59 1.41.59.51 0 1.02-.2 1.41-.59l7.78-7.78 2.81-2.81c.8-.78.8-2.07 0-2.86zM5.41 20L4 18.59l7.72-7.72 1.47 1.35L5.41 20z\"/>\n",
              "  </svg>\n",
              "      </button>\n",
              "      \n",
              "  <style>\n",
              "    .colab-df-container {\n",
              "      display:flex;\n",
              "      flex-wrap:wrap;\n",
              "      gap: 12px;\n",
              "    }\n",
              "\n",
              "    .colab-df-convert {\n",
              "      background-color: #E8F0FE;\n",
              "      border: none;\n",
              "      border-radius: 50%;\n",
              "      cursor: pointer;\n",
              "      display: none;\n",
              "      fill: #1967D2;\n",
              "      height: 32px;\n",
              "      padding: 0 0 0 0;\n",
              "      width: 32px;\n",
              "    }\n",
              "\n",
              "    .colab-df-convert:hover {\n",
              "      background-color: #E2EBFA;\n",
              "      box-shadow: 0px 1px 2px rgba(60, 64, 67, 0.3), 0px 1px 3px 1px rgba(60, 64, 67, 0.15);\n",
              "      fill: #174EA6;\n",
              "    }\n",
              "\n",
              "    [theme=dark] .colab-df-convert {\n",
              "      background-color: #3B4455;\n",
              "      fill: #D2E3FC;\n",
              "    }\n",
              "\n",
              "    [theme=dark] .colab-df-convert:hover {\n",
              "      background-color: #434B5C;\n",
              "      box-shadow: 0px 1px 3px 1px rgba(0, 0, 0, 0.15);\n",
              "      filter: drop-shadow(0px 1px 2px rgba(0, 0, 0, 0.3));\n",
              "      fill: #FFFFFF;\n",
              "    }\n",
              "  </style>\n",
              "\n",
              "      <script>\n",
              "        const buttonEl =\n",
              "          document.querySelector('#df-13e538e8-694f-45e3-b053-18584c094f2d button.colab-df-convert');\n",
              "        buttonEl.style.display =\n",
              "          google.colab.kernel.accessAllowed ? 'block' : 'none';\n",
              "\n",
              "        async function convertToInteractive(key) {\n",
              "          const element = document.querySelector('#df-13e538e8-694f-45e3-b053-18584c094f2d');\n",
              "          const dataTable =\n",
              "            await google.colab.kernel.invokeFunction('convertToInteractive',\n",
              "                                                     [key], {});\n",
              "          if (!dataTable) return;\n",
              "\n",
              "          const docLinkHtml = 'Like what you see? Visit the ' +\n",
              "            '<a target=\"_blank\" href=https://colab.research.google.com/notebooks/data_table.ipynb>data table notebook</a>'\n",
              "            + ' to learn more about interactive tables.';\n",
              "          element.innerHTML = '';\n",
              "          dataTable['output_type'] = 'display_data';\n",
              "          await google.colab.output.renderOutput(dataTable, element);\n",
              "          const docLink = document.createElement('div');\n",
              "          docLink.innerHTML = docLinkHtml;\n",
              "          element.appendChild(docLink);\n",
              "        }\n",
              "      </script>\n",
              "    </div>\n",
              "  </div>\n",
              "  "
            ]
          },
          "metadata": {},
          "execution_count": 7
        }
      ]
    },
    {
      "cell_type": "code",
      "source": [
        "treat1 = data.query(\"Discount_Percent==10.00\")"
      ],
      "metadata": {
        "id": "SoUmrqWnwK4I"
      },
      "execution_count": 8,
      "outputs": []
    },
    {
      "cell_type": "code",
      "source": [
        "treat15 = data.query(\"Discount_Percent==15.00\")"
      ],
      "metadata": {
        "id": "lqbZRovMwOwB"
      },
      "execution_count": 9,
      "outputs": []
    },
    {
      "cell_type": "code",
      "source": [
        "control_pop.shape,treat1.shape,treat15.shape"
      ],
      "metadata": {
        "colab": {
          "base_uri": "https://localhost:8080/"
        },
        "id": "4TnzceG6wS18",
        "outputId": "80b2f93d-7b20-4f5b-e411-021097500566"
      },
      "execution_count": 10,
      "outputs": [
        {
          "output_type": "execute_result",
          "data": {
            "text/plain": [
              "((22025, 9), (694, 9), (517, 9))"
            ]
          },
          "metadata": {},
          "execution_count": 10
        }
      ]
    },
    {
      "cell_type": "markdown",
      "source": [
        "### Select 800 samples from the control group"
      ],
      "metadata": {
        "id": "Pz0l8E4uwmr1"
      }
    },
    {
      "cell_type": "code",
      "source": [
        "control = control_pop.sample(n=800,random_state=42)"
      ],
      "metadata": {
        "id": "JU6EV1fKwk5I"
      },
      "execution_count": 11,
      "outputs": []
    },
    {
      "cell_type": "code",
      "source": [
        "# create columns for treatment status in the 3 dataframes\n",
        "\n",
        "control['treat']=0\n",
        "treat1['treat']=1\n",
        "treat15['treat']=1"
      ],
      "metadata": {
        "id": "sMaaS07awwgI"
      },
      "execution_count": 12,
      "outputs": []
    },
    {
      "cell_type": "code",
      "source": [
        "df_10 = pd.concat([control,treat1],axis=0)\n",
        "df_15 = pd.concat([control,treat15],axis=0)"
      ],
      "metadata": {
        "id": "1mQxvZFXw2nq"
      },
      "execution_count": 13,
      "outputs": []
    },
    {
      "cell_type": "code",
      "source": [
        "# drop discount column from both df\n",
        "\n",
        "df_10 = df_10.drop(\"Discount_Percent\",axis=1)\n",
        "df_15 = df_15.drop(\"Discount_Percent\",axis=1)"
      ],
      "metadata": {
        "id": "acokDik9w-Gg"
      },
      "execution_count": 14,
      "outputs": []
    },
    {
      "cell_type": "code",
      "source": [
        "df_10 = df_10.iloc[:,1:]\n",
        "df_10.head()"
      ],
      "metadata": {
        "colab": {
          "base_uri": "https://localhost:8080/",
          "height": 206
        },
        "id": "By3i0lsKxMcQ",
        "outputId": "e2584025-526f-4caf-f34b-65dfd161dc0a"
      },
      "execution_count": 15,
      "outputs": [
        {
          "output_type": "execute_result",
          "data": {
            "text/plain": [
              "       price  total   age     Region  customer_duration  season  \\\n",
              "21875  149.7  149.7  52.0      South               10.0  Spring   \n",
              "20314   79.9   79.9  63.0  Northeast                6.0  Spring   \n",
              "18724   51.9   51.9  57.0      South                9.0  Spring   \n",
              "27298  300.0  300.0  37.0    Midwest               16.0  Summer   \n",
              "26570  539.0  539.0  60.0  Northeast               34.0  Summer   \n",
              "\n",
              "              status  treat  \n",
              "21875  Higher_Status      0  \n",
              "20314   Lower_Status      0  \n",
              "18724   Lower_Status      0  \n",
              "27298   Lower_Status      0  \n",
              "26570   Lower_Status      0  "
            ],
            "text/html": [
              "\n",
              "  <div id=\"df-f1055909-0ed1-49da-b6d9-8a5c2d35d33f\">\n",
              "    <div class=\"colab-df-container\">\n",
              "      <div>\n",
              "<style scoped>\n",
              "    .dataframe tbody tr th:only-of-type {\n",
              "        vertical-align: middle;\n",
              "    }\n",
              "\n",
              "    .dataframe tbody tr th {\n",
              "        vertical-align: top;\n",
              "    }\n",
              "\n",
              "    .dataframe thead th {\n",
              "        text-align: right;\n",
              "    }\n",
              "</style>\n",
              "<table border=\"1\" class=\"dataframe\">\n",
              "  <thead>\n",
              "    <tr style=\"text-align: right;\">\n",
              "      <th></th>\n",
              "      <th>price</th>\n",
              "      <th>total</th>\n",
              "      <th>age</th>\n",
              "      <th>Region</th>\n",
              "      <th>customer_duration</th>\n",
              "      <th>season</th>\n",
              "      <th>status</th>\n",
              "      <th>treat</th>\n",
              "    </tr>\n",
              "  </thead>\n",
              "  <tbody>\n",
              "    <tr>\n",
              "      <th>21875</th>\n",
              "      <td>149.7</td>\n",
              "      <td>149.7</td>\n",
              "      <td>52.0</td>\n",
              "      <td>South</td>\n",
              "      <td>10.0</td>\n",
              "      <td>Spring</td>\n",
              "      <td>Higher_Status</td>\n",
              "      <td>0</td>\n",
              "    </tr>\n",
              "    <tr>\n",
              "      <th>20314</th>\n",
              "      <td>79.9</td>\n",
              "      <td>79.9</td>\n",
              "      <td>63.0</td>\n",
              "      <td>Northeast</td>\n",
              "      <td>6.0</td>\n",
              "      <td>Spring</td>\n",
              "      <td>Lower_Status</td>\n",
              "      <td>0</td>\n",
              "    </tr>\n",
              "    <tr>\n",
              "      <th>18724</th>\n",
              "      <td>51.9</td>\n",
              "      <td>51.9</td>\n",
              "      <td>57.0</td>\n",
              "      <td>South</td>\n",
              "      <td>9.0</td>\n",
              "      <td>Spring</td>\n",
              "      <td>Lower_Status</td>\n",
              "      <td>0</td>\n",
              "    </tr>\n",
              "    <tr>\n",
              "      <th>27298</th>\n",
              "      <td>300.0</td>\n",
              "      <td>300.0</td>\n",
              "      <td>37.0</td>\n",
              "      <td>Midwest</td>\n",
              "      <td>16.0</td>\n",
              "      <td>Summer</td>\n",
              "      <td>Lower_Status</td>\n",
              "      <td>0</td>\n",
              "    </tr>\n",
              "    <tr>\n",
              "      <th>26570</th>\n",
              "      <td>539.0</td>\n",
              "      <td>539.0</td>\n",
              "      <td>60.0</td>\n",
              "      <td>Northeast</td>\n",
              "      <td>34.0</td>\n",
              "      <td>Summer</td>\n",
              "      <td>Lower_Status</td>\n",
              "      <td>0</td>\n",
              "    </tr>\n",
              "  </tbody>\n",
              "</table>\n",
              "</div>\n",
              "      <button class=\"colab-df-convert\" onclick=\"convertToInteractive('df-f1055909-0ed1-49da-b6d9-8a5c2d35d33f')\"\n",
              "              title=\"Convert this dataframe to an interactive table.\"\n",
              "              style=\"display:none;\">\n",
              "        \n",
              "  <svg xmlns=\"http://www.w3.org/2000/svg\" height=\"24px\"viewBox=\"0 0 24 24\"\n",
              "       width=\"24px\">\n",
              "    <path d=\"M0 0h24v24H0V0z\" fill=\"none\"/>\n",
              "    <path d=\"M18.56 5.44l.94 2.06.94-2.06 2.06-.94-2.06-.94-.94-2.06-.94 2.06-2.06.94zm-11 1L8.5 8.5l.94-2.06 2.06-.94-2.06-.94L8.5 2.5l-.94 2.06-2.06.94zm10 10l.94 2.06.94-2.06 2.06-.94-2.06-.94-.94-2.06-.94 2.06-2.06.94z\"/><path d=\"M17.41 7.96l-1.37-1.37c-.4-.4-.92-.59-1.43-.59-.52 0-1.04.2-1.43.59L10.3 9.45l-7.72 7.72c-.78.78-.78 2.05 0 2.83L4 21.41c.39.39.9.59 1.41.59.51 0 1.02-.2 1.41-.59l7.78-7.78 2.81-2.81c.8-.78.8-2.07 0-2.86zM5.41 20L4 18.59l7.72-7.72 1.47 1.35L5.41 20z\"/>\n",
              "  </svg>\n",
              "      </button>\n",
              "      \n",
              "  <style>\n",
              "    .colab-df-container {\n",
              "      display:flex;\n",
              "      flex-wrap:wrap;\n",
              "      gap: 12px;\n",
              "    }\n",
              "\n",
              "    .colab-df-convert {\n",
              "      background-color: #E8F0FE;\n",
              "      border: none;\n",
              "      border-radius: 50%;\n",
              "      cursor: pointer;\n",
              "      display: none;\n",
              "      fill: #1967D2;\n",
              "      height: 32px;\n",
              "      padding: 0 0 0 0;\n",
              "      width: 32px;\n",
              "    }\n",
              "\n",
              "    .colab-df-convert:hover {\n",
              "      background-color: #E2EBFA;\n",
              "      box-shadow: 0px 1px 2px rgba(60, 64, 67, 0.3), 0px 1px 3px 1px rgba(60, 64, 67, 0.15);\n",
              "      fill: #174EA6;\n",
              "    }\n",
              "\n",
              "    [theme=dark] .colab-df-convert {\n",
              "      background-color: #3B4455;\n",
              "      fill: #D2E3FC;\n",
              "    }\n",
              "\n",
              "    [theme=dark] .colab-df-convert:hover {\n",
              "      background-color: #434B5C;\n",
              "      box-shadow: 0px 1px 3px 1px rgba(0, 0, 0, 0.15);\n",
              "      filter: drop-shadow(0px 1px 2px rgba(0, 0, 0, 0.3));\n",
              "      fill: #FFFFFF;\n",
              "    }\n",
              "  </style>\n",
              "\n",
              "      <script>\n",
              "        const buttonEl =\n",
              "          document.querySelector('#df-f1055909-0ed1-49da-b6d9-8a5c2d35d33f button.colab-df-convert');\n",
              "        buttonEl.style.display =\n",
              "          google.colab.kernel.accessAllowed ? 'block' : 'none';\n",
              "\n",
              "        async function convertToInteractive(key) {\n",
              "          const element = document.querySelector('#df-f1055909-0ed1-49da-b6d9-8a5c2d35d33f');\n",
              "          const dataTable =\n",
              "            await google.colab.kernel.invokeFunction('convertToInteractive',\n",
              "                                                     [key], {});\n",
              "          if (!dataTable) return;\n",
              "\n",
              "          const docLinkHtml = 'Like what you see? Visit the ' +\n",
              "            '<a target=\"_blank\" href=https://colab.research.google.com/notebooks/data_table.ipynb>data table notebook</a>'\n",
              "            + ' to learn more about interactive tables.';\n",
              "          element.innerHTML = '';\n",
              "          dataTable['output_type'] = 'display_data';\n",
              "          await google.colab.output.renderOutput(dataTable, element);\n",
              "          const docLink = document.createElement('div');\n",
              "          docLink.innerHTML = docLinkHtml;\n",
              "          element.appendChild(docLink);\n",
              "        }\n",
              "      </script>\n",
              "    </div>\n",
              "  </div>\n",
              "  "
            ]
          },
          "metadata": {},
          "execution_count": 15
        }
      ]
    },
    {
      "cell_type": "code",
      "source": [
        "df_15 = df_15.iloc[:,1:]\n",
        "df_15.head()"
      ],
      "metadata": {
        "colab": {
          "base_uri": "https://localhost:8080/",
          "height": 206
        },
        "id": "d3M-nadHxTnM",
        "outputId": "300cea0b-e274-4453-9aea-7461f4bfff6d"
      },
      "execution_count": 16,
      "outputs": [
        {
          "output_type": "execute_result",
          "data": {
            "text/plain": [
              "       price  total   age     Region  customer_duration  season  \\\n",
              "21875  149.7  149.7  52.0      South               10.0  Spring   \n",
              "20314   79.9   79.9  63.0  Northeast                6.0  Spring   \n",
              "18724   51.9   51.9  57.0      South                9.0  Spring   \n",
              "27298  300.0  300.0  37.0    Midwest               16.0  Summer   \n",
              "26570  539.0  539.0  60.0  Northeast               34.0  Summer   \n",
              "\n",
              "              status  treat  \n",
              "21875  Higher_Status      0  \n",
              "20314   Lower_Status      0  \n",
              "18724   Lower_Status      0  \n",
              "27298   Lower_Status      0  \n",
              "26570   Lower_Status      0  "
            ],
            "text/html": [
              "\n",
              "  <div id=\"df-d395c31f-4e4e-4569-af71-f63b6dddf011\">\n",
              "    <div class=\"colab-df-container\">\n",
              "      <div>\n",
              "<style scoped>\n",
              "    .dataframe tbody tr th:only-of-type {\n",
              "        vertical-align: middle;\n",
              "    }\n",
              "\n",
              "    .dataframe tbody tr th {\n",
              "        vertical-align: top;\n",
              "    }\n",
              "\n",
              "    .dataframe thead th {\n",
              "        text-align: right;\n",
              "    }\n",
              "</style>\n",
              "<table border=\"1\" class=\"dataframe\">\n",
              "  <thead>\n",
              "    <tr style=\"text-align: right;\">\n",
              "      <th></th>\n",
              "      <th>price</th>\n",
              "      <th>total</th>\n",
              "      <th>age</th>\n",
              "      <th>Region</th>\n",
              "      <th>customer_duration</th>\n",
              "      <th>season</th>\n",
              "      <th>status</th>\n",
              "      <th>treat</th>\n",
              "    </tr>\n",
              "  </thead>\n",
              "  <tbody>\n",
              "    <tr>\n",
              "      <th>21875</th>\n",
              "      <td>149.7</td>\n",
              "      <td>149.7</td>\n",
              "      <td>52.0</td>\n",
              "      <td>South</td>\n",
              "      <td>10.0</td>\n",
              "      <td>Spring</td>\n",
              "      <td>Higher_Status</td>\n",
              "      <td>0</td>\n",
              "    </tr>\n",
              "    <tr>\n",
              "      <th>20314</th>\n",
              "      <td>79.9</td>\n",
              "      <td>79.9</td>\n",
              "      <td>63.0</td>\n",
              "      <td>Northeast</td>\n",
              "      <td>6.0</td>\n",
              "      <td>Spring</td>\n",
              "      <td>Lower_Status</td>\n",
              "      <td>0</td>\n",
              "    </tr>\n",
              "    <tr>\n",
              "      <th>18724</th>\n",
              "      <td>51.9</td>\n",
              "      <td>51.9</td>\n",
              "      <td>57.0</td>\n",
              "      <td>South</td>\n",
              "      <td>9.0</td>\n",
              "      <td>Spring</td>\n",
              "      <td>Lower_Status</td>\n",
              "      <td>0</td>\n",
              "    </tr>\n",
              "    <tr>\n",
              "      <th>27298</th>\n",
              "      <td>300.0</td>\n",
              "      <td>300.0</td>\n",
              "      <td>37.0</td>\n",
              "      <td>Midwest</td>\n",
              "      <td>16.0</td>\n",
              "      <td>Summer</td>\n",
              "      <td>Lower_Status</td>\n",
              "      <td>0</td>\n",
              "    </tr>\n",
              "    <tr>\n",
              "      <th>26570</th>\n",
              "      <td>539.0</td>\n",
              "      <td>539.0</td>\n",
              "      <td>60.0</td>\n",
              "      <td>Northeast</td>\n",
              "      <td>34.0</td>\n",
              "      <td>Summer</td>\n",
              "      <td>Lower_Status</td>\n",
              "      <td>0</td>\n",
              "    </tr>\n",
              "  </tbody>\n",
              "</table>\n",
              "</div>\n",
              "      <button class=\"colab-df-convert\" onclick=\"convertToInteractive('df-d395c31f-4e4e-4569-af71-f63b6dddf011')\"\n",
              "              title=\"Convert this dataframe to an interactive table.\"\n",
              "              style=\"display:none;\">\n",
              "        \n",
              "  <svg xmlns=\"http://www.w3.org/2000/svg\" height=\"24px\"viewBox=\"0 0 24 24\"\n",
              "       width=\"24px\">\n",
              "    <path d=\"M0 0h24v24H0V0z\" fill=\"none\"/>\n",
              "    <path d=\"M18.56 5.44l.94 2.06.94-2.06 2.06-.94-2.06-.94-.94-2.06-.94 2.06-2.06.94zm-11 1L8.5 8.5l.94-2.06 2.06-.94-2.06-.94L8.5 2.5l-.94 2.06-2.06.94zm10 10l.94 2.06.94-2.06 2.06-.94-2.06-.94-.94-2.06-.94 2.06-2.06.94z\"/><path d=\"M17.41 7.96l-1.37-1.37c-.4-.4-.92-.59-1.43-.59-.52 0-1.04.2-1.43.59L10.3 9.45l-7.72 7.72c-.78.78-.78 2.05 0 2.83L4 21.41c.39.39.9.59 1.41.59.51 0 1.02-.2 1.41-.59l7.78-7.78 2.81-2.81c.8-.78.8-2.07 0-2.86zM5.41 20L4 18.59l7.72-7.72 1.47 1.35L5.41 20z\"/>\n",
              "  </svg>\n",
              "      </button>\n",
              "      \n",
              "  <style>\n",
              "    .colab-df-container {\n",
              "      display:flex;\n",
              "      flex-wrap:wrap;\n",
              "      gap: 12px;\n",
              "    }\n",
              "\n",
              "    .colab-df-convert {\n",
              "      background-color: #E8F0FE;\n",
              "      border: none;\n",
              "      border-radius: 50%;\n",
              "      cursor: pointer;\n",
              "      display: none;\n",
              "      fill: #1967D2;\n",
              "      height: 32px;\n",
              "      padding: 0 0 0 0;\n",
              "      width: 32px;\n",
              "    }\n",
              "\n",
              "    .colab-df-convert:hover {\n",
              "      background-color: #E2EBFA;\n",
              "      box-shadow: 0px 1px 2px rgba(60, 64, 67, 0.3), 0px 1px 3px 1px rgba(60, 64, 67, 0.15);\n",
              "      fill: #174EA6;\n",
              "    }\n",
              "\n",
              "    [theme=dark] .colab-df-convert {\n",
              "      background-color: #3B4455;\n",
              "      fill: #D2E3FC;\n",
              "    }\n",
              "\n",
              "    [theme=dark] .colab-df-convert:hover {\n",
              "      background-color: #434B5C;\n",
              "      box-shadow: 0px 1px 3px 1px rgba(0, 0, 0, 0.15);\n",
              "      filter: drop-shadow(0px 1px 2px rgba(0, 0, 0, 0.3));\n",
              "      fill: #FFFFFF;\n",
              "    }\n",
              "  </style>\n",
              "\n",
              "      <script>\n",
              "        const buttonEl =\n",
              "          document.querySelector('#df-d395c31f-4e4e-4569-af71-f63b6dddf011 button.colab-df-convert');\n",
              "        buttonEl.style.display =\n",
              "          google.colab.kernel.accessAllowed ? 'block' : 'none';\n",
              "\n",
              "        async function convertToInteractive(key) {\n",
              "          const element = document.querySelector('#df-d395c31f-4e4e-4569-af71-f63b6dddf011');\n",
              "          const dataTable =\n",
              "            await google.colab.kernel.invokeFunction('convertToInteractive',\n",
              "                                                     [key], {});\n",
              "          if (!dataTable) return;\n",
              "\n",
              "          const docLinkHtml = 'Like what you see? Visit the ' +\n",
              "            '<a target=\"_blank\" href=https://colab.research.google.com/notebooks/data_table.ipynb>data table notebook</a>'\n",
              "            + ' to learn more about interactive tables.';\n",
              "          element.innerHTML = '';\n",
              "          dataTable['output_type'] = 'display_data';\n",
              "          await google.colab.output.renderOutput(dataTable, element);\n",
              "          const docLink = document.createElement('div');\n",
              "          docLink.innerHTML = docLinkHtml;\n",
              "          element.appendChild(docLink);\n",
              "        }\n",
              "      </script>\n",
              "    </div>\n",
              "  </div>\n",
              "  "
            ]
          },
          "metadata": {},
          "execution_count": 16
        }
      ]
    },
    {
      "cell_type": "markdown",
      "source": [
        "### Run experiment for the 10% discount group"
      ],
      "metadata": {
        "id": "mfMKj6Jsxda2"
      }
    },
    {
      "cell_type": "code",
      "source": [
        "# Create causalinference variables\n",
        "\n",
        "X = df_10.drop(['treat','total'],axis=1)\n",
        "X = pd.get_dummies(X,drop_first=True,prefix_sep=('*'))\n",
        "X = X.values\n",
        "D = df_10['treat'].values\n",
        "Y = df_10['total'].values"
      ],
      "metadata": {
        "id": "GzcSooZoxYlP"
      },
      "execution_count": 17,
      "outputs": []
    },
    {
      "cell_type": "code",
      "source": [
        "# initiate causal model and get the summary statistics of the dataset\n",
        "\n",
        "causal = CausalModel(Y,D,X)"
      ],
      "metadata": {
        "id": "D0cNJm5qyRsd"
      },
      "execution_count": 18,
      "outputs": []
    },
    {
      "cell_type": "code",
      "source": [
        "print(causal.summary_stats)"
      ],
      "metadata": {
        "colab": {
          "base_uri": "https://localhost:8080/"
        },
        "id": "Xotb4M-AyZTF",
        "outputId": "618617d4-e44a-455c-df97-5d29d3a80710"
      },
      "execution_count": 19,
      "outputs": [
        {
          "output_type": "stream",
          "name": "stdout",
          "text": [
            "\n",
            "Summary Statistics\n",
            "\n",
            "                       Controls (N_c=800)         Treated (N_t=694)             \n",
            "       Variable         Mean         S.d.         Mean         S.d.     Raw-diff\n",
            "--------------------------------------------------------------------------------\n",
            "              Y      224.405      341.812      160.170      175.439      -64.235\n",
            "\n",
            "                       Controls (N_c=800)         Treated (N_t=694)             \n",
            "       Variable         Mean         S.d.         Mean         S.d.     Nor-diff\n",
            "--------------------------------------------------------------------------------\n",
            "             X0      149.492      214.866      172.206      194.566        0.111\n",
            "             X1       45.986       16.461       46.589       16.889        0.036\n",
            "             X2       13.258        8.360       12.994        8.323       -0.032\n",
            "             X3        0.175        0.380        0.182        0.386        0.017\n",
            "             X4        0.417        0.493        0.353        0.478       -0.133\n",
            "             X5        0.154        0.361        0.197        0.398        0.115\n",
            "             X6        0.235        0.424        0.120        0.325       -0.305\n",
            "             X7        0.201        0.401        0.013        0.113       -0.639\n",
            "             X8        0.409        0.492        0.663        0.473        0.526\n",
            "             X9        0.839        0.368        0.870        0.336        0.090\n",
            "\n"
          ]
        }
      ]
    },
    {
      "cell_type": "markdown",
      "source": [
        "* There are 800 people in the control group and 694 in the treatment group\n",
        "* Average outcome of the control group is $224 which is greater than $160 in the control group by $64\n",
        "* The Nor-diff shows that most of the covariates are not balanced going by the statistics reported.  "
      ],
      "metadata": {
        "id": "smybq9I3zeQu"
      }
    },
    {
      "cell_type": "markdown",
      "source": [
        "### Generate Propensity Score"
      ],
      "metadata": {
        "id": "_MiqnF7_HbaR"
      }
    },
    {
      "cell_type": "code",
      "source": [
        "# Propensity Score Estimation\n",
        "\n",
        "causal.est_propensity_s()\n",
        "print(causal.propensity)"
      ],
      "metadata": {
        "colab": {
          "base_uri": "https://localhost:8080/"
        },
        "id": "7FLhHjlu0HN1",
        "outputId": "95d4f704-4239-4729-8a7b-dfe4a3ec76d1"
      },
      "execution_count": 20,
      "outputs": [
        {
          "output_type": "stream",
          "name": "stdout",
          "text": [
            "\n",
            "Estimated Parameters of Propensity Score\n",
            "\n",
            "                    Coef.       S.e.          z      P>|z|      [95% Conf. int.]\n",
            "--------------------------------------------------------------------------------\n",
            "     Intercept     -1.130      0.261     -4.329      0.000     -1.642     -0.619\n",
            "            X7     -2.784      0.372     -7.475      0.000     -3.514     -2.054\n",
            "            X6     -0.719      0.192     -3.738      0.000     -1.096     -0.342\n",
            "            X4     -0.287      0.127     -2.266      0.023     -0.535     -0.039\n",
            "            X0      0.006      0.001      6.101      0.000      0.004      0.008\n",
            "            X8      1.523      0.226      6.736      0.000      1.080      1.967\n",
            "            X5      0.263      0.165      1.600      0.110     -0.059      0.586\n",
            "            X9      0.297      0.167      1.782      0.075     -0.030      0.624\n",
            "         X0*X8     -0.007      0.001     -7.032      0.000     -0.009     -0.005\n",
            "         X0*X0     -0.000      0.000     -3.983      0.000     -0.000     -0.000\n",
            "\n"
          ]
        }
      ]
    },
    {
      "cell_type": "markdown",
      "source": [
        "### Improve the Covariate Balance"
      ],
      "metadata": {
        "id": "OKh3zFgaHiGZ"
      }
    },
    {
      "cell_type": "code",
      "source": [
        "causal.trim_s()\n",
        "causal.cutoff"
      ],
      "metadata": {
        "colab": {
          "base_uri": "https://localhost:8080/"
        },
        "id": "pAaOfwfpHg2I",
        "outputId": "f457177d-26b5-4b13-9ac0-751e21495981"
      },
      "execution_count": 21,
      "outputs": [
        {
          "output_type": "execute_result",
          "data": {
            "text/plain": [
              "0.12692897813341592"
            ]
          },
          "metadata": {},
          "execution_count": 21
        }
      ]
    },
    {
      "cell_type": "code",
      "source": [
        "print(causal.summary_stats)"
      ],
      "metadata": {
        "colab": {
          "base_uri": "https://localhost:8080/"
        },
        "id": "NHxB8xQNH7j9",
        "outputId": "ef8c5910-c4e4-4252-9fa4-45739e0846a6"
      },
      "execution_count": 22,
      "outputs": [
        {
          "output_type": "stream",
          "name": "stdout",
          "text": [
            "\n",
            "Summary Statistics\n",
            "\n",
            "                       Controls (N_c=643)         Treated (N_t=681)             \n",
            "       Variable         Mean         S.d.         Mean         S.d.     Raw-diff\n",
            "--------------------------------------------------------------------------------\n",
            "              Y      208.593      285.145      156.190      167.081      -52.404\n",
            "\n",
            "                       Controls (N_c=643)         Treated (N_t=681)             \n",
            "       Variable         Mean         S.d.         Mean         S.d.     Nor-diff\n",
            "--------------------------------------------------------------------------------\n",
            "             X0      150.518      156.089      167.674      185.112        0.100\n",
            "             X1       47.064       16.337       46.504       16.876       -0.034\n",
            "             X2       13.086        8.285       13.057        8.371       -0.003\n",
            "             X3        0.174        0.380        0.184        0.387        0.024\n",
            "             X4        0.420        0.494        0.358        0.480       -0.127\n",
            "             X5        0.152        0.360        0.195        0.397        0.113\n",
            "             X6        0.291        0.454        0.122        0.327       -0.427\n",
            "             X7        0.011        0.104        0.000        0.000       -0.148\n",
            "             X8        0.507        0.500        0.674        0.469        0.344\n",
            "             X9        0.840        0.367        0.869        0.337        0.084\n",
            "\n"
          ]
        }
      ]
    },
    {
      "cell_type": "code",
      "source": [
        "causal.stratify_s()\n",
        "print(causal.strata)"
      ],
      "metadata": {
        "colab": {
          "base_uri": "https://localhost:8080/"
        },
        "id": "FPMosOjsIF0h",
        "outputId": "2eea759e-7b28-4881-fa62-78d7dedb3b8b"
      },
      "execution_count": 23,
      "outputs": [
        {
          "output_type": "stream",
          "name": "stdout",
          "text": [
            "\n",
            "Stratification Summary\n",
            "\n",
            "              Propensity Score         Sample Size     Ave. Propensity   Outcome\n",
            "   Stratum      Min.      Max.  Controls   Treated  Controls   Treated  Raw-diff\n",
            "--------------------------------------------------------------------------------\n",
            "         1     0.130     0.279       134        35     0.218     0.231  -120.445\n",
            "         2     0.281     0.410       114        50     0.346     0.352  -137.753\n",
            "         3     0.412     0.506        97        71     0.461     0.467   -50.035\n",
            "         4     0.506     0.535        41        41     0.519     0.522   -50.670\n",
            "         5     0.536     0.557        21        60     0.544     0.546   -39.789\n",
            "         6     0.557     0.636       127       204     0.596     0.593   -16.954\n",
            "         7     0.637     0.666        69        93     0.650     0.650   -40.839\n",
            "         8     0.668     0.873        40       127     0.717     0.731    25.879\n",
            "\n"
          ]
        }
      ]
    },
    {
      "cell_type": "code",
      "source": [
        "causal.est_via_ols()\n",
        "causal.est_via_weighting()\n",
        "causal.est_via_matching(bias_adj=True)\n",
        "print(causal.estimates)"
      ],
      "metadata": {
        "colab": {
          "base_uri": "https://localhost:8080/"
        },
        "id": "1wzWUe8XR9Ya",
        "outputId": "ddcfb726-21f6-421f-cdaf-c245e758deb2"
      },
      "execution_count": 32,
      "outputs": [
        {
          "output_type": "stream",
          "name": "stdout",
          "text": [
            "\n",
            "Treatment Effect Estimates: OLS\n",
            "\n",
            "                     Est.       S.e.          z      P>|z|      [95% Conf. int.]\n",
            "--------------------------------------------------------------------------------\n",
            "           ATE    -57.180      8.078     -7.078      0.000    -73.013    -41.346\n",
            "           ATC    -69.751     12.131     -5.750      0.000    -93.527    -45.975\n",
            "           ATT    -45.310      5.591     -8.104      0.000    -56.268    -34.351\n",
            "\n",
            "Treatment Effect Estimates: Weighting\n",
            "\n",
            "                     Est.       S.e.          z      P>|z|      [95% Conf. int.]\n",
            "--------------------------------------------------------------------------------\n",
            "           ATE    -57.142      7.961     -7.178      0.000    -72.745    -41.539\n",
            "\n",
            "Treatment Effect Estimates: Matching\n",
            "\n",
            "                     Est.       S.e.          z      P>|z|      [95% Conf. int.]\n",
            "--------------------------------------------------------------------------------\n",
            "           ATE    -53.647     15.988     -3.355      0.001    -84.985    -22.310\n",
            "           ATC    -69.519     15.124     -4.597      0.000    -99.161    -39.876\n",
            "           ATT    -38.662     22.866     -1.691      0.091    -83.479      6.156\n",
            "\n"
          ]
        }
      ]
    },
    {
      "cell_type": "markdown",
      "source": [
        "The ATE are the same in both the OLS and weighting estimations while it is lower in Matching estimation.  The bottom line is that after correcting for imbalances, the ATE was reduced from -64 to -57.  A discount 0f 10% reduced sales by -$57"
      ],
      "metadata": {
        "id": "-BNRCxYFI2Xl"
      }
    },
    {
      "cell_type": "markdown",
      "source": [
        "### Run experiment for the 15% discount group"
      ],
      "metadata": {
        "id": "GydYRH5SOxwA"
      }
    },
    {
      "cell_type": "code",
      "source": [
        "# Create causalinference variables\n",
        "\n",
        "X1 = df_15.drop(['treat','total'],axis=1)\n",
        "X1 = pd.get_dummies(X1,drop_first=True,prefix_sep=('*'))\n",
        "X1 = X1.values\n",
        "D1 = df_15['treat'].values\n",
        "Y1 = df_15['total'].values"
      ],
      "metadata": {
        "id": "5aRZyNgzO1PY"
      },
      "execution_count": 25,
      "outputs": []
    },
    {
      "cell_type": "code",
      "source": [
        "# initiate causal model and get the summary statistics of the dataset\n",
        "\n",
        "causal1 = CausalModel(Y1,D1,X1)"
      ],
      "metadata": {
        "id": "RvfDRomQPpMc"
      },
      "execution_count": 26,
      "outputs": []
    },
    {
      "cell_type": "code",
      "source": [
        "print(causal1.summary_stats)"
      ],
      "metadata": {
        "colab": {
          "base_uri": "https://localhost:8080/"
        },
        "id": "uYKcJT6QPzZX",
        "outputId": "a5d1df07-2491-43da-d3a6-d52d0954eae5"
      },
      "execution_count": 27,
      "outputs": [
        {
          "output_type": "stream",
          "name": "stdout",
          "text": [
            "\n",
            "Summary Statistics\n",
            "\n",
            "                       Controls (N_c=800)         Treated (N_t=517)             \n",
            "       Variable         Mean         S.d.         Mean         S.d.     Raw-diff\n",
            "--------------------------------------------------------------------------------\n",
            "              Y      224.405      341.812      184.599      170.223      -39.806\n",
            "\n",
            "                       Controls (N_c=800)         Treated (N_t=517)             \n",
            "       Variable         Mean         S.d.         Mean         S.d.     Nor-diff\n",
            "--------------------------------------------------------------------------------\n",
            "             X0      149.492      214.866      213.031      200.282        0.306\n",
            "             X1       45.986       16.461       43.395       17.076       -0.155\n",
            "             X2       13.258        8.360       13.518        8.946        0.030\n",
            "             X3        0.175        0.380        0.178        0.383        0.008\n",
            "             X4        0.417        0.493        0.354        0.479       -0.131\n",
            "             X5        0.154        0.361        0.178        0.383        0.065\n",
            "             X6        0.235        0.424        0.017        0.131       -0.693\n",
            "             X7        0.201        0.401        0.240        0.427        0.093\n",
            "             X8        0.409        0.492        0.544        0.499        0.272\n",
            "             X9        0.839        0.368        0.868        0.338        0.084\n",
            "\n"
          ]
        }
      ]
    },
    {
      "cell_type": "markdown",
      "source": [
        "The raw difference is -39.8 which is lower than the raw difference of 10% discount. The Mean of the control group is 224.4 while it is 184.6 in the treatment group."
      ],
      "metadata": {
        "id": "DJs4Q_ctP-r-"
      }
    },
    {
      "cell_type": "markdown",
      "source": [
        "### Generate Propensity score "
      ],
      "metadata": {
        "id": "RbWDj8phQfvF"
      }
    },
    {
      "cell_type": "code",
      "source": [
        "causal1.est_propensity_s()\n",
        "print(causal1.propensity)"
      ],
      "metadata": {
        "colab": {
          "base_uri": "https://localhost:8080/"
        },
        "id": "rm0n4XHRQXIC",
        "outputId": "ccda9186-4ad3-416d-9051-485b0c42a50f"
      },
      "execution_count": 28,
      "outputs": [
        {
          "output_type": "stream",
          "name": "stdout",
          "text": [
            "\n",
            "Estimated Parameters of Propensity Score\n",
            "\n",
            "                    Coef.       S.e.          z      P>|z|      [95% Conf. int.]\n",
            "--------------------------------------------------------------------------------\n",
            "     Intercept     -0.767      0.385     -1.990      0.047     -1.522     -0.012\n",
            "            X6     -2.727      0.364     -7.496      0.000     -3.440     -2.014\n",
            "            X0      0.004      0.002      2.361      0.018      0.001      0.007\n",
            "            X1     -0.008      0.007     -1.093      0.274     -0.022      0.006\n",
            "            X4     -0.277      0.257     -1.078      0.281     -0.779      0.226\n",
            "            X8      1.781      0.395      4.513      0.000      1.007      2.554\n",
            "            X3     -0.165      0.173     -0.951      0.341     -0.504      0.175\n",
            "         X0*X0     -0.000      0.000     -3.461      0.001     -0.000     -0.000\n",
            "         X1*X8     -0.020      0.008     -2.655      0.008     -0.035     -0.005\n",
            "         X0*X8     -0.003      0.001     -3.048      0.002     -0.005     -0.001\n",
            "         X4*X8     -0.605      0.258     -2.341      0.019     -1.111     -0.099\n",
            "         X0*X1      0.000      0.000      2.120      0.034      0.000      0.000\n",
            "         X0*X4      0.002      0.001      1.661      0.097     -0.000      0.003\n",
            "\n"
          ]
        }
      ]
    },
    {
      "cell_type": "markdown",
      "source": [
        "### Improve the Covariate Balance"
      ],
      "metadata": {
        "id": "G6hJhWBZQxHw"
      }
    },
    {
      "cell_type": "code",
      "source": [
        "causal1.trim_s()\n",
        "causal1.cutoff"
      ],
      "metadata": {
        "colab": {
          "base_uri": "https://localhost:8080/"
        },
        "id": "oud2PzbVQpqu",
        "outputId": "d664101c-86a2-4f22-9836-5e761c93d1ec"
      },
      "execution_count": 29,
      "outputs": [
        {
          "output_type": "execute_result",
          "data": {
            "text/plain": [
              "0.1343873181655615"
            ]
          },
          "metadata": {},
          "execution_count": 29
        }
      ]
    },
    {
      "cell_type": "code",
      "source": [
        "print(causal1.summary_stats)"
      ],
      "metadata": {
        "colab": {
          "base_uri": "https://localhost:8080/"
        },
        "id": "ECAqAQr2Q74q",
        "outputId": "baf461f1-ecbe-4986-dfcd-6b8cc14a4a9c"
      },
      "execution_count": 30,
      "outputs": [
        {
          "output_type": "stream",
          "name": "stdout",
          "text": [
            "\n",
            "Summary Statistics\n",
            "\n",
            "                       Controls (N_c=614)         Treated (N_t=491)             \n",
            "       Variable         Mean         S.d.         Mean         S.d.     Raw-diff\n",
            "--------------------------------------------------------------------------------\n",
            "              Y      197.470      251.043      164.037      127.907      -33.432\n",
            "\n",
            "                       Controls (N_c=614)         Treated (N_t=491)             \n",
            "       Variable         Mean         S.d.         Mean         S.d.     Nor-diff\n",
            "--------------------------------------------------------------------------------\n",
            "             X0      146.227      132.620      188.913      149.849        0.302\n",
            "             X1       45.492       16.724       42.558       16.802       -0.175\n",
            "             X2       13.497        8.449       13.511        8.973        0.002\n",
            "             X3        0.178        0.382        0.181        0.386        0.010\n",
            "             X4        0.432        0.496        0.348        0.477       -0.171\n",
            "             X5        0.145        0.352        0.179        0.384        0.093\n",
            "             X6        0.010        0.098        0.002        0.045       -0.101\n",
            "             X7        0.261        0.439        0.228        0.420       -0.076\n",
            "             X8        0.533        0.499        0.570        0.496        0.076\n",
            "             X9        0.852        0.356        0.872        0.335        0.058\n",
            "\n"
          ]
        }
      ]
    },
    {
      "cell_type": "markdown",
      "source": [
        "The raw difference has been reduced from -39 to -33"
      ],
      "metadata": {
        "id": "ytJ1R-tcRJV9"
      }
    },
    {
      "cell_type": "code",
      "source": [
        "causal1.stratify_s()\n",
        "print(causal1.strata)"
      ],
      "metadata": {
        "colab": {
          "base_uri": "https://localhost:8080/"
        },
        "id": "LtvvkPafROzA",
        "outputId": "66b765a9-a699-4525-9a97-bd7e54d6256d"
      },
      "execution_count": 31,
      "outputs": [
        {
          "output_type": "stream",
          "name": "stdout",
          "text": [
            "\n",
            "Stratification Summary\n",
            "\n",
            "              Propensity Score         Sample Size     Ave. Propensity   Outcome\n",
            "   Stratum      Min.      Max.  Controls   Treated  Controls   Treated  Raw-diff\n",
            "--------------------------------------------------------------------------------\n",
            "         1     0.135     0.294       117        22     0.243     0.245   -12.403\n",
            "         2     0.295     0.341        94        44     0.319     0.315   -86.804\n",
            "         3     0.341     0.438       162       114     0.388     0.382   -82.874\n",
            "         4     0.439     0.544       145       131     0.496     0.495   -39.079\n",
            "         5     0.544     0.866        96       180     0.616     0.622  -116.410\n",
            "\n"
          ]
        }
      ]
    },
    {
      "cell_type": "code",
      "source": [
        "causal1.est_via_ols()\n",
        "causal1.est_via_weighting()\n",
        "causal1.est_via_matching(bias_adj=True)\n",
        "print(causal1.estimates)"
      ],
      "metadata": {
        "colab": {
          "base_uri": "https://localhost:8080/"
        },
        "id": "4xtBYRR2RiWC",
        "outputId": "b02d45dc-13bb-4daf-96f4-5b20eb24c58c"
      },
      "execution_count": 33,
      "outputs": [
        {
          "output_type": "stream",
          "name": "stdout",
          "text": [
            "\n",
            "Treatment Effect Estimates: OLS\n",
            "\n",
            "                     Est.       S.e.          z      P>|z|      [95% Conf. int.]\n",
            "--------------------------------------------------------------------------------\n",
            "           ATE    -69.145      8.107     -8.529      0.000    -85.034    -53.256\n",
            "           ATC    -69.036      8.320     -8.298      0.000    -85.343    -52.730\n",
            "           ATT    -69.281      8.238     -8.409      0.000    -85.429    -53.134\n",
            "\n",
            "Treatment Effect Estimates: Weighting\n",
            "\n",
            "                     Est.       S.e.          z      P>|z|      [95% Conf. int.]\n",
            "--------------------------------------------------------------------------------\n",
            "           ATE    -78.290     11.149     -7.022      0.000   -100.143    -56.438\n",
            "\n",
            "Treatment Effect Estimates: Matching\n",
            "\n",
            "                     Est.       S.e.          z      P>|z|      [95% Conf. int.]\n",
            "--------------------------------------------------------------------------------\n",
            "           ATE    -65.061     16.439     -3.958      0.000    -97.282    -32.840\n",
            "           ATC    -68.616     17.876     -3.839      0.000   -103.653    -33.580\n",
            "           ATT    -60.616     22.595     -2.683      0.007   -104.902    -16.329\n",
            "\n"
          ]
        }
      ]
    },
    {
      "cell_type": "markdown",
      "source": [
        "The ATE is poorer with 15% discount compared with 10% Discount."
      ],
      "metadata": {
        "id": "Yuuul32gSgmL"
      }
    },
    {
      "cell_type": "code",
      "source": [],
      "metadata": {
        "id": "3r_CMdEkSwdW"
      },
      "execution_count": null,
      "outputs": []
    }
  ]
}