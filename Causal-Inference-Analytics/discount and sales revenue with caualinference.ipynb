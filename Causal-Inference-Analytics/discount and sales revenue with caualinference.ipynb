{
 "cells": [
  {
   "cell_type": "code",
   "execution_count": null,
   "metadata": {
    "id": "jOEb71rb-COV"
   },
   "outputs": [],
   "source": [
    "!pip install causalinference"
   ]
  },
  {
   "cell_type": "code",
   "execution_count": 2,
   "metadata": {
    "id": "WA_gcwoG-gMJ"
   },
   "outputs": [],
   "source": [
    "import pandas as pd\n",
    "import numpy as np\n",
    "import matplotlib.pyplot as plt\n",
    "import seaborn as sns\n",
    "from causalinference import CausalModel\n",
    "import warnings\n",
    "warnings.filterwarnings('ignore')"
   ]
  },
  {
   "cell_type": "code",
   "execution_count": 3,
   "metadata": {
    "colab": {
     "base_uri": "https://localhost:8080/",
     "height": 470
    },
    "id": "v_XnXw2d-dN-",
    "outputId": "a920d36c-2648-4862-9ddf-3f4731065766"
   },
   "outputs": [
    {
     "data": {
      "text/html": [
       "\n",
       "  <div id=\"df-207d219e-7465-4edf-8233-a8edf7855ea6\">\n",
       "    <div class=\"colab-df-container\">\n",
       "      <div>\n",
       "<style scoped>\n",
       "    .dataframe tbody tr th:only-of-type {\n",
       "        vertical-align: middle;\n",
       "    }\n",
       "\n",
       "    .dataframe tbody tr th {\n",
       "        vertical-align: top;\n",
       "    }\n",
       "\n",
       "    .dataframe thead th {\n",
       "        text-align: right;\n",
       "    }\n",
       "</style>\n",
       "<table border=\"1\" class=\"dataframe\">\n",
       "  <thead>\n",
       "    <tr style=\"text-align: right;\">\n",
       "      <th></th>\n",
       "      <th>order_id</th>\n",
       "      <th>order_date</th>\n",
       "      <th>status</th>\n",
       "      <th>item_id</th>\n",
       "      <th>sku</th>\n",
       "      <th>qty_ordered</th>\n",
       "      <th>price</th>\n",
       "      <th>value</th>\n",
       "      <th>discount_amount</th>\n",
       "      <th>total</th>\n",
       "      <th>...</th>\n",
       "      <th>SSN</th>\n",
       "      <th>Phone No.</th>\n",
       "      <th>Place Name</th>\n",
       "      <th>County</th>\n",
       "      <th>City</th>\n",
       "      <th>State</th>\n",
       "      <th>Zip</th>\n",
       "      <th>Region</th>\n",
       "      <th>User Name</th>\n",
       "      <th>Discount_Percent</th>\n",
       "    </tr>\n",
       "  </thead>\n",
       "  <tbody>\n",
       "    <tr>\n",
       "      <th>0</th>\n",
       "      <td>100354678</td>\n",
       "      <td>2020-10-01</td>\n",
       "      <td>received</td>\n",
       "      <td>574772.0</td>\n",
       "      <td>oasis_Oasis-064-36</td>\n",
       "      <td>22.0</td>\n",
       "      <td>89.9</td>\n",
       "      <td>1798.0</td>\n",
       "      <td>0.0</td>\n",
       "      <td>1798.0</td>\n",
       "      <td>...</td>\n",
       "      <td>627-31-5251</td>\n",
       "      <td>405-959-1129</td>\n",
       "      <td>Vinson</td>\n",
       "      <td>Harmon</td>\n",
       "      <td>Vinson</td>\n",
       "      <td>OK</td>\n",
       "      <td>73571</td>\n",
       "      <td>South</td>\n",
       "      <td>jwtitus</td>\n",
       "      <td>0.0</td>\n",
       "    </tr>\n",
       "    <tr>\n",
       "      <th>1</th>\n",
       "      <td>100354678</td>\n",
       "      <td>2020-10-01</td>\n",
       "      <td>received</td>\n",
       "      <td>574774.0</td>\n",
       "      <td>Fantastic_FT-48</td>\n",
       "      <td>12.0</td>\n",
       "      <td>19.0</td>\n",
       "      <td>190.0</td>\n",
       "      <td>0.0</td>\n",
       "      <td>190.0</td>\n",
       "      <td>...</td>\n",
       "      <td>627-31-5251</td>\n",
       "      <td>405-959-1129</td>\n",
       "      <td>Vinson</td>\n",
       "      <td>Harmon</td>\n",
       "      <td>Vinson</td>\n",
       "      <td>OK</td>\n",
       "      <td>73571</td>\n",
       "      <td>South</td>\n",
       "      <td>jwtitus</td>\n",
       "      <td>0.0</td>\n",
       "    </tr>\n",
       "    <tr>\n",
       "      <th>2</th>\n",
       "      <td>100354680</td>\n",
       "      <td>2020-10-01</td>\n",
       "      <td>complete</td>\n",
       "      <td>574777.0</td>\n",
       "      <td>mdeal_DMC-610-8</td>\n",
       "      <td>10.0</td>\n",
       "      <td>149.9</td>\n",
       "      <td>1199.2</td>\n",
       "      <td>0.0</td>\n",
       "      <td>1199.2</td>\n",
       "      <td>...</td>\n",
       "      <td>627-31-5251</td>\n",
       "      <td>405-959-1129</td>\n",
       "      <td>Vinson</td>\n",
       "      <td>Harmon</td>\n",
       "      <td>Vinson</td>\n",
       "      <td>OK</td>\n",
       "      <td>73571</td>\n",
       "      <td>South</td>\n",
       "      <td>jwtitus</td>\n",
       "      <td>0.0</td>\n",
       "    </tr>\n",
       "    <tr>\n",
       "      <th>3</th>\n",
       "      <td>100354680</td>\n",
       "      <td>2020-10-01</td>\n",
       "      <td>complete</td>\n",
       "      <td>574779.0</td>\n",
       "      <td>oasis_Oasis-061-36</td>\n",
       "      <td>10.0</td>\n",
       "      <td>79.9</td>\n",
       "      <td>639.2</td>\n",
       "      <td>0.0</td>\n",
       "      <td>639.2</td>\n",
       "      <td>...</td>\n",
       "      <td>627-31-5251</td>\n",
       "      <td>405-959-1129</td>\n",
       "      <td>Vinson</td>\n",
       "      <td>Harmon</td>\n",
       "      <td>Vinson</td>\n",
       "      <td>OK</td>\n",
       "      <td>73571</td>\n",
       "      <td>South</td>\n",
       "      <td>jwtitus</td>\n",
       "      <td>0.0</td>\n",
       "    </tr>\n",
       "    <tr>\n",
       "      <th>4</th>\n",
       "      <td>100367357</td>\n",
       "      <td>2020-11-13</td>\n",
       "      <td>received</td>\n",
       "      <td>595185.0</td>\n",
       "      <td>MEFNAR59C38B6CA08CD</td>\n",
       "      <td>3.0</td>\n",
       "      <td>99.9</td>\n",
       "      <td>99.9</td>\n",
       "      <td>0.0</td>\n",
       "      <td>99.9</td>\n",
       "      <td>...</td>\n",
       "      <td>627-31-5251</td>\n",
       "      <td>405-959-1129</td>\n",
       "      <td>Vinson</td>\n",
       "      <td>Harmon</td>\n",
       "      <td>Vinson</td>\n",
       "      <td>OK</td>\n",
       "      <td>73571</td>\n",
       "      <td>South</td>\n",
       "      <td>jwtitus</td>\n",
       "      <td>0.0</td>\n",
       "    </tr>\n",
       "  </tbody>\n",
       "</table>\n",
       "<p>5 rows × 36 columns</p>\n",
       "</div>\n",
       "      <button class=\"colab-df-convert\" onclick=\"convertToInteractive('df-207d219e-7465-4edf-8233-a8edf7855ea6')\"\n",
       "              title=\"Convert this dataframe to an interactive table.\"\n",
       "              style=\"display:none;\">\n",
       "        \n",
       "  <svg xmlns=\"http://www.w3.org/2000/svg\" height=\"24px\"viewBox=\"0 0 24 24\"\n",
       "       width=\"24px\">\n",
       "    <path d=\"M0 0h24v24H0V0z\" fill=\"none\"/>\n",
       "    <path d=\"M18.56 5.44l.94 2.06.94-2.06 2.06-.94-2.06-.94-.94-2.06-.94 2.06-2.06.94zm-11 1L8.5 8.5l.94-2.06 2.06-.94-2.06-.94L8.5 2.5l-.94 2.06-2.06.94zm10 10l.94 2.06.94-2.06 2.06-.94-2.06-.94-.94-2.06-.94 2.06-2.06.94z\"/><path d=\"M17.41 7.96l-1.37-1.37c-.4-.4-.92-.59-1.43-.59-.52 0-1.04.2-1.43.59L10.3 9.45l-7.72 7.72c-.78.78-.78 2.05 0 2.83L4 21.41c.39.39.9.59 1.41.59.51 0 1.02-.2 1.41-.59l7.78-7.78 2.81-2.81c.8-.78.8-2.07 0-2.86zM5.41 20L4 18.59l7.72-7.72 1.47 1.35L5.41 20z\"/>\n",
       "  </svg>\n",
       "      </button>\n",
       "      \n",
       "  <style>\n",
       "    .colab-df-container {\n",
       "      display:flex;\n",
       "      flex-wrap:wrap;\n",
       "      gap: 12px;\n",
       "    }\n",
       "\n",
       "    .colab-df-convert {\n",
       "      background-color: #E8F0FE;\n",
       "      border: none;\n",
       "      border-radius: 50%;\n",
       "      cursor: pointer;\n",
       "      display: none;\n",
       "      fill: #1967D2;\n",
       "      height: 32px;\n",
       "      padding: 0 0 0 0;\n",
       "      width: 32px;\n",
       "    }\n",
       "\n",
       "    .colab-df-convert:hover {\n",
       "      background-color: #E2EBFA;\n",
       "      box-shadow: 0px 1px 2px rgba(60, 64, 67, 0.3), 0px 1px 3px 1px rgba(60, 64, 67, 0.15);\n",
       "      fill: #174EA6;\n",
       "    }\n",
       "\n",
       "    [theme=dark] .colab-df-convert {\n",
       "      background-color: #3B4455;\n",
       "      fill: #D2E3FC;\n",
       "    }\n",
       "\n",
       "    [theme=dark] .colab-df-convert:hover {\n",
       "      background-color: #434B5C;\n",
       "      box-shadow: 0px 1px 3px 1px rgba(0, 0, 0, 0.15);\n",
       "      filter: drop-shadow(0px 1px 2px rgba(0, 0, 0, 0.3));\n",
       "      fill: #FFFFFF;\n",
       "    }\n",
       "  </style>\n",
       "\n",
       "      <script>\n",
       "        const buttonEl =\n",
       "          document.querySelector('#df-207d219e-7465-4edf-8233-a8edf7855ea6 button.colab-df-convert');\n",
       "        buttonEl.style.display =\n",
       "          google.colab.kernel.accessAllowed ? 'block' : 'none';\n",
       "\n",
       "        async function convertToInteractive(key) {\n",
       "          const element = document.querySelector('#df-207d219e-7465-4edf-8233-a8edf7855ea6');\n",
       "          const dataTable =\n",
       "            await google.colab.kernel.invokeFunction('convertToInteractive',\n",
       "                                                     [key], {});\n",
       "          if (!dataTable) return;\n",
       "\n",
       "          const docLinkHtml = 'Like what you see? Visit the ' +\n",
       "            '<a target=\"_blank\" href=https://colab.research.google.com/notebooks/data_table.ipynb>data table notebook</a>'\n",
       "            + ' to learn more about interactive tables.';\n",
       "          element.innerHTML = '';\n",
       "          dataTable['output_type'] = 'display_data';\n",
       "          await google.colab.output.renderOutput(dataTable, element);\n",
       "          const docLink = document.createElement('div');\n",
       "          docLink.innerHTML = docLinkHtml;\n",
       "          element.appendChild(docLink);\n",
       "        }\n",
       "      </script>\n",
       "    </div>\n",
       "  </div>\n",
       "  "
      ],
      "text/plain": [
       "    order_id  order_date    status   item_id                  sku  \\\n",
       "0  100354678  2020-10-01  received  574772.0   oasis_Oasis-064-36   \n",
       "1  100354678  2020-10-01  received  574774.0      Fantastic_FT-48   \n",
       "2  100354680  2020-10-01  complete  574777.0      mdeal_DMC-610-8   \n",
       "3  100354680  2020-10-01  complete  574779.0   oasis_Oasis-061-36   \n",
       "4  100367357  2020-11-13  received  595185.0  MEFNAR59C38B6CA08CD   \n",
       "\n",
       "   qty_ordered  price   value  discount_amount   total  ...          SSN  \\\n",
       "0         22.0   89.9  1798.0              0.0  1798.0  ...  627-31-5251   \n",
       "1         12.0   19.0   190.0              0.0   190.0  ...  627-31-5251   \n",
       "2         10.0  149.9  1199.2              0.0  1199.2  ...  627-31-5251   \n",
       "3         10.0   79.9   639.2              0.0   639.2  ...  627-31-5251   \n",
       "4          3.0   99.9    99.9              0.0    99.9  ...  627-31-5251   \n",
       "\n",
       "     Phone No.  Place Name  County    City State    Zip Region User Name  \\\n",
       "0  405-959-1129     Vinson  Harmon  Vinson    OK  73571  South   jwtitus   \n",
       "1  405-959-1129     Vinson  Harmon  Vinson    OK  73571  South   jwtitus   \n",
       "2  405-959-1129     Vinson  Harmon  Vinson    OK  73571  South   jwtitus   \n",
       "3  405-959-1129     Vinson  Harmon  Vinson    OK  73571  South   jwtitus   \n",
       "4  405-959-1129     Vinson  Harmon  Vinson    OK  73571  South   jwtitus   \n",
       "\n",
       "  Discount_Percent  \n",
       "0              0.0  \n",
       "1              0.0  \n",
       "2              0.0  \n",
       "3              0.0  \n",
       "4              0.0  \n",
       "\n",
       "[5 rows x 36 columns]"
      ]
     },
     "execution_count": 3,
     "metadata": {},
     "output_type": "execute_result"
    }
   ],
   "source": [
    "datasets = pd.read_csv('/content/drive/MyDrive/CausalInference/sales_dataset.csv')\n",
    "datasets.head()"
   ]
  },
  {
   "cell_type": "code",
   "execution_count": 4,
   "metadata": {
    "colab": {
     "base_uri": "https://localhost:8080/"
    },
    "id": "jn0iKAVk-sh6",
    "outputId": "a5f7a598-e408-40e9-edd2-97c562ea56e8"
   },
   "outputs": [
    {
     "data": {
      "text/plain": [
       "(286392, 36)"
      ]
     },
     "execution_count": 4,
     "metadata": {},
     "output_type": "execute_result"
    }
   ],
   "source": [
    "datasets.shape"
   ]
  },
  {
   "cell_type": "code",
   "execution_count": 5,
   "metadata": {
    "colab": {
     "base_uri": "https://localhost:8080/"
    },
    "id": "A9MrthOV-1U_",
    "outputId": "8e457085-7ef4-45d0-dae2-06db11f27b1e"
   },
   "outputs": [
    {
     "name": "stdout",
     "output_type": "stream",
     "text": [
      "<class 'pandas.core.frame.DataFrame'>\n",
      "RangeIndex: 286392 entries, 0 to 286391\n",
      "Data columns (total 36 columns):\n",
      " #   Column            Non-Null Count   Dtype  \n",
      "---  ------            --------------   -----  \n",
      " 0   order_id          286392 non-null  object \n",
      " 1   order_date        286392 non-null  object \n",
      " 2   status            286392 non-null  object \n",
      " 3   item_id           286392 non-null  float64\n",
      " 4   sku               286392 non-null  object \n",
      " 5   qty_ordered       286392 non-null  float64\n",
      " 6   price             286392 non-null  float64\n",
      " 7   value             286392 non-null  float64\n",
      " 8   discount_amount   286392 non-null  float64\n",
      " 9   total             286392 non-null  float64\n",
      " 10  category          286392 non-null  object \n",
      " 11  payment_method    286392 non-null  object \n",
      " 12  bi_st             286392 non-null  object \n",
      " 13  cust_id           286392 non-null  float64\n",
      " 14  year              286392 non-null  int64  \n",
      " 15  month             286392 non-null  object \n",
      " 16  ref_num           286392 non-null  int64  \n",
      " 17  Name Prefix       286392 non-null  object \n",
      " 18  First Name        286392 non-null  object \n",
      " 19  Middle Initial    286392 non-null  object \n",
      " 20  Last Name         286392 non-null  object \n",
      " 21  Gender            286392 non-null  object \n",
      " 22  age               286392 non-null  float64\n",
      " 23  full_name         286392 non-null  object \n",
      " 24  E Mail            286392 non-null  object \n",
      " 25  Customer Since    286392 non-null  object \n",
      " 26  SSN               286392 non-null  object \n",
      " 27  Phone No.         286392 non-null  object \n",
      " 28  Place Name        286392 non-null  object \n",
      " 29  County            286392 non-null  object \n",
      " 30  City              286392 non-null  object \n",
      " 31  State             286392 non-null  object \n",
      " 32  Zip               286392 non-null  int64  \n",
      " 33  Region            286392 non-null  object \n",
      " 34  User Name         286392 non-null  object \n",
      " 35  Discount_Percent  286392 non-null  float64\n",
      "dtypes: float64(9), int64(3), object(24)\n",
      "memory usage: 78.7+ MB\n"
     ]
    }
   ],
   "source": [
    "datasets.info()"
   ]
  },
  {
   "cell_type": "code",
   "execution_count": 6,
   "metadata": {
    "colab": {
     "base_uri": "https://localhost:8080/"
    },
    "id": "aHw4EsvA-3es",
    "outputId": "486decac-c26f-4190-fce9-2a21dae0764e"
   },
   "outputs": [
    {
     "data": {
      "text/plain": [
       "0.000000     183086\n",
       "20.000000     10510\n",
       "10.000000      8459\n",
       "15.000000      4985\n",
       "9.000000       2074\n",
       "              ...  \n",
       "17.016538         1\n",
       "17.128112         1\n",
       "3.671476          1\n",
       "12.241249         1\n",
       "62.727273         1\n",
       "Name: Discount_Percent, Length: 17133, dtype: int64"
      ]
     },
     "execution_count": 6,
     "metadata": {},
     "output_type": "execute_result"
    }
   ],
   "source": [
    "# Check for the treatment values\n",
    "\n",
    "datasets['Discount_Percent'].value_counts()"
   ]
  },
  {
   "cell_type": "code",
   "execution_count": 7,
   "metadata": {
    "colab": {
     "base_uri": "https://localhost:8080/"
    },
    "id": "MFnbuTKz_ASg",
    "outputId": "9a797436-be95-41d0-eaba-af99b77d8df9"
   },
   "outputs": [
    {
     "data": {
      "text/plain": [
       "South        103482\n",
       "Midwest       81299\n",
       "West          51080\n",
       "Northeast     50531\n",
       "Name: Region, dtype: int64"
      ]
     },
     "execution_count": 7,
     "metadata": {},
     "output_type": "execute_result"
    }
   ],
   "source": [
    "# Check for distribution of region\n",
    "\n",
    "datasets['Region'].value_counts()"
   ]
  },
  {
   "cell_type": "code",
   "execution_count": 8,
   "metadata": {
    "colab": {
     "base_uri": "https://localhost:8080/"
    },
    "id": "zAciMYLI_CbD",
    "outputId": "57387993-247d-4757-b0c3-9a2b82856f79"
   },
   "outputs": [
    {
     "data": {
      "text/plain": [
       "Mobiles & Tablets     61761\n",
       "Men's Fashion         40713\n",
       "Appliances            33034\n",
       "Women's Fashion       28334\n",
       "Others                26108\n",
       "Beauty & Grooming     17899\n",
       "Entertainment         17352\n",
       "Superstore            15024\n",
       "Home & Living         13990\n",
       "Health & Sports        8421\n",
       "Computing              8110\n",
       "Soghaat                7250\n",
       "Kids & Baby            6492\n",
       "School & Education     1090\n",
       "Books                   814\n",
       "Name: category, dtype: int64"
      ]
     },
     "execution_count": 8,
     "metadata": {},
     "output_type": "execute_result"
    }
   ],
   "source": [
    "# Check for the category of products sold\n",
    "\n",
    "datasets['category'].value_counts()"
   ]
  },
  {
   "cell_type": "code",
   "execution_count": 9,
   "metadata": {
    "colab": {
     "base_uri": "https://localhost:8080/"
    },
    "id": "q1pBqSMS_Kx2",
    "outputId": "dbff63ea-3239-412f-cf61-041e40f78c97"
   },
   "outputs": [
    {
     "data": {
      "text/plain": [
       "Mr.      103506\n",
       "Ms.       60314\n",
       "Mrs.      47247\n",
       "Hon.      30439\n",
       "Drs.      16180\n",
       "Prof.     14939\n",
       "Dr.       13767\n",
       "Name: Name Prefix, dtype: int64"
      ]
     },
     "execution_count": 9,
     "metadata": {},
     "output_type": "execute_result"
    }
   ],
   "source": [
    "# Check status of the customers\n",
    "\n",
    "datasets['Name Prefix'].value_counts()"
   ]
  },
  {
   "cell_type": "code",
   "execution_count": 10,
   "metadata": {
    "colab": {
     "base_uri": "https://localhost:8080/"
    },
    "id": "d_mz6OlY_PL6",
    "outputId": "74a401ad-fa9d-4277-d7cc-93647cb8fcef"
   },
   "outputs": [
    {
     "data": {
      "text/plain": [
       "Index(['order_id', 'order_date', 'status', 'item_id', 'sku', 'qty_ordered',\n",
       "       'price', 'value', 'discount_amount', 'total', 'category',\n",
       "       'payment_method', 'bi_st', 'cust_id', 'year', 'month', 'ref_num',\n",
       "       'Name Prefix', 'First Name', 'Middle Initial', 'Last Name', 'Gender',\n",
       "       'age', 'full_name', 'E Mail', 'Customer Since', 'SSN', 'Phone No. ',\n",
       "       'Place Name', 'County', 'City', 'State', 'Zip', 'Region', 'User Name',\n",
       "       'Discount_Percent'],\n",
       "      dtype='object')"
      ]
     },
     "execution_count": 10,
     "metadata": {},
     "output_type": "execute_result"
    }
   ],
   "source": [
    "# Feature Selection\n",
    "\n",
    "datasets.columns"
   ]
  },
  {
   "cell_type": "code",
   "execution_count": 11,
   "metadata": {
    "id": "5vPSI8m6_P5F"
   },
   "outputs": [],
   "source": [
    "variables = ['order_date','qty_ordered','price', 'value', 'discount_amount', 'total', 'category','payment_method',\n",
    "'Name Prefix','Gender','age','Customer Since','Region','Discount_Percent']"
   ]
  },
  {
   "cell_type": "code",
   "execution_count": 12,
   "metadata": {
    "colab": {
     "base_uri": "https://localhost:8080/",
     "height": 206
    },
    "id": "aI5kZrLL_eMf",
    "outputId": "f75ad9ef-ddbb-4921-c451-afb112d09aed"
   },
   "outputs": [
    {
     "data": {
      "text/html": [
       "\n",
       "  <div id=\"df-459afc58-a2dc-454d-a902-817df21433d9\">\n",
       "    <div class=\"colab-df-container\">\n",
       "      <div>\n",
       "<style scoped>\n",
       "    .dataframe tbody tr th:only-of-type {\n",
       "        vertical-align: middle;\n",
       "    }\n",
       "\n",
       "    .dataframe tbody tr th {\n",
       "        vertical-align: top;\n",
       "    }\n",
       "\n",
       "    .dataframe thead th {\n",
       "        text-align: right;\n",
       "    }\n",
       "</style>\n",
       "<table border=\"1\" class=\"dataframe\">\n",
       "  <thead>\n",
       "    <tr style=\"text-align: right;\">\n",
       "      <th></th>\n",
       "      <th>order_date</th>\n",
       "      <th>qty_ordered</th>\n",
       "      <th>price</th>\n",
       "      <th>value</th>\n",
       "      <th>discount_amount</th>\n",
       "      <th>total</th>\n",
       "      <th>category</th>\n",
       "      <th>payment_method</th>\n",
       "      <th>Name Prefix</th>\n",
       "      <th>Gender</th>\n",
       "      <th>age</th>\n",
       "      <th>Customer Since</th>\n",
       "      <th>Region</th>\n",
       "      <th>Discount_Percent</th>\n",
       "    </tr>\n",
       "  </thead>\n",
       "  <tbody>\n",
       "    <tr>\n",
       "      <th>0</th>\n",
       "      <td>2020-10-01</td>\n",
       "      <td>22.0</td>\n",
       "      <td>89.9</td>\n",
       "      <td>1798.0</td>\n",
       "      <td>0.0</td>\n",
       "      <td>1798.0</td>\n",
       "      <td>Men's Fashion</td>\n",
       "      <td>cod</td>\n",
       "      <td>Drs.</td>\n",
       "      <td>F</td>\n",
       "      <td>43.0</td>\n",
       "      <td>8/22/2006</td>\n",
       "      <td>South</td>\n",
       "      <td>0.0</td>\n",
       "    </tr>\n",
       "    <tr>\n",
       "      <th>1</th>\n",
       "      <td>2020-10-01</td>\n",
       "      <td>12.0</td>\n",
       "      <td>19.0</td>\n",
       "      <td>190.0</td>\n",
       "      <td>0.0</td>\n",
       "      <td>190.0</td>\n",
       "      <td>Men's Fashion</td>\n",
       "      <td>cod</td>\n",
       "      <td>Drs.</td>\n",
       "      <td>F</td>\n",
       "      <td>43.0</td>\n",
       "      <td>8/22/2006</td>\n",
       "      <td>South</td>\n",
       "      <td>0.0</td>\n",
       "    </tr>\n",
       "    <tr>\n",
       "      <th>2</th>\n",
       "      <td>2020-10-01</td>\n",
       "      <td>10.0</td>\n",
       "      <td>149.9</td>\n",
       "      <td>1199.2</td>\n",
       "      <td>0.0</td>\n",
       "      <td>1199.2</td>\n",
       "      <td>Men's Fashion</td>\n",
       "      <td>cod</td>\n",
       "      <td>Drs.</td>\n",
       "      <td>F</td>\n",
       "      <td>43.0</td>\n",
       "      <td>8/22/2006</td>\n",
       "      <td>South</td>\n",
       "      <td>0.0</td>\n",
       "    </tr>\n",
       "    <tr>\n",
       "      <th>3</th>\n",
       "      <td>2020-10-01</td>\n",
       "      <td>10.0</td>\n",
       "      <td>79.9</td>\n",
       "      <td>639.2</td>\n",
       "      <td>0.0</td>\n",
       "      <td>639.2</td>\n",
       "      <td>Men's Fashion</td>\n",
       "      <td>cod</td>\n",
       "      <td>Drs.</td>\n",
       "      <td>F</td>\n",
       "      <td>43.0</td>\n",
       "      <td>8/22/2006</td>\n",
       "      <td>South</td>\n",
       "      <td>0.0</td>\n",
       "    </tr>\n",
       "    <tr>\n",
       "      <th>4</th>\n",
       "      <td>2020-11-13</td>\n",
       "      <td>3.0</td>\n",
       "      <td>99.9</td>\n",
       "      <td>99.9</td>\n",
       "      <td>0.0</td>\n",
       "      <td>99.9</td>\n",
       "      <td>Men's Fashion</td>\n",
       "      <td>cod</td>\n",
       "      <td>Drs.</td>\n",
       "      <td>F</td>\n",
       "      <td>43.0</td>\n",
       "      <td>8/22/2006</td>\n",
       "      <td>South</td>\n",
       "      <td>0.0</td>\n",
       "    </tr>\n",
       "  </tbody>\n",
       "</table>\n",
       "</div>\n",
       "      <button class=\"colab-df-convert\" onclick=\"convertToInteractive('df-459afc58-a2dc-454d-a902-817df21433d9')\"\n",
       "              title=\"Convert this dataframe to an interactive table.\"\n",
       "              style=\"display:none;\">\n",
       "        \n",
       "  <svg xmlns=\"http://www.w3.org/2000/svg\" height=\"24px\"viewBox=\"0 0 24 24\"\n",
       "       width=\"24px\">\n",
       "    <path d=\"M0 0h24v24H0V0z\" fill=\"none\"/>\n",
       "    <path d=\"M18.56 5.44l.94 2.06.94-2.06 2.06-.94-2.06-.94-.94-2.06-.94 2.06-2.06.94zm-11 1L8.5 8.5l.94-2.06 2.06-.94-2.06-.94L8.5 2.5l-.94 2.06-2.06.94zm10 10l.94 2.06.94-2.06 2.06-.94-2.06-.94-.94-2.06-.94 2.06-2.06.94z\"/><path d=\"M17.41 7.96l-1.37-1.37c-.4-.4-.92-.59-1.43-.59-.52 0-1.04.2-1.43.59L10.3 9.45l-7.72 7.72c-.78.78-.78 2.05 0 2.83L4 21.41c.39.39.9.59 1.41.59.51 0 1.02-.2 1.41-.59l7.78-7.78 2.81-2.81c.8-.78.8-2.07 0-2.86zM5.41 20L4 18.59l7.72-7.72 1.47 1.35L5.41 20z\"/>\n",
       "  </svg>\n",
       "      </button>\n",
       "      \n",
       "  <style>\n",
       "    .colab-df-container {\n",
       "      display:flex;\n",
       "      flex-wrap:wrap;\n",
       "      gap: 12px;\n",
       "    }\n",
       "\n",
       "    .colab-df-convert {\n",
       "      background-color: #E8F0FE;\n",
       "      border: none;\n",
       "      border-radius: 50%;\n",
       "      cursor: pointer;\n",
       "      display: none;\n",
       "      fill: #1967D2;\n",
       "      height: 32px;\n",
       "      padding: 0 0 0 0;\n",
       "      width: 32px;\n",
       "    }\n",
       "\n",
       "    .colab-df-convert:hover {\n",
       "      background-color: #E2EBFA;\n",
       "      box-shadow: 0px 1px 2px rgba(60, 64, 67, 0.3), 0px 1px 3px 1px rgba(60, 64, 67, 0.15);\n",
       "      fill: #174EA6;\n",
       "    }\n",
       "\n",
       "    [theme=dark] .colab-df-convert {\n",
       "      background-color: #3B4455;\n",
       "      fill: #D2E3FC;\n",
       "    }\n",
       "\n",
       "    [theme=dark] .colab-df-convert:hover {\n",
       "      background-color: #434B5C;\n",
       "      box-shadow: 0px 1px 3px 1px rgba(0, 0, 0, 0.15);\n",
       "      filter: drop-shadow(0px 1px 2px rgba(0, 0, 0, 0.3));\n",
       "      fill: #FFFFFF;\n",
       "    }\n",
       "  </style>\n",
       "\n",
       "      <script>\n",
       "        const buttonEl =\n",
       "          document.querySelector('#df-459afc58-a2dc-454d-a902-817df21433d9 button.colab-df-convert');\n",
       "        buttonEl.style.display =\n",
       "          google.colab.kernel.accessAllowed ? 'block' : 'none';\n",
       "\n",
       "        async function convertToInteractive(key) {\n",
       "          const element = document.querySelector('#df-459afc58-a2dc-454d-a902-817df21433d9');\n",
       "          const dataTable =\n",
       "            await google.colab.kernel.invokeFunction('convertToInteractive',\n",
       "                                                     [key], {});\n",
       "          if (!dataTable) return;\n",
       "\n",
       "          const docLinkHtml = 'Like what you see? Visit the ' +\n",
       "            '<a target=\"_blank\" href=https://colab.research.google.com/notebooks/data_table.ipynb>data table notebook</a>'\n",
       "            + ' to learn more about interactive tables.';\n",
       "          element.innerHTML = '';\n",
       "          dataTable['output_type'] = 'display_data';\n",
       "          await google.colab.output.renderOutput(dataTable, element);\n",
       "          const docLink = document.createElement('div');\n",
       "          docLink.innerHTML = docLinkHtml;\n",
       "          element.appendChild(docLink);\n",
       "        }\n",
       "      </script>\n",
       "    </div>\n",
       "  </div>\n",
       "  "
      ],
      "text/plain": [
       "   order_date  qty_ordered  price   value  discount_amount   total  \\\n",
       "0  2020-10-01         22.0   89.9  1798.0              0.0  1798.0   \n",
       "1  2020-10-01         12.0   19.0   190.0              0.0   190.0   \n",
       "2  2020-10-01         10.0  149.9  1199.2              0.0  1199.2   \n",
       "3  2020-10-01         10.0   79.9   639.2              0.0   639.2   \n",
       "4  2020-11-13          3.0   99.9    99.9              0.0    99.9   \n",
       "\n",
       "        category payment_method Name Prefix Gender   age Customer Since  \\\n",
       "0  Men's Fashion            cod        Drs.      F  43.0      8/22/2006   \n",
       "1  Men's Fashion            cod        Drs.      F  43.0      8/22/2006   \n",
       "2  Men's Fashion            cod        Drs.      F  43.0      8/22/2006   \n",
       "3  Men's Fashion            cod        Drs.      F  43.0      8/22/2006   \n",
       "4  Men's Fashion            cod        Drs.      F  43.0      8/22/2006   \n",
       "\n",
       "  Region  Discount_Percent  \n",
       "0  South               0.0  \n",
       "1  South               0.0  \n",
       "2  South               0.0  \n",
       "3  South               0.0  \n",
       "4  South               0.0  "
      ]
     },
     "execution_count": 12,
     "metadata": {},
     "output_type": "execute_result"
    }
   ],
   "source": [
    "data = datasets[variables]\n",
    "data.head()"
   ]
  },
  {
   "cell_type": "code",
   "execution_count": 13,
   "metadata": {
    "id": "RmTXEQkZ_imU"
   },
   "outputs": [],
   "source": [
    "# Extract data for women's fashion\n",
    "\n",
    "w_data = data[data['category']==\"Women's Fashion\"]"
   ]
  },
  {
   "cell_type": "code",
   "execution_count": 14,
   "metadata": {
    "id": "E-xZpwAL_pPa"
   },
   "outputs": [],
   "source": [
    "# Calculate how long customer has been with the company\n",
    "\n",
    "import datetime as dt"
   ]
  },
  {
   "cell_type": "code",
   "execution_count": 15,
   "metadata": {
    "id": "Uax8LORa_vvz"
   },
   "outputs": [],
   "source": [
    "# convert the dates from string to dates\n",
    "\n",
    "w_data['order_date'] = pd.to_datetime(w_data['order_date'])\n",
    "w_data['customer_since'] = pd.to_datetime(w_data['Customer Since'])"
   ]
  },
  {
   "cell_type": "code",
   "execution_count": 16,
   "metadata": {
    "id": "2e_q1b2T_1hh"
   },
   "outputs": [],
   "source": [
    "w_data['diff'] = w_data['order_date'] - w_data['customer_since']"
   ]
  },
  {
   "cell_type": "code",
   "execution_count": 17,
   "metadata": {
    "id": "E0Dq6l_q_677"
   },
   "outputs": [],
   "source": [
    "w_data['diff'] = w_data['diff'].dt.days"
   ]
  },
  {
   "cell_type": "code",
   "execution_count": 18,
   "metadata": {
    "colab": {
     "base_uri": "https://localhost:8080/",
     "height": 206
    },
    "id": "MK-CzJ-G__oL",
    "outputId": "e71feded-1096-4d72-8e29-8c9a86064e82"
   },
   "outputs": [
    {
     "data": {
      "text/html": [
       "\n",
       "  <div id=\"df-e176ad07-735e-4641-8ee9-5ce7db012dd4\">\n",
       "    <div class=\"colab-df-container\">\n",
       "      <div>\n",
       "<style scoped>\n",
       "    .dataframe tbody tr th:only-of-type {\n",
       "        vertical-align: middle;\n",
       "    }\n",
       "\n",
       "    .dataframe tbody tr th {\n",
       "        vertical-align: top;\n",
       "    }\n",
       "\n",
       "    .dataframe thead th {\n",
       "        text-align: right;\n",
       "    }\n",
       "</style>\n",
       "<table border=\"1\" class=\"dataframe\">\n",
       "  <thead>\n",
       "    <tr style=\"text-align: right;\">\n",
       "      <th></th>\n",
       "      <th>order_date</th>\n",
       "      <th>qty_ordered</th>\n",
       "      <th>price</th>\n",
       "      <th>value</th>\n",
       "      <th>discount_amount</th>\n",
       "      <th>total</th>\n",
       "      <th>category</th>\n",
       "      <th>payment_method</th>\n",
       "      <th>Name Prefix</th>\n",
       "      <th>Gender</th>\n",
       "      <th>age</th>\n",
       "      <th>Customer Since</th>\n",
       "      <th>Region</th>\n",
       "      <th>Discount_Percent</th>\n",
       "      <th>customer_since</th>\n",
       "      <th>diff</th>\n",
       "    </tr>\n",
       "  </thead>\n",
       "  <tbody>\n",
       "    <tr>\n",
       "      <th>29</th>\n",
       "      <td>2020-10-01</td>\n",
       "      <td>3.0</td>\n",
       "      <td>140.0</td>\n",
       "      <td>140.0</td>\n",
       "      <td>0.0</td>\n",
       "      <td>140.0</td>\n",
       "      <td>Women's Fashion</td>\n",
       "      <td>cod</td>\n",
       "      <td>Mr.</td>\n",
       "      <td>M</td>\n",
       "      <td>65.0</td>\n",
       "      <td>6/27/2010</td>\n",
       "      <td>Midwest</td>\n",
       "      <td>0.0</td>\n",
       "      <td>2010-06-27</td>\n",
       "      <td>3749</td>\n",
       "    </tr>\n",
       "    <tr>\n",
       "      <th>72</th>\n",
       "      <td>2020-12-08</td>\n",
       "      <td>3.0</td>\n",
       "      <td>379.8</td>\n",
       "      <td>379.8</td>\n",
       "      <td>0.0</td>\n",
       "      <td>379.8</td>\n",
       "      <td>Women's Fashion</td>\n",
       "      <td>Payaxis</td>\n",
       "      <td>Ms.</td>\n",
       "      <td>F</td>\n",
       "      <td>71.0</td>\n",
       "      <td>3/31/2017</td>\n",
       "      <td>Midwest</td>\n",
       "      <td>0.0</td>\n",
       "      <td>2017-03-31</td>\n",
       "      <td>1348</td>\n",
       "    </tr>\n",
       "    <tr>\n",
       "      <th>158</th>\n",
       "      <td>2020-10-01</td>\n",
       "      <td>3.0</td>\n",
       "      <td>175.0</td>\n",
       "      <td>175.0</td>\n",
       "      <td>0.0</td>\n",
       "      <td>175.0</td>\n",
       "      <td>Women's Fashion</td>\n",
       "      <td>cod</td>\n",
       "      <td>Mr.</td>\n",
       "      <td>M</td>\n",
       "      <td>71.0</td>\n",
       "      <td>3/11/1986</td>\n",
       "      <td>South</td>\n",
       "      <td>0.0</td>\n",
       "      <td>1986-03-11</td>\n",
       "      <td>12623</td>\n",
       "    </tr>\n",
       "    <tr>\n",
       "      <th>165</th>\n",
       "      <td>2020-12-13</td>\n",
       "      <td>3.0</td>\n",
       "      <td>119.9</td>\n",
       "      <td>119.9</td>\n",
       "      <td>0.0</td>\n",
       "      <td>119.9</td>\n",
       "      <td>Women's Fashion</td>\n",
       "      <td>cod</td>\n",
       "      <td>Mr.</td>\n",
       "      <td>M</td>\n",
       "      <td>64.0</td>\n",
       "      <td>12/22/2005</td>\n",
       "      <td>South</td>\n",
       "      <td>0.0</td>\n",
       "      <td>2005-12-22</td>\n",
       "      <td>5470</td>\n",
       "    </tr>\n",
       "    <tr>\n",
       "      <th>166</th>\n",
       "      <td>2020-12-20</td>\n",
       "      <td>3.0</td>\n",
       "      <td>140.0</td>\n",
       "      <td>140.0</td>\n",
       "      <td>14.0</td>\n",
       "      <td>126.0</td>\n",
       "      <td>Women's Fashion</td>\n",
       "      <td>Easypay_MA</td>\n",
       "      <td>Mr.</td>\n",
       "      <td>M</td>\n",
       "      <td>64.0</td>\n",
       "      <td>12/22/2005</td>\n",
       "      <td>South</td>\n",
       "      <td>10.0</td>\n",
       "      <td>2005-12-22</td>\n",
       "      <td>5477</td>\n",
       "    </tr>\n",
       "  </tbody>\n",
       "</table>\n",
       "</div>\n",
       "      <button class=\"colab-df-convert\" onclick=\"convertToInteractive('df-e176ad07-735e-4641-8ee9-5ce7db012dd4')\"\n",
       "              title=\"Convert this dataframe to an interactive table.\"\n",
       "              style=\"display:none;\">\n",
       "        \n",
       "  <svg xmlns=\"http://www.w3.org/2000/svg\" height=\"24px\"viewBox=\"0 0 24 24\"\n",
       "       width=\"24px\">\n",
       "    <path d=\"M0 0h24v24H0V0z\" fill=\"none\"/>\n",
       "    <path d=\"M18.56 5.44l.94 2.06.94-2.06 2.06-.94-2.06-.94-.94-2.06-.94 2.06-2.06.94zm-11 1L8.5 8.5l.94-2.06 2.06-.94-2.06-.94L8.5 2.5l-.94 2.06-2.06.94zm10 10l.94 2.06.94-2.06 2.06-.94-2.06-.94-.94-2.06-.94 2.06-2.06.94z\"/><path d=\"M17.41 7.96l-1.37-1.37c-.4-.4-.92-.59-1.43-.59-.52 0-1.04.2-1.43.59L10.3 9.45l-7.72 7.72c-.78.78-.78 2.05 0 2.83L4 21.41c.39.39.9.59 1.41.59.51 0 1.02-.2 1.41-.59l7.78-7.78 2.81-2.81c.8-.78.8-2.07 0-2.86zM5.41 20L4 18.59l7.72-7.72 1.47 1.35L5.41 20z\"/>\n",
       "  </svg>\n",
       "      </button>\n",
       "      \n",
       "  <style>\n",
       "    .colab-df-container {\n",
       "      display:flex;\n",
       "      flex-wrap:wrap;\n",
       "      gap: 12px;\n",
       "    }\n",
       "\n",
       "    .colab-df-convert {\n",
       "      background-color: #E8F0FE;\n",
       "      border: none;\n",
       "      border-radius: 50%;\n",
       "      cursor: pointer;\n",
       "      display: none;\n",
       "      fill: #1967D2;\n",
       "      height: 32px;\n",
       "      padding: 0 0 0 0;\n",
       "      width: 32px;\n",
       "    }\n",
       "\n",
       "    .colab-df-convert:hover {\n",
       "      background-color: #E2EBFA;\n",
       "      box-shadow: 0px 1px 2px rgba(60, 64, 67, 0.3), 0px 1px 3px 1px rgba(60, 64, 67, 0.15);\n",
       "      fill: #174EA6;\n",
       "    }\n",
       "\n",
       "    [theme=dark] .colab-df-convert {\n",
       "      background-color: #3B4455;\n",
       "      fill: #D2E3FC;\n",
       "    }\n",
       "\n",
       "    [theme=dark] .colab-df-convert:hover {\n",
       "      background-color: #434B5C;\n",
       "      box-shadow: 0px 1px 3px 1px rgba(0, 0, 0, 0.15);\n",
       "      filter: drop-shadow(0px 1px 2px rgba(0, 0, 0, 0.3));\n",
       "      fill: #FFFFFF;\n",
       "    }\n",
       "  </style>\n",
       "\n",
       "      <script>\n",
       "        const buttonEl =\n",
       "          document.querySelector('#df-e176ad07-735e-4641-8ee9-5ce7db012dd4 button.colab-df-convert');\n",
       "        buttonEl.style.display =\n",
       "          google.colab.kernel.accessAllowed ? 'block' : 'none';\n",
       "\n",
       "        async function convertToInteractive(key) {\n",
       "          const element = document.querySelector('#df-e176ad07-735e-4641-8ee9-5ce7db012dd4');\n",
       "          const dataTable =\n",
       "            await google.colab.kernel.invokeFunction('convertToInteractive',\n",
       "                                                     [key], {});\n",
       "          if (!dataTable) return;\n",
       "\n",
       "          const docLinkHtml = 'Like what you see? Visit the ' +\n",
       "            '<a target=\"_blank\" href=https://colab.research.google.com/notebooks/data_table.ipynb>data table notebook</a>'\n",
       "            + ' to learn more about interactive tables.';\n",
       "          element.innerHTML = '';\n",
       "          dataTable['output_type'] = 'display_data';\n",
       "          await google.colab.output.renderOutput(dataTable, element);\n",
       "          const docLink = document.createElement('div');\n",
       "          docLink.innerHTML = docLinkHtml;\n",
       "          element.appendChild(docLink);\n",
       "        }\n",
       "      </script>\n",
       "    </div>\n",
       "  </div>\n",
       "  "
      ],
      "text/plain": [
       "    order_date  qty_ordered  price  value  discount_amount  total  \\\n",
       "29  2020-10-01          3.0  140.0  140.0              0.0  140.0   \n",
       "72  2020-12-08          3.0  379.8  379.8              0.0  379.8   \n",
       "158 2020-10-01          3.0  175.0  175.0              0.0  175.0   \n",
       "165 2020-12-13          3.0  119.9  119.9              0.0  119.9   \n",
       "166 2020-12-20          3.0  140.0  140.0             14.0  126.0   \n",
       "\n",
       "            category payment_method Name Prefix Gender   age Customer Since  \\\n",
       "29   Women's Fashion            cod         Mr.      M  65.0      6/27/2010   \n",
       "72   Women's Fashion        Payaxis         Ms.      F  71.0      3/31/2017   \n",
       "158  Women's Fashion            cod         Mr.      M  71.0      3/11/1986   \n",
       "165  Women's Fashion            cod         Mr.      M  64.0     12/22/2005   \n",
       "166  Women's Fashion     Easypay_MA         Mr.      M  64.0     12/22/2005   \n",
       "\n",
       "      Region  Discount_Percent customer_since   diff  \n",
       "29   Midwest               0.0     2010-06-27   3749  \n",
       "72   Midwest               0.0     2017-03-31   1348  \n",
       "158    South               0.0     1986-03-11  12623  \n",
       "165    South               0.0     2005-12-22   5470  \n",
       "166    South              10.0     2005-12-22   5477  "
      ]
     },
     "execution_count": 18,
     "metadata": {},
     "output_type": "execute_result"
    }
   ],
   "source": [
    "w_data.head()"
   ]
  },
  {
   "cell_type": "code",
   "execution_count": 19,
   "metadata": {
    "id": "EmwE8L-rAGbH"
   },
   "outputs": [],
   "source": [
    "# Convert diff to years\n",
    "\n",
    "w_data['cus_duration'] = round(w_data['diff']/365,0)"
   ]
  },
  {
   "cell_type": "code",
   "execution_count": 20,
   "metadata": {
    "colab": {
     "base_uri": "https://localhost:8080/",
     "height": 206
    },
    "id": "1MjpiAQKDEDo",
    "outputId": "421a5867-f41b-4422-fc63-05682e3c14c1"
   },
   "outputs": [
    {
     "data": {
      "text/html": [
       "\n",
       "  <div id=\"df-fb07ba6f-a8b9-4056-af72-e60631764cb8\">\n",
       "    <div class=\"colab-df-container\">\n",
       "      <div>\n",
       "<style scoped>\n",
       "    .dataframe tbody tr th:only-of-type {\n",
       "        vertical-align: middle;\n",
       "    }\n",
       "\n",
       "    .dataframe tbody tr th {\n",
       "        vertical-align: top;\n",
       "    }\n",
       "\n",
       "    .dataframe thead th {\n",
       "        text-align: right;\n",
       "    }\n",
       "</style>\n",
       "<table border=\"1\" class=\"dataframe\">\n",
       "  <thead>\n",
       "    <tr style=\"text-align: right;\">\n",
       "      <th></th>\n",
       "      <th>order_date</th>\n",
       "      <th>qty_ordered</th>\n",
       "      <th>price</th>\n",
       "      <th>value</th>\n",
       "      <th>discount_amount</th>\n",
       "      <th>total</th>\n",
       "      <th>category</th>\n",
       "      <th>payment_method</th>\n",
       "      <th>Name Prefix</th>\n",
       "      <th>Gender</th>\n",
       "      <th>age</th>\n",
       "      <th>Customer Since</th>\n",
       "      <th>Region</th>\n",
       "      <th>Discount_Percent</th>\n",
       "      <th>customer_since</th>\n",
       "      <th>diff</th>\n",
       "      <th>cus_duration</th>\n",
       "    </tr>\n",
       "  </thead>\n",
       "  <tbody>\n",
       "    <tr>\n",
       "      <th>29</th>\n",
       "      <td>2020-10-01</td>\n",
       "      <td>3.0</td>\n",
       "      <td>140.0</td>\n",
       "      <td>140.0</td>\n",
       "      <td>0.0</td>\n",
       "      <td>140.0</td>\n",
       "      <td>Women's Fashion</td>\n",
       "      <td>cod</td>\n",
       "      <td>Mr.</td>\n",
       "      <td>M</td>\n",
       "      <td>65.0</td>\n",
       "      <td>6/27/2010</td>\n",
       "      <td>Midwest</td>\n",
       "      <td>0.0</td>\n",
       "      <td>2010-06-27</td>\n",
       "      <td>3749</td>\n",
       "      <td>10.0</td>\n",
       "    </tr>\n",
       "    <tr>\n",
       "      <th>72</th>\n",
       "      <td>2020-12-08</td>\n",
       "      <td>3.0</td>\n",
       "      <td>379.8</td>\n",
       "      <td>379.8</td>\n",
       "      <td>0.0</td>\n",
       "      <td>379.8</td>\n",
       "      <td>Women's Fashion</td>\n",
       "      <td>Payaxis</td>\n",
       "      <td>Ms.</td>\n",
       "      <td>F</td>\n",
       "      <td>71.0</td>\n",
       "      <td>3/31/2017</td>\n",
       "      <td>Midwest</td>\n",
       "      <td>0.0</td>\n",
       "      <td>2017-03-31</td>\n",
       "      <td>1348</td>\n",
       "      <td>4.0</td>\n",
       "    </tr>\n",
       "    <tr>\n",
       "      <th>158</th>\n",
       "      <td>2020-10-01</td>\n",
       "      <td>3.0</td>\n",
       "      <td>175.0</td>\n",
       "      <td>175.0</td>\n",
       "      <td>0.0</td>\n",
       "      <td>175.0</td>\n",
       "      <td>Women's Fashion</td>\n",
       "      <td>cod</td>\n",
       "      <td>Mr.</td>\n",
       "      <td>M</td>\n",
       "      <td>71.0</td>\n",
       "      <td>3/11/1986</td>\n",
       "      <td>South</td>\n",
       "      <td>0.0</td>\n",
       "      <td>1986-03-11</td>\n",
       "      <td>12623</td>\n",
       "      <td>35.0</td>\n",
       "    </tr>\n",
       "    <tr>\n",
       "      <th>165</th>\n",
       "      <td>2020-12-13</td>\n",
       "      <td>3.0</td>\n",
       "      <td>119.9</td>\n",
       "      <td>119.9</td>\n",
       "      <td>0.0</td>\n",
       "      <td>119.9</td>\n",
       "      <td>Women's Fashion</td>\n",
       "      <td>cod</td>\n",
       "      <td>Mr.</td>\n",
       "      <td>M</td>\n",
       "      <td>64.0</td>\n",
       "      <td>12/22/2005</td>\n",
       "      <td>South</td>\n",
       "      <td>0.0</td>\n",
       "      <td>2005-12-22</td>\n",
       "      <td>5470</td>\n",
       "      <td>15.0</td>\n",
       "    </tr>\n",
       "    <tr>\n",
       "      <th>166</th>\n",
       "      <td>2020-12-20</td>\n",
       "      <td>3.0</td>\n",
       "      <td>140.0</td>\n",
       "      <td>140.0</td>\n",
       "      <td>14.0</td>\n",
       "      <td>126.0</td>\n",
       "      <td>Women's Fashion</td>\n",
       "      <td>Easypay_MA</td>\n",
       "      <td>Mr.</td>\n",
       "      <td>M</td>\n",
       "      <td>64.0</td>\n",
       "      <td>12/22/2005</td>\n",
       "      <td>South</td>\n",
       "      <td>10.0</td>\n",
       "      <td>2005-12-22</td>\n",
       "      <td>5477</td>\n",
       "      <td>15.0</td>\n",
       "    </tr>\n",
       "  </tbody>\n",
       "</table>\n",
       "</div>\n",
       "      <button class=\"colab-df-convert\" onclick=\"convertToInteractive('df-fb07ba6f-a8b9-4056-af72-e60631764cb8')\"\n",
       "              title=\"Convert this dataframe to an interactive table.\"\n",
       "              style=\"display:none;\">\n",
       "        \n",
       "  <svg xmlns=\"http://www.w3.org/2000/svg\" height=\"24px\"viewBox=\"0 0 24 24\"\n",
       "       width=\"24px\">\n",
       "    <path d=\"M0 0h24v24H0V0z\" fill=\"none\"/>\n",
       "    <path d=\"M18.56 5.44l.94 2.06.94-2.06 2.06-.94-2.06-.94-.94-2.06-.94 2.06-2.06.94zm-11 1L8.5 8.5l.94-2.06 2.06-.94-2.06-.94L8.5 2.5l-.94 2.06-2.06.94zm10 10l.94 2.06.94-2.06 2.06-.94-2.06-.94-.94-2.06-.94 2.06-2.06.94z\"/><path d=\"M17.41 7.96l-1.37-1.37c-.4-.4-.92-.59-1.43-.59-.52 0-1.04.2-1.43.59L10.3 9.45l-7.72 7.72c-.78.78-.78 2.05 0 2.83L4 21.41c.39.39.9.59 1.41.59.51 0 1.02-.2 1.41-.59l7.78-7.78 2.81-2.81c.8-.78.8-2.07 0-2.86zM5.41 20L4 18.59l7.72-7.72 1.47 1.35L5.41 20z\"/>\n",
       "  </svg>\n",
       "      </button>\n",
       "      \n",
       "  <style>\n",
       "    .colab-df-container {\n",
       "      display:flex;\n",
       "      flex-wrap:wrap;\n",
       "      gap: 12px;\n",
       "    }\n",
       "\n",
       "    .colab-df-convert {\n",
       "      background-color: #E8F0FE;\n",
       "      border: none;\n",
       "      border-radius: 50%;\n",
       "      cursor: pointer;\n",
       "      display: none;\n",
       "      fill: #1967D2;\n",
       "      height: 32px;\n",
       "      padding: 0 0 0 0;\n",
       "      width: 32px;\n",
       "    }\n",
       "\n",
       "    .colab-df-convert:hover {\n",
       "      background-color: #E2EBFA;\n",
       "      box-shadow: 0px 1px 2px rgba(60, 64, 67, 0.3), 0px 1px 3px 1px rgba(60, 64, 67, 0.15);\n",
       "      fill: #174EA6;\n",
       "    }\n",
       "\n",
       "    [theme=dark] .colab-df-convert {\n",
       "      background-color: #3B4455;\n",
       "      fill: #D2E3FC;\n",
       "    }\n",
       "\n",
       "    [theme=dark] .colab-df-convert:hover {\n",
       "      background-color: #434B5C;\n",
       "      box-shadow: 0px 1px 3px 1px rgba(0, 0, 0, 0.15);\n",
       "      filter: drop-shadow(0px 1px 2px rgba(0, 0, 0, 0.3));\n",
       "      fill: #FFFFFF;\n",
       "    }\n",
       "  </style>\n",
       "\n",
       "      <script>\n",
       "        const buttonEl =\n",
       "          document.querySelector('#df-fb07ba6f-a8b9-4056-af72-e60631764cb8 button.colab-df-convert');\n",
       "        buttonEl.style.display =\n",
       "          google.colab.kernel.accessAllowed ? 'block' : 'none';\n",
       "\n",
       "        async function convertToInteractive(key) {\n",
       "          const element = document.querySelector('#df-fb07ba6f-a8b9-4056-af72-e60631764cb8');\n",
       "          const dataTable =\n",
       "            await google.colab.kernel.invokeFunction('convertToInteractive',\n",
       "                                                     [key], {});\n",
       "          if (!dataTable) return;\n",
       "\n",
       "          const docLinkHtml = 'Like what you see? Visit the ' +\n",
       "            '<a target=\"_blank\" href=https://colab.research.google.com/notebooks/data_table.ipynb>data table notebook</a>'\n",
       "            + ' to learn more about interactive tables.';\n",
       "          element.innerHTML = '';\n",
       "          dataTable['output_type'] = 'display_data';\n",
       "          await google.colab.output.renderOutput(dataTable, element);\n",
       "          const docLink = document.createElement('div');\n",
       "          docLink.innerHTML = docLinkHtml;\n",
       "          element.appendChild(docLink);\n",
       "        }\n",
       "      </script>\n",
       "    </div>\n",
       "  </div>\n",
       "  "
      ],
      "text/plain": [
       "    order_date  qty_ordered  price  value  discount_amount  total  \\\n",
       "29  2020-10-01          3.0  140.0  140.0              0.0  140.0   \n",
       "72  2020-12-08          3.0  379.8  379.8              0.0  379.8   \n",
       "158 2020-10-01          3.0  175.0  175.0              0.0  175.0   \n",
       "165 2020-12-13          3.0  119.9  119.9              0.0  119.9   \n",
       "166 2020-12-20          3.0  140.0  140.0             14.0  126.0   \n",
       "\n",
       "            category payment_method Name Prefix Gender   age Customer Since  \\\n",
       "29   Women's Fashion            cod         Mr.      M  65.0      6/27/2010   \n",
       "72   Women's Fashion        Payaxis         Ms.      F  71.0      3/31/2017   \n",
       "158  Women's Fashion            cod         Mr.      M  71.0      3/11/1986   \n",
       "165  Women's Fashion            cod         Mr.      M  64.0     12/22/2005   \n",
       "166  Women's Fashion     Easypay_MA         Mr.      M  64.0     12/22/2005   \n",
       "\n",
       "      Region  Discount_Percent customer_since   diff  cus_duration  \n",
       "29   Midwest               0.0     2010-06-27   3749          10.0  \n",
       "72   Midwest               0.0     2017-03-31   1348           4.0  \n",
       "158    South               0.0     1986-03-11  12623          35.0  \n",
       "165    South               0.0     2005-12-22   5470          15.0  \n",
       "166    South              10.0     2005-12-22   5477          15.0  "
      ]
     },
     "execution_count": 20,
     "metadata": {},
     "output_type": "execute_result"
    }
   ],
   "source": [
    "w_data.head()"
   ]
  },
  {
   "cell_type": "code",
   "execution_count": 21,
   "metadata": {
    "id": "q-RQVqY4DIE1"
   },
   "outputs": [],
   "source": [
    "w_data['Month'] = w_data['order_date'].dt.strftime('%B')"
   ]
  },
  {
   "cell_type": "code",
   "execution_count": 22,
   "metadata": {
    "colab": {
     "base_uri": "https://localhost:8080/"
    },
    "id": "Da3z3fc8EK5R",
    "outputId": "90dc91bd-fbfb-4bbd-87c5-52206cecae7f"
   },
   "outputs": [
    {
     "data": {
      "text/plain": [
       "December     7514\n",
       "June         2744\n",
       "January      2433\n",
       "May          2239\n",
       "April        2232\n",
       "March        2104\n",
       "November     2059\n",
       "July         1590\n",
       "September    1455\n",
       "February     1412\n",
       "October      1381\n",
       "August       1171\n",
       "Name: Month, dtype: int64"
      ]
     },
     "execution_count": 22,
     "metadata": {},
     "output_type": "execute_result"
    }
   ],
   "source": [
    "w_data['Month'].value_counts()"
   ]
  },
  {
   "cell_type": "code",
   "execution_count": 23,
   "metadata": {
    "id": "ZI-EHlyPEP_T"
   },
   "outputs": [],
   "source": [
    "# Create 4 seasons\n",
    "\n",
    "def season(x):\n",
    "    if x in ['March','April','May']:\n",
    "        return 'Spring'\n",
    "    elif x in ['June','July','August']:\n",
    "        return 'Summer'\n",
    "    elif x in ['September','October','November']:\n",
    "        return 'Fall'\n",
    "    else:\n",
    "        return 'Winter'"
   ]
  },
  {
   "cell_type": "code",
   "execution_count": 24,
   "metadata": {
    "id": "BB6pXaPZEZGb"
   },
   "outputs": [],
   "source": [
    "w_data['season'] = w_data['Month'].apply(season)"
   ]
  },
  {
   "cell_type": "code",
   "execution_count": 25,
   "metadata": {
    "id": "ALuu0hdIEfPm"
   },
   "outputs": [],
   "source": [
    "#  Qualifications\n",
    "\n",
    "def status(x):\n",
    "    if x in ['Drs.','Dr.','Prof.']:\n",
    "        return 'Doctorate_Degree'\n",
    "    else:\n",
    "        return 'Others'"
   ]
  },
  {
   "cell_type": "code",
   "execution_count": 26,
   "metadata": {
    "id": "fk7GP7BFEyoa"
   },
   "outputs": [],
   "source": [
    "w_data['degree'] = w_data['Name Prefix'].apply(status)"
   ]
  },
  {
   "cell_type": "code",
   "execution_count": 27,
   "metadata": {
    "id": "juumw7sgE4ku"
   },
   "outputs": [],
   "source": [
    "# Rename total as Sales, and customer_duration as duration in both groups\n",
    "\n",
    "new_names = {'total':'outcome','Discount_Percentage':'discount','payment_method':'paymethod'}\n",
    "w_data.rename(columns=new_names,inplace=True)"
   ]
  },
  {
   "cell_type": "code",
   "execution_count": 28,
   "metadata": {
    "id": "DQ3KR_7AE-NS"
   },
   "outputs": [],
   "source": [
    "# Create bins for customers age\n",
    "\n",
    "def catage(x):\n",
    "    if x <= 20:\n",
    "        return '< 20 yrs'\n",
    "    elif x <= 30:\n",
    "        return '21-30 yrs'\n",
    "    elif x <= 40:\n",
    "        return '31-40 yrs'\n",
    "    elif x <= 45:\n",
    "        return '41-45 yrs'\n",
    "    elif x <= 50:\n",
    "        return '46-50 yrs'\n",
    "    elif x <= 60:\n",
    "        return '51-60 yrs'\n",
    "    else:\n",
    "        return 'above 60 yrs'"
   ]
  },
  {
   "cell_type": "code",
   "execution_count": 29,
   "metadata": {
    "id": "cSUyhG1QFKda"
   },
   "outputs": [],
   "source": [
    "w_data['agecat'] = w_data['age'].apply(catage)"
   ]
  },
  {
   "cell_type": "code",
   "execution_count": 30,
   "metadata": {
    "colab": {
     "base_uri": "https://localhost:8080/"
    },
    "id": "TXRiSRo3FPkY",
    "outputId": "3949fec4-25a6-4162-8041-ce00324fa696"
   },
   "outputs": [
    {
     "data": {
      "text/plain": [
       "Index(['order_date', 'qty_ordered', 'price', 'value', 'discount_amount',\n",
       "       'outcome', 'category', 'paymethod', 'Name Prefix', 'Gender', 'age',\n",
       "       'Customer Since', 'Region', 'Discount_Percent', 'customer_since',\n",
       "       'diff', 'cus_duration', 'Month', 'season', 'degree', 'agecat'],\n",
       "      dtype='object')"
      ]
     },
     "execution_count": 30,
     "metadata": {},
     "output_type": "execute_result"
    }
   ],
   "source": [
    "### Select the covariates for Propensity Score Matching\n",
    "\n",
    "w_data.columns"
   ]
  },
  {
   "cell_type": "code",
   "execution_count": 31,
   "metadata": {
    "id": "O6oZGhpYFlvo"
   },
   "outputs": [],
   "source": [
    "covariates = ['price','outcome', 'Gender','Region', 'Discount_Percent', 'cus_duration',\n",
    "              'season', 'degree', 'agecat']"
   ]
  },
  {
   "cell_type": "code",
   "execution_count": 32,
   "metadata": {
    "id": "yfzSsd9cF24t"
   },
   "outputs": [],
   "source": [
    "### Select control and treatment groups\n",
    "\n",
    "df = w_data[covariates]\n",
    "treatment_pop = df[df['Discount_Percent']>0.00]\n",
    "control_pop = df[df['Discount_Percent']==0.00]"
   ]
  },
  {
   "cell_type": "code",
   "execution_count": 33,
   "metadata": {
    "colab": {
     "base_uri": "https://localhost:8080/"
    },
    "id": "B2sTwVnbGDN7",
    "outputId": "58b4ed36-a233-4124-e29b-78617164de02"
   },
   "outputs": [
    {
     "data": {
      "text/plain": [
       "((6309, 9), (22025, 9))"
      ]
     },
     "execution_count": 33,
     "metadata": {},
     "output_type": "execute_result"
    }
   ],
   "source": [
    "treatment_pop.shape,control_pop.shape"
   ]
  },
  {
   "cell_type": "code",
   "execution_count": 34,
   "metadata": {
    "id": "LOrtPJRzGMad"
   },
   "outputs": [],
   "source": [
    "treatment_pop['treatment'] =1\n",
    "control_pop['treatment']=0"
   ]
  },
  {
   "cell_type": "code",
   "execution_count": 35,
   "metadata": {
    "id": "Cb5_b0E3GbO1"
   },
   "outputs": [],
   "source": [
    "### Select a random sample of 1200 treatment and 1500 untreated\n",
    "\n",
    "treatment_sample = treatment_pop.sample(n=1200,random_state=42)\n",
    "control_sample = control_pop.sample(n=1600,random_state=42)"
   ]
  },
  {
   "cell_type": "code",
   "execution_count": 36,
   "metadata": {
    "id": "RXzu59M8G0Bm"
   },
   "outputs": [],
   "source": [
    "# combine the datasets\n",
    "\n",
    "df_w = pd.concat([treatment_sample,control_sample],axis=0)"
   ]
  },
  {
   "cell_type": "code",
   "execution_count": 37,
   "metadata": {
    "colab": {
     "base_uri": "https://localhost:8080/"
    },
    "id": "y6ChsODOG4f0",
    "outputId": "175973f1-c89a-4346-eacb-c38742b20530"
   },
   "outputs": [
    {
     "data": {
      "text/plain": [
       "(2800, 10)"
      ]
     },
     "execution_count": 37,
     "metadata": {},
     "output_type": "execute_result"
    }
   ],
   "source": [
    "df_w.shape"
   ]
  },
  {
   "cell_type": "code",
   "execution_count": 38,
   "metadata": {
    "colab": {
     "base_uri": "https://localhost:8080/",
     "height": 206
    },
    "id": "ZNkvThw_G8og",
    "outputId": "92507e86-26f2-4c68-dc77-9818c7cbf12c"
   },
   "outputs": [
    {
     "data": {
      "text/html": [
       "\n",
       "  <div id=\"df-7151b475-6d01-4ed2-8897-ec2b7e33317b\">\n",
       "    <div class=\"colab-df-container\">\n",
       "      <div>\n",
       "<style scoped>\n",
       "    .dataframe tbody tr th:only-of-type {\n",
       "        vertical-align: middle;\n",
       "    }\n",
       "\n",
       "    .dataframe tbody tr th {\n",
       "        vertical-align: top;\n",
       "    }\n",
       "\n",
       "    .dataframe thead th {\n",
       "        text-align: right;\n",
       "    }\n",
       "</style>\n",
       "<table border=\"1\" class=\"dataframe\">\n",
       "  <thead>\n",
       "    <tr style=\"text-align: right;\">\n",
       "      <th></th>\n",
       "      <th>price</th>\n",
       "      <th>outcome</th>\n",
       "      <th>Gender</th>\n",
       "      <th>Region</th>\n",
       "      <th>Discount_Percent</th>\n",
       "      <th>cus_duration</th>\n",
       "      <th>season</th>\n",
       "      <th>degree</th>\n",
       "      <th>agecat</th>\n",
       "      <th>treatment</th>\n",
       "    </tr>\n",
       "  </thead>\n",
       "  <tbody>\n",
       "    <tr>\n",
       "      <th>71938</th>\n",
       "      <td>69.90</td>\n",
       "      <td>62.910</td>\n",
       "      <td>M</td>\n",
       "      <td>Northeast</td>\n",
       "      <td>10.000000</td>\n",
       "      <td>19.0</td>\n",
       "      <td>Winter</td>\n",
       "      <td>Others</td>\n",
       "      <td>31-40 yrs</td>\n",
       "      <td>1</td>\n",
       "    </tr>\n",
       "    <tr>\n",
       "      <th>153603</th>\n",
       "      <td>74.25</td>\n",
       "      <td>59.896</td>\n",
       "      <td>F</td>\n",
       "      <td>South</td>\n",
       "      <td>19.331987</td>\n",
       "      <td>22.0</td>\n",
       "      <td>Winter</td>\n",
       "      <td>Others</td>\n",
       "      <td>21-30 yrs</td>\n",
       "      <td>1</td>\n",
       "    </tr>\n",
       "    <tr>\n",
       "      <th>10237</th>\n",
       "      <td>69.90</td>\n",
       "      <td>62.910</td>\n",
       "      <td>F</td>\n",
       "      <td>South</td>\n",
       "      <td>10.000000</td>\n",
       "      <td>6.0</td>\n",
       "      <td>Winter</td>\n",
       "      <td>Others</td>\n",
       "      <td>46-50 yrs</td>\n",
       "      <td>1</td>\n",
       "    </tr>\n",
       "    <tr>\n",
       "      <th>49789</th>\n",
       "      <td>265.00</td>\n",
       "      <td>0.000</td>\n",
       "      <td>F</td>\n",
       "      <td>Midwest</td>\n",
       "      <td>9.433962</td>\n",
       "      <td>5.0</td>\n",
       "      <td>Fall</td>\n",
       "      <td>Others</td>\n",
       "      <td>51-60 yrs</td>\n",
       "      <td>1</td>\n",
       "    </tr>\n",
       "    <tr>\n",
       "      <th>251408</th>\n",
       "      <td>259.00</td>\n",
       "      <td>543.900</td>\n",
       "      <td>F</td>\n",
       "      <td>Northeast</td>\n",
       "      <td>30.000000</td>\n",
       "      <td>9.0</td>\n",
       "      <td>Summer</td>\n",
       "      <td>Others</td>\n",
       "      <td>41-45 yrs</td>\n",
       "      <td>1</td>\n",
       "    </tr>\n",
       "  </tbody>\n",
       "</table>\n",
       "</div>\n",
       "      <button class=\"colab-df-convert\" onclick=\"convertToInteractive('df-7151b475-6d01-4ed2-8897-ec2b7e33317b')\"\n",
       "              title=\"Convert this dataframe to an interactive table.\"\n",
       "              style=\"display:none;\">\n",
       "        \n",
       "  <svg xmlns=\"http://www.w3.org/2000/svg\" height=\"24px\"viewBox=\"0 0 24 24\"\n",
       "       width=\"24px\">\n",
       "    <path d=\"M0 0h24v24H0V0z\" fill=\"none\"/>\n",
       "    <path d=\"M18.56 5.44l.94 2.06.94-2.06 2.06-.94-2.06-.94-.94-2.06-.94 2.06-2.06.94zm-11 1L8.5 8.5l.94-2.06 2.06-.94-2.06-.94L8.5 2.5l-.94 2.06-2.06.94zm10 10l.94 2.06.94-2.06 2.06-.94-2.06-.94-.94-2.06-.94 2.06-2.06.94z\"/><path d=\"M17.41 7.96l-1.37-1.37c-.4-.4-.92-.59-1.43-.59-.52 0-1.04.2-1.43.59L10.3 9.45l-7.72 7.72c-.78.78-.78 2.05 0 2.83L4 21.41c.39.39.9.59 1.41.59.51 0 1.02-.2 1.41-.59l7.78-7.78 2.81-2.81c.8-.78.8-2.07 0-2.86zM5.41 20L4 18.59l7.72-7.72 1.47 1.35L5.41 20z\"/>\n",
       "  </svg>\n",
       "      </button>\n",
       "      \n",
       "  <style>\n",
       "    .colab-df-container {\n",
       "      display:flex;\n",
       "      flex-wrap:wrap;\n",
       "      gap: 12px;\n",
       "    }\n",
       "\n",
       "    .colab-df-convert {\n",
       "      background-color: #E8F0FE;\n",
       "      border: none;\n",
       "      border-radius: 50%;\n",
       "      cursor: pointer;\n",
       "      display: none;\n",
       "      fill: #1967D2;\n",
       "      height: 32px;\n",
       "      padding: 0 0 0 0;\n",
       "      width: 32px;\n",
       "    }\n",
       "\n",
       "    .colab-df-convert:hover {\n",
       "      background-color: #E2EBFA;\n",
       "      box-shadow: 0px 1px 2px rgba(60, 64, 67, 0.3), 0px 1px 3px 1px rgba(60, 64, 67, 0.15);\n",
       "      fill: #174EA6;\n",
       "    }\n",
       "\n",
       "    [theme=dark] .colab-df-convert {\n",
       "      background-color: #3B4455;\n",
       "      fill: #D2E3FC;\n",
       "    }\n",
       "\n",
       "    [theme=dark] .colab-df-convert:hover {\n",
       "      background-color: #434B5C;\n",
       "      box-shadow: 0px 1px 3px 1px rgba(0, 0, 0, 0.15);\n",
       "      filter: drop-shadow(0px 1px 2px rgba(0, 0, 0, 0.3));\n",
       "      fill: #FFFFFF;\n",
       "    }\n",
       "  </style>\n",
       "\n",
       "      <script>\n",
       "        const buttonEl =\n",
       "          document.querySelector('#df-7151b475-6d01-4ed2-8897-ec2b7e33317b button.colab-df-convert');\n",
       "        buttonEl.style.display =\n",
       "          google.colab.kernel.accessAllowed ? 'block' : 'none';\n",
       "\n",
       "        async function convertToInteractive(key) {\n",
       "          const element = document.querySelector('#df-7151b475-6d01-4ed2-8897-ec2b7e33317b');\n",
       "          const dataTable =\n",
       "            await google.colab.kernel.invokeFunction('convertToInteractive',\n",
       "                                                     [key], {});\n",
       "          if (!dataTable) return;\n",
       "\n",
       "          const docLinkHtml = 'Like what you see? Visit the ' +\n",
       "            '<a target=\"_blank\" href=https://colab.research.google.com/notebooks/data_table.ipynb>data table notebook</a>'\n",
       "            + ' to learn more about interactive tables.';\n",
       "          element.innerHTML = '';\n",
       "          dataTable['output_type'] = 'display_data';\n",
       "          await google.colab.output.renderOutput(dataTable, element);\n",
       "          const docLink = document.createElement('div');\n",
       "          docLink.innerHTML = docLinkHtml;\n",
       "          element.appendChild(docLink);\n",
       "        }\n",
       "      </script>\n",
       "    </div>\n",
       "  </div>\n",
       "  "
      ],
      "text/plain": [
       "         price  outcome Gender     Region  Discount_Percent  cus_duration  \\\n",
       "71938    69.90   62.910      M  Northeast         10.000000          19.0   \n",
       "153603   74.25   59.896      F      South         19.331987          22.0   \n",
       "10237    69.90   62.910      F      South         10.000000           6.0   \n",
       "49789   265.00    0.000      F    Midwest          9.433962           5.0   \n",
       "251408  259.00  543.900      F  Northeast         30.000000           9.0   \n",
       "\n",
       "        season  degree     agecat  treatment  \n",
       "71938   Winter  Others  31-40 yrs          1  \n",
       "153603  Winter  Others  21-30 yrs          1  \n",
       "10237   Winter  Others  46-50 yrs          1  \n",
       "49789     Fall  Others  51-60 yrs          1  \n",
       "251408  Summer  Others  41-45 yrs          1  "
      ]
     },
     "execution_count": 38,
     "metadata": {},
     "output_type": "execute_result"
    }
   ],
   "source": [
    "df_w.head()"
   ]
  },
  {
   "cell_type": "code",
   "execution_count": 39,
   "metadata": {
    "colab": {
     "base_uri": "https://localhost:8080/",
     "height": 206
    },
    "id": "N414147jHCbX",
    "outputId": "bd135369-4403-41eb-b6e7-cea66a73d51e"
   },
   "outputs": [
    {
     "data": {
      "text/html": [
       "\n",
       "  <div id=\"df-1cc07b6c-594b-415c-a74f-6d7ff147c3c7\">\n",
       "    <div class=\"colab-df-container\">\n",
       "      <div>\n",
       "<style scoped>\n",
       "    .dataframe tbody tr th:only-of-type {\n",
       "        vertical-align: middle;\n",
       "    }\n",
       "\n",
       "    .dataframe tbody tr th {\n",
       "        vertical-align: top;\n",
       "    }\n",
       "\n",
       "    .dataframe thead th {\n",
       "        text-align: right;\n",
       "    }\n",
       "</style>\n",
       "<table border=\"1\" class=\"dataframe\">\n",
       "  <thead>\n",
       "    <tr style=\"text-align: right;\">\n",
       "      <th></th>\n",
       "      <th>price</th>\n",
       "      <th>outcome</th>\n",
       "      <th>Gender</th>\n",
       "      <th>Region</th>\n",
       "      <th>Discount_Percent</th>\n",
       "      <th>cus_duration</th>\n",
       "      <th>season</th>\n",
       "      <th>degree</th>\n",
       "      <th>agecat</th>\n",
       "      <th>treatment</th>\n",
       "    </tr>\n",
       "  </thead>\n",
       "  <tbody>\n",
       "    <tr>\n",
       "      <th>166483</th>\n",
       "      <td>49.90</td>\n",
       "      <td>49.9</td>\n",
       "      <td>F</td>\n",
       "      <td>Northeast</td>\n",
       "      <td>0.0</td>\n",
       "      <td>17.0</td>\n",
       "      <td>Winter</td>\n",
       "      <td>Doctorate_Degree</td>\n",
       "      <td>31-40 yrs</td>\n",
       "      <td>0</td>\n",
       "    </tr>\n",
       "    <tr>\n",
       "      <th>168442</th>\n",
       "      <td>447.50</td>\n",
       "      <td>447.5</td>\n",
       "      <td>M</td>\n",
       "      <td>South</td>\n",
       "      <td>0.0</td>\n",
       "      <td>5.0</td>\n",
       "      <td>Winter</td>\n",
       "      <td>Others</td>\n",
       "      <td>46-50 yrs</td>\n",
       "      <td>0</td>\n",
       "    </tr>\n",
       "    <tr>\n",
       "      <th>110335</th>\n",
       "      <td>201.75</td>\n",
       "      <td>1614.0</td>\n",
       "      <td>M</td>\n",
       "      <td>Northeast</td>\n",
       "      <td>0.0</td>\n",
       "      <td>31.0</td>\n",
       "      <td>Fall</td>\n",
       "      <td>Others</td>\n",
       "      <td>21-30 yrs</td>\n",
       "      <td>0</td>\n",
       "    </tr>\n",
       "    <tr>\n",
       "      <th>119697</th>\n",
       "      <td>149.90</td>\n",
       "      <td>149.9</td>\n",
       "      <td>F</td>\n",
       "      <td>South</td>\n",
       "      <td>0.0</td>\n",
       "      <td>22.0</td>\n",
       "      <td>Winter</td>\n",
       "      <td>Others</td>\n",
       "      <td>51-60 yrs</td>\n",
       "      <td>0</td>\n",
       "    </tr>\n",
       "    <tr>\n",
       "      <th>241347</th>\n",
       "      <td>99.50</td>\n",
       "      <td>99.5</td>\n",
       "      <td>F</td>\n",
       "      <td>South</td>\n",
       "      <td>0.0</td>\n",
       "      <td>19.0</td>\n",
       "      <td>Spring</td>\n",
       "      <td>Others</td>\n",
       "      <td>41-45 yrs</td>\n",
       "      <td>0</td>\n",
       "    </tr>\n",
       "  </tbody>\n",
       "</table>\n",
       "</div>\n",
       "      <button class=\"colab-df-convert\" onclick=\"convertToInteractive('df-1cc07b6c-594b-415c-a74f-6d7ff147c3c7')\"\n",
       "              title=\"Convert this dataframe to an interactive table.\"\n",
       "              style=\"display:none;\">\n",
       "        \n",
       "  <svg xmlns=\"http://www.w3.org/2000/svg\" height=\"24px\"viewBox=\"0 0 24 24\"\n",
       "       width=\"24px\">\n",
       "    <path d=\"M0 0h24v24H0V0z\" fill=\"none\"/>\n",
       "    <path d=\"M18.56 5.44l.94 2.06.94-2.06 2.06-.94-2.06-.94-.94-2.06-.94 2.06-2.06.94zm-11 1L8.5 8.5l.94-2.06 2.06-.94-2.06-.94L8.5 2.5l-.94 2.06-2.06.94zm10 10l.94 2.06.94-2.06 2.06-.94-2.06-.94-.94-2.06-.94 2.06-2.06.94z\"/><path d=\"M17.41 7.96l-1.37-1.37c-.4-.4-.92-.59-1.43-.59-.52 0-1.04.2-1.43.59L10.3 9.45l-7.72 7.72c-.78.78-.78 2.05 0 2.83L4 21.41c.39.39.9.59 1.41.59.51 0 1.02-.2 1.41-.59l7.78-7.78 2.81-2.81c.8-.78.8-2.07 0-2.86zM5.41 20L4 18.59l7.72-7.72 1.47 1.35L5.41 20z\"/>\n",
       "  </svg>\n",
       "      </button>\n",
       "      \n",
       "  <style>\n",
       "    .colab-df-container {\n",
       "      display:flex;\n",
       "      flex-wrap:wrap;\n",
       "      gap: 12px;\n",
       "    }\n",
       "\n",
       "    .colab-df-convert {\n",
       "      background-color: #E8F0FE;\n",
       "      border: none;\n",
       "      border-radius: 50%;\n",
       "      cursor: pointer;\n",
       "      display: none;\n",
       "      fill: #1967D2;\n",
       "      height: 32px;\n",
       "      padding: 0 0 0 0;\n",
       "      width: 32px;\n",
       "    }\n",
       "\n",
       "    .colab-df-convert:hover {\n",
       "      background-color: #E2EBFA;\n",
       "      box-shadow: 0px 1px 2px rgba(60, 64, 67, 0.3), 0px 1px 3px 1px rgba(60, 64, 67, 0.15);\n",
       "      fill: #174EA6;\n",
       "    }\n",
       "\n",
       "    [theme=dark] .colab-df-convert {\n",
       "      background-color: #3B4455;\n",
       "      fill: #D2E3FC;\n",
       "    }\n",
       "\n",
       "    [theme=dark] .colab-df-convert:hover {\n",
       "      background-color: #434B5C;\n",
       "      box-shadow: 0px 1px 3px 1px rgba(0, 0, 0, 0.15);\n",
       "      filter: drop-shadow(0px 1px 2px rgba(0, 0, 0, 0.3));\n",
       "      fill: #FFFFFF;\n",
       "    }\n",
       "  </style>\n",
       "\n",
       "      <script>\n",
       "        const buttonEl =\n",
       "          document.querySelector('#df-1cc07b6c-594b-415c-a74f-6d7ff147c3c7 button.colab-df-convert');\n",
       "        buttonEl.style.display =\n",
       "          google.colab.kernel.accessAllowed ? 'block' : 'none';\n",
       "\n",
       "        async function convertToInteractive(key) {\n",
       "          const element = document.querySelector('#df-1cc07b6c-594b-415c-a74f-6d7ff147c3c7');\n",
       "          const dataTable =\n",
       "            await google.colab.kernel.invokeFunction('convertToInteractive',\n",
       "                                                     [key], {});\n",
       "          if (!dataTable) return;\n",
       "\n",
       "          const docLinkHtml = 'Like what you see? Visit the ' +\n",
       "            '<a target=\"_blank\" href=https://colab.research.google.com/notebooks/data_table.ipynb>data table notebook</a>'\n",
       "            + ' to learn more about interactive tables.';\n",
       "          element.innerHTML = '';\n",
       "          dataTable['output_type'] = 'display_data';\n",
       "          await google.colab.output.renderOutput(dataTable, element);\n",
       "          const docLink = document.createElement('div');\n",
       "          docLink.innerHTML = docLinkHtml;\n",
       "          element.appendChild(docLink);\n",
       "        }\n",
       "      </script>\n",
       "    </div>\n",
       "  </div>\n",
       "  "
      ],
      "text/plain": [
       "         price  outcome Gender     Region  Discount_Percent  cus_duration  \\\n",
       "166483   49.90     49.9      F  Northeast               0.0          17.0   \n",
       "168442  447.50    447.5      M      South               0.0           5.0   \n",
       "110335  201.75   1614.0      M  Northeast               0.0          31.0   \n",
       "119697  149.90    149.9      F      South               0.0          22.0   \n",
       "241347   99.50     99.5      F      South               0.0          19.0   \n",
       "\n",
       "        season            degree     agecat  treatment  \n",
       "166483  Winter  Doctorate_Degree  31-40 yrs          0  \n",
       "168442  Winter            Others  46-50 yrs          0  \n",
       "110335    Fall            Others  21-30 yrs          0  \n",
       "119697  Winter            Others  51-60 yrs          0  \n",
       "241347  Spring            Others  41-45 yrs          0  "
      ]
     },
     "execution_count": 39,
     "metadata": {},
     "output_type": "execute_result"
    }
   ],
   "source": [
    "df_w.tail()"
   ]
  },
  {
   "cell_type": "code",
   "execution_count": 40,
   "metadata": {
    "id": "ocjlJxffHExu"
   },
   "outputs": [],
   "source": [
    "# Create causalinference variables\n",
    "\n",
    "X = df_w.drop(['Discount_Percent','treatment','outcome'],axis=1)\n",
    "X = pd.get_dummies(X,drop_first=True,prefix_sep=('*'))\n",
    "X = X.values\n",
    "D = df_w['treatment'].values\n",
    "Y = df_w['outcome'].values"
   ]
  },
  {
   "cell_type": "code",
   "execution_count": 41,
   "metadata": {
    "id": "Y5ILIWwQIKLa"
   },
   "outputs": [],
   "source": [
    "# initiate causal model and get the summary statistics of the dataset\n",
    "\n",
    "causal = CausalModel(Y,D,X)"
   ]
  },
  {
   "cell_type": "code",
   "execution_count": 42,
   "metadata": {
    "colab": {
     "base_uri": "https://localhost:8080/"
    },
    "id": "s4nScyU7IwBC",
    "outputId": "d1d4e055-c88b-4de8-ffc2-a0327b685f4b"
   },
   "outputs": [
    {
     "name": "stdout",
     "output_type": "stream",
     "text": [
      "\n",
      "Summary Statistics\n",
      "\n",
      "                      Controls (N_c=1600)        Treated (N_t=1200)             \n",
      "       Variable         Mean         S.d.         Mean         S.d.     Raw-diff\n",
      "--------------------------------------------------------------------------------\n",
      "              Y      231.340      396.626      248.989      260.783       17.648\n",
      "\n",
      "                      Controls (N_c=1600)        Treated (N_t=1200)             \n",
      "       Variable         Mean         S.d.         Mean         S.d.     Nor-diff\n",
      "--------------------------------------------------------------------------------\n",
      "             X0      153.180      193.285      190.276      184.288        0.196\n",
      "             X1       13.006        8.411       13.311        8.509        0.036\n",
      "             X2        0.502        0.500        0.512        0.500        0.020\n",
      "             X3        0.186        0.389        0.237        0.425        0.124\n",
      "             X4        0.421        0.494        0.347        0.476       -0.151\n",
      "             X5        0.146        0.353        0.183        0.387        0.100\n",
      "             X6        0.242        0.429        0.168        0.374       -0.187\n",
      "             X7        0.194        0.395        0.169        0.375       -0.064\n",
      "             X8        0.411        0.492        0.463        0.499        0.103\n",
      "             X9        0.841        0.366        0.833        0.373       -0.021\n",
      "            X10        0.174        0.380        0.182        0.386        0.019\n",
      "            X11        0.091        0.287        0.087        0.281       -0.014\n",
      "            X12        0.084        0.278        0.072        0.258       -0.047\n",
      "            X13        0.173        0.378        0.156        0.363       -0.047\n",
      "            X14        0.061        0.240        0.058        0.233       -0.016\n",
      "            X15        0.255        0.436        0.286        0.452        0.069\n",
      "\n"
     ]
    }
   ],
   "source": [
    "print(causal.summary_stats)"
   ]
  },
  {
   "cell_type": "code",
   "execution_count": 43,
   "metadata": {
    "colab": {
     "base_uri": "https://localhost:8080/"
    },
    "id": "B5ZMwdh4I1bG",
    "outputId": "1bd2c0da-0fe6-4b7d-8519-bf23aac1f63b"
   },
   "outputs": [
    {
     "name": "stdout",
     "output_type": "stream",
     "text": [
      "\n",
      "Estimated Parameters of Propensity Score\n",
      "\n",
      "                    Coef.       S.e.          z      P>|z|      [95% Conf. int.]\n",
      "--------------------------------------------------------------------------------\n",
      "     Intercept     -0.324      0.157     -2.070      0.038     -0.631     -0.017\n",
      "            X0      0.001      0.001      1.373      0.170     -0.000      0.002\n",
      "            X6     -1.068      0.170     -6.262      0.000     -1.402     -0.733\n",
      "            X4     -0.245      0.113     -2.156      0.031     -0.467     -0.022\n",
      "            X7     -0.715      0.150     -4.761      0.000     -1.009     -0.421\n",
      "            X3      0.062      0.158      0.395      0.693     -0.248      0.373\n",
      "            X5      0.931      0.235      3.959      0.000      0.470      1.392\n",
      "           X15     -0.279      0.155     -1.797      0.072     -0.582      0.025\n",
      "            X1     -0.005      0.007     -0.640      0.522     -0.019      0.010\n",
      "         X0*X0     -0.000      0.000     -4.891      0.000     -0.000     -0.000\n",
      "         X0*X7      0.002      0.001      3.864      0.000      0.001      0.004\n",
      "         X0*X6      0.002      0.001      3.531      0.000      0.001      0.004\n",
      "         X0*X5     -0.002      0.001     -2.518      0.012     -0.003     -0.000\n",
      "         X0*X1      0.000      0.000      2.889      0.004      0.000      0.000\n",
      "         X5*X1     -0.028      0.013     -2.197      0.028     -0.053     -0.003\n",
      "        X0*X15      0.001      0.001      1.653      0.098     -0.000      0.002\n",
      "        X6*X15      0.416      0.222      1.875      0.061     -0.019      0.852\n",
      "         X0*X3      0.001      0.001      1.753      0.080     -0.000      0.002\n",
      "        X4*X15      0.317      0.185      1.710      0.087     -0.046      0.681\n",
      "\n"
     ]
    }
   ],
   "source": [
    "causal.est_propensity_s()\n",
    "print(causal.propensity)"
   ]
  },
  {
   "cell_type": "code",
   "execution_count": 44,
   "metadata": {
    "colab": {
     "base_uri": "https://localhost:8080/"
    },
    "id": "vo9q5cWnJFYr",
    "outputId": "aef13fdd-fe30-4425-9ac0-1c6d22b8c213"
   },
   "outputs": [
    {
     "data": {
      "text/plain": [
       "0.13183943907910128"
      ]
     },
     "execution_count": 44,
     "metadata": {},
     "output_type": "execute_result"
    }
   ],
   "source": [
    "causal.trim_s()\n",
    "causal.cutoff"
   ]
  },
  {
   "cell_type": "code",
   "execution_count": 45,
   "metadata": {
    "colab": {
     "base_uri": "https://localhost:8080/"
    },
    "id": "PhPsWYpvJbB4",
    "outputId": "c4eb57eb-595f-4562-a192-4c3793a55999"
   },
   "outputs": [
    {
     "name": "stdout",
     "output_type": "stream",
     "text": [
      "\n",
      "Summary Statistics\n",
      "\n",
      "                      Controls (N_c=1597)        Treated (N_t=1195)             \n",
      "       Variable         Mean         S.d.         Mean         S.d.     Raw-diff\n",
      "--------------------------------------------------------------------------------\n",
      "              Y      227.711      381.034      246.506      256.577       18.795\n",
      "\n",
      "                      Controls (N_c=1597)        Treated (N_t=1195)             \n",
      "       Variable         Mean         S.d.         Mean         S.d.     Nor-diff\n",
      "--------------------------------------------------------------------------------\n",
      "             X0      149.405      156.297      187.120      177.717        0.225\n",
      "             X1       13.003        8.398       13.279        8.498        0.033\n",
      "             X2        0.502        0.500        0.512        0.500        0.021\n",
      "             X3        0.185        0.389        0.237        0.425        0.126\n",
      "             X4        0.421        0.494        0.346        0.476       -0.153\n",
      "             X5        0.147        0.354        0.183        0.387        0.099\n",
      "             X6        0.243        0.429        0.167        0.373       -0.188\n",
      "             X7        0.193        0.395        0.167        0.373       -0.066\n",
      "             X8        0.412        0.492        0.464        0.499        0.106\n",
      "             X9        0.842        0.365        0.833        0.373       -0.022\n",
      "            X10        0.174        0.379        0.182        0.386        0.022\n",
      "            X11        0.091        0.287        0.087        0.282       -0.013\n",
      "            X12        0.085        0.278        0.071        0.257       -0.050\n",
      "            X13        0.172        0.378        0.156        0.363       -0.045\n",
      "            X14        0.061        0.240        0.058        0.233       -0.015\n",
      "            X15        0.255        0.436        0.285        0.451        0.065\n",
      "\n"
     ]
    }
   ],
   "source": [
    "print(causal.summary_stats)"
   ]
  },
  {
   "cell_type": "code",
   "execution_count": 46,
   "metadata": {
    "colab": {
     "base_uri": "https://localhost:8080/"
    },
    "id": "-KFjszb8Jso1",
    "outputId": "f980355f-1732-428b-abef-7a110b08acbd"
   },
   "outputs": [
    {
     "name": "stdout",
     "output_type": "stream",
     "text": [
      "\n",
      "Stratification Summary\n",
      "\n",
      "              Propensity Score         Sample Size     Ave. Propensity   Outcome\n",
      "   Stratum      Min.      Max.  Controls   Treated  Controls   Treated  Raw-diff\n",
      "--------------------------------------------------------------------------------\n",
      "         1     0.156     0.282       281        70     0.237     0.242   -72.306\n",
      "         2     0.282     0.364       237       112     0.326     0.330   -31.583\n",
      "         3     0.364     0.428       424       275     0.396     0.396   -43.665\n",
      "         4     0.428     0.501       334       362     0.461     0.462    13.839\n",
      "         5     0.501     0.527        98        78     0.515     0.515   -20.458\n",
      "         6     0.527     0.552        71       102     0.539     0.542    63.555\n",
      "         7     0.552     0.596        85        89     0.573     0.572    91.872\n",
      "         8     0.596     0.645        40        47     0.617     0.620    51.287\n",
      "         9     0.646     0.868        27        60     0.701     0.717  -152.190\n",
      "\n"
     ]
    }
   ],
   "source": [
    "causal.stratify_s()\n",
    "print(causal.strata)"
   ]
  },
  {
   "cell_type": "code",
   "execution_count": 48,
   "metadata": {
    "colab": {
     "base_uri": "https://localhost:8080/"
    },
    "id": "yfwBDOlpJ52P",
    "outputId": "fdbbf1c5-b619-4a84-9cea-2ff8e20d704b"
   },
   "outputs": [
    {
     "name": "stdout",
     "output_type": "stream",
     "text": [
      "\n",
      "Treatment Effect Estimates: OLS\n",
      "\n",
      "                     Est.       S.e.          z      P>|z|      [95% Conf. int.]\n",
      "--------------------------------------------------------------------------------\n",
      "           ATE    -15.380      9.523     -1.615      0.106    -34.046      3.286\n",
      "           ATC    -19.163      9.096     -2.107      0.035    -36.991     -1.336\n",
      "           ATT    -10.325     10.716     -0.963      0.335    -31.328     10.679\n",
      "\n",
      "Treatment Effect Estimates: Weighting\n",
      "\n",
      "                     Est.       S.e.          z      P>|z|      [95% Conf. int.]\n",
      "--------------------------------------------------------------------------------\n",
      "           ATE    -27.859     14.013     -1.988      0.047    -55.325     -0.393\n",
      "\n",
      "Treatment Effect Estimates: Matching\n",
      "\n",
      "                     Est.       S.e.          z      P>|z|      [95% Conf. int.]\n",
      "--------------------------------------------------------------------------------\n",
      "           ATE    -34.622     17.613     -1.966      0.049    -69.144     -0.101\n",
      "           ATC    -33.680     20.639     -1.632      0.103    -74.132      6.773\n",
      "           ATT    -35.882     20.915     -1.716      0.086    -76.876      5.112\n",
      "\n"
     ]
    }
   ],
   "source": [
    "causal.est_via_ols()\n",
    "causal.est_via_weighting()\n",
    "causal.est_via_matching(bias_adj=True)\n",
    "print(causal.estimates)"
   ]
  }
 ],
 "metadata": {
  "accelerator": "GPU",
  "colab": {
   "provenance": []
  },
  "gpuClass": "standard",
  "kernelspec": {
   "display_name": "Python 3 (ipykernel)",
   "language": "python",
   "name": "python3"
  },
  "language_info": {
   "codemirror_mode": {
    "name": "ipython",
    "version": 3
   },
   "file_extension": ".py",
   "mimetype": "text/x-python",
   "name": "python",
   "nbconvert_exporter": "python",
   "pygments_lexer": "ipython3",
   "version": "3.9.7"
  }
 },
 "nbformat": 4,
 "nbformat_minor": 1
}
