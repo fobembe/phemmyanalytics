{
 "cells": [
  {
   "cell_type": "markdown",
   "id": "3ca320c0",
   "metadata": {},
   "source": [
    "# Understanding Causal Impact of Promotion on Emplyee Performance"
   ]
  },
  {
   "cell_type": "markdown",
   "id": "e5e40187",
   "metadata": {},
   "source": [
    "The data for this exercise is takent from [here](https://studio.azureml.net/Home/ViewWorkspaceCached/90abf1900f5e407cbbc7ccc08102e59a#Workspaces/Experiments/Experiment/90abf1900f5e407cbbc7ccc08102e59a.f-id.4c495001b300451a839cef4ea67474b6/ViewExperiment)"
   ]
  },
  {
   "cell_type": "markdown",
   "id": "e1864d4d",
   "metadata": {},
   "source": [
    "### Introduction\n",
    "\n",
    "The application of machine learning has gained much visibility in the field of causal analytics in the recent years.  This project utilizes causalml package to understand the impact of promotion on performance of employees.  From theoretical perspectives, good HRM practices leads to employee-centered outcomes such as motivation, job satisfaction, good organizational citizenship and commitment which can boost organizational-centered outcomes such retention, Increase in output and lower law suits leading to sustainable competitive advantage for the organization.  However, not all employees respond to an incentive equally, that is why it is necessary to understand the psychometric characteristics of the employees with the aim of designing optimal HRM systems that will promote employee performance thereby realizing competitive advantage for the organization.\n",
    "\n",
    "We utilize X-learner algorithm and causalml package to analyze the data, even though we cannot verify the autenticity of our dataset whether it is real or generated, it nevetheless provided a good opportunity to try out the causalml package which I thinkgave some good results."
   ]
  },
  {
   "cell_type": "markdown",
   "id": "c05dfc7a",
   "metadata": {},
   "source": [
    "### Import the necessary Libraries"
   ]
  },
  {
   "cell_type": "code",
   "execution_count": 1,
   "id": "d3dd0ac0",
   "metadata": {},
   "outputs": [],
   "source": [
    "#Data processing\n",
    "import pandas as pd\n",
    "import numpy as np\n",
    "\n",
    "#Uplift Modelling\n",
    "from lightgbm import LGBMClassifier\n",
    "from sklearn.model_selection import cross_val_score\n",
    "from causalml.inference.meta import BaseXClassifier\n",
    "from sklearn.linear_model import LinearRegression\n",
    "\n",
    "#Visualisations\n",
    "import seaborn as sns\n",
    "import matplotlib.pyplot as plt"
   ]
  },
  {
   "cell_type": "markdown",
   "id": "7e6018ea",
   "metadata": {},
   "source": [
    "### Data Import and Preprocessing"
   ]
  },
  {
   "cell_type": "code",
   "execution_count": 2,
   "id": "170581aa",
   "metadata": {},
   "outputs": [
    {
     "data": {
      "text/html": [
       "<div>\n",
       "<style scoped>\n",
       "    .dataframe tbody tr th:only-of-type {\n",
       "        vertical-align: middle;\n",
       "    }\n",
       "\n",
       "    .dataframe tbody tr th {\n",
       "        vertical-align: top;\n",
       "    }\n",
       "\n",
       "    .dataframe thead th {\n",
       "        text-align: right;\n",
       "    }\n",
       "</style>\n",
       "<table border=\"1\" class=\"dataframe\">\n",
       "  <thead>\n",
       "    <tr style=\"text-align: right;\">\n",
       "      <th></th>\n",
       "      <th>employee_id</th>\n",
       "      <th>department</th>\n",
       "      <th>region</th>\n",
       "      <th>education</th>\n",
       "      <th>gender</th>\n",
       "      <th>recruitment_channel</th>\n",
       "      <th>no_of_trainings</th>\n",
       "      <th>age</th>\n",
       "      <th>previous_year_rating</th>\n",
       "      <th>length_of_service</th>\n",
       "      <th>KPIs_met &gt;80%</th>\n",
       "      <th>awards_won?</th>\n",
       "      <th>avg_training_score</th>\n",
       "      <th>is_promoted</th>\n",
       "    </tr>\n",
       "  </thead>\n",
       "  <tbody>\n",
       "    <tr>\n",
       "      <th>0</th>\n",
       "      <td>65438</td>\n",
       "      <td>Sales &amp; Marketing</td>\n",
       "      <td>region_7</td>\n",
       "      <td>Master's &amp; above</td>\n",
       "      <td>f</td>\n",
       "      <td>sourcing</td>\n",
       "      <td>1</td>\n",
       "      <td>35</td>\n",
       "      <td>5.0</td>\n",
       "      <td>8</td>\n",
       "      <td>1</td>\n",
       "      <td>0</td>\n",
       "      <td>49</td>\n",
       "      <td>0</td>\n",
       "    </tr>\n",
       "    <tr>\n",
       "      <th>1</th>\n",
       "      <td>65141</td>\n",
       "      <td>Operations</td>\n",
       "      <td>region_22</td>\n",
       "      <td>Bachelor's</td>\n",
       "      <td>m</td>\n",
       "      <td>other</td>\n",
       "      <td>1</td>\n",
       "      <td>30</td>\n",
       "      <td>5.0</td>\n",
       "      <td>4</td>\n",
       "      <td>0</td>\n",
       "      <td>0</td>\n",
       "      <td>60</td>\n",
       "      <td>0</td>\n",
       "    </tr>\n",
       "    <tr>\n",
       "      <th>2</th>\n",
       "      <td>7513</td>\n",
       "      <td>Sales &amp; Marketing</td>\n",
       "      <td>region_19</td>\n",
       "      <td>Bachelor's</td>\n",
       "      <td>m</td>\n",
       "      <td>sourcing</td>\n",
       "      <td>1</td>\n",
       "      <td>34</td>\n",
       "      <td>3.0</td>\n",
       "      <td>7</td>\n",
       "      <td>0</td>\n",
       "      <td>0</td>\n",
       "      <td>50</td>\n",
       "      <td>0</td>\n",
       "    </tr>\n",
       "    <tr>\n",
       "      <th>3</th>\n",
       "      <td>2542</td>\n",
       "      <td>Sales &amp; Marketing</td>\n",
       "      <td>region_23</td>\n",
       "      <td>Bachelor's</td>\n",
       "      <td>m</td>\n",
       "      <td>other</td>\n",
       "      <td>2</td>\n",
       "      <td>39</td>\n",
       "      <td>1.0</td>\n",
       "      <td>10</td>\n",
       "      <td>0</td>\n",
       "      <td>0</td>\n",
       "      <td>50</td>\n",
       "      <td>0</td>\n",
       "    </tr>\n",
       "    <tr>\n",
       "      <th>4</th>\n",
       "      <td>48945</td>\n",
       "      <td>Technology</td>\n",
       "      <td>region_26</td>\n",
       "      <td>Bachelor's</td>\n",
       "      <td>m</td>\n",
       "      <td>other</td>\n",
       "      <td>1</td>\n",
       "      <td>45</td>\n",
       "      <td>3.0</td>\n",
       "      <td>2</td>\n",
       "      <td>0</td>\n",
       "      <td>0</td>\n",
       "      <td>73</td>\n",
       "      <td>0</td>\n",
       "    </tr>\n",
       "  </tbody>\n",
       "</table>\n",
       "</div>"
      ],
      "text/plain": [
       "   employee_id         department     region         education gender  \\\n",
       "0        65438  Sales & Marketing   region_7  Master's & above      f   \n",
       "1        65141         Operations  region_22        Bachelor's      m   \n",
       "2         7513  Sales & Marketing  region_19        Bachelor's      m   \n",
       "3         2542  Sales & Marketing  region_23        Bachelor's      m   \n",
       "4        48945         Technology  region_26        Bachelor's      m   \n",
       "\n",
       "  recruitment_channel  no_of_trainings  age  previous_year_rating  \\\n",
       "0            sourcing                1   35                   5.0   \n",
       "1               other                1   30                   5.0   \n",
       "2            sourcing                1   34                   3.0   \n",
       "3               other                2   39                   1.0   \n",
       "4               other                1   45                   3.0   \n",
       "\n",
       "   length_of_service  KPIs_met >80%  awards_won?  avg_training_score  \\\n",
       "0                  8              1            0                  49   \n",
       "1                  4              0            0                  60   \n",
       "2                  7              0            0                  50   \n",
       "3                 10              0            0                  50   \n",
       "4                  2              0            0                  73   \n",
       "\n",
       "   is_promoted  \n",
       "0            0  \n",
       "1            0  \n",
       "2            0  \n",
       "3            0  \n",
       "4            0  "
      ]
     },
     "execution_count": 2,
     "metadata": {},
     "output_type": "execute_result"
    }
   ],
   "source": [
    "data = pd.read_csv(\"Employee_promotion.csv\")\n",
    "data.head()"
   ]
  },
  {
   "cell_type": "code",
   "execution_count": 3,
   "id": "f4eff658",
   "metadata": {},
   "outputs": [
    {
     "name": "stdout",
     "output_type": "stream",
     "text": [
      "<class 'pandas.core.frame.DataFrame'>\n",
      "RangeIndex: 54808 entries, 0 to 54807\n",
      "Data columns (total 14 columns):\n",
      " #   Column                Non-Null Count  Dtype  \n",
      "---  ------                --------------  -----  \n",
      " 0   employee_id           54808 non-null  int64  \n",
      " 1   department            54808 non-null  object \n",
      " 2   region                54808 non-null  object \n",
      " 3   education             52399 non-null  object \n",
      " 4   gender                54808 non-null  object \n",
      " 5   recruitment_channel   54808 non-null  object \n",
      " 6   no_of_trainings       54808 non-null  int64  \n",
      " 7   age                   54808 non-null  int64  \n",
      " 8   previous_year_rating  50684 non-null  float64\n",
      " 9   length_of_service     54808 non-null  int64  \n",
      " 10  KPIs_met >80%         54808 non-null  int64  \n",
      " 11  awards_won?           54808 non-null  int64  \n",
      " 12  avg_training_score    54808 non-null  int64  \n",
      " 13  is_promoted           54808 non-null  int64  \n",
      "dtypes: float64(1), int64(8), object(5)\n",
      "memory usage: 5.9+ MB\n"
     ]
    }
   ],
   "source": [
    "data.info()"
   ]
  },
  {
   "cell_type": "markdown",
   "id": "e458edb0",
   "metadata": {},
   "source": [
    "### Necessary Transformations\n",
    "* Drop employee_id\n",
    "* Rename Length_of_service to Experience\n",
    "* Rename KPIs_met > 80% to Performance\n",
    "* Rename awards_won? to awards\n",
    "* Rename is_promoted to Treatment"
   ]
  },
  {
   "cell_type": "code",
   "execution_count": 4,
   "id": "a60b22bd",
   "metadata": {},
   "outputs": [],
   "source": [
    "data = data.drop('employee_id',axis=1)"
   ]
  },
  {
   "cell_type": "code",
   "execution_count": 5,
   "id": "4438064d",
   "metadata": {},
   "outputs": [],
   "source": [
    "new_names = {'Length_of_service':'Experience','KPIs_met >80%':'Performance',\n",
    "             'awards_won':'awards','is_promoted':'Treatment'}\n",
    "\n",
    "data.rename(columns=new_names,inplace=True)"
   ]
  },
  {
   "cell_type": "code",
   "execution_count": 6,
   "id": "d2af02bb",
   "metadata": {},
   "outputs": [
    {
     "data": {
      "text/html": [
       "<div>\n",
       "<style scoped>\n",
       "    .dataframe tbody tr th:only-of-type {\n",
       "        vertical-align: middle;\n",
       "    }\n",
       "\n",
       "    .dataframe tbody tr th {\n",
       "        vertical-align: top;\n",
       "    }\n",
       "\n",
       "    .dataframe thead th {\n",
       "        text-align: right;\n",
       "    }\n",
       "</style>\n",
       "<table border=\"1\" class=\"dataframe\">\n",
       "  <thead>\n",
       "    <tr style=\"text-align: right;\">\n",
       "      <th></th>\n",
       "      <th>department</th>\n",
       "      <th>region</th>\n",
       "      <th>education</th>\n",
       "      <th>gender</th>\n",
       "      <th>recruitment_channel</th>\n",
       "      <th>no_of_trainings</th>\n",
       "      <th>age</th>\n",
       "      <th>previous_year_rating</th>\n",
       "      <th>length_of_service</th>\n",
       "      <th>Performance</th>\n",
       "      <th>awards_won?</th>\n",
       "      <th>avg_training_score</th>\n",
       "      <th>Treatment</th>\n",
       "    </tr>\n",
       "  </thead>\n",
       "  <tbody>\n",
       "    <tr>\n",
       "      <th>0</th>\n",
       "      <td>Sales &amp; Marketing</td>\n",
       "      <td>region_7</td>\n",
       "      <td>Master's &amp; above</td>\n",
       "      <td>f</td>\n",
       "      <td>sourcing</td>\n",
       "      <td>1</td>\n",
       "      <td>35</td>\n",
       "      <td>5.0</td>\n",
       "      <td>8</td>\n",
       "      <td>1</td>\n",
       "      <td>0</td>\n",
       "      <td>49</td>\n",
       "      <td>0</td>\n",
       "    </tr>\n",
       "    <tr>\n",
       "      <th>1</th>\n",
       "      <td>Operations</td>\n",
       "      <td>region_22</td>\n",
       "      <td>Bachelor's</td>\n",
       "      <td>m</td>\n",
       "      <td>other</td>\n",
       "      <td>1</td>\n",
       "      <td>30</td>\n",
       "      <td>5.0</td>\n",
       "      <td>4</td>\n",
       "      <td>0</td>\n",
       "      <td>0</td>\n",
       "      <td>60</td>\n",
       "      <td>0</td>\n",
       "    </tr>\n",
       "    <tr>\n",
       "      <th>2</th>\n",
       "      <td>Sales &amp; Marketing</td>\n",
       "      <td>region_19</td>\n",
       "      <td>Bachelor's</td>\n",
       "      <td>m</td>\n",
       "      <td>sourcing</td>\n",
       "      <td>1</td>\n",
       "      <td>34</td>\n",
       "      <td>3.0</td>\n",
       "      <td>7</td>\n",
       "      <td>0</td>\n",
       "      <td>0</td>\n",
       "      <td>50</td>\n",
       "      <td>0</td>\n",
       "    </tr>\n",
       "    <tr>\n",
       "      <th>3</th>\n",
       "      <td>Sales &amp; Marketing</td>\n",
       "      <td>region_23</td>\n",
       "      <td>Bachelor's</td>\n",
       "      <td>m</td>\n",
       "      <td>other</td>\n",
       "      <td>2</td>\n",
       "      <td>39</td>\n",
       "      <td>1.0</td>\n",
       "      <td>10</td>\n",
       "      <td>0</td>\n",
       "      <td>0</td>\n",
       "      <td>50</td>\n",
       "      <td>0</td>\n",
       "    </tr>\n",
       "    <tr>\n",
       "      <th>4</th>\n",
       "      <td>Technology</td>\n",
       "      <td>region_26</td>\n",
       "      <td>Bachelor's</td>\n",
       "      <td>m</td>\n",
       "      <td>other</td>\n",
       "      <td>1</td>\n",
       "      <td>45</td>\n",
       "      <td>3.0</td>\n",
       "      <td>2</td>\n",
       "      <td>0</td>\n",
       "      <td>0</td>\n",
       "      <td>73</td>\n",
       "      <td>0</td>\n",
       "    </tr>\n",
       "  </tbody>\n",
       "</table>\n",
       "</div>"
      ],
      "text/plain": [
       "          department     region         education gender recruitment_channel  \\\n",
       "0  Sales & Marketing   region_7  Master's & above      f            sourcing   \n",
       "1         Operations  region_22        Bachelor's      m               other   \n",
       "2  Sales & Marketing  region_19        Bachelor's      m            sourcing   \n",
       "3  Sales & Marketing  region_23        Bachelor's      m               other   \n",
       "4         Technology  region_26        Bachelor's      m               other   \n",
       "\n",
       "   no_of_trainings  age  previous_year_rating  length_of_service  Performance  \\\n",
       "0                1   35                   5.0                  8            1   \n",
       "1                1   30                   5.0                  4            0   \n",
       "2                1   34                   3.0                  7            0   \n",
       "3                2   39                   1.0                 10            0   \n",
       "4                1   45                   3.0                  2            0   \n",
       "\n",
       "   awards_won?  avg_training_score  Treatment  \n",
       "0            0                  49          0  \n",
       "1            0                  60          0  \n",
       "2            0                  50          0  \n",
       "3            0                  50          0  \n",
       "4            0                  73          0  "
      ]
     },
     "execution_count": 6,
     "metadata": {},
     "output_type": "execute_result"
    }
   ],
   "source": [
    "data.head()"
   ]
  },
  {
   "cell_type": "markdown",
   "id": "23dc82dc",
   "metadata": {},
   "source": [
    "### Explore distribution of Treatment and Performance"
   ]
  },
  {
   "cell_type": "code",
   "execution_count": 7,
   "id": "51af0550",
   "metadata": {},
   "outputs": [
    {
     "data": {
      "text/plain": [
       "0    0.91483\n",
       "1    0.08517\n",
       "Name: Treatment, dtype: float64"
      ]
     },
     "execution_count": 7,
     "metadata": {},
     "output_type": "execute_result"
    }
   ],
   "source": [
    "data['Treatment'].value_counts(normalize=True)"
   ]
  },
  {
   "cell_type": "code",
   "execution_count": 8,
   "id": "5813ea02",
   "metadata": {},
   "outputs": [
    {
     "data": {
      "text/plain": [
       "0    35517\n",
       "1    19291\n",
       "Name: Performance, dtype: int64"
      ]
     },
     "execution_count": 8,
     "metadata": {},
     "output_type": "execute_result"
    }
   ],
   "source": [
    "data['Performance'].value_counts()"
   ]
  },
  {
   "cell_type": "markdown",
   "id": "402d7610",
   "metadata": {},
   "source": [
    "From the above distributions, only 8% of the employee received promotion compared to 91% that did not receive promotion. In this instance, those in category 1 will serve as our Treatment group while we shall draw a sample from category 0 to serve as our Control group."
   ]
  },
  {
   "cell_type": "code",
   "execution_count": 9,
   "id": "701bd348",
   "metadata": {},
   "outputs": [],
   "source": [
    "Treatment_Group = data[data['Treatment']==1]"
   ]
  },
  {
   "cell_type": "code",
   "execution_count": 10,
   "id": "df0e33a4",
   "metadata": {},
   "outputs": [],
   "source": [
    "Control_Group = data[data['Treatment']==0].sample(n=6000,random_state=42)"
   ]
  },
  {
   "cell_type": "code",
   "execution_count": 11,
   "id": "e6bc7e83",
   "metadata": {},
   "outputs": [
    {
     "data": {
      "text/plain": [
       "1    4668\n",
       "Name: Treatment, dtype: int64"
      ]
     },
     "execution_count": 11,
     "metadata": {},
     "output_type": "execute_result"
    }
   ],
   "source": [
    "Treatment_Group['Treatment'].value_counts()"
   ]
  },
  {
   "cell_type": "code",
   "execution_count": 12,
   "id": "1f48d38d",
   "metadata": {},
   "outputs": [
    {
     "data": {
      "text/plain": [
       "0    6000\n",
       "Name: Treatment, dtype: int64"
      ]
     },
     "execution_count": 12,
     "metadata": {},
     "output_type": "execute_result"
    }
   ],
   "source": [
    "Control_Group['Treatment'].value_counts()"
   ]
  },
  {
   "cell_type": "markdown",
   "id": "2cc75ae1",
   "metadata": {},
   "source": [
    "### Combine Treatment and Control Groups"
   ]
  },
  {
   "cell_type": "code",
   "execution_count": 13,
   "id": "4e5923f2",
   "metadata": {},
   "outputs": [],
   "source": [
    "df = pd.concat([Treatment_Group,Control_Group],axis=0)"
   ]
  },
  {
   "cell_type": "code",
   "execution_count": 14,
   "id": "40575ca4",
   "metadata": {},
   "outputs": [
    {
     "data": {
      "text/plain": [
       "0    6000\n",
       "1    4668\n",
       "Name: Treatment, dtype: int64"
      ]
     },
     "execution_count": 14,
     "metadata": {},
     "output_type": "execute_result"
    }
   ],
   "source": [
    "df['Treatment'].value_counts()"
   ]
  },
  {
   "cell_type": "code",
   "execution_count": 15,
   "id": "f7706c1d",
   "metadata": {},
   "outputs": [
    {
     "data": {
      "text/plain": [
       "0    5526\n",
       "1    5142\n",
       "Name: Performance, dtype: int64"
      ]
     },
     "execution_count": 15,
     "metadata": {},
     "output_type": "execute_result"
    }
   ],
   "source": [
    "df['Performance'].value_counts()"
   ]
  },
  {
   "cell_type": "markdown",
   "id": "ccc26ce7",
   "metadata": {},
   "source": [
    "### Perform Initial Analysis of the causal effect"
   ]
  },
  {
   "cell_type": "code",
   "execution_count": 16,
   "id": "b27899ff",
   "metadata": {},
   "outputs": [
    {
     "data": {
      "image/png": "[encoded data removed]",
      "text/plain": [
       "<Figure size 432x288 with 1 Axes>"
      ]
     },
     "metadata": {
      "needs_background": "light"
     },
     "output_type": "display_data"
    },
    {
     "name": "stdout",
     "output_type": "stream",
     "text": [
      "Difference between Control and Treatment 0.38547\n"
     ]
    }
   ],
   "source": [
    "sns.set_style(\"whitegrid\")\n",
    "sns.barplot(x = ['Control', 'Treatment'], y = df.groupby('Treatment')['Performance'].mean().values)\n",
    "plt.title('Performance Rate')\n",
    "plt.show()\n",
    "print(f'Difference between Control and Treatment {np.round(df.groupby(\"Treatment\")[\"Performance\"].mean()[1] - df.groupby(\"Treatment\")[\"Performance\"].mean()[0], 5)}')"
   ]
  },
  {
   "cell_type": "markdown",
   "id": "2e5b0d1c",
   "metadata": {},
   "source": [
    "Initial analysis suggests that those that got promotion in the dataset have an averge 0f 39% higher performance than those that did not receive promotion. We cannot accept this result for now without probing into the distribution of the treatment and control groups with respect to the provided covariates."
   ]
  },
  {
   "cell_type": "markdown",
   "id": "59404991",
   "metadata": {},
   "source": [
    "### Exploratory Data analysis\n",
    "How is the distribution of the dataset with respect to:\n",
    "\n",
    "* Department\n",
    "* Region\n",
    "* Education\n",
    "* Gender\n",
    "* Recruitment Channel"
   ]
  },
  {
   "cell_type": "code",
   "execution_count": 17,
   "id": "f0b6868c",
   "metadata": {},
   "outputs": [
    {
     "data": {
      "image/png": "[encoded data removed]",
      "text/plain": [
       "<Figure size 593.5x360 with 1 Axes>"
      ]
     },
     "metadata": {
      "needs_background": "light"
     },
     "output_type": "display_data"
    }
   ],
   "source": [
    "sns.catplot(x=\"department\",kind=\"count\",hue=\"Treatment\",height=5,aspect=1.5,data=df)\n",
    "plt.ylabel(\"Count\",size=14)\n",
    "plt.tight_layout()\n",
    "plt.xticks(rotation= 45)\n",
    "plt.title(\"Department of Employees Vs. Promotion\");"
   ]
  },
  {
   "cell_type": "markdown",
   "id": "090eaf16",
   "metadata": {},
   "source": [
    "The distribution of treatment looks almost evenly distrbuted across all the departments, except for Sales and Marketing where the difference looks much larger than the difference in all other departments. However, some departments are less represented in the distribution such as Finance, HR, R&D, Legal and Analytics. This lop-sidedness needs to be corrected for us to accept the result."
   ]
  },
  {
   "cell_type": "code",
   "execution_count": 18,
   "id": "7409d8b9",
   "metadata": {},
   "outputs": [
    {
     "data": {
      "image/png": "[encoded data removed]",
      "text/plain": [
       "<Figure size 593.5x360 with 1 Axes>"
      ]
     },
     "metadata": {
      "needs_background": "light"
     },
     "output_type": "display_data"
    }
   ],
   "source": [
    "sns.catplot(x=\"region\",kind=\"count\",hue=\"Treatment\",height=5,aspect=1.5,data=df)\n",
    "plt.ylabel(\"Count\",size=14)\n",
    "plt.tight_layout()\n",
    "plt.xticks(rotation= 45)\n",
    "plt.title(\"Region of Employees Vs. Promotion\");"
   ]
  },
  {
   "cell_type": "markdown",
   "id": "e32a25a6",
   "metadata": {},
   "source": [
    "It is very clear that the sampling across the region is grossly lopsided as the bulk of hte sample came from 3 regions out of 34 regions provided by the data. This will also need to be corrected before our initial result can be accepted."
   ]
  },
  {
   "cell_type": "code",
   "execution_count": 19,
   "id": "ef648ea1",
   "metadata": {},
   "outputs": [
    {
     "data": {
      "image/png": "[encoded data removed]",
      "text/plain": [
       "<Figure size 593.5x360 with 1 Axes>"
      ]
     },
     "metadata": {
      "needs_background": "light"
     },
     "output_type": "display_data"
    }
   ],
   "source": [
    "sns.catplot(x=\"education\",kind=\"count\",hue=\"Treatment\",height=5,aspect=1.5,data=df)\n",
    "plt.ylabel(\"Count\",size=14)\n",
    "plt.tight_layout()\n",
    "plt.xticks(rotation= 45)\n",
    "plt.title(\"Education of Employees Vs. Promotion\");"
   ]
  },
  {
   "cell_type": "markdown",
   "id": "6325120b",
   "metadata": {},
   "source": [
    "The sampling distribution is favor of those with Bachelor's degree while those Below Secondary School were grossly under sampled."
   ]
  },
  {
   "cell_type": "code",
   "execution_count": 20,
   "id": "b501a6e6",
   "metadata": {},
   "outputs": [
    {
     "data": {
      "image/png": "[encoded data removed]",
      "text/plain": [
       "<Figure size 787.9x432 with 1 Axes>"
      ]
     },
     "metadata": {
      "needs_background": "light"
     },
     "output_type": "display_data"
    }
   ],
   "source": [
    "sns.catplot(x=\"gender\",kind=\"count\",hue=\"Treatment\",height=6,aspect=1.7,data=df)\n",
    "plt.ylabel(\"Count\",size=14)\n",
    "plt.tight_layout()\n",
    "plt.xticks(rotation= 45)\n",
    "plt.title(\"Gender of Employees Vs. Promotion\");"
   ]
  },
  {
   "cell_type": "markdown",
   "id": "793d3e0a",
   "metadata": {},
   "source": [
    "The proportion of male employees in the sample is almost twice those of the female, hence the distribution is not proportional."
   ]
  },
  {
   "cell_type": "code",
   "execution_count": 21,
   "id": "dfd90d91",
   "metadata": {},
   "outputs": [
    {
     "data": {
      "image/png": "[encoded data removed]",
      "text/plain": [
       "<Figure size 593.5x360 with 1 Axes>"
      ]
     },
     "metadata": {
      "needs_background": "light"
     },
     "output_type": "display_data"
    }
   ],
   "source": [
    "sns.catplot(x=\"recruitment_channel\",kind=\"count\",hue=\"Treatment\",height=5,aspect=1.5,data=df)\n",
    "plt.ylabel(\"Count\",size=14)\n",
    "plt.tight_layout()\n",
    "plt.xticks(rotation= 45)\n",
    "plt.title(\"Recruitment Channel of Employees Vs. Promotion\");"
   ]
  },
  {
   "cell_type": "markdown",
   "id": "446aebba",
   "metadata": {},
   "source": [
    "The recruitment channel also seem a bit disproportional with regards to different channel sources.\n",
    "\n",
    "On the whole, the sampling distribution of the employees both in the control and treatment groups is somehow lop-sided and this needs to be accounted for before we can accept that promotion indeed leads to higher performance. We shall use causalml package to analyze the data so that the lopsidedness can be corrected."
   ]
  },
  {
   "cell_type": "markdown",
   "id": "12f3478b",
   "metadata": {},
   "source": [
    "## CausalML Analysis\n",
    "### Data Preparation\n",
    "#### Separate data into:\n",
    "\n",
    "* treatment\n",
    "* outcome\n",
    "* covariates"
   ]
  },
  {
   "cell_type": "code",
   "execution_count": 22,
   "id": "1678c045",
   "metadata": {},
   "outputs": [
    {
     "name": "stdout",
     "output_type": "stream",
     "text": [
      "<class 'pandas.core.frame.DataFrame'>\n",
      "Int64Index: 10668 entries, 11 to 37443\n",
      "Data columns (total 13 columns):\n",
      " #   Column                Non-Null Count  Dtype  \n",
      "---  ------                --------------  -----  \n",
      " 0   department            10668 non-null  object \n",
      " 1   region                10668 non-null  object \n",
      " 2   education             10317 non-null  object \n",
      " 3   gender                10668 non-null  object \n",
      " 4   recruitment_channel   10668 non-null  object \n",
      " 5   no_of_trainings       10668 non-null  int64  \n",
      " 6   age                   10668 non-null  int64  \n",
      " 7   previous_year_rating  9888 non-null   float64\n",
      " 8   length_of_service     10668 non-null  int64  \n",
      " 9   Performance           10668 non-null  int64  \n",
      " 10  awards_won?           10668 non-null  int64  \n",
      " 11  avg_training_score    10668 non-null  int64  \n",
      " 12  Treatment             10668 non-null  int64  \n",
      "dtypes: float64(1), int64(7), object(5)\n",
      "memory usage: 1.1+ MB\n"
     ]
    }
   ],
   "source": [
    "df.info()"
   ]
  },
  {
   "cell_type": "markdown",
   "id": "f2a3a64e",
   "metadata": {},
   "source": [
    "Remove instances of missing values"
   ]
  },
  {
   "cell_type": "code",
   "execution_count": 23,
   "id": "983dd48a",
   "metadata": {},
   "outputs": [],
   "source": [
    "df = df.dropna()"
   ]
  },
  {
   "cell_type": "code",
   "execution_count": 24,
   "id": "255c27f8",
   "metadata": {},
   "outputs": [
    {
     "name": "stdout",
     "output_type": "stream",
     "text": [
      "<class 'pandas.core.frame.DataFrame'>\n",
      "Int64Index: 9595 entries, 11 to 37443\n",
      "Data columns (total 13 columns):\n",
      " #   Column                Non-Null Count  Dtype  \n",
      "---  ------                --------------  -----  \n",
      " 0   department            9595 non-null   object \n",
      " 1   region                9595 non-null   object \n",
      " 2   education             9595 non-null   object \n",
      " 3   gender                9595 non-null   object \n",
      " 4   recruitment_channel   9595 non-null   object \n",
      " 5   no_of_trainings       9595 non-null   int64  \n",
      " 6   age                   9595 non-null   int64  \n",
      " 7   previous_year_rating  9595 non-null   float64\n",
      " 8   length_of_service     9595 non-null   int64  \n",
      " 9   Performance           9595 non-null   int64  \n",
      " 10  awards_won?           9595 non-null   int64  \n",
      " 11  avg_training_score    9595 non-null   int64  \n",
      " 12  Treatment             9595 non-null   int64  \n",
      "dtypes: float64(1), int64(7), object(5)\n",
      "memory usage: 1.0+ MB\n"
     ]
    }
   ],
   "source": [
    "df.info()"
   ]
  },
  {
   "cell_type": "code",
   "execution_count": 25,
   "id": "f01051ca",
   "metadata": {},
   "outputs": [],
   "source": [
    "# Get the covariates\n",
    "\n",
    "X = df.drop(['Treatment','Performance'],axis=1)"
   ]
  },
  {
   "cell_type": "code",
   "execution_count": 26,
   "id": "e9dc0d22",
   "metadata": {},
   "outputs": [],
   "source": [
    "X = pd.get_dummies(X,drop_first=True,prefix_sep=(\"*\"))"
   ]
  },
  {
   "cell_type": "code",
   "execution_count": 27,
   "id": "a1826771",
   "metadata": {},
   "outputs": [],
   "source": [
    "#Treatment\n",
    "treatment = df['Treatment']\n",
    "treatment = np.array(['treatment' if val==1 else 'control' for val in treatment])\n",
    "\n",
    "# outcome\n",
    "y = df['Performance']"
   ]
  },
  {
   "cell_type": "markdown",
   "id": "8208fe20",
   "metadata": {},
   "source": [
    "### Using X-Meta Learner"
   ]
  },
  {
   "cell_type": "code",
   "execution_count": 28,
   "id": "51a0c8bc",
   "metadata": {},
   "outputs": [
    {
     "data": {
      "text/plain": [
       "0.8110402005084325"
      ]
     },
     "execution_count": 28,
     "metadata": {},
     "output_type": "execute_result"
    }
   ],
   "source": [
    "# Build the propensity model\n",
    "\n",
    "prop_model = LGBMClassifier(colsample_bytree=0.8, subsample = 0.8, n_estimators=300)\n",
    "cross_val_score(prop_model, X, treatment, cv=5, scoring='roc_auc').mean()"
   ]
  },
  {
   "cell_type": "markdown",
   "id": "c27da9ea",
   "metadata": {},
   "source": [
    "Propensity score of 0.81 is an evidence of sampling bias"
   ]
  },
  {
   "cell_type": "code",
   "execution_count": 29,
   "id": "4a17e16a",
   "metadata": {},
   "outputs": [
    {
     "data": {
      "text/html": [
       "<style>#sk-container-id-1 {color: black;background-color: white;}#sk-container-id-1 pre{padding: 0;}#sk-container-id-1 div.sk-toggleable {background-color: white;}#sk-container-id-1 label.sk-toggleable__label {cursor: pointer;display: block;width: 100%;margin-bottom: 0;padding: 0.3em;box-sizing: border-box;text-align: center;}#sk-container-id-1 label.sk-toggleable__label-arrow:before {content: \"▸\";float: left;margin-right: 0.25em;color: #696969;}#sk-container-id-1 label.sk-toggleable__label-arrow:hover:before {color: black;}#sk-container-id-1 div.sk-estimator:hover label.sk-toggleable__label-arrow:before {color: black;}#sk-container-id-1 div.sk-toggleable__content {max-height: 0;max-width: 0;overflow: hidden;text-align: left;background-color: #f0f8ff;}#sk-container-id-1 div.sk-toggleable__content pre {margin: 0.2em;color: black;border-radius: 0.25em;background-color: #f0f8ff;}#sk-container-id-1 input.sk-toggleable__control:checked~div.sk-toggleable__content {max-height: 200px;max-width: 100%;overflow: auto;}#sk-container-id-1 input.sk-toggleable__control:checked~label.sk-toggleable__label-arrow:before {content: \"▾\";}#sk-container-id-1 div.sk-estimator input.sk-toggleable__control:checked~label.sk-toggleable__label {background-color: #d4ebff;}#sk-container-id-1 div.sk-label input.sk-toggleable__control:checked~label.sk-toggleable__label {background-color: #d4ebff;}#sk-container-id-1 input.sk-hidden--visually {border: 0;clip: rect(1px 1px 1px 1px);clip: rect(1px, 1px, 1px, 1px);height: 1px;margin: -1px;overflow: hidden;padding: 0;position: absolute;width: 1px;}#sk-container-id-1 div.sk-estimator {font-family: monospace;background-color: #f0f8ff;border: 1px dotted black;border-radius: 0.25em;box-sizing: border-box;margin-bottom: 0.5em;}#sk-container-id-1 div.sk-estimator:hover {background-color: #d4ebff;}#sk-container-id-1 div.sk-parallel-item::after {content: \"\";width: 100%;border-bottom: 1px solid gray;flex-grow: 1;}#sk-container-id-1 div.sk-label:hover label.sk-toggleable__label {background-color: #d4ebff;}#sk-container-id-1 div.sk-serial::before {content: \"\";position: absolute;border-left: 1px solid gray;box-sizing: border-box;top: 0;bottom: 0;left: 50%;z-index: 0;}#sk-container-id-1 div.sk-serial {display: flex;flex-direction: column;align-items: center;background-color: white;padding-right: 0.2em;padding-left: 0.2em;position: relative;}#sk-container-id-1 div.sk-item {position: relative;z-index: 1;}#sk-container-id-1 div.sk-parallel {display: flex;align-items: stretch;justify-content: center;background-color: white;position: relative;}#sk-container-id-1 div.sk-item::before, #sk-container-id-1 div.sk-parallel-item::before {content: \"\";position: absolute;border-left: 1px solid gray;box-sizing: border-box;top: 0;bottom: 0;left: 50%;z-index: -1;}#sk-container-id-1 div.sk-parallel-item {display: flex;flex-direction: column;z-index: 1;position: relative;background-color: white;}#sk-container-id-1 div.sk-parallel-item:first-child::after {align-self: flex-end;width: 50%;}#sk-container-id-1 div.sk-parallel-item:last-child::after {align-self: flex-start;width: 50%;}#sk-container-id-1 div.sk-parallel-item:only-child::after {width: 0;}#sk-container-id-1 div.sk-dashed-wrapped {border: 1px dashed gray;margin: 0 0.4em 0.5em 0.4em;box-sizing: border-box;padding-bottom: 0.4em;background-color: white;}#sk-container-id-1 div.sk-label label {font-family: monospace;font-weight: bold;display: inline-block;line-height: 1.2em;}#sk-container-id-1 div.sk-label-container {text-align: center;}#sk-container-id-1 div.sk-container {/* jupyter's `normalize.less` sets `[hidden] { display: none; }` but bootstrap.min.css set `[hidden] { display: none !important; }` so we also need the `!important` here to be able to override the default hidden behavior on the sphinx rendered scikit-learn.org. See: https://github.com/scikit-learn/scikit-learn/issues/21755 */display: inline-block !important;position: relative;}#sk-container-id-1 div.sk-text-repr-fallback {display: none;}</style><div id=\"sk-container-id-1\" class=\"sk-top-container\"><div class=\"sk-text-repr-fallback\"><pre>LGBMClassifier(colsample_bytree=0.8, n_estimators=300, subsample=0.8)</pre><b>In a Jupyter environment, please rerun this cell to show the HTML representation or trust the notebook. <br />On GitHub, the HTML representation is unable to render, please try loading this page with nbviewer.org.</b></div><div class=\"sk-container\" hidden><div class=\"sk-item\"><div class=\"sk-estimator sk-toggleable\"><input class=\"sk-toggleable__control sk-hidden--visually\" id=\"sk-estimator-id-1\" type=\"checkbox\" checked><label for=\"sk-estimator-id-1\" class=\"sk-toggleable__label sk-toggleable__label-arrow\">LGBMClassifier</label><div class=\"sk-toggleable__content\"><pre>LGBMClassifier(colsample_bytree=0.8, n_estimators=300, subsample=0.8)</pre></div></div></div></div></div>"
      ],
      "text/plain": [
       "LGBMClassifier(colsample_bytree=0.8, n_estimators=300, subsample=0.8)"
      ]
     },
     "execution_count": 29,
     "metadata": {},
     "output_type": "execute_result"
    }
   ],
   "source": [
    "# Fitting the model\n",
    "\n",
    "prop_model.fit(X,treatment)"
   ]
  },
  {
   "cell_type": "code",
   "execution_count": 30,
   "id": "863614cd",
   "metadata": {},
   "outputs": [],
   "source": [
    "# Getting the propensity Score\n",
    "\n",
    "prop_scores = prop_model.predict_proba(X)"
   ]
  },
  {
   "cell_type": "markdown",
   "id": "876684cf",
   "metadata": {},
   "source": [
    "### Generating the ATE"
   ]
  },
  {
   "cell_type": "code",
   "execution_count": 31,
   "id": "f50798a9",
   "metadata": {},
   "outputs": [],
   "source": [
    "learner_x = BaseXClassifier(LGBMClassifier(colsample_bytree=0.8, num_leaves=50, n_estimators=200),\n",
    "                            control_effect_learner=LinearRegression(),\n",
    "                            treatment_effect_learner=LinearRegression(), \n",
    "                            control_name='control')"
   ]
  },
  {
   "cell_type": "code",
   "execution_count": 32,
   "id": "a929e5bf",
   "metadata": {},
   "outputs": [],
   "source": [
    "#Getting the average treatment effect with upper and lower bounds\n",
    "ate_x, ate_x_lb, ate_x_ub = learner_x.estimate_ate(X=X, treatment=treatment, y=y, p = prop_scores[:, 1])"
   ]
  },
  {
   "cell_type": "code",
   "execution_count": 33,
   "id": "44f89c05",
   "metadata": {},
   "outputs": [
    {
     "data": {
      "text/plain": [
       "(array([0.42223023]), array([0.41222929]), array([0.43223118]))"
      ]
     },
     "execution_count": 33,
     "metadata": {},
     "output_type": "execute_result"
    }
   ],
   "source": [
    "ate_x, ate_x_lb, ate_x_ub"
   ]
  },
  {
   "cell_type": "markdown",
   "id": "2c091795",
   "metadata": {},
   "source": [
    "### Generate the ITE"
   ]
  },
  {
   "cell_type": "code",
   "execution_count": 35,
   "id": "659bff64",
   "metadata": {},
   "outputs": [],
   "source": [
    "#Getting the average treatment effect with upper and lower bounds\n",
    "cate_x = learner_x.fit_predict(X=X, treatment=treatment, y=y, p = prop_scores[:, 1])"
   ]
  },
  {
   "cell_type": "code",
   "execution_count": 37,
   "id": "4d92b4dd",
   "metadata": {},
   "outputs": [
    {
     "data": {
      "image/png": "[encoded data removed]",
      "text/plain": [
       "<Figure size 864x576 with 1 Axes>"
      ]
     },
     "metadata": {
      "needs_background": "light"
     },
     "output_type": "display_data"
    }
   ],
   "source": [
    "alpha = 0.2\n",
    "bins = 30\n",
    "plt.figure(figsize=(12,8))\n",
    "plt.hist(cate_x,alpha=alpha,bins=bins,label='X-Learner')\n",
    "plt.title('Distribution of CATE Predictions by X');"
   ]
  },
  {
   "cell_type": "code",
   "execution_count": 38,
   "id": "33f80f6d",
   "metadata": {},
   "outputs": [],
   "source": [
    "X['ite'] = cate_x"
   ]
  },
  {
   "cell_type": "code",
   "execution_count": 39,
   "id": "d13e3fd1",
   "metadata": {},
   "outputs": [
    {
     "data": {
      "text/html": [
       "<div>\n",
       "<style scoped>\n",
       "    .dataframe tbody tr th:only-of-type {\n",
       "        vertical-align: middle;\n",
       "    }\n",
       "\n",
       "    .dataframe tbody tr th {\n",
       "        vertical-align: top;\n",
       "    }\n",
       "\n",
       "    .dataframe thead th {\n",
       "        text-align: right;\n",
       "    }\n",
       "</style>\n",
       "<table border=\"1\" class=\"dataframe\">\n",
       "  <thead>\n",
       "    <tr style=\"text-align: right;\">\n",
       "      <th></th>\n",
       "      <th>no_of_trainings</th>\n",
       "      <th>age</th>\n",
       "      <th>previous_year_rating</th>\n",
       "      <th>length_of_service</th>\n",
       "      <th>awards_won?</th>\n",
       "      <th>avg_training_score</th>\n",
       "      <th>department*Finance</th>\n",
       "      <th>department*HR</th>\n",
       "      <th>department*Legal</th>\n",
       "      <th>department*Operations</th>\n",
       "      <th>...</th>\n",
       "      <th>region*region_6</th>\n",
       "      <th>region*region_7</th>\n",
       "      <th>region*region_8</th>\n",
       "      <th>region*region_9</th>\n",
       "      <th>education*Below Secondary</th>\n",
       "      <th>education*Master's &amp; above</th>\n",
       "      <th>gender*m</th>\n",
       "      <th>recruitment_channel*referred</th>\n",
       "      <th>recruitment_channel*sourcing</th>\n",
       "      <th>ite</th>\n",
       "    </tr>\n",
       "  </thead>\n",
       "  <tbody>\n",
       "    <tr>\n",
       "      <th>11</th>\n",
       "      <td>1</td>\n",
       "      <td>35</td>\n",
       "      <td>5.0</td>\n",
       "      <td>3</td>\n",
       "      <td>0</td>\n",
       "      <td>50</td>\n",
       "      <td>0</td>\n",
       "      <td>0</td>\n",
       "      <td>0</td>\n",
       "      <td>0</td>\n",
       "      <td>...</td>\n",
       "      <td>0</td>\n",
       "      <td>1</td>\n",
       "      <td>0</td>\n",
       "      <td>0</td>\n",
       "      <td>0</td>\n",
       "      <td>0</td>\n",
       "      <td>0</td>\n",
       "      <td>0</td>\n",
       "      <td>1</td>\n",
       "      <td>0.404515</td>\n",
       "    </tr>\n",
       "    <tr>\n",
       "      <th>39</th>\n",
       "      <td>1</td>\n",
       "      <td>33</td>\n",
       "      <td>5.0</td>\n",
       "      <td>6</td>\n",
       "      <td>0</td>\n",
       "      <td>51</td>\n",
       "      <td>0</td>\n",
       "      <td>0</td>\n",
       "      <td>0</td>\n",
       "      <td>0</td>\n",
       "      <td>...</td>\n",
       "      <td>0</td>\n",
       "      <td>0</td>\n",
       "      <td>0</td>\n",
       "      <td>0</td>\n",
       "      <td>0</td>\n",
       "      <td>0</td>\n",
       "      <td>1</td>\n",
       "      <td>0</td>\n",
       "      <td>1</td>\n",
       "      <td>0.405538</td>\n",
       "    </tr>\n",
       "    <tr>\n",
       "      <th>60</th>\n",
       "      <td>1</td>\n",
       "      <td>50</td>\n",
       "      <td>4.0</td>\n",
       "      <td>17</td>\n",
       "      <td>0</td>\n",
       "      <td>47</td>\n",
       "      <td>0</td>\n",
       "      <td>0</td>\n",
       "      <td>0</td>\n",
       "      <td>0</td>\n",
       "      <td>...</td>\n",
       "      <td>0</td>\n",
       "      <td>0</td>\n",
       "      <td>0</td>\n",
       "      <td>0</td>\n",
       "      <td>0</td>\n",
       "      <td>1</td>\n",
       "      <td>1</td>\n",
       "      <td>0</td>\n",
       "      <td>0</td>\n",
       "      <td>0.738824</td>\n",
       "    </tr>\n",
       "    <tr>\n",
       "      <th>69</th>\n",
       "      <td>1</td>\n",
       "      <td>30</td>\n",
       "      <td>3.0</td>\n",
       "      <td>7</td>\n",
       "      <td>0</td>\n",
       "      <td>84</td>\n",
       "      <td>0</td>\n",
       "      <td>0</td>\n",
       "      <td>0</td>\n",
       "      <td>0</td>\n",
       "      <td>...</td>\n",
       "      <td>0</td>\n",
       "      <td>0</td>\n",
       "      <td>0</td>\n",
       "      <td>0</td>\n",
       "      <td>0</td>\n",
       "      <td>0</td>\n",
       "      <td>1</td>\n",
       "      <td>0</td>\n",
       "      <td>0</td>\n",
       "      <td>0.593513</td>\n",
       "    </tr>\n",
       "    <tr>\n",
       "      <th>71</th>\n",
       "      <td>1</td>\n",
       "      <td>34</td>\n",
       "      <td>5.0</td>\n",
       "      <td>7</td>\n",
       "      <td>0</td>\n",
       "      <td>78</td>\n",
       "      <td>0</td>\n",
       "      <td>0</td>\n",
       "      <td>0</td>\n",
       "      <td>0</td>\n",
       "      <td>...</td>\n",
       "      <td>0</td>\n",
       "      <td>0</td>\n",
       "      <td>0</td>\n",
       "      <td>0</td>\n",
       "      <td>0</td>\n",
       "      <td>1</td>\n",
       "      <td>1</td>\n",
       "      <td>0</td>\n",
       "      <td>0</td>\n",
       "      <td>0.234441</td>\n",
       "    </tr>\n",
       "  </tbody>\n",
       "</table>\n",
       "<p>5 rows × 53 columns</p>\n",
       "</div>"
      ],
      "text/plain": [
       "    no_of_trainings  age  previous_year_rating  length_of_service  \\\n",
       "11                1   35                   5.0                  3   \n",
       "39                1   33                   5.0                  6   \n",
       "60                1   50                   4.0                 17   \n",
       "69                1   30                   3.0                  7   \n",
       "71                1   34                   5.0                  7   \n",
       "\n",
       "    awards_won?  avg_training_score  department*Finance  department*HR  \\\n",
       "11            0                  50                   0              0   \n",
       "39            0                  51                   0              0   \n",
       "60            0                  47                   0              0   \n",
       "69            0                  84                   0              0   \n",
       "71            0                  78                   0              0   \n",
       "\n",
       "    department*Legal  department*Operations  ...  region*region_6  \\\n",
       "11                 0                      0  ...                0   \n",
       "39                 0                      0  ...                0   \n",
       "60                 0                      0  ...                0   \n",
       "69                 0                      0  ...                0   \n",
       "71                 0                      0  ...                0   \n",
       "\n",
       "    region*region_7  region*region_8  region*region_9  \\\n",
       "11                1                0                0   \n",
       "39                0                0                0   \n",
       "60                0                0                0   \n",
       "69                0                0                0   \n",
       "71                0                0                0   \n",
       "\n",
       "    education*Below Secondary  education*Master's & above  gender*m  \\\n",
       "11                          0                           0         0   \n",
       "39                          0                           0         1   \n",
       "60                          0                           1         1   \n",
       "69                          0                           0         1   \n",
       "71                          0                           1         1   \n",
       "\n",
       "    recruitment_channel*referred  recruitment_channel*sourcing       ite  \n",
       "11                             0                             1  0.404515  \n",
       "39                             0                             1  0.405538  \n",
       "60                             0                             0  0.738824  \n",
       "69                             0                             0  0.593513  \n",
       "71                             0                             0  0.234441  \n",
       "\n",
       "[5 rows x 53 columns]"
      ]
     },
     "execution_count": 39,
     "metadata": {},
     "output_type": "execute_result"
    }
   ],
   "source": [
    "X.head()"
   ]
  },
  {
   "cell_type": "markdown",
   "id": "ad49285c",
   "metadata": {},
   "source": [
    "### Segementation of employees according to ITE effects.\n",
    "\n",
    "In order to segment the employees into groups, we adopt the [grabngo](https://colab.research.google.com/drive/12oz8O04Gz1B8RC9w_RJWCDCysHiNieTo?usp=sharing) method.\n",
    "\n",
    "* Persuadables--Those who put in super peformance at work through promotion incentive\n",
    "* Sleeping dogs--Those who put in super performance without promotion and do not put on super performance with promotion\n",
    "* No Impact--Those who put in their super performance with or without promotion\n",
    "\n"
   ]
  },
  {
   "cell_type": "code",
   "execution_count": 40,
   "id": "8484f394",
   "metadata": {},
   "outputs": [],
   "source": [
    "# Segmentation function\n",
    "\n",
    "def segmentation(x):\n",
    "    if x < -0.5:\n",
    "        return 'sleeping-dog'\n",
    "    elif x > 0.5:\n",
    "        return 'persuadables'\n",
    "    else:\n",
    "        return 'no_impact'"
   ]
  },
  {
   "cell_type": "code",
   "execution_count": 41,
   "id": "c3178686",
   "metadata": {},
   "outputs": [],
   "source": [
    "X['ite_segment'] = X['ite'].apply(segmentation)"
   ]
  },
  {
   "cell_type": "code",
   "execution_count": 42,
   "id": "f390aac9",
   "metadata": {},
   "outputs": [
    {
     "data": {
      "text/html": [
       "<div>\n",
       "<style scoped>\n",
       "    .dataframe tbody tr th:only-of-type {\n",
       "        vertical-align: middle;\n",
       "    }\n",
       "\n",
       "    .dataframe tbody tr th {\n",
       "        vertical-align: top;\n",
       "    }\n",
       "\n",
       "    .dataframe thead th {\n",
       "        text-align: right;\n",
       "    }\n",
       "</style>\n",
       "<table border=\"1\" class=\"dataframe\">\n",
       "  <thead>\n",
       "    <tr style=\"text-align: right;\">\n",
       "      <th></th>\n",
       "      <th>no_of_trainings</th>\n",
       "      <th>age</th>\n",
       "      <th>previous_year_rating</th>\n",
       "      <th>length_of_service</th>\n",
       "      <th>awards_won?</th>\n",
       "      <th>avg_training_score</th>\n",
       "      <th>department*Finance</th>\n",
       "      <th>department*HR</th>\n",
       "      <th>department*Legal</th>\n",
       "      <th>department*Operations</th>\n",
       "      <th>...</th>\n",
       "      <th>region*region_7</th>\n",
       "      <th>region*region_8</th>\n",
       "      <th>region*region_9</th>\n",
       "      <th>education*Below Secondary</th>\n",
       "      <th>education*Master's &amp; above</th>\n",
       "      <th>gender*m</th>\n",
       "      <th>recruitment_channel*referred</th>\n",
       "      <th>recruitment_channel*sourcing</th>\n",
       "      <th>ite</th>\n",
       "      <th>ite_segment</th>\n",
       "    </tr>\n",
       "  </thead>\n",
       "  <tbody>\n",
       "    <tr>\n",
       "      <th>11</th>\n",
       "      <td>1</td>\n",
       "      <td>35</td>\n",
       "      <td>5.0</td>\n",
       "      <td>3</td>\n",
       "      <td>0</td>\n",
       "      <td>50</td>\n",
       "      <td>0</td>\n",
       "      <td>0</td>\n",
       "      <td>0</td>\n",
       "      <td>0</td>\n",
       "      <td>...</td>\n",
       "      <td>1</td>\n",
       "      <td>0</td>\n",
       "      <td>0</td>\n",
       "      <td>0</td>\n",
       "      <td>0</td>\n",
       "      <td>0</td>\n",
       "      <td>0</td>\n",
       "      <td>1</td>\n",
       "      <td>0.404515</td>\n",
       "      <td>no_impact</td>\n",
       "    </tr>\n",
       "    <tr>\n",
       "      <th>39</th>\n",
       "      <td>1</td>\n",
       "      <td>33</td>\n",
       "      <td>5.0</td>\n",
       "      <td>6</td>\n",
       "      <td>0</td>\n",
       "      <td>51</td>\n",
       "      <td>0</td>\n",
       "      <td>0</td>\n",
       "      <td>0</td>\n",
       "      <td>0</td>\n",
       "      <td>...</td>\n",
       "      <td>0</td>\n",
       "      <td>0</td>\n",
       "      <td>0</td>\n",
       "      <td>0</td>\n",
       "      <td>0</td>\n",
       "      <td>1</td>\n",
       "      <td>0</td>\n",
       "      <td>1</td>\n",
       "      <td>0.405538</td>\n",
       "      <td>no_impact</td>\n",
       "    </tr>\n",
       "    <tr>\n",
       "      <th>60</th>\n",
       "      <td>1</td>\n",
       "      <td>50</td>\n",
       "      <td>4.0</td>\n",
       "      <td>17</td>\n",
       "      <td>0</td>\n",
       "      <td>47</td>\n",
       "      <td>0</td>\n",
       "      <td>0</td>\n",
       "      <td>0</td>\n",
       "      <td>0</td>\n",
       "      <td>...</td>\n",
       "      <td>0</td>\n",
       "      <td>0</td>\n",
       "      <td>0</td>\n",
       "      <td>0</td>\n",
       "      <td>1</td>\n",
       "      <td>1</td>\n",
       "      <td>0</td>\n",
       "      <td>0</td>\n",
       "      <td>0.738824</td>\n",
       "      <td>persuadables</td>\n",
       "    </tr>\n",
       "    <tr>\n",
       "      <th>69</th>\n",
       "      <td>1</td>\n",
       "      <td>30</td>\n",
       "      <td>3.0</td>\n",
       "      <td>7</td>\n",
       "      <td>0</td>\n",
       "      <td>84</td>\n",
       "      <td>0</td>\n",
       "      <td>0</td>\n",
       "      <td>0</td>\n",
       "      <td>0</td>\n",
       "      <td>...</td>\n",
       "      <td>0</td>\n",
       "      <td>0</td>\n",
       "      <td>0</td>\n",
       "      <td>0</td>\n",
       "      <td>0</td>\n",
       "      <td>1</td>\n",
       "      <td>0</td>\n",
       "      <td>0</td>\n",
       "      <td>0.593513</td>\n",
       "      <td>persuadables</td>\n",
       "    </tr>\n",
       "    <tr>\n",
       "      <th>71</th>\n",
       "      <td>1</td>\n",
       "      <td>34</td>\n",
       "      <td>5.0</td>\n",
       "      <td>7</td>\n",
       "      <td>0</td>\n",
       "      <td>78</td>\n",
       "      <td>0</td>\n",
       "      <td>0</td>\n",
       "      <td>0</td>\n",
       "      <td>0</td>\n",
       "      <td>...</td>\n",
       "      <td>0</td>\n",
       "      <td>0</td>\n",
       "      <td>0</td>\n",
       "      <td>0</td>\n",
       "      <td>1</td>\n",
       "      <td>1</td>\n",
       "      <td>0</td>\n",
       "      <td>0</td>\n",
       "      <td>0.234441</td>\n",
       "      <td>no_impact</td>\n",
       "    </tr>\n",
       "  </tbody>\n",
       "</table>\n",
       "<p>5 rows × 54 columns</p>\n",
       "</div>"
      ],
      "text/plain": [
       "    no_of_trainings  age  previous_year_rating  length_of_service  \\\n",
       "11                1   35                   5.0                  3   \n",
       "39                1   33                   5.0                  6   \n",
       "60                1   50                   4.0                 17   \n",
       "69                1   30                   3.0                  7   \n",
       "71                1   34                   5.0                  7   \n",
       "\n",
       "    awards_won?  avg_training_score  department*Finance  department*HR  \\\n",
       "11            0                  50                   0              0   \n",
       "39            0                  51                   0              0   \n",
       "60            0                  47                   0              0   \n",
       "69            0                  84                   0              0   \n",
       "71            0                  78                   0              0   \n",
       "\n",
       "    department*Legal  department*Operations  ...  region*region_7  \\\n",
       "11                 0                      0  ...                1   \n",
       "39                 0                      0  ...                0   \n",
       "60                 0                      0  ...                0   \n",
       "69                 0                      0  ...                0   \n",
       "71                 0                      0  ...                0   \n",
       "\n",
       "    region*region_8  region*region_9  education*Below Secondary  \\\n",
       "11                0                0                          0   \n",
       "39                0                0                          0   \n",
       "60                0                0                          0   \n",
       "69                0                0                          0   \n",
       "71                0                0                          0   \n",
       "\n",
       "    education*Master's & above  gender*m  recruitment_channel*referred  \\\n",
       "11                           0         0                             0   \n",
       "39                           0         1                             0   \n",
       "60                           1         1                             0   \n",
       "69                           0         1                             0   \n",
       "71                           1         1                             0   \n",
       "\n",
       "    recruitment_channel*sourcing       ite   ite_segment  \n",
       "11                             1  0.404515     no_impact  \n",
       "39                             1  0.405538     no_impact  \n",
       "60                             0  0.738824  persuadables  \n",
       "69                             0  0.593513  persuadables  \n",
       "71                             0  0.234441     no_impact  \n",
       "\n",
       "[5 rows x 54 columns]"
      ]
     },
     "execution_count": 42,
     "metadata": {},
     "output_type": "execute_result"
    }
   ],
   "source": [
    "X.head()"
   ]
  },
  {
   "cell_type": "code",
   "execution_count": 44,
   "id": "f8cb4daf",
   "metadata": {},
   "outputs": [
    {
     "data": {
      "image/png": "[encoded data removed]",
      "text/plain": [
       "<Figure size 432x288 with 1 Axes>"
      ]
     },
     "metadata": {
      "needs_background": "light"
     },
     "output_type": "display_data"
    }
   ],
   "source": [
    "sns.countplot(x = X['ite_segment']);"
   ]
  },
  {
   "cell_type": "code",
   "execution_count": 48,
   "id": "72f1c61b",
   "metadata": {},
   "outputs": [],
   "source": [
    "df['ite'] = cate_x"
   ]
  },
  {
   "cell_type": "code",
   "execution_count": 49,
   "id": "e64f460d",
   "metadata": {},
   "outputs": [],
   "source": [
    "df['ite_segment'] = df['ite'].apply(segmentation)"
   ]
  },
  {
   "cell_type": "code",
   "execution_count": 50,
   "id": "75c6d341",
   "metadata": {},
   "outputs": [
    {
     "data": {
      "text/html": [
       "<div>\n",
       "<style scoped>\n",
       "    .dataframe tbody tr th:only-of-type {\n",
       "        vertical-align: middle;\n",
       "    }\n",
       "\n",
       "    .dataframe tbody tr th {\n",
       "        vertical-align: top;\n",
       "    }\n",
       "\n",
       "    .dataframe thead th {\n",
       "        text-align: right;\n",
       "    }\n",
       "</style>\n",
       "<table border=\"1\" class=\"dataframe\">\n",
       "  <thead>\n",
       "    <tr style=\"text-align: right;\">\n",
       "      <th></th>\n",
       "      <th>department</th>\n",
       "      <th>region</th>\n",
       "      <th>education</th>\n",
       "      <th>gender</th>\n",
       "      <th>recruitment_channel</th>\n",
       "      <th>no_of_trainings</th>\n",
       "      <th>age</th>\n",
       "      <th>previous_year_rating</th>\n",
       "      <th>length_of_service</th>\n",
       "      <th>Performance</th>\n",
       "      <th>awards_won?</th>\n",
       "      <th>avg_training_score</th>\n",
       "      <th>Treatment</th>\n",
       "      <th>ite</th>\n",
       "      <th>ite_segment</th>\n",
       "    </tr>\n",
       "  </thead>\n",
       "  <tbody>\n",
       "    <tr>\n",
       "      <th>11</th>\n",
       "      <td>Sales &amp; Marketing</td>\n",
       "      <td>region_7</td>\n",
       "      <td>Bachelor's</td>\n",
       "      <td>f</td>\n",
       "      <td>sourcing</td>\n",
       "      <td>1</td>\n",
       "      <td>35</td>\n",
       "      <td>5.0</td>\n",
       "      <td>3</td>\n",
       "      <td>1</td>\n",
       "      <td>0</td>\n",
       "      <td>50</td>\n",
       "      <td>1</td>\n",
       "      <td>0.404515</td>\n",
       "      <td>no_impact</td>\n",
       "    </tr>\n",
       "    <tr>\n",
       "      <th>39</th>\n",
       "      <td>Sales &amp; Marketing</td>\n",
       "      <td>region_28</td>\n",
       "      <td>Bachelor's</td>\n",
       "      <td>m</td>\n",
       "      <td>sourcing</td>\n",
       "      <td>1</td>\n",
       "      <td>33</td>\n",
       "      <td>5.0</td>\n",
       "      <td>6</td>\n",
       "      <td>1</td>\n",
       "      <td>0</td>\n",
       "      <td>51</td>\n",
       "      <td>1</td>\n",
       "      <td>0.405538</td>\n",
       "      <td>no_impact</td>\n",
       "    </tr>\n",
       "    <tr>\n",
       "      <th>60</th>\n",
       "      <td>Sales &amp; Marketing</td>\n",
       "      <td>region_4</td>\n",
       "      <td>Master's &amp; above</td>\n",
       "      <td>m</td>\n",
       "      <td>other</td>\n",
       "      <td>1</td>\n",
       "      <td>50</td>\n",
       "      <td>4.0</td>\n",
       "      <td>17</td>\n",
       "      <td>1</td>\n",
       "      <td>0</td>\n",
       "      <td>47</td>\n",
       "      <td>1</td>\n",
       "      <td>0.738824</td>\n",
       "      <td>persuadables</td>\n",
       "    </tr>\n",
       "    <tr>\n",
       "      <th>69</th>\n",
       "      <td>Analytics</td>\n",
       "      <td>region_31</td>\n",
       "      <td>Bachelor's</td>\n",
       "      <td>m</td>\n",
       "      <td>other</td>\n",
       "      <td>1</td>\n",
       "      <td>30</td>\n",
       "      <td>3.0</td>\n",
       "      <td>7</td>\n",
       "      <td>1</td>\n",
       "      <td>0</td>\n",
       "      <td>84</td>\n",
       "      <td>1</td>\n",
       "      <td>0.593513</td>\n",
       "      <td>persuadables</td>\n",
       "    </tr>\n",
       "    <tr>\n",
       "      <th>71</th>\n",
       "      <td>Technology</td>\n",
       "      <td>region_22</td>\n",
       "      <td>Master's &amp; above</td>\n",
       "      <td>m</td>\n",
       "      <td>other</td>\n",
       "      <td>1</td>\n",
       "      <td>34</td>\n",
       "      <td>5.0</td>\n",
       "      <td>7</td>\n",
       "      <td>1</td>\n",
       "      <td>0</td>\n",
       "      <td>78</td>\n",
       "      <td>1</td>\n",
       "      <td>0.234441</td>\n",
       "      <td>no_impact</td>\n",
       "    </tr>\n",
       "  </tbody>\n",
       "</table>\n",
       "</div>"
      ],
      "text/plain": [
       "           department     region         education gender recruitment_channel  \\\n",
       "11  Sales & Marketing   region_7        Bachelor's      f            sourcing   \n",
       "39  Sales & Marketing  region_28        Bachelor's      m            sourcing   \n",
       "60  Sales & Marketing   region_4  Master's & above      m               other   \n",
       "69          Analytics  region_31        Bachelor's      m               other   \n",
       "71         Technology  region_22  Master's & above      m               other   \n",
       "\n",
       "    no_of_trainings  age  previous_year_rating  length_of_service  \\\n",
       "11                1   35                   5.0                  3   \n",
       "39                1   33                   5.0                  6   \n",
       "60                1   50                   4.0                 17   \n",
       "69                1   30                   3.0                  7   \n",
       "71                1   34                   5.0                  7   \n",
       "\n",
       "    Performance  awards_won?  avg_training_score  Treatment       ite  \\\n",
       "11            1            0                  50          1  0.404515   \n",
       "39            1            0                  51          1  0.405538   \n",
       "60            1            0                  47          1  0.738824   \n",
       "69            1            0                  84          1  0.593513   \n",
       "71            1            0                  78          1  0.234441   \n",
       "\n",
       "     ite_segment  \n",
       "11     no_impact  \n",
       "39     no_impact  \n",
       "60  persuadables  \n",
       "69  persuadables  \n",
       "71     no_impact  "
      ]
     },
     "execution_count": 50,
     "metadata": {},
     "output_type": "execute_result"
    }
   ],
   "source": [
    "df.head()"
   ]
  },
  {
   "cell_type": "markdown",
   "id": "2661df49",
   "metadata": {},
   "source": [
    "### Promotion vs. Department, Education and Gender"
   ]
  },
  {
   "cell_type": "code",
   "execution_count": 51,
   "id": "1becf0fa",
   "metadata": {},
   "outputs": [
    {
     "data": {
      "image/png": "[encoded data removed]",
      "text/plain": [
       "<Figure size 636.375x360 with 1 Axes>"
      ]
     },
     "metadata": {
      "needs_background": "light"
     },
     "output_type": "display_data"
    }
   ],
   "source": [
    "sns.catplot(x=\"department\",kind=\"count\",hue=\"ite_segment\",height=5,aspect=1.5,data=df)\n",
    "plt.ylabel(\"Count\",size=14)\n",
    "plt.tight_layout()\n",
    "plt.xticks(rotation= 45)\n",
    "plt.title(\"Department of Employees Vs. Promotion Incentive\");"
   ]
  },
  {
   "cell_type": "code",
   "execution_count": 52,
   "id": "3b43d7cf",
   "metadata": {},
   "outputs": [
    {
     "data": {
      "image/png": "[encoded data removed]",
      "text/plain": [
       "<Figure size 636.375x360 with 1 Axes>"
      ]
     },
     "metadata": {
      "needs_background": "light"
     },
     "output_type": "display_data"
    }
   ],
   "source": [
    "sns.catplot(x=\"education\",kind=\"count\",hue=\"ite_segment\",height=5,aspect=1.5,data=df)\n",
    "plt.ylabel(\"Count\",size=14)\n",
    "plt.tight_layout()\n",
    "plt.xticks(rotation= 45)\n",
    "plt.title(\"Education of Employees Vs. Promotion Incentive\");"
   ]
  },
  {
   "cell_type": "code",
   "execution_count": 53,
   "id": "cecf51b0",
   "metadata": {},
   "outputs": [
    {
     "data": {
      "image/png": "[encoded data removed]",
      "text/plain": [
       "<Figure size 636.375x360 with 1 Axes>"
      ]
     },
     "metadata": {
      "needs_background": "light"
     },
     "output_type": "display_data"
    }
   ],
   "source": [
    "sns.catplot(x=\"gender\",kind=\"count\",hue=\"ite_segment\",height=5,aspect=1.5,data=df)\n",
    "plt.ylabel(\"Count\",size=14)\n",
    "plt.tight_layout()\n",
    "plt.xticks(rotation= 45)\n",
    "plt.title(\"Gender of Employees Vs. Promotion Incentive\");"
   ]
  },
  {
   "cell_type": "markdown",
   "id": "8f868f11",
   "metadata": {},
   "source": [
    "### Conclusions\n",
    "\n",
    "* Promotion incentive has a positive impact on performance of the employees.  Those who received promotion were 45% more productive than those without promotion.\n",
    "* There were about 3000 employees that were motivated by promotion while promotion did not have any impact on about 6000 employees.\n",
    "* Those working in Sales and Marketing units were most responsive to promotion compared to other departments\n",
    "* Male employees also seem to respond more to promotion than their female counterparts.\n",
    "\n",
    "In using promotion as an incentive to boost productivity, the company should target employees in sales and marketing as well as male employees as much as possible."
   ]
  },
  {
   "cell_type": "markdown",
   "id": "a465ae59",
   "metadata": {},
   "source": [
    "### Credits\n",
    "\n",
    "* Explainable S learner uplift model using python package causalml by Amy--Grab N GoInfo\n",
    "* CausalML:  Analyzing AB Test by Antons Ruberts"
   ]
  },
  {
   "cell_type": "code",
   "execution_count": null,
   "id": "5ef56d86",
   "metadata": {},
   "outputs": [],
   "source": []
  }
 ],
 "metadata": {
  "kernelspec": {
   "display_name": "Python 3 (ipykernel)",
   "language": "python",
   "name": "python3"
  },
  "language_info": {
   "codemirror_mode": {
    "name": "ipython",
    "version": 3
   },
   "file_extension": ".py",
   "mimetype": "text/x-python",
   "name": "python",
   "nbconvert_exporter": "python",
   "pygments_lexer": "ipython3",
   "version": "3.9.7"
  }
 },
 "nbformat": 4,
 "nbformat_minor": 5
}
