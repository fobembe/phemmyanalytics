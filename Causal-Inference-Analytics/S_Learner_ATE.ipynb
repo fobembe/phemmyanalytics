{
  "nbformat": 4,
  "nbformat_minor": 0,
  "metadata": {
    "colab": {
      "provenance": []
    },
    "kernelspec": {
      "name": "python3",
      "display_name": "Python 3"
    },
    "language_info": {
      "name": "python"
    }
  },
  "cells": [
    {
      "cell_type": "code",
      "source": [
        "!pip install causalml"
      ],
      "metadata": {
        "id": "Ojkj3MjYxdLx"
      },
      "execution_count": null,
      "outputs": []
    },
    {
      "cell_type": "code",
      "execution_count": 2,
      "metadata": {
        "id": "GZF2AYY-sKpA"
      },
      "outputs": [],
      "source": [
        "import pandas as pd\n",
        "import numpy as np\n",
        "import matplotlib.pyplot as plt\n",
        "import seaborn as sns"
      ]
    },
    {
      "cell_type": "code",
      "source": [
        "from causalml.inference.meta import LRSRegressor,BaseSRegressor\n",
        "from xgboost import XGBRegressor"
      ],
      "metadata": {
        "id": "TaDXCbwKxW_3"
      },
      "execution_count": 3,
      "outputs": []
    },
    {
      "cell_type": "code",
      "source": [
        "data1 = pd.read_csv('/content/drive/MyDrive/Discount_Sales Project/customers.csv')\n",
        "data1.head()"
      ],
      "metadata": {
        "colab": {
          "base_uri": "https://localhost:8080/",
          "height": 354
        },
        "id": "1CgCbPCXy0xV",
        "outputId": "020b8b6f-f20d-4654-aa0d-5dd7dec2f875"
      },
      "execution_count": 4,
      "outputs": [
        {
          "output_type": "execute_result",
          "data": {
            "text/plain": [
              "   CustomerKey            BirthDate  Education Gender MaritalStatus  \\\n",
              "0            1  1966-04-08 00:00:00  Bachelors      M             M   \n",
              "1            2  1965-05-14 00:00:00  Bachelors      M             S   \n",
              "2            3  1965-08-12 00:00:00  Bachelors      M             M   \n",
              "3            4  1968-02-15 00:00:00  Bachelors      F             S   \n",
              "4            5  1968-08-08 00:00:00  Bachelors      F             S   \n",
              "\n",
              "     Occupation  Sum of YearlyIncome  Sum of DiscountAmount  \\\n",
              "0  Professional                90000                    NaN   \n",
              "1  Professional                60000                    NaN   \n",
              "2  Professional                60000                  41.99   \n",
              "3  Professional                70000                   0.00   \n",
              "4  Professional                80000                  21.00   \n",
              "\n",
              "   Sum of DiscountQuantity  Sum of SalesAmount  Sum of SalesQuantity  \\\n",
              "0                      NaN                 NaN                   NaN   \n",
              "1                      NaN                 NaN                   NaN   \n",
              "2                      4.0              197.97                   4.0   \n",
              "3                      0.0               59.99                   1.0   \n",
              "4                      2.0              158.97                   3.0   \n",
              "\n",
              "   Average of UnitPrice  \n",
              "0                   NaN  \n",
              "1                   NaN  \n",
              "2                 59.99  \n",
              "3                 59.99  \n",
              "4                 59.99  "
            ],
            "text/html": [
              "\n",
              "  <div id=\"df-41c9e206-bfaa-4574-a260-b56246e8b70a\">\n",
              "    <div class=\"colab-df-container\">\n",
              "      <div>\n",
              "<style scoped>\n",
              "    .dataframe tbody tr th:only-of-type {\n",
              "        vertical-align: middle;\n",
              "    }\n",
              "\n",
              "    .dataframe tbody tr th {\n",
              "        vertical-align: top;\n",
              "    }\n",
              "\n",
              "    .dataframe thead th {\n",
              "        text-align: right;\n",
              "    }\n",
              "</style>\n",
              "<table border=\"1\" class=\"dataframe\">\n",
              "  <thead>\n",
              "    <tr style=\"text-align: right;\">\n",
              "      <th></th>\n",
              "      <th>CustomerKey</th>\n",
              "      <th>BirthDate</th>\n",
              "      <th>Education</th>\n",
              "      <th>Gender</th>\n",
              "      <th>MaritalStatus</th>\n",
              "      <th>Occupation</th>\n",
              "      <th>Sum of YearlyIncome</th>\n",
              "      <th>Sum of DiscountAmount</th>\n",
              "      <th>Sum of DiscountQuantity</th>\n",
              "      <th>Sum of SalesAmount</th>\n",
              "      <th>Sum of SalesQuantity</th>\n",
              "      <th>Average of UnitPrice</th>\n",
              "    </tr>\n",
              "  </thead>\n",
              "  <tbody>\n",
              "    <tr>\n",
              "      <th>0</th>\n",
              "      <td>1</td>\n",
              "      <td>1966-04-08 00:00:00</td>\n",
              "      <td>Bachelors</td>\n",
              "      <td>M</td>\n",
              "      <td>M</td>\n",
              "      <td>Professional</td>\n",
              "      <td>90000</td>\n",
              "      <td>NaN</td>\n",
              "      <td>NaN</td>\n",
              "      <td>NaN</td>\n",
              "      <td>NaN</td>\n",
              "      <td>NaN</td>\n",
              "    </tr>\n",
              "    <tr>\n",
              "      <th>1</th>\n",
              "      <td>2</td>\n",
              "      <td>1965-05-14 00:00:00</td>\n",
              "      <td>Bachelors</td>\n",
              "      <td>M</td>\n",
              "      <td>S</td>\n",
              "      <td>Professional</td>\n",
              "      <td>60000</td>\n",
              "      <td>NaN</td>\n",
              "      <td>NaN</td>\n",
              "      <td>NaN</td>\n",
              "      <td>NaN</td>\n",
              "      <td>NaN</td>\n",
              "    </tr>\n",
              "    <tr>\n",
              "      <th>2</th>\n",
              "      <td>3</td>\n",
              "      <td>1965-08-12 00:00:00</td>\n",
              "      <td>Bachelors</td>\n",
              "      <td>M</td>\n",
              "      <td>M</td>\n",
              "      <td>Professional</td>\n",
              "      <td>60000</td>\n",
              "      <td>41.99</td>\n",
              "      <td>4.0</td>\n",
              "      <td>197.97</td>\n",
              "      <td>4.0</td>\n",
              "      <td>59.99</td>\n",
              "    </tr>\n",
              "    <tr>\n",
              "      <th>3</th>\n",
              "      <td>4</td>\n",
              "      <td>1968-02-15 00:00:00</td>\n",
              "      <td>Bachelors</td>\n",
              "      <td>F</td>\n",
              "      <td>S</td>\n",
              "      <td>Professional</td>\n",
              "      <td>70000</td>\n",
              "      <td>0.00</td>\n",
              "      <td>0.0</td>\n",
              "      <td>59.99</td>\n",
              "      <td>1.0</td>\n",
              "      <td>59.99</td>\n",
              "    </tr>\n",
              "    <tr>\n",
              "      <th>4</th>\n",
              "      <td>5</td>\n",
              "      <td>1968-08-08 00:00:00</td>\n",
              "      <td>Bachelors</td>\n",
              "      <td>F</td>\n",
              "      <td>S</td>\n",
              "      <td>Professional</td>\n",
              "      <td>80000</td>\n",
              "      <td>21.00</td>\n",
              "      <td>2.0</td>\n",
              "      <td>158.97</td>\n",
              "      <td>3.0</td>\n",
              "      <td>59.99</td>\n",
              "    </tr>\n",
              "  </tbody>\n",
              "</table>\n",
              "</div>\n",
              "      <button class=\"colab-df-convert\" onclick=\"convertToInteractive('df-41c9e206-bfaa-4574-a260-b56246e8b70a')\"\n",
              "              title=\"Convert this dataframe to an interactive table.\"\n",
              "              style=\"display:none;\">\n",
              "        \n",
              "  <svg xmlns=\"http://www.w3.org/2000/svg\" height=\"24px\"viewBox=\"0 0 24 24\"\n",
              "       width=\"24px\">\n",
              "    <path d=\"M0 0h24v24H0V0z\" fill=\"none\"/>\n",
              "    <path d=\"M18.56 5.44l.94 2.06.94-2.06 2.06-.94-2.06-.94-.94-2.06-.94 2.06-2.06.94zm-11 1L8.5 8.5l.94-2.06 2.06-.94-2.06-.94L8.5 2.5l-.94 2.06-2.06.94zm10 10l.94 2.06.94-2.06 2.06-.94-2.06-.94-.94-2.06-.94 2.06-2.06.94z\"/><path d=\"M17.41 7.96l-1.37-1.37c-.4-.4-.92-.59-1.43-.59-.52 0-1.04.2-1.43.59L10.3 9.45l-7.72 7.72c-.78.78-.78 2.05 0 2.83L4 21.41c.39.39.9.59 1.41.59.51 0 1.02-.2 1.41-.59l7.78-7.78 2.81-2.81c.8-.78.8-2.07 0-2.86zM5.41 20L4 18.59l7.72-7.72 1.47 1.35L5.41 20z\"/>\n",
              "  </svg>\n",
              "      </button>\n",
              "      \n",
              "  <style>\n",
              "    .colab-df-container {\n",
              "      display:flex;\n",
              "      flex-wrap:wrap;\n",
              "      gap: 12px;\n",
              "    }\n",
              "\n",
              "    .colab-df-convert {\n",
              "      background-color: #E8F0FE;\n",
              "      border: none;\n",
              "      border-radius: 50%;\n",
              "      cursor: pointer;\n",
              "      display: none;\n",
              "      fill: #1967D2;\n",
              "      height: 32px;\n",
              "      padding: 0 0 0 0;\n",
              "      width: 32px;\n",
              "    }\n",
              "\n",
              "    .colab-df-convert:hover {\n",
              "      background-color: #E2EBFA;\n",
              "      box-shadow: 0px 1px 2px rgba(60, 64, 67, 0.3), 0px 1px 3px 1px rgba(60, 64, 67, 0.15);\n",
              "      fill: #174EA6;\n",
              "    }\n",
              "\n",
              "    [theme=dark] .colab-df-convert {\n",
              "      background-color: #3B4455;\n",
              "      fill: #D2E3FC;\n",
              "    }\n",
              "\n",
              "    [theme=dark] .colab-df-convert:hover {\n",
              "      background-color: #434B5C;\n",
              "      box-shadow: 0px 1px 3px 1px rgba(0, 0, 0, 0.15);\n",
              "      filter: drop-shadow(0px 1px 2px rgba(0, 0, 0, 0.3));\n",
              "      fill: #FFFFFF;\n",
              "    }\n",
              "  </style>\n",
              "\n",
              "      <script>\n",
              "        const buttonEl =\n",
              "          document.querySelector('#df-41c9e206-bfaa-4574-a260-b56246e8b70a button.colab-df-convert');\n",
              "        buttonEl.style.display =\n",
              "          google.colab.kernel.accessAllowed ? 'block' : 'none';\n",
              "\n",
              "        async function convertToInteractive(key) {\n",
              "          const element = document.querySelector('#df-41c9e206-bfaa-4574-a260-b56246e8b70a');\n",
              "          const dataTable =\n",
              "            await google.colab.kernel.invokeFunction('convertToInteractive',\n",
              "                                                     [key], {});\n",
              "          if (!dataTable) return;\n",
              "\n",
              "          const docLinkHtml = 'Like what you see? Visit the ' +\n",
              "            '<a target=\"_blank\" href=https://colab.research.google.com/notebooks/data_table.ipynb>data table notebook</a>'\n",
              "            + ' to learn more about interactive tables.';\n",
              "          element.innerHTML = '';\n",
              "          dataTable['output_type'] = 'display_data';\n",
              "          await google.colab.output.renderOutput(dataTable, element);\n",
              "          const docLink = document.createElement('div');\n",
              "          docLink.innerHTML = docLinkHtml;\n",
              "          element.appendChild(docLink);\n",
              "        }\n",
              "      </script>\n",
              "    </div>\n",
              "  </div>\n",
              "  "
            ]
          },
          "metadata": {},
          "execution_count": 4
        }
      ]
    },
    {
      "cell_type": "code",
      "source": [
        "data1.info()"
      ],
      "metadata": {
        "colab": {
          "base_uri": "https://localhost:8080/"
        },
        "id": "7nJwInlDznNz",
        "outputId": "2d96760a-fd9c-4e05-9a3c-e5874b45b6a4"
      },
      "execution_count": 5,
      "outputs": [
        {
          "output_type": "stream",
          "name": "stdout",
          "text": [
            "<class 'pandas.core.frame.DataFrame'>\n",
            "RangeIndex: 18484 entries, 0 to 18483\n",
            "Data columns (total 12 columns):\n",
            " #   Column                   Non-Null Count  Dtype  \n",
            "---  ------                   --------------  -----  \n",
            " 0   CustomerKey              18484 non-null  int64  \n",
            " 1   BirthDate                18484 non-null  object \n",
            " 2   Education                18484 non-null  object \n",
            " 3   Gender                   18484 non-null  object \n",
            " 4   MaritalStatus            18484 non-null  object \n",
            " 5   Occupation               18484 non-null  object \n",
            " 6   Sum of YearlyIncome      18484 non-null  int64  \n",
            " 7   Sum of DiscountAmount    17647 non-null  float64\n",
            " 8   Sum of DiscountQuantity  17647 non-null  float64\n",
            " 9   Sum of SalesAmount       17647 non-null  float64\n",
            " 10  Sum of SalesQuantity     17647 non-null  float64\n",
            " 11  Average of UnitPrice     17647 non-null  float64\n",
            "dtypes: float64(5), int64(2), object(5)\n",
            "memory usage: 1.7+ MB\n"
          ]
        }
      ]
    },
    {
      "cell_type": "markdown",
      "source": [
        "### Feature Engineering\n",
        "\n",
        "* Rename all the variables having 'sum' in the name\n",
        "* Generate Age of the consumer\n",
        "* Remove null values"
      ],
      "metadata": {
        "id": "QoLvPsZ9z6Ye"
      }
    },
    {
      "cell_type": "code",
      "source": [
        "# Rename columns\n",
        "\n",
        "newnames = {'Sum of YearlyIncome':'Income','Sum of DiscountAmount':'DiscountAmt','Sum of DiscountQuantity':'DiscountQty','Average of UnitPrice':'Price',\n",
        "            'Sum of SalesAmount':'Sales','Sum of SalesQuantity':'Quantity'}\n",
        "data1.rename(columns=newnames,inplace=True)"
      ],
      "metadata": {
        "id": "3cjgtfrFzpew"
      },
      "execution_count": 6,
      "outputs": []
    },
    {
      "cell_type": "code",
      "source": [
        "# Generate Age for the customers\n",
        "\n",
        "import datetime\n",
        "\n",
        "def from_dob_to_age(born):\n",
        "    today = datetime.date.today()\n",
        "    return today.year - born.year - ((today.month, today.day) < (born.month, born.day))"
      ],
      "metadata": {
        "id": "WcjtBolv0MMl"
      },
      "execution_count": 7,
      "outputs": []
    },
    {
      "cell_type": "code",
      "source": [
        "data1['BirthDate'] =  pd.to_datetime(data1['BirthDate'])\n",
        "data1['Age']=data1['BirthDate'].apply(lambda x: from_dob_to_age(x))"
      ],
      "metadata": {
        "id": "Xv1KWI0p0UDb"
      },
      "execution_count": 8,
      "outputs": []
    },
    {
      "cell_type": "code",
      "source": [
        "# Drop missing values\n",
        "\n",
        "df = data1.dropna()\n",
        "df.info()"
      ],
      "metadata": {
        "colab": {
          "base_uri": "https://localhost:8080/"
        },
        "id": "NiCYYqe10df5",
        "outputId": "edf6a2f7-8290-4d38-ad12-97341fe834d7"
      },
      "execution_count": 9,
      "outputs": [
        {
          "output_type": "stream",
          "name": "stdout",
          "text": [
            "<class 'pandas.core.frame.DataFrame'>\n",
            "Int64Index: 17647 entries, 2 to 18483\n",
            "Data columns (total 13 columns):\n",
            " #   Column         Non-Null Count  Dtype         \n",
            "---  ------         --------------  -----         \n",
            " 0   CustomerKey    17647 non-null  int64         \n",
            " 1   BirthDate      17647 non-null  datetime64[ns]\n",
            " 2   Education      17647 non-null  object        \n",
            " 3   Gender         17647 non-null  object        \n",
            " 4   MaritalStatus  17647 non-null  object        \n",
            " 5   Occupation     17647 non-null  object        \n",
            " 6   Income         17647 non-null  int64         \n",
            " 7   DiscountAmt    17647 non-null  float64       \n",
            " 8   DiscountQty    17647 non-null  float64       \n",
            " 9   Sales          17647 non-null  float64       \n",
            " 10  Quantity       17647 non-null  float64       \n",
            " 11  Price          17647 non-null  float64       \n",
            " 12  Age            17647 non-null  int64         \n",
            "dtypes: datetime64[ns](1), float64(5), int64(3), object(4)\n",
            "memory usage: 1.9+ MB\n"
          ]
        }
      ]
    },
    {
      "cell_type": "code",
      "source": [
        "# create numerical and categorical variables\n",
        "\n",
        "df_num = df.select_dtypes(exclude='object')\n",
        "df_obj = df.select_dtypes(include='object')"
      ],
      "metadata": {
        "id": "XlLzL7gI25ew"
      },
      "execution_count": 10,
      "outputs": []
    },
    {
      "cell_type": "code",
      "source": [
        "# Convert df_obj to dummy variables\n",
        "\n",
        "df_obj = pd.get_dummies(df_obj,drop_first=True,prefix_sep=('*'))"
      ],
      "metadata": {
        "id": "bObnjYED3TJR"
      },
      "execution_count": 11,
      "outputs": []
    },
    {
      "cell_type": "code",
      "source": [
        "# combine numerical and categorical data\n",
        "\n",
        "df_data=pd.concat([df_num,df_obj],axis=1)"
      ],
      "metadata": {
        "id": "gOGkm7N23cwm"
      },
      "execution_count": 12,
      "outputs": []
    },
    {
      "cell_type": "code",
      "source": [
        "df_data = df_data.join(df_data[['Age','Income']]**2,rsuffix=\"^2\")\n",
        "df_data.head()"
      ],
      "metadata": {
        "colab": {
          "base_uri": "https://localhost:8080/",
          "height": 404
        },
        "id": "2zZ_gN8Q3jLc",
        "outputId": "cc847dd7-ce35-4e7b-8b67-e98a91d25fea"
      },
      "execution_count": 13,
      "outputs": [
        {
          "output_type": "execute_result",
          "data": {
            "text/plain": [
              "   CustomerKey  BirthDate  Income  DiscountAmt  DiscountQty   Sales  Quantity  \\\n",
              "2            3 1965-08-12   60000        41.99          4.0  197.97       4.0   \n",
              "3            4 1968-02-15   70000         0.00          0.0   59.99       1.0   \n",
              "4            5 1968-08-08   80000        21.00          2.0  158.97       3.0   \n",
              "5            6 1965-08-05   70000        21.00          2.0   98.98       2.0   \n",
              "6            7 1965-12-06   70000         9.00          1.0   50.99       1.0   \n",
              "\n",
              "   Price  Age  Education*Graduate Degree  ...  Education*Partial College  \\\n",
              "2  59.99   57                          0  ...                          0   \n",
              "3  59.99   54                          0  ...                          0   \n",
              "4  59.99   54                          0  ...                          0   \n",
              "5  59.99   57                          0  ...                          0   \n",
              "6  59.99   56                          0  ...                          0   \n",
              "\n",
              "   Education*Partial High School  Gender*M  MaritalStatus*S  \\\n",
              "2                              0         1                0   \n",
              "3                              0         0                1   \n",
              "4                              0         0                1   \n",
              "5                              0         1                1   \n",
              "6                              0         0                1   \n",
              "\n",
              "   Occupation*Management  Occupation*Manual  Occupation*Professional  \\\n",
              "2                      0                  0                        1   \n",
              "3                      0                  0                        1   \n",
              "4                      0                  0                        1   \n",
              "5                      0                  0                        1   \n",
              "6                      0                  0                        1   \n",
              "\n",
              "   Occupation*Skilled Manual  Age^2    Income^2  \n",
              "2                          0   3249  3600000000  \n",
              "3                          0   2916  4900000000  \n",
              "4                          0   2916  6400000000  \n",
              "5                          0   3249  4900000000  \n",
              "6                          0   3136  4900000000  \n",
              "\n",
              "[5 rows x 21 columns]"
            ],
            "text/html": [
              "\n",
              "  <div id=\"df-423a9221-9c5e-4eaf-9664-5ff4638af54a\">\n",
              "    <div class=\"colab-df-container\">\n",
              "      <div>\n",
              "<style scoped>\n",
              "    .dataframe tbody tr th:only-of-type {\n",
              "        vertical-align: middle;\n",
              "    }\n",
              "\n",
              "    .dataframe tbody tr th {\n",
              "        vertical-align: top;\n",
              "    }\n",
              "\n",
              "    .dataframe thead th {\n",
              "        text-align: right;\n",
              "    }\n",
              "</style>\n",
              "<table border=\"1\" class=\"dataframe\">\n",
              "  <thead>\n",
              "    <tr style=\"text-align: right;\">\n",
              "      <th></th>\n",
              "      <th>CustomerKey</th>\n",
              "      <th>BirthDate</th>\n",
              "      <th>Income</th>\n",
              "      <th>DiscountAmt</th>\n",
              "      <th>DiscountQty</th>\n",
              "      <th>Sales</th>\n",
              "      <th>Quantity</th>\n",
              "      <th>Price</th>\n",
              "      <th>Age</th>\n",
              "      <th>Education*Graduate Degree</th>\n",
              "      <th>...</th>\n",
              "      <th>Education*Partial College</th>\n",
              "      <th>Education*Partial High School</th>\n",
              "      <th>Gender*M</th>\n",
              "      <th>MaritalStatus*S</th>\n",
              "      <th>Occupation*Management</th>\n",
              "      <th>Occupation*Manual</th>\n",
              "      <th>Occupation*Professional</th>\n",
              "      <th>Occupation*Skilled Manual</th>\n",
              "      <th>Age^2</th>\n",
              "      <th>Income^2</th>\n",
              "    </tr>\n",
              "  </thead>\n",
              "  <tbody>\n",
              "    <tr>\n",
              "      <th>2</th>\n",
              "      <td>3</td>\n",
              "      <td>1965-08-12</td>\n",
              "      <td>60000</td>\n",
              "      <td>41.99</td>\n",
              "      <td>4.0</td>\n",
              "      <td>197.97</td>\n",
              "      <td>4.0</td>\n",
              "      <td>59.99</td>\n",
              "      <td>57</td>\n",
              "      <td>0</td>\n",
              "      <td>...</td>\n",
              "      <td>0</td>\n",
              "      <td>0</td>\n",
              "      <td>1</td>\n",
              "      <td>0</td>\n",
              "      <td>0</td>\n",
              "      <td>0</td>\n",
              "      <td>1</td>\n",
              "      <td>0</td>\n",
              "      <td>3249</td>\n",
              "      <td>3600000000</td>\n",
              "    </tr>\n",
              "    <tr>\n",
              "      <th>3</th>\n",
              "      <td>4</td>\n",
              "      <td>1968-02-15</td>\n",
              "      <td>70000</td>\n",
              "      <td>0.00</td>\n",
              "      <td>0.0</td>\n",
              "      <td>59.99</td>\n",
              "      <td>1.0</td>\n",
              "      <td>59.99</td>\n",
              "      <td>54</td>\n",
              "      <td>0</td>\n",
              "      <td>...</td>\n",
              "      <td>0</td>\n",
              "      <td>0</td>\n",
              "      <td>0</td>\n",
              "      <td>1</td>\n",
              "      <td>0</td>\n",
              "      <td>0</td>\n",
              "      <td>1</td>\n",
              "      <td>0</td>\n",
              "      <td>2916</td>\n",
              "      <td>4900000000</td>\n",
              "    </tr>\n",
              "    <tr>\n",
              "      <th>4</th>\n",
              "      <td>5</td>\n",
              "      <td>1968-08-08</td>\n",
              "      <td>80000</td>\n",
              "      <td>21.00</td>\n",
              "      <td>2.0</td>\n",
              "      <td>158.97</td>\n",
              "      <td>3.0</td>\n",
              "      <td>59.99</td>\n",
              "      <td>54</td>\n",
              "      <td>0</td>\n",
              "      <td>...</td>\n",
              "      <td>0</td>\n",
              "      <td>0</td>\n",
              "      <td>0</td>\n",
              "      <td>1</td>\n",
              "      <td>0</td>\n",
              "      <td>0</td>\n",
              "      <td>1</td>\n",
              "      <td>0</td>\n",
              "      <td>2916</td>\n",
              "      <td>6400000000</td>\n",
              "    </tr>\n",
              "    <tr>\n",
              "      <th>5</th>\n",
              "      <td>6</td>\n",
              "      <td>1965-08-05</td>\n",
              "      <td>70000</td>\n",
              "      <td>21.00</td>\n",
              "      <td>2.0</td>\n",
              "      <td>98.98</td>\n",
              "      <td>2.0</td>\n",
              "      <td>59.99</td>\n",
              "      <td>57</td>\n",
              "      <td>0</td>\n",
              "      <td>...</td>\n",
              "      <td>0</td>\n",
              "      <td>0</td>\n",
              "      <td>1</td>\n",
              "      <td>1</td>\n",
              "      <td>0</td>\n",
              "      <td>0</td>\n",
              "      <td>1</td>\n",
              "      <td>0</td>\n",
              "      <td>3249</td>\n",
              "      <td>4900000000</td>\n",
              "    </tr>\n",
              "    <tr>\n",
              "      <th>6</th>\n",
              "      <td>7</td>\n",
              "      <td>1965-12-06</td>\n",
              "      <td>70000</td>\n",
              "      <td>9.00</td>\n",
              "      <td>1.0</td>\n",
              "      <td>50.99</td>\n",
              "      <td>1.0</td>\n",
              "      <td>59.99</td>\n",
              "      <td>56</td>\n",
              "      <td>0</td>\n",
              "      <td>...</td>\n",
              "      <td>0</td>\n",
              "      <td>0</td>\n",
              "      <td>0</td>\n",
              "      <td>1</td>\n",
              "      <td>0</td>\n",
              "      <td>0</td>\n",
              "      <td>1</td>\n",
              "      <td>0</td>\n",
              "      <td>3136</td>\n",
              "      <td>4900000000</td>\n",
              "    </tr>\n",
              "  </tbody>\n",
              "</table>\n",
              "<p>5 rows × 21 columns</p>\n",
              "</div>\n",
              "      <button class=\"colab-df-convert\" onclick=\"convertToInteractive('df-423a9221-9c5e-4eaf-9664-5ff4638af54a')\"\n",
              "              title=\"Convert this dataframe to an interactive table.\"\n",
              "              style=\"display:none;\">\n",
              "        \n",
              "  <svg xmlns=\"http://www.w3.org/2000/svg\" height=\"24px\"viewBox=\"0 0 24 24\"\n",
              "       width=\"24px\">\n",
              "    <path d=\"M0 0h24v24H0V0z\" fill=\"none\"/>\n",
              "    <path d=\"M18.56 5.44l.94 2.06.94-2.06 2.06-.94-2.06-.94-.94-2.06-.94 2.06-2.06.94zm-11 1L8.5 8.5l.94-2.06 2.06-.94-2.06-.94L8.5 2.5l-.94 2.06-2.06.94zm10 10l.94 2.06.94-2.06 2.06-.94-2.06-.94-.94-2.06-.94 2.06-2.06.94z\"/><path d=\"M17.41 7.96l-1.37-1.37c-.4-.4-.92-.59-1.43-.59-.52 0-1.04.2-1.43.59L10.3 9.45l-7.72 7.72c-.78.78-.78 2.05 0 2.83L4 21.41c.39.39.9.59 1.41.59.51 0 1.02-.2 1.41-.59l7.78-7.78 2.81-2.81c.8-.78.8-2.07 0-2.86zM5.41 20L4 18.59l7.72-7.72 1.47 1.35L5.41 20z\"/>\n",
              "  </svg>\n",
              "      </button>\n",
              "      \n",
              "  <style>\n",
              "    .colab-df-container {\n",
              "      display:flex;\n",
              "      flex-wrap:wrap;\n",
              "      gap: 12px;\n",
              "    }\n",
              "\n",
              "    .colab-df-convert {\n",
              "      background-color: #E8F0FE;\n",
              "      border: none;\n",
              "      border-radius: 50%;\n",
              "      cursor: pointer;\n",
              "      display: none;\n",
              "      fill: #1967D2;\n",
              "      height: 32px;\n",
              "      padding: 0 0 0 0;\n",
              "      width: 32px;\n",
              "    }\n",
              "\n",
              "    .colab-df-convert:hover {\n",
              "      background-color: #E2EBFA;\n",
              "      box-shadow: 0px 1px 2px rgba(60, 64, 67, 0.3), 0px 1px 3px 1px rgba(60, 64, 67, 0.15);\n",
              "      fill: #174EA6;\n",
              "    }\n",
              "\n",
              "    [theme=dark] .colab-df-convert {\n",
              "      background-color: #3B4455;\n",
              "      fill: #D2E3FC;\n",
              "    }\n",
              "\n",
              "    [theme=dark] .colab-df-convert:hover {\n",
              "      background-color: #434B5C;\n",
              "      box-shadow: 0px 1px 3px 1px rgba(0, 0, 0, 0.15);\n",
              "      filter: drop-shadow(0px 1px 2px rgba(0, 0, 0, 0.3));\n",
              "      fill: #FFFFFF;\n",
              "    }\n",
              "  </style>\n",
              "\n",
              "      <script>\n",
              "        const buttonEl =\n",
              "          document.querySelector('#df-423a9221-9c5e-4eaf-9664-5ff4638af54a button.colab-df-convert');\n",
              "        buttonEl.style.display =\n",
              "          google.colab.kernel.accessAllowed ? 'block' : 'none';\n",
              "\n",
              "        async function convertToInteractive(key) {\n",
              "          const element = document.querySelector('#df-423a9221-9c5e-4eaf-9664-5ff4638af54a');\n",
              "          const dataTable =\n",
              "            await google.colab.kernel.invokeFunction('convertToInteractive',\n",
              "                                                     [key], {});\n",
              "          if (!dataTable) return;\n",
              "\n",
              "          const docLinkHtml = 'Like what you see? Visit the ' +\n",
              "            '<a target=\"_blank\" href=https://colab.research.google.com/notebooks/data_table.ipynb>data table notebook</a>'\n",
              "            + ' to learn more about interactive tables.';\n",
              "          element.innerHTML = '';\n",
              "          dataTable['output_type'] = 'display_data';\n",
              "          await google.colab.output.renderOutput(dataTable, element);\n",
              "          const docLink = document.createElement('div');\n",
              "          docLink.innerHTML = docLinkHtml;\n",
              "          element.appendChild(docLink);\n",
              "        }\n",
              "      </script>\n",
              "    </div>\n",
              "  </div>\n",
              "  "
            ]
          },
          "metadata": {},
          "execution_count": 13
        }
      ]
    },
    {
      "cell_type": "code",
      "source": [
        "df_data.info()"
      ],
      "metadata": {
        "colab": {
          "base_uri": "https://localhost:8080/"
        },
        "id": "3oIa13b144U-",
        "outputId": "99eb81c8-6adb-4727-b84a-2e347a77f2d4"
      },
      "execution_count": 14,
      "outputs": [
        {
          "output_type": "stream",
          "name": "stdout",
          "text": [
            "<class 'pandas.core.frame.DataFrame'>\n",
            "Int64Index: 17647 entries, 2 to 18483\n",
            "Data columns (total 21 columns):\n",
            " #   Column                         Non-Null Count  Dtype         \n",
            "---  ------                         --------------  -----         \n",
            " 0   CustomerKey                    17647 non-null  int64         \n",
            " 1   BirthDate                      17647 non-null  datetime64[ns]\n",
            " 2   Income                         17647 non-null  int64         \n",
            " 3   DiscountAmt                    17647 non-null  float64       \n",
            " 4   DiscountQty                    17647 non-null  float64       \n",
            " 5   Sales                          17647 non-null  float64       \n",
            " 6   Quantity                       17647 non-null  float64       \n",
            " 7   Price                          17647 non-null  float64       \n",
            " 8   Age                            17647 non-null  int64         \n",
            " 9   Education*Graduate Degree      17647 non-null  uint8         \n",
            " 10  Education*High School          17647 non-null  uint8         \n",
            " 11  Education*Partial College      17647 non-null  uint8         \n",
            " 12  Education*Partial High School  17647 non-null  uint8         \n",
            " 13  Gender*M                       17647 non-null  uint8         \n",
            " 14  MaritalStatus*S                17647 non-null  uint8         \n",
            " 15  Occupation*Management          17647 non-null  uint8         \n",
            " 16  Occupation*Manual              17647 non-null  uint8         \n",
            " 17  Occupation*Professional        17647 non-null  uint8         \n",
            " 18  Occupation*Skilled Manual      17647 non-null  uint8         \n",
            " 19  Age^2                          17647 non-null  int64         \n",
            " 20  Income^2                       17647 non-null  int64         \n",
            "dtypes: datetime64[ns](1), float64(5), int64(5), uint8(10)\n",
            "memory usage: 2.3 MB\n"
          ]
        }
      ]
    },
    {
      "cell_type": "code",
      "source": [
        "# Rename columns with longer names\n",
        "\n",
        "namesdf = {'Education*Graduate Degree':'graduate','Education*High School':'HighSchool','Education*Partial College':'PartialCollege',\n",
        "           'Education*Partial High School':'PartialHighSc','Gender*M':'Male','MaritalStatus*S':'Single','Occupation*Management':'ManagerCdr',\n",
        "           'Occupation*Manual':'ManualCdr','Occupation*Professional':'ProfessionalCdr','Occupation*Skilled Manual':'SkilledManualCdr'}\n",
        "\n",
        "df_data1 = df_data.rename(columns=namesdf) "
      ],
      "metadata": {
        "id": "xxmeER5Y47a9"
      },
      "execution_count": 15,
      "outputs": []
    },
    {
      "cell_type": "code",
      "source": [
        "df_data1.columns"
      ],
      "metadata": {
        "colab": {
          "base_uri": "https://localhost:8080/"
        },
        "id": "2kV0WiKv5MgZ",
        "outputId": "6dd158ce-25b9-4dcf-dc78-1a5d512c99c5"
      },
      "execution_count": 16,
      "outputs": [
        {
          "output_type": "execute_result",
          "data": {
            "text/plain": [
              "Index(['CustomerKey', 'BirthDate', 'Income', 'DiscountAmt', 'DiscountQty',\n",
              "       'Sales', 'Quantity', 'Price', 'Age', 'graduate', 'HighSchool',\n",
              "       'PartialCollege', 'PartialHighSc', 'Male', 'Single', 'ManagerCdr',\n",
              "       'ManualCdr', 'ProfessionalCdr', 'SkilledManualCdr', 'Age^2',\n",
              "       'Income^2'],\n",
              "      dtype='object')"
            ]
          },
          "metadata": {},
          "execution_count": 16
        }
      ]
    },
    {
      "cell_type": "markdown",
      "source": [
        "### Create Sampling data \n",
        "We shall draw out control sample from those with zero discount while the tretment group will be those with 2 unique discounts may be 4 and 6 %"
      ],
      "metadata": {
        "id": "Za5ZbzoU5sf2"
      }
    },
    {
      "cell_type": "code",
      "source": [
        "df_data1['DiscPerc'] = round(df_data1['DiscountAmt']/df_data1['Sales'],2)"
      ],
      "metadata": {
        "id": "ACETyIEb5QkR"
      },
      "execution_count": 17,
      "outputs": []
    },
    {
      "cell_type": "code",
      "source": [
        "df_data1['DiscPerc'].value_counts()"
      ],
      "metadata": {
        "colab": {
          "base_uri": "https://localhost:8080/"
        },
        "id": "USi5PSQr6qdN",
        "outputId": "770f9705-c59c-44ed-a7a7-8128c60c2f5c"
      },
      "execution_count": 18,
      "outputs": [
        {
          "output_type": "execute_result",
          "data": {
            "text/plain": [
              "0.05    2852\n",
              "0.08    2273\n",
              "0.00    1780\n",
              "0.04    1576\n",
              "0.11    1342\n",
              "0.03    1325\n",
              "0.07    1113\n",
              "0.06    1010\n",
              "0.02     683\n",
              "0.09     590\n",
              "0.10     491\n",
              "0.18     470\n",
              "0.14     383\n",
              "0.13     371\n",
              "0.25     277\n",
              "0.12     238\n",
              "0.15     224\n",
              "0.16     141\n",
              "0.01     126\n",
              "0.21     116\n",
              "0.20      99\n",
              "0.19      67\n",
              "0.17      55\n",
              "0.22      25\n",
              "0.23       9\n",
              "inf        4\n",
              "0.31       1\n",
              "Name: DiscPerc, dtype: int64"
            ]
          },
          "metadata": {},
          "execution_count": 18
        }
      ]
    },
    {
      "cell_type": "markdown",
      "source": [
        "We shall select 3 groups of customers, \n",
        "* Those with 0.00\n",
        "* Those with 0.05\n",
        "* Those with 0.10"
      ],
      "metadata": {
        "id": "BllPcn9Y7jVq"
      }
    },
    {
      "cell_type": "code",
      "source": [
        "# Population Sampling\n",
        "\n",
        "Control_pop = df_data1.query('DiscPerc==0.00')\n",
        "Treatment_pop1 = df_data1.query('DiscPerc==0.05')\n",
        "Treatment_pop2 = df_data1.query('DiscPerc==0.10')"
      ],
      "metadata": {
        "id": "sXLNnIh5627F"
      },
      "execution_count": 19,
      "outputs": []
    },
    {
      "cell_type": "code",
      "source": [
        "Control_pop.shape,Treatment_pop1.shape,Treatment_pop2.shape"
      ],
      "metadata": {
        "colab": {
          "base_uri": "https://localhost:8080/"
        },
        "id": "SIPO1fAl8yIF",
        "outputId": "f71819c1-79c8-4dad-e0bc-8602c052682c"
      },
      "execution_count": 20,
      "outputs": [
        {
          "output_type": "execute_result",
          "data": {
            "text/plain": [
              "((1780, 22), (2852, 22), (491, 22))"
            ]
          },
          "metadata": {},
          "execution_count": 20
        }
      ]
    },
    {
      "cell_type": "code",
      "source": [
        "# take a sample of 1000 from control, 700 from treatment1 and 450 from treatment2\n",
        "\n",
        "control_sample = Control_pop.sample(n=1000,random_state=42)\n",
        "treatment_sample1 = Treatment_pop1.sample(n=700,random_state=42)\n",
        "treatment_sample2 = Treatment_pop2.sample(n=450,random_state=42)"
      ],
      "metadata": {
        "id": "2gfH2QfX9gcW"
      },
      "execution_count": 21,
      "outputs": []
    },
    {
      "cell_type": "code",
      "source": [
        "# Create treatment column and join the data\n",
        "\n",
        "treatment_sample1['treatment']='treatment1'\n",
        "control_sample['treatment']='control'\n",
        "treatment_sample2['treatment']='treatment2'"
      ],
      "metadata": {
        "id": "JhzoYns9-LAm"
      },
      "execution_count": 22,
      "outputs": []
    },
    {
      "cell_type": "markdown",
      "source": [
        "### Create 2 dataframes\n",
        " Create 2 sets of data, 1 for control and treatment1, and another 1 for control and all the treatments"
      ],
      "metadata": {
        "id": "J8oGtoAe--mb"
      }
    },
    {
      "cell_type": "code",
      "source": [
        "dataset = pd.concat([control_sample,treatment_sample1,treatment_sample2],axis=0)"
      ],
      "metadata": {
        "id": "zmDDILS3_LrY"
      },
      "execution_count": 23,
      "outputs": []
    },
    {
      "cell_type": "code",
      "source": [
        "dataset.shape"
      ],
      "metadata": {
        "colab": {
          "base_uri": "https://localhost:8080/"
        },
        "id": "J1OYkcsvBuI_",
        "outputId": "141c89f0-8cbb-477f-e7c3-d8ca70704586"
      },
      "execution_count": 24,
      "outputs": [
        {
          "output_type": "execute_result",
          "data": {
            "text/plain": [
              "(2150, 23)"
            ]
          },
          "metadata": {},
          "execution_count": 24
        }
      ]
    },
    {
      "cell_type": "code",
      "source": [
        "dataset.head()"
      ],
      "metadata": {
        "colab": {
          "base_uri": "https://localhost:8080/",
          "height": 386
        },
        "id": "wnTQzzCrBx1-",
        "outputId": "772722bf-84d7-41da-a1c9-b029c28802dd"
      },
      "execution_count": 25,
      "outputs": [
        {
          "output_type": "execute_result",
          "data": {
            "text/plain": [
              "       CustomerKey  BirthDate  Income  DiscountAmt  DiscountQty   Sales  \\\n",
              "17792        17793 1958-03-09   40000          0.0          0.0   59.99   \n",
              "15729        15730 1953-01-12   70000          0.0          0.0  119.98   \n",
              "13633        13634 1940-09-13   60000          0.0          0.0   59.99   \n",
              "14426        14427 1966-03-22   70000          0.0          0.0  119.98   \n",
              "18153        18154 1960-03-17   40000          0.0          0.0  119.98   \n",
              "\n",
              "       Quantity  Price  Age  graduate  ...  Male  Single  ManagerCdr  \\\n",
              "17792       1.0  59.99   64         0  ...     1       1           0   \n",
              "15729       2.0  59.99   69         1  ...     1       1           1   \n",
              "13633       1.0  59.99   82         0  ...     1       0           1   \n",
              "14426       2.0  59.99   56         1  ...     1       1           0   \n",
              "18153       2.0  59.99   62         0  ...     1       1           0   \n",
              "\n",
              "       ManualCdr  ProfessionalCdr  SkilledManualCdr  Age^2    Income^2  \\\n",
              "17792          0                0                 0   4096  1600000000   \n",
              "15729          0                0                 0   4761  4900000000   \n",
              "13633          0                0                 0   6724  3600000000   \n",
              "14426          0                1                 0   3136  4900000000   \n",
              "18153          0                1                 0   3844  1600000000   \n",
              "\n",
              "       DiscPerc  treatment  \n",
              "17792       0.0    control  \n",
              "15729       0.0    control  \n",
              "13633       0.0    control  \n",
              "14426       0.0    control  \n",
              "18153       0.0    control  \n",
              "\n",
              "[5 rows x 23 columns]"
            ],
            "text/html": [
              "\n",
              "  <div id=\"df-3a768fc7-9e85-4587-b24d-8004b4e80fa1\">\n",
              "    <div class=\"colab-df-container\">\n",
              "      <div>\n",
              "<style scoped>\n",
              "    .dataframe tbody tr th:only-of-type {\n",
              "        vertical-align: middle;\n",
              "    }\n",
              "\n",
              "    .dataframe tbody tr th {\n",
              "        vertical-align: top;\n",
              "    }\n",
              "\n",
              "    .dataframe thead th {\n",
              "        text-align: right;\n",
              "    }\n",
              "</style>\n",
              "<table border=\"1\" class=\"dataframe\">\n",
              "  <thead>\n",
              "    <tr style=\"text-align: right;\">\n",
              "      <th></th>\n",
              "      <th>CustomerKey</th>\n",
              "      <th>BirthDate</th>\n",
              "      <th>Income</th>\n",
              "      <th>DiscountAmt</th>\n",
              "      <th>DiscountQty</th>\n",
              "      <th>Sales</th>\n",
              "      <th>Quantity</th>\n",
              "      <th>Price</th>\n",
              "      <th>Age</th>\n",
              "      <th>graduate</th>\n",
              "      <th>...</th>\n",
              "      <th>Male</th>\n",
              "      <th>Single</th>\n",
              "      <th>ManagerCdr</th>\n",
              "      <th>ManualCdr</th>\n",
              "      <th>ProfessionalCdr</th>\n",
              "      <th>SkilledManualCdr</th>\n",
              "      <th>Age^2</th>\n",
              "      <th>Income^2</th>\n",
              "      <th>DiscPerc</th>\n",
              "      <th>treatment</th>\n",
              "    </tr>\n",
              "  </thead>\n",
              "  <tbody>\n",
              "    <tr>\n",
              "      <th>17792</th>\n",
              "      <td>17793</td>\n",
              "      <td>1958-03-09</td>\n",
              "      <td>40000</td>\n",
              "      <td>0.0</td>\n",
              "      <td>0.0</td>\n",
              "      <td>59.99</td>\n",
              "      <td>1.0</td>\n",
              "      <td>59.99</td>\n",
              "      <td>64</td>\n",
              "      <td>0</td>\n",
              "      <td>...</td>\n",
              "      <td>1</td>\n",
              "      <td>1</td>\n",
              "      <td>0</td>\n",
              "      <td>0</td>\n",
              "      <td>0</td>\n",
              "      <td>0</td>\n",
              "      <td>4096</td>\n",
              "      <td>1600000000</td>\n",
              "      <td>0.0</td>\n",
              "      <td>control</td>\n",
              "    </tr>\n",
              "    <tr>\n",
              "      <th>15729</th>\n",
              "      <td>15730</td>\n",
              "      <td>1953-01-12</td>\n",
              "      <td>70000</td>\n",
              "      <td>0.0</td>\n",
              "      <td>0.0</td>\n",
              "      <td>119.98</td>\n",
              "      <td>2.0</td>\n",
              "      <td>59.99</td>\n",
              "      <td>69</td>\n",
              "      <td>1</td>\n",
              "      <td>...</td>\n",
              "      <td>1</td>\n",
              "      <td>1</td>\n",
              "      <td>1</td>\n",
              "      <td>0</td>\n",
              "      <td>0</td>\n",
              "      <td>0</td>\n",
              "      <td>4761</td>\n",
              "      <td>4900000000</td>\n",
              "      <td>0.0</td>\n",
              "      <td>control</td>\n",
              "    </tr>\n",
              "    <tr>\n",
              "      <th>13633</th>\n",
              "      <td>13634</td>\n",
              "      <td>1940-09-13</td>\n",
              "      <td>60000</td>\n",
              "      <td>0.0</td>\n",
              "      <td>0.0</td>\n",
              "      <td>59.99</td>\n",
              "      <td>1.0</td>\n",
              "      <td>59.99</td>\n",
              "      <td>82</td>\n",
              "      <td>0</td>\n",
              "      <td>...</td>\n",
              "      <td>1</td>\n",
              "      <td>0</td>\n",
              "      <td>1</td>\n",
              "      <td>0</td>\n",
              "      <td>0</td>\n",
              "      <td>0</td>\n",
              "      <td>6724</td>\n",
              "      <td>3600000000</td>\n",
              "      <td>0.0</td>\n",
              "      <td>control</td>\n",
              "    </tr>\n",
              "    <tr>\n",
              "      <th>14426</th>\n",
              "      <td>14427</td>\n",
              "      <td>1966-03-22</td>\n",
              "      <td>70000</td>\n",
              "      <td>0.0</td>\n",
              "      <td>0.0</td>\n",
              "      <td>119.98</td>\n",
              "      <td>2.0</td>\n",
              "      <td>59.99</td>\n",
              "      <td>56</td>\n",
              "      <td>1</td>\n",
              "      <td>...</td>\n",
              "      <td>1</td>\n",
              "      <td>1</td>\n",
              "      <td>0</td>\n",
              "      <td>0</td>\n",
              "      <td>1</td>\n",
              "      <td>0</td>\n",
              "      <td>3136</td>\n",
              "      <td>4900000000</td>\n",
              "      <td>0.0</td>\n",
              "      <td>control</td>\n",
              "    </tr>\n",
              "    <tr>\n",
              "      <th>18153</th>\n",
              "      <td>18154</td>\n",
              "      <td>1960-03-17</td>\n",
              "      <td>40000</td>\n",
              "      <td>0.0</td>\n",
              "      <td>0.0</td>\n",
              "      <td>119.98</td>\n",
              "      <td>2.0</td>\n",
              "      <td>59.99</td>\n",
              "      <td>62</td>\n",
              "      <td>0</td>\n",
              "      <td>...</td>\n",
              "      <td>1</td>\n",
              "      <td>1</td>\n",
              "      <td>0</td>\n",
              "      <td>0</td>\n",
              "      <td>1</td>\n",
              "      <td>0</td>\n",
              "      <td>3844</td>\n",
              "      <td>1600000000</td>\n",
              "      <td>0.0</td>\n",
              "      <td>control</td>\n",
              "    </tr>\n",
              "  </tbody>\n",
              "</table>\n",
              "<p>5 rows × 23 columns</p>\n",
              "</div>\n",
              "      <button class=\"colab-df-convert\" onclick=\"convertToInteractive('df-3a768fc7-9e85-4587-b24d-8004b4e80fa1')\"\n",
              "              title=\"Convert this dataframe to an interactive table.\"\n",
              "              style=\"display:none;\">\n",
              "        \n",
              "  <svg xmlns=\"http://www.w3.org/2000/svg\" height=\"24px\"viewBox=\"0 0 24 24\"\n",
              "       width=\"24px\">\n",
              "    <path d=\"M0 0h24v24H0V0z\" fill=\"none\"/>\n",
              "    <path d=\"M18.56 5.44l.94 2.06.94-2.06 2.06-.94-2.06-.94-.94-2.06-.94 2.06-2.06.94zm-11 1L8.5 8.5l.94-2.06 2.06-.94-2.06-.94L8.5 2.5l-.94 2.06-2.06.94zm10 10l.94 2.06.94-2.06 2.06-.94-2.06-.94-.94-2.06-.94 2.06-2.06.94z\"/><path d=\"M17.41 7.96l-1.37-1.37c-.4-.4-.92-.59-1.43-.59-.52 0-1.04.2-1.43.59L10.3 9.45l-7.72 7.72c-.78.78-.78 2.05 0 2.83L4 21.41c.39.39.9.59 1.41.59.51 0 1.02-.2 1.41-.59l7.78-7.78 2.81-2.81c.8-.78.8-2.07 0-2.86zM5.41 20L4 18.59l7.72-7.72 1.47 1.35L5.41 20z\"/>\n",
              "  </svg>\n",
              "      </button>\n",
              "      \n",
              "  <style>\n",
              "    .colab-df-container {\n",
              "      display:flex;\n",
              "      flex-wrap:wrap;\n",
              "      gap: 12px;\n",
              "    }\n",
              "\n",
              "    .colab-df-convert {\n",
              "      background-color: #E8F0FE;\n",
              "      border: none;\n",
              "      border-radius: 50%;\n",
              "      cursor: pointer;\n",
              "      display: none;\n",
              "      fill: #1967D2;\n",
              "      height: 32px;\n",
              "      padding: 0 0 0 0;\n",
              "      width: 32px;\n",
              "    }\n",
              "\n",
              "    .colab-df-convert:hover {\n",
              "      background-color: #E2EBFA;\n",
              "      box-shadow: 0px 1px 2px rgba(60, 64, 67, 0.3), 0px 1px 3px 1px rgba(60, 64, 67, 0.15);\n",
              "      fill: #174EA6;\n",
              "    }\n",
              "\n",
              "    [theme=dark] .colab-df-convert {\n",
              "      background-color: #3B4455;\n",
              "      fill: #D2E3FC;\n",
              "    }\n",
              "\n",
              "    [theme=dark] .colab-df-convert:hover {\n",
              "      background-color: #434B5C;\n",
              "      box-shadow: 0px 1px 3px 1px rgba(0, 0, 0, 0.15);\n",
              "      filter: drop-shadow(0px 1px 2px rgba(0, 0, 0, 0.3));\n",
              "      fill: #FFFFFF;\n",
              "    }\n",
              "  </style>\n",
              "\n",
              "      <script>\n",
              "        const buttonEl =\n",
              "          document.querySelector('#df-3a768fc7-9e85-4587-b24d-8004b4e80fa1 button.colab-df-convert');\n",
              "        buttonEl.style.display =\n",
              "          google.colab.kernel.accessAllowed ? 'block' : 'none';\n",
              "\n",
              "        async function convertToInteractive(key) {\n",
              "          const element = document.querySelector('#df-3a768fc7-9e85-4587-b24d-8004b4e80fa1');\n",
              "          const dataTable =\n",
              "            await google.colab.kernel.invokeFunction('convertToInteractive',\n",
              "                                                     [key], {});\n",
              "          if (!dataTable) return;\n",
              "\n",
              "          const docLinkHtml = 'Like what you see? Visit the ' +\n",
              "            '<a target=\"_blank\" href=https://colab.research.google.com/notebooks/data_table.ipynb>data table notebook</a>'\n",
              "            + ' to learn more about interactive tables.';\n",
              "          element.innerHTML = '';\n",
              "          dataTable['output_type'] = 'display_data';\n",
              "          await google.colab.output.renderOutput(dataTable, element);\n",
              "          const docLink = document.createElement('div');\n",
              "          docLink.innerHTML = docLinkHtml;\n",
              "          element.appendChild(docLink);\n",
              "        }\n",
              "      </script>\n",
              "    </div>\n",
              "  </div>\n",
              "  "
            ]
          },
          "metadata": {},
          "execution_count": 25
        }
      ]
    },
    {
      "cell_type": "markdown",
      "source": [
        "### Analysis of 5% discount population"
      ],
      "metadata": {
        "id": "34BHbf1mCOuo"
      }
    },
    {
      "cell_type": "code",
      "source": [
        "dataset['treatment'].value_counts()"
      ],
      "metadata": {
        "colab": {
          "base_uri": "https://localhost:8080/"
        },
        "id": "ytXWyNVxDhwf",
        "outputId": "3350cfb0-aedb-43ff-cc36-32c471989f93"
      },
      "execution_count": 26,
      "outputs": [
        {
          "output_type": "execute_result",
          "data": {
            "text/plain": [
              "control       1000\n",
              "treatment1     700\n",
              "treatment2     450\n",
              "Name: treatment, dtype: int64"
            ]
          },
          "metadata": {},
          "execution_count": 26
        }
      ]
    },
    {
      "cell_type": "code",
      "source": [
        "data = dataset.query(\"treatment!='treatment2'\")"
      ],
      "metadata": {
        "id": "r-A-a_qvB3VP"
      },
      "execution_count": 27,
      "outputs": []
    },
    {
      "cell_type": "code",
      "source": [
        "data.shape"
      ],
      "metadata": {
        "colab": {
          "base_uri": "https://localhost:8080/"
        },
        "id": "pbKD0wqkEgBg",
        "outputId": "5e9d2755-88ae-4eea-98f0-87d6dc99dfba"
      },
      "execution_count": 28,
      "outputs": [
        {
          "output_type": "execute_result",
          "data": {
            "text/plain": [
              "(1700, 23)"
            ]
          },
          "metadata": {},
          "execution_count": 28
        }
      ]
    },
    {
      "cell_type": "code",
      "source": [
        "dataset.to_csv(\"customer_df_set.csv\")"
      ],
      "metadata": {
        "id": "X27iEUCHEiqE"
      },
      "execution_count": 61,
      "outputs": []
    },
    {
      "cell_type": "code",
      "source": [
        "data['treatment'].value_counts()"
      ],
      "metadata": {
        "colab": {
          "base_uri": "https://localhost:8080/"
        },
        "id": "po2lG9xkExTX",
        "outputId": "1fb24cf3-2096-4601-f6a7-32f203120d51"
      },
      "execution_count": 30,
      "outputs": [
        {
          "output_type": "execute_result",
          "data": {
            "text/plain": [
              "control       1000\n",
              "treatment1     700\n",
              "Name: treatment, dtype: int64"
            ]
          },
          "metadata": {},
          "execution_count": 30
        }
      ]
    },
    {
      "cell_type": "code",
      "source": [
        "data['treatment'].value_counts()"
      ],
      "metadata": {
        "colab": {
          "base_uri": "https://localhost:8080/"
        },
        "id": "vPPSwNFWFVSL",
        "outputId": "849acf84-a019-497f-ece9-7e382861bb3d"
      },
      "execution_count": 31,
      "outputs": [
        {
          "output_type": "execute_result",
          "data": {
            "text/plain": [
              "control       1000\n",
              "treatment1     700\n",
              "Name: treatment, dtype: int64"
            ]
          },
          "metadata": {},
          "execution_count": 31
        }
      ]
    },
    {
      "cell_type": "code",
      "source": [
        "data.columns"
      ],
      "metadata": {
        "colab": {
          "base_uri": "https://localhost:8080/"
        },
        "id": "AkhlarPCFaFe",
        "outputId": "6326e411-ad84-4241-9e97-0906d04dd9db"
      },
      "execution_count": 32,
      "outputs": [
        {
          "output_type": "execute_result",
          "data": {
            "text/plain": [
              "Index(['CustomerKey', 'BirthDate', 'Income', 'DiscountAmt', 'DiscountQty',\n",
              "       'Sales', 'Quantity', 'Price', 'Age', 'graduate', 'HighSchool',\n",
              "       'PartialCollege', 'PartialHighSc', 'Male', 'Single', 'ManagerCdr',\n",
              "       'ManualCdr', 'ProfessionalCdr', 'SkilledManualCdr', 'Age^2', 'Income^2',\n",
              "       'DiscPerc', 'treatment'],\n",
              "      dtype='object')"
            ]
          },
          "metadata": {},
          "execution_count": 32
        }
      ]
    },
    {
      "cell_type": "code",
      "source": [
        "feature_names =['Income','Price', 'Age', 'graduate', 'HighSchool',\n",
        "       'PartialCollege', 'PartialHighSc', 'Male', 'Single', 'ManagerCdr',\n",
        "       'ManualCdr', 'ProfessionalCdr', 'SkilledManualCdr', 'Age^2', 'Income^2',\n",
        "       ]"
      ],
      "metadata": {
        "id": "8JiLksAZFuV0"
      },
      "execution_count": 33,
      "outputs": []
    },
    {
      "cell_type": "code",
      "source": [
        "data.info()"
      ],
      "metadata": {
        "colab": {
          "base_uri": "https://localhost:8080/"
        },
        "id": "8q3ISHWxfNHn",
        "outputId": "ddcd6ab6-ff30-499c-dee8-965dd171beb5"
      },
      "execution_count": 35,
      "outputs": [
        {
          "output_type": "stream",
          "name": "stdout",
          "text": [
            "<class 'pandas.core.frame.DataFrame'>\n",
            "Int64Index: 1700 entries, 17792 to 7352\n",
            "Data columns (total 23 columns):\n",
            " #   Column            Non-Null Count  Dtype         \n",
            "---  ------            --------------  -----         \n",
            " 0   CustomerKey       1700 non-null   int64         \n",
            " 1   BirthDate         1700 non-null   datetime64[ns]\n",
            " 2   Income            1700 non-null   int64         \n",
            " 3   DiscountAmt       1700 non-null   float64       \n",
            " 4   DiscountQty       1700 non-null   float64       \n",
            " 5   Sales             1700 non-null   float64       \n",
            " 6   Quantity          1700 non-null   float64       \n",
            " 7   Price             1700 non-null   float64       \n",
            " 8   Age               1700 non-null   int64         \n",
            " 9   graduate          1700 non-null   uint8         \n",
            " 10  HighSchool        1700 non-null   uint8         \n",
            " 11  PartialCollege    1700 non-null   uint8         \n",
            " 12  PartialHighSc     1700 non-null   uint8         \n",
            " 13  Male              1700 non-null   uint8         \n",
            " 14  Single            1700 non-null   uint8         \n",
            " 15  ManagerCdr        1700 non-null   uint8         \n",
            " 16  ManualCdr         1700 non-null   uint8         \n",
            " 17  ProfessionalCdr   1700 non-null   uint8         \n",
            " 18  SkilledManualCdr  1700 non-null   uint8         \n",
            " 19  Age^2             1700 non-null   int64         \n",
            " 20  Income^2          1700 non-null   int64         \n",
            " 21  DiscPerc          1700 non-null   float64       \n",
            " 22  treatment         1700 non-null   object        \n",
            "dtypes: datetime64[ns](1), float64(6), int64(5), object(1), uint8(10)\n",
            "memory usage: 202.5+ KB\n"
          ]
        }
      ]
    },
    {
      "cell_type": "code",
      "source": [
        "X = data[feature_names]\n",
        "y = data['Sales']\n",
        "treatment = data['treatment']"
      ],
      "metadata": {
        "id": "V_0jVmYsfYi7"
      },
      "execution_count": 36,
      "outputs": []
    },
    {
      "cell_type": "code",
      "source": [
        "pd.Series(treatment).value_counts()"
      ],
      "metadata": {
        "colab": {
          "base_uri": "https://localhost:8080/"
        },
        "id": "uijwOdswf96h",
        "outputId": "5c3727ab-6545-4dca-e227-9aee91b8aef9"
      },
      "execution_count": 37,
      "outputs": [
        {
          "output_type": "execute_result",
          "data": {
            "text/plain": [
              "control       1000\n",
              "treatment1     700\n",
              "Name: treatment, dtype: int64"
            ]
          },
          "metadata": {},
          "execution_count": 37
        }
      ]
    },
    {
      "cell_type": "code",
      "source": [
        "from lightgbm import LGBMRegressor"
      ],
      "metadata": {
        "id": "lVH9oSYniUZc"
      },
      "execution_count": 38,
      "outputs": []
    },
    {
      "cell_type": "code",
      "source": [
        "base_algo = LGBMRegressor()\n",
        "slearner = BaseSRegressor(base_algo,control_name='control')\n",
        "slearner.estimate_ate(X,treatment,y)\n"
      ],
      "metadata": {
        "colab": {
          "base_uri": "https://localhost:8080/"
        },
        "id": "a_8YJlCzhlBg",
        "outputId": "2d3fb906-3a5d-455b-9d9d-d6485bc0ffb9"
      },
      "execution_count": 39,
      "outputs": [
        {
          "output_type": "execute_result",
          "data": {
            "text/plain": [
              "array([79.49197533])"
            ]
          },
          "metadata": {},
          "execution_count": 39
        }
      ]
    },
    {
      "cell_type": "code",
      "source": [
        "ite = slearner.fit_predict(X,treatment,y)"
      ],
      "metadata": {
        "id": "f_gZ1IwGi4EK"
      },
      "execution_count": 40,
      "outputs": []
    },
    {
      "cell_type": "code",
      "source": [
        "# True ATE\n",
        "\n",
        "ite.mean()"
      ],
      "metadata": {
        "colab": {
          "base_uri": "https://localhost:8080/"
        },
        "id": "972RonxnjGm8",
        "outputId": "d10c2659-9193-49a6-b88a-f74a2433c552"
      },
      "execution_count": 41,
      "outputs": [
        {
          "output_type": "execute_result",
          "data": {
            "text/plain": [
              "79.49197533403807"
            ]
          },
          "metadata": {},
          "execution_count": 41
        }
      ]
    },
    {
      "cell_type": "code",
      "source": [
        "treat = treatment.map({'treatment1':1,'control':0})"
      ],
      "metadata": {
        "id": "UxCcZZmgkW1l"
      },
      "execution_count": 48,
      "outputs": []
    },
    {
      "cell_type": "code",
      "source": [
        "treat.value_counts()"
      ],
      "metadata": {
        "colab": {
          "base_uri": "https://localhost:8080/"
        },
        "id": "QtqhPmlWlHb-",
        "outputId": "682d84dc-7148-4ff0-82ee-705da87c1724"
      },
      "execution_count": 49,
      "outputs": [
        {
          "output_type": "execute_result",
          "data": {
            "text/plain": [
              "0    1000\n",
              "1     700\n",
              "Name: treatment, dtype: int64"
            ]
          },
          "metadata": {},
          "execution_count": 49
        }
      ]
    },
    {
      "cell_type": "code",
      "source": [
        "xgb = BaseSRegressor(XGBRegressor(random_state=42))\n",
        "te,lb,ub = xgb.estimate_ate(X,treat,y,return_ci=True)"
      ],
      "metadata": {
        "colab": {
          "base_uri": "https://localhost:8080/"
        },
        "id": "EKCG3ym-jUJS",
        "outputId": "ad872532-fb8d-4c97-b8da-f2ee643feebb"
      },
      "execution_count": 50,
      "outputs": [
        {
          "output_type": "stream",
          "name": "stdout",
          "text": [
            "[22:09:50] WARNING: /workspace/src/objective/regression_obj.cu:152: reg:linear is now deprecated in favor of reg:squarederror.\n"
          ]
        }
      ]
    },
    {
      "cell_type": "code",
      "source": [
        "print('Average Treatment Effect (Linear Regression):{:.2f} ({:.2f},{:.2f}))'.format(te[0],lb[0],ub[0]))"
      ],
      "metadata": {
        "colab": {
          "base_uri": "https://localhost:8080/"
        },
        "id": "NqjG62aTl7gU",
        "outputId": "92c53637-54e9-4e07-e7b5-8ada7801cbce"
      },
      "execution_count": 53,
      "outputs": [
        {
          "output_type": "stream",
          "name": "stdout",
          "text": [
            "Average Treatment Effect (Linear Regression):78.93 (72.04,85.82))\n"
          ]
        }
      ]
    },
    {
      "cell_type": "code",
      "source": [
        "xgb.get_importance(X=X,tau=ite,normalize=True,method='auto',features=feature_names)"
      ],
      "metadata": {
        "colab": {
          "base_uri": "https://localhost:8080/"
        },
        "id": "4-RiGEEBo8fd",
        "outputId": "fbc5af0d-6163-4b2e-98e0-8adf34839ed0"
      },
      "execution_count": 54,
      "outputs": [
        {
          "output_type": "execute_result",
          "data": {
            "text/plain": [
              "{1: Price               0.418589\n",
              " Income              0.221571\n",
              " Age                 0.152557\n",
              " ManualCdr           0.050764\n",
              " Male                0.042815\n",
              " ProfessionalCdr     0.041431\n",
              " Single              0.024889\n",
              " SkilledManualCdr    0.020985\n",
              " HighSchool          0.010916\n",
              " PartialCollege      0.006925\n",
              " graduate            0.003445\n",
              " ManagerCdr          0.003404\n",
              " PartialHighSc       0.001710\n",
              " Age^2               0.000000\n",
              " Income^2            0.000000\n",
              " dtype: float64}"
            ]
          },
          "metadata": {},
          "execution_count": 54
        }
      ]
    },
    {
      "cell_type": "code",
      "source": [
        "xgb.plot_importance(X=X,tau=ite,normalize=True,method='auto',features=feature_names)"
      ],
      "metadata": {
        "colab": {
          "base_uri": "https://localhost:8080/",
          "height": 536
        },
        "id": "05jzqPflqB5y",
        "outputId": "552874a0-adb5-490b-8f3d-53cb30aed9d0"
      },
      "execution_count": 55,
      "outputs": [
        {
          "output_type": "display_data",
          "data": {
            "text/plain": [
              "<Figure size 864x576 with 1 Axes>"
            ],
            "image/png": "[encoded data removed]"
          },
          "metadata": {}
        }
      ]
    },
    {
      "cell_type": "code",
      "source": [
        "sharp_slearner = slearner.get_shap_values(X=X,tau=ite)\n",
        "sharp_slearner"
      ],
      "metadata": {
        "colab": {
          "base_uri": "https://localhost:8080/"
        },
        "id": "04tCdrn0qsuW",
        "outputId": "ee258f16-214e-48cd-ab2b-746e61729ae3"
      },
      "execution_count": 56,
      "outputs": [
        {
          "output_type": "execute_result",
          "data": {
            "text/plain": [
              "{'treatment1': array([[ 24.11513879,   4.55636434,   2.74458962, ...,  -0.59788321,\n",
              "           0.        ,   0.        ],\n",
              "        [-42.56777512,   1.75951665,  -9.8587475 , ...,  -1.93258167,\n",
              "           0.        ,   0.        ],\n",
              "        [-29.18017585,   2.70211821,   7.7150349 , ...,  -0.3224747 ,\n",
              "           0.        ,   0.        ],\n",
              "        ...,\n",
              "        [-35.91490768,   1.80396187,  -7.6979158 , ...,   5.80223066,\n",
              "           0.        ,   0.        ],\n",
              "        [ 28.93397406, -53.52584744,   0.47171908, ...,  -2.11202313,\n",
              "           0.        ,   0.        ],\n",
              "        [-24.80370166,   2.32532017,   3.74088363, ...,   1.21986539,\n",
              "           0.        ,   0.        ]])}"
            ]
          },
          "metadata": {},
          "execution_count": 56
        }
      ]
    },
    {
      "cell_type": "code",
      "source": [
        "np.mean(np.abs(sharp_slearner['treatment1']),axis=0)"
      ],
      "metadata": {
        "colab": {
          "base_uri": "https://localhost:8080/"
        },
        "id": "wf_f9g1gsZGb",
        "outputId": "ace9e577-b11d-440c-e452-5f5ec93a60dd"
      },
      "execution_count": 57,
      "outputs": [
        {
          "output_type": "execute_result",
          "data": {
            "text/plain": [
              "array([27.65839838,  9.54841668, 11.22134126,  1.1440451 ,  1.21834311,\n",
              "        1.2156911 ,  0.91916182,  5.35165556,  4.00934471,  0.35641413,\n",
              "        5.38172596,  5.73728092,  2.57900854,  0.        ,  0.        ])"
            ]
          },
          "metadata": {},
          "execution_count": 57
        }
      ]
    },
    {
      "cell_type": "code",
      "source": [
        "slearner.plot_shap_values(X=X,tau=ite,features=feature_names)"
      ],
      "metadata": {
        "colab": {
          "base_uri": "https://localhost:8080/",
          "height": 541
        },
        "id": "cSQfW7iqtTWX",
        "outputId": "6f16e51f-c533-4174-eb31-bced7ea4835a"
      },
      "execution_count": 59,
      "outputs": [
        {
          "output_type": "display_data",
          "data": {
            "text/plain": [
              "<Figure size 576x540 with 2 Axes>"
            ],
            "image/png": "[encoded data removed]"
          },
          "metadata": {}
        }
      ]
    },
    {
      "cell_type": "code",
      "source": [
        "slearner.plot_shap_values(X=X,shap_dict=sharp_slearner)"
      ],
      "metadata": {
        "colab": {
          "base_uri": "https://localhost:8080/",
          "height": 541
        },
        "id": "eaO9gpUOuBBZ",
        "outputId": "455cab10-8880-4644-bc89-16811c9650b2"
      },
      "execution_count": 60,
      "outputs": [
        {
          "output_type": "display_data",
          "data": {
            "text/plain": [
              "<Figure size 576x540 with 2 Axes>"
            ],
            "image/png": "[encoded data removed]"
          },
          "metadata": {}
        }
      ]
    }
  ]
}