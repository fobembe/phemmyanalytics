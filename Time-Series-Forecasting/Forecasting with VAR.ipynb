{
  "nbformat": 4,
  "nbformat_minor": 0,
  "metadata": {
    "colab": {
      "name": "Untitled42.ipynb",
      "provenance": []
    },
    "kernelspec": {
      "name": "python3",
      "display_name": "Python 3"
    },
    "language_info": {
      "name": "python"
    }
  },
  "cells": [
    {
      "cell_type": "markdown",
      "source": [
        "# Forecasting GDP, Consumption Spending and Investment Expenditure with VAR"
      ],
      "metadata": {
        "id": "zH5FP5NEM8rA"
      }
    },
    {
      "cell_type": "code",
      "execution_count": 1,
      "metadata": {
        "id": "ugU6iiki2VlL"
      },
      "outputs": [],
      "source": [
        "import numpy as np\n",
        "import pandas as pd\n",
        "import matplotlib.pyplot as plt"
      ]
    },
    {
      "cell_type": "markdown",
      "source": [
        "Importing the dataset.  The dataset is taken from statsmodels https://www.statsmodels.org/dev/vector_ar.html. "
      ],
      "metadata": {
        "id": "74Zpb1InNRoZ"
      }
    },
    {
      "cell_type": "code",
      "source": [
        "data = pd.read_csv(\"/content/drive/MyDrive/Time Series/VAR/macrodata.csv\",index_col='Date',parse_dates=True)\n",
        "data.head()"
      ],
      "metadata": {
        "colab": {
          "base_uri": "https://localhost:8080/",
          "height": 238
        },
        "id": "XbWz0jb-2jdP",
        "outputId": "90419cff-908b-40f9-8d97-d8c35b371a27"
      },
      "execution_count": 2,
      "outputs": [
        {
          "output_type": "execute_result",
          "data": {
            "text/plain": [
              "             realgdp  realcons  realinv\n",
              "Date                                   \n",
              "1959-03-31  2710.349    1707.4  286.898\n",
              "1959-06-30  2778.801    1733.7  310.859\n",
              "1959-09-30  2775.488    1751.8  289.226\n",
              "1959-12-31  2785.204    1753.7  299.356\n",
              "1960-03-31  2847.699    1770.5  331.722"
            ],
            "text/html": [
              "\n",
              "  <div id=\"df-7d58374e-fd2c-4249-92a8-90e741c7992c\">\n",
              "    <div class=\"colab-df-container\">\n",
              "      <div>\n",
              "<style scoped>\n",
              "    .dataframe tbody tr th:only-of-type {\n",
              "        vertical-align: middle;\n",
              "    }\n",
              "\n",
              "    .dataframe tbody tr th {\n",
              "        vertical-align: top;\n",
              "    }\n",
              "\n",
              "    .dataframe thead th {\n",
              "        text-align: right;\n",
              "    }\n",
              "</style>\n",
              "<table border=\"1\" class=\"dataframe\">\n",
              "  <thead>\n",
              "    <tr style=\"text-align: right;\">\n",
              "      <th></th>\n",
              "      <th>realgdp</th>\n",
              "      <th>realcons</th>\n",
              "      <th>realinv</th>\n",
              "    </tr>\n",
              "    <tr>\n",
              "      <th>Date</th>\n",
              "      <th></th>\n",
              "      <th></th>\n",
              "      <th></th>\n",
              "    </tr>\n",
              "  </thead>\n",
              "  <tbody>\n",
              "    <tr>\n",
              "      <th>1959-03-31</th>\n",
              "      <td>2710.349</td>\n",
              "      <td>1707.4</td>\n",
              "      <td>286.898</td>\n",
              "    </tr>\n",
              "    <tr>\n",
              "      <th>1959-06-30</th>\n",
              "      <td>2778.801</td>\n",
              "      <td>1733.7</td>\n",
              "      <td>310.859</td>\n",
              "    </tr>\n",
              "    <tr>\n",
              "      <th>1959-09-30</th>\n",
              "      <td>2775.488</td>\n",
              "      <td>1751.8</td>\n",
              "      <td>289.226</td>\n",
              "    </tr>\n",
              "    <tr>\n",
              "      <th>1959-12-31</th>\n",
              "      <td>2785.204</td>\n",
              "      <td>1753.7</td>\n",
              "      <td>299.356</td>\n",
              "    </tr>\n",
              "    <tr>\n",
              "      <th>1960-03-31</th>\n",
              "      <td>2847.699</td>\n",
              "      <td>1770.5</td>\n",
              "      <td>331.722</td>\n",
              "    </tr>\n",
              "  </tbody>\n",
              "</table>\n",
              "</div>\n",
              "      <button class=\"colab-df-convert\" onclick=\"convertToInteractive('df-7d58374e-fd2c-4249-92a8-90e741c7992c')\"\n",
              "              title=\"Convert this dataframe to an interactive table.\"\n",
              "              style=\"display:none;\">\n",
              "        \n",
              "  <svg xmlns=\"http://www.w3.org/2000/svg\" height=\"24px\"viewBox=\"0 0 24 24\"\n",
              "       width=\"24px\">\n",
              "    <path d=\"M0 0h24v24H0V0z\" fill=\"none\"/>\n",
              "    <path d=\"M18.56 5.44l.94 2.06.94-2.06 2.06-.94-2.06-.94-.94-2.06-.94 2.06-2.06.94zm-11 1L8.5 8.5l.94-2.06 2.06-.94-2.06-.94L8.5 2.5l-.94 2.06-2.06.94zm10 10l.94 2.06.94-2.06 2.06-.94-2.06-.94-.94-2.06-.94 2.06-2.06.94z\"/><path d=\"M17.41 7.96l-1.37-1.37c-.4-.4-.92-.59-1.43-.59-.52 0-1.04.2-1.43.59L10.3 9.45l-7.72 7.72c-.78.78-.78 2.05 0 2.83L4 21.41c.39.39.9.59 1.41.59.51 0 1.02-.2 1.41-.59l7.78-7.78 2.81-2.81c.8-.78.8-2.07 0-2.86zM5.41 20L4 18.59l7.72-7.72 1.47 1.35L5.41 20z\"/>\n",
              "  </svg>\n",
              "      </button>\n",
              "      \n",
              "  <style>\n",
              "    .colab-df-container {\n",
              "      display:flex;\n",
              "      flex-wrap:wrap;\n",
              "      gap: 12px;\n",
              "    }\n",
              "\n",
              "    .colab-df-convert {\n",
              "      background-color: #E8F0FE;\n",
              "      border: none;\n",
              "      border-radius: 50%;\n",
              "      cursor: pointer;\n",
              "      display: none;\n",
              "      fill: #1967D2;\n",
              "      height: 32px;\n",
              "      padding: 0 0 0 0;\n",
              "      width: 32px;\n",
              "    }\n",
              "\n",
              "    .colab-df-convert:hover {\n",
              "      background-color: #E2EBFA;\n",
              "      box-shadow: 0px 1px 2px rgba(60, 64, 67, 0.3), 0px 1px 3px 1px rgba(60, 64, 67, 0.15);\n",
              "      fill: #174EA6;\n",
              "    }\n",
              "\n",
              "    [theme=dark] .colab-df-convert {\n",
              "      background-color: #3B4455;\n",
              "      fill: #D2E3FC;\n",
              "    }\n",
              "\n",
              "    [theme=dark] .colab-df-convert:hover {\n",
              "      background-color: #434B5C;\n",
              "      box-shadow: 0px 1px 3px 1px rgba(0, 0, 0, 0.15);\n",
              "      filter: drop-shadow(0px 1px 2px rgba(0, 0, 0, 0.3));\n",
              "      fill: #FFFFFF;\n",
              "    }\n",
              "  </style>\n",
              "\n",
              "      <script>\n",
              "        const buttonEl =\n",
              "          document.querySelector('#df-7d58374e-fd2c-4249-92a8-90e741c7992c button.colab-df-convert');\n",
              "        buttonEl.style.display =\n",
              "          google.colab.kernel.accessAllowed ? 'block' : 'none';\n",
              "\n",
              "        async function convertToInteractive(key) {\n",
              "          const element = document.querySelector('#df-7d58374e-fd2c-4249-92a8-90e741c7992c');\n",
              "          const dataTable =\n",
              "            await google.colab.kernel.invokeFunction('convertToInteractive',\n",
              "                                                     [key], {});\n",
              "          if (!dataTable) return;\n",
              "\n",
              "          const docLinkHtml = 'Like what you see? Visit the ' +\n",
              "            '<a target=\"_blank\" href=https://colab.research.google.com/notebooks/data_table.ipynb>data table notebook</a>'\n",
              "            + ' to learn more about interactive tables.';\n",
              "          element.innerHTML = '';\n",
              "          dataTable['output_type'] = 'display_data';\n",
              "          await google.colab.output.renderOutput(dataTable, element);\n",
              "          const docLink = document.createElement('div');\n",
              "          docLink.innerHTML = docLinkHtml;\n",
              "          element.appendChild(docLink);\n",
              "        }\n",
              "      </script>\n",
              "    </div>\n",
              "  </div>\n",
              "  "
            ]
          },
          "metadata": {},
          "execution_count": 2
        }
      ]
    },
    {
      "cell_type": "code",
      "source": [
        "data.index.freq = 'Q'"
      ],
      "metadata": {
        "id": "-dMNo1pZ2nND"
      },
      "execution_count": 3,
      "outputs": []
    },
    {
      "cell_type": "markdown",
      "source": [
        "# Visualize the data"
      ],
      "metadata": {
        "id": "9QBaE4DFO2bD"
      }
    },
    {
      "cell_type": "code",
      "source": [
        "data.plot(figsize=(15,5))"
      ],
      "metadata": {
        "colab": {
          "base_uri": "https://localhost:8080/",
          "height": 354
        },
        "id": "9HDJhlbx2rlG",
        "outputId": "3c46ec3b-f0b3-4a62-a608-61d7004e3e09"
      },
      "execution_count": 4,
      "outputs": [
        {
          "output_type": "execute_result",
          "data": {
            "text/plain": [
              "<matplotlib.axes._subplots.AxesSubplot at 0x7fcd93bca410>"
            ]
          },
          "metadata": {},
          "execution_count": 4
        },
        {
          "output_type": "display_data",
          "data": {
            "text/plain": [
              "<Figure size 1080x360 with 1 Axes>"
            ],
            "image/png": "[encoded data removed]"
          },
          "metadata": {
            "needs_background": "light"
          }
        }
      ]
    },
    {
      "cell_type": "markdown",
      "source": [
        "# Split the data into train and test sets"
      ],
      "metadata": {
        "id": "4-_PqdxnO9Di"
      }
    },
    {
      "cell_type": "code",
      "source": [
        "nobs = 10\n",
        "\n",
        "train = data[:-nobs]\n",
        "test_df = data[-nobs:]"
      ],
      "metadata": {
        "id": "mINE79qb2zIN"
      },
      "execution_count": 5,
      "outputs": []
    },
    {
      "cell_type": "code",
      "source": [
        "print(train.shape,test_df.shape)"
      ],
      "metadata": {
        "colab": {
          "base_uri": "https://localhost:8080/"
        },
        "id": "iQS5aidz3B7_",
        "outputId": "7139eb4c-1a7b-41ed-b5fc-d23148d5ef48"
      },
      "execution_count": 6,
      "outputs": [
        {
          "output_type": "stream",
          "name": "stdout",
          "text": [
            "(193, 3) (10, 3)\n"
          ]
        }
      ]
    },
    {
      "cell_type": "markdown",
      "source": [
        "# Stationarity Check"
      ],
      "metadata": {
        "id": "kN4DEyXWPeT4"
      }
    },
    {
      "cell_type": "code",
      "source": [
        "from statsmodels.tsa.stattools import adfuller"
      ],
      "metadata": {
        "colab": {
          "base_uri": "https://localhost:8080/"
        },
        "id": "AnMQsfizPzoh",
        "outputId": "ed0479fb-c32f-4465-9361-d104f0e5bf16"
      },
      "execution_count": 7,
      "outputs": [
        {
          "output_type": "stream",
          "name": "stderr",
          "text": [
            "/usr/local/lib/python3.7/dist-packages/statsmodels/tools/_testing.py:19: FutureWarning: pandas.util.testing is deprecated. Use the functions in the public API at pandas.testing instead.\n",
            "  import pandas.util.testing as tm\n"
          ]
        }
      ]
    },
    {
      "cell_type": "code",
      "source": [
        "def adfuller_test(ts,sig = 0.05,name='',verbose=False):\n",
        "  result = adfuller(ts,autolag='AIC')\n",
        "  output = {'test_statistic':round(result[0],3),'pvalue':round(result[1],3),'n_lags':round(result[2],3),'n_obs':result[3]}\n",
        "  p_value = output['pvalue']\n",
        "  def adjust(val,length=6): return str(val).ljust(length)\n",
        "\n",
        "  print(f' Augmented Dickey-Fuller Test on \"{name}\"',\"\\n  \", '_'*47)\n",
        "  print(f'Null Hypothesis: Data has unit root. Non-Stationary.')\n",
        "  print(f'Significance Level = {sig}')\n",
        "  print(f'Test  Statistic    = {output[\"test_statistic\"]}')\n",
        "  print(f'No. lags Chosen    ={output[\"n_lags\"]}')\n",
        "\n",
        "  for key,val in result[4].items():\n",
        "    print(f'Critical value {adjust(key)}={round(val,2)}')\n",
        "\n",
        "    if p_value <= sig:\n",
        "      print(f\"=> P-value={p_value}. Rejecting null hypothesis.\")\n",
        "      print(f\"=>Series is stationary\")\n",
        "    else:\n",
        "      print(f\"=>p_value={p_value}.Weak evidence to reject the Null Hypothesis.\")\n",
        "      print(f\"=> Series is Non-Stationary\")"
      ],
      "metadata": {
        "id": "lTF8jk4TPkGf"
      },
      "execution_count": 8,
      "outputs": []
    },
    {
      "cell_type": "code",
      "source": [
        "for name,column in train.iteritems():\n",
        "  adfuller_test(column,name=column.name)\n",
        "  print('\\n')"
      ],
      "metadata": {
        "colab": {
          "base_uri": "https://localhost:8080/"
        },
        "id": "M7peLlgSP7FI",
        "outputId": "50f35c8d-179d-4457-d6b5-e11ec2dc95a5"
      },
      "execution_count": 9,
      "outputs": [
        {
          "output_type": "stream",
          "name": "stdout",
          "text": [
            " Augmented Dickey-Fuller Test on \"realgdp\" \n",
            "   _______________________________________________\n",
            "Null Hypothesis: Data has unit root. Non-Stationary.\n",
            "Significance Level = 0.05\n",
            "Test  Statistic    = 2.616\n",
            "No. lags Chosen    =2\n",
            "Critical value 1%    =-3.47\n",
            "=>p_value=0.999.Weak evidence to reject the Null Hypothesis.\n",
            "=> Series is Non-Stationary\n",
            "Critical value 5%    =-2.88\n",
            "=>p_value=0.999.Weak evidence to reject the Null Hypothesis.\n",
            "=> Series is Non-Stationary\n",
            "Critical value 10%   =-2.57\n",
            "=>p_value=0.999.Weak evidence to reject the Null Hypothesis.\n",
            "=> Series is Non-Stationary\n",
            "\n",
            "\n",
            " Augmented Dickey-Fuller Test on \"realcons\" \n",
            "   _______________________________________________\n",
            "Null Hypothesis: Data has unit root. Non-Stationary.\n",
            "Significance Level = 0.05\n",
            "Test  Statistic    = 3.189\n",
            "No. lags Chosen    =3\n",
            "Critical value 1%    =-3.47\n",
            "=>p_value=1.0.Weak evidence to reject the Null Hypothesis.\n",
            "=> Series is Non-Stationary\n",
            "Critical value 5%    =-2.88\n",
            "=>p_value=1.0.Weak evidence to reject the Null Hypothesis.\n",
            "=> Series is Non-Stationary\n",
            "Critical value 10%   =-2.57\n",
            "=>p_value=1.0.Weak evidence to reject the Null Hypothesis.\n",
            "=> Series is Non-Stationary\n",
            "\n",
            "\n",
            " Augmented Dickey-Fuller Test on \"realinv\" \n",
            "   _______________________________________________\n",
            "Null Hypothesis: Data has unit root. Non-Stationary.\n",
            "Significance Level = 0.05\n",
            "Test  Statistic    = 0.919\n",
            "No. lags Chosen    =8\n",
            "Critical value 1%    =-3.47\n",
            "=>p_value=0.993.Weak evidence to reject the Null Hypothesis.\n",
            "=> Series is Non-Stationary\n",
            "Critical value 5%    =-2.88\n",
            "=>p_value=0.993.Weak evidence to reject the Null Hypothesis.\n",
            "=> Series is Non-Stationary\n",
            "Critical value 10%   =-2.58\n",
            "=>p_value=0.993.Weak evidence to reject the Null Hypothesis.\n",
            "=> Series is Non-Stationary\n",
            "\n",
            "\n"
          ]
        }
      ]
    },
    {
      "cell_type": "markdown",
      "source": [
        "# Transform the dataset"
      ],
      "metadata": {
        "id": "C4is283uQt8x"
      }
    },
    {
      "cell_type": "code",
      "source": [
        "X_train = np.log(train)\n",
        "train_dif = (X_train).diff().dropna()\n",
        "train_dif.describe()"
      ],
      "metadata": {
        "colab": {
          "base_uri": "https://localhost:8080/",
          "height": 300
        },
        "id": "e4tE9Fpu3Eaj",
        "outputId": "72a3e613-45d2-4960-b883-8c5c5ab8a3f6"
      },
      "execution_count": 10,
      "outputs": [
        {
          "output_type": "execute_result",
          "data": {
            "text/plain": [
              "          realgdp    realcons     realinv\n",
              "count  192.000000  192.000000  192.000000\n",
              "mean     0.008206    0.008809    0.010448\n",
              "std      0.008573    0.006747    0.045242\n",
              "min     -0.020708   -0.022955   -0.193163\n",
              "25%      0.003518    0.004868   -0.011771\n",
              "50%      0.007922    0.008975    0.011437\n",
              "75%      0.012997    0.013193    0.035325\n",
              "max      0.038585    0.027733    0.122094"
            ],
            "text/html": [
              "\n",
              "  <div id=\"df-0bc35afb-2183-44b0-9f11-fc5eebde6e92\">\n",
              "    <div class=\"colab-df-container\">\n",
              "      <div>\n",
              "<style scoped>\n",
              "    .dataframe tbody tr th:only-of-type {\n",
              "        vertical-align: middle;\n",
              "    }\n",
              "\n",
              "    .dataframe tbody tr th {\n",
              "        vertical-align: top;\n",
              "    }\n",
              "\n",
              "    .dataframe thead th {\n",
              "        text-align: right;\n",
              "    }\n",
              "</style>\n",
              "<table border=\"1\" class=\"dataframe\">\n",
              "  <thead>\n",
              "    <tr style=\"text-align: right;\">\n",
              "      <th></th>\n",
              "      <th>realgdp</th>\n",
              "      <th>realcons</th>\n",
              "      <th>realinv</th>\n",
              "    </tr>\n",
              "  </thead>\n",
              "  <tbody>\n",
              "    <tr>\n",
              "      <th>count</th>\n",
              "      <td>192.000000</td>\n",
              "      <td>192.000000</td>\n",
              "      <td>192.000000</td>\n",
              "    </tr>\n",
              "    <tr>\n",
              "      <th>mean</th>\n",
              "      <td>0.008206</td>\n",
              "      <td>0.008809</td>\n",
              "      <td>0.010448</td>\n",
              "    </tr>\n",
              "    <tr>\n",
              "      <th>std</th>\n",
              "      <td>0.008573</td>\n",
              "      <td>0.006747</td>\n",
              "      <td>0.045242</td>\n",
              "    </tr>\n",
              "    <tr>\n",
              "      <th>min</th>\n",
              "      <td>-0.020708</td>\n",
              "      <td>-0.022955</td>\n",
              "      <td>-0.193163</td>\n",
              "    </tr>\n",
              "    <tr>\n",
              "      <th>25%</th>\n",
              "      <td>0.003518</td>\n",
              "      <td>0.004868</td>\n",
              "      <td>-0.011771</td>\n",
              "    </tr>\n",
              "    <tr>\n",
              "      <th>50%</th>\n",
              "      <td>0.007922</td>\n",
              "      <td>0.008975</td>\n",
              "      <td>0.011437</td>\n",
              "    </tr>\n",
              "    <tr>\n",
              "      <th>75%</th>\n",
              "      <td>0.012997</td>\n",
              "      <td>0.013193</td>\n",
              "      <td>0.035325</td>\n",
              "    </tr>\n",
              "    <tr>\n",
              "      <th>max</th>\n",
              "      <td>0.038585</td>\n",
              "      <td>0.027733</td>\n",
              "      <td>0.122094</td>\n",
              "    </tr>\n",
              "  </tbody>\n",
              "</table>\n",
              "</div>\n",
              "      <button class=\"colab-df-convert\" onclick=\"convertToInteractive('df-0bc35afb-2183-44b0-9f11-fc5eebde6e92')\"\n",
              "              title=\"Convert this dataframe to an interactive table.\"\n",
              "              style=\"display:none;\">\n",
              "        \n",
              "  <svg xmlns=\"http://www.w3.org/2000/svg\" height=\"24px\"viewBox=\"0 0 24 24\"\n",
              "       width=\"24px\">\n",
              "    <path d=\"M0 0h24v24H0V0z\" fill=\"none\"/>\n",
              "    <path d=\"M18.56 5.44l.94 2.06.94-2.06 2.06-.94-2.06-.94-.94-2.06-.94 2.06-2.06.94zm-11 1L8.5 8.5l.94-2.06 2.06-.94-2.06-.94L8.5 2.5l-.94 2.06-2.06.94zm10 10l.94 2.06.94-2.06 2.06-.94-2.06-.94-.94-2.06-.94 2.06-2.06.94z\"/><path d=\"M17.41 7.96l-1.37-1.37c-.4-.4-.92-.59-1.43-.59-.52 0-1.04.2-1.43.59L10.3 9.45l-7.72 7.72c-.78.78-.78 2.05 0 2.83L4 21.41c.39.39.9.59 1.41.59.51 0 1.02-.2 1.41-.59l7.78-7.78 2.81-2.81c.8-.78.8-2.07 0-2.86zM5.41 20L4 18.59l7.72-7.72 1.47 1.35L5.41 20z\"/>\n",
              "  </svg>\n",
              "      </button>\n",
              "      \n",
              "  <style>\n",
              "    .colab-df-container {\n",
              "      display:flex;\n",
              "      flex-wrap:wrap;\n",
              "      gap: 12px;\n",
              "    }\n",
              "\n",
              "    .colab-df-convert {\n",
              "      background-color: #E8F0FE;\n",
              "      border: none;\n",
              "      border-radius: 50%;\n",
              "      cursor: pointer;\n",
              "      display: none;\n",
              "      fill: #1967D2;\n",
              "      height: 32px;\n",
              "      padding: 0 0 0 0;\n",
              "      width: 32px;\n",
              "    }\n",
              "\n",
              "    .colab-df-convert:hover {\n",
              "      background-color: #E2EBFA;\n",
              "      box-shadow: 0px 1px 2px rgba(60, 64, 67, 0.3), 0px 1px 3px 1px rgba(60, 64, 67, 0.15);\n",
              "      fill: #174EA6;\n",
              "    }\n",
              "\n",
              "    [theme=dark] .colab-df-convert {\n",
              "      background-color: #3B4455;\n",
              "      fill: #D2E3FC;\n",
              "    }\n",
              "\n",
              "    [theme=dark] .colab-df-convert:hover {\n",
              "      background-color: #434B5C;\n",
              "      box-shadow: 0px 1px 3px 1px rgba(0, 0, 0, 0.15);\n",
              "      filter: drop-shadow(0px 1px 2px rgba(0, 0, 0, 0.3));\n",
              "      fill: #FFFFFF;\n",
              "    }\n",
              "  </style>\n",
              "\n",
              "      <script>\n",
              "        const buttonEl =\n",
              "          document.querySelector('#df-0bc35afb-2183-44b0-9f11-fc5eebde6e92 button.colab-df-convert');\n",
              "        buttonEl.style.display =\n",
              "          google.colab.kernel.accessAllowed ? 'block' : 'none';\n",
              "\n",
              "        async function convertToInteractive(key) {\n",
              "          const element = document.querySelector('#df-0bc35afb-2183-44b0-9f11-fc5eebde6e92');\n",
              "          const dataTable =\n",
              "            await google.colab.kernel.invokeFunction('convertToInteractive',\n",
              "                                                     [key], {});\n",
              "          if (!dataTable) return;\n",
              "\n",
              "          const docLinkHtml = 'Like what you see? Visit the ' +\n",
              "            '<a target=\"_blank\" href=https://colab.research.google.com/notebooks/data_table.ipynb>data table notebook</a>'\n",
              "            + ' to learn more about interactive tables.';\n",
              "          element.innerHTML = '';\n",
              "          dataTable['output_type'] = 'display_data';\n",
              "          await google.colab.output.renderOutput(dataTable, element);\n",
              "          const docLink = document.createElement('div');\n",
              "          docLink.innerHTML = docLinkHtml;\n",
              "          element.appendChild(docLink);\n",
              "        }\n",
              "      </script>\n",
              "    </div>\n",
              "  </div>\n",
              "  "
            ]
          },
          "metadata": {},
          "execution_count": 10
        }
      ]
    },
    {
      "cell_type": "code",
      "source": [
        "train_dif.plot(figsize=(15,5),linewidth=5,fontsize=14)\n",
        "plt.show()"
      ],
      "metadata": {
        "colab": {
          "base_uri": "https://localhost:8080/",
          "height": 338
        },
        "id": "7eZcXDq33km3",
        "outputId": "f96c2b6b-9eca-4a12-a94e-76152d9a12ee"
      },
      "execution_count": 11,
      "outputs": [
        {
          "output_type": "display_data",
          "data": {
            "text/plain": [
              "<Figure size 1080x360 with 1 Axes>"
            ],
            "image/png": "[encoded data removed]"
          },
          "metadata": {
            "needs_background": "light"
          }
        }
      ]
    },
    {
      "cell_type": "markdown",
      "source": [
        "# Check for stationarity of the transformed data"
      ],
      "metadata": {
        "id": "Tar4qznTRBZh"
      }
    },
    {
      "cell_type": "code",
      "source": [
        "for name,column in train_dif.iteritems():\n",
        "  adfuller_test(column,name=column.name)\n",
        "  print('\\n')"
      ],
      "metadata": {
        "colab": {
          "base_uri": "https://localhost:8080/"
        },
        "id": "_2h1L7HGQ_JU",
        "outputId": "70905634-b50c-40e6-aa93-7646a322d2cc"
      },
      "execution_count": 12,
      "outputs": [
        {
          "output_type": "stream",
          "name": "stdout",
          "text": [
            " Augmented Dickey-Fuller Test on \"realgdp\" \n",
            "   _______________________________________________\n",
            "Null Hypothesis: Data has unit root. Non-Stationary.\n",
            "Significance Level = 0.05\n",
            "Test  Statistic    = -7.131\n",
            "No. lags Chosen    =1\n",
            "Critical value 1%    =-3.47\n",
            "=> P-value=0.0. Rejecting null hypothesis.\n",
            "=>Series is stationary\n",
            "Critical value 5%    =-2.88\n",
            "=> P-value=0.0. Rejecting null hypothesis.\n",
            "=>Series is stationary\n",
            "Critical value 10%   =-2.57\n",
            "=> P-value=0.0. Rejecting null hypothesis.\n",
            "=>Series is stationary\n",
            "\n",
            "\n",
            " Augmented Dickey-Fuller Test on \"realcons\" \n",
            "   _______________________________________________\n",
            "Null Hypothesis: Data has unit root. Non-Stationary.\n",
            "Significance Level = 0.05\n",
            "Test  Statistic    = -5.279\n",
            "No. lags Chosen    =2\n",
            "Critical value 1%    =-3.47\n",
            "=> P-value=0.0. Rejecting null hypothesis.\n",
            "=>Series is stationary\n",
            "Critical value 5%    =-2.88\n",
            "=> P-value=0.0. Rejecting null hypothesis.\n",
            "=>Series is stationary\n",
            "Critical value 10%   =-2.57\n",
            "=> P-value=0.0. Rejecting null hypothesis.\n",
            "=>Series is stationary\n",
            "\n",
            "\n",
            " Augmented Dickey-Fuller Test on \"realinv\" \n",
            "   _______________________________________________\n",
            "Null Hypothesis: Data has unit root. Non-Stationary.\n",
            "Significance Level = 0.05\n",
            "Test  Statistic    = -12.71\n",
            "No. lags Chosen    =0\n",
            "Critical value 1%    =-3.47\n",
            "=> P-value=0.0. Rejecting null hypothesis.\n",
            "=>Series is stationary\n",
            "Critical value 5%    =-2.88\n",
            "=> P-value=0.0. Rejecting null hypothesis.\n",
            "=>Series is stationary\n",
            "Critical value 10%   =-2.57\n",
            "=> P-value=0.0. Rejecting null hypothesis.\n",
            "=>Series is stationary\n",
            "\n",
            "\n"
          ]
        }
      ]
    },
    {
      "cell_type": "markdown",
      "source": [
        "# Test for Causality"
      ],
      "metadata": {
        "id": "8yhtSSLJRVXv"
      }
    },
    {
      "cell_type": "code",
      "source": [
        "# Test for causality\n",
        "\n",
        "from statsmodels.tsa.stattools import grangercausalitytests\n",
        "\n",
        "maxlag = 12\n",
        "test = 'ssr_chi2test'\n",
        "\n",
        "def granger_causation_matrix(data,variables,test='ssr_chi2test',verbose=False):\n",
        "    df = pd.DataFrame(np.zeros((len(variables),len(variables))),columns=variables,index=variables)\n",
        "    for c in df.columns:\n",
        "        for r in df.index:\n",
        "            test_result = grangercausalitytests(data[[r,c]],maxlag=maxlag,verbose=False)\n",
        "            p_values = [round(test_result[i+1][0][test][1],4) for i in range(maxlag)]\n",
        "            if verbose: print(f'Y={r},X={c},P Values ={p_values}')\n",
        "            min_p_value = np.min(p_values)\n",
        "            df.loc[r,c] = min_p_value\n",
        "    df.columns = [var + '_x' for var in variables]\n",
        "    df.index = [var + '_y' for var in variables]\n",
        "    \n",
        "    return df\n",
        "\n",
        "granger_causation_matrix(train_dif,variables = train_dif.columns)"
      ],
      "metadata": {
        "colab": {
          "base_uri": "https://localhost:8080/",
          "height": 143
        },
        "id": "JBx6f_gl4c7e",
        "outputId": "5ac128f1-ab94-4db8-cf52-ddf46765fc0f"
      },
      "execution_count": 13,
      "outputs": [
        {
          "output_type": "execute_result",
          "data": {
            "text/plain": [
              "            realgdp_x  realcons_x  realinv_x\n",
              "realgdp_y      1.0000         0.0     0.0477\n",
              "realcons_y     0.0365         1.0     0.0415\n",
              "realinv_y      0.0000         0.0     1.0000"
            ],
            "text/html": [
              "\n",
              "  <div id=\"df-d61f93fd-ec19-451f-ab86-c89516fe14e4\">\n",
              "    <div class=\"colab-df-container\">\n",
              "      <div>\n",
              "<style scoped>\n",
              "    .dataframe tbody tr th:only-of-type {\n",
              "        vertical-align: middle;\n",
              "    }\n",
              "\n",
              "    .dataframe tbody tr th {\n",
              "        vertical-align: top;\n",
              "    }\n",
              "\n",
              "    .dataframe thead th {\n",
              "        text-align: right;\n",
              "    }\n",
              "</style>\n",
              "<table border=\"1\" class=\"dataframe\">\n",
              "  <thead>\n",
              "    <tr style=\"text-align: right;\">\n",
              "      <th></th>\n",
              "      <th>realgdp_x</th>\n",
              "      <th>realcons_x</th>\n",
              "      <th>realinv_x</th>\n",
              "    </tr>\n",
              "  </thead>\n",
              "  <tbody>\n",
              "    <tr>\n",
              "      <th>realgdp_y</th>\n",
              "      <td>1.0000</td>\n",
              "      <td>0.0</td>\n",
              "      <td>0.0477</td>\n",
              "    </tr>\n",
              "    <tr>\n",
              "      <th>realcons_y</th>\n",
              "      <td>0.0365</td>\n",
              "      <td>1.0</td>\n",
              "      <td>0.0415</td>\n",
              "    </tr>\n",
              "    <tr>\n",
              "      <th>realinv_y</th>\n",
              "      <td>0.0000</td>\n",
              "      <td>0.0</td>\n",
              "      <td>1.0000</td>\n",
              "    </tr>\n",
              "  </tbody>\n",
              "</table>\n",
              "</div>\n",
              "      <button class=\"colab-df-convert\" onclick=\"convertToInteractive('df-d61f93fd-ec19-451f-ab86-c89516fe14e4')\"\n",
              "              title=\"Convert this dataframe to an interactive table.\"\n",
              "              style=\"display:none;\">\n",
              "        \n",
              "  <svg xmlns=\"http://www.w3.org/2000/svg\" height=\"24px\"viewBox=\"0 0 24 24\"\n",
              "       width=\"24px\">\n",
              "    <path d=\"M0 0h24v24H0V0z\" fill=\"none\"/>\n",
              "    <path d=\"M18.56 5.44l.94 2.06.94-2.06 2.06-.94-2.06-.94-.94-2.06-.94 2.06-2.06.94zm-11 1L8.5 8.5l.94-2.06 2.06-.94-2.06-.94L8.5 2.5l-.94 2.06-2.06.94zm10 10l.94 2.06.94-2.06 2.06-.94-2.06-.94-.94-2.06-.94 2.06-2.06.94z\"/><path d=\"M17.41 7.96l-1.37-1.37c-.4-.4-.92-.59-1.43-.59-.52 0-1.04.2-1.43.59L10.3 9.45l-7.72 7.72c-.78.78-.78 2.05 0 2.83L4 21.41c.39.39.9.59 1.41.59.51 0 1.02-.2 1.41-.59l7.78-7.78 2.81-2.81c.8-.78.8-2.07 0-2.86zM5.41 20L4 18.59l7.72-7.72 1.47 1.35L5.41 20z\"/>\n",
              "  </svg>\n",
              "      </button>\n",
              "      \n",
              "  <style>\n",
              "    .colab-df-container {\n",
              "      display:flex;\n",
              "      flex-wrap:wrap;\n",
              "      gap: 12px;\n",
              "    }\n",
              "\n",
              "    .colab-df-convert {\n",
              "      background-color: #E8F0FE;\n",
              "      border: none;\n",
              "      border-radius: 50%;\n",
              "      cursor: pointer;\n",
              "      display: none;\n",
              "      fill: #1967D2;\n",
              "      height: 32px;\n",
              "      padding: 0 0 0 0;\n",
              "      width: 32px;\n",
              "    }\n",
              "\n",
              "    .colab-df-convert:hover {\n",
              "      background-color: #E2EBFA;\n",
              "      box-shadow: 0px 1px 2px rgba(60, 64, 67, 0.3), 0px 1px 3px 1px rgba(60, 64, 67, 0.15);\n",
              "      fill: #174EA6;\n",
              "    }\n",
              "\n",
              "    [theme=dark] .colab-df-convert {\n",
              "      background-color: #3B4455;\n",
              "      fill: #D2E3FC;\n",
              "    }\n",
              "\n",
              "    [theme=dark] .colab-df-convert:hover {\n",
              "      background-color: #434B5C;\n",
              "      box-shadow: 0px 1px 3px 1px rgba(0, 0, 0, 0.15);\n",
              "      filter: drop-shadow(0px 1px 2px rgba(0, 0, 0, 0.3));\n",
              "      fill: #FFFFFF;\n",
              "    }\n",
              "  </style>\n",
              "\n",
              "      <script>\n",
              "        const buttonEl =\n",
              "          document.querySelector('#df-d61f93fd-ec19-451f-ab86-c89516fe14e4 button.colab-df-convert');\n",
              "        buttonEl.style.display =\n",
              "          google.colab.kernel.accessAllowed ? 'block' : 'none';\n",
              "\n",
              "        async function convertToInteractive(key) {\n",
              "          const element = document.querySelector('#df-d61f93fd-ec19-451f-ab86-c89516fe14e4');\n",
              "          const dataTable =\n",
              "            await google.colab.kernel.invokeFunction('convertToInteractive',\n",
              "                                                     [key], {});\n",
              "          if (!dataTable) return;\n",
              "\n",
              "          const docLinkHtml = 'Like what you see? Visit the ' +\n",
              "            '<a target=\"_blank\" href=https://colab.research.google.com/notebooks/data_table.ipynb>data table notebook</a>'\n",
              "            + ' to learn more about interactive tables.';\n",
              "          element.innerHTML = '';\n",
              "          dataTable['output_type'] = 'display_data';\n",
              "          await google.colab.output.renderOutput(dataTable, element);\n",
              "          const docLink = document.createElement('div');\n",
              "          docLink.innerHTML = docLinkHtml;\n",
              "          element.appendChild(docLink);\n",
              "        }\n",
              "      </script>\n",
              "    </div>\n",
              "  </div>\n",
              "  "
            ]
          },
          "metadata": {},
          "execution_count": 13
        }
      ]
    },
    {
      "cell_type": "markdown",
      "source": [
        "There is a strong evidence of causality among the variables at p < 0.05"
      ],
      "metadata": {
        "id": "KDumIJpBRbYq"
      }
    },
    {
      "cell_type": "markdown",
      "source": [
        "# Selecting the lag Order for VAR modelling"
      ],
      "metadata": {
        "id": "r7x9i6gdRyNT"
      }
    },
    {
      "cell_type": "code",
      "source": [
        "from statsmodels.tsa.api import VAR"
      ],
      "metadata": {
        "id": "oyADr3Un5D2I"
      },
      "execution_count": 14,
      "outputs": []
    },
    {
      "cell_type": "code",
      "source": [
        "model = VAR(train_dif)\n",
        "res = model.select_order(maxlags=10)\n",
        "print(res.summary())"
      ],
      "metadata": {
        "colab": {
          "base_uri": "https://localhost:8080/"
        },
        "id": "NFFuIlo15QIu",
        "outputId": "9fe2141b-27da-4fa7-f1ba-cc25847108de"
      },
      "execution_count": 15,
      "outputs": [
        {
          "output_type": "stream",
          "name": "stdout",
          "text": [
            " VAR Order Selection (* highlights the minimums)  \n",
            "==================================================\n",
            "       AIC         BIC         FPE         HQIC   \n",
            "--------------------------------------------------\n",
            "0       -27.86      -27.81   7.958e-13      -27.84\n",
            "1      -28.12*     -27.90*  6.158e-13*     -28.03*\n",
            "2       -28.10      -27.73   6.276e-13      -27.95\n",
            "3       -28.08      -27.55   6.382e-13      -27.87\n",
            "4       -28.06      -27.38   6.505e-13      -27.78\n",
            "5       -28.07      -27.23   6.449e-13      -27.73\n",
            "6       -28.02      -27.02   6.774e-13      -27.62\n",
            "7       -28.00      -26.84   6.956e-13      -27.53\n",
            "8       -28.04      -26.72   6.703e-13      -27.50\n",
            "9       -28.04      -26.56   6.678e-13      -27.44\n",
            "10      -27.99      -26.36   7.026e-13      -27.33\n",
            "--------------------------------------------------\n"
          ]
        }
      ]
    },
    {
      "cell_type": "markdown",
      "source": [
        "var suggest lag 1 based on total support from all the candidates"
      ],
      "metadata": {
        "id": "SkUQsMaxR76k"
      }
    },
    {
      "cell_type": "code",
      "source": [
        "model_fit = model.fit(1)\n",
        "print(model_fit.summary())"
      ],
      "metadata": {
        "colab": {
          "base_uri": "https://localhost:8080/"
        },
        "id": "s21bRJRR5Zvv",
        "outputId": "ce16ba1c-9d31-4d54-93ae-96a41be8eea3"
      },
      "execution_count": 16,
      "outputs": [
        {
          "output_type": "stream",
          "name": "stdout",
          "text": [
            "  Summary of Regression Results   \n",
            "==================================\n",
            "Model:                         VAR\n",
            "Method:                        OLS\n",
            "Date:           Sat, 12, Mar, 2022\n",
            "Time:                     08:52:01\n",
            "--------------------------------------------------------------------\n",
            "No. of Equations:         3.00000    BIC:                   -27.7863\n",
            "Nobs:                     191.000    HQIC:                  -27.9078\n",
            "Log likelihood:           1872.05    FPE:                6.97978e-13\n",
            "AIC:                     -27.9906    Det(Omega_mle):     6.55901e-13\n",
            "--------------------------------------------------------------------\n",
            "Results for equation realgdp\n",
            "==============================================================================\n",
            "                 coefficient       std. error           t-stat            prob\n",
            "------------------------------------------------------------------------------\n",
            "const               0.004167         0.000960            4.339           0.000\n",
            "L1.realgdp         -0.354885         0.178548           -1.988           0.047\n",
            "L1.realcons         0.711327         0.137370            5.178           0.000\n",
            "L1.realinv          0.057436         0.026813            2.142           0.032\n",
            "==============================================================================\n",
            "\n",
            "Results for equation realcons\n",
            "==============================================================================\n",
            "                 coefficient       std. error           t-stat            prob\n",
            "------------------------------------------------------------------------------\n",
            "const               0.006895         0.000811            8.498           0.000\n",
            "L1.realgdp         -0.081121         0.150848           -0.538           0.591\n",
            "L1.realcons         0.250283         0.116058            2.157           0.031\n",
            "L1.realinv          0.032424         0.022654            1.431           0.152\n",
            "==============================================================================\n",
            "\n",
            "Results for equation realinv\n",
            "==============================================================================\n",
            "                 coefficient       std. error           t-stat            prob\n",
            "------------------------------------------------------------------------------\n",
            "const              -0.012746         0.004929           -2.586           0.010\n",
            "L1.realgdp         -2.518924         0.916448           -2.749           0.006\n",
            "L1.realcons         4.572891         0.705091            6.486           0.000\n",
            "L1.realinv          0.311029         0.137627            2.260           0.024\n",
            "==============================================================================\n",
            "\n",
            "Correlation matrix of residuals\n",
            "             realgdp  realcons   realinv\n",
            "realgdp     1.000000  0.606357  0.759687\n",
            "realcons    0.606357  1.000000  0.137438\n",
            "realinv     0.759687  0.137438  1.000000\n",
            "\n",
            "\n",
            "\n"
          ]
        }
      ]
    },
    {
      "cell_type": "code",
      "source": [
        "lag_order = model_fit.k_ar\n",
        "print(lag_order)"
      ],
      "metadata": {
        "colab": {
          "base_uri": "https://localhost:8080/"
        },
        "id": "LexgSiH25vpR",
        "outputId": "29893a84-aadf-4f58-c97a-96f38f3734e5"
      },
      "execution_count": 17,
      "outputs": [
        {
          "output_type": "stream",
          "name": "stdout",
          "text": [
            "1\n"
          ]
        }
      ]
    },
    {
      "cell_type": "code",
      "source": [
        "input_data = train_dif.values[-lag_order:]\n",
        "print(input_data)"
      ],
      "metadata": {
        "colab": {
          "base_uri": "https://localhost:8080/"
        },
        "id": "wlYJPeoA553E",
        "outputId": "8bf8eae4-58e0-43e9-8db5-41b3f060d2e5"
      },
      "execution_count": 18,
      "outputs": [
        {
          "output_type": "stream",
          "name": "stdout",
          "text": [
            "[[ 0.00299856  0.00905317 -0.01552034]]\n"
          ]
        }
      ]
    },
    {
      "cell_type": "markdown",
      "source": [
        "# Forecast VAR Model"
      ],
      "metadata": {
        "id": "anBQpUwxSONn"
      }
    },
    {
      "cell_type": "code",
      "source": [
        "pred = model_fit.forecast(y=input_data,steps=nobs)\n",
        "pred = (pd.DataFrame(pred,index=test_df.index,columns=test_df.columns+'_pred'))\n",
        "print(pred)"
      ],
      "metadata": {
        "colab": {
          "base_uri": "https://localhost:8080/"
        },
        "id": "V3Rl7ufH6GTE",
        "outputId": "22fe48c4-1d9f-4c33-9612-c9e765121b1b"
      },
      "execution_count": 19,
      "outputs": [
        {
          "output_type": "stream",
          "name": "stdout",
          "text": [
            "            realgdp_pred  realcons_pred  realinv_pred\n",
            "Date                                                 \n",
            "2007-06-30      0.008651       0.008415      0.016272\n",
            "2007-09-30      0.008017       0.008827      0.009002\n",
            "2007-12-31      0.008118       0.008746      0.010224\n",
            "2008-03-31      0.008095       0.008757      0.009980\n",
            "2008-06-30      0.008097       0.008754      0.010013\n",
            "2008-09-30      0.008096       0.008754      0.010003\n",
            "2008-12-31      0.008096       0.008754      0.010003\n",
            "2009-03-31      0.008096       0.008754      0.010003\n",
            "2009-06-30      0.008095       0.008754      0.010003\n",
            "2009-09-30      0.008095       0.008754      0.010003\n"
          ]
        }
      ]
    },
    {
      "cell_type": "markdown",
      "source": [
        "# Invert Transformation"
      ],
      "metadata": {
        "id": "9xIJlzt0SW8h"
      }
    },
    {
      "cell_type": "code",
      "source": [
        "def invert_transformation(train,pred_df):\n",
        "  forecast = pred.copy()\n",
        "  columns = X_train.columns\n",
        "\n",
        "  for col in columns:\n",
        "    forecast[str(col)+'_pred'] = train[col].iloc[-1]+ forecast[str(col) + '_pred'].cumsum()\n",
        "  return forecast\n",
        "\n",
        "output = invert_transformation(X_train,pred)\n",
        "print(output)\n"
      ],
      "metadata": {
        "colab": {
          "base_uri": "https://localhost:8080/"
        },
        "id": "lXIUvtGl-GD7",
        "outputId": "ef7a7ff4-fd7a-4411-8137-11a648430de2"
      },
      "execution_count": 20,
      "outputs": [
        {
          "output_type": "stream",
          "name": "stdout",
          "text": [
            "            realgdp_pred  realcons_pred  realinv_pred\n",
            "Date                                                 \n",
            "2007-06-30      9.489011       9.142425      7.681374\n",
            "2007-09-30      9.497028       9.151252      7.690375\n",
            "2007-12-31      9.505146       9.159998      7.700600\n",
            "2008-03-31      9.513241       9.168755      7.710579\n",
            "2008-06-30      9.521338       9.177509      7.720592\n",
            "2008-09-30      9.529434       9.186263      7.730595\n",
            "2008-12-31      9.537529       9.195016      7.740599\n",
            "2009-03-31      9.545625       9.203770      7.750602\n",
            "2009-06-30      9.553720       9.212524      7.760605\n",
            "2009-09-30      9.561816       9.221278      7.770607\n"
          ]
        }
      ]
    },
    {
      "cell_type": "code",
      "source": [
        "output_original = np.exp(output)\n",
        "print(output_original)"
      ],
      "metadata": {
        "colab": {
          "base_uri": "https://localhost:8080/"
        },
        "id": "wblwJMmI_lAh",
        "outputId": "627a8b4a-7026-473a-cfd2-07adef6d3034"
      },
      "execution_count": 21,
      "outputs": [
        {
          "output_type": "stream",
          "name": "stdout",
          "text": [
            "            realgdp_pred  realcons_pred  realinv_pred\n",
            "Date                                                 \n",
            "2007-06-30  13213.724617    9343.390943   2167.595549\n",
            "2007-09-30  13320.085918    9426.230475   2187.195697\n",
            "2007-12-31  13428.657960    9509.033638   2209.672491\n",
            "2008-03-31  13537.800193    9592.671250   2231.834316\n",
            "2008-06-30  13647.858742    9677.013050   2254.294020\n",
            "2008-09-30  13758.796262    9762.097387   2276.957358\n",
            "2008-12-31  13870.634343    9847.927844   2299.849201\n",
            "2009-03-31  13983.380162    9934.512603   2322.969774\n",
            "2009-06-30  14097.042066   10021.858427   2346.322535\n",
            "2009-09-30  14211.627689   10109.972143   2369.909913\n"
          ]
        }
      ]
    },
    {
      "cell_type": "markdown",
      "source": [
        "# Merge the test data with the predicted dataset"
      ],
      "metadata": {
        "id": "jGTScVvlSsbU"
      }
    },
    {
      "cell_type": "code",
      "source": [
        "df_data = test_df.join(output_original)"
      ],
      "metadata": {
        "id": "rSeU5ytABbeW"
      },
      "execution_count": 22,
      "outputs": []
    },
    {
      "cell_type": "code",
      "source": [
        "df_data"
      ],
      "metadata": {
        "colab": {
          "base_uri": "https://localhost:8080/",
          "height": 394
        },
        "id": "2qResBH_CLzK",
        "outputId": "25bcdad7-5af0-429b-a611-b74cb4dcd58d"
      },
      "execution_count": 23,
      "outputs": [
        {
          "output_type": "execute_result",
          "data": {
            "text/plain": [
              "              realgdp  realcons   realinv  realgdp_pred  realcons_pred  \\\n",
              "Date                                                                     \n",
              "2007-06-30  13203.977    9291.5  2162.214  13213.724617    9343.390943   \n",
              "2007-09-30  13321.109    9335.6  2166.491  13320.085918    9426.230475   \n",
              "2007-12-31  13391.249    9363.6  2123.426  13428.657960    9509.033638   \n",
              "2008-03-31  13366.865    9349.6  2082.886  13537.800193    9592.671250   \n",
              "2008-06-30  13415.266    9351.0  2026.518  13647.858742    9677.013050   \n",
              "2008-09-30  13324.600    9267.7  1990.693  13758.796262    9762.097387   \n",
              "2008-12-31  13141.920    9195.3  1857.661  13870.634343    9847.927844   \n",
              "2009-03-31  12925.410    9209.2  1558.494  13983.380162    9934.512603   \n",
              "2009-06-30  12901.504    9189.0  1456.678  14097.042066   10021.858427   \n",
              "2009-09-30  12990.341    9256.0  1486.398  14211.627689   10109.972143   \n",
              "\n",
              "            realinv_pred  \n",
              "Date                      \n",
              "2007-06-30   2167.595549  \n",
              "2007-09-30   2187.195697  \n",
              "2007-12-31   2209.672491  \n",
              "2008-03-31   2231.834316  \n",
              "2008-06-30   2254.294020  \n",
              "2008-09-30   2276.957358  \n",
              "2008-12-31   2299.849201  \n",
              "2009-03-31   2322.969774  \n",
              "2009-06-30   2346.322535  \n",
              "2009-09-30   2369.909913  "
            ],
            "text/html": [
              "\n",
              "  <div id=\"df-e76e96fe-4c8a-46c2-822f-76c5ac355317\">\n",
              "    <div class=\"colab-df-container\">\n",
              "      <div>\n",
              "<style scoped>\n",
              "    .dataframe tbody tr th:only-of-type {\n",
              "        vertical-align: middle;\n",
              "    }\n",
              "\n",
              "    .dataframe tbody tr th {\n",
              "        vertical-align: top;\n",
              "    }\n",
              "\n",
              "    .dataframe thead th {\n",
              "        text-align: right;\n",
              "    }\n",
              "</style>\n",
              "<table border=\"1\" class=\"dataframe\">\n",
              "  <thead>\n",
              "    <tr style=\"text-align: right;\">\n",
              "      <th></th>\n",
              "      <th>realgdp</th>\n",
              "      <th>realcons</th>\n",
              "      <th>realinv</th>\n",
              "      <th>realgdp_pred</th>\n",
              "      <th>realcons_pred</th>\n",
              "      <th>realinv_pred</th>\n",
              "    </tr>\n",
              "    <tr>\n",
              "      <th>Date</th>\n",
              "      <th></th>\n",
              "      <th></th>\n",
              "      <th></th>\n",
              "      <th></th>\n",
              "      <th></th>\n",
              "      <th></th>\n",
              "    </tr>\n",
              "  </thead>\n",
              "  <tbody>\n",
              "    <tr>\n",
              "      <th>2007-06-30</th>\n",
              "      <td>13203.977</td>\n",
              "      <td>9291.5</td>\n",
              "      <td>2162.214</td>\n",
              "      <td>13213.724617</td>\n",
              "      <td>9343.390943</td>\n",
              "      <td>2167.595549</td>\n",
              "    </tr>\n",
              "    <tr>\n",
              "      <th>2007-09-30</th>\n",
              "      <td>13321.109</td>\n",
              "      <td>9335.6</td>\n",
              "      <td>2166.491</td>\n",
              "      <td>13320.085918</td>\n",
              "      <td>9426.230475</td>\n",
              "      <td>2187.195697</td>\n",
              "    </tr>\n",
              "    <tr>\n",
              "      <th>2007-12-31</th>\n",
              "      <td>13391.249</td>\n",
              "      <td>9363.6</td>\n",
              "      <td>2123.426</td>\n",
              "      <td>13428.657960</td>\n",
              "      <td>9509.033638</td>\n",
              "      <td>2209.672491</td>\n",
              "    </tr>\n",
              "    <tr>\n",
              "      <th>2008-03-31</th>\n",
              "      <td>13366.865</td>\n",
              "      <td>9349.6</td>\n",
              "      <td>2082.886</td>\n",
              "      <td>13537.800193</td>\n",
              "      <td>9592.671250</td>\n",
              "      <td>2231.834316</td>\n",
              "    </tr>\n",
              "    <tr>\n",
              "      <th>2008-06-30</th>\n",
              "      <td>13415.266</td>\n",
              "      <td>9351.0</td>\n",
              "      <td>2026.518</td>\n",
              "      <td>13647.858742</td>\n",
              "      <td>9677.013050</td>\n",
              "      <td>2254.294020</td>\n",
              "    </tr>\n",
              "    <tr>\n",
              "      <th>2008-09-30</th>\n",
              "      <td>13324.600</td>\n",
              "      <td>9267.7</td>\n",
              "      <td>1990.693</td>\n",
              "      <td>13758.796262</td>\n",
              "      <td>9762.097387</td>\n",
              "      <td>2276.957358</td>\n",
              "    </tr>\n",
              "    <tr>\n",
              "      <th>2008-12-31</th>\n",
              "      <td>13141.920</td>\n",
              "      <td>9195.3</td>\n",
              "      <td>1857.661</td>\n",
              "      <td>13870.634343</td>\n",
              "      <td>9847.927844</td>\n",
              "      <td>2299.849201</td>\n",
              "    </tr>\n",
              "    <tr>\n",
              "      <th>2009-03-31</th>\n",
              "      <td>12925.410</td>\n",
              "      <td>9209.2</td>\n",
              "      <td>1558.494</td>\n",
              "      <td>13983.380162</td>\n",
              "      <td>9934.512603</td>\n",
              "      <td>2322.969774</td>\n",
              "    </tr>\n",
              "    <tr>\n",
              "      <th>2009-06-30</th>\n",
              "      <td>12901.504</td>\n",
              "      <td>9189.0</td>\n",
              "      <td>1456.678</td>\n",
              "      <td>14097.042066</td>\n",
              "      <td>10021.858427</td>\n",
              "      <td>2346.322535</td>\n",
              "    </tr>\n",
              "    <tr>\n",
              "      <th>2009-09-30</th>\n",
              "      <td>12990.341</td>\n",
              "      <td>9256.0</td>\n",
              "      <td>1486.398</td>\n",
              "      <td>14211.627689</td>\n",
              "      <td>10109.972143</td>\n",
              "      <td>2369.909913</td>\n",
              "    </tr>\n",
              "  </tbody>\n",
              "</table>\n",
              "</div>\n",
              "      <button class=\"colab-df-convert\" onclick=\"convertToInteractive('df-e76e96fe-4c8a-46c2-822f-76c5ac355317')\"\n",
              "              title=\"Convert this dataframe to an interactive table.\"\n",
              "              style=\"display:none;\">\n",
              "        \n",
              "  <svg xmlns=\"http://www.w3.org/2000/svg\" height=\"24px\"viewBox=\"0 0 24 24\"\n",
              "       width=\"24px\">\n",
              "    <path d=\"M0 0h24v24H0V0z\" fill=\"none\"/>\n",
              "    <path d=\"M18.56 5.44l.94 2.06.94-2.06 2.06-.94-2.06-.94-.94-2.06-.94 2.06-2.06.94zm-11 1L8.5 8.5l.94-2.06 2.06-.94-2.06-.94L8.5 2.5l-.94 2.06-2.06.94zm10 10l.94 2.06.94-2.06 2.06-.94-2.06-.94-.94-2.06-.94 2.06-2.06.94z\"/><path d=\"M17.41 7.96l-1.37-1.37c-.4-.4-.92-.59-1.43-.59-.52 0-1.04.2-1.43.59L10.3 9.45l-7.72 7.72c-.78.78-.78 2.05 0 2.83L4 21.41c.39.39.9.59 1.41.59.51 0 1.02-.2 1.41-.59l7.78-7.78 2.81-2.81c.8-.78.8-2.07 0-2.86zM5.41 20L4 18.59l7.72-7.72 1.47 1.35L5.41 20z\"/>\n",
              "  </svg>\n",
              "      </button>\n",
              "      \n",
              "  <style>\n",
              "    .colab-df-container {\n",
              "      display:flex;\n",
              "      flex-wrap:wrap;\n",
              "      gap: 12px;\n",
              "    }\n",
              "\n",
              "    .colab-df-convert {\n",
              "      background-color: #E8F0FE;\n",
              "      border: none;\n",
              "      border-radius: 50%;\n",
              "      cursor: pointer;\n",
              "      display: none;\n",
              "      fill: #1967D2;\n",
              "      height: 32px;\n",
              "      padding: 0 0 0 0;\n",
              "      width: 32px;\n",
              "    }\n",
              "\n",
              "    .colab-df-convert:hover {\n",
              "      background-color: #E2EBFA;\n",
              "      box-shadow: 0px 1px 2px rgba(60, 64, 67, 0.3), 0px 1px 3px 1px rgba(60, 64, 67, 0.15);\n",
              "      fill: #174EA6;\n",
              "    }\n",
              "\n",
              "    [theme=dark] .colab-df-convert {\n",
              "      background-color: #3B4455;\n",
              "      fill: #D2E3FC;\n",
              "    }\n",
              "\n",
              "    [theme=dark] .colab-df-convert:hover {\n",
              "      background-color: #434B5C;\n",
              "      box-shadow: 0px 1px 3px 1px rgba(0, 0, 0, 0.15);\n",
              "      filter: drop-shadow(0px 1px 2px rgba(0, 0, 0, 0.3));\n",
              "      fill: #FFFFFF;\n",
              "    }\n",
              "  </style>\n",
              "\n",
              "      <script>\n",
              "        const buttonEl =\n",
              "          document.querySelector('#df-e76e96fe-4c8a-46c2-822f-76c5ac355317 button.colab-df-convert');\n",
              "        buttonEl.style.display =\n",
              "          google.colab.kernel.accessAllowed ? 'block' : 'none';\n",
              "\n",
              "        async function convertToInteractive(key) {\n",
              "          const element = document.querySelector('#df-e76e96fe-4c8a-46c2-822f-76c5ac355317');\n",
              "          const dataTable =\n",
              "            await google.colab.kernel.invokeFunction('convertToInteractive',\n",
              "                                                     [key], {});\n",
              "          if (!dataTable) return;\n",
              "\n",
              "          const docLinkHtml = 'Like what you see? Visit the ' +\n",
              "            '<a target=\"_blank\" href=https://colab.research.google.com/notebooks/data_table.ipynb>data table notebook</a>'\n",
              "            + ' to learn more about interactive tables.';\n",
              "          element.innerHTML = '';\n",
              "          dataTable['output_type'] = 'display_data';\n",
              "          await google.colab.output.renderOutput(dataTable, element);\n",
              "          const docLink = document.createElement('div');\n",
              "          docLink.innerHTML = docLinkHtml;\n",
              "          element.appendChild(docLink);\n",
              "        }\n",
              "      </script>\n",
              "    </div>\n",
              "  </div>\n",
              "  "
            ]
          },
          "metadata": {},
          "execution_count": 23
        }
      ]
    },
    {
      "cell_type": "markdown",
      "source": [
        "# Visualize the Forecasts"
      ],
      "metadata": {
        "id": "AFx0izdzS1Ll"
      }
    },
    {
      "cell_type": "code",
      "source": [
        "df_data.plot(figsize=(12,5),legend=True)\n",
        "plt.legend(bbox_to_anchor =(1, 1))"
      ],
      "metadata": {
        "colab": {
          "base_uri": "https://localhost:8080/",
          "height": 362
        },
        "id": "g1FUM611CNLq",
        "outputId": "4a56fbe7-d335-4880-ca19-0c6f54f4e7c3"
      },
      "execution_count": 24,
      "outputs": [
        {
          "output_type": "execute_result",
          "data": {
            "text/plain": [
              "<matplotlib.legend.Legend at 0x7fcd7d58cf10>"
            ]
          },
          "metadata": {},
          "execution_count": 24
        },
        {
          "output_type": "display_data",
          "data": {
            "text/plain": [
              "<Figure size 864x360 with 1 Axes>"
            ],
            "image/png": "[encoded data removed]"
          },
          "metadata": {
            "needs_background": "light"
          }
        }
      ]
    },
    {
      "cell_type": "markdown",
      "source": [
        "# Evaluate the Forecast"
      ],
      "metadata": {
        "id": "36-qqBqeS626"
      }
    },
    {
      "cell_type": "code",
      "source": [
        "df_data['GDP_error(%)'] = round(abs((df_data['realgdp']-df_data['realgdp_pred'])/df_data['realgdp'])*100,3)\n",
        "df_data['RealInv(%)'] = round(abs((df_data['realinv']-df_data['realinv_pred'])/df_data['realinv'])*100,3)\n",
        "df_data['RealCons(%)'] = round(abs((df_data['realcons']-df_data['realcons_pred'])/df_data['realcons'])*100,3)"
      ],
      "metadata": {
        "id": "wd5GhKIpFck8"
      },
      "execution_count": 25,
      "outputs": []
    },
    {
      "cell_type": "code",
      "source": [
        "df_data"
      ],
      "metadata": {
        "colab": {
          "base_uri": "https://localhost:8080/",
          "height": 394
        },
        "id": "Ny5uAfEpTILV",
        "outputId": "f1db555d-f73d-4dfb-cb15-6c18680448d6"
      },
      "execution_count": 26,
      "outputs": [
        {
          "output_type": "execute_result",
          "data": {
            "text/plain": [
              "              realgdp  realcons   realinv  realgdp_pred  realcons_pred  \\\n",
              "Date                                                                     \n",
              "2007-06-30  13203.977    9291.5  2162.214  13213.724617    9343.390943   \n",
              "2007-09-30  13321.109    9335.6  2166.491  13320.085918    9426.230475   \n",
              "2007-12-31  13391.249    9363.6  2123.426  13428.657960    9509.033638   \n",
              "2008-03-31  13366.865    9349.6  2082.886  13537.800193    9592.671250   \n",
              "2008-06-30  13415.266    9351.0  2026.518  13647.858742    9677.013050   \n",
              "2008-09-30  13324.600    9267.7  1990.693  13758.796262    9762.097387   \n",
              "2008-12-31  13141.920    9195.3  1857.661  13870.634343    9847.927844   \n",
              "2009-03-31  12925.410    9209.2  1558.494  13983.380162    9934.512603   \n",
              "2009-06-30  12901.504    9189.0  1456.678  14097.042066   10021.858427   \n",
              "2009-09-30  12990.341    9256.0  1486.398  14211.627689   10109.972143   \n",
              "\n",
              "            realinv_pred  GDP_error(%)  RealInv(%)  RealCons(%)  \n",
              "Date                                                             \n",
              "2007-06-30   2167.595549         0.074       0.249        0.558  \n",
              "2007-09-30   2187.195697         0.008       0.956        0.971  \n",
              "2007-12-31   2209.672491         0.279       4.062        1.553  \n",
              "2008-03-31   2231.834316         1.279       7.151        2.600  \n",
              "2008-06-30   2254.294020         1.734      11.240        3.486  \n",
              "2008-09-30   2276.957358         3.259      14.380        5.335  \n",
              "2008-12-31   2299.849201         5.545      23.803        7.097  \n",
              "2009-03-31   2322.969774         8.185      49.052        7.876  \n",
              "2009-06-30   2346.322535         9.267      61.074        9.064  \n",
              "2009-09-30   2369.909913         9.401      59.440        9.226  "
            ],
            "text/html": [
              "\n",
              "  <div id=\"df-fdc420b2-0a21-49ab-b938-19534458896b\">\n",
              "    <div class=\"colab-df-container\">\n",
              "      <div>\n",
              "<style scoped>\n",
              "    .dataframe tbody tr th:only-of-type {\n",
              "        vertical-align: middle;\n",
              "    }\n",
              "\n",
              "    .dataframe tbody tr th {\n",
              "        vertical-align: top;\n",
              "    }\n",
              "\n",
              "    .dataframe thead th {\n",
              "        text-align: right;\n",
              "    }\n",
              "</style>\n",
              "<table border=\"1\" class=\"dataframe\">\n",
              "  <thead>\n",
              "    <tr style=\"text-align: right;\">\n",
              "      <th></th>\n",
              "      <th>realgdp</th>\n",
              "      <th>realcons</th>\n",
              "      <th>realinv</th>\n",
              "      <th>realgdp_pred</th>\n",
              "      <th>realcons_pred</th>\n",
              "      <th>realinv_pred</th>\n",
              "      <th>GDP_error(%)</th>\n",
              "      <th>RealInv(%)</th>\n",
              "      <th>RealCons(%)</th>\n",
              "    </tr>\n",
              "    <tr>\n",
              "      <th>Date</th>\n",
              "      <th></th>\n",
              "      <th></th>\n",
              "      <th></th>\n",
              "      <th></th>\n",
              "      <th></th>\n",
              "      <th></th>\n",
              "      <th></th>\n",
              "      <th></th>\n",
              "      <th></th>\n",
              "    </tr>\n",
              "  </thead>\n",
              "  <tbody>\n",
              "    <tr>\n",
              "      <th>2007-06-30</th>\n",
              "      <td>13203.977</td>\n",
              "      <td>9291.5</td>\n",
              "      <td>2162.214</td>\n",
              "      <td>13213.724617</td>\n",
              "      <td>9343.390943</td>\n",
              "      <td>2167.595549</td>\n",
              "      <td>0.074</td>\n",
              "      <td>0.249</td>\n",
              "      <td>0.558</td>\n",
              "    </tr>\n",
              "    <tr>\n",
              "      <th>2007-09-30</th>\n",
              "      <td>13321.109</td>\n",
              "      <td>9335.6</td>\n",
              "      <td>2166.491</td>\n",
              "      <td>13320.085918</td>\n",
              "      <td>9426.230475</td>\n",
              "      <td>2187.195697</td>\n",
              "      <td>0.008</td>\n",
              "      <td>0.956</td>\n",
              "      <td>0.971</td>\n",
              "    </tr>\n",
              "    <tr>\n",
              "      <th>2007-12-31</th>\n",
              "      <td>13391.249</td>\n",
              "      <td>9363.6</td>\n",
              "      <td>2123.426</td>\n",
              "      <td>13428.657960</td>\n",
              "      <td>9509.033638</td>\n",
              "      <td>2209.672491</td>\n",
              "      <td>0.279</td>\n",
              "      <td>4.062</td>\n",
              "      <td>1.553</td>\n",
              "    </tr>\n",
              "    <tr>\n",
              "      <th>2008-03-31</th>\n",
              "      <td>13366.865</td>\n",
              "      <td>9349.6</td>\n",
              "      <td>2082.886</td>\n",
              "      <td>13537.800193</td>\n",
              "      <td>9592.671250</td>\n",
              "      <td>2231.834316</td>\n",
              "      <td>1.279</td>\n",
              "      <td>7.151</td>\n",
              "      <td>2.600</td>\n",
              "    </tr>\n",
              "    <tr>\n",
              "      <th>2008-06-30</th>\n",
              "      <td>13415.266</td>\n",
              "      <td>9351.0</td>\n",
              "      <td>2026.518</td>\n",
              "      <td>13647.858742</td>\n",
              "      <td>9677.013050</td>\n",
              "      <td>2254.294020</td>\n",
              "      <td>1.734</td>\n",
              "      <td>11.240</td>\n",
              "      <td>3.486</td>\n",
              "    </tr>\n",
              "    <tr>\n",
              "      <th>2008-09-30</th>\n",
              "      <td>13324.600</td>\n",
              "      <td>9267.7</td>\n",
              "      <td>1990.693</td>\n",
              "      <td>13758.796262</td>\n",
              "      <td>9762.097387</td>\n",
              "      <td>2276.957358</td>\n",
              "      <td>3.259</td>\n",
              "      <td>14.380</td>\n",
              "      <td>5.335</td>\n",
              "    </tr>\n",
              "    <tr>\n",
              "      <th>2008-12-31</th>\n",
              "      <td>13141.920</td>\n",
              "      <td>9195.3</td>\n",
              "      <td>1857.661</td>\n",
              "      <td>13870.634343</td>\n",
              "      <td>9847.927844</td>\n",
              "      <td>2299.849201</td>\n",
              "      <td>5.545</td>\n",
              "      <td>23.803</td>\n",
              "      <td>7.097</td>\n",
              "    </tr>\n",
              "    <tr>\n",
              "      <th>2009-03-31</th>\n",
              "      <td>12925.410</td>\n",
              "      <td>9209.2</td>\n",
              "      <td>1558.494</td>\n",
              "      <td>13983.380162</td>\n",
              "      <td>9934.512603</td>\n",
              "      <td>2322.969774</td>\n",
              "      <td>8.185</td>\n",
              "      <td>49.052</td>\n",
              "      <td>7.876</td>\n",
              "    </tr>\n",
              "    <tr>\n",
              "      <th>2009-06-30</th>\n",
              "      <td>12901.504</td>\n",
              "      <td>9189.0</td>\n",
              "      <td>1456.678</td>\n",
              "      <td>14097.042066</td>\n",
              "      <td>10021.858427</td>\n",
              "      <td>2346.322535</td>\n",
              "      <td>9.267</td>\n",
              "      <td>61.074</td>\n",
              "      <td>9.064</td>\n",
              "    </tr>\n",
              "    <tr>\n",
              "      <th>2009-09-30</th>\n",
              "      <td>12990.341</td>\n",
              "      <td>9256.0</td>\n",
              "      <td>1486.398</td>\n",
              "      <td>14211.627689</td>\n",
              "      <td>10109.972143</td>\n",
              "      <td>2369.909913</td>\n",
              "      <td>9.401</td>\n",
              "      <td>59.440</td>\n",
              "      <td>9.226</td>\n",
              "    </tr>\n",
              "  </tbody>\n",
              "</table>\n",
              "</div>\n",
              "      <button class=\"colab-df-convert\" onclick=\"convertToInteractive('df-fdc420b2-0a21-49ab-b938-19534458896b')\"\n",
              "              title=\"Convert this dataframe to an interactive table.\"\n",
              "              style=\"display:none;\">\n",
              "        \n",
              "  <svg xmlns=\"http://www.w3.org/2000/svg\" height=\"24px\"viewBox=\"0 0 24 24\"\n",
              "       width=\"24px\">\n",
              "    <path d=\"M0 0h24v24H0V0z\" fill=\"none\"/>\n",
              "    <path d=\"M18.56 5.44l.94 2.06.94-2.06 2.06-.94-2.06-.94-.94-2.06-.94 2.06-2.06.94zm-11 1L8.5 8.5l.94-2.06 2.06-.94-2.06-.94L8.5 2.5l-.94 2.06-2.06.94zm10 10l.94 2.06.94-2.06 2.06-.94-2.06-.94-.94-2.06-.94 2.06-2.06.94z\"/><path d=\"M17.41 7.96l-1.37-1.37c-.4-.4-.92-.59-1.43-.59-.52 0-1.04.2-1.43.59L10.3 9.45l-7.72 7.72c-.78.78-.78 2.05 0 2.83L4 21.41c.39.39.9.59 1.41.59.51 0 1.02-.2 1.41-.59l7.78-7.78 2.81-2.81c.8-.78.8-2.07 0-2.86zM5.41 20L4 18.59l7.72-7.72 1.47 1.35L5.41 20z\"/>\n",
              "  </svg>\n",
              "      </button>\n",
              "      \n",
              "  <style>\n",
              "    .colab-df-container {\n",
              "      display:flex;\n",
              "      flex-wrap:wrap;\n",
              "      gap: 12px;\n",
              "    }\n",
              "\n",
              "    .colab-df-convert {\n",
              "      background-color: #E8F0FE;\n",
              "      border: none;\n",
              "      border-radius: 50%;\n",
              "      cursor: pointer;\n",
              "      display: none;\n",
              "      fill: #1967D2;\n",
              "      height: 32px;\n",
              "      padding: 0 0 0 0;\n",
              "      width: 32px;\n",
              "    }\n",
              "\n",
              "    .colab-df-convert:hover {\n",
              "      background-color: #E2EBFA;\n",
              "      box-shadow: 0px 1px 2px rgba(60, 64, 67, 0.3), 0px 1px 3px 1px rgba(60, 64, 67, 0.15);\n",
              "      fill: #174EA6;\n",
              "    }\n",
              "\n",
              "    [theme=dark] .colab-df-convert {\n",
              "      background-color: #3B4455;\n",
              "      fill: #D2E3FC;\n",
              "    }\n",
              "\n",
              "    [theme=dark] .colab-df-convert:hover {\n",
              "      background-color: #434B5C;\n",
              "      box-shadow: 0px 1px 3px 1px rgba(0, 0, 0, 0.15);\n",
              "      filter: drop-shadow(0px 1px 2px rgba(0, 0, 0, 0.3));\n",
              "      fill: #FFFFFF;\n",
              "    }\n",
              "  </style>\n",
              "\n",
              "      <script>\n",
              "        const buttonEl =\n",
              "          document.querySelector('#df-fdc420b2-0a21-49ab-b938-19534458896b button.colab-df-convert');\n",
              "        buttonEl.style.display =\n",
              "          google.colab.kernel.accessAllowed ? 'block' : 'none';\n",
              "\n",
              "        async function convertToInteractive(key) {\n",
              "          const element = document.querySelector('#df-fdc420b2-0a21-49ab-b938-19534458896b');\n",
              "          const dataTable =\n",
              "            await google.colab.kernel.invokeFunction('convertToInteractive',\n",
              "                                                     [key], {});\n",
              "          if (!dataTable) return;\n",
              "\n",
              "          const docLinkHtml = 'Like what you see? Visit the ' +\n",
              "            '<a target=\"_blank\" href=https://colab.research.google.com/notebooks/data_table.ipynb>data table notebook</a>'\n",
              "            + ' to learn more about interactive tables.';\n",
              "          element.innerHTML = '';\n",
              "          dataTable['output_type'] = 'display_data';\n",
              "          await google.colab.output.renderOutput(dataTable, element);\n",
              "          const docLink = document.createElement('div');\n",
              "          docLink.innerHTML = docLinkHtml;\n",
              "          element.appendChild(docLink);\n",
              "        }\n",
              "      </script>\n",
              "    </div>\n",
              "  </div>\n",
              "  "
            ]
          },
          "metadata": {},
          "execution_count": 26
        }
      ]
    },
    {
      "cell_type": "markdown",
      "source": [
        "The forecast did pretty well in the 2nd and 3 quarters of 2007 with less than 1% error in the 3 variables.  The error began to increase beyond that.  However, GDP and Consumption spending did not record up to 10% error in all the forecasets.  The forecast error of investment was much larger than the other variables."
      ],
      "metadata": {
        "id": "WifwZqTKTYdd"
      }
    },
    {
      "cell_type": "code",
      "source": [
        ""
      ],
      "metadata": {
        "id": "bmBiLUqQMtPC"
      },
      "execution_count": 26,
      "outputs": []
    }
  ]
}