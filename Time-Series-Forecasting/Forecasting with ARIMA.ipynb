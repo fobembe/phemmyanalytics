{
  "nbformat": 4,
  "nbformat_minor": 0,
  "metadata": {
    "colab": {
      "name": "Untitled43.ipynb",
      "provenance": []
    },
    "kernelspec": {
      "name": "python3",
      "display_name": "Python 3"
    },
    "language_info": {
      "name": "python"
    }
  },
  "cells": [
    {
      "cell_type": "markdown",
      "source": [
        "# Forecasting Consumption Expenditure for US using ARIMA Modeling\n",
        "\n",
        "## Introduction\n",
        "\n",
        "Consumption expenditure/spending is one of the variables of aggregate demand function.  It is a very import index for manufacturers to understand the trend of consumption spending so that they can make adequate preparations to meet the needs of the consumers.\n",
        "\n",
        "This project takes a look at aggregate consumption spending on non-durable consumer goods for the US economy.  The data which was sourced from Feds was resample from monthly data to quarterly data.  Quarterly forecast of expenditure seems to be more useful for short-term planning purposes and invariably long term purposes."
      ],
      "metadata": {
        "id": "4d8RQ2_nG_Ne"
      }
    },
    {
      "cell_type": "markdown",
      "source": [
        "Import the necessary libraries"
      ],
      "metadata": {
        "id": "7R9rhjcvHJQC"
      }
    },
    {
      "cell_type": "code",
      "execution_count": 1,
      "metadata": {
        "colab": {
          "base_uri": "https://localhost:8080/"
        },
        "id": "159L1J9yF4k3",
        "outputId": "799fd015-f3ce-44bf-bab6-bea244275a7c"
      },
      "outputs": [
        {
          "output_type": "stream",
          "name": "stdout",
          "text": [
            "Collecting pmdarima\n",
            "  Downloading pmdarima-1.8.5-cp37-cp37m-manylinux_2_17_x86_64.manylinux2014_x86_64.manylinux_2_24_x86_64.whl (1.4 MB)\n",
            "\u001b[?25l\r\u001b[K     |▎                               | 10 kB 17.5 MB/s eta 0:00:01\r\u001b[K     |▌                               | 20 kB 12.7 MB/s eta 0:00:01\r\u001b[K     |▊                               | 30 kB 9.8 MB/s eta 0:00:01\r\u001b[K     |█                               | 40 kB 8.8 MB/s eta 0:00:01\r\u001b[K     |█▏                              | 51 kB 4.7 MB/s eta 0:00:01\r\u001b[K     |█▍                              | 61 kB 5.5 MB/s eta 0:00:01\r\u001b[K     |█▋                              | 71 kB 5.6 MB/s eta 0:00:01\r\u001b[K     |██                              | 81 kB 5.6 MB/s eta 0:00:01\r\u001b[K     |██▏                             | 92 kB 6.2 MB/s eta 0:00:01\r\u001b[K     |██▍                             | 102 kB 5.4 MB/s eta 0:00:01\r\u001b[K     |██▋                             | 112 kB 5.4 MB/s eta 0:00:01\r\u001b[K     |██▉                             | 122 kB 5.4 MB/s eta 0:00:01\r\u001b[K     |███                             | 133 kB 5.4 MB/s eta 0:00:01\r\u001b[K     |███▎                            | 143 kB 5.4 MB/s eta 0:00:01\r\u001b[K     |███▌                            | 153 kB 5.4 MB/s eta 0:00:01\r\u001b[K     |███▉                            | 163 kB 5.4 MB/s eta 0:00:01\r\u001b[K     |████                            | 174 kB 5.4 MB/s eta 0:00:01\r\u001b[K     |████▎                           | 184 kB 5.4 MB/s eta 0:00:01\r\u001b[K     |████▌                           | 194 kB 5.4 MB/s eta 0:00:01\r\u001b[K     |████▊                           | 204 kB 5.4 MB/s eta 0:00:01\r\u001b[K     |█████                           | 215 kB 5.4 MB/s eta 0:00:01\r\u001b[K     |█████▏                          | 225 kB 5.4 MB/s eta 0:00:01\r\u001b[K     |█████▍                          | 235 kB 5.4 MB/s eta 0:00:01\r\u001b[K     |█████▊                          | 245 kB 5.4 MB/s eta 0:00:01\r\u001b[K     |██████                          | 256 kB 5.4 MB/s eta 0:00:01\r\u001b[K     |██████▏                         | 266 kB 5.4 MB/s eta 0:00:01\r\u001b[K     |██████▍                         | 276 kB 5.4 MB/s eta 0:00:01\r\u001b[K     |██████▋                         | 286 kB 5.4 MB/s eta 0:00:01\r\u001b[K     |██████▉                         | 296 kB 5.4 MB/s eta 0:00:01\r\u001b[K     |███████                         | 307 kB 5.4 MB/s eta 0:00:01\r\u001b[K     |███████▎                        | 317 kB 5.4 MB/s eta 0:00:01\r\u001b[K     |███████▋                        | 327 kB 5.4 MB/s eta 0:00:01\r\u001b[K     |███████▉                        | 337 kB 5.4 MB/s eta 0:00:01\r\u001b[K     |████████                        | 348 kB 5.4 MB/s eta 0:00:01\r\u001b[K     |████████▎                       | 358 kB 5.4 MB/s eta 0:00:01\r\u001b[K     |████████▌                       | 368 kB 5.4 MB/s eta 0:00:01\r\u001b[K     |████████▊                       | 378 kB 5.4 MB/s eta 0:00:01\r\u001b[K     |█████████                       | 389 kB 5.4 MB/s eta 0:00:01\r\u001b[K     |█████████▎                      | 399 kB 5.4 MB/s eta 0:00:01\r\u001b[K     |█████████▌                      | 409 kB 5.4 MB/s eta 0:00:01\r\u001b[K     |█████████▊                      | 419 kB 5.4 MB/s eta 0:00:01\r\u001b[K     |██████████                      | 430 kB 5.4 MB/s eta 0:00:01\r\u001b[K     |██████████▏                     | 440 kB 5.4 MB/s eta 0:00:01\r\u001b[K     |██████████▍                     | 450 kB 5.4 MB/s eta 0:00:01\r\u001b[K     |██████████▋                     | 460 kB 5.4 MB/s eta 0:00:01\r\u001b[K     |██████████▉                     | 471 kB 5.4 MB/s eta 0:00:01\r\u001b[K     |███████████▏                    | 481 kB 5.4 MB/s eta 0:00:01\r\u001b[K     |███████████▍                    | 491 kB 5.4 MB/s eta 0:00:01\r\u001b[K     |███████████▋                    | 501 kB 5.4 MB/s eta 0:00:01\r\u001b[K     |███████████▉                    | 512 kB 5.4 MB/s eta 0:00:01\r\u001b[K     |████████████                    | 522 kB 5.4 MB/s eta 0:00:01\r\u001b[K     |████████████▎                   | 532 kB 5.4 MB/s eta 0:00:01\r\u001b[K     |████████████▌                   | 542 kB 5.4 MB/s eta 0:00:01\r\u001b[K     |████████████▊                   | 552 kB 5.4 MB/s eta 0:00:01\r\u001b[K     |█████████████                   | 563 kB 5.4 MB/s eta 0:00:01\r\u001b[K     |█████████████▎                  | 573 kB 5.4 MB/s eta 0:00:01\r\u001b[K     |█████████████▌                  | 583 kB 5.4 MB/s eta 0:00:01\r\u001b[K     |█████████████▊                  | 593 kB 5.4 MB/s eta 0:00:01\r\u001b[K     |██████████████                  | 604 kB 5.4 MB/s eta 0:00:01\r\u001b[K     |██████████████▏                 | 614 kB 5.4 MB/s eta 0:00:01\r\u001b[K     |██████████████▍                 | 624 kB 5.4 MB/s eta 0:00:01\r\u001b[K     |██████████████▋                 | 634 kB 5.4 MB/s eta 0:00:01\r\u001b[K     |███████████████                 | 645 kB 5.4 MB/s eta 0:00:01\r\u001b[K     |███████████████▏                | 655 kB 5.4 MB/s eta 0:00:01\r\u001b[K     |███████████████▍                | 665 kB 5.4 MB/s eta 0:00:01\r\u001b[K     |███████████████▋                | 675 kB 5.4 MB/s eta 0:00:01\r\u001b[K     |███████████████▉                | 686 kB 5.4 MB/s eta 0:00:01\r\u001b[K     |████████████████                | 696 kB 5.4 MB/s eta 0:00:01\r\u001b[K     |████████████████▎               | 706 kB 5.4 MB/s eta 0:00:01\r\u001b[K     |████████████████▋               | 716 kB 5.4 MB/s eta 0:00:01\r\u001b[K     |████████████████▉               | 727 kB 5.4 MB/s eta 0:00:01\r\u001b[K     |█████████████████               | 737 kB 5.4 MB/s eta 0:00:01\r\u001b[K     |█████████████████▎              | 747 kB 5.4 MB/s eta 0:00:01\r\u001b[K     |█████████████████▌              | 757 kB 5.4 MB/s eta 0:00:01\r\u001b[K     |█████████████████▊              | 768 kB 5.4 MB/s eta 0:00:01\r\u001b[K     |██████████████████              | 778 kB 5.4 MB/s eta 0:00:01\r\u001b[K     |██████████████████▏             | 788 kB 5.4 MB/s eta 0:00:01\r\u001b[K     |██████████████████▌             | 798 kB 5.4 MB/s eta 0:00:01\r\u001b[K     |██████████████████▊             | 808 kB 5.4 MB/s eta 0:00:01\r\u001b[K     |███████████████████             | 819 kB 5.4 MB/s eta 0:00:01\r\u001b[K     |███████████████████▏            | 829 kB 5.4 MB/s eta 0:00:01\r\u001b[K     |███████████████████▍            | 839 kB 5.4 MB/s eta 0:00:01\r\u001b[K     |███████████████████▋            | 849 kB 5.4 MB/s eta 0:00:01\r\u001b[K     |███████████████████▉            | 860 kB 5.4 MB/s eta 0:00:01\r\u001b[K     |████████████████████            | 870 kB 5.4 MB/s eta 0:00:01\r\u001b[K     |████████████████████▍           | 880 kB 5.4 MB/s eta 0:00:01\r\u001b[K     |████████████████████▋           | 890 kB 5.4 MB/s eta 0:00:01\r\u001b[K     |████████████████████▉           | 901 kB 5.4 MB/s eta 0:00:01\r\u001b[K     |█████████████████████           | 911 kB 5.4 MB/s eta 0:00:01\r\u001b[K     |█████████████████████▎          | 921 kB 5.4 MB/s eta 0:00:01\r\u001b[K     |█████████████████████▌          | 931 kB 5.4 MB/s eta 0:00:01\r\u001b[K     |█████████████████████▊          | 942 kB 5.4 MB/s eta 0:00:01\r\u001b[K     |██████████████████████          | 952 kB 5.4 MB/s eta 0:00:01\r\u001b[K     |██████████████████████▎         | 962 kB 5.4 MB/s eta 0:00:01\r\u001b[K     |██████████████████████▌         | 972 kB 5.4 MB/s eta 0:00:01\r\u001b[K     |██████████████████████▊         | 983 kB 5.4 MB/s eta 0:00:01\r\u001b[K     |███████████████████████         | 993 kB 5.4 MB/s eta 0:00:01\r\u001b[K     |███████████████████████▏        | 1.0 MB 5.4 MB/s eta 0:00:01\r\u001b[K     |███████████████████████▍        | 1.0 MB 5.4 MB/s eta 0:00:01\r\u001b[K     |███████████████████████▋        | 1.0 MB 5.4 MB/s eta 0:00:01\r\u001b[K     |████████████████████████        | 1.0 MB 5.4 MB/s eta 0:00:01\r\u001b[K     |████████████████████████▏       | 1.0 MB 5.4 MB/s eta 0:00:01\r\u001b[K     |████████████████████████▍       | 1.1 MB 5.4 MB/s eta 0:00:01\r\u001b[K     |████████████████████████▋       | 1.1 MB 5.4 MB/s eta 0:00:01\r\u001b[K     |████████████████████████▉       | 1.1 MB 5.4 MB/s eta 0:00:01\r\u001b[K     |█████████████████████████       | 1.1 MB 5.4 MB/s eta 0:00:01\r\u001b[K     |█████████████████████████▎      | 1.1 MB 5.4 MB/s eta 0:00:01\r\u001b[K     |█████████████████████████▌      | 1.1 MB 5.4 MB/s eta 0:00:01\r\u001b[K     |█████████████████████████▉      | 1.1 MB 5.4 MB/s eta 0:00:01\r\u001b[K     |██████████████████████████      | 1.1 MB 5.4 MB/s eta 0:00:01\r\u001b[K     |██████████████████████████▎     | 1.1 MB 5.4 MB/s eta 0:00:01\r\u001b[K     |██████████████████████████▌     | 1.1 MB 5.4 MB/s eta 0:00:01\r\u001b[K     |██████████████████████████▊     | 1.2 MB 5.4 MB/s eta 0:00:01\r\u001b[K     |███████████████████████████     | 1.2 MB 5.4 MB/s eta 0:00:01\r\u001b[K     |███████████████████████████▏    | 1.2 MB 5.4 MB/s eta 0:00:01\r\u001b[K     |███████████████████████████▍    | 1.2 MB 5.4 MB/s eta 0:00:01\r\u001b[K     |███████████████████████████▊    | 1.2 MB 5.4 MB/s eta 0:00:01\r\u001b[K     |████████████████████████████    | 1.2 MB 5.4 MB/s eta 0:00:01\r\u001b[K     |████████████████████████████▏   | 1.2 MB 5.4 MB/s eta 0:00:01\r\u001b[K     |████████████████████████████▍   | 1.2 MB 5.4 MB/s eta 0:00:01\r\u001b[K     |████████████████████████████▋   | 1.2 MB 5.4 MB/s eta 0:00:01\r\u001b[K     |████████████████████████████▉   | 1.2 MB 5.4 MB/s eta 0:00:01\r\u001b[K     |█████████████████████████████   | 1.3 MB 5.4 MB/s eta 0:00:01\r\u001b[K     |█████████████████████████████▎  | 1.3 MB 5.4 MB/s eta 0:00:01\r\u001b[K     |█████████████████████████████▋  | 1.3 MB 5.4 MB/s eta 0:00:01\r\u001b[K     |█████████████████████████████▉  | 1.3 MB 5.4 MB/s eta 0:00:01\r\u001b[K     |██████████████████████████████  | 1.3 MB 5.4 MB/s eta 0:00:01\r\u001b[K     |██████████████████████████████▎ | 1.3 MB 5.4 MB/s eta 0:00:01\r\u001b[K     |██████████████████████████████▌ | 1.3 MB 5.4 MB/s eta 0:00:01\r\u001b[K     |██████████████████████████████▊ | 1.3 MB 5.4 MB/s eta 0:00:01\r\u001b[K     |███████████████████████████████ | 1.3 MB 5.4 MB/s eta 0:00:01\r\u001b[K     |███████████████████████████████▎| 1.4 MB 5.4 MB/s eta 0:00:01\r\u001b[K     |███████████████████████████████▌| 1.4 MB 5.4 MB/s eta 0:00:01\r\u001b[K     |███████████████████████████████▊| 1.4 MB 5.4 MB/s eta 0:00:01\r\u001b[K     |████████████████████████████████| 1.4 MB 5.4 MB/s eta 0:00:01\r\u001b[K     |████████████████████████████████| 1.4 MB 5.4 MB/s \n",
            "\u001b[?25hRequirement already satisfied: numpy>=1.19.3 in /usr/local/lib/python3.7/dist-packages (from pmdarima) (1.21.5)\n",
            "Requirement already satisfied: scikit-learn>=0.22 in /usr/local/lib/python3.7/dist-packages (from pmdarima) (1.0.2)\n",
            "Requirement already satisfied: pandas>=0.19 in /usr/local/lib/python3.7/dist-packages (from pmdarima) (1.3.5)\n",
            "Collecting statsmodels!=0.12.0,>=0.11\n",
            "  Downloading statsmodels-0.13.2-cp37-cp37m-manylinux_2_17_x86_64.manylinux2014_x86_64.whl (9.8 MB)\n",
            "\u001b[K     |████████████████████████████████| 9.8 MB 41.2 MB/s \n",
            "\u001b[?25hRequirement already satisfied: urllib3 in /usr/local/lib/python3.7/dist-packages (from pmdarima) (1.24.3)\n",
            "Requirement already satisfied: scipy>=1.3.2 in /usr/local/lib/python3.7/dist-packages (from pmdarima) (1.4.1)\n",
            "Requirement already satisfied: Cython!=0.29.18,>=0.29 in /usr/local/lib/python3.7/dist-packages (from pmdarima) (0.29.28)\n",
            "Requirement already satisfied: setuptools!=50.0.0,>=38.6.0 in /usr/local/lib/python3.7/dist-packages (from pmdarima) (57.4.0)\n",
            "Requirement already satisfied: joblib>=0.11 in /usr/local/lib/python3.7/dist-packages (from pmdarima) (1.1.0)\n",
            "Requirement already satisfied: python-dateutil>=2.7.3 in /usr/local/lib/python3.7/dist-packages (from pandas>=0.19->pmdarima) (2.8.2)\n",
            "Requirement already satisfied: pytz>=2017.3 in /usr/local/lib/python3.7/dist-packages (from pandas>=0.19->pmdarima) (2018.9)\n",
            "Requirement already satisfied: six>=1.5 in /usr/local/lib/python3.7/dist-packages (from python-dateutil>=2.7.3->pandas>=0.19->pmdarima) (1.15.0)\n",
            "Requirement already satisfied: threadpoolctl>=2.0.0 in /usr/local/lib/python3.7/dist-packages (from scikit-learn>=0.22->pmdarima) (3.1.0)\n",
            "Requirement already satisfied: packaging>=21.3 in /usr/local/lib/python3.7/dist-packages (from statsmodels!=0.12.0,>=0.11->pmdarima) (21.3)\n",
            "Requirement already satisfied: patsy>=0.5.2 in /usr/local/lib/python3.7/dist-packages (from statsmodels!=0.12.0,>=0.11->pmdarima) (0.5.2)\n",
            "Requirement already satisfied: pyparsing!=3.0.5,>=2.0.2 in /usr/local/lib/python3.7/dist-packages (from packaging>=21.3->statsmodels!=0.12.0,>=0.11->pmdarima) (3.0.7)\n",
            "Installing collected packages: statsmodels, pmdarima\n",
            "  Attempting uninstall: statsmodels\n",
            "    Found existing installation: statsmodels 0.10.2\n",
            "    Uninstalling statsmodels-0.10.2:\n",
            "      Successfully uninstalled statsmodels-0.10.2\n",
            "Successfully installed pmdarima-1.8.5 statsmodels-0.13.2\n"
          ]
        }
      ],
      "source": [
        "!pip install pmdarima"
      ]
    },
    {
      "cell_type": "code",
      "source": [
        "import pandas as pd\n",
        "import numpy as np\n",
        "import matplotlib.pyplot as plt\n",
        "import seaborn as sns"
      ],
      "metadata": {
        "id": "l9MTg5zdHCzZ"
      },
      "execution_count": 2,
      "outputs": []
    },
    {
      "cell_type": "markdown",
      "source": [
        "# Import and examine the datasets"
      ],
      "metadata": {
        "id": "2JQ6U5akH2dw"
      }
    },
    {
      "cell_type": "code",
      "source": [
        "data = pd.read_csv(\"/content/drive/MyDrive/Time Series/Macroseries/NondurablePCE.csv\",index_col='Date',parse_dates=True)\n",
        "data.head()"
      ],
      "metadata": {
        "colab": {
          "base_uri": "https://localhost:8080/",
          "height": 238
        },
        "id": "YLG_lS3CHlAL",
        "outputId": "e02a7414-e03d-4935-a899-1508977dc38d"
      },
      "execution_count": 3,
      "outputs": [
        {
          "output_type": "execute_result",
          "data": {
            "text/plain": [
              "             PCEX\n",
              "Date             \n",
              "1947-01-01  17239\n",
              "1947-04-01  18813\n",
              "1947-07-01  18933\n",
              "1947-10-01  22610\n",
              "1948-01-01  19078"
            ],
            "text/html": [
              "\n",
              "  <div id=\"df-8256d5b2-27b0-4e8d-afc3-e6315da1ef32\">\n",
              "    <div class=\"colab-df-container\">\n",
              "      <div>\n",
              "<style scoped>\n",
              "    .dataframe tbody tr th:only-of-type {\n",
              "        vertical-align: middle;\n",
              "    }\n",
              "\n",
              "    .dataframe tbody tr th {\n",
              "        vertical-align: top;\n",
              "    }\n",
              "\n",
              "    .dataframe thead th {\n",
              "        text-align: right;\n",
              "    }\n",
              "</style>\n",
              "<table border=\"1\" class=\"dataframe\">\n",
              "  <thead>\n",
              "    <tr style=\"text-align: right;\">\n",
              "      <th></th>\n",
              "      <th>PCEX</th>\n",
              "    </tr>\n",
              "    <tr>\n",
              "      <th>Date</th>\n",
              "      <th></th>\n",
              "    </tr>\n",
              "  </thead>\n",
              "  <tbody>\n",
              "    <tr>\n",
              "      <th>1947-01-01</th>\n",
              "      <td>17239</td>\n",
              "    </tr>\n",
              "    <tr>\n",
              "      <th>1947-04-01</th>\n",
              "      <td>18813</td>\n",
              "    </tr>\n",
              "    <tr>\n",
              "      <th>1947-07-01</th>\n",
              "      <td>18933</td>\n",
              "    </tr>\n",
              "    <tr>\n",
              "      <th>1947-10-01</th>\n",
              "      <td>22610</td>\n",
              "    </tr>\n",
              "    <tr>\n",
              "      <th>1948-01-01</th>\n",
              "      <td>19078</td>\n",
              "    </tr>\n",
              "  </tbody>\n",
              "</table>\n",
              "</div>\n",
              "      <button class=\"colab-df-convert\" onclick=\"convertToInteractive('df-8256d5b2-27b0-4e8d-afc3-e6315da1ef32')\"\n",
              "              title=\"Convert this dataframe to an interactive table.\"\n",
              "              style=\"display:none;\">\n",
              "        \n",
              "  <svg xmlns=\"http://www.w3.org/2000/svg\" height=\"24px\"viewBox=\"0 0 24 24\"\n",
              "       width=\"24px\">\n",
              "    <path d=\"M0 0h24v24H0V0z\" fill=\"none\"/>\n",
              "    <path d=\"M18.56 5.44l.94 2.06.94-2.06 2.06-.94-2.06-.94-.94-2.06-.94 2.06-2.06.94zm-11 1L8.5 8.5l.94-2.06 2.06-.94-2.06-.94L8.5 2.5l-.94 2.06-2.06.94zm10 10l.94 2.06.94-2.06 2.06-.94-2.06-.94-.94-2.06-.94 2.06-2.06.94z\"/><path d=\"M17.41 7.96l-1.37-1.37c-.4-.4-.92-.59-1.43-.59-.52 0-1.04.2-1.43.59L10.3 9.45l-7.72 7.72c-.78.78-.78 2.05 0 2.83L4 21.41c.39.39.9.59 1.41.59.51 0 1.02-.2 1.41-.59l7.78-7.78 2.81-2.81c.8-.78.8-2.07 0-2.86zM5.41 20L4 18.59l7.72-7.72 1.47 1.35L5.41 20z\"/>\n",
              "  </svg>\n",
              "      </button>\n",
              "      \n",
              "  <style>\n",
              "    .colab-df-container {\n",
              "      display:flex;\n",
              "      flex-wrap:wrap;\n",
              "      gap: 12px;\n",
              "    }\n",
              "\n",
              "    .colab-df-convert {\n",
              "      background-color: #E8F0FE;\n",
              "      border: none;\n",
              "      border-radius: 50%;\n",
              "      cursor: pointer;\n",
              "      display: none;\n",
              "      fill: #1967D2;\n",
              "      height: 32px;\n",
              "      padding: 0 0 0 0;\n",
              "      width: 32px;\n",
              "    }\n",
              "\n",
              "    .colab-df-convert:hover {\n",
              "      background-color: #E2EBFA;\n",
              "      box-shadow: 0px 1px 2px rgba(60, 64, 67, 0.3), 0px 1px 3px 1px rgba(60, 64, 67, 0.15);\n",
              "      fill: #174EA6;\n",
              "    }\n",
              "\n",
              "    [theme=dark] .colab-df-convert {\n",
              "      background-color: #3B4455;\n",
              "      fill: #D2E3FC;\n",
              "    }\n",
              "\n",
              "    [theme=dark] .colab-df-convert:hover {\n",
              "      background-color: #434B5C;\n",
              "      box-shadow: 0px 1px 3px 1px rgba(0, 0, 0, 0.15);\n",
              "      filter: drop-shadow(0px 1px 2px rgba(0, 0, 0, 0.3));\n",
              "      fill: #FFFFFF;\n",
              "    }\n",
              "  </style>\n",
              "\n",
              "      <script>\n",
              "        const buttonEl =\n",
              "          document.querySelector('#df-8256d5b2-27b0-4e8d-afc3-e6315da1ef32 button.colab-df-convert');\n",
              "        buttonEl.style.display =\n",
              "          google.colab.kernel.accessAllowed ? 'block' : 'none';\n",
              "\n",
              "        async function convertToInteractive(key) {\n",
              "          const element = document.querySelector('#df-8256d5b2-27b0-4e8d-afc3-e6315da1ef32');\n",
              "          const dataTable =\n",
              "            await google.colab.kernel.invokeFunction('convertToInteractive',\n",
              "                                                     [key], {});\n",
              "          if (!dataTable) return;\n",
              "\n",
              "          const docLinkHtml = 'Like what you see? Visit the ' +\n",
              "            '<a target=\"_blank\" href=https://colab.research.google.com/notebooks/data_table.ipynb>data table notebook</a>'\n",
              "            + ' to learn more about interactive tables.';\n",
              "          element.innerHTML = '';\n",
              "          dataTable['output_type'] = 'display_data';\n",
              "          await google.colab.output.renderOutput(dataTable, element);\n",
              "          const docLink = document.createElement('div');\n",
              "          docLink.innerHTML = docLinkHtml;\n",
              "          element.appendChild(docLink);\n",
              "        }\n",
              "      </script>\n",
              "    </div>\n",
              "  </div>\n",
              "  "
            ]
          },
          "metadata": {},
          "execution_count": 3
        }
      ]
    },
    {
      "cell_type": "code",
      "source": [
        "data.tail()"
      ],
      "metadata": {
        "colab": {
          "base_uri": "https://localhost:8080/",
          "height": 238
        },
        "id": "ajK8lXIwIPAP",
        "outputId": "bb5d989b-af2c-490a-9b1f-390a327dab01"
      },
      "execution_count": 4,
      "outputs": [
        {
          "output_type": "execute_result",
          "data": {
            "text/plain": [
              "              PCEX\n",
              "Date              \n",
              "2020-10-01  831803\n",
              "2021-01-01  771813\n",
              "2021-04-01  852972\n",
              "2021-07-01  869225\n",
              "2021-10-01  963106"
            ],
            "text/html": [
              "\n",
              "  <div id=\"df-fa95d283-8528-4e0b-b487-ecdbc1436650\">\n",
              "    <div class=\"colab-df-container\">\n",
              "      <div>\n",
              "<style scoped>\n",
              "    .dataframe tbody tr th:only-of-type {\n",
              "        vertical-align: middle;\n",
              "    }\n",
              "\n",
              "    .dataframe tbody tr th {\n",
              "        vertical-align: top;\n",
              "    }\n",
              "\n",
              "    .dataframe thead th {\n",
              "        text-align: right;\n",
              "    }\n",
              "</style>\n",
              "<table border=\"1\" class=\"dataframe\">\n",
              "  <thead>\n",
              "    <tr style=\"text-align: right;\">\n",
              "      <th></th>\n",
              "      <th>PCEX</th>\n",
              "    </tr>\n",
              "    <tr>\n",
              "      <th>Date</th>\n",
              "      <th></th>\n",
              "    </tr>\n",
              "  </thead>\n",
              "  <tbody>\n",
              "    <tr>\n",
              "      <th>2020-10-01</th>\n",
              "      <td>831803</td>\n",
              "    </tr>\n",
              "    <tr>\n",
              "      <th>2021-01-01</th>\n",
              "      <td>771813</td>\n",
              "    </tr>\n",
              "    <tr>\n",
              "      <th>2021-04-01</th>\n",
              "      <td>852972</td>\n",
              "    </tr>\n",
              "    <tr>\n",
              "      <th>2021-07-01</th>\n",
              "      <td>869225</td>\n",
              "    </tr>\n",
              "    <tr>\n",
              "      <th>2021-10-01</th>\n",
              "      <td>963106</td>\n",
              "    </tr>\n",
              "  </tbody>\n",
              "</table>\n",
              "</div>\n",
              "      <button class=\"colab-df-convert\" onclick=\"convertToInteractive('df-fa95d283-8528-4e0b-b487-ecdbc1436650')\"\n",
              "              title=\"Convert this dataframe to an interactive table.\"\n",
              "              style=\"display:none;\">\n",
              "        \n",
              "  <svg xmlns=\"http://www.w3.org/2000/svg\" height=\"24px\"viewBox=\"0 0 24 24\"\n",
              "       width=\"24px\">\n",
              "    <path d=\"M0 0h24v24H0V0z\" fill=\"none\"/>\n",
              "    <path d=\"M18.56 5.44l.94 2.06.94-2.06 2.06-.94-2.06-.94-.94-2.06-.94 2.06-2.06.94zm-11 1L8.5 8.5l.94-2.06 2.06-.94-2.06-.94L8.5 2.5l-.94 2.06-2.06.94zm10 10l.94 2.06.94-2.06 2.06-.94-2.06-.94-.94-2.06-.94 2.06-2.06.94z\"/><path d=\"M17.41 7.96l-1.37-1.37c-.4-.4-.92-.59-1.43-.59-.52 0-1.04.2-1.43.59L10.3 9.45l-7.72 7.72c-.78.78-.78 2.05 0 2.83L4 21.41c.39.39.9.59 1.41.59.51 0 1.02-.2 1.41-.59l7.78-7.78 2.81-2.81c.8-.78.8-2.07 0-2.86zM5.41 20L4 18.59l7.72-7.72 1.47 1.35L5.41 20z\"/>\n",
              "  </svg>\n",
              "      </button>\n",
              "      \n",
              "  <style>\n",
              "    .colab-df-container {\n",
              "      display:flex;\n",
              "      flex-wrap:wrap;\n",
              "      gap: 12px;\n",
              "    }\n",
              "\n",
              "    .colab-df-convert {\n",
              "      background-color: #E8F0FE;\n",
              "      border: none;\n",
              "      border-radius: 50%;\n",
              "      cursor: pointer;\n",
              "      display: none;\n",
              "      fill: #1967D2;\n",
              "      height: 32px;\n",
              "      padding: 0 0 0 0;\n",
              "      width: 32px;\n",
              "    }\n",
              "\n",
              "    .colab-df-convert:hover {\n",
              "      background-color: #E2EBFA;\n",
              "      box-shadow: 0px 1px 2px rgba(60, 64, 67, 0.3), 0px 1px 3px 1px rgba(60, 64, 67, 0.15);\n",
              "      fill: #174EA6;\n",
              "    }\n",
              "\n",
              "    [theme=dark] .colab-df-convert {\n",
              "      background-color: #3B4455;\n",
              "      fill: #D2E3FC;\n",
              "    }\n",
              "\n",
              "    [theme=dark] .colab-df-convert:hover {\n",
              "      background-color: #434B5C;\n",
              "      box-shadow: 0px 1px 3px 1px rgba(0, 0, 0, 0.15);\n",
              "      filter: drop-shadow(0px 1px 2px rgba(0, 0, 0, 0.3));\n",
              "      fill: #FFFFFF;\n",
              "    }\n",
              "  </style>\n",
              "\n",
              "      <script>\n",
              "        const buttonEl =\n",
              "          document.querySelector('#df-fa95d283-8528-4e0b-b487-ecdbc1436650 button.colab-df-convert');\n",
              "        buttonEl.style.display =\n",
              "          google.colab.kernel.accessAllowed ? 'block' : 'none';\n",
              "\n",
              "        async function convertToInteractive(key) {\n",
              "          const element = document.querySelector('#df-fa95d283-8528-4e0b-b487-ecdbc1436650');\n",
              "          const dataTable =\n",
              "            await google.colab.kernel.invokeFunction('convertToInteractive',\n",
              "                                                     [key], {});\n",
              "          if (!dataTable) return;\n",
              "\n",
              "          const docLinkHtml = 'Like what you see? Visit the ' +\n",
              "            '<a target=\"_blank\" href=https://colab.research.google.com/notebooks/data_table.ipynb>data table notebook</a>'\n",
              "            + ' to learn more about interactive tables.';\n",
              "          element.innerHTML = '';\n",
              "          dataTable['output_type'] = 'display_data';\n",
              "          await google.colab.output.renderOutput(dataTable, element);\n",
              "          const docLink = document.createElement('div');\n",
              "          docLink.innerHTML = docLinkHtml;\n",
              "          element.appendChild(docLink);\n",
              "        }\n",
              "      </script>\n",
              "    </div>\n",
              "  </div>\n",
              "  "
            ]
          },
          "metadata": {},
          "execution_count": 4
        }
      ]
    },
    {
      "cell_type": "code",
      "source": [
        "data.index.freq='QS'"
      ],
      "metadata": {
        "id": "50jxKHZYIVHM"
      },
      "execution_count": 6,
      "outputs": []
    },
    {
      "cell_type": "markdown",
      "source": [
        "# Visualize the dataset"
      ],
      "metadata": {
        "id": "k1lqtRHiIxDZ"
      }
    },
    {
      "cell_type": "code",
      "source": [
        "title='Consumption Expenditure Non-Durable Goods for US 1959-2021'\n",
        "ylabel='$B'\n",
        "xlabel='Year'\n",
        "\n",
        "ax = data.plot(figsize=(12,5),title=title)\n",
        "ax.set(xlabel=xlabel, ylabel=ylabel)\n",
        "ax.autoscale(axis='x',tight=True);"
      ],
      "metadata": {
        "colab": {
          "base_uri": "https://localhost:8080/",
          "height": 350
        },
        "id": "GpSNJ7q9IhXY",
        "outputId": "dbf56629-c94c-4d9a-b576-1bd6fba69a16"
      },
      "execution_count": 13,
      "outputs": [
        {
          "output_type": "display_data",
          "data": {
            "text/plain": [
              "<Figure size 864x360 with 1 Axes>"
            ],
            "image/png": "[encoded data removed]"
          },
          "metadata": {
            "needs_background": "light"
          }
        }
      ]
    },
    {
      "cell_type": "markdown",
      "source": [
        "A casual inspection of the data shows a linear trend and seasonality.  But we will use the seasonal decompose library to look further into this."
      ],
      "metadata": {
        "id": "3VeJ5ur3Lgxf"
      }
    },
    {
      "cell_type": "code",
      "source": [
        "from statsmodels.tsa.seasonal import seasonal_decompose"
      ],
      "metadata": {
        "id": "m2t6T87BJIFW"
      },
      "execution_count": 14,
      "outputs": []
    },
    {
      "cell_type": "code",
      "source": [
        "data_decomp = seasonal_decompose(data['PCEX'],model='mult')\n",
        "data_decomp.plot();"
      ],
      "metadata": {
        "colab": {
          "base_uri": "https://localhost:8080/",
          "height": 297
        },
        "id": "AR2xGHqCL1B3",
        "outputId": "f0b083cf-2339-41cd-ce20-953ea1c7b755"
      },
      "execution_count": 15,
      "outputs": [
        {
          "output_type": "display_data",
          "data": {
            "text/plain": [
              "<Figure size 432x288 with 4 Axes>"
            ],
            "image/png": "[encoded data removed]"
          },
          "metadata": {
            "needs_background": "light"
          }
        }
      ]
    },
    {
      "cell_type": "markdown",
      "source": [
        "# Modelling\n",
        "\n",
        "In order to model this time series data, we need to take into congnizance the presence of trend and seasonality.  While the ACF and the PACF curves provides the classical evalution of the order of ARIMA model, we shall use the auto-arima package to pick our order of pdq."
      ],
      "metadata": {
        "id": "6TF646q1Mg1I"
      }
    },
    {
      "cell_type": "code",
      "source": [
        "from pmdarima.arima import auto_arima"
      ],
      "metadata": {
        "id": "1R-u8CngMTit"
      },
      "execution_count": 16,
      "outputs": []
    },
    {
      "cell_type": "code",
      "source": [
        "result = auto_arima(data['PCEX'],seasonal=True,m=4)\n",
        "print(result.summary())"
      ],
      "metadata": {
        "colab": {
          "base_uri": "https://localhost:8080/"
        },
        "id": "t5P3AMLZNAc0",
        "outputId": "87ef96b4-6e0a-4bed-faa6-6462b0b48f24"
      },
      "execution_count": 17,
      "outputs": [
        {
          "output_type": "stream",
          "name": "stdout",
          "text": [
            "                                     SARIMAX Results                                     \n",
            "=========================================================================================\n",
            "Dep. Variable:                                 y   No. Observations:                  300\n",
            "Model:             SARIMAX(0, 1, 1)x(0, 1, 1, 4)   Log Likelihood               -3088.650\n",
            "Date:                           Sat, 12 Mar 2022   AIC                           6183.301\n",
            "Time:                                   17:37:56   BIC                           6194.361\n",
            "Sample:                                        0   HQIC                          6187.730\n",
            "                                           - 300                                         \n",
            "Covariance Type:                             opg                                         \n",
            "==============================================================================\n",
            "                 coef    std err          z      P>|z|      [0.025      0.975]\n",
            "------------------------------------------------------------------------------\n",
            "ma.L1         -0.1085      0.025     -4.293      0.000      -0.158      -0.059\n",
            "ma.S.L4       -0.6514      0.027    -24.554      0.000      -0.703      -0.599\n",
            "sigma2      7.254e+07    3.3e-10    2.2e+17      0.000    7.25e+07    7.25e+07\n",
            "===================================================================================\n",
            "Ljung-Box (L1) (Q):                   0.13   Jarque-Bera (JB):              5160.41\n",
            "Prob(Q):                              0.72   Prob(JB):                         0.00\n",
            "Heteroskedasticity (H):             120.52   Skew:                            -0.11\n",
            "Prob(H) (two-sided):                  0.00   Kurtosis:                        23.49\n",
            "===================================================================================\n",
            "\n",
            "Warnings:\n",
            "[1] Covariance matrix calculated using the outer product of gradients (complex-step).\n",
            "[2] Covariance matrix is singular or near-singular, with condition number 6.11e+31. Standard errors may be unstable.\n"
          ]
        }
      ]
    },
    {
      "cell_type": "markdown",
      "source": [
        "auto-arima suggest an order of 0,1,1 by 0,1,1,4 for our modeling.\n",
        "\n",
        "# Split the data into training and testing sets"
      ],
      "metadata": {
        "id": "K6-og6fINZ1m"
      }
    },
    {
      "cell_type": "code",
      "source": [
        "len(data)"
      ],
      "metadata": {
        "colab": {
          "base_uri": "https://localhost:8080/"
        },
        "id": "vMFB7sGvNTgE",
        "outputId": "cac9e5cc-279c-4e92-df90-e18a9620a194"
      },
      "execution_count": 18,
      "outputs": [
        {
          "output_type": "execute_result",
          "data": {
            "text/plain": [
              "300"
            ]
          },
          "metadata": {},
          "execution_count": 18
        }
      ]
    },
    {
      "cell_type": "markdown",
      "source": [
        "Since we have a quartely dataset, we shall forecast for 8 quarters, meaning 2 years."
      ],
      "metadata": {
        "id": "Jq-3ChQvN0VA"
      }
    },
    {
      "cell_type": "code",
      "source": [
        "train_df = data[:-8]\n",
        "test_df = data[-8:]"
      ],
      "metadata": {
        "id": "TU9tjNWsNuAE"
      },
      "execution_count": 19,
      "outputs": []
    },
    {
      "cell_type": "code",
      "source": [
        "print(train_df.shape,test_df.shape)"
      ],
      "metadata": {
        "colab": {
          "base_uri": "https://localhost:8080/"
        },
        "id": "4LRpmPGWOV6o",
        "outputId": "ef5c6cc5-a527-480e-cee6-0ae42bd1383c"
      },
      "execution_count": 20,
      "outputs": [
        {
          "output_type": "stream",
          "name": "stdout",
          "text": [
            "(292, 1) (8, 1)\n"
          ]
        }
      ]
    },
    {
      "cell_type": "markdown",
      "source": [
        "# Fit the model with SARIMAX model"
      ],
      "metadata": {
        "id": "VDM4NnbaOlWf"
      }
    },
    {
      "cell_type": "code",
      "source": [
        "from statsmodels.tsa.statespace.sarimax import SARIMAX "
      ],
      "metadata": {
        "id": "ACDF7l68OgTw"
      },
      "execution_count": 21,
      "outputs": []
    },
    {
      "cell_type": "code",
      "source": [
        "model = SARIMAX(train_df['PCEX'],order=(0,1,1),seasonal_order=(0,1,1,4),enforce_invertibility=False)\n",
        "model_res = model.fit()\n",
        "print(model_res.summary())"
      ],
      "metadata": {
        "colab": {
          "base_uri": "https://localhost:8080/"
        },
        "id": "yEE_atHgO0V5",
        "outputId": "055cdd84-e6dc-4762-d0a4-f68407c0fc82"
      },
      "execution_count": 22,
      "outputs": [
        {
          "output_type": "stream",
          "name": "stdout",
          "text": [
            "                                     SARIMAX Results                                     \n",
            "=========================================================================================\n",
            "Dep. Variable:                              PCEX   No. Observations:                  292\n",
            "Model:             SARIMAX(0, 1, 1)x(0, 1, 1, 4)   Log Likelihood               -2923.660\n",
            "Date:                           Sat, 12 Mar 2022   AIC                           5853.320\n",
            "Time:                                   17:47:38   BIC                           5864.299\n",
            "Sample:                               01-01-1947   HQIC                          5857.720\n",
            "                                    - 10-01-2019                                         \n",
            "Covariance Type:                             opg                                         \n",
            "==============================================================================\n",
            "                 coef    std err          z      P>|z|      [0.025      0.975]\n",
            "------------------------------------------------------------------------------\n",
            "ma.L1         -0.0228      0.052     -0.434      0.665      -0.126       0.080\n",
            "ma.S.L4       -0.5162      0.036    -14.328      0.000      -0.587      -0.446\n",
            "sigma2      5.122e+07   3.83e-10   1.34e+17      0.000    5.12e+07    5.12e+07\n",
            "===================================================================================\n",
            "Ljung-Box (L1) (Q):                   0.00   Jarque-Bera (JB):             10021.66\n",
            "Prob(Q):                              1.00   Prob(JB):                         0.00\n",
            "Heteroskedasticity (H):              84.61   Skew:                            -2.86\n",
            "Prob(H) (two-sided):                  0.00   Kurtosis:                        31.38\n",
            "===================================================================================\n",
            "\n",
            "Warnings:\n",
            "[1] Covariance matrix calculated using the outer product of gradients (complex-step).\n",
            "[2] Covariance matrix is singular or near-singular, with condition number 6.07e+31. Standard errors may be unstable.\n"
          ]
        }
      ]
    },
    {
      "cell_type": "markdown",
      "source": [
        "Check the diagnostics"
      ],
      "metadata": {
        "id": "2sGU28asQMmX"
      }
    },
    {
      "cell_type": "code",
      "source": [
        "model_res.plot_diagnostics(figsize=(12,5));"
      ],
      "metadata": {
        "colab": {
          "base_uri": "https://localhost:8080/",
          "height": 350
        },
        "id": "auf1jFu1QQvd",
        "outputId": "5903ea92-e0e9-40d4-9571-70871b6282a7"
      },
      "execution_count": 24,
      "outputs": [
        {
          "output_type": "display_data",
          "data": {
            "text/plain": [
              "<Figure size 864x360 with 4 Axes>"
            ],
            "image/png": "[encoded data removed]"
          },
          "metadata": {
            "needs_background": "light"
          }
        }
      ]
    },
    {
      "cell_type": "markdown",
      "source": [
        "One of the takeways of seasonal ARIMA model is that the residuals of the model should be uncorrelated and normally distributed with zero mean.  If this conditions are not met, it is an indication that the model can further be improved.\n",
        "\n",
        "In our model, the diagnostics shows that the residuals are normally distributed going by the KDE plot on the top right corner where the KDE line closely follows a normal distribution with N(0,1).\n",
        "\n",
        "Furthermore, the QQ plot at the bottom left of the plot shows that almost all the blue dots lies on the red line which indicates that the sample was drawn from a normal distribution.\n",
        "\n",
        "The residuals at the top left corner did not show any signs of seasonality which indicates a white noise."
      ],
      "metadata": {
        "id": "1CcLn7wiWvc2"
      }
    },
    {
      "cell_type": "markdown",
      "source": [
        "# Obtain the Predictions"
      ],
      "metadata": {
        "id": "ieiIa2HbPoQ0"
      }
    },
    {
      "cell_type": "code",
      "source": [
        "start = len(train_df)\n",
        "end = len(train_df)+len(test_df)-1\n",
        "pred = model_res.predict(start=start,end=end,dynamic=False).rename('Predictions')"
      ],
      "metadata": {
        "id": "GAX6pk4FPjZr"
      },
      "execution_count": 25,
      "outputs": []
    },
    {
      "cell_type": "code",
      "source": [
        "test_df['PCEX'].plot(figsize=(12,5),legend=True)\n",
        "pred.plot(legend=True);"
      ],
      "metadata": {
        "colab": {
          "base_uri": "https://localhost:8080/",
          "height": 345
        },
        "id": "fcpBTGCBQrhL",
        "outputId": "91eddbc2-0380-4a8e-8901-80406643d934"
      },
      "execution_count": 26,
      "outputs": [
        {
          "output_type": "display_data",
          "data": {
            "text/plain": [
              "<Figure size 864x360 with 1 Axes>"
            ],
            "image/png": "[encoded data removed]"
          },
          "metadata": {
            "needs_background": "light"
          }
        }
      ]
    },
    {
      "cell_type": "markdown",
      "source": [
        "The predictions looks pretty good till the end of the 4th quarter of 2020 before we started noticing some wider divergence between forecasted and real consumption expenditure.  However, we consider the first year of the prediction, it looks more precise."
      ],
      "metadata": {
        "id": "37f9QZnFRLwq"
      }
    },
    {
      "cell_type": "code",
      "source": [
        "test_df['pred'] = pred\n",
        "test_df['error (%)'] = abs((test_df['PCEX']-test_df['pred'])/test_df['PCEX'])*100"
      ],
      "metadata": {
        "id": "i4JwqqcoQ8jd"
      },
      "execution_count": 32,
      "outputs": []
    },
    {
      "cell_type": "code",
      "source": [
        "test_df = test_df.drop('error',axis=1)"
      ],
      "metadata": {
        "id": "Cq-xurUfSmrn"
      },
      "execution_count": 30,
      "outputs": []
    },
    {
      "cell_type": "code",
      "source": [
        "test_df"
      ],
      "metadata": {
        "colab": {
          "base_uri": "https://localhost:8080/",
          "height": 331
        },
        "id": "Nrch2zHBS9Eb",
        "outputId": "e3202473-afdc-4173-d7c6-4f672069128b"
      },
      "execution_count": 31,
      "outputs": [
        {
          "output_type": "execute_result",
          "data": {
            "text/plain": [
              "              PCEX           pred  error (%)\n",
              "Date                                        \n",
              "2020-01-01  720845  715212.078425   0.781433\n",
              "2020-04-01  715663  762967.467234   6.609880\n",
              "2020-07-01  769103  763006.414387   0.792688\n",
              "2020-10-01  831803  828826.047134   0.357892\n",
              "2021-01-01  771813  739360.439613   4.204718\n",
              "2021-04-01  852972  787115.828422   7.720789\n",
              "2021-07-01  869225  787154.775575   9.441770\n",
              "2021-10-01  963106  852974.408321  11.435044"
            ],
            "text/html": [
              "\n",
              "  <div id=\"df-06c1bb42-095d-49a9-b773-f4b5d482df30\">\n",
              "    <div class=\"colab-df-container\">\n",
              "      <div>\n",
              "<style scoped>\n",
              "    .dataframe tbody tr th:only-of-type {\n",
              "        vertical-align: middle;\n",
              "    }\n",
              "\n",
              "    .dataframe tbody tr th {\n",
              "        vertical-align: top;\n",
              "    }\n",
              "\n",
              "    .dataframe thead th {\n",
              "        text-align: right;\n",
              "    }\n",
              "</style>\n",
              "<table border=\"1\" class=\"dataframe\">\n",
              "  <thead>\n",
              "    <tr style=\"text-align: right;\">\n",
              "      <th></th>\n",
              "      <th>PCEX</th>\n",
              "      <th>pred</th>\n",
              "      <th>error (%)</th>\n",
              "    </tr>\n",
              "    <tr>\n",
              "      <th>Date</th>\n",
              "      <th></th>\n",
              "      <th></th>\n",
              "      <th></th>\n",
              "    </tr>\n",
              "  </thead>\n",
              "  <tbody>\n",
              "    <tr>\n",
              "      <th>2020-01-01</th>\n",
              "      <td>720845</td>\n",
              "      <td>715212.078425</td>\n",
              "      <td>0.781433</td>\n",
              "    </tr>\n",
              "    <tr>\n",
              "      <th>2020-04-01</th>\n",
              "      <td>715663</td>\n",
              "      <td>762967.467234</td>\n",
              "      <td>6.609880</td>\n",
              "    </tr>\n",
              "    <tr>\n",
              "      <th>2020-07-01</th>\n",
              "      <td>769103</td>\n",
              "      <td>763006.414387</td>\n",
              "      <td>0.792688</td>\n",
              "    </tr>\n",
              "    <tr>\n",
              "      <th>2020-10-01</th>\n",
              "      <td>831803</td>\n",
              "      <td>828826.047134</td>\n",
              "      <td>0.357892</td>\n",
              "    </tr>\n",
              "    <tr>\n",
              "      <th>2021-01-01</th>\n",
              "      <td>771813</td>\n",
              "      <td>739360.439613</td>\n",
              "      <td>4.204718</td>\n",
              "    </tr>\n",
              "    <tr>\n",
              "      <th>2021-04-01</th>\n",
              "      <td>852972</td>\n",
              "      <td>787115.828422</td>\n",
              "      <td>7.720789</td>\n",
              "    </tr>\n",
              "    <tr>\n",
              "      <th>2021-07-01</th>\n",
              "      <td>869225</td>\n",
              "      <td>787154.775575</td>\n",
              "      <td>9.441770</td>\n",
              "    </tr>\n",
              "    <tr>\n",
              "      <th>2021-10-01</th>\n",
              "      <td>963106</td>\n",
              "      <td>852974.408321</td>\n",
              "      <td>11.435044</td>\n",
              "    </tr>\n",
              "  </tbody>\n",
              "</table>\n",
              "</div>\n",
              "      <button class=\"colab-df-convert\" onclick=\"convertToInteractive('df-06c1bb42-095d-49a9-b773-f4b5d482df30')\"\n",
              "              title=\"Convert this dataframe to an interactive table.\"\n",
              "              style=\"display:none;\">\n",
              "        \n",
              "  <svg xmlns=\"http://www.w3.org/2000/svg\" height=\"24px\"viewBox=\"0 0 24 24\"\n",
              "       width=\"24px\">\n",
              "    <path d=\"M0 0h24v24H0V0z\" fill=\"none\"/>\n",
              "    <path d=\"M18.56 5.44l.94 2.06.94-2.06 2.06-.94-2.06-.94-.94-2.06-.94 2.06-2.06.94zm-11 1L8.5 8.5l.94-2.06 2.06-.94-2.06-.94L8.5 2.5l-.94 2.06-2.06.94zm10 10l.94 2.06.94-2.06 2.06-.94-2.06-.94-.94-2.06-.94 2.06-2.06.94z\"/><path d=\"M17.41 7.96l-1.37-1.37c-.4-.4-.92-.59-1.43-.59-.52 0-1.04.2-1.43.59L10.3 9.45l-7.72 7.72c-.78.78-.78 2.05 0 2.83L4 21.41c.39.39.9.59 1.41.59.51 0 1.02-.2 1.41-.59l7.78-7.78 2.81-2.81c.8-.78.8-2.07 0-2.86zM5.41 20L4 18.59l7.72-7.72 1.47 1.35L5.41 20z\"/>\n",
              "  </svg>\n",
              "      </button>\n",
              "      \n",
              "  <style>\n",
              "    .colab-df-container {\n",
              "      display:flex;\n",
              "      flex-wrap:wrap;\n",
              "      gap: 12px;\n",
              "    }\n",
              "\n",
              "    .colab-df-convert {\n",
              "      background-color: #E8F0FE;\n",
              "      border: none;\n",
              "      border-radius: 50%;\n",
              "      cursor: pointer;\n",
              "      display: none;\n",
              "      fill: #1967D2;\n",
              "      height: 32px;\n",
              "      padding: 0 0 0 0;\n",
              "      width: 32px;\n",
              "    }\n",
              "\n",
              "    .colab-df-convert:hover {\n",
              "      background-color: #E2EBFA;\n",
              "      box-shadow: 0px 1px 2px rgba(60, 64, 67, 0.3), 0px 1px 3px 1px rgba(60, 64, 67, 0.15);\n",
              "      fill: #174EA6;\n",
              "    }\n",
              "\n",
              "    [theme=dark] .colab-df-convert {\n",
              "      background-color: #3B4455;\n",
              "      fill: #D2E3FC;\n",
              "    }\n",
              "\n",
              "    [theme=dark] .colab-df-convert:hover {\n",
              "      background-color: #434B5C;\n",
              "      box-shadow: 0px 1px 3px 1px rgba(0, 0, 0, 0.15);\n",
              "      filter: drop-shadow(0px 1px 2px rgba(0, 0, 0, 0.3));\n",
              "      fill: #FFFFFF;\n",
              "    }\n",
              "  </style>\n",
              "\n",
              "      <script>\n",
              "        const buttonEl =\n",
              "          document.querySelector('#df-06c1bb42-095d-49a9-b773-f4b5d482df30 button.colab-df-convert');\n",
              "        buttonEl.style.display =\n",
              "          google.colab.kernel.accessAllowed ? 'block' : 'none';\n",
              "\n",
              "        async function convertToInteractive(key) {\n",
              "          const element = document.querySelector('#df-06c1bb42-095d-49a9-b773-f4b5d482df30');\n",
              "          const dataTable =\n",
              "            await google.colab.kernel.invokeFunction('convertToInteractive',\n",
              "                                                     [key], {});\n",
              "          if (!dataTable) return;\n",
              "\n",
              "          const docLinkHtml = 'Like what you see? Visit the ' +\n",
              "            '<a target=\"_blank\" href=https://colab.research.google.com/notebooks/data_table.ipynb>data table notebook</a>'\n",
              "            + ' to learn more about interactive tables.';\n",
              "          element.innerHTML = '';\n",
              "          dataTable['output_type'] = 'display_data';\n",
              "          await google.colab.output.renderOutput(dataTable, element);\n",
              "          const docLink = document.createElement('div');\n",
              "          docLink.innerHTML = docLinkHtml;\n",
              "          element.appendChild(docLink);\n",
              "        }\n",
              "      </script>\n",
              "    </div>\n",
              "  </div>\n",
              "  "
            ]
          },
          "metadata": {},
          "execution_count": 31
        }
      ]
    },
    {
      "cell_type": "markdown",
      "source": [
        "# Model Evaluation"
      ],
      "metadata": {
        "id": "f2WZrYhnTYt8"
      }
    },
    {
      "cell_type": "code",
      "source": [
        "from sklearn.metrics import mean_squared_error\n",
        "from statsmodels.tools.eval_measures import rmse"
      ],
      "metadata": {
        "id": "Q0jLAFgfS-8n"
      },
      "execution_count": 33,
      "outputs": []
    },
    {
      "cell_type": "code",
      "source": [
        "mse = mean_squared_error(test_df['PCEX'],pred)\n",
        "rmser = rmse(test_df['PCEX'],pred)\n",
        "\n",
        "print(f'mean_squared_error : {mse}')\n",
        "print(f'root_mean_squared_error: {rmser}')"
      ],
      "metadata": {
        "colab": {
          "base_uri": "https://localhost:8080/"
        },
        "id": "-gbmm_szTmAL",
        "outputId": "1602041a-f2fc-4c26-8962-7ef9f787598f"
      },
      "execution_count": 34,
      "outputs": [
        {
          "output_type": "stream",
          "name": "stdout",
          "text": [
            "mean_squared_error : 3321270782.9835477\n",
            "root_mean_squared_error: 57630.46748885131\n"
          ]
        }
      ]
    },
    {
      "cell_type": "markdown",
      "source": [
        "# Conclusions\n",
        "\n",
        "Our forecasting did some pretty good job even though it could not go with more precision into the second year of the forecasting period.  In predicting consumption, one should not rely majorly on ARIMA model alone because there are certain exogenous factors that influence consumption decisions such as, government policy in terms of taxes, unemployment allowance, and others; personal disposable income, consumer confidence etc.  These factors, when included into the model can ensure a more precise forecasting of the estimates.\n",
        "\n",
        "Thanks for reading."
      ],
      "metadata": {
        "id": "LLhdMbobVX0i"
      }
    }
  ]
}