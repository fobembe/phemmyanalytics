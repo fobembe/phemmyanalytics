{
  "nbformat": 4,
  "nbformat_minor": 0,
  "metadata": {
    "colab": {
      "name": "Untitled31.ipynb",
      "provenance": [],
      "collapsed_sections": []
    },
    "kernelspec": {
      "name": "python3",
      "display_name": "Python 3"
    }
  },
  "cells": [
    {
      "cell_type": "code",
      "metadata": {
        "id": "tvTsb6Cjg5T9",
        "colab_type": "code",
        "colab": {
          "base_uri": "https://localhost:8080/",
          "height": 50
        },
        "outputId": "9bc25958-1e63-4545-e112-eb5ae54bdf09"
      },
      "source": [
        "import numpy as np\n",
        "import pandas as pd\n",
        "import pandas_datareader.data as web\n",
        "import matplotlib.pyplot as plt\n",
        "from sklearn.preprocessing import MinMaxScaler\n",
        "from keras.models import Sequential\n",
        "from keras.layers import Dense\n",
        "from keras.layers import LSTM\n",
        "from keras.layers import Dropout\n",
        "import math\n",
        "import warnings\n",
        "warnings.filterwarnings('ignore')"
      ],
      "execution_count": 2,
      "outputs": [
        {
          "output_type": "stream",
          "text": [
            "/usr/local/lib/python3.6/dist-packages/pandas_datareader/compat/__init__.py:7: FutureWarning: pandas.util.testing is deprecated. Use the functions in the public API at pandas.testing instead.\n",
            "  from pandas.util.testing import assert_frame_equal\n"
          ],
          "name": "stderr"
        }
      ]
    },
    {
      "cell_type": "code",
      "metadata": {
        "id": "w9hCkFKQhQse",
        "colab_type": "code",
        "colab": {}
      },
      "source": [
        "data = pd.read_csv('tesla.csv')"
      ],
      "execution_count": 3,
      "outputs": []
    },
    {
      "cell_type": "code",
      "metadata": {
        "id": "tYfkas2XhnR1",
        "colab_type": "code",
        "colab": {
          "base_uri": "https://localhost:8080/",
          "height": 190
        },
        "outputId": "158e0438-bdad-4360-eff7-706c0175dab3"
      },
      "source": [
        "data.head()"
      ],
      "execution_count": 4,
      "outputs": [
        {
          "output_type": "execute_result",
          "data": {
            "text/html": [
              "<div>\n",
              "<style scoped>\n",
              "    .dataframe tbody tr th:only-of-type {\n",
              "        vertical-align: middle;\n",
              "    }\n",
              "\n",
              "    .dataframe tbody tr th {\n",
              "        vertical-align: top;\n",
              "    }\n",
              "\n",
              "    .dataframe thead th {\n",
              "        text-align: right;\n",
              "    }\n",
              "</style>\n",
              "<table border=\"1\" class=\"dataframe\">\n",
              "  <thead>\n",
              "    <tr style=\"text-align: right;\">\n",
              "      <th></th>\n",
              "      <th>Date</th>\n",
              "      <th>Open</th>\n",
              "      <th>High</th>\n",
              "      <th>Low</th>\n",
              "      <th>Close</th>\n",
              "      <th>Adj Close</th>\n",
              "      <th>Volume</th>\n",
              "    </tr>\n",
              "  </thead>\n",
              "  <tbody>\n",
              "    <tr>\n",
              "      <th>0</th>\n",
              "      <td>1/2/2015</td>\n",
              "      <td>222.869995</td>\n",
              "      <td>223.250000</td>\n",
              "      <td>213.259995</td>\n",
              "      <td>219.309998</td>\n",
              "      <td>219.309998</td>\n",
              "      <td>4764400</td>\n",
              "    </tr>\n",
              "    <tr>\n",
              "      <th>1</th>\n",
              "      <td>1/5/2015</td>\n",
              "      <td>214.550003</td>\n",
              "      <td>216.500000</td>\n",
              "      <td>207.160004</td>\n",
              "      <td>210.089996</td>\n",
              "      <td>210.089996</td>\n",
              "      <td>5368500</td>\n",
              "    </tr>\n",
              "    <tr>\n",
              "      <th>2</th>\n",
              "      <td>1/6/2015</td>\n",
              "      <td>210.059998</td>\n",
              "      <td>214.199997</td>\n",
              "      <td>204.210007</td>\n",
              "      <td>211.279999</td>\n",
              "      <td>211.279999</td>\n",
              "      <td>6261900</td>\n",
              "    </tr>\n",
              "    <tr>\n",
              "      <th>3</th>\n",
              "      <td>1/7/2015</td>\n",
              "      <td>213.350006</td>\n",
              "      <td>214.779999</td>\n",
              "      <td>209.779999</td>\n",
              "      <td>210.949997</td>\n",
              "      <td>210.949997</td>\n",
              "      <td>2968400</td>\n",
              "    </tr>\n",
              "    <tr>\n",
              "      <th>4</th>\n",
              "      <td>1/8/2015</td>\n",
              "      <td>212.809998</td>\n",
              "      <td>213.800003</td>\n",
              "      <td>210.009995</td>\n",
              "      <td>210.619995</td>\n",
              "      <td>210.619995</td>\n",
              "      <td>3442500</td>\n",
              "    </tr>\n",
              "  </tbody>\n",
              "</table>\n",
              "</div>"
            ],
            "text/plain": [
              "       Date        Open        High  ...       Close   Adj Close   Volume\n",
              "0  1/2/2015  222.869995  223.250000  ...  219.309998  219.309998  4764400\n",
              "1  1/5/2015  214.550003  216.500000  ...  210.089996  210.089996  5368500\n",
              "2  1/6/2015  210.059998  214.199997  ...  211.279999  211.279999  6261900\n",
              "3  1/7/2015  213.350006  214.779999  ...  210.949997  210.949997  2968400\n",
              "4  1/8/2015  212.809998  213.800003  ...  210.619995  210.619995  3442500\n",
              "\n",
              "[5 rows x 7 columns]"
            ]
          },
          "metadata": {
            "tags": []
          },
          "execution_count": 4
        }
      ]
    },
    {
      "cell_type": "code",
      "metadata": {
        "id": "ZrKcPpoShpfz",
        "colab_type": "code",
        "colab": {
          "base_uri": "https://localhost:8080/",
          "height": 33
        },
        "outputId": "bf0edb5a-f5bf-4f1e-8253-f4d9960fae39"
      },
      "source": [
        "data.shape"
      ],
      "execution_count": 5,
      "outputs": [
        {
          "output_type": "execute_result",
          "data": {
            "text/plain": [
              "(1404, 7)"
            ]
          },
          "metadata": {
            "tags": []
          },
          "execution_count": 5
        }
      ]
    },
    {
      "cell_type": "code",
      "metadata": {
        "id": "arCslR8WhrT7",
        "colab_type": "code",
        "colab": {}
      },
      "source": [
        "data = data.iloc[:,4:5]"
      ],
      "execution_count": 6,
      "outputs": []
    },
    {
      "cell_type": "code",
      "metadata": {
        "id": "yG6kQea2h9Aa",
        "colab_type": "code",
        "colab": {
          "base_uri": "https://localhost:8080/",
          "height": 190
        },
        "outputId": "4ba67259-cff6-41e7-a390-9793ca893d2f"
      },
      "source": [
        "data.head()"
      ],
      "execution_count": 7,
      "outputs": [
        {
          "output_type": "execute_result",
          "data": {
            "text/html": [
              "<div>\n",
              "<style scoped>\n",
              "    .dataframe tbody tr th:only-of-type {\n",
              "        vertical-align: middle;\n",
              "    }\n",
              "\n",
              "    .dataframe tbody tr th {\n",
              "        vertical-align: top;\n",
              "    }\n",
              "\n",
              "    .dataframe thead th {\n",
              "        text-align: right;\n",
              "    }\n",
              "</style>\n",
              "<table border=\"1\" class=\"dataframe\">\n",
              "  <thead>\n",
              "    <tr style=\"text-align: right;\">\n",
              "      <th></th>\n",
              "      <th>Close</th>\n",
              "    </tr>\n",
              "  </thead>\n",
              "  <tbody>\n",
              "    <tr>\n",
              "      <th>0</th>\n",
              "      <td>219.309998</td>\n",
              "    </tr>\n",
              "    <tr>\n",
              "      <th>1</th>\n",
              "      <td>210.089996</td>\n",
              "    </tr>\n",
              "    <tr>\n",
              "      <th>2</th>\n",
              "      <td>211.279999</td>\n",
              "    </tr>\n",
              "    <tr>\n",
              "      <th>3</th>\n",
              "      <td>210.949997</td>\n",
              "    </tr>\n",
              "    <tr>\n",
              "      <th>4</th>\n",
              "      <td>210.619995</td>\n",
              "    </tr>\n",
              "  </tbody>\n",
              "</table>\n",
              "</div>"
            ],
            "text/plain": [
              "        Close\n",
              "0  219.309998\n",
              "1  210.089996\n",
              "2  211.279999\n",
              "3  210.949997\n",
              "4  210.619995"
            ]
          },
          "metadata": {
            "tags": []
          },
          "execution_count": 7
        }
      ]
    },
    {
      "cell_type": "code",
      "metadata": {
        "id": "fXnkJK4Kh-uT",
        "colab_type": "code",
        "colab": {
          "base_uri": "https://localhost:8080/",
          "height": 151
        },
        "outputId": "a11c6598-b0ad-4880-eca0-306de1a61ec6"
      },
      "source": [
        "data.info()"
      ],
      "execution_count": 8,
      "outputs": [
        {
          "output_type": "stream",
          "text": [
            "<class 'pandas.core.frame.DataFrame'>\n",
            "RangeIndex: 1404 entries, 0 to 1403\n",
            "Data columns (total 1 columns):\n",
            " #   Column  Non-Null Count  Dtype  \n",
            "---  ------  --------------  -----  \n",
            " 0   Close   1404 non-null   float64\n",
            "dtypes: float64(1)\n",
            "memory usage: 11.1 KB\n"
          ],
          "name": "stdout"
        }
      ]
    },
    {
      "cell_type": "code",
      "metadata": {
        "id": "2PPJzOJhiRsl",
        "colab_type": "code",
        "colab": {}
      },
      "source": [
        "train_df = data.iloc[:1000,:].values"
      ],
      "execution_count": 9,
      "outputs": []
    },
    {
      "cell_type": "code",
      "metadata": {
        "id": "uo87iaejikVW",
        "colab_type": "code",
        "colab": {
          "base_uri": "https://localhost:8080/",
          "height": 33
        },
        "outputId": "59962ba9-183c-4436-f625-ed25ddafbcc7"
      },
      "source": [
        "train_df.shape"
      ],
      "execution_count": 10,
      "outputs": [
        {
          "output_type": "execute_result",
          "data": {
            "text/plain": [
              "(1000, 1)"
            ]
          },
          "metadata": {
            "tags": []
          },
          "execution_count": 10
        }
      ]
    },
    {
      "cell_type": "code",
      "metadata": {
        "id": "OWKgTJWDim7V",
        "colab_type": "code",
        "colab": {}
      },
      "source": [
        "scaler = MinMaxScaler(feature_range=(0,1))\n",
        "train_df = scaler.fit_transform(train_df)"
      ],
      "execution_count": 11,
      "outputs": []
    },
    {
      "cell_type": "code",
      "metadata": {
        "id": "26SxOJTfjAea",
        "colab_type": "code",
        "colab": {
          "base_uri": "https://localhost:8080/",
          "height": 33
        },
        "outputId": "c4ff2cd0-0eb7-43bb-b14c-51f2a5d91641"
      },
      "source": [
        "train_df.shape"
      ],
      "execution_count": 12,
      "outputs": [
        {
          "output_type": "execute_result",
          "data": {
            "text/plain": [
              "(1000, 1)"
            ]
          },
          "metadata": {
            "tags": []
          },
          "execution_count": 12
        }
      ]
    },
    {
      "cell_type": "code",
      "metadata": {
        "id": "VoRPF1JOjCaQ",
        "colab_type": "code",
        "colab": {}
      },
      "source": [
        "#Preparing the data for LSTM\n",
        "x_train = []\n",
        "y_train = []\n",
        "for i in range(60,1000):\n",
        "  x_train.append(train_df[i-60:i,0])\n",
        "  y_train.append(train_df[i,0])\n",
        "\n",
        "x_train,y_train = np.array(x_train), np.array(y_train)"
      ],
      "execution_count": 13,
      "outputs": []
    },
    {
      "cell_type": "code",
      "metadata": {
        "id": "u2Xt6GnVjzDw",
        "colab_type": "code",
        "colab": {}
      },
      "source": [
        "#Reshape for LSTM\n",
        "\n",
        "x_train = np.reshape(x_train, (x_train.shape[0],x_train.shape[1],1))"
      ],
      "execution_count": 14,
      "outputs": []
    },
    {
      "cell_type": "code",
      "metadata": {
        "id": "VZV8SzVbkFhk",
        "colab_type": "code",
        "colab": {
          "base_uri": "https://localhost:8080/",
          "height": 33
        },
        "outputId": "2b9c94a8-244d-4cda-ad04-52b7e06801cc"
      },
      "source": [
        "x_train.shape"
      ],
      "execution_count": 15,
      "outputs": [
        {
          "output_type": "execute_result",
          "data": {
            "text/plain": [
              "(940, 60, 1)"
            ]
          },
          "metadata": {
            "tags": []
          },
          "execution_count": 15
        }
      ]
    },
    {
      "cell_type": "code",
      "metadata": {
        "id": "ZYbDXYgwkHVH",
        "colab_type": "code",
        "colab": {}
      },
      "source": [
        "model = Sequential()\n",
        "\n",
        "model.add(LSTM(units=60,return_sequences=True, input_shape=(x_train.shape[1],1)))\n",
        "model.add(Dropout(0.2))\n",
        "\n",
        "model.add(LSTM(units=60,return_sequences=True))\n",
        "model.add(Dropout(0.2))\n",
        "\n",
        "model.add(LSTM(units=80,return_sequences=True))\n",
        "model.add(Dropout(0.2))\n",
        "\n",
        "model.add(LSTM(units=1200))\n",
        "model.add(Dropout(0.2))\n",
        "\n",
        "model.add(Dense(units=1))\n",
        "\n",
        "model.compile(optimizer ='adam', loss='mean_squared_error')"
      ],
      "execution_count": 16,
      "outputs": []
    },
    {
      "cell_type": "code",
      "metadata": {
        "id": "6iC5nz16lpnl",
        "colab_type": "code",
        "colab": {
          "base_uri": "https://localhost:8080/",
          "height": 1000
        },
        "outputId": "e27e9d37-3c1c-41d5-c097-6c8213ecc2ba"
      },
      "source": [
        "#Fitting the model\n",
        "\n",
        "hist = model.fit(x_train,y_train,epochs=100,batch_size=32)"
      ],
      "execution_count": 17,
      "outputs": [
        {
          "output_type": "stream",
          "text": [
            "Epoch 1/100\n",
            "30/30 [==============================] - 77s 3s/step - loss: 3.0657\n",
            "Epoch 2/100\n",
            "30/30 [==============================] - 77s 3s/step - loss: 0.0323\n",
            "Epoch 3/100\n",
            "30/30 [==============================] - 77s 3s/step - loss: 0.0133\n",
            "Epoch 4/100\n",
            "30/30 [==============================] - 76s 3s/step - loss: 0.0120\n",
            "Epoch 5/100\n",
            "30/30 [==============================] - 77s 3s/step - loss: 0.0116\n",
            "Epoch 6/100\n",
            "30/30 [==============================] - 76s 3s/step - loss: 0.0117\n",
            "Epoch 7/100\n",
            "30/30 [==============================] - 76s 3s/step - loss: 0.0117\n",
            "Epoch 8/100\n",
            "30/30 [==============================] - 77s 3s/step - loss: 0.0121\n",
            "Epoch 9/100\n",
            "30/30 [==============================] - 77s 3s/step - loss: 0.0107\n",
            "Epoch 10/100\n",
            "30/30 [==============================] - 77s 3s/step - loss: 0.0104\n",
            "Epoch 11/100\n",
            "30/30 [==============================] - 78s 3s/step - loss: 0.0104\n",
            "Epoch 12/100\n",
            "30/30 [==============================] - 77s 3s/step - loss: 0.0099\n",
            "Epoch 13/100\n",
            "30/30 [==============================] - 78s 3s/step - loss: 0.0098\n",
            "Epoch 14/100\n",
            "30/30 [==============================] - 77s 3s/step - loss: 0.0099\n",
            "Epoch 15/100\n",
            "30/30 [==============================] - 78s 3s/step - loss: 0.0099\n",
            "Epoch 16/100\n",
            "30/30 [==============================] - 78s 3s/step - loss: 0.0094\n",
            "Epoch 17/100\n",
            "30/30 [==============================] - 78s 3s/step - loss: 0.0090\n",
            "Epoch 18/100\n",
            "30/30 [==============================] - 78s 3s/step - loss: 0.0091\n",
            "Epoch 19/100\n",
            "30/30 [==============================] - 77s 3s/step - loss: 0.0087\n",
            "Epoch 20/100\n",
            "30/30 [==============================] - 77s 3s/step - loss: 0.0087\n",
            "Epoch 21/100\n",
            "30/30 [==============================] - 77s 3s/step - loss: 0.0094\n",
            "Epoch 22/100\n",
            "30/30 [==============================] - 77s 3s/step - loss: 0.0086\n",
            "Epoch 23/100\n",
            "30/30 [==============================] - 76s 3s/step - loss: 0.0086\n",
            "Epoch 24/100\n",
            "30/30 [==============================] - 75s 2s/step - loss: 0.0081\n",
            "Epoch 25/100\n",
            "30/30 [==============================] - 75s 3s/step - loss: 0.0083\n",
            "Epoch 26/100\n",
            "30/30 [==============================] - 77s 3s/step - loss: 0.0079\n",
            "Epoch 27/100\n",
            "30/30 [==============================] - 75s 3s/step - loss: 0.0076\n",
            "Epoch 28/100\n",
            "30/30 [==============================] - 76s 3s/step - loss: 0.0079\n",
            "Epoch 29/100\n",
            "30/30 [==============================] - 78s 3s/step - loss: 0.0075\n",
            "Epoch 30/100\n",
            "30/30 [==============================] - 76s 3s/step - loss: 0.0074\n",
            "Epoch 31/100\n",
            "30/30 [==============================] - 75s 3s/step - loss: 0.0070\n",
            "Epoch 32/100\n",
            "30/30 [==============================] - 78s 3s/step - loss: 0.0066\n",
            "Epoch 33/100\n",
            "30/30 [==============================] - 78s 3s/step - loss: 0.0064\n",
            "Epoch 34/100\n",
            "30/30 [==============================] - 79s 3s/step - loss: 0.0066\n",
            "Epoch 35/100\n",
            "30/30 [==============================] - 79s 3s/step - loss: 0.0061\n",
            "Epoch 36/100\n",
            "30/30 [==============================] - 78s 3s/step - loss: 0.0058\n",
            "Epoch 37/100\n",
            "30/30 [==============================] - 80s 3s/step - loss: 0.0065\n",
            "Epoch 38/100\n",
            "30/30 [==============================] - 80s 3s/step - loss: 0.0057\n",
            "Epoch 39/100\n",
            "30/30 [==============================] - 79s 3s/step - loss: 0.0059\n",
            "Epoch 40/100\n",
            "30/30 [==============================] - 78s 3s/step - loss: 0.0060\n",
            "Epoch 41/100\n",
            "30/30 [==============================] - 79s 3s/step - loss: 0.0052\n",
            "Epoch 42/100\n",
            "30/30 [==============================] - 78s 3s/step - loss: 0.0052\n",
            "Epoch 43/100\n",
            "30/30 [==============================] - 76s 3s/step - loss: 0.0054\n",
            "Epoch 44/100\n",
            "30/30 [==============================] - 76s 3s/step - loss: 0.0049\n",
            "Epoch 45/100\n",
            "30/30 [==============================] - 76s 3s/step - loss: 0.0050\n",
            "Epoch 46/100\n",
            "30/30 [==============================] - 75s 3s/step - loss: 0.0047\n",
            "Epoch 47/100\n",
            "30/30 [==============================] - 77s 3s/step - loss: 0.0048\n",
            "Epoch 48/100\n",
            "30/30 [==============================] - 76s 3s/step - loss: 0.0048\n",
            "Epoch 49/100\n",
            "30/30 [==============================] - 76s 3s/step - loss: 0.0048\n",
            "Epoch 50/100\n",
            "30/30 [==============================] - 75s 2s/step - loss: 0.0046\n",
            "Epoch 51/100\n",
            "30/30 [==============================] - 75s 3s/step - loss: 0.0044\n",
            "Epoch 52/100\n",
            "30/30 [==============================] - 76s 3s/step - loss: 0.0045\n",
            "Epoch 53/100\n",
            "30/30 [==============================] - 76s 3s/step - loss: 0.0047\n",
            "Epoch 54/100\n",
            "30/30 [==============================] - 76s 3s/step - loss: 0.0044\n",
            "Epoch 55/100\n",
            "30/30 [==============================] - 75s 3s/step - loss: 0.0042\n",
            "Epoch 56/100\n",
            "30/30 [==============================] - 78s 3s/step - loss: 0.0041\n",
            "Epoch 57/100\n",
            "30/30 [==============================] - 77s 3s/step - loss: 0.0041\n",
            "Epoch 58/100\n",
            "30/30 [==============================] - 75s 2s/step - loss: 0.0042\n",
            "Epoch 59/100\n",
            "30/30 [==============================] - 75s 2s/step - loss: 0.0038\n",
            "Epoch 60/100\n",
            "30/30 [==============================] - 77s 3s/step - loss: 0.0038\n",
            "Epoch 61/100\n",
            "30/30 [==============================] - 78s 3s/step - loss: 0.0038\n",
            "Epoch 62/100\n",
            "30/30 [==============================] - 76s 3s/step - loss: 0.0037\n",
            "Epoch 63/100\n",
            "30/30 [==============================] - 79s 3s/step - loss: 0.0036\n",
            "Epoch 64/100\n",
            "30/30 [==============================] - 79s 3s/step - loss: 0.0039\n",
            "Epoch 65/100\n",
            "30/30 [==============================] - 79s 3s/step - loss: 0.0036\n",
            "Epoch 66/100\n",
            "30/30 [==============================] - 77s 3s/step - loss: 0.0037\n",
            "Epoch 67/100\n",
            "30/30 [==============================] - 77s 3s/step - loss: 0.0038\n",
            "Epoch 68/100\n",
            "30/30 [==============================] - 78s 3s/step - loss: 0.0035\n",
            "Epoch 69/100\n",
            "30/30 [==============================] - 77s 3s/step - loss: 0.0034\n",
            "Epoch 70/100\n",
            "30/30 [==============================] - 77s 3s/step - loss: 0.0036\n",
            "Epoch 71/100\n",
            "30/30 [==============================] - 77s 3s/step - loss: 0.0035\n",
            "Epoch 72/100\n",
            "30/30 [==============================] - 76s 3s/step - loss: 0.0034\n",
            "Epoch 73/100\n",
            "30/30 [==============================] - 77s 3s/step - loss: 0.0035\n",
            "Epoch 74/100\n",
            "30/30 [==============================] - 77s 3s/step - loss: 0.0033\n",
            "Epoch 75/100\n",
            "30/30 [==============================] - 78s 3s/step - loss: 0.0035\n",
            "Epoch 76/100\n",
            "30/30 [==============================] - 78s 3s/step - loss: 0.0034\n",
            "Epoch 77/100\n",
            "30/30 [==============================] - 77s 3s/step - loss: 0.0033\n",
            "Epoch 78/100\n",
            "30/30 [==============================] - 77s 3s/step - loss: 0.0033\n",
            "Epoch 79/100\n",
            "30/30 [==============================] - 77s 3s/step - loss: 0.0032\n",
            "Epoch 80/100\n",
            "30/30 [==============================] - 78s 3s/step - loss: 0.0032\n",
            "Epoch 81/100\n",
            "30/30 [==============================] - 76s 3s/step - loss: 0.0034\n",
            "Epoch 82/100\n",
            "30/30 [==============================] - 76s 3s/step - loss: 0.0034\n",
            "Epoch 83/100\n",
            "30/30 [==============================] - 77s 3s/step - loss: 0.0032\n",
            "Epoch 84/100\n",
            "30/30 [==============================] - 77s 3s/step - loss: 0.0033\n",
            "Epoch 85/100\n",
            "30/30 [==============================] - 76s 3s/step - loss: 0.0032\n",
            "Epoch 86/100\n",
            "30/30 [==============================] - 77s 3s/step - loss: 0.0030\n",
            "Epoch 87/100\n",
            "30/30 [==============================] - 77s 3s/step - loss: 0.0030\n",
            "Epoch 88/100\n",
            "30/30 [==============================] - 75s 3s/step - loss: 0.0030\n",
            "Epoch 89/100\n",
            "30/30 [==============================] - 75s 3s/step - loss: 0.0032\n",
            "Epoch 90/100\n",
            "30/30 [==============================] - 77s 3s/step - loss: 0.0027\n",
            "Epoch 91/100\n",
            "30/30 [==============================] - 75s 2s/step - loss: 0.0032\n",
            "Epoch 92/100\n",
            "30/30 [==============================] - 75s 3s/step - loss: 0.0033\n",
            "Epoch 93/100\n",
            "30/30 [==============================] - 76s 3s/step - loss: 0.0029\n",
            "Epoch 94/100\n",
            "30/30 [==============================] - 76s 3s/step - loss: 0.0029\n",
            "Epoch 95/100\n",
            "30/30 [==============================] - 78s 3s/step - loss: 0.0032\n",
            "Epoch 96/100\n",
            "30/30 [==============================] - 78s 3s/step - loss: 0.0028\n",
            "Epoch 97/100\n",
            "30/30 [==============================] - 78s 3s/step - loss: 0.0027\n",
            "Epoch 98/100\n",
            "30/30 [==============================] - 79s 3s/step - loss: 0.0025\n",
            "Epoch 99/100\n",
            "30/30 [==============================] - 78s 3s/step - loss: 0.0028\n",
            "Epoch 100/100\n",
            "30/30 [==============================] - 78s 3s/step - loss: 0.0028\n"
          ],
          "name": "stdout"
        }
      ]
    },
    {
      "cell_type": "code",
      "metadata": {
        "id": "fEM8Mfrpl5J6",
        "colab_type": "code",
        "colab": {
          "base_uri": "https://localhost:8080/",
          "height": 295
        },
        "outputId": "87d7b8cf-e5b1-4995-c7f3-c65828b1603e"
      },
      "source": [
        "#Plot the training Loss\n",
        "\n",
        "plt.plot(hist.history['loss'])\n",
        "plt.title('model loss')\n",
        "plt.ylabel('loss')\n",
        "plt.xlabel('epoch')\n",
        "plt.legend(['train'],loc='upper right')\n",
        "plt.show()"
      ],
      "execution_count": 18,
      "outputs": [
        {
          "output_type": "display_data",
          "data": {
            "image/png": "[encoded data removed]",
            "text/plain": [
              "<Figure size 432x288 with 1 Axes>"
            ]
          },
          "metadata": {
            "tags": [],
            "needs_background": "light"
          }
        }
      ]
    },
    {
      "cell_type": "code",
      "metadata": {
        "id": "gOOrFymDtnwU",
        "colab_type": "code",
        "colab": {}
      },
      "source": [
        "train_data = data.iloc[:1000,:]\n",
        "test_data = data.iloc[1000:,:]\n",
        "total_data = pd.concat((train_data,test_data),axis=0)"
      ],
      "execution_count": 19,
      "outputs": []
    },
    {
      "cell_type": "code",
      "metadata": {
        "id": "63qv5e2PuZZC",
        "colab_type": "code",
        "colab": {}
      },
      "source": [
        "inputs = total_data[len(total_data)-len(test_data)-60:].values"
      ],
      "execution_count": 20,
      "outputs": []
    },
    {
      "cell_type": "code",
      "metadata": {
        "id": "cZwH_d3wuvM1",
        "colab_type": "code",
        "colab": {
          "base_uri": "https://localhost:8080/",
          "height": 33
        },
        "outputId": "38024a77-79e8-461e-862b-b175dd793d79"
      },
      "source": [
        "inputs.shape"
      ],
      "execution_count": 21,
      "outputs": [
        {
          "output_type": "execute_result",
          "data": {
            "text/plain": [
              "(464, 1)"
            ]
          },
          "metadata": {
            "tags": []
          },
          "execution_count": 21
        }
      ]
    },
    {
      "cell_type": "code",
      "metadata": {
        "id": "cnRDy_dsuy1i",
        "colab_type": "code",
        "colab": {}
      },
      "source": [
        "inputs = inputs.reshape(-1,1)"
      ],
      "execution_count": 22,
      "outputs": []
    },
    {
      "cell_type": "code",
      "metadata": {
        "id": "IoUysoS6vFzN",
        "colab_type": "code",
        "colab": {}
      },
      "source": [
        "inputs = scaler.transform(inputs)"
      ],
      "execution_count": 23,
      "outputs": []
    },
    {
      "cell_type": "code",
      "metadata": {
        "id": "-JNZJT4kvK7K",
        "colab_type": "code",
        "colab": {}
      },
      "source": [
        "x_test = []\n",
        "for i in range(60,464):\n",
        "  x_test.append(inputs[i-60:i,0])"
      ],
      "execution_count": 24,
      "outputs": []
    },
    {
      "cell_type": "code",
      "metadata": {
        "id": "CSLKTWR5v4uE",
        "colab_type": "code",
        "colab": {}
      },
      "source": [
        "x_test = np.array(x_test)\n",
        "x_test = np.reshape(x_test,(x_test.shape[0],x_test.shape[1],1))"
      ],
      "execution_count": 25,
      "outputs": []
    },
    {
      "cell_type": "code",
      "metadata": {
        "id": "oFMiiUzrwLwL",
        "colab_type": "code",
        "colab": {
          "base_uri": "https://localhost:8080/",
          "height": 33
        },
        "outputId": "7cd63cf9-e7f3-4e95-e5aa-d18a7b9deb02"
      },
      "source": [
        "x_test.shape"
      ],
      "execution_count": 26,
      "outputs": [
        {
          "output_type": "execute_result",
          "data": {
            "text/plain": [
              "(404, 60, 1)"
            ]
          },
          "metadata": {
            "tags": []
          },
          "execution_count": 26
        }
      ]
    },
    {
      "cell_type": "code",
      "metadata": {
        "id": "SDDG9WXlwNZW",
        "colab_type": "code",
        "colab": {}
      },
      "source": [
        "#Make Predictions\n",
        "\n",
        "predicted_price = model.predict(x_test)\n",
        "predicted_price = scaler.inverse_transform(predicted_price)"
      ],
      "execution_count": 27,
      "outputs": []
    },
    {
      "cell_type": "code",
      "metadata": {
        "id": "UuLxv5O1xQZ4",
        "colab_type": "code",
        "colab": {
          "base_uri": "https://localhost:8080/",
          "height": 512
        },
        "outputId": "e393d6ab-1a8f-4f45-c637-9a5b0c580e15"
      },
      "source": [
        "#Visualization\n",
        "\n",
        "train = data[:1000]\n",
        "valid = data[1000:]\n",
        "valid['predicted']=predicted_price\n",
        "plt.figure(figsize=(16,8))\n",
        "plt.title('Model')\n",
        "plt.ylabel('Close price ($)')\n",
        "plt.xlabel('Time Period')\n",
        "plt.plot(train['Close'])\n",
        "plt.plot(valid[['Close','predicted']])\n",
        "plt.legend(['Train','Val','predicted'],loc='lower right')\n",
        "plt.show()"
      ],
      "execution_count": 28,
      "outputs": [
        {
          "output_type": "display_data",
          "data": {
            "image/png": "[encoded data removed]",
            "text/plain": [
              "<Figure size 1152x576 with 1 Axes>"
            ]
          },
          "metadata": {
            "tags": [],
            "needs_background": "light"
          }
        }
      ]
    },
    {
      "cell_type": "code",
      "metadata": {
        "id": "PGs4OWY1zEUA",
        "colab_type": "code",
        "colab": {
          "base_uri": "https://localhost:8080/",
          "height": 252
        },
        "outputId": "56914716-70ff-45d2-a7a8-843a52200080"
      },
      "source": [
        "print(valid)"
      ],
      "execution_count": 29,
      "outputs": [
        {
          "output_type": "stream",
          "text": [
            "            Close   predicted\n",
            "1000   319.769989  319.213348\n",
            "1001   295.390015  314.549286\n",
            "1002   326.089996  306.380005\n",
            "1003   316.130005  308.197510\n",
            "1004   333.869995  310.848938\n",
            "...           ...         ...\n",
            "1399  1417.000000  951.196350\n",
            "1400  1539.599976  914.850769\n",
            "1401  1476.489990  939.435303\n",
            "1402  1499.109985  922.755310\n",
            "1403  1487.489990  925.590942\n",
            "\n",
            "[404 rows x 2 columns]\n"
          ],
          "name": "stdout"
        }
      ]
    },
    {
      "cell_type": "code",
      "metadata": {
        "id": "SLGiRKd21YGN",
        "colab_type": "code",
        "colab": {}
      },
      "source": [
        ""
      ],
      "execution_count": 29,
      "outputs": []
    }
  ]
}