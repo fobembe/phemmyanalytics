{
  "nbformat": 4,
  "nbformat_minor": 0,
  "metadata": {
    "colab": {
      "name": "Untitled31.ipynb",
      "provenance": []
    },
    "kernelspec": {
      "name": "python3",
      "display_name": "Python 3"
    }
  },
  "cells": [
    {
      "cell_type": "code",
      "metadata": {
        "id": "tvTsb6Cjg5T9",
        "colab_type": "code",
        "colab": {
          "base_uri": "https://localhost:8080/",
          "height": 50
        },
        "outputId": "9a2fe0a1-b7a8-4e5d-c033-9df27341e408"
      },
      "source": [
        "import numpy as np\n",
        "import pandas as pd\n",
        "import pandas_datareader.data as web\n",
        "import matplotlib.pyplot as plt\n",
        "from sklearn.preprocessing import MinMaxScaler\n",
        "from keras.models import Sequential\n",
        "from keras.layers import Dense\n",
        "from keras.layers import LSTM\n",
        "from keras.layers import Dropout\n",
        "import math\n",
        "import warnings\n",
        "warnings.filterwarnings('ignore')"
      ],
      "execution_count": 1,
      "outputs": [
        {
          "output_type": "stream",
          "text": [
            "/usr/local/lib/python3.6/dist-packages/pandas_datareader/compat/__init__.py:7: FutureWarning: pandas.util.testing is deprecated. Use the functions in the public API at pandas.testing instead.\n",
            "  from pandas.util.testing import assert_frame_equal\n"
          ],
          "name": "stderr"
        }
      ]
    },
    {
      "cell_type": "code",
      "metadata": {
        "id": "w9hCkFKQhQse",
        "colab_type": "code",
        "colab": {}
      },
      "source": [
        "data = pd.read_csv('tesla.csv')"
      ],
      "execution_count": 2,
      "outputs": []
    },
    {
      "cell_type": "code",
      "metadata": {
        "id": "tYfkas2XhnR1",
        "colab_type": "code",
        "colab": {
          "base_uri": "https://localhost:8080/",
          "height": 190
        },
        "outputId": "f96db313-8476-4c03-d275-4b30ec7d10d0"
      },
      "source": [
        "data.head()"
      ],
      "execution_count": 3,
      "outputs": [
        {
          "output_type": "execute_result",
          "data": {
            "text/html": [
              "<div>\n",
              "<style scoped>\n",
              "    .dataframe tbody tr th:only-of-type {\n",
              "        vertical-align: middle;\n",
              "    }\n",
              "\n",
              "    .dataframe tbody tr th {\n",
              "        vertical-align: top;\n",
              "    }\n",
              "\n",
              "    .dataframe thead th {\n",
              "        text-align: right;\n",
              "    }\n",
              "</style>\n",
              "<table border=\"1\" class=\"dataframe\">\n",
              "  <thead>\n",
              "    <tr style=\"text-align: right;\">\n",
              "      <th></th>\n",
              "      <th>Date</th>\n",
              "      <th>Open</th>\n",
              "      <th>High</th>\n",
              "      <th>Low</th>\n",
              "      <th>Close</th>\n",
              "      <th>Adj Close</th>\n",
              "      <th>Volume</th>\n",
              "    </tr>\n",
              "  </thead>\n",
              "  <tbody>\n",
              "    <tr>\n",
              "      <th>0</th>\n",
              "      <td>1/2/2015</td>\n",
              "      <td>222.869995</td>\n",
              "      <td>223.250000</td>\n",
              "      <td>213.259995</td>\n",
              "      <td>219.309998</td>\n",
              "      <td>219.309998</td>\n",
              "      <td>4764400</td>\n",
              "    </tr>\n",
              "    <tr>\n",
              "      <th>1</th>\n",
              "      <td>1/5/2015</td>\n",
              "      <td>214.550003</td>\n",
              "      <td>216.500000</td>\n",
              "      <td>207.160004</td>\n",
              "      <td>210.089996</td>\n",
              "      <td>210.089996</td>\n",
              "      <td>5368500</td>\n",
              "    </tr>\n",
              "    <tr>\n",
              "      <th>2</th>\n",
              "      <td>1/6/2015</td>\n",
              "      <td>210.059998</td>\n",
              "      <td>214.199997</td>\n",
              "      <td>204.210007</td>\n",
              "      <td>211.279999</td>\n",
              "      <td>211.279999</td>\n",
              "      <td>6261900</td>\n",
              "    </tr>\n",
              "    <tr>\n",
              "      <th>3</th>\n",
              "      <td>1/7/2015</td>\n",
              "      <td>213.350006</td>\n",
              "      <td>214.779999</td>\n",
              "      <td>209.779999</td>\n",
              "      <td>210.949997</td>\n",
              "      <td>210.949997</td>\n",
              "      <td>2968400</td>\n",
              "    </tr>\n",
              "    <tr>\n",
              "      <th>4</th>\n",
              "      <td>1/8/2015</td>\n",
              "      <td>212.809998</td>\n",
              "      <td>213.800003</td>\n",
              "      <td>210.009995</td>\n",
              "      <td>210.619995</td>\n",
              "      <td>210.619995</td>\n",
              "      <td>3442500</td>\n",
              "    </tr>\n",
              "  </tbody>\n",
              "</table>\n",
              "</div>"
            ],
            "text/plain": [
              "       Date        Open        High  ...       Close   Adj Close   Volume\n",
              "0  1/2/2015  222.869995  223.250000  ...  219.309998  219.309998  4764400\n",
              "1  1/5/2015  214.550003  216.500000  ...  210.089996  210.089996  5368500\n",
              "2  1/6/2015  210.059998  214.199997  ...  211.279999  211.279999  6261900\n",
              "3  1/7/2015  213.350006  214.779999  ...  210.949997  210.949997  2968400\n",
              "4  1/8/2015  212.809998  213.800003  ...  210.619995  210.619995  3442500\n",
              "\n",
              "[5 rows x 7 columns]"
            ]
          },
          "metadata": {
            "tags": []
          },
          "execution_count": 3
        }
      ]
    },
    {
      "cell_type": "code",
      "metadata": {
        "id": "ZrKcPpoShpfz",
        "colab_type": "code",
        "colab": {
          "base_uri": "https://localhost:8080/",
          "height": 33
        },
        "outputId": "21c30886-a167-440b-8ada-231f5c162ac8"
      },
      "source": [
        "data.shape"
      ],
      "execution_count": 4,
      "outputs": [
        {
          "output_type": "execute_result",
          "data": {
            "text/plain": [
              "(1404, 7)"
            ]
          },
          "metadata": {
            "tags": []
          },
          "execution_count": 4
        }
      ]
    },
    {
      "cell_type": "code",
      "metadata": {
        "id": "arCslR8WhrT7",
        "colab_type": "code",
        "colab": {}
      },
      "source": [
        "data = data.iloc[:,4:5]"
      ],
      "execution_count": 5,
      "outputs": []
    },
    {
      "cell_type": "code",
      "metadata": {
        "id": "yG6kQea2h9Aa",
        "colab_type": "code",
        "colab": {
          "base_uri": "https://localhost:8080/",
          "height": 190
        },
        "outputId": "3c25e196-7a11-46eb-b209-1dc0e8884455"
      },
      "source": [
        "data.head()"
      ],
      "execution_count": 6,
      "outputs": [
        {
          "output_type": "execute_result",
          "data": {
            "text/html": [
              "<div>\n",
              "<style scoped>\n",
              "    .dataframe tbody tr th:only-of-type {\n",
              "        vertical-align: middle;\n",
              "    }\n",
              "\n",
              "    .dataframe tbody tr th {\n",
              "        vertical-align: top;\n",
              "    }\n",
              "\n",
              "    .dataframe thead th {\n",
              "        text-align: right;\n",
              "    }\n",
              "</style>\n",
              "<table border=\"1\" class=\"dataframe\">\n",
              "  <thead>\n",
              "    <tr style=\"text-align: right;\">\n",
              "      <th></th>\n",
              "      <th>Close</th>\n",
              "    </tr>\n",
              "  </thead>\n",
              "  <tbody>\n",
              "    <tr>\n",
              "      <th>0</th>\n",
              "      <td>219.309998</td>\n",
              "    </tr>\n",
              "    <tr>\n",
              "      <th>1</th>\n",
              "      <td>210.089996</td>\n",
              "    </tr>\n",
              "    <tr>\n",
              "      <th>2</th>\n",
              "      <td>211.279999</td>\n",
              "    </tr>\n",
              "    <tr>\n",
              "      <th>3</th>\n",
              "      <td>210.949997</td>\n",
              "    </tr>\n",
              "    <tr>\n",
              "      <th>4</th>\n",
              "      <td>210.619995</td>\n",
              "    </tr>\n",
              "  </tbody>\n",
              "</table>\n",
              "</div>"
            ],
            "text/plain": [
              "        Close\n",
              "0  219.309998\n",
              "1  210.089996\n",
              "2  211.279999\n",
              "3  210.949997\n",
              "4  210.619995"
            ]
          },
          "metadata": {
            "tags": []
          },
          "execution_count": 6
        }
      ]
    },
    {
      "cell_type": "code",
      "metadata": {
        "id": "fXnkJK4Kh-uT",
        "colab_type": "code",
        "colab": {
          "base_uri": "https://localhost:8080/",
          "height": 151
        },
        "outputId": "548ad5f6-1885-4e1c-d90d-2e9f099f1dd3"
      },
      "source": [
        "data.info()"
      ],
      "execution_count": 7,
      "outputs": [
        {
          "output_type": "stream",
          "text": [
            "<class 'pandas.core.frame.DataFrame'>\n",
            "RangeIndex: 1404 entries, 0 to 1403\n",
            "Data columns (total 1 columns):\n",
            " #   Column  Non-Null Count  Dtype  \n",
            "---  ------  --------------  -----  \n",
            " 0   Close   1404 non-null   float64\n",
            "dtypes: float64(1)\n",
            "memory usage: 11.1 KB\n"
          ],
          "name": "stdout"
        }
      ]
    },
    {
      "cell_type": "code",
      "metadata": {
        "id": "2PPJzOJhiRsl",
        "colab_type": "code",
        "colab": {}
      },
      "source": [
        "train_df = data.iloc[:1000,:].values"
      ],
      "execution_count": 8,
      "outputs": []
    },
    {
      "cell_type": "code",
      "metadata": {
        "id": "uo87iaejikVW",
        "colab_type": "code",
        "colab": {
          "base_uri": "https://localhost:8080/",
          "height": 33
        },
        "outputId": "fedc259b-a14a-4171-cb94-193676031270"
      },
      "source": [
        "train_df.shape"
      ],
      "execution_count": 9,
      "outputs": [
        {
          "output_type": "execute_result",
          "data": {
            "text/plain": [
              "(1000, 1)"
            ]
          },
          "metadata": {
            "tags": []
          },
          "execution_count": 9
        }
      ]
    },
    {
      "cell_type": "code",
      "metadata": {
        "id": "OWKgTJWDim7V",
        "colab_type": "code",
        "colab": {}
      },
      "source": [
        "scaler = MinMaxScaler(feature_range=(0,1))\n",
        "train_df = scaler.fit_transform(train_df)"
      ],
      "execution_count": 10,
      "outputs": []
    },
    {
      "cell_type": "code",
      "metadata": {
        "id": "26SxOJTfjAea",
        "colab_type": "code",
        "colab": {
          "base_uri": "https://localhost:8080/",
          "height": 33
        },
        "outputId": "f6000fb2-4741-44f8-af15-40a281cec3ba"
      },
      "source": [
        "train_df.shape"
      ],
      "execution_count": 11,
      "outputs": [
        {
          "output_type": "execute_result",
          "data": {
            "text/plain": [
              "(1000, 1)"
            ]
          },
          "metadata": {
            "tags": []
          },
          "execution_count": 11
        }
      ]
    },
    {
      "cell_type": "code",
      "metadata": {
        "id": "VoRPF1JOjCaQ",
        "colab_type": "code",
        "colab": {}
      },
      "source": [
        "#Preparing the data for LSTM\n",
        "x_train = []\n",
        "y_train = []\n",
        "for i in range(60,1000):\n",
        "  x_train.append(train_df[i-60:i,0])\n",
        "  y_train.append(train_df[i,0])\n",
        "\n",
        "x_train,y_train = np.array(x_train), np.array(y_train)"
      ],
      "execution_count": 12,
      "outputs": []
    },
    {
      "cell_type": "code",
      "metadata": {
        "id": "u2Xt6GnVjzDw",
        "colab_type": "code",
        "colab": {}
      },
      "source": [
        "#Reshape for LSTM\n",
        "\n",
        "x_train = np.reshape(x_train, (x_train.shape[0],x_train.shape[1],1))"
      ],
      "execution_count": 13,
      "outputs": []
    },
    {
      "cell_type": "code",
      "metadata": {
        "id": "VZV8SzVbkFhk",
        "colab_type": "code",
        "colab": {
          "base_uri": "https://localhost:8080/",
          "height": 33
        },
        "outputId": "30f04b97-14cf-41f2-ce82-a94019f2cc7f"
      },
      "source": [
        "x_train.shape"
      ],
      "execution_count": 14,
      "outputs": [
        {
          "output_type": "execute_result",
          "data": {
            "text/plain": [
              "(940, 60, 1)"
            ]
          },
          "metadata": {
            "tags": []
          },
          "execution_count": 14
        }
      ]
    },
    {
      "cell_type": "code",
      "metadata": {
        "id": "ZYbDXYgwkHVH",
        "colab_type": "code",
        "colab": {}
      },
      "source": [
        "model = Sequential()\n",
        "\n",
        "model.add(LSTM(units=50,return_sequences=True, input_shape=(x_train.shape[1],1)))\n",
        "model.add(Dropout(0.2))\n",
        "\n",
        "model.add(LSTM(units=50,return_sequences=True))\n",
        "model.add(Dropout(0.2))\n",
        "\n",
        "model.add(LSTM(units=50,return_sequences=True))\n",
        "model.add(Dropout(0.2))\n",
        "\n",
        "model.add(LSTM(units=50))\n",
        "model.add(Dropout(0.2))\n",
        "\n",
        "model.add(Dense(units=1))\n",
        "\n",
        "model.compile(optimizer ='adam', loss='mean_squared_error')"
      ],
      "execution_count": 15,
      "outputs": []
    },
    {
      "cell_type": "code",
      "metadata": {
        "id": "6iC5nz16lpnl",
        "colab_type": "code",
        "colab": {
          "base_uri": "https://localhost:8080/",
          "height": 1000
        },
        "outputId": "8bfab5ca-bbbf-4066-9d28-e8f263ee8bf8"
      },
      "source": [
        "#Fitting the model\n",
        "\n",
        "hist = model.fit(x_train,y_train,epochs=40,batch_size=32)"
      ],
      "execution_count": 18,
      "outputs": [
        {
          "output_type": "stream",
          "text": [
            "Epoch 1/40\n",
            "30/30 [==============================] - 3s 103ms/step - loss: 0.0042\n",
            "Epoch 2/40\n",
            "30/30 [==============================] - 3s 103ms/step - loss: 0.0043\n",
            "Epoch 3/40\n",
            "30/30 [==============================] - 3s 103ms/step - loss: 0.0042\n",
            "Epoch 4/40\n",
            "30/30 [==============================] - 3s 103ms/step - loss: 0.0046\n",
            "Epoch 5/40\n",
            "30/30 [==============================] - 3s 103ms/step - loss: 0.0041\n",
            "Epoch 6/40\n",
            "30/30 [==============================] - 3s 103ms/step - loss: 0.0040\n",
            "Epoch 7/40\n",
            "30/30 [==============================] - 3s 105ms/step - loss: 0.0045\n",
            "Epoch 8/40\n",
            "30/30 [==============================] - 3s 104ms/step - loss: 0.0046\n",
            "Epoch 9/40\n",
            "30/30 [==============================] - 3s 105ms/step - loss: 0.0038\n",
            "Epoch 10/40\n",
            "30/30 [==============================] - 3s 104ms/step - loss: 0.0040\n",
            "Epoch 11/40\n",
            "30/30 [==============================] - 3s 104ms/step - loss: 0.0039\n",
            "Epoch 12/40\n",
            "30/30 [==============================] - 3s 103ms/step - loss: 0.0038\n",
            "Epoch 13/40\n",
            "30/30 [==============================] - 3s 103ms/step - loss: 0.0038\n",
            "Epoch 14/40\n",
            "30/30 [==============================] - 3s 103ms/step - loss: 0.0037\n",
            "Epoch 15/40\n",
            "30/30 [==============================] - 3s 102ms/step - loss: 0.0039\n",
            "Epoch 16/40\n",
            "30/30 [==============================] - 3s 101ms/step - loss: 0.0036\n",
            "Epoch 17/40\n",
            "30/30 [==============================] - 3s 103ms/step - loss: 0.0036\n",
            "Epoch 18/40\n",
            "30/30 [==============================] - 3s 102ms/step - loss: 0.0037\n",
            "Epoch 19/40\n",
            "30/30 [==============================] - 3s 100ms/step - loss: 0.0034\n",
            "Epoch 20/40\n",
            "30/30 [==============================] - 3s 102ms/step - loss: 0.0035\n",
            "Epoch 21/40\n",
            "30/30 [==============================] - 3s 104ms/step - loss: 0.0034\n",
            "Epoch 22/40\n",
            "30/30 [==============================] - 3s 107ms/step - loss: 0.0035\n",
            "Epoch 23/40\n",
            "30/30 [==============================] - 3s 107ms/step - loss: 0.0032\n",
            "Epoch 24/40\n",
            "30/30 [==============================] - 3s 106ms/step - loss: 0.0032\n",
            "Epoch 25/40\n",
            "30/30 [==============================] - 3s 102ms/step - loss: 0.0032\n",
            "Epoch 26/40\n",
            "30/30 [==============================] - 3s 103ms/step - loss: 0.0034\n",
            "Epoch 27/40\n",
            "30/30 [==============================] - 3s 102ms/step - loss: 0.0038\n",
            "Epoch 28/40\n",
            "30/30 [==============================] - 3s 101ms/step - loss: 0.0032\n",
            "Epoch 29/40\n",
            "30/30 [==============================] - 3s 102ms/step - loss: 0.0030\n",
            "Epoch 30/40\n",
            "30/30 [==============================] - 3s 102ms/step - loss: 0.0032\n",
            "Epoch 31/40\n",
            "30/30 [==============================] - 3s 102ms/step - loss: 0.0029\n",
            "Epoch 32/40\n",
            "30/30 [==============================] - 3s 102ms/step - loss: 0.0032\n",
            "Epoch 33/40\n",
            "30/30 [==============================] - 3s 103ms/step - loss: 0.0031\n",
            "Epoch 34/40\n",
            "30/30 [==============================] - 3s 101ms/step - loss: 0.0030\n",
            "Epoch 35/40\n",
            "30/30 [==============================] - 3s 102ms/step - loss: 0.0030\n",
            "Epoch 36/40\n",
            "30/30 [==============================] - 3s 102ms/step - loss: 0.0027\n",
            "Epoch 37/40\n",
            "30/30 [==============================] - 3s 101ms/step - loss: 0.0032\n",
            "Epoch 38/40\n",
            "30/30 [==============================] - 3s 101ms/step - loss: 0.0032\n",
            "Epoch 39/40\n",
            "30/30 [==============================] - 3s 101ms/step - loss: 0.0030\n",
            "Epoch 40/40\n",
            "30/30 [==============================] - 3s 101ms/step - loss: 0.0028\n"
          ],
          "name": "stdout"
        }
      ]
    },
    {
      "cell_type": "code",
      "metadata": {
        "id": "fEM8Mfrpl5J6",
        "colab_type": "code",
        "colab": {
          "base_uri": "https://localhost:8080/",
          "height": 295
        },
        "outputId": "c588f3a7-ffe6-4780-fd3c-f61058dafdc2"
      },
      "source": [
        "#Plot the training Loss\n",
        "\n",
        "plt.plot(hist.history['loss'])\n",
        "plt.title('model loss')\n",
        "plt.ylabel('loss')\n",
        "plt.xlabel('epoch')\n",
        "plt.legend(['train'],loc='upper right')\n",
        "plt.show()"
      ],
      "execution_count": 20,
      "outputs": [
        {
          "output_type": "display_data",
          "data": {
            "image/png": "[encoded data removed]",
            "text/plain": [
              "<Figure size 432x288 with 1 Axes>"
            ]
          },
          "metadata": {
            "tags": [],
            "needs_background": "light"
          }
        }
      ]
    },
    {
      "cell_type": "code",
      "metadata": {
        "id": "gOOrFymDtnwU",
        "colab_type": "code",
        "colab": {}
      },
      "source": [
        "train_data = data.iloc[:1000,:]\n",
        "test_data = data.iloc[1000:,:]\n",
        "total_data = pd.concat((train_data,test_data),axis=0)"
      ],
      "execution_count": 33,
      "outputs": []
    },
    {
      "cell_type": "code",
      "metadata": {
        "id": "63qv5e2PuZZC",
        "colab_type": "code",
        "colab": {}
      },
      "source": [
        "inputs = total_data[len(total_data)-len(test_data)-60:].values"
      ],
      "execution_count": 34,
      "outputs": []
    },
    {
      "cell_type": "code",
      "metadata": {
        "id": "cZwH_d3wuvM1",
        "colab_type": "code",
        "colab": {
          "base_uri": "https://localhost:8080/",
          "height": 33
        },
        "outputId": "f081a869-7162-4f5b-fca9-d5426d510ba6"
      },
      "source": [
        "inputs.shape"
      ],
      "execution_count": 35,
      "outputs": [
        {
          "output_type": "execute_result",
          "data": {
            "text/plain": [
              "(464, 1)"
            ]
          },
          "metadata": {
            "tags": []
          },
          "execution_count": 35
        }
      ]
    },
    {
      "cell_type": "code",
      "metadata": {
        "id": "cnRDy_dsuy1i",
        "colab_type": "code",
        "colab": {}
      },
      "source": [
        "inputs = inputs.reshape(-1,1)"
      ],
      "execution_count": 36,
      "outputs": []
    },
    {
      "cell_type": "code",
      "metadata": {
        "id": "IoUysoS6vFzN",
        "colab_type": "code",
        "colab": {}
      },
      "source": [
        "inputs = scaler.transform(inputs)"
      ],
      "execution_count": 37,
      "outputs": []
    },
    {
      "cell_type": "code",
      "metadata": {
        "id": "-JNZJT4kvK7K",
        "colab_type": "code",
        "colab": {}
      },
      "source": [
        "x_test = []\n",
        "for i in range(60,464):\n",
        "  x_test.append(inputs[i-60:i,0])"
      ],
      "execution_count": 38,
      "outputs": []
    },
    {
      "cell_type": "code",
      "metadata": {
        "id": "CSLKTWR5v4uE",
        "colab_type": "code",
        "colab": {}
      },
      "source": [
        "x_test = np.array(x_test)\n",
        "x_test = np.reshape(x_test,(x_test.shape[0],x_test.shape[1],1))"
      ],
      "execution_count": 39,
      "outputs": []
    },
    {
      "cell_type": "code",
      "metadata": {
        "id": "oFMiiUzrwLwL",
        "colab_type": "code",
        "colab": {
          "base_uri": "https://localhost:8080/",
          "height": 33
        },
        "outputId": "60a550bd-089b-41e3-a606-1bab050e9fd9"
      },
      "source": [
        "x_test.shape"
      ],
      "execution_count": 40,
      "outputs": [
        {
          "output_type": "execute_result",
          "data": {
            "text/plain": [
              "(404, 60, 1)"
            ]
          },
          "metadata": {
            "tags": []
          },
          "execution_count": 40
        }
      ]
    },
    {
      "cell_type": "code",
      "metadata": {
        "id": "SDDG9WXlwNZW",
        "colab_type": "code",
        "colab": {}
      },
      "source": [
        "#Make Predictions\n",
        "\n",
        "predicted_price = model.predict(x_test)\n",
        "predicted_price = scaler.inverse_transform(predicted_price)"
      ],
      "execution_count": 41,
      "outputs": []
    },
    {
      "cell_type": "code",
      "metadata": {
        "id": "UuLxv5O1xQZ4",
        "colab_type": "code",
        "colab": {
          "base_uri": "https://localhost:8080/",
          "height": 512
        },
        "outputId": "c6c2f405-c039-4a39-d9d2-cc8149a65fdc"
      },
      "source": [
        "#Visualization\n",
        "\n",
        "train = data[:1000]\n",
        "valid = data[1000:]\n",
        "valid['predicted']=predicted_price\n",
        "plt.figure(figsize=(16,8))\n",
        "plt.title('Model')\n",
        "plt.ylabel('Close price ($)')\n",
        "plt.xlabel('Time Period')\n",
        "plt.plot(train['Close'])\n",
        "plt.plot(valid[['Close','predicted']])\n",
        "plt.legend(['Train','Val','predicted'],loc='lower right')\n",
        "plt.show()"
      ],
      "execution_count": 44,
      "outputs": [
        {
          "output_type": "display_data",
          "data": {
            "image/png": "[encoded data removed]",
            "text/plain": [
              "<Figure size 1152x576 with 1 Axes>"
            ]
          },
          "metadata": {
            "tags": [],
            "needs_background": "light"
          }
        }
      ]
    },
    {
      "cell_type": "code",
      "metadata": {
        "id": "PGs4OWY1zEUA",
        "colab_type": "code",
        "colab": {
          "base_uri": "https://localhost:8080/",
          "height": 252
        },
        "outputId": "cc137bba-575a-4b90-dfb2-a55e0337d676"
      },
      "source": [
        "print(valid)"
      ],
      "execution_count": 45,
      "outputs": [
        {
          "output_type": "stream",
          "text": [
            "            Close   predicted\n",
            "1000   319.769989  328.938171\n",
            "1001   295.390015  326.488617\n",
            "1002   326.089996  315.798187\n",
            "1003   316.130005  322.686737\n",
            "1004   333.869995  325.844757\n",
            "...           ...         ...\n",
            "1399  1417.000000  628.597717\n",
            "1400  1539.599976  700.003052\n",
            "1401  1476.489990  713.548462\n",
            "1402  1499.109985  618.447205\n",
            "1403  1487.489990  736.688843\n",
            "\n",
            "[404 rows x 2 columns]\n"
          ],
          "name": "stdout"
        }
      ]
    },
    {
      "cell_type": "code",
      "metadata": {
        "id": "SLGiRKd21YGN",
        "colab_type": "code",
        "colab": {}
      },
      "source": [
        ""
      ],
      "execution_count": null,
      "outputs": []
    }
  ]
}