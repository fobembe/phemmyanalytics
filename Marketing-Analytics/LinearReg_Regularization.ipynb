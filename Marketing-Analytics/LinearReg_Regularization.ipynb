{
 "cells": [
  {
   "cell_type": "markdown",
   "metadata": {
    "id": "rGu85Oyhfvs4"
   },
   "source": [
    "# Predicting Consumer Demand using Ridge, Lasso and ElasticCV"
   ]
  },
  {
   "cell_type": "markdown",
   "metadata": {
    "id": "CWVCbJhwgOWR"
   },
   "source": [
    "#### Import the necessary libraries and dataset"
   ]
  },
  {
   "cell_type": "code",
   "execution_count": null,
   "metadata": {
    "id": "ac2kXNFAfjCx"
   },
   "outputs": [],
   "source": [
    "import pandas as pd\n",
    "import numpy as np\n",
    "import matplotlib.pyplot as plt\n",
    "import seaborn as sns\n",
    "import warnings\n",
    "warnings.filterwarnings('ignore')"
   ]
  },
  {
   "cell_type": "code",
   "execution_count": null,
   "metadata": {
    "colab": {
     "base_uri": "https://localhost:8080/",
     "height": 354
    },
    "id": "TSmvO_qOgUXT",
    "outputId": "88b9c28b-0a66-47a0-89c1-65a90528845b"
   },
   "outputs": [
    {
     "data": {
      "text/html": [
       "\n",
       "  <div id=\"df-e8bdfdce-6498-496b-8507-f91167744234\">\n",
       "    <div class=\"colab-df-container\">\n",
       "      <div>\n",
       "<style scoped>\n",
       "    .dataframe tbody tr th:only-of-type {\n",
       "        vertical-align: middle;\n",
       "    }\n",
       "\n",
       "    .dataframe tbody tr th {\n",
       "        vertical-align: top;\n",
       "    }\n",
       "\n",
       "    .dataframe thead th {\n",
       "        text-align: right;\n",
       "    }\n",
       "</style>\n",
       "<table border=\"1\" class=\"dataframe\">\n",
       "  <thead>\n",
       "    <tr style=\"text-align: right;\">\n",
       "      <th></th>\n",
       "      <th>CustomerKey</th>\n",
       "      <th>BirthDate</th>\n",
       "      <th>Education</th>\n",
       "      <th>Gender</th>\n",
       "      <th>MaritalStatus</th>\n",
       "      <th>Occupation</th>\n",
       "      <th>Sum of YearlyIncome</th>\n",
       "      <th>Sum of DiscountAmount</th>\n",
       "      <th>Sum of DiscountQuantity</th>\n",
       "      <th>Sum of SalesAmount</th>\n",
       "      <th>Sum of SalesQuantity</th>\n",
       "      <th>Average of UnitPrice</th>\n",
       "    </tr>\n",
       "  </thead>\n",
       "  <tbody>\n",
       "    <tr>\n",
       "      <th>0</th>\n",
       "      <td>1</td>\n",
       "      <td>1966-04-08 00:00:00</td>\n",
       "      <td>Bachelors</td>\n",
       "      <td>M</td>\n",
       "      <td>M</td>\n",
       "      <td>Professional</td>\n",
       "      <td>90000</td>\n",
       "      <td>NaN</td>\n",
       "      <td>NaN</td>\n",
       "      <td>NaN</td>\n",
       "      <td>NaN</td>\n",
       "      <td>NaN</td>\n",
       "    </tr>\n",
       "    <tr>\n",
       "      <th>1</th>\n",
       "      <td>2</td>\n",
       "      <td>1965-05-14 00:00:00</td>\n",
       "      <td>Bachelors</td>\n",
       "      <td>M</td>\n",
       "      <td>S</td>\n",
       "      <td>Professional</td>\n",
       "      <td>60000</td>\n",
       "      <td>NaN</td>\n",
       "      <td>NaN</td>\n",
       "      <td>NaN</td>\n",
       "      <td>NaN</td>\n",
       "      <td>NaN</td>\n",
       "    </tr>\n",
       "    <tr>\n",
       "      <th>2</th>\n",
       "      <td>3</td>\n",
       "      <td>1965-08-12 00:00:00</td>\n",
       "      <td>Bachelors</td>\n",
       "      <td>M</td>\n",
       "      <td>M</td>\n",
       "      <td>Professional</td>\n",
       "      <td>60000</td>\n",
       "      <td>41.99</td>\n",
       "      <td>4.0</td>\n",
       "      <td>197.97</td>\n",
       "      <td>4.0</td>\n",
       "      <td>59.99</td>\n",
       "    </tr>\n",
       "    <tr>\n",
       "      <th>3</th>\n",
       "      <td>4</td>\n",
       "      <td>1968-02-15 00:00:00</td>\n",
       "      <td>Bachelors</td>\n",
       "      <td>F</td>\n",
       "      <td>S</td>\n",
       "      <td>Professional</td>\n",
       "      <td>70000</td>\n",
       "      <td>0.00</td>\n",
       "      <td>0.0</td>\n",
       "      <td>59.99</td>\n",
       "      <td>1.0</td>\n",
       "      <td>59.99</td>\n",
       "    </tr>\n",
       "    <tr>\n",
       "      <th>4</th>\n",
       "      <td>5</td>\n",
       "      <td>1968-08-08 00:00:00</td>\n",
       "      <td>Bachelors</td>\n",
       "      <td>F</td>\n",
       "      <td>S</td>\n",
       "      <td>Professional</td>\n",
       "      <td>80000</td>\n",
       "      <td>21.00</td>\n",
       "      <td>2.0</td>\n",
       "      <td>158.97</td>\n",
       "      <td>3.0</td>\n",
       "      <td>59.99</td>\n",
       "    </tr>\n",
       "  </tbody>\n",
       "</table>\n",
       "</div>\n",
       "      <button class=\"colab-df-convert\" onclick=\"convertToInteractive('df-e8bdfdce-6498-496b-8507-f91167744234')\"\n",
       "              title=\"Convert this dataframe to an interactive table.\"\n",
       "              style=\"display:none;\">\n",
       "        \n",
       "  <svg xmlns=\"http://www.w3.org/2000/svg\" height=\"24px\"viewBox=\"0 0 24 24\"\n",
       "       width=\"24px\">\n",
       "    <path d=\"M0 0h24v24H0V0z\" fill=\"none\"/>\n",
       "    <path d=\"M18.56 5.44l.94 2.06.94-2.06 2.06-.94-2.06-.94-.94-2.06-.94 2.06-2.06.94zm-11 1L8.5 8.5l.94-2.06 2.06-.94-2.06-.94L8.5 2.5l-.94 2.06-2.06.94zm10 10l.94 2.06.94-2.06 2.06-.94-2.06-.94-.94-2.06-.94 2.06-2.06.94z\"/><path d=\"M17.41 7.96l-1.37-1.37c-.4-.4-.92-.59-1.43-.59-.52 0-1.04.2-1.43.59L10.3 9.45l-7.72 7.72c-.78.78-.78 2.05 0 2.83L4 21.41c.39.39.9.59 1.41.59.51 0 1.02-.2 1.41-.59l7.78-7.78 2.81-2.81c.8-.78.8-2.07 0-2.86zM5.41 20L4 18.59l7.72-7.72 1.47 1.35L5.41 20z\"/>\n",
       "  </svg>\n",
       "      </button>\n",
       "      \n",
       "  <style>\n",
       "    .colab-df-container {\n",
       "      display:flex;\n",
       "      flex-wrap:wrap;\n",
       "      gap: 12px;\n",
       "    }\n",
       "\n",
       "    .colab-df-convert {\n",
       "      background-color: #E8F0FE;\n",
       "      border: none;\n",
       "      border-radius: 50%;\n",
       "      cursor: pointer;\n",
       "      display: none;\n",
       "      fill: #1967D2;\n",
       "      height: 32px;\n",
       "      padding: 0 0 0 0;\n",
       "      width: 32px;\n",
       "    }\n",
       "\n",
       "    .colab-df-convert:hover {\n",
       "      background-color: #E2EBFA;\n",
       "      box-shadow: 0px 1px 2px rgba(60, 64, 67, 0.3), 0px 1px 3px 1px rgba(60, 64, 67, 0.15);\n",
       "      fill: #174EA6;\n",
       "    }\n",
       "\n",
       "    [theme=dark] .colab-df-convert {\n",
       "      background-color: #3B4455;\n",
       "      fill: #D2E3FC;\n",
       "    }\n",
       "\n",
       "    [theme=dark] .colab-df-convert:hover {\n",
       "      background-color: #434B5C;\n",
       "      box-shadow: 0px 1px 3px 1px rgba(0, 0, 0, 0.15);\n",
       "      filter: drop-shadow(0px 1px 2px rgba(0, 0, 0, 0.3));\n",
       "      fill: #FFFFFF;\n",
       "    }\n",
       "  </style>\n",
       "\n",
       "      <script>\n",
       "        const buttonEl =\n",
       "          document.querySelector('#df-e8bdfdce-6498-496b-8507-f91167744234 button.colab-df-convert');\n",
       "        buttonEl.style.display =\n",
       "          google.colab.kernel.accessAllowed ? 'block' : 'none';\n",
       "\n",
       "        async function convertToInteractive(key) {\n",
       "          const element = document.querySelector('#df-e8bdfdce-6498-496b-8507-f91167744234');\n",
       "          const dataTable =\n",
       "            await google.colab.kernel.invokeFunction('convertToInteractive',\n",
       "                                                     [key], {});\n",
       "          if (!dataTable) return;\n",
       "\n",
       "          const docLinkHtml = 'Like what you see? Visit the ' +\n",
       "            '<a target=\"_blank\" href=https://colab.research.google.com/notebooks/data_table.ipynb>data table notebook</a>'\n",
       "            + ' to learn more about interactive tables.';\n",
       "          element.innerHTML = '';\n",
       "          dataTable['output_type'] = 'display_data';\n",
       "          await google.colab.output.renderOutput(dataTable, element);\n",
       "          const docLink = document.createElement('div');\n",
       "          docLink.innerHTML = docLinkHtml;\n",
       "          element.appendChild(docLink);\n",
       "        }\n",
       "      </script>\n",
       "    </div>\n",
       "  </div>\n",
       "  "
      ],
      "text/plain": [
       "   CustomerKey            BirthDate  Education Gender MaritalStatus  \\\n",
       "0            1  1966-04-08 00:00:00  Bachelors      M             M   \n",
       "1            2  1965-05-14 00:00:00  Bachelors      M             S   \n",
       "2            3  1965-08-12 00:00:00  Bachelors      M             M   \n",
       "3            4  1968-02-15 00:00:00  Bachelors      F             S   \n",
       "4            5  1968-08-08 00:00:00  Bachelors      F             S   \n",
       "\n",
       "     Occupation  Sum of YearlyIncome  Sum of DiscountAmount  \\\n",
       "0  Professional                90000                    NaN   \n",
       "1  Professional                60000                    NaN   \n",
       "2  Professional                60000                  41.99   \n",
       "3  Professional                70000                   0.00   \n",
       "4  Professional                80000                  21.00   \n",
       "\n",
       "   Sum of DiscountQuantity  Sum of SalesAmount  Sum of SalesQuantity  \\\n",
       "0                      NaN                 NaN                   NaN   \n",
       "1                      NaN                 NaN                   NaN   \n",
       "2                      4.0              197.97                   4.0   \n",
       "3                      0.0               59.99                   1.0   \n",
       "4                      2.0              158.97                   3.0   \n",
       "\n",
       "   Average of UnitPrice  \n",
       "0                   NaN  \n",
       "1                   NaN  \n",
       "2                 59.99  \n",
       "3                 59.99  \n",
       "4                 59.99  "
      ]
     },
     "execution_count": 2,
     "metadata": {},
     "output_type": "execute_result"
    }
   ],
   "source": [
    "data = pd.read_csv(\"/content/drive/MyDrive/Machine Learnings/customers.csv\")\n",
    "data.head()"
   ]
  },
  {
   "cell_type": "markdown",
   "metadata": {
    "id": "tBxwsmiOgoEG"
   },
   "source": [
    "#### Data Exploration Analysis"
   ]
  },
  {
   "cell_type": "code",
   "execution_count": null,
   "metadata": {
    "colab": {
     "base_uri": "https://localhost:8080/"
    },
    "id": "e1rnUkbTgj9e",
    "outputId": "f8bade57-3dfd-4b71-f213-804e8be758fe"
   },
   "outputs": [
    {
     "name": "stdout",
     "output_type": "stream",
     "text": [
      "<class 'pandas.core.frame.DataFrame'>\n",
      "RangeIndex: 18484 entries, 0 to 18483\n",
      "Data columns (total 12 columns):\n",
      " #   Column                   Non-Null Count  Dtype  \n",
      "---  ------                   --------------  -----  \n",
      " 0   CustomerKey              18484 non-null  int64  \n",
      " 1   BirthDate                18484 non-null  object \n",
      " 2   Education                18484 non-null  object \n",
      " 3   Gender                   18484 non-null  object \n",
      " 4   MaritalStatus            18484 non-null  object \n",
      " 5   Occupation               18484 non-null  object \n",
      " 6   Sum of YearlyIncome      18484 non-null  int64  \n",
      " 7   Sum of DiscountAmount    17647 non-null  float64\n",
      " 8   Sum of DiscountQuantity  17647 non-null  float64\n",
      " 9   Sum of SalesAmount       17647 non-null  float64\n",
      " 10  Sum of SalesQuantity     17647 non-null  float64\n",
      " 11  Average of UnitPrice     17647 non-null  float64\n",
      "dtypes: float64(5), int64(2), object(5)\n",
      "memory usage: 1.7+ MB\n"
     ]
    }
   ],
   "source": [
    "data.info()"
   ]
  },
  {
   "cell_type": "markdown",
   "metadata": {
    "id": "XSZMNQuQgxMi"
   },
   "source": [
    "#### Feature engineering\n",
    "\n",
    "* Rename all the variables having 'sum' in the name\n",
    "* Generate Age of the consumer\n",
    "* Remove null values"
   ]
  },
  {
   "cell_type": "code",
   "execution_count": null,
   "metadata": {
    "id": "LHc64OHHgs50"
   },
   "outputs": [],
   "source": [
    "# Rename columns\n",
    "\n",
    "newnames = {'Sum of YearlyIncome':'Income','Sum of DiscountAmount':'DiscountAmt','Sum of DiscountQuantity':'DiscountQty','Average of UnitPrice':'Price',\n",
    "            'Sum of SalesAmount':'Sales','Sum of SalesQuantity':'Quantity'}\n",
    "data.rename(columns=newnames,inplace=True)"
   ]
  },
  {
   "cell_type": "markdown",
   "metadata": {
    "id": "HcFDmSRGg8eg"
   },
   "source": [
    "#### Generate age of the consumer"
   ]
  },
  {
   "cell_type": "code",
   "execution_count": null,
   "metadata": {
    "id": "rFyobtdsg3Cx"
   },
   "outputs": [],
   "source": [
    "import datetime\n",
    "\n",
    "def from_dob_to_age(born):\n",
    "    today = datetime.date.today()\n",
    "    return today.year - born.year - ((today.month, today.day) < (born.month, born.day))"
   ]
  },
  {
   "cell_type": "code",
   "execution_count": null,
   "metadata": {
    "id": "TQKy1QNFhG5h"
   },
   "outputs": [],
   "source": [
    "data['BirthDate'] =  pd.to_datetime(data['BirthDate'])\n",
    "data['Age']=data['BirthDate'].apply(lambda x: from_dob_to_age(x))"
   ]
  },
  {
   "cell_type": "markdown",
   "metadata": {
    "id": "eOLtbGp3hQ-U"
   },
   "source": [
    "#### Drop missing values"
   ]
  },
  {
   "cell_type": "code",
   "execution_count": null,
   "metadata": {
    "colab": {
     "base_uri": "https://localhost:8080/"
    },
    "id": "D3EkH-AIhKs6",
    "outputId": "19bf8c9c-30d8-43ae-b90b-5798c8129388"
   },
   "outputs": [
    {
     "name": "stdout",
     "output_type": "stream",
     "text": [
      "<class 'pandas.core.frame.DataFrame'>\n",
      "Int64Index: 17647 entries, 2 to 18483\n",
      "Data columns (total 13 columns):\n",
      " #   Column         Non-Null Count  Dtype         \n",
      "---  ------         --------------  -----         \n",
      " 0   CustomerKey    17647 non-null  int64         \n",
      " 1   BirthDate      17647 non-null  datetime64[ns]\n",
      " 2   Education      17647 non-null  object        \n",
      " 3   Gender         17647 non-null  object        \n",
      " 4   MaritalStatus  17647 non-null  object        \n",
      " 5   Occupation     17647 non-null  object        \n",
      " 6   Income         17647 non-null  int64         \n",
      " 7   DiscountAmt    17647 non-null  float64       \n",
      " 8   DiscountQty    17647 non-null  float64       \n",
      " 9   Sales          17647 non-null  float64       \n",
      " 10  Quantity       17647 non-null  float64       \n",
      " 11  Price          17647 non-null  float64       \n",
      " 12  Age            17647 non-null  int64         \n",
      "dtypes: datetime64[ns](1), float64(5), int64(3), object(4)\n",
      "memory usage: 1.9+ MB\n"
     ]
    }
   ],
   "source": [
    "df = data.dropna()\n",
    "df.info()"
   ]
  },
  {
   "cell_type": "markdown",
   "metadata": {
    "id": "Xvjx_3WThlen"
   },
   "source": [
    "#### Create features for maching learnings"
   ]
  },
  {
   "cell_type": "code",
   "execution_count": null,
   "metadata": {
    "id": "I8727wjohZlr"
   },
   "outputs": [],
   "source": [
    "# create numerical and categorical variables\n",
    "\n",
    "df_num = df.select_dtypes(exclude='object')\n",
    "df_obj = df.select_dtypes(include='object')"
   ]
  },
  {
   "cell_type": "code",
   "execution_count": null,
   "metadata": {
    "id": "jGwtj0HJiZjo"
   },
   "outputs": [],
   "source": [
    "# Convert df_obj to dummy variables\n",
    "\n",
    "df_obj = pd.get_dummies(df_obj,drop_first=True,prefix_sep=('*'))"
   ]
  },
  {
   "cell_type": "code",
   "execution_count": null,
   "metadata": {
    "colab": {
     "base_uri": "https://localhost:8080/",
     "height": 268
    },
    "id": "bNIuukZOi3w_",
    "outputId": "c5a1d704-dda2-449e-fc79-b1e11c491117"
   },
   "outputs": [
    {
     "data": {
      "text/html": [
       "\n",
       "  <div id=\"df-9ffdc810-34e5-42c5-8d84-023fc829846a\">\n",
       "    <div class=\"colab-df-container\">\n",
       "      <div>\n",
       "<style scoped>\n",
       "    .dataframe tbody tr th:only-of-type {\n",
       "        vertical-align: middle;\n",
       "    }\n",
       "\n",
       "    .dataframe tbody tr th {\n",
       "        vertical-align: top;\n",
       "    }\n",
       "\n",
       "    .dataframe thead th {\n",
       "        text-align: right;\n",
       "    }\n",
       "</style>\n",
       "<table border=\"1\" class=\"dataframe\">\n",
       "  <thead>\n",
       "    <tr style=\"text-align: right;\">\n",
       "      <th></th>\n",
       "      <th>Education*Graduate Degree</th>\n",
       "      <th>Education*High School</th>\n",
       "      <th>Education*Partial College</th>\n",
       "      <th>Education*Partial High School</th>\n",
       "      <th>Gender*M</th>\n",
       "      <th>MaritalStatus*S</th>\n",
       "      <th>Occupation*Management</th>\n",
       "      <th>Occupation*Manual</th>\n",
       "      <th>Occupation*Professional</th>\n",
       "      <th>Occupation*Skilled Manual</th>\n",
       "    </tr>\n",
       "  </thead>\n",
       "  <tbody>\n",
       "    <tr>\n",
       "      <th>2</th>\n",
       "      <td>0</td>\n",
       "      <td>0</td>\n",
       "      <td>0</td>\n",
       "      <td>0</td>\n",
       "      <td>1</td>\n",
       "      <td>0</td>\n",
       "      <td>0</td>\n",
       "      <td>0</td>\n",
       "      <td>1</td>\n",
       "      <td>0</td>\n",
       "    </tr>\n",
       "    <tr>\n",
       "      <th>3</th>\n",
       "      <td>0</td>\n",
       "      <td>0</td>\n",
       "      <td>0</td>\n",
       "      <td>0</td>\n",
       "      <td>0</td>\n",
       "      <td>1</td>\n",
       "      <td>0</td>\n",
       "      <td>0</td>\n",
       "      <td>1</td>\n",
       "      <td>0</td>\n",
       "    </tr>\n",
       "    <tr>\n",
       "      <th>4</th>\n",
       "      <td>0</td>\n",
       "      <td>0</td>\n",
       "      <td>0</td>\n",
       "      <td>0</td>\n",
       "      <td>0</td>\n",
       "      <td>1</td>\n",
       "      <td>0</td>\n",
       "      <td>0</td>\n",
       "      <td>1</td>\n",
       "      <td>0</td>\n",
       "    </tr>\n",
       "    <tr>\n",
       "      <th>5</th>\n",
       "      <td>0</td>\n",
       "      <td>0</td>\n",
       "      <td>0</td>\n",
       "      <td>0</td>\n",
       "      <td>1</td>\n",
       "      <td>1</td>\n",
       "      <td>0</td>\n",
       "      <td>0</td>\n",
       "      <td>1</td>\n",
       "      <td>0</td>\n",
       "    </tr>\n",
       "    <tr>\n",
       "      <th>6</th>\n",
       "      <td>0</td>\n",
       "      <td>0</td>\n",
       "      <td>0</td>\n",
       "      <td>0</td>\n",
       "      <td>0</td>\n",
       "      <td>1</td>\n",
       "      <td>0</td>\n",
       "      <td>0</td>\n",
       "      <td>1</td>\n",
       "      <td>0</td>\n",
       "    </tr>\n",
       "  </tbody>\n",
       "</table>\n",
       "</div>\n",
       "      <button class=\"colab-df-convert\" onclick=\"convertToInteractive('df-9ffdc810-34e5-42c5-8d84-023fc829846a')\"\n",
       "              title=\"Convert this dataframe to an interactive table.\"\n",
       "              style=\"display:none;\">\n",
       "        \n",
       "  <svg xmlns=\"http://www.w3.org/2000/svg\" height=\"24px\"viewBox=\"0 0 24 24\"\n",
       "       width=\"24px\">\n",
       "    <path d=\"M0 0h24v24H0V0z\" fill=\"none\"/>\n",
       "    <path d=\"M18.56 5.44l.94 2.06.94-2.06 2.06-.94-2.06-.94-.94-2.06-.94 2.06-2.06.94zm-11 1L8.5 8.5l.94-2.06 2.06-.94-2.06-.94L8.5 2.5l-.94 2.06-2.06.94zm10 10l.94 2.06.94-2.06 2.06-.94-2.06-.94-.94-2.06-.94 2.06-2.06.94z\"/><path d=\"M17.41 7.96l-1.37-1.37c-.4-.4-.92-.59-1.43-.59-.52 0-1.04.2-1.43.59L10.3 9.45l-7.72 7.72c-.78.78-.78 2.05 0 2.83L4 21.41c.39.39.9.59 1.41.59.51 0 1.02-.2 1.41-.59l7.78-7.78 2.81-2.81c.8-.78.8-2.07 0-2.86zM5.41 20L4 18.59l7.72-7.72 1.47 1.35L5.41 20z\"/>\n",
       "  </svg>\n",
       "      </button>\n",
       "      \n",
       "  <style>\n",
       "    .colab-df-container {\n",
       "      display:flex;\n",
       "      flex-wrap:wrap;\n",
       "      gap: 12px;\n",
       "    }\n",
       "\n",
       "    .colab-df-convert {\n",
       "      background-color: #E8F0FE;\n",
       "      border: none;\n",
       "      border-radius: 50%;\n",
       "      cursor: pointer;\n",
       "      display: none;\n",
       "      fill: #1967D2;\n",
       "      height: 32px;\n",
       "      padding: 0 0 0 0;\n",
       "      width: 32px;\n",
       "    }\n",
       "\n",
       "    .colab-df-convert:hover {\n",
       "      background-color: #E2EBFA;\n",
       "      box-shadow: 0px 1px 2px rgba(60, 64, 67, 0.3), 0px 1px 3px 1px rgba(60, 64, 67, 0.15);\n",
       "      fill: #174EA6;\n",
       "    }\n",
       "\n",
       "    [theme=dark] .colab-df-convert {\n",
       "      background-color: #3B4455;\n",
       "      fill: #D2E3FC;\n",
       "    }\n",
       "\n",
       "    [theme=dark] .colab-df-convert:hover {\n",
       "      background-color: #434B5C;\n",
       "      box-shadow: 0px 1px 3px 1px rgba(0, 0, 0, 0.15);\n",
       "      filter: drop-shadow(0px 1px 2px rgba(0, 0, 0, 0.3));\n",
       "      fill: #FFFFFF;\n",
       "    }\n",
       "  </style>\n",
       "\n",
       "      <script>\n",
       "        const buttonEl =\n",
       "          document.querySelector('#df-9ffdc810-34e5-42c5-8d84-023fc829846a button.colab-df-convert');\n",
       "        buttonEl.style.display =\n",
       "          google.colab.kernel.accessAllowed ? 'block' : 'none';\n",
       "\n",
       "        async function convertToInteractive(key) {\n",
       "          const element = document.querySelector('#df-9ffdc810-34e5-42c5-8d84-023fc829846a');\n",
       "          const dataTable =\n",
       "            await google.colab.kernel.invokeFunction('convertToInteractive',\n",
       "                                                     [key], {});\n",
       "          if (!dataTable) return;\n",
       "\n",
       "          const docLinkHtml = 'Like what you see? Visit the ' +\n",
       "            '<a target=\"_blank\" href=https://colab.research.google.com/notebooks/data_table.ipynb>data table notebook</a>'\n",
       "            + ' to learn more about interactive tables.';\n",
       "          element.innerHTML = '';\n",
       "          dataTable['output_type'] = 'display_data';\n",
       "          await google.colab.output.renderOutput(dataTable, element);\n",
       "          const docLink = document.createElement('div');\n",
       "          docLink.innerHTML = docLinkHtml;\n",
       "          element.appendChild(docLink);\n",
       "        }\n",
       "      </script>\n",
       "    </div>\n",
       "  </div>\n",
       "  "
      ],
      "text/plain": [
       "   Education*Graduate Degree  Education*High School  \\\n",
       "2                          0                      0   \n",
       "3                          0                      0   \n",
       "4                          0                      0   \n",
       "5                          0                      0   \n",
       "6                          0                      0   \n",
       "\n",
       "   Education*Partial College  Education*Partial High School  Gender*M  \\\n",
       "2                          0                              0         1   \n",
       "3                          0                              0         0   \n",
       "4                          0                              0         0   \n",
       "5                          0                              0         1   \n",
       "6                          0                              0         0   \n",
       "\n",
       "   MaritalStatus*S  Occupation*Management  Occupation*Manual  \\\n",
       "2                0                      0                  0   \n",
       "3                1                      0                  0   \n",
       "4                1                      0                  0   \n",
       "5                1                      0                  0   \n",
       "6                1                      0                  0   \n",
       "\n",
       "   Occupation*Professional  Occupation*Skilled Manual  \n",
       "2                        1                          0  \n",
       "3                        1                          0  \n",
       "4                        1                          0  \n",
       "5                        1                          0  \n",
       "6                        1                          0  "
      ]
     },
     "execution_count": 10,
     "metadata": {},
     "output_type": "execute_result"
    }
   ],
   "source": [
    "df_obj.head()"
   ]
  },
  {
   "cell_type": "code",
   "execution_count": null,
   "metadata": {
    "id": "BOyU8di4i65b"
   },
   "outputs": [],
   "source": [
    "# combine numerical and categorical data\n",
    "\n",
    "df_data=pd.concat([df_num,df_obj],axis=1)"
   ]
  },
  {
   "cell_type": "code",
   "execution_count": null,
   "metadata": {
    "colab": {
     "base_uri": "https://localhost:8080/"
    },
    "id": "yGhu5vVBjV_m",
    "outputId": "8f0f518e-4a47-4366-a131-c5f2ff6a4c47"
   },
   "outputs": [
    {
     "data": {
      "text/plain": [
       "(17647, 19)"
      ]
     },
     "execution_count": 12,
     "metadata": {},
     "output_type": "execute_result"
    }
   ],
   "source": [
    "df_data.shape"
   ]
  },
  {
   "cell_type": "code",
   "execution_count": null,
   "metadata": {
    "colab": {
     "base_uri": "https://localhost:8080/"
    },
    "id": "qQ51BPgfjYRc",
    "outputId": "5be03301-d57b-4335-93b3-f51da9ddd4b3"
   },
   "outputs": [
    {
     "name": "stdout",
     "output_type": "stream",
     "text": [
      "<class 'pandas.core.frame.DataFrame'>\n",
      "Int64Index: 17647 entries, 2 to 18483\n",
      "Data columns (total 19 columns):\n",
      " #   Column                         Non-Null Count  Dtype         \n",
      "---  ------                         --------------  -----         \n",
      " 0   CustomerKey                    17647 non-null  int64         \n",
      " 1   BirthDate                      17647 non-null  datetime64[ns]\n",
      " 2   Income                         17647 non-null  int64         \n",
      " 3   DiscountAmt                    17647 non-null  float64       \n",
      " 4   DiscountQty                    17647 non-null  float64       \n",
      " 5   Sales                          17647 non-null  float64       \n",
      " 6   Quantity                       17647 non-null  float64       \n",
      " 7   Price                          17647 non-null  float64       \n",
      " 8   Age                            17647 non-null  int64         \n",
      " 9   Education*Graduate Degree      17647 non-null  uint8         \n",
      " 10  Education*High School          17647 non-null  uint8         \n",
      " 11  Education*Partial College      17647 non-null  uint8         \n",
      " 12  Education*Partial High School  17647 non-null  uint8         \n",
      " 13  Gender*M                       17647 non-null  uint8         \n",
      " 14  MaritalStatus*S                17647 non-null  uint8         \n",
      " 15  Occupation*Management          17647 non-null  uint8         \n",
      " 16  Occupation*Manual              17647 non-null  uint8         \n",
      " 17  Occupation*Professional        17647 non-null  uint8         \n",
      " 18  Occupation*Skilled Manual      17647 non-null  uint8         \n",
      "dtypes: datetime64[ns](1), float64(5), int64(3), uint8(10)\n",
      "memory usage: 1.5 MB\n"
     ]
    }
   ],
   "source": [
    "df_data.info()"
   ]
  },
  {
   "cell_type": "code",
   "execution_count": null,
   "metadata": {
    "id": "E6hTAs77kOFm"
   },
   "outputs": [],
   "source": [
    "# Rename columns with longer names\n",
    "\n",
    "namesdf = {'Education*Graduate Degree':'graduate','Education*High School':'HighSchool','Education*Partial College':'PartialCollege',\n",
    "           'Education*Partial High School':'PartialHighSc','Gender*M':'Male','MaritalStatus*S':'Single','Occupation*Management':'ManagerCdr',\n",
    "           'Occupation*Manual':'ManualCdr','Occupation*Professional':'ProfessionalCdr','Occupation*Skilled Manual':'SkilledManualCdr'}\n",
    "\n",
    "df_data1 = df_data.rename(columns=namesdf) "
   ]
  },
  {
   "cell_type": "code",
   "execution_count": null,
   "metadata": {
    "colab": {
     "base_uri": "https://localhost:8080/"
    },
    "id": "174oNdzFl83T",
    "outputId": "870d5c1b-80bf-4b2b-e741-fae5f229fd51"
   },
   "outputs": [
    {
     "name": "stdout",
     "output_type": "stream",
     "text": [
      "<class 'pandas.core.frame.DataFrame'>\n",
      "Int64Index: 17647 entries, 2 to 18483\n",
      "Data columns (total 19 columns):\n",
      " #   Column            Non-Null Count  Dtype         \n",
      "---  ------            --------------  -----         \n",
      " 0   CustomerKey       17647 non-null  int64         \n",
      " 1   BirthDate         17647 non-null  datetime64[ns]\n",
      " 2   Income            17647 non-null  int64         \n",
      " 3   DiscountAmt       17647 non-null  float64       \n",
      " 4   DiscountQty       17647 non-null  float64       \n",
      " 5   Sales             17647 non-null  float64       \n",
      " 6   Quantity          17647 non-null  float64       \n",
      " 7   Price             17647 non-null  float64       \n",
      " 8   Age               17647 non-null  int64         \n",
      " 9   graduate          17647 non-null  uint8         \n",
      " 10  HighSchool        17647 non-null  uint8         \n",
      " 11  PartialCollege    17647 non-null  uint8         \n",
      " 12  PartialHighSc     17647 non-null  uint8         \n",
      " 13  Male              17647 non-null  uint8         \n",
      " 14  Single            17647 non-null  uint8         \n",
      " 15  ManagerCdr        17647 non-null  uint8         \n",
      " 16  ManualCdr         17647 non-null  uint8         \n",
      " 17  ProfessionalCdr   17647 non-null  uint8         \n",
      " 18  SkilledManualCdr  17647 non-null  uint8         \n",
      "dtypes: datetime64[ns](1), float64(5), int64(3), uint8(10)\n",
      "memory usage: 1.5 MB\n"
     ]
    }
   ],
   "source": [
    "df_data1.info()"
   ]
  },
  {
   "cell_type": "code",
   "execution_count": null,
   "metadata": {
    "id": "wwR9iAX4jiD-"
   },
   "outputs": [],
   "source": [
    "X = df_data1.drop(['CustomerKey','BirthDate','DiscountQty','Sales','Quantity'],axis=1)\n",
    "y = df_data1['Sales']"
   ]
  },
  {
   "cell_type": "markdown",
   "metadata": {
    "id": "Ll6VW92Qmsjs"
   },
   "source": [
    "### Create interactions among the variables\n",
    "\n",
    "In consumer behavior, demand is not only determined by the individual variables alone, but with some interactive effect on other socio-demographic variables."
   ]
  },
  {
   "cell_type": "code",
   "execution_count": null,
   "metadata": {
    "id": "ItKeNmNUmX2l"
   },
   "outputs": [],
   "source": [
    "from sklearn.preprocessing import PolynomialFeatures"
   ]
  },
  {
   "cell_type": "code",
   "execution_count": null,
   "metadata": {
    "id": "XRYd9N0VnI2A"
   },
   "outputs": [],
   "source": [
    "PolyFeat = PolynomialFeatures(degree=2,interaction_only=True,include_bias=False)\n",
    "X = pd.DataFrame(data=PolyFeat.fit_transform(X),columns=PolyFeat.get_feature_names(X.columns))"
   ]
  },
  {
   "cell_type": "code",
   "execution_count": null,
   "metadata": {
    "colab": {
     "base_uri": "https://localhost:8080/"
    },
    "id": "F3wB9L8OnRj3",
    "outputId": "932ad792-a938-4fa8-d51c-0738175bfb76"
   },
   "outputs": [
    {
     "data": {
      "text/plain": [
       "(17647, 105)"
      ]
     },
     "execution_count": 20,
     "metadata": {},
     "output_type": "execute_result"
    }
   ],
   "source": [
    "X.shape"
   ]
  },
  {
   "cell_type": "markdown",
   "metadata": {
    "id": "8CamzG46nWka"
   },
   "source": [
    "We now have 105 columns for predicting sales.  Here we shall do a feature selection using lasso/ridge/elasticnet estimators."
   ]
  },
  {
   "cell_type": "markdown",
   "metadata": {
    "id": "MlQssfKRnnhL"
   },
   "source": [
    "#### Split the data into train and test sets"
   ]
  },
  {
   "cell_type": "code",
   "execution_count": null,
   "metadata": {
    "id": "qiDfDp_8nTHI"
   },
   "outputs": [],
   "source": [
    "from sklearn.model_selection import train_test_split"
   ]
  },
  {
   "cell_type": "code",
   "execution_count": null,
   "metadata": {
    "id": "UhaAHsnNnvqr"
   },
   "outputs": [],
   "source": [
    "X_train, X_test, y_train, y_test = train_test_split(X, y, test_size=0.20, random_state=42)"
   ]
  },
  {
   "cell_type": "markdown",
   "metadata": {
    "id": "ajV4Gks5n-L2"
   },
   "source": [
    "#### Transform the datasets"
   ]
  },
  {
   "cell_type": "code",
   "execution_count": null,
   "metadata": {
    "id": "9tzJZbl-n2fJ"
   },
   "outputs": [],
   "source": [
    "from sklearn.preprocessing import StandardScaler\n",
    "scaler = StandardScaler()"
   ]
  },
  {
   "cell_type": "code",
   "execution_count": null,
   "metadata": {
    "id": "MD6fljDmoNwi"
   },
   "outputs": [],
   "source": [
    "X_train_sc = scaler.fit_transform(X_train)\n",
    "X_test_sc = scaler.transform(X_test)"
   ]
  },
  {
   "cell_type": "markdown",
   "metadata": {
    "id": "tyGy_tvMorxf"
   },
   "source": [
    "#### Modelling\n",
    "\n",
    "* create Ridge Regression\n",
    "* create Lasso Regression\n",
    "* Create ElasticNet"
   ]
  },
  {
   "cell_type": "markdown",
   "metadata": {
    "id": "b8RCUF67HL1v"
   },
   "source": [
    "### Ridge Regression Modeling"
   ]
  },
  {
   "cell_type": "code",
   "execution_count": null,
   "metadata": {
    "id": "ig01KShZHFr0"
   },
   "outputs": [],
   "source": [
    "from sklearn.linear_model import RidgeCV\n",
    "ridge_cv_model = RidgeCV(alphas=(0.1, 1.0, 10.0),scoring='neg_mean_absolute_error')"
   ]
  },
  {
   "cell_type": "code",
   "execution_count": null,
   "metadata": {
    "colab": {
     "base_uri": "https://localhost:8080/"
    },
    "id": "KMSs8pJ-HGZb",
    "outputId": "5fc775de-b4f6-477a-ba24-498809b4baa8"
   },
   "outputs": [
    {
     "data": {
      "text/plain": [
       "RidgeCV(alphas=array([ 0.1,  1. , 10. ]), scoring='neg_mean_absolute_error')"
      ]
     },
     "execution_count": 26,
     "metadata": {},
     "output_type": "execute_result"
    }
   ],
   "source": [
    "ridge_cv_model.fit(X_train,y_train)"
   ]
  },
  {
   "cell_type": "code",
   "execution_count": null,
   "metadata": {
    "id": "msveLNoqHGnF"
   },
   "outputs": [],
   "source": [
    "r_train_predictions = ridge_cv_model.predict(X_train)\n",
    "r_test_predictions = ridge_cv_model.predict(X_test)"
   ]
  },
  {
   "cell_type": "code",
   "execution_count": null,
   "metadata": {
    "id": "_bWs_vhbIkkR"
   },
   "outputs": [],
   "source": [
    "from sklearn.metrics import mean_absolute_error,mean_squared_error"
   ]
  },
  {
   "cell_type": "code",
   "execution_count": null,
   "metadata": {
    "id": "beNZPPlZHGzz"
   },
   "outputs": [],
   "source": [
    "# Performance Evaluation on Train and Test datasets\n",
    "\n",
    "MAE_tr = mean_absolute_error(y_train,r_train_predictions)\n",
    "MSE_tr = mean_squared_error(y_train,r_train_predictions)\n",
    "RMSEr_tr = np.sqrt(MSE_tr)\n",
    "\n",
    "MAE_tt = mean_absolute_error(y_test,r_test_predictions)\n",
    "MSE_tt = mean_squared_error(y_test,r_test_predictions)\n",
    "RMSEr_tt = np.sqrt(MSE_tt)"
   ]
  },
  {
   "cell_type": "markdown",
   "metadata": {
    "id": "AXF_1rUfKi3b"
   },
   "source": [
    "### Modelling with Lasso Regression"
   ]
  },
  {
   "cell_type": "code",
   "execution_count": null,
   "metadata": {
    "id": "yMN_F-9XKDD-"
   },
   "outputs": [],
   "source": [
    "from sklearn.linear_model import LassoCV"
   ]
  },
  {
   "cell_type": "code",
   "execution_count": null,
   "metadata": {
    "colab": {
     "base_uri": "https://localhost:8080/"
    },
    "id": "3LFLs2UzKDTI",
    "outputId": "45f71aa3-07c9-4dc1-d45f-6867848b17f3"
   },
   "outputs": [
    {
     "data": {
      "text/plain": [
       "LassoCV(cv=5, eps=0.1)"
      ]
     },
     "execution_count": 32,
     "metadata": {},
     "output_type": "execute_result"
    }
   ],
   "source": [
    "lasso_cv_model = LassoCV(eps=0.1,n_alphas=100,cv=5)\n",
    "lasso_cv_model.fit(X_train,y_train)"
   ]
  },
  {
   "cell_type": "code",
   "execution_count": null,
   "metadata": {
    "id": "fSnRdl7bLIvQ"
   },
   "outputs": [],
   "source": [
    "l_train_predictions = lasso_cv_model.predict(X_train)\n",
    "l_test_predictions = lasso_cv_model.predict(X_test)"
   ]
  },
  {
   "cell_type": "code",
   "execution_count": null,
   "metadata": {
    "id": "fhE8s0XLLI66"
   },
   "outputs": [],
   "source": [
    "# Performance Evaluation on Train and Test datasets\n",
    "\n",
    "MAE_tr_l = mean_absolute_error(y_train,l_train_predictions)\n",
    "MSE_tr_l = mean_squared_error(y_train,l_train_predictions)\n",
    "RMSEr_tr_l = np.sqrt(MSE_tr_l)\n",
    "\n",
    "MAE_tt_l = mean_absolute_error(y_test,l_test_predictions)\n",
    "MSE_tt_l = mean_squared_error(y_test,l_test_predictions)\n",
    "RMSEr_tt_l = np.sqrt(MSE_tt_l)"
   ]
  },
  {
   "cell_type": "markdown",
   "metadata": {
    "id": "1rsxa1JmMQ0j"
   },
   "source": [
    "### Modelling with Elasticnet model"
   ]
  },
  {
   "cell_type": "code",
   "execution_count": null,
   "metadata": {
    "id": "xVWjI8BfMfu2"
   },
   "outputs": [],
   "source": [
    "from sklearn.linear_model import ElasticNetCV"
   ]
  },
  {
   "cell_type": "code",
   "execution_count": null,
   "metadata": {
    "colab": {
     "base_uri": "https://localhost:8080/"
    },
    "id": "ZrDy9FpJMf68",
    "outputId": "1b7f80a5-c2fe-4738-91c6-7069a07204dc"
   },
   "outputs": [
    {
     "data": {
      "text/plain": [
       "ElasticNetCV(l1_ratio=[0.1, 0.5, 0.7, 0.9, 0.95, 0.99, 1], tol=0.01)"
      ]
     },
     "execution_count": 37,
     "metadata": {},
     "output_type": "execute_result"
    }
   ],
   "source": [
    "elastic_model = ElasticNetCV(l1_ratio=[.1, .5, .7,.9, .95, .99, 1],tol=0.01)\n",
    "elastic_model.fit(X_train,y_train)"
   ]
  },
  {
   "cell_type": "code",
   "execution_count": null,
   "metadata": {
    "id": "cyccdmJyNFd4"
   },
   "outputs": [],
   "source": [
    "e_train_predictions = elastic_model.predict(X_train)\n",
    "e_test_predictions = elastic_model.predict(X_test)"
   ]
  },
  {
   "cell_type": "code",
   "execution_count": null,
   "metadata": {
    "id": "tgxLicRjMf_I"
   },
   "outputs": [],
   "source": [
    "# Performance Evaluation on Train and Test datasets\n",
    "\n",
    "MAE_tr_e = mean_absolute_error(y_train,e_train_predictions)\n",
    "MSE_tr_e = mean_squared_error(y_train,e_train_predictions)\n",
    "RMSEr_tr_e = np.sqrt(MSE_tr_e)\n",
    "\n",
    "MAE_tt_e = mean_absolute_error(y_test,e_test_predictions)\n",
    "MSE_tt_e = mean_squared_error(y_test,e_test_predictions)\n",
    "RMSEr_tt_e = np.sqrt(MSE_tt_e)"
   ]
  },
  {
   "cell_type": "markdown",
   "metadata": {
    "id": "JKQMvJL1N5BF"
   },
   "source": [
    "### Comparing performance metrics"
   ]
  },
  {
   "cell_type": "code",
   "execution_count": null,
   "metadata": {
    "colab": {
     "base_uri": "https://localhost:8080/",
     "height": 143
    },
    "id": "mhpTL1XMPALG",
    "outputId": "06dd915f-6ce9-4737-cd69-83140f1024cb"
   },
   "outputs": [
    {
     "data": {
      "text/html": [
       "\n",
       "  <div id=\"df-48473991-e0c6-4ffe-b8da-f568da701149\">\n",
       "    <div class=\"colab-df-container\">\n",
       "      <div>\n",
       "<style scoped>\n",
       "    .dataframe tbody tr th:only-of-type {\n",
       "        vertical-align: middle;\n",
       "    }\n",
       "\n",
       "    .dataframe tbody tr th {\n",
       "        vertical-align: top;\n",
       "    }\n",
       "\n",
       "    .dataframe thead th {\n",
       "        text-align: right;\n",
       "    }\n",
       "</style>\n",
       "<table border=\"1\" class=\"dataframe\">\n",
       "  <thead>\n",
       "    <tr style=\"text-align: right;\">\n",
       "      <th></th>\n",
       "      <th>Train</th>\n",
       "      <th>Test</th>\n",
       "    </tr>\n",
       "  </thead>\n",
       "  <tbody>\n",
       "    <tr>\n",
       "      <th>Ridgecv</th>\n",
       "      <td>3972.750248</td>\n",
       "      <td>3951.600908</td>\n",
       "    </tr>\n",
       "    <tr>\n",
       "      <th>Lassocv</th>\n",
       "      <td>78.582601</td>\n",
       "      <td>76.641858</td>\n",
       "    </tr>\n",
       "    <tr>\n",
       "      <th>Elasticnetcv</th>\n",
       "      <td>77.423902</td>\n",
       "      <td>75.773225</td>\n",
       "    </tr>\n",
       "  </tbody>\n",
       "</table>\n",
       "</div>\n",
       "      <button class=\"colab-df-convert\" onclick=\"convertToInteractive('df-48473991-e0c6-4ffe-b8da-f568da701149')\"\n",
       "              title=\"Convert this dataframe to an interactive table.\"\n",
       "              style=\"display:none;\">\n",
       "        \n",
       "  <svg xmlns=\"http://www.w3.org/2000/svg\" height=\"24px\"viewBox=\"0 0 24 24\"\n",
       "       width=\"24px\">\n",
       "    <path d=\"M0 0h24v24H0V0z\" fill=\"none\"/>\n",
       "    <path d=\"M18.56 5.44l.94 2.06.94-2.06 2.06-.94-2.06-.94-.94-2.06-.94 2.06-2.06.94zm-11 1L8.5 8.5l.94-2.06 2.06-.94-2.06-.94L8.5 2.5l-.94 2.06-2.06.94zm10 10l.94 2.06.94-2.06 2.06-.94-2.06-.94-.94-2.06-.94 2.06-2.06.94z\"/><path d=\"M17.41 7.96l-1.37-1.37c-.4-.4-.92-.59-1.43-.59-.52 0-1.04.2-1.43.59L10.3 9.45l-7.72 7.72c-.78.78-.78 2.05 0 2.83L4 21.41c.39.39.9.59 1.41.59.51 0 1.02-.2 1.41-.59l7.78-7.78 2.81-2.81c.8-.78.8-2.07 0-2.86zM5.41 20L4 18.59l7.72-7.72 1.47 1.35L5.41 20z\"/>\n",
       "  </svg>\n",
       "      </button>\n",
       "      \n",
       "  <style>\n",
       "    .colab-df-container {\n",
       "      display:flex;\n",
       "      flex-wrap:wrap;\n",
       "      gap: 12px;\n",
       "    }\n",
       "\n",
       "    .colab-df-convert {\n",
       "      background-color: #E8F0FE;\n",
       "      border: none;\n",
       "      border-radius: 50%;\n",
       "      cursor: pointer;\n",
       "      display: none;\n",
       "      fill: #1967D2;\n",
       "      height: 32px;\n",
       "      padding: 0 0 0 0;\n",
       "      width: 32px;\n",
       "    }\n",
       "\n",
       "    .colab-df-convert:hover {\n",
       "      background-color: #E2EBFA;\n",
       "      box-shadow: 0px 1px 2px rgba(60, 64, 67, 0.3), 0px 1px 3px 1px rgba(60, 64, 67, 0.15);\n",
       "      fill: #174EA6;\n",
       "    }\n",
       "\n",
       "    [theme=dark] .colab-df-convert {\n",
       "      background-color: #3B4455;\n",
       "      fill: #D2E3FC;\n",
       "    }\n",
       "\n",
       "    [theme=dark] .colab-df-convert:hover {\n",
       "      background-color: #434B5C;\n",
       "      box-shadow: 0px 1px 3px 1px rgba(0, 0, 0, 0.15);\n",
       "      filter: drop-shadow(0px 1px 2px rgba(0, 0, 0, 0.3));\n",
       "      fill: #FFFFFF;\n",
       "    }\n",
       "  </style>\n",
       "\n",
       "      <script>\n",
       "        const buttonEl =\n",
       "          document.querySelector('#df-48473991-e0c6-4ffe-b8da-f568da701149 button.colab-df-convert');\n",
       "        buttonEl.style.display =\n",
       "          google.colab.kernel.accessAllowed ? 'block' : 'none';\n",
       "\n",
       "        async function convertToInteractive(key) {\n",
       "          const element = document.querySelector('#df-48473991-e0c6-4ffe-b8da-f568da701149');\n",
       "          const dataTable =\n",
       "            await google.colab.kernel.invokeFunction('convertToInteractive',\n",
       "                                                     [key], {});\n",
       "          if (!dataTable) return;\n",
       "\n",
       "          const docLinkHtml = 'Like what you see? Visit the ' +\n",
       "            '<a target=\"_blank\" href=https://colab.research.google.com/notebooks/data_table.ipynb>data table notebook</a>'\n",
       "            + ' to learn more about interactive tables.';\n",
       "          element.innerHTML = '';\n",
       "          dataTable['output_type'] = 'display_data';\n",
       "          await google.colab.output.renderOutput(dataTable, element);\n",
       "          const docLink = document.createElement('div');\n",
       "          docLink.innerHTML = docLinkHtml;\n",
       "          element.appendChild(docLink);\n",
       "        }\n",
       "      </script>\n",
       "    </div>\n",
       "  </div>\n",
       "  "
      ],
      "text/plain": [
       "                    Train         Test\n",
       "Ridgecv       3972.750248  3951.600908\n",
       "Lassocv         78.582601    76.641858\n",
       "Elasticnetcv    77.423902    75.773225"
      ]
     },
     "execution_count": 40,
     "metadata": {},
     "output_type": "execute_result"
    }
   ],
   "source": [
    "metrics_mae = {'Train':[MAE_tr,MAE_tr_l,MAE_tr_e],'Test':[MAE_tt,MAE_tt_l,MAE_tt_e]}\n",
    "results_mae = pd.DataFrame(metrics_mae,index=['Ridgecv','Lassocv','Elasticnetcv'])\n",
    "results_mae"
   ]
  },
  {
   "cell_type": "code",
   "execution_count": null,
   "metadata": {
    "colab": {
     "base_uri": "https://localhost:8080/",
     "height": 143
    },
    "id": "jEi2fnwsR_hA",
    "outputId": "2ee59e2b-8169-488a-ca38-1b1450f208cc"
   },
   "outputs": [
    {
     "data": {
      "text/html": [
       "\n",
       "  <div id=\"df-c8940d84-a3e3-481b-a28b-89fa9b7deca6\">\n",
       "    <div class=\"colab-df-container\">\n",
       "      <div>\n",
       "<style scoped>\n",
       "    .dataframe tbody tr th:only-of-type {\n",
       "        vertical-align: middle;\n",
       "    }\n",
       "\n",
       "    .dataframe tbody tr th {\n",
       "        vertical-align: top;\n",
       "    }\n",
       "\n",
       "    .dataframe thead th {\n",
       "        text-align: right;\n",
       "    }\n",
       "</style>\n",
       "<table border=\"1\" class=\"dataframe\">\n",
       "  <thead>\n",
       "    <tr style=\"text-align: right;\">\n",
       "      <th></th>\n",
       "      <th>Train</th>\n",
       "      <th>Test</th>\n",
       "    </tr>\n",
       "  </thead>\n",
       "  <tbody>\n",
       "    <tr>\n",
       "      <th>Ridgecv</th>\n",
       "      <td>3972.750248</td>\n",
       "      <td>3951.600908</td>\n",
       "    </tr>\n",
       "    <tr>\n",
       "      <th>Lassocv</th>\n",
       "      <td>78.582601</td>\n",
       "      <td>76.641858</td>\n",
       "    </tr>\n",
       "    <tr>\n",
       "      <th>Elasticnetcv</th>\n",
       "      <td>77.423902</td>\n",
       "      <td>75.773225</td>\n",
       "    </tr>\n",
       "  </tbody>\n",
       "</table>\n",
       "</div>\n",
       "      <button class=\"colab-df-convert\" onclick=\"convertToInteractive('df-c8940d84-a3e3-481b-a28b-89fa9b7deca6')\"\n",
       "              title=\"Convert this dataframe to an interactive table.\"\n",
       "              style=\"display:none;\">\n",
       "        \n",
       "  <svg xmlns=\"http://www.w3.org/2000/svg\" height=\"24px\"viewBox=\"0 0 24 24\"\n",
       "       width=\"24px\">\n",
       "    <path d=\"M0 0h24v24H0V0z\" fill=\"none\"/>\n",
       "    <path d=\"M18.56 5.44l.94 2.06.94-2.06 2.06-.94-2.06-.94-.94-2.06-.94 2.06-2.06.94zm-11 1L8.5 8.5l.94-2.06 2.06-.94-2.06-.94L8.5 2.5l-.94 2.06-2.06.94zm10 10l.94 2.06.94-2.06 2.06-.94-2.06-.94-.94-2.06-.94 2.06-2.06.94z\"/><path d=\"M17.41 7.96l-1.37-1.37c-.4-.4-.92-.59-1.43-.59-.52 0-1.04.2-1.43.59L10.3 9.45l-7.72 7.72c-.78.78-.78 2.05 0 2.83L4 21.41c.39.39.9.59 1.41.59.51 0 1.02-.2 1.41-.59l7.78-7.78 2.81-2.81c.8-.78.8-2.07 0-2.86zM5.41 20L4 18.59l7.72-7.72 1.47 1.35L5.41 20z\"/>\n",
       "  </svg>\n",
       "      </button>\n",
       "      \n",
       "  <style>\n",
       "    .colab-df-container {\n",
       "      display:flex;\n",
       "      flex-wrap:wrap;\n",
       "      gap: 12px;\n",
       "    }\n",
       "\n",
       "    .colab-df-convert {\n",
       "      background-color: #E8F0FE;\n",
       "      border: none;\n",
       "      border-radius: 50%;\n",
       "      cursor: pointer;\n",
       "      display: none;\n",
       "      fill: #1967D2;\n",
       "      height: 32px;\n",
       "      padding: 0 0 0 0;\n",
       "      width: 32px;\n",
       "    }\n",
       "\n",
       "    .colab-df-convert:hover {\n",
       "      background-color: #E2EBFA;\n",
       "      box-shadow: 0px 1px 2px rgba(60, 64, 67, 0.3), 0px 1px 3px 1px rgba(60, 64, 67, 0.15);\n",
       "      fill: #174EA6;\n",
       "    }\n",
       "\n",
       "    [theme=dark] .colab-df-convert {\n",
       "      background-color: #3B4455;\n",
       "      fill: #D2E3FC;\n",
       "    }\n",
       "\n",
       "    [theme=dark] .colab-df-convert:hover {\n",
       "      background-color: #434B5C;\n",
       "      box-shadow: 0px 1px 3px 1px rgba(0, 0, 0, 0.15);\n",
       "      filter: drop-shadow(0px 1px 2px rgba(0, 0, 0, 0.3));\n",
       "      fill: #FFFFFF;\n",
       "    }\n",
       "  </style>\n",
       "\n",
       "      <script>\n",
       "        const buttonEl =\n",
       "          document.querySelector('#df-c8940d84-a3e3-481b-a28b-89fa9b7deca6 button.colab-df-convert');\n",
       "        buttonEl.style.display =\n",
       "          google.colab.kernel.accessAllowed ? 'block' : 'none';\n",
       "\n",
       "        async function convertToInteractive(key) {\n",
       "          const element = document.querySelector('#df-c8940d84-a3e3-481b-a28b-89fa9b7deca6');\n",
       "          const dataTable =\n",
       "            await google.colab.kernel.invokeFunction('convertToInteractive',\n",
       "                                                     [key], {});\n",
       "          if (!dataTable) return;\n",
       "\n",
       "          const docLinkHtml = 'Like what you see? Visit the ' +\n",
       "            '<a target=\"_blank\" href=https://colab.research.google.com/notebooks/data_table.ipynb>data table notebook</a>'\n",
       "            + ' to learn more about interactive tables.';\n",
       "          element.innerHTML = '';\n",
       "          dataTable['output_type'] = 'display_data';\n",
       "          await google.colab.output.renderOutput(dataTable, element);\n",
       "          const docLink = document.createElement('div');\n",
       "          docLink.innerHTML = docLinkHtml;\n",
       "          element.appendChild(docLink);\n",
       "        }\n",
       "      </script>\n",
       "    </div>\n",
       "  </div>\n",
       "  "
      ],
      "text/plain": [
       "                    Train         Test\n",
       "Ridgecv       3972.750248  3951.600908\n",
       "Lassocv         78.582601    76.641858\n",
       "Elasticnetcv    77.423902    75.773225"
      ]
     },
     "execution_count": 41,
     "metadata": {},
     "output_type": "execute_result"
    }
   ],
   "source": [
    "metrics_rmsq = {'Train':[RMSEr_tr,RMSEr_tr_l,RMSEr_tr_e],'Test':[RMSEr_tt,RMSEr_tt_l,RMSEr_tt_e]}\n",
    "results_rmsq = pd.DataFrame(metrics_mae,index=['Ridgecv','Lassocv','Elasticnetcv'])\n",
    "results_rmsq"
   ]
  },
  {
   "cell_type": "markdown",
   "metadata": {
    "id": "VOD8iHUZUh6H"
   },
   "source": [
    "### Features and coefficients utilized by the models"
   ]
  },
  {
   "cell_type": "code",
   "execution_count": null,
   "metadata": {
    "id": "fUVgGCPmUDMI"
   },
   "outputs": [],
   "source": [
    "## RidgeCV coefficients\n",
    "\n",
    "rcvcoef_df = pd.DataFrame(ridge_cv_model.coef_,X.columns,columns=['Coefficient'])\n",
    "rcv = rcvcoef_df[rcvcoef_df['Coefficient']>0].sort_values('Coefficient',ascending=False)"
   ]
  },
  {
   "cell_type": "code",
   "execution_count": null,
   "metadata": {
    "colab": {
     "base_uri": "https://localhost:8080/",
     "height": 363
    },
    "id": "qMA7g8txUPzw",
    "outputId": "011fa014-58ce-443f-8cac-873f228fa7d7"
   },
   "outputs": [
    {
     "data": {
      "text/html": [
       "\n",
       "  <div id=\"df-ebd3a0b6-8df7-4bf6-b285-ad6a2d6a125a\">\n",
       "    <div class=\"colab-df-container\">\n",
       "      <div>\n",
       "<style scoped>\n",
       "    .dataframe tbody tr th:only-of-type {\n",
       "        vertical-align: middle;\n",
       "    }\n",
       "\n",
       "    .dataframe tbody tr th {\n",
       "        vertical-align: top;\n",
       "    }\n",
       "\n",
       "    .dataframe thead th {\n",
       "        text-align: right;\n",
       "    }\n",
       "</style>\n",
       "<table border=\"1\" class=\"dataframe\">\n",
       "  <thead>\n",
       "    <tr style=\"text-align: right;\">\n",
       "      <th></th>\n",
       "      <th>Coefficient</th>\n",
       "    </tr>\n",
       "  </thead>\n",
       "  <tbody>\n",
       "    <tr>\n",
       "      <th>ProfessionalCdr</th>\n",
       "      <td>947.759649</td>\n",
       "    </tr>\n",
       "    <tr>\n",
       "      <th>SkilledManualCdr</th>\n",
       "      <td>474.988969</td>\n",
       "    </tr>\n",
       "    <tr>\n",
       "      <th>PartialCollege</th>\n",
       "      <td>90.128788</td>\n",
       "    </tr>\n",
       "    <tr>\n",
       "      <th>HighSchool</th>\n",
       "      <td>86.953750</td>\n",
       "    </tr>\n",
       "    <tr>\n",
       "      <th>PartialHighSc</th>\n",
       "      <td>67.629471</td>\n",
       "    </tr>\n",
       "    <tr>\n",
       "      <th>PartialCollege ProfessionalCdr</th>\n",
       "      <td>46.854181</td>\n",
       "    </tr>\n",
       "    <tr>\n",
       "      <th>graduate ManualCdr</th>\n",
       "      <td>34.405723</td>\n",
       "    </tr>\n",
       "    <tr>\n",
       "      <th>graduate ProfessionalCdr</th>\n",
       "      <td>31.929519</td>\n",
       "    </tr>\n",
       "    <tr>\n",
       "      <th>Single</th>\n",
       "      <td>29.169763</td>\n",
       "    </tr>\n",
       "    <tr>\n",
       "      <th>PartialHighSc Single</th>\n",
       "      <td>22.486721</td>\n",
       "    </tr>\n",
       "  </tbody>\n",
       "</table>\n",
       "</div>\n",
       "      <button class=\"colab-df-convert\" onclick=\"convertToInteractive('df-ebd3a0b6-8df7-4bf6-b285-ad6a2d6a125a')\"\n",
       "              title=\"Convert this dataframe to an interactive table.\"\n",
       "              style=\"display:none;\">\n",
       "        \n",
       "  <svg xmlns=\"http://www.w3.org/2000/svg\" height=\"24px\"viewBox=\"0 0 24 24\"\n",
       "       width=\"24px\">\n",
       "    <path d=\"M0 0h24v24H0V0z\" fill=\"none\"/>\n",
       "    <path d=\"M18.56 5.44l.94 2.06.94-2.06 2.06-.94-2.06-.94-.94-2.06-.94 2.06-2.06.94zm-11 1L8.5 8.5l.94-2.06 2.06-.94-2.06-.94L8.5 2.5l-.94 2.06-2.06.94zm10 10l.94 2.06.94-2.06 2.06-.94-2.06-.94-.94-2.06-.94 2.06-2.06.94z\"/><path d=\"M17.41 7.96l-1.37-1.37c-.4-.4-.92-.59-1.43-.59-.52 0-1.04.2-1.43.59L10.3 9.45l-7.72 7.72c-.78.78-.78 2.05 0 2.83L4 21.41c.39.39.9.59 1.41.59.51 0 1.02-.2 1.41-.59l7.78-7.78 2.81-2.81c.8-.78.8-2.07 0-2.86zM5.41 20L4 18.59l7.72-7.72 1.47 1.35L5.41 20z\"/>\n",
       "  </svg>\n",
       "      </button>\n",
       "      \n",
       "  <style>\n",
       "    .colab-df-container {\n",
       "      display:flex;\n",
       "      flex-wrap:wrap;\n",
       "      gap: 12px;\n",
       "    }\n",
       "\n",
       "    .colab-df-convert {\n",
       "      background-color: #E8F0FE;\n",
       "      border: none;\n",
       "      border-radius: 50%;\n",
       "      cursor: pointer;\n",
       "      display: none;\n",
       "      fill: #1967D2;\n",
       "      height: 32px;\n",
       "      padding: 0 0 0 0;\n",
       "      width: 32px;\n",
       "    }\n",
       "\n",
       "    .colab-df-convert:hover {\n",
       "      background-color: #E2EBFA;\n",
       "      box-shadow: 0px 1px 2px rgba(60, 64, 67, 0.3), 0px 1px 3px 1px rgba(60, 64, 67, 0.15);\n",
       "      fill: #174EA6;\n",
       "    }\n",
       "\n",
       "    [theme=dark] .colab-df-convert {\n",
       "      background-color: #3B4455;\n",
       "      fill: #D2E3FC;\n",
       "    }\n",
       "\n",
       "    [theme=dark] .colab-df-convert:hover {\n",
       "      background-color: #434B5C;\n",
       "      box-shadow: 0px 1px 3px 1px rgba(0, 0, 0, 0.15);\n",
       "      filter: drop-shadow(0px 1px 2px rgba(0, 0, 0, 0.3));\n",
       "      fill: #FFFFFF;\n",
       "    }\n",
       "  </style>\n",
       "\n",
       "      <script>\n",
       "        const buttonEl =\n",
       "          document.querySelector('#df-ebd3a0b6-8df7-4bf6-b285-ad6a2d6a125a button.colab-df-convert');\n",
       "        buttonEl.style.display =\n",
       "          google.colab.kernel.accessAllowed ? 'block' : 'none';\n",
       "\n",
       "        async function convertToInteractive(key) {\n",
       "          const element = document.querySelector('#df-ebd3a0b6-8df7-4bf6-b285-ad6a2d6a125a');\n",
       "          const dataTable =\n",
       "            await google.colab.kernel.invokeFunction('convertToInteractive',\n",
       "                                                     [key], {});\n",
       "          if (!dataTable) return;\n",
       "\n",
       "          const docLinkHtml = 'Like what you see? Visit the ' +\n",
       "            '<a target=\"_blank\" href=https://colab.research.google.com/notebooks/data_table.ipynb>data table notebook</a>'\n",
       "            + ' to learn more about interactive tables.';\n",
       "          element.innerHTML = '';\n",
       "          dataTable['output_type'] = 'display_data';\n",
       "          await google.colab.output.renderOutput(dataTable, element);\n",
       "          const docLink = document.createElement('div');\n",
       "          docLink.innerHTML = docLinkHtml;\n",
       "          element.appendChild(docLink);\n",
       "        }\n",
       "      </script>\n",
       "    </div>\n",
       "  </div>\n",
       "  "
      ],
      "text/plain": [
       "                                Coefficient\n",
       "ProfessionalCdr                  947.759649\n",
       "SkilledManualCdr                 474.988969\n",
       "PartialCollege                    90.128788\n",
       "HighSchool                        86.953750\n",
       "PartialHighSc                     67.629471\n",
       "PartialCollege ProfessionalCdr    46.854181\n",
       "graduate ManualCdr                34.405723\n",
       "graduate ProfessionalCdr          31.929519\n",
       "Single                            29.169763\n",
       "PartialHighSc Single              22.486721"
      ]
     },
     "execution_count": 51,
     "metadata": {},
     "output_type": "execute_result"
    }
   ],
   "source": [
    "rcv.head(10)"
   ]
  },
  {
   "cell_type": "code",
   "execution_count": null,
   "metadata": {
    "id": "9LeGquoVUQIS"
   },
   "outputs": [],
   "source": [
    "## LassoCV coefficients\n",
    "\n",
    "lassocoef_df = pd.DataFrame(lasso_cv_model.coef_,X.columns,columns=['Coefficient'])\n",
    "lassocoef_df\n",
    "lasso_var = lassocoef_df[lassocoef_df['Coefficient']>0]"
   ]
  },
  {
   "cell_type": "code",
   "execution_count": null,
   "metadata": {
    "colab": {
     "base_uri": "https://localhost:8080/",
     "height": 81
    },
    "id": "SjEhbQPsYToO",
    "outputId": "bdf0d04e-8ae5-4a47-a1dd-e12b769aea68"
   },
   "outputs": [
    {
     "data": {
      "text/html": [
       "\n",
       "  <div id=\"df-54a3feb4-860e-474c-bb79-15c8ccd80b38\">\n",
       "    <div class=\"colab-df-container\">\n",
       "      <div>\n",
       "<style scoped>\n",
       "    .dataframe tbody tr th:only-of-type {\n",
       "        vertical-align: middle;\n",
       "    }\n",
       "\n",
       "    .dataframe tbody tr th {\n",
       "        vertical-align: top;\n",
       "    }\n",
       "\n",
       "    .dataframe thead th {\n",
       "        text-align: right;\n",
       "    }\n",
       "</style>\n",
       "<table border=\"1\" class=\"dataframe\">\n",
       "  <thead>\n",
       "    <tr style=\"text-align: right;\">\n",
       "      <th></th>\n",
       "      <th>Coefficient</th>\n",
       "    </tr>\n",
       "  </thead>\n",
       "  <tbody>\n",
       "    <tr>\n",
       "      <th>Income DiscountAmt</th>\n",
       "      <td>0.000062</td>\n",
       "    </tr>\n",
       "  </tbody>\n",
       "</table>\n",
       "</div>\n",
       "      <button class=\"colab-df-convert\" onclick=\"convertToInteractive('df-54a3feb4-860e-474c-bb79-15c8ccd80b38')\"\n",
       "              title=\"Convert this dataframe to an interactive table.\"\n",
       "              style=\"display:none;\">\n",
       "        \n",
       "  <svg xmlns=\"http://www.w3.org/2000/svg\" height=\"24px\"viewBox=\"0 0 24 24\"\n",
       "       width=\"24px\">\n",
       "    <path d=\"M0 0h24v24H0V0z\" fill=\"none\"/>\n",
       "    <path d=\"M18.56 5.44l.94 2.06.94-2.06 2.06-.94-2.06-.94-.94-2.06-.94 2.06-2.06.94zm-11 1L8.5 8.5l.94-2.06 2.06-.94-2.06-.94L8.5 2.5l-.94 2.06-2.06.94zm10 10l.94 2.06.94-2.06 2.06-.94-2.06-.94-.94-2.06-.94 2.06-2.06.94z\"/><path d=\"M17.41 7.96l-1.37-1.37c-.4-.4-.92-.59-1.43-.59-.52 0-1.04.2-1.43.59L10.3 9.45l-7.72 7.72c-.78.78-.78 2.05 0 2.83L4 21.41c.39.39.9.59 1.41.59.51 0 1.02-.2 1.41-.59l7.78-7.78 2.81-2.81c.8-.78.8-2.07 0-2.86zM5.41 20L4 18.59l7.72-7.72 1.47 1.35L5.41 20z\"/>\n",
       "  </svg>\n",
       "      </button>\n",
       "      \n",
       "  <style>\n",
       "    .colab-df-container {\n",
       "      display:flex;\n",
       "      flex-wrap:wrap;\n",
       "      gap: 12px;\n",
       "    }\n",
       "\n",
       "    .colab-df-convert {\n",
       "      background-color: #E8F0FE;\n",
       "      border: none;\n",
       "      border-radius: 50%;\n",
       "      cursor: pointer;\n",
       "      display: none;\n",
       "      fill: #1967D2;\n",
       "      height: 32px;\n",
       "      padding: 0 0 0 0;\n",
       "      width: 32px;\n",
       "    }\n",
       "\n",
       "    .colab-df-convert:hover {\n",
       "      background-color: #E2EBFA;\n",
       "      box-shadow: 0px 1px 2px rgba(60, 64, 67, 0.3), 0px 1px 3px 1px rgba(60, 64, 67, 0.15);\n",
       "      fill: #174EA6;\n",
       "    }\n",
       "\n",
       "    [theme=dark] .colab-df-convert {\n",
       "      background-color: #3B4455;\n",
       "      fill: #D2E3FC;\n",
       "    }\n",
       "\n",
       "    [theme=dark] .colab-df-convert:hover {\n",
       "      background-color: #434B5C;\n",
       "      box-shadow: 0px 1px 3px 1px rgba(0, 0, 0, 0.15);\n",
       "      filter: drop-shadow(0px 1px 2px rgba(0, 0, 0, 0.3));\n",
       "      fill: #FFFFFF;\n",
       "    }\n",
       "  </style>\n",
       "\n",
       "      <script>\n",
       "        const buttonEl =\n",
       "          document.querySelector('#df-54a3feb4-860e-474c-bb79-15c8ccd80b38 button.colab-df-convert');\n",
       "        buttonEl.style.display =\n",
       "          google.colab.kernel.accessAllowed ? 'block' : 'none';\n",
       "\n",
       "        async function convertToInteractive(key) {\n",
       "          const element = document.querySelector('#df-54a3feb4-860e-474c-bb79-15c8ccd80b38');\n",
       "          const dataTable =\n",
       "            await google.colab.kernel.invokeFunction('convertToInteractive',\n",
       "                                                     [key], {});\n",
       "          if (!dataTable) return;\n",
       "\n",
       "          const docLinkHtml = 'Like what you see? Visit the ' +\n",
       "            '<a target=\"_blank\" href=https://colab.research.google.com/notebooks/data_table.ipynb>data table notebook</a>'\n",
       "            + ' to learn more about interactive tables.';\n",
       "          element.innerHTML = '';\n",
       "          dataTable['output_type'] = 'display_data';\n",
       "          await google.colab.output.renderOutput(dataTable, element);\n",
       "          const docLink = document.createElement('div');\n",
       "          docLink.innerHTML = docLinkHtml;\n",
       "          element.appendChild(docLink);\n",
       "        }\n",
       "      </script>\n",
       "    </div>\n",
       "  </div>\n",
       "  "
      ],
      "text/plain": [
       "                    Coefficient\n",
       "Income DiscountAmt     0.000062"
      ]
     },
     "execution_count": 61,
     "metadata": {},
     "output_type": "execute_result"
    }
   ],
   "source": [
    "lasso_var"
   ]
  },
  {
   "cell_type": "code",
   "execution_count": null,
   "metadata": {
    "colab": {
     "base_uri": "https://localhost:8080/"
    },
    "id": "IT2K18ulY4G5",
    "outputId": "508ae49e-28d5-44d9-c414-447566d1c270"
   },
   "outputs": [
    {
     "data": {
      "text/plain": [
       "array([-0.00000000e+00,  0.00000000e+00,  0.00000000e+00,  0.00000000e+00,\n",
       "       -0.00000000e+00,  0.00000000e+00, -0.00000000e+00,  0.00000000e+00,\n",
       "        0.00000000e+00, -0.00000000e+00, -0.00000000e+00, -0.00000000e+00,\n",
       "       -0.00000000e+00,  0.00000000e+00,  6.22995297e-05, -1.95036439e-05,\n",
       "        0.00000000e+00, -0.00000000e+00,  0.00000000e+00,  0.00000000e+00,\n",
       "        0.00000000e+00, -0.00000000e+00, -0.00000000e+00, -0.00000000e+00,\n",
       "       -0.00000000e+00, -0.00000000e+00,  0.00000000e+00,  0.00000000e+00,\n",
       "        0.00000000e+00, -0.00000000e+00,  0.00000000e+00,  0.00000000e+00,\n",
       "        0.00000000e+00,  0.00000000e+00,  0.00000000e+00, -0.00000000e+00,\n",
       "        0.00000000e+00, -0.00000000e+00,  0.00000000e+00,  0.00000000e+00,\n",
       "       -0.00000000e+00,  0.00000000e+00, -0.00000000e+00,  0.00000000e+00,\n",
       "        0.00000000e+00, -0.00000000e+00, -0.00000000e+00, -0.00000000e+00,\n",
       "       -0.00000000e+00,  0.00000000e+00, -0.00000000e+00,  0.00000000e+00,\n",
       "       -0.00000000e+00,  0.00000000e+00,  0.00000000e+00, -0.00000000e+00,\n",
       "       -0.00000000e+00, -0.00000000e+00, -0.00000000e+00,  0.00000000e+00,\n",
       "        0.00000000e+00,  0.00000000e+00,  0.00000000e+00, -0.00000000e+00,\n",
       "       -0.00000000e+00, -0.00000000e+00, -0.00000000e+00, -0.00000000e+00,\n",
       "        0.00000000e+00,  0.00000000e+00,  0.00000000e+00,  0.00000000e+00,\n",
       "        0.00000000e+00, -0.00000000e+00, -0.00000000e+00,  0.00000000e+00,\n",
       "        0.00000000e+00,  0.00000000e+00, -0.00000000e+00, -0.00000000e+00,\n",
       "        0.00000000e+00, -0.00000000e+00,  0.00000000e+00, -0.00000000e+00,\n",
       "        0.00000000e+00,  0.00000000e+00, -0.00000000e+00, -0.00000000e+00,\n",
       "       -0.00000000e+00,  0.00000000e+00, -0.00000000e+00, -0.00000000e+00,\n",
       "       -0.00000000e+00, -0.00000000e+00,  0.00000000e+00, -0.00000000e+00,\n",
       "       -0.00000000e+00, -0.00000000e+00,  0.00000000e+00,  0.00000000e+00,\n",
       "        0.00000000e+00,  0.00000000e+00,  0.00000000e+00,  0.00000000e+00,\n",
       "        0.00000000e+00])"
      ]
     },
     "execution_count": 58,
     "metadata": {},
     "output_type": "execute_result"
    }
   ],
   "source": [
    "lasso_cv_model.coef_"
   ]
  },
  {
   "cell_type": "code",
   "execution_count": null,
   "metadata": {
    "id": "vsMAfMe_aX3L"
   },
   "outputs": [],
   "source": [
    "## LassoCV coefficients\n",
    "\n",
    "elastic_df = pd.DataFrame(elastic_model.coef_,X.columns,columns=['Coefficient'])\n",
    "elastic_df\n",
    "elastic_var = elastic_df[elastic_df['Coefficient']>0].sort_values('Coefficient',ascending=False)"
   ]
  },
  {
   "cell_type": "code",
   "execution_count": null,
   "metadata": {
    "colab": {
     "base_uri": "https://localhost:8080/",
     "height": 206
    },
    "id": "jfySRXS9a9DF",
    "outputId": "d1bf448d-3ce1-4c6a-855b-8fc0f24c1b6d"
   },
   "outputs": [
    {
     "data": {
      "text/html": [
       "\n",
       "  <div id=\"df-60f57805-9ada-4a66-8f8f-777d24d9568b\">\n",
       "    <div class=\"colab-df-container\">\n",
       "      <div>\n",
       "<style scoped>\n",
       "    .dataframe tbody tr th:only-of-type {\n",
       "        vertical-align: middle;\n",
       "    }\n",
       "\n",
       "    .dataframe tbody tr th {\n",
       "        vertical-align: top;\n",
       "    }\n",
       "\n",
       "    .dataframe thead th {\n",
       "        text-align: right;\n",
       "    }\n",
       "</style>\n",
       "<table border=\"1\" class=\"dataframe\">\n",
       "  <thead>\n",
       "    <tr style=\"text-align: right;\">\n",
       "      <th></th>\n",
       "      <th>Coefficient</th>\n",
       "    </tr>\n",
       "  </thead>\n",
       "  <tbody>\n",
       "    <tr>\n",
       "      <th>Income HighSchool</th>\n",
       "      <td>0.000193</td>\n",
       "    </tr>\n",
       "    <tr>\n",
       "      <th>Income SkilledManualCdr</th>\n",
       "      <td>0.000089</td>\n",
       "    </tr>\n",
       "    <tr>\n",
       "      <th>Income DiscountAmt</th>\n",
       "      <td>0.000074</td>\n",
       "    </tr>\n",
       "    <tr>\n",
       "      <th>Income PartialCollege</th>\n",
       "      <td>0.000029</td>\n",
       "    </tr>\n",
       "    <tr>\n",
       "      <th>Income Age</th>\n",
       "      <td>0.000017</td>\n",
       "    </tr>\n",
       "  </tbody>\n",
       "</table>\n",
       "</div>\n",
       "      <button class=\"colab-df-convert\" onclick=\"convertToInteractive('df-60f57805-9ada-4a66-8f8f-777d24d9568b')\"\n",
       "              title=\"Convert this dataframe to an interactive table.\"\n",
       "              style=\"display:none;\">\n",
       "        \n",
       "  <svg xmlns=\"http://www.w3.org/2000/svg\" height=\"24px\"viewBox=\"0 0 24 24\"\n",
       "       width=\"24px\">\n",
       "    <path d=\"M0 0h24v24H0V0z\" fill=\"none\"/>\n",
       "    <path d=\"M18.56 5.44l.94 2.06.94-2.06 2.06-.94-2.06-.94-.94-2.06-.94 2.06-2.06.94zm-11 1L8.5 8.5l.94-2.06 2.06-.94-2.06-.94L8.5 2.5l-.94 2.06-2.06.94zm10 10l.94 2.06.94-2.06 2.06-.94-2.06-.94-.94-2.06-.94 2.06-2.06.94z\"/><path d=\"M17.41 7.96l-1.37-1.37c-.4-.4-.92-.59-1.43-.59-.52 0-1.04.2-1.43.59L10.3 9.45l-7.72 7.72c-.78.78-.78 2.05 0 2.83L4 21.41c.39.39.9.59 1.41.59.51 0 1.02-.2 1.41-.59l7.78-7.78 2.81-2.81c.8-.78.8-2.07 0-2.86zM5.41 20L4 18.59l7.72-7.72 1.47 1.35L5.41 20z\"/>\n",
       "  </svg>\n",
       "      </button>\n",
       "      \n",
       "  <style>\n",
       "    .colab-df-container {\n",
       "      display:flex;\n",
       "      flex-wrap:wrap;\n",
       "      gap: 12px;\n",
       "    }\n",
       "\n",
       "    .colab-df-convert {\n",
       "      background-color: #E8F0FE;\n",
       "      border: none;\n",
       "      border-radius: 50%;\n",
       "      cursor: pointer;\n",
       "      display: none;\n",
       "      fill: #1967D2;\n",
       "      height: 32px;\n",
       "      padding: 0 0 0 0;\n",
       "      width: 32px;\n",
       "    }\n",
       "\n",
       "    .colab-df-convert:hover {\n",
       "      background-color: #E2EBFA;\n",
       "      box-shadow: 0px 1px 2px rgba(60, 64, 67, 0.3), 0px 1px 3px 1px rgba(60, 64, 67, 0.15);\n",
       "      fill: #174EA6;\n",
       "    }\n",
       "\n",
       "    [theme=dark] .colab-df-convert {\n",
       "      background-color: #3B4455;\n",
       "      fill: #D2E3FC;\n",
       "    }\n",
       "\n",
       "    [theme=dark] .colab-df-convert:hover {\n",
       "      background-color: #434B5C;\n",
       "      box-shadow: 0px 1px 3px 1px rgba(0, 0, 0, 0.15);\n",
       "      filter: drop-shadow(0px 1px 2px rgba(0, 0, 0, 0.3));\n",
       "      fill: #FFFFFF;\n",
       "    }\n",
       "  </style>\n",
       "\n",
       "      <script>\n",
       "        const buttonEl =\n",
       "          document.querySelector('#df-60f57805-9ada-4a66-8f8f-777d24d9568b button.colab-df-convert');\n",
       "        buttonEl.style.display =\n",
       "          google.colab.kernel.accessAllowed ? 'block' : 'none';\n",
       "\n",
       "        async function convertToInteractive(key) {\n",
       "          const element = document.querySelector('#df-60f57805-9ada-4a66-8f8f-777d24d9568b');\n",
       "          const dataTable =\n",
       "            await google.colab.kernel.invokeFunction('convertToInteractive',\n",
       "                                                     [key], {});\n",
       "          if (!dataTable) return;\n",
       "\n",
       "          const docLinkHtml = 'Like what you see? Visit the ' +\n",
       "            '<a target=\"_blank\" href=https://colab.research.google.com/notebooks/data_table.ipynb>data table notebook</a>'\n",
       "            + ' to learn more about interactive tables.';\n",
       "          element.innerHTML = '';\n",
       "          dataTable['output_type'] = 'display_data';\n",
       "          await google.colab.output.renderOutput(dataTable, element);\n",
       "          const docLink = document.createElement('div');\n",
       "          docLink.innerHTML = docLinkHtml;\n",
       "          element.appendChild(docLink);\n",
       "        }\n",
       "      </script>\n",
       "    </div>\n",
       "  </div>\n",
       "  "
      ],
      "text/plain": [
       "                         Coefficient\n",
       "Income HighSchool           0.000193\n",
       "Income SkilledManualCdr     0.000089\n",
       "Income DiscountAmt          0.000074\n",
       "Income PartialCollege       0.000029\n",
       "Income Age                  0.000017"
      ]
     },
     "execution_count": 66,
     "metadata": {},
     "output_type": "execute_result"
    }
   ],
   "source": [
    "elastic_var"
   ]
  }
 ],
 "metadata": {
  "accelerator": "GPU",
  "colab": {
   "collapsed_sections": [],
   "provenance": []
  },
  "gpuClass": "standard",
  "kernelspec": {
   "display_name": "Python 3 (ipykernel)",
   "language": "python",
   "name": "python3"
  },
  "language_info": {
   "codemirror_mode": {
    "name": "ipython",
    "version": 3
   },
   "file_extension": ".py",
   "mimetype": "text/x-python",
   "name": "python",
   "nbconvert_exporter": "python",
   "pygments_lexer": "ipython3",
   "version": "3.9.7"
  }
 },
 "nbformat": 4,
 "nbformat_minor": 1
}
