{
 "cells": [
  {
   "cell_type": "markdown",
   "metadata": {},
   "source": [
    "# Clustering of Countries according to Economic Freedom Indices"
   ]
  },
  {
   "cell_type": "code",
   "execution_count": 1,
   "metadata": {},
   "outputs": [],
   "source": [
    "import pandas as pd\n",
    "import numpy as np\n",
    "import seaborn as sns\n",
    "import matplotlib.pyplot as plt\n",
    "%matplotlib inline"
   ]
  },
  {
   "cell_type": "markdown",
   "metadata": {},
   "source": [
    "## 1. Importing the Dataset\n",
    "The dataset is hosted on heritage.org website https://www.heritage.org/index/explore?version=409. The data rates countries of the world on a number of metrics which include: Property Rights Protection, Judicial Effectiveness, Government Integrity, Fiscal Health, Business Freedom, Labour freedom, Monetary Freedom, Trade Freedom, Investment Freedom, Financial Freedom and other indices and come up with an overall rating for each country. These metrics is believed to influence economic development of nations, hence countries with high indices are supposed to perform much better than countries with low scores.  In 2020 for instance, Singapore had the highest rank of 89.4 followed by Hong Kong with 89.1 with Australia coming 3rd scoring 84.1.\n",
    "\n",
    "I have used these ratings to attempt clustering countries into groups using kmeans and meanshift.  The beauty of this approach is that, in kmeans, the number of clusters is selected based on visual inspection of distribution of the data points or using the elbow method whereas, Meanshift comes up with the number of clusters in the dataset. In addition to the elbow method, I also utilized the Silhoette method to infer the number of k.  The Silhouette is adjudged to be more objective than the visual or the elbow method.\n",
    "\n",
    "This is a high-dimensional dataset, hence I employed a Principal Component Analysis to reduce the dataset to 2 for the purpose of visualization.  I also utilized the silhouette score to evaluate the performance of the two clustering techniques."
   ]
  },
  {
   "cell_type": "code",
   "execution_count": 2,
   "metadata": {},
   "outputs": [
    {
     "data": {
      "text/html": [
       "<div>\n",
       "<style scoped>\n",
       "    .dataframe tbody tr th:only-of-type {\n",
       "        vertical-align: middle;\n",
       "    }\n",
       "\n",
       "    .dataframe tbody tr th {\n",
       "        vertical-align: top;\n",
       "    }\n",
       "\n",
       "    .dataframe thead th {\n",
       "        text-align: right;\n",
       "    }\n",
       "</style>\n",
       "<table border=\"1\" class=\"dataframe\">\n",
       "  <thead>\n",
       "    <tr style=\"text-align: right;\">\n",
       "      <th></th>\n",
       "      <th>Country</th>\n",
       "      <th>Region</th>\n",
       "      <th>World Rank</th>\n",
       "      <th>Region Rank</th>\n",
       "      <th>2020 Score</th>\n",
       "      <th>Prop_Rights</th>\n",
       "      <th>Jud_Effectiveness</th>\n",
       "      <th>Govt_Integrity</th>\n",
       "      <th>TaxBurden</th>\n",
       "      <th>GovtSpending</th>\n",
       "      <th>...</th>\n",
       "      <th>Country.1</th>\n",
       "      <th>pop</th>\n",
       "      <th>gdp</th>\n",
       "      <th>GDP Growth Rate (%)</th>\n",
       "      <th>5 Year GDP Growth Rate (%)</th>\n",
       "      <th>gdpPcp</th>\n",
       "      <th>Unemployment (%)</th>\n",
       "      <th>Inflation</th>\n",
       "      <th>FDI</th>\n",
       "      <th>Public Debt</th>\n",
       "    </tr>\n",
       "  </thead>\n",
       "  <tbody>\n",
       "    <tr>\n",
       "      <th>0</th>\n",
       "      <td>Afghanistan</td>\n",
       "      <td>Asia-Pacific</td>\n",
       "      <td>136.0</td>\n",
       "      <td>33.0</td>\n",
       "      <td>54.7</td>\n",
       "      <td>48.3</td>\n",
       "      <td>30.0</td>\n",
       "      <td>24.8</td>\n",
       "      <td>91.4</td>\n",
       "      <td>79.2</td>\n",
       "      <td>...</td>\n",
       "      <td>Afghanistan</td>\n",
       "      <td>36.020</td>\n",
       "      <td>72.648</td>\n",
       "      <td>2.300</td>\n",
       "      <td>2.2</td>\n",
       "      <td>2016.89</td>\n",
       "      <td>NaN</td>\n",
       "      <td>0.626</td>\n",
       "      <td>139.200000</td>\n",
       "      <td>7.079</td>\n",
       "    </tr>\n",
       "    <tr>\n",
       "      <th>1</th>\n",
       "      <td>Albania</td>\n",
       "      <td>Europe</td>\n",
       "      <td>57.0</td>\n",
       "      <td>30.0</td>\n",
       "      <td>66.9</td>\n",
       "      <td>57.1</td>\n",
       "      <td>33.0</td>\n",
       "      <td>38.8</td>\n",
       "      <td>85.9</td>\n",
       "      <td>74.6</td>\n",
       "      <td>...</td>\n",
       "      <td>Albania</td>\n",
       "      <td>2.874</td>\n",
       "      <td>38.356</td>\n",
       "      <td>4.162</td>\n",
       "      <td>3.1</td>\n",
       "      <td>13344.54</td>\n",
       "      <td>NaN</td>\n",
       "      <td>2.029</td>\n",
       "      <td>1293.617724</td>\n",
       "      <td>68.590</td>\n",
       "    </tr>\n",
       "    <tr>\n",
       "      <th>2</th>\n",
       "      <td>Algeria</td>\n",
       "      <td>Middle East and North Africa</td>\n",
       "      <td>169.0</td>\n",
       "      <td>14.0</td>\n",
       "      <td>46.9</td>\n",
       "      <td>37.9</td>\n",
       "      <td>35.0</td>\n",
       "      <td>28.3</td>\n",
       "      <td>75.4</td>\n",
       "      <td>52.6</td>\n",
       "      <td>...</td>\n",
       "      <td>Algeria</td>\n",
       "      <td>42.582</td>\n",
       "      <td>657.462</td>\n",
       "      <td>2.059</td>\n",
       "      <td>2.8</td>\n",
       "      <td>15439.92</td>\n",
       "      <td>NaN</td>\n",
       "      <td>4.270</td>\n",
       "      <td>1506.316886</td>\n",
       "      <td>36.872</td>\n",
       "    </tr>\n",
       "    <tr>\n",
       "      <th>3</th>\n",
       "      <td>Angola</td>\n",
       "      <td>Sub-Saharan Africa</td>\n",
       "      <td>154.0</td>\n",
       "      <td>35.0</td>\n",
       "      <td>52.2</td>\n",
       "      <td>36.9</td>\n",
       "      <td>14.3</td>\n",
       "      <td>15.1</td>\n",
       "      <td>87.3</td>\n",
       "      <td>85.7</td>\n",
       "      <td>...</td>\n",
       "      <td>Angola</td>\n",
       "      <td>29.250</td>\n",
       "      <td>199.319</td>\n",
       "      <td>-1.699</td>\n",
       "      <td>0.3</td>\n",
       "      <td>6814.33</td>\n",
       "      <td>NaN</td>\n",
       "      <td>19.629</td>\n",
       "      <td>-5732.491000</td>\n",
       "      <td>88.087</td>\n",
       "    </tr>\n",
       "    <tr>\n",
       "      <th>4</th>\n",
       "      <td>Argentina</td>\n",
       "      <td>Americas</td>\n",
       "      <td>149.0</td>\n",
       "      <td>26.0</td>\n",
       "      <td>53.1</td>\n",
       "      <td>50.5</td>\n",
       "      <td>47.0</td>\n",
       "      <td>49.7</td>\n",
       "      <td>69.6</td>\n",
       "      <td>50.7</td>\n",
       "      <td>...</td>\n",
       "      <td>Argentina</td>\n",
       "      <td>44.560</td>\n",
       "      <td>915.125</td>\n",
       "      <td>-2.515</td>\n",
       "      <td>-0.3</td>\n",
       "      <td>20537.06</td>\n",
       "      <td>NaN</td>\n",
       "      <td>34.277</td>\n",
       "      <td>12161.837000</td>\n",
       "      <td>86.289</td>\n",
       "    </tr>\n",
       "  </tbody>\n",
       "</table>\n",
       "<p>5 rows × 32 columns</p>\n",
       "</div>"
      ],
      "text/plain": [
       "       Country                        Region  World Rank  Region Rank  \\\n",
       "0  Afghanistan                  Asia-Pacific       136.0         33.0   \n",
       "1      Albania                        Europe        57.0         30.0   \n",
       "2      Algeria  Middle East and North Africa       169.0         14.0   \n",
       "3       Angola            Sub-Saharan Africa       154.0         35.0   \n",
       "4    Argentina                      Americas       149.0         26.0   \n",
       "\n",
       "   2020 Score  Prop_Rights  Jud_Effectiveness  Govt_Integrity  TaxBurden  \\\n",
       "0        54.7         48.3               30.0            24.8       91.4   \n",
       "1        66.9         57.1               33.0            38.8       85.9   \n",
       "2        46.9         37.9               35.0            28.3       75.4   \n",
       "3        52.2         36.9               14.3            15.1       87.3   \n",
       "4        53.1         50.5               47.0            49.7       69.6   \n",
       "\n",
       "   GovtSpending  ...    Country.1     pop      gdp  GDP Growth Rate (%)  \\\n",
       "0          79.2  ...  Afghanistan  36.020   72.648                2.300   \n",
       "1          74.6  ...      Albania   2.874   38.356                4.162   \n",
       "2          52.6  ...      Algeria  42.582  657.462                2.059   \n",
       "3          85.7  ...       Angola  29.250  199.319               -1.699   \n",
       "4          50.7  ...    Argentina  44.560  915.125               -2.515   \n",
       "\n",
       "   5 Year GDP Growth Rate (%)    gdpPcp  Unemployment (%)  Inflation  \\\n",
       "0                         2.2   2016.89               NaN      0.626   \n",
       "1                         3.1  13344.54               NaN      2.029   \n",
       "2                         2.8  15439.92               NaN      4.270   \n",
       "3                         0.3   6814.33               NaN     19.629   \n",
       "4                        -0.3  20537.06               NaN     34.277   \n",
       "\n",
       "            FDI  Public Debt  \n",
       "0    139.200000        7.079  \n",
       "1   1293.617724       68.590  \n",
       "2   1506.316886       36.872  \n",
       "3  -5732.491000       88.087  \n",
       "4  12161.837000       86.289  \n",
       "\n",
       "[5 rows x 32 columns]"
      ]
     },
     "execution_count": 2,
     "metadata": {},
     "output_type": "execute_result"
    }
   ],
   "source": [
    "efx = pd.read_excel('efreedom.xls')\n",
    "efx.head()"
   ]
  },
  {
   "cell_type": "code",
   "execution_count": 3,
   "metadata": {},
   "outputs": [
    {
     "data": {
      "text/plain": [
       "Index(['Country', 'Region', 'World Rank', 'Region Rank', '2020 Score',\n",
       "       'Prop_Rights', 'Jud_Effectiveness', 'Govt_Integrity', 'TaxBurden',\n",
       "       'GovtSpending', 'FiscalHealth', 'Biz_free', 'Labour_free',\n",
       "       'Monetary_free', 'Trade_free', 'Investment_free', 'Financial_free',\n",
       "       'Tariff Rate (%)', 'Income Tax Rate (%)', 'Corporate Tax Rate (%)',\n",
       "       'Tax Burden % of GDP', 'Gov't Expenditure % of GDP ', 'Country.1',\n",
       "       'pop', 'gdp', 'GDP Growth Rate (%)', '5 Year GDP Growth Rate (%)',\n",
       "       'gdpPcp', 'Unemployment (%)', 'Inflation', 'FDI', 'Public Debt'],\n",
       "      dtype='object')"
      ]
     },
     "execution_count": 3,
     "metadata": {},
     "output_type": "execute_result"
    }
   ],
   "source": [
    "efx.columns"
   ]
  },
  {
   "cell_type": "markdown",
   "metadata": {},
   "source": [
    "## 2. Data Preprocessing"
   ]
  },
  {
   "cell_type": "markdown",
   "metadata": {},
   "source": [
    "### 2.1 Extract the Economic Freedom Indices and GDPpc for analysis"
   ]
  },
  {
   "cell_type": "code",
   "execution_count": 4,
   "metadata": {
    "scrolled": true
   },
   "outputs": [
    {
     "data": {
      "text/html": [
       "<div>\n",
       "<style scoped>\n",
       "    .dataframe tbody tr th:only-of-type {\n",
       "        vertical-align: middle;\n",
       "    }\n",
       "\n",
       "    .dataframe tbody tr th {\n",
       "        vertical-align: top;\n",
       "    }\n",
       "\n",
       "    .dataframe thead th {\n",
       "        text-align: right;\n",
       "    }\n",
       "</style>\n",
       "<table border=\"1\" class=\"dataframe\">\n",
       "  <thead>\n",
       "    <tr style=\"text-align: right;\">\n",
       "      <th></th>\n",
       "      <th>Region</th>\n",
       "      <th>Country</th>\n",
       "      <th>Prop_Rights</th>\n",
       "      <th>Jud_Effectiveness</th>\n",
       "      <th>Govt_Integrity</th>\n",
       "      <th>FiscalHealth</th>\n",
       "      <th>Biz_free</th>\n",
       "      <th>Labour_free</th>\n",
       "      <th>Monetary_free</th>\n",
       "      <th>Trade_free</th>\n",
       "      <th>Investment_free</th>\n",
       "      <th>Financial_free</th>\n",
       "      <th>gdpPcp</th>\n",
       "    </tr>\n",
       "  </thead>\n",
       "  <tbody>\n",
       "    <tr>\n",
       "      <th>0</th>\n",
       "      <td>Asia-Pacific</td>\n",
       "      <td>Afghanistan</td>\n",
       "      <td>48.3</td>\n",
       "      <td>30.0</td>\n",
       "      <td>24.8</td>\n",
       "      <td>99.9</td>\n",
       "      <td>54.7</td>\n",
       "      <td>61.6</td>\n",
       "      <td>81.0</td>\n",
       "      <td>66.0</td>\n",
       "      <td>10.0</td>\n",
       "      <td>10.0</td>\n",
       "      <td>2016.89</td>\n",
       "    </tr>\n",
       "    <tr>\n",
       "      <th>1</th>\n",
       "      <td>Europe</td>\n",
       "      <td>Albania</td>\n",
       "      <td>57.1</td>\n",
       "      <td>33.0</td>\n",
       "      <td>38.8</td>\n",
       "      <td>86.3</td>\n",
       "      <td>65.7</td>\n",
       "      <td>52.1</td>\n",
       "      <td>81.2</td>\n",
       "      <td>88.4</td>\n",
       "      <td>70.0</td>\n",
       "      <td>70.0</td>\n",
       "      <td>13344.54</td>\n",
       "    </tr>\n",
       "    <tr>\n",
       "      <th>2</th>\n",
       "      <td>Middle East and North Africa</td>\n",
       "      <td>Algeria</td>\n",
       "      <td>37.9</td>\n",
       "      <td>35.0</td>\n",
       "      <td>28.3</td>\n",
       "      <td>17.3</td>\n",
       "      <td>63.0</td>\n",
       "      <td>50.5</td>\n",
       "      <td>76.2</td>\n",
       "      <td>66.2</td>\n",
       "      <td>30.0</td>\n",
       "      <td>30.0</td>\n",
       "      <td>15439.92</td>\n",
       "    </tr>\n",
       "    <tr>\n",
       "      <th>3</th>\n",
       "      <td>Sub-Saharan Africa</td>\n",
       "      <td>Angola</td>\n",
       "      <td>36.9</td>\n",
       "      <td>14.3</td>\n",
       "      <td>15.1</td>\n",
       "      <td>71.9</td>\n",
       "      <td>57.7</td>\n",
       "      <td>61.1</td>\n",
       "      <td>59.6</td>\n",
       "      <td>66.2</td>\n",
       "      <td>30.0</td>\n",
       "      <td>40.0</td>\n",
       "      <td>6814.33</td>\n",
       "    </tr>\n",
       "    <tr>\n",
       "      <th>4</th>\n",
       "      <td>Americas</td>\n",
       "      <td>Argentina</td>\n",
       "      <td>50.5</td>\n",
       "      <td>47.0</td>\n",
       "      <td>49.7</td>\n",
       "      <td>24.7</td>\n",
       "      <td>60.2</td>\n",
       "      <td>46.5</td>\n",
       "      <td>53.7</td>\n",
       "      <td>69.2</td>\n",
       "      <td>55.0</td>\n",
       "      <td>60.0</td>\n",
       "      <td>20537.06</td>\n",
       "    </tr>\n",
       "  </tbody>\n",
       "</table>\n",
       "</div>"
      ],
      "text/plain": [
       "                         Region      Country  Prop_Rights  Jud_Effectiveness  \\\n",
       "0                  Asia-Pacific  Afghanistan         48.3               30.0   \n",
       "1                        Europe      Albania         57.1               33.0   \n",
       "2  Middle East and North Africa      Algeria         37.9               35.0   \n",
       "3            Sub-Saharan Africa       Angola         36.9               14.3   \n",
       "4                      Americas    Argentina         50.5               47.0   \n",
       "\n",
       "   Govt_Integrity  FiscalHealth  Biz_free  Labour_free  Monetary_free  \\\n",
       "0            24.8          99.9      54.7         61.6           81.0   \n",
       "1            38.8          86.3      65.7         52.1           81.2   \n",
       "2            28.3          17.3      63.0         50.5           76.2   \n",
       "3            15.1          71.9      57.7         61.1           59.6   \n",
       "4            49.7          24.7      60.2         46.5           53.7   \n",
       "\n",
       "   Trade_free  Investment_free  Financial_free    gdpPcp  \n",
       "0        66.0             10.0            10.0   2016.89  \n",
       "1        88.4             70.0            70.0  13344.54  \n",
       "2        66.2             30.0            30.0  15439.92  \n",
       "3        66.2             30.0            40.0   6814.33  \n",
       "4        69.2             55.0            60.0  20537.06  "
      ]
     },
     "execution_count": 4,
     "metadata": {},
     "output_type": "execute_result"
    }
   ],
   "source": [
    "efi_df = efx[['Region','Country','Prop_Rights','Jud_Effectiveness','Govt_Integrity','FiscalHealth','Biz_free','Labour_free','Monetary_free','Trade_free','Investment_free','Financial_free','gdpPcp']]\n",
    "efi_df.head()"
   ]
  },
  {
   "cell_type": "markdown",
   "metadata": {},
   "source": [
    "### 2.2 Check for Missing Cases"
   ]
  },
  {
   "cell_type": "code",
   "execution_count": 5,
   "metadata": {},
   "outputs": [
    {
     "data": {
      "text/plain": [
       "(186, 13)"
      ]
     },
     "execution_count": 5,
     "metadata": {},
     "output_type": "execute_result"
    }
   ],
   "source": [
    "efi_df.shape"
   ]
  },
  {
   "cell_type": "code",
   "execution_count": 6,
   "metadata": {},
   "outputs": [
    {
     "data": {
      "text/plain": [
       "Region               0\n",
       "Country              0\n",
       "Prop_Rights          1\n",
       "Jud_Effectiveness    1\n",
       "Govt_Integrity       1\n",
       "FiscalHealth         4\n",
       "Biz_free             1\n",
       "Labour_free          2\n",
       "Monetary_free        2\n",
       "Trade_free           4\n",
       "Investment_free      2\n",
       "Financial_free       5\n",
       "gdpPcp               2\n",
       "dtype: int64"
      ]
     },
     "execution_count": 6,
     "metadata": {},
     "output_type": "execute_result"
    }
   ],
   "source": [
    "efi_df.isnull().sum()"
   ]
  },
  {
   "cell_type": "code",
   "execution_count": 7,
   "metadata": {},
   "outputs": [],
   "source": [
    "#We can delete the missing cases since they are not many\n",
    "\n",
    "df_efi = efi_df.dropna()"
   ]
  },
  {
   "cell_type": "code",
   "execution_count": 8,
   "metadata": {},
   "outputs": [
    {
     "data": {
      "text/plain": [
       "(180, 13)"
      ]
     },
     "execution_count": 8,
     "metadata": {},
     "output_type": "execute_result"
    }
   ],
   "source": [
    "df_efi.shape"
   ]
  },
  {
   "cell_type": "markdown",
   "metadata": {},
   "source": [
    "#### Results of Deleting\n",
    "I chose to delete the missing cases here since its a cross sectional data, and trying to interpolate for the few missing cases may not be signficant in influencing our results . Only 6 cases out of 186 were lost after dropping the missing cases"
   ]
  },
  {
   "cell_type": "markdown",
   "metadata": {},
   "source": [
    "## 3. Perform Visualization to select the optimal number of k\n",
    "The dataset has 11 dimensions and the need for us to visualize the clustering on a 2-dimensional plane necessitates reducing the dimensions to 2."
   ]
  },
  {
   "cell_type": "code",
   "execution_count": 9,
   "metadata": {},
   "outputs": [],
   "source": [
    "from sklearn.preprocessing import StandardScaler\n",
    "from sklearn.decomposition import PCA"
   ]
  },
  {
   "cell_type": "markdown",
   "metadata": {},
   "source": [
    "## 3.1 Finding optimal number of k using PCA\n",
    "Standardize the dataset and initiate the PCA instance"
   ]
  },
  {
   "cell_type": "code",
   "execution_count": 10,
   "metadata": {},
   "outputs": [
    {
     "data": {
      "text/html": [
       "<div>\n",
       "<style scoped>\n",
       "    .dataframe tbody tr th:only-of-type {\n",
       "        vertical-align: middle;\n",
       "    }\n",
       "\n",
       "    .dataframe tbody tr th {\n",
       "        vertical-align: top;\n",
       "    }\n",
       "\n",
       "    .dataframe thead th {\n",
       "        text-align: right;\n",
       "    }\n",
       "</style>\n",
       "<table border=\"1\" class=\"dataframe\">\n",
       "  <thead>\n",
       "    <tr style=\"text-align: right;\">\n",
       "      <th></th>\n",
       "      <th>Prop_Rights</th>\n",
       "      <th>Jud_Effectiveness</th>\n",
       "      <th>Govt_Integrity</th>\n",
       "      <th>FiscalHealth</th>\n",
       "      <th>Biz_free</th>\n",
       "      <th>Labour_free</th>\n",
       "      <th>Monetary_free</th>\n",
       "      <th>Trade_free</th>\n",
       "      <th>Investment_free</th>\n",
       "      <th>Financial_free</th>\n",
       "      <th>gdpPcp</th>\n",
       "    </tr>\n",
       "  </thead>\n",
       "  <tbody>\n",
       "    <tr>\n",
       "      <th>0</th>\n",
       "      <td>48.3</td>\n",
       "      <td>30.0</td>\n",
       "      <td>24.8</td>\n",
       "      <td>99.9</td>\n",
       "      <td>54.7</td>\n",
       "      <td>61.6</td>\n",
       "      <td>81.0</td>\n",
       "      <td>66.0</td>\n",
       "      <td>10.0</td>\n",
       "      <td>10.0</td>\n",
       "      <td>2016.89</td>\n",
       "    </tr>\n",
       "    <tr>\n",
       "      <th>1</th>\n",
       "      <td>57.1</td>\n",
       "      <td>33.0</td>\n",
       "      <td>38.8</td>\n",
       "      <td>86.3</td>\n",
       "      <td>65.7</td>\n",
       "      <td>52.1</td>\n",
       "      <td>81.2</td>\n",
       "      <td>88.4</td>\n",
       "      <td>70.0</td>\n",
       "      <td>70.0</td>\n",
       "      <td>13344.54</td>\n",
       "    </tr>\n",
       "    <tr>\n",
       "      <th>2</th>\n",
       "      <td>37.9</td>\n",
       "      <td>35.0</td>\n",
       "      <td>28.3</td>\n",
       "      <td>17.3</td>\n",
       "      <td>63.0</td>\n",
       "      <td>50.5</td>\n",
       "      <td>76.2</td>\n",
       "      <td>66.2</td>\n",
       "      <td>30.0</td>\n",
       "      <td>30.0</td>\n",
       "      <td>15439.92</td>\n",
       "    </tr>\n",
       "    <tr>\n",
       "      <th>3</th>\n",
       "      <td>36.9</td>\n",
       "      <td>14.3</td>\n",
       "      <td>15.1</td>\n",
       "      <td>71.9</td>\n",
       "      <td>57.7</td>\n",
       "      <td>61.1</td>\n",
       "      <td>59.6</td>\n",
       "      <td>66.2</td>\n",
       "      <td>30.0</td>\n",
       "      <td>40.0</td>\n",
       "      <td>6814.33</td>\n",
       "    </tr>\n",
       "    <tr>\n",
       "      <th>4</th>\n",
       "      <td>50.5</td>\n",
       "      <td>47.0</td>\n",
       "      <td>49.7</td>\n",
       "      <td>24.7</td>\n",
       "      <td>60.2</td>\n",
       "      <td>46.5</td>\n",
       "      <td>53.7</td>\n",
       "      <td>69.2</td>\n",
       "      <td>55.0</td>\n",
       "      <td>60.0</td>\n",
       "      <td>20537.06</td>\n",
       "    </tr>\n",
       "  </tbody>\n",
       "</table>\n",
       "</div>"
      ],
      "text/plain": [
       "   Prop_Rights  Jud_Effectiveness  Govt_Integrity  FiscalHealth  Biz_free  \\\n",
       "0         48.3               30.0            24.8          99.9      54.7   \n",
       "1         57.1               33.0            38.8          86.3      65.7   \n",
       "2         37.9               35.0            28.3          17.3      63.0   \n",
       "3         36.9               14.3            15.1          71.9      57.7   \n",
       "4         50.5               47.0            49.7          24.7      60.2   \n",
       "\n",
       "   Labour_free  Monetary_free  Trade_free  Investment_free  Financial_free  \\\n",
       "0         61.6           81.0        66.0             10.0            10.0   \n",
       "1         52.1           81.2        88.4             70.0            70.0   \n",
       "2         50.5           76.2        66.2             30.0            30.0   \n",
       "3         61.1           59.6        66.2             30.0            40.0   \n",
       "4         46.5           53.7        69.2             55.0            60.0   \n",
       "\n",
       "     gdpPcp  \n",
       "0   2016.89  \n",
       "1  13344.54  \n",
       "2  15439.92  \n",
       "3   6814.33  \n",
       "4  20537.06  "
      ]
     },
     "execution_count": 10,
     "metadata": {},
     "output_type": "execute_result"
    }
   ],
   "source": [
    "x = df_efi.drop(['Region','Country'],axis=1)\n",
    "x.head()"
   ]
  },
  {
   "cell_type": "code",
   "execution_count": 11,
   "metadata": {},
   "outputs": [
    {
     "data": {
      "text/html": [
       "<div>\n",
       "<style scoped>\n",
       "    .dataframe tbody tr th:only-of-type {\n",
       "        vertical-align: middle;\n",
       "    }\n",
       "\n",
       "    .dataframe tbody tr th {\n",
       "        vertical-align: top;\n",
       "    }\n",
       "\n",
       "    .dataframe thead th {\n",
       "        text-align: right;\n",
       "    }\n",
       "</style>\n",
       "<table border=\"1\" class=\"dataframe\">\n",
       "  <thead>\n",
       "    <tr style=\"text-align: right;\">\n",
       "      <th></th>\n",
       "      <th>0</th>\n",
       "      <th>1</th>\n",
       "      <th>2</th>\n",
       "      <th>3</th>\n",
       "      <th>4</th>\n",
       "      <th>5</th>\n",
       "      <th>6</th>\n",
       "      <th>7</th>\n",
       "      <th>8</th>\n",
       "      <th>9</th>\n",
       "      <th>10</th>\n",
       "    </tr>\n",
       "  </thead>\n",
       "  <tbody>\n",
       "    <tr>\n",
       "      <th>0</th>\n",
       "      <td>-0.496577</td>\n",
       "      <td>-0.860912</td>\n",
       "      <td>-0.933563</td>\n",
       "      <td>1.013957</td>\n",
       "      <td>-0.586945</td>\n",
       "      <td>0.141478</td>\n",
       "      <td>0.568317</td>\n",
       "      <td>-0.607546</td>\n",
       "      <td>-2.210217</td>\n",
       "      <td>-2.026161</td>\n",
       "      <td>-0.843542</td>\n",
       "    </tr>\n",
       "    <tr>\n",
       "      <th>1</th>\n",
       "      <td>-0.011873</td>\n",
       "      <td>-0.697126</td>\n",
       "      <td>-0.267883</td>\n",
       "      <td>0.565686</td>\n",
       "      <td>0.119745</td>\n",
       "      <td>-0.515219</td>\n",
       "      <td>0.587331</td>\n",
       "      <td>1.113181</td>\n",
       "      <td>0.570254</td>\n",
       "      <td>1.108873</td>\n",
       "      <td>-0.357250</td>\n",
       "    </tr>\n",
       "    <tr>\n",
       "      <th>2</th>\n",
       "      <td>-1.069409</td>\n",
       "      <td>-0.587934</td>\n",
       "      <td>-0.767143</td>\n",
       "      <td>-1.708631</td>\n",
       "      <td>-0.053716</td>\n",
       "      <td>-0.625821</td>\n",
       "      <td>0.111973</td>\n",
       "      <td>-0.592183</td>\n",
       "      <td>-1.283393</td>\n",
       "      <td>-0.981150</td>\n",
       "      <td>-0.267296</td>\n",
       "    </tr>\n",
       "    <tr>\n",
       "      <th>3</th>\n",
       "      <td>-1.124489</td>\n",
       "      <td>-1.718064</td>\n",
       "      <td>-1.394785</td>\n",
       "      <td>0.091046</td>\n",
       "      <td>-0.394211</td>\n",
       "      <td>0.106915</td>\n",
       "      <td>-1.466215</td>\n",
       "      <td>-0.592183</td>\n",
       "      <td>-1.283393</td>\n",
       "      <td>-0.458644</td>\n",
       "      <td>-0.637590</td>\n",
       "    </tr>\n",
       "    <tr>\n",
       "      <th>4</th>\n",
       "      <td>-0.375401</td>\n",
       "      <td>0.067213</td>\n",
       "      <td>0.250396</td>\n",
       "      <td>-1.464719</td>\n",
       "      <td>-0.233600</td>\n",
       "      <td>-0.902324</td>\n",
       "      <td>-2.027137</td>\n",
       "      <td>-0.361728</td>\n",
       "      <td>-0.124864</td>\n",
       "      <td>0.586368</td>\n",
       "      <td>-0.048478</td>\n",
       "    </tr>\n",
       "  </tbody>\n",
       "</table>\n",
       "</div>"
      ],
      "text/plain": [
       "         0         1         2         3         4         5         6   \\\n",
       "0 -0.496577 -0.860912 -0.933563  1.013957 -0.586945  0.141478  0.568317   \n",
       "1 -0.011873 -0.697126 -0.267883  0.565686  0.119745 -0.515219  0.587331   \n",
       "2 -1.069409 -0.587934 -0.767143 -1.708631 -0.053716 -0.625821  0.111973   \n",
       "3 -1.124489 -1.718064 -1.394785  0.091046 -0.394211  0.106915 -1.466215   \n",
       "4 -0.375401  0.067213  0.250396 -1.464719 -0.233600 -0.902324 -2.027137   \n",
       "\n",
       "         7         8         9         10  \n",
       "0 -0.607546 -2.210217 -2.026161 -0.843542  \n",
       "1  1.113181  0.570254  1.108873 -0.357250  \n",
       "2 -0.592183 -1.283393 -0.981150 -0.267296  \n",
       "3 -0.592183 -1.283393 -0.458644 -0.637590  \n",
       "4 -0.361728 -0.124864  0.586368 -0.048478  "
      ]
     },
     "execution_count": 11,
     "metadata": {},
     "output_type": "execute_result"
    }
   ],
   "source": [
    "scaler = StandardScaler()\n",
    "x = scaler.fit_transform(x)\n",
    "x = pd.DataFrame(x)\n",
    "x.head()"
   ]
  },
  {
   "cell_type": "markdown",
   "metadata": {},
   "source": [
    "#### 3.1.1 Apply PCA to the scaled dataset (x)"
   ]
  },
  {
   "cell_type": "code",
   "execution_count": 12,
   "metadata": {},
   "outputs": [
    {
     "data": {
      "text/html": [
       "<div>\n",
       "<style scoped>\n",
       "    .dataframe tbody tr th:only-of-type {\n",
       "        vertical-align: middle;\n",
       "    }\n",
       "\n",
       "    .dataframe tbody tr th {\n",
       "        vertical-align: top;\n",
       "    }\n",
       "\n",
       "    .dataframe thead th {\n",
       "        text-align: right;\n",
       "    }\n",
       "</style>\n",
       "<table border=\"1\" class=\"dataframe\">\n",
       "  <thead>\n",
       "    <tr style=\"text-align: right;\">\n",
       "      <th></th>\n",
       "      <th>PCA1</th>\n",
       "      <th>PCA2</th>\n",
       "    </tr>\n",
       "  </thead>\n",
       "  <tbody>\n",
       "    <tr>\n",
       "      <th>0</th>\n",
       "      <td>2.451165</td>\n",
       "      <td>-1.709929</td>\n",
       "    </tr>\n",
       "    <tr>\n",
       "      <th>1</th>\n",
       "      <td>-0.602048</td>\n",
       "      <td>-0.633927</td>\n",
       "    </tr>\n",
       "    <tr>\n",
       "      <th>2</th>\n",
       "      <td>2.262426</td>\n",
       "      <td>0.399459</td>\n",
       "    </tr>\n",
       "    <tr>\n",
       "      <th>3</th>\n",
       "      <td>2.848950</td>\n",
       "      <td>-0.277453</td>\n",
       "    </tr>\n",
       "    <tr>\n",
       "      <th>4</th>\n",
       "      <td>0.992261</td>\n",
       "      <td>2.298294</td>\n",
       "    </tr>\n",
       "  </tbody>\n",
       "</table>\n",
       "</div>"
      ],
      "text/plain": [
       "       PCA1      PCA2\n",
       "0  2.451165 -1.709929\n",
       "1 -0.602048 -0.633927\n",
       "2  2.262426  0.399459\n",
       "3  2.848950 -0.277453\n",
       "4  0.992261  2.298294"
      ]
     },
     "execution_count": 12,
     "metadata": {},
     "output_type": "execute_result"
    }
   ],
   "source": [
    "pca = PCA(n_components=2)\n",
    "pca_comp = pca.fit_transform(x)\n",
    "x_df = pd.DataFrame(pca_comp,columns = ['PCA1','PCA2'])\n",
    "x_df.head()"
   ]
  },
  {
   "cell_type": "markdown",
   "metadata": {},
   "source": [
    "#### 3.1.2 display the pca visualization"
   ]
  },
  {
   "cell_type": "code",
   "execution_count": 13,
   "metadata": {},
   "outputs": [
    {
     "data": {
      "image/png": "[encoded data removed]",
      "text/plain": [
       "<Figure size 360x360 with 1 Axes>"
      ]
     },
     "metadata": {
      "needs_background": "light"
     },
     "output_type": "display_data"
    }
   ],
   "source": [
    "pca_scatter = sns.lmplot(x='PCA1',y='PCA2',data=x_df,fit_reg=False)"
   ]
  },
  {
   "cell_type": "markdown",
   "metadata": {},
   "source": [
    "##### The PCA clustering is a bit fuzzy with about 2 clusters"
   ]
  },
  {
   "cell_type": "markdown",
   "metadata": {},
   "source": [
    "### 3.2 Find k using SSE Elbow Method"
   ]
  },
  {
   "cell_type": "code",
   "execution_count": 14,
   "metadata": {},
   "outputs": [],
   "source": [
    "from sklearn.cluster import KMeans"
   ]
  },
  {
   "cell_type": "code",
   "execution_count": 15,
   "metadata": {},
   "outputs": [],
   "source": [
    "SSE = []\n",
    "for i in range(2,12):\n",
    "    kmeans = KMeans(n_clusters = i,random_state=10)\n",
    "    kmeans.fit(x)\n",
    "    SSE.append(kmeans.inertia_)"
   ]
  },
  {
   "cell_type": "markdown",
   "metadata": {},
   "source": [
    "#### 3.2.1 Plot the elbow cure"
   ]
  },
  {
   "cell_type": "code",
   "execution_count": 16,
   "metadata": {},
   "outputs": [
    {
     "data": {
      "image/png": "[encoded data removed]",
      "text/plain": [
       "<Figure size 432x288 with 1 Axes>"
      ]
     },
     "metadata": {
      "needs_background": "light"
     },
     "output_type": "display_data"
    }
   ],
   "source": [
    "sns.lineplot(range(2,12),SSE)\n",
    "plt.title('SSE Elbow Curve for K')\n",
    "plt.show()"
   ]
  },
  {
   "cell_type": "markdown",
   "metadata": {},
   "source": [
    "#### The Elbow curve seems to suggest 4 clusters.  "
   ]
  },
  {
   "cell_type": "markdown",
   "metadata": {},
   "source": [
    "### 3.3 Use Silhouette Method to select k"
   ]
  },
  {
   "cell_type": "code",
   "execution_count": 17,
   "metadata": {},
   "outputs": [],
   "source": [
    "from yellowbrick.cluster import KElbowVisualizer"
   ]
  },
  {
   "cell_type": "code",
   "execution_count": 18,
   "metadata": {},
   "outputs": [],
   "source": [
    "#instantiate a scikit-learn K-Means model\n",
    "\n",
    "model = KMeans(random_state = 0)\n",
    "visualizer = KElbowVisualizer(model,k=(2,12),metric = 'silhouette',timings = False)"
   ]
  },
  {
   "cell_type": "code",
   "execution_count": 19,
   "metadata": {},
   "outputs": [
    {
     "name": "stderr",
     "output_type": "stream",
     "text": [
      "C:\\Users\\fobem\\Anaconda3\\lib\\site-packages\\yellowbrick\\utils\\kneed.py:182: YellowbrickWarning: No \"knee\" or \"elbow point\" detected This could be due to bad clustering, no actual clusters being formed etc.\n",
      "  warnings.warn(warning_message, YellowbrickWarning)\n",
      "C:\\Users\\fobem\\Anaconda3\\lib\\site-packages\\yellowbrick\\utils\\kneed.py:140: YellowbrickWarning: No 'knee' or 'elbow point' detected This could be due to bad clustering, no actual clusters being formed etc.\n",
      "  warnings.warn(warning_message, YellowbrickWarning)\n",
      "C:\\Users\\fobem\\Anaconda3\\lib\\site-packages\\yellowbrick\\cluster\\elbow.py:343: YellowbrickWarning: No 'knee' or 'elbow' point detected, pass `locate_elbow=False` to remove the warning\n",
      "  warnings.warn(warning_message, YellowbrickWarning)\n"
     ]
    },
    {
     "data": {
      "image/png": "[encoded data removed]",
      "text/plain": [
       "<Figure size 576x396 with 1 Axes>"
      ]
     },
     "metadata": {},
     "output_type": "display_data"
    },
    {
     "data": {
      "text/plain": [
       "<matplotlib.axes._subplots.AxesSubplot at 0x2629ae0b320>"
      ]
     },
     "execution_count": 19,
     "metadata": {},
     "output_type": "execute_result"
    }
   ],
   "source": [
    "#Fit the data and visualize\n",
    "\n",
    "visualizer.fit(x)\n",
    "visualizer.poof()"
   ]
  },
  {
   "cell_type": "markdown",
   "metadata": {},
   "source": [
    "### The silhouette method does not have a clear elbow, but k =  4 is suggested"
   ]
  },
  {
   "cell_type": "markdown",
   "metadata": {},
   "source": [
    "## 4. Perform Kmeans and Meanshift Clustering using k = 4\n",
    "On the basis of the Elbow method and Silhouette method, we adopt k = 4 as the clustering parameter"
   ]
  },
  {
   "cell_type": "markdown",
   "metadata": {},
   "source": [
    "### 4.1 Kmeans Clustering using k = 4"
   ]
  },
  {
   "cell_type": "code",
   "execution_count": 20,
   "metadata": {},
   "outputs": [
    {
     "data": {
      "text/plain": [
       "KMeans(algorithm='auto', copy_x=True, init='k-means++', max_iter=300,\n",
       "       n_clusters=4, n_init=10, n_jobs=None, precompute_distances='auto',\n",
       "       random_state=10, tol=0.0001, verbose=0)"
      ]
     },
     "execution_count": 20,
     "metadata": {},
     "output_type": "execute_result"
    }
   ],
   "source": [
    "kmeans4 = KMeans(n_clusters = 4, random_state = 10)\n",
    "kmeans4.fit(x)"
   ]
  },
  {
   "cell_type": "code",
   "execution_count": 21,
   "metadata": {},
   "outputs": [
    {
     "data": {
      "text/plain": [
       "array([0, 1, 0, 0, 0, 1, 2, 2, 1, 1, 1, 0, 1, 1, 2, 0, 0, 1, 0, 1, 1, 0,\n",
       "       2, 1, 0, 0, 0, 0, 0, 2, 1, 0, 0, 2, 1, 1, 0, 0, 0, 1, 0, 1, 0, 1,\n",
       "       2, 2, 0, 1, 0, 0, 0, 0, 0, 0, 2, 0, 0, 1, 2, 2, 0, 0, 1, 2, 0, 1,\n",
       "       1, 0, 0, 0, 0, 0, 2, 1, 2, 0, 1, 0, 2, 2, 1, 1, 2, 1, 1, 0, 0, 3,\n",
       "       2, 1, 1, 1, 0, 1, 0, 0, 0, 2, 2, 2, 1, 0, 0, 1, 0, 0, 1, 0, 1, 1,\n",
       "       0, 1, 0, 1, 1, 0, 1, 0, 2, 2, 0, 0, 0, 2, 1, 0, 1, 0, 0, 1, 1, 1,\n",
       "       1, 2, 1, 1, 1, 1, 1, 1, 0, 1, 0, 1, 1, 0, 2, 1, 1, 0, 1, 1, 0, 0,\n",
       "       0, 2, 2, 2, 0, 0, 1, 0, 0, 0, 1, 0, 1, 0, 0, 0, 2, 2, 2, 1, 0, 0,\n",
       "       3, 0, 0, 0])"
      ]
     },
     "execution_count": 21,
     "metadata": {},
     "output_type": "execute_result"
    }
   ],
   "source": [
    "kmeans4.labels_"
   ]
  },
  {
   "cell_type": "code",
   "execution_count": 22,
   "metadata": {},
   "outputs": [],
   "source": [
    "cluster = pd.DataFrame(kmeans4.labels_)"
   ]
  },
  {
   "cell_type": "code",
   "execution_count": 23,
   "metadata": {},
   "outputs": [],
   "source": [
    "x_df['Region'] = df_efi['Region']\n",
    "x_df['Country'] = df_efi['Country']"
   ]
  },
  {
   "cell_type": "code",
   "execution_count": 24,
   "metadata": {},
   "outputs": [],
   "source": [
    "x_df['cluster'] = cluster"
   ]
  },
  {
   "cell_type": "code",
   "execution_count": 25,
   "metadata": {},
   "outputs": [
    {
     "data": {
      "image/png": "[encoded data removed]",
      "text/plain": [
       "<Figure size 401.625x360 with 1 Axes>"
      ]
     },
     "metadata": {},
     "output_type": "display_data"
    }
   ],
   "source": [
    "scatter = sns.lmplot(x = 'PCA1',y='PCA2',hue = 'cluster',data=x_df,fit_reg=False)"
   ]
  },
  {
   "cell_type": "code",
   "execution_count": 26,
   "metadata": {},
   "outputs": [
    {
     "data": {
      "text/html": [
       "<div>\n",
       "<style scoped>\n",
       "    .dataframe tbody tr th:only-of-type {\n",
       "        vertical-align: middle;\n",
       "    }\n",
       "\n",
       "    .dataframe tbody tr th {\n",
       "        vertical-align: top;\n",
       "    }\n",
       "\n",
       "    .dataframe thead th {\n",
       "        text-align: right;\n",
       "    }\n",
       "</style>\n",
       "<table border=\"1\" class=\"dataframe\">\n",
       "  <thead>\n",
       "    <tr style=\"text-align: right;\">\n",
       "      <th>cluster</th>\n",
       "      <th>Region</th>\n",
       "      <th>0</th>\n",
       "      <th>1</th>\n",
       "      <th>2</th>\n",
       "      <th>3</th>\n",
       "    </tr>\n",
       "  </thead>\n",
       "  <tbody>\n",
       "    <tr>\n",
       "      <th>0</th>\n",
       "      <td>Americas</td>\n",
       "      <td>17</td>\n",
       "      <td>10</td>\n",
       "      <td>4</td>\n",
       "      <td>0</td>\n",
       "    </tr>\n",
       "    <tr>\n",
       "      <th>1</th>\n",
       "      <td>Asia-Pacific</td>\n",
       "      <td>21</td>\n",
       "      <td>11</td>\n",
       "      <td>7</td>\n",
       "      <td>1</td>\n",
       "    </tr>\n",
       "    <tr>\n",
       "      <th>2</th>\n",
       "      <td>Europe</td>\n",
       "      <td>5</td>\n",
       "      <td>26</td>\n",
       "      <td>13</td>\n",
       "      <td>1</td>\n",
       "    </tr>\n",
       "    <tr>\n",
       "      <th>3</th>\n",
       "      <td>Middle East and North Africa</td>\n",
       "      <td>7</td>\n",
       "      <td>6</td>\n",
       "      <td>1</td>\n",
       "      <td>0</td>\n",
       "    </tr>\n",
       "    <tr>\n",
       "      <th>4</th>\n",
       "      <td>Sub-Saharan Africa</td>\n",
       "      <td>30</td>\n",
       "      <td>11</td>\n",
       "      <td>4</td>\n",
       "      <td>0</td>\n",
       "    </tr>\n",
       "  </tbody>\n",
       "</table>\n",
       "</div>"
      ],
      "text/plain": [
       "cluster                        Region   0   1   2  3\n",
       "0                            Americas  17  10   4  0\n",
       "1                        Asia-Pacific  21  11   7  1\n",
       "2                              Europe   5  26  13  1\n",
       "3        Middle East and North Africa   7   6   1  0\n",
       "4                  Sub-Saharan Africa  30  11   4  0"
      ]
     },
     "execution_count": 26,
     "metadata": {},
     "output_type": "execute_result"
    }
   ],
   "source": [
    "pd.crosstab(x_df.Region,x_df.cluster).reset_index()"
   ]
  },
  {
   "cell_type": "markdown",
   "metadata": {},
   "source": [
    "#### 4.1.2 Conclusion from Kmeans clustering\n",
    "The mean score of the Economic Freedom Index cast some doubts on the quality of the clustering. Americas, Asia-Pacific and Middle East/North Africa have almost similar mean score, while Africa has the least score with about 5 points behind.  Europe clealy has the highest point of 69.8 which is 8 points above the second ranked.  We'll go ahead and examine the Mean-Shift clustering to see whether kmeans results can be validated."
   ]
  },
  {
   "cell_type": "markdown",
   "metadata": {},
   "source": [
    "### 4.2 Mean-Shift Clustering"
   ]
  },
  {
   "cell_type": "code",
   "execution_count": 27,
   "metadata": {},
   "outputs": [],
   "source": [
    "from sklearn import cluster\n",
    "from sklearn.cluster import MeanShift"
   ]
  },
  {
   "cell_type": "code",
   "execution_count": 28,
   "metadata": {},
   "outputs": [],
   "source": [
    "bandwidth = cluster.estimate_bandwidth(x,quantile = 0.2,n_samples = None)\n",
    "ms = MeanShift(bandwidth = bandwidth,bin_seeding=True)\n",
    "ms.fit(x)\n",
    "labels = ms.labels_"
   ]
  },
  {
   "cell_type": "code",
   "execution_count": 29,
   "metadata": {},
   "outputs": [
    {
     "data": {
      "text/plain": [
       "array([0, 0, 0, 0, 0, 0, 0, 0, 0, 0, 0, 0, 0, 0, 0, 0, 0, 0, 0, 0, 0, 0,\n",
       "       0, 0, 0, 0, 0, 0, 0, 0, 0, 0, 0, 0, 0, 0, 0, 0, 0, 0, 0, 0, 0, 0,\n",
       "       0, 0, 0, 0, 0, 0, 0, 0, 0, 0, 0, 0, 0, 0, 0, 0, 0, 0, 0, 0, 0, 0,\n",
       "       0, 0, 0, 0, 0, 0, 0, 0, 0, 0, 0, 0, 0, 0, 0, 0, 0, 0, 0, 0, 0, 1,\n",
       "       0, 0, 0, 0, 0, 0, 0, 0, 0, 0, 0, 0, 0, 0, 0, 0, 0, 0, 0, 0, 0, 0,\n",
       "       0, 0, 0, 0, 0, 0, 0, 0, 0, 0, 0, 0, 0, 0, 0, 0, 0, 0, 0, 0, 0, 0,\n",
       "       0, 0, 0, 0, 0, 0, 0, 0, 0, 0, 0, 0, 0, 0, 0, 0, 0, 0, 0, 0, 0, 0,\n",
       "       0, 0, 0, 0, 0, 0, 0, 0, 0, 0, 0, 0, 0, 0, 0, 0, 0, 0, 0, 0, 0, 0,\n",
       "       1, 0, 0, 0], dtype=int64)"
      ]
     },
     "execution_count": 29,
     "metadata": {},
     "output_type": "execute_result"
    }
   ],
   "source": [
    "labels"
   ]
  },
  {
   "cell_type": "code",
   "execution_count": 30,
   "metadata": {},
   "outputs": [],
   "source": [
    "cluster2 = pd.DataFrame(labels)"
   ]
  },
  {
   "cell_type": "code",
   "execution_count": 31,
   "metadata": {},
   "outputs": [],
   "source": [
    "x_df['cluster2']=cluster2"
   ]
  },
  {
   "cell_type": "code",
   "execution_count": 32,
   "metadata": {},
   "outputs": [
    {
     "data": {
      "image/png": "[encoded data removed]",
      "text/plain": [
       "<Figure size 401.625x360 with 1 Axes>"
      ]
     },
     "metadata": {},
     "output_type": "display_data"
    }
   ],
   "source": [
    "msplt = sns.lmplot(x='PCA1',y='PCA2',hue='cluster2',data=x_df,fit_reg=False)"
   ]
  },
  {
   "cell_type": "markdown",
   "metadata": {},
   "source": [
    "#### 4.3 Results of Mean-Shift Clustering\n",
    "Mean Shift clustering established only 2 as against the 4 clusters provided by kmeans clustering.  I guess Mean Shift obviously merged all other countries apart from sub-Saharan African countries into a cluster."
   ]
  },
  {
   "cell_type": "markdown",
   "metadata": {},
   "source": [
    "# 5. Evaluate the clusters (kmeans and Meanshift)"
   ]
  },
  {
   "cell_type": "code",
   "execution_count": 33,
   "metadata": {},
   "outputs": [],
   "source": [
    "from sklearn import metrics"
   ]
  },
  {
   "cell_type": "code",
   "execution_count": 34,
   "metadata": {},
   "outputs": [
    {
     "data": {
      "text/plain": [
       "0.23044536368195784"
      ]
     },
     "execution_count": 34,
     "metadata": {},
     "output_type": "execute_result"
    }
   ],
   "source": [
    "km_slht = metrics.silhouette_score(x,kmeans4.labels_)\n",
    "km_slht"
   ]
  },
  {
   "cell_type": "code",
   "execution_count": 35,
   "metadata": {},
   "outputs": [
    {
     "data": {
      "text/plain": [
       "0.6191008639918715"
      ]
     },
     "execution_count": 35,
     "metadata": {},
     "output_type": "execute_result"
    }
   ],
   "source": [
    "ms_slht = metrics.silhouette_score(x,labels)\n",
    "ms_slht"
   ]
  },
  {
   "cell_type": "markdown",
   "metadata": {},
   "source": [
    "## 5.1 The Silhouette Metrics \n",
    "The silhouette scocre meanshift clustering is 0.62 as against 0.23 for the kmeans.  It is very clear that the mean shift clustering was quite better in clustering the groups."
   ]
  },
  {
   "cell_type": "markdown",
   "metadata": {},
   "source": [
    "## 6.0 Analysis of Results and Conclustions\n",
    "In this section, we compared the group mean of two features of Economic Freedom Indices with the mean GDP per capital to have a feel of the clustering.  We use the Kmeans and the Mean Shift clustering."
   ]
  },
  {
   "cell_type": "code",
   "execution_count": 36,
   "metadata": {},
   "outputs": [
    {
     "data": {
      "text/html": [
       "<div>\n",
       "<style scoped>\n",
       "    .dataframe tbody tr th:only-of-type {\n",
       "        vertical-align: middle;\n",
       "    }\n",
       "\n",
       "    .dataframe tbody tr th {\n",
       "        vertical-align: top;\n",
       "    }\n",
       "\n",
       "    .dataframe thead th {\n",
       "        text-align: right;\n",
       "    }\n",
       "</style>\n",
       "<table border=\"1\" class=\"dataframe\">\n",
       "  <thead>\n",
       "    <tr style=\"text-align: right;\">\n",
       "      <th></th>\n",
       "      <th>Country</th>\n",
       "      <th>Region</th>\n",
       "      <th>World Rank</th>\n",
       "      <th>Region Rank</th>\n",
       "      <th>2020 Score</th>\n",
       "      <th>Prop_Rights</th>\n",
       "      <th>Jud_Effectiveness</th>\n",
       "      <th>Govt_Integrity</th>\n",
       "      <th>TaxBurden</th>\n",
       "      <th>GovtSpending</th>\n",
       "      <th>...</th>\n",
       "      <th>Country.1</th>\n",
       "      <th>pop</th>\n",
       "      <th>gdp</th>\n",
       "      <th>GDP Growth Rate (%)</th>\n",
       "      <th>5 Year GDP Growth Rate (%)</th>\n",
       "      <th>gdpPcp</th>\n",
       "      <th>Unemployment (%)</th>\n",
       "      <th>Inflation</th>\n",
       "      <th>FDI</th>\n",
       "      <th>Public Debt</th>\n",
       "    </tr>\n",
       "  </thead>\n",
       "  <tbody>\n",
       "    <tr>\n",
       "      <th>0</th>\n",
       "      <td>Afghanistan</td>\n",
       "      <td>Asia-Pacific</td>\n",
       "      <td>136.0</td>\n",
       "      <td>33.0</td>\n",
       "      <td>54.7</td>\n",
       "      <td>48.3</td>\n",
       "      <td>30.0</td>\n",
       "      <td>24.8</td>\n",
       "      <td>91.4</td>\n",
       "      <td>79.2</td>\n",
       "      <td>...</td>\n",
       "      <td>Afghanistan</td>\n",
       "      <td>36.020</td>\n",
       "      <td>72.648</td>\n",
       "      <td>2.300</td>\n",
       "      <td>2.2</td>\n",
       "      <td>2016.89</td>\n",
       "      <td>NaN</td>\n",
       "      <td>0.626</td>\n",
       "      <td>139.200000</td>\n",
       "      <td>7.079</td>\n",
       "    </tr>\n",
       "    <tr>\n",
       "      <th>1</th>\n",
       "      <td>Albania</td>\n",
       "      <td>Europe</td>\n",
       "      <td>57.0</td>\n",
       "      <td>30.0</td>\n",
       "      <td>66.9</td>\n",
       "      <td>57.1</td>\n",
       "      <td>33.0</td>\n",
       "      <td>38.8</td>\n",
       "      <td>85.9</td>\n",
       "      <td>74.6</td>\n",
       "      <td>...</td>\n",
       "      <td>Albania</td>\n",
       "      <td>2.874</td>\n",
       "      <td>38.356</td>\n",
       "      <td>4.162</td>\n",
       "      <td>3.1</td>\n",
       "      <td>13344.54</td>\n",
       "      <td>NaN</td>\n",
       "      <td>2.029</td>\n",
       "      <td>1293.617724</td>\n",
       "      <td>68.590</td>\n",
       "    </tr>\n",
       "    <tr>\n",
       "      <th>2</th>\n",
       "      <td>Algeria</td>\n",
       "      <td>Middle East and North Africa</td>\n",
       "      <td>169.0</td>\n",
       "      <td>14.0</td>\n",
       "      <td>46.9</td>\n",
       "      <td>37.9</td>\n",
       "      <td>35.0</td>\n",
       "      <td>28.3</td>\n",
       "      <td>75.4</td>\n",
       "      <td>52.6</td>\n",
       "      <td>...</td>\n",
       "      <td>Algeria</td>\n",
       "      <td>42.582</td>\n",
       "      <td>657.462</td>\n",
       "      <td>2.059</td>\n",
       "      <td>2.8</td>\n",
       "      <td>15439.92</td>\n",
       "      <td>NaN</td>\n",
       "      <td>4.270</td>\n",
       "      <td>1506.316886</td>\n",
       "      <td>36.872</td>\n",
       "    </tr>\n",
       "    <tr>\n",
       "      <th>3</th>\n",
       "      <td>Angola</td>\n",
       "      <td>Sub-Saharan Africa</td>\n",
       "      <td>154.0</td>\n",
       "      <td>35.0</td>\n",
       "      <td>52.2</td>\n",
       "      <td>36.9</td>\n",
       "      <td>14.3</td>\n",
       "      <td>15.1</td>\n",
       "      <td>87.3</td>\n",
       "      <td>85.7</td>\n",
       "      <td>...</td>\n",
       "      <td>Angola</td>\n",
       "      <td>29.250</td>\n",
       "      <td>199.319</td>\n",
       "      <td>-1.699</td>\n",
       "      <td>0.3</td>\n",
       "      <td>6814.33</td>\n",
       "      <td>NaN</td>\n",
       "      <td>19.629</td>\n",
       "      <td>-5732.491000</td>\n",
       "      <td>88.087</td>\n",
       "    </tr>\n",
       "    <tr>\n",
       "      <th>4</th>\n",
       "      <td>Argentina</td>\n",
       "      <td>Americas</td>\n",
       "      <td>149.0</td>\n",
       "      <td>26.0</td>\n",
       "      <td>53.1</td>\n",
       "      <td>50.5</td>\n",
       "      <td>47.0</td>\n",
       "      <td>49.7</td>\n",
       "      <td>69.6</td>\n",
       "      <td>50.7</td>\n",
       "      <td>...</td>\n",
       "      <td>Argentina</td>\n",
       "      <td>44.560</td>\n",
       "      <td>915.125</td>\n",
       "      <td>-2.515</td>\n",
       "      <td>-0.3</td>\n",
       "      <td>20537.06</td>\n",
       "      <td>NaN</td>\n",
       "      <td>34.277</td>\n",
       "      <td>12161.837000</td>\n",
       "      <td>86.289</td>\n",
       "    </tr>\n",
       "  </tbody>\n",
       "</table>\n",
       "<p>5 rows × 32 columns</p>\n",
       "</div>"
      ],
      "text/plain": [
       "       Country                        Region  World Rank  Region Rank  \\\n",
       "0  Afghanistan                  Asia-Pacific       136.0         33.0   \n",
       "1      Albania                        Europe        57.0         30.0   \n",
       "2      Algeria  Middle East and North Africa       169.0         14.0   \n",
       "3       Angola            Sub-Saharan Africa       154.0         35.0   \n",
       "4    Argentina                      Americas       149.0         26.0   \n",
       "\n",
       "   2020 Score  Prop_Rights  Jud_Effectiveness  Govt_Integrity  TaxBurden  \\\n",
       "0        54.7         48.3               30.0            24.8       91.4   \n",
       "1        66.9         57.1               33.0            38.8       85.9   \n",
       "2        46.9         37.9               35.0            28.3       75.4   \n",
       "3        52.2         36.9               14.3            15.1       87.3   \n",
       "4        53.1         50.5               47.0            49.7       69.6   \n",
       "\n",
       "   GovtSpending  ...    Country.1     pop      gdp  GDP Growth Rate (%)  \\\n",
       "0          79.2  ...  Afghanistan  36.020   72.648                2.300   \n",
       "1          74.6  ...      Albania   2.874   38.356                4.162   \n",
       "2          52.6  ...      Algeria  42.582  657.462                2.059   \n",
       "3          85.7  ...       Angola  29.250  199.319               -1.699   \n",
       "4          50.7  ...    Argentina  44.560  915.125               -2.515   \n",
       "\n",
       "   5 Year GDP Growth Rate (%)    gdpPcp  Unemployment (%)  Inflation  \\\n",
       "0                         2.2   2016.89               NaN      0.626   \n",
       "1                         3.1  13344.54               NaN      2.029   \n",
       "2                         2.8  15439.92               NaN      4.270   \n",
       "3                         0.3   6814.33               NaN     19.629   \n",
       "4                        -0.3  20537.06               NaN     34.277   \n",
       "\n",
       "            FDI  Public Debt  \n",
       "0    139.200000        7.079  \n",
       "1   1293.617724       68.590  \n",
       "2   1506.316886       36.872  \n",
       "3  -5732.491000       88.087  \n",
       "4  12161.837000       86.289  \n",
       "\n",
       "[5 rows x 32 columns]"
      ]
     },
     "execution_count": 36,
     "metadata": {},
     "output_type": "execute_result"
    }
   ],
   "source": [
    "efx.head()"
   ]
  },
  {
   "cell_type": "code",
   "execution_count": 37,
   "metadata": {},
   "outputs": [],
   "source": [
    "X = df_efi.drop('Country',axis=1)"
   ]
  },
  {
   "cell_type": "code",
   "execution_count": 38,
   "metadata": {},
   "outputs": [
    {
     "data": {
      "text/html": [
       "<div>\n",
       "<style scoped>\n",
       "    .dataframe tbody tr th:only-of-type {\n",
       "        vertical-align: middle;\n",
       "    }\n",
       "\n",
       "    .dataframe tbody tr th {\n",
       "        vertical-align: top;\n",
       "    }\n",
       "\n",
       "    .dataframe thead th {\n",
       "        text-align: right;\n",
       "    }\n",
       "</style>\n",
       "<table border=\"1\" class=\"dataframe\">\n",
       "  <thead>\n",
       "    <tr style=\"text-align: right;\">\n",
       "      <th></th>\n",
       "      <th>Region</th>\n",
       "      <th>Prop_Rights</th>\n",
       "      <th>Jud_Effectiveness</th>\n",
       "      <th>Govt_Integrity</th>\n",
       "      <th>FiscalHealth</th>\n",
       "      <th>Biz_free</th>\n",
       "      <th>Labour_free</th>\n",
       "      <th>Monetary_free</th>\n",
       "      <th>Trade_free</th>\n",
       "      <th>Investment_free</th>\n",
       "      <th>Financial_free</th>\n",
       "      <th>gdpPcp</th>\n",
       "    </tr>\n",
       "  </thead>\n",
       "  <tbody>\n",
       "    <tr>\n",
       "      <th>0</th>\n",
       "      <td>Asia-Pacific</td>\n",
       "      <td>48.3</td>\n",
       "      <td>30.0</td>\n",
       "      <td>24.8</td>\n",
       "      <td>99.9</td>\n",
       "      <td>54.7</td>\n",
       "      <td>61.6</td>\n",
       "      <td>81.0</td>\n",
       "      <td>66.0</td>\n",
       "      <td>10.0</td>\n",
       "      <td>10.0</td>\n",
       "      <td>2016.89</td>\n",
       "    </tr>\n",
       "    <tr>\n",
       "      <th>1</th>\n",
       "      <td>Europe</td>\n",
       "      <td>57.1</td>\n",
       "      <td>33.0</td>\n",
       "      <td>38.8</td>\n",
       "      <td>86.3</td>\n",
       "      <td>65.7</td>\n",
       "      <td>52.1</td>\n",
       "      <td>81.2</td>\n",
       "      <td>88.4</td>\n",
       "      <td>70.0</td>\n",
       "      <td>70.0</td>\n",
       "      <td>13344.54</td>\n",
       "    </tr>\n",
       "    <tr>\n",
       "      <th>2</th>\n",
       "      <td>Middle East and North Africa</td>\n",
       "      <td>37.9</td>\n",
       "      <td>35.0</td>\n",
       "      <td>28.3</td>\n",
       "      <td>17.3</td>\n",
       "      <td>63.0</td>\n",
       "      <td>50.5</td>\n",
       "      <td>76.2</td>\n",
       "      <td>66.2</td>\n",
       "      <td>30.0</td>\n",
       "      <td>30.0</td>\n",
       "      <td>15439.92</td>\n",
       "    </tr>\n",
       "    <tr>\n",
       "      <th>3</th>\n",
       "      <td>Sub-Saharan Africa</td>\n",
       "      <td>36.9</td>\n",
       "      <td>14.3</td>\n",
       "      <td>15.1</td>\n",
       "      <td>71.9</td>\n",
       "      <td>57.7</td>\n",
       "      <td>61.1</td>\n",
       "      <td>59.6</td>\n",
       "      <td>66.2</td>\n",
       "      <td>30.0</td>\n",
       "      <td>40.0</td>\n",
       "      <td>6814.33</td>\n",
       "    </tr>\n",
       "    <tr>\n",
       "      <th>4</th>\n",
       "      <td>Americas</td>\n",
       "      <td>50.5</td>\n",
       "      <td>47.0</td>\n",
       "      <td>49.7</td>\n",
       "      <td>24.7</td>\n",
       "      <td>60.2</td>\n",
       "      <td>46.5</td>\n",
       "      <td>53.7</td>\n",
       "      <td>69.2</td>\n",
       "      <td>55.0</td>\n",
       "      <td>60.0</td>\n",
       "      <td>20537.06</td>\n",
       "    </tr>\n",
       "  </tbody>\n",
       "</table>\n",
       "</div>"
      ],
      "text/plain": [
       "                         Region  Prop_Rights  Jud_Effectiveness  \\\n",
       "0                  Asia-Pacific         48.3               30.0   \n",
       "1                        Europe         57.1               33.0   \n",
       "2  Middle East and North Africa         37.9               35.0   \n",
       "3            Sub-Saharan Africa         36.9               14.3   \n",
       "4                      Americas         50.5               47.0   \n",
       "\n",
       "   Govt_Integrity  FiscalHealth  Biz_free  Labour_free  Monetary_free  \\\n",
       "0            24.8          99.9      54.7         61.6           81.0   \n",
       "1            38.8          86.3      65.7         52.1           81.2   \n",
       "2            28.3          17.3      63.0         50.5           76.2   \n",
       "3            15.1          71.9      57.7         61.1           59.6   \n",
       "4            49.7          24.7      60.2         46.5           53.7   \n",
       "\n",
       "   Trade_free  Investment_free  Financial_free    gdpPcp  \n",
       "0        66.0             10.0            10.0   2016.89  \n",
       "1        88.4             70.0            70.0  13344.54  \n",
       "2        66.2             30.0            30.0  15439.92  \n",
       "3        66.2             30.0            40.0   6814.33  \n",
       "4        69.2             55.0            60.0  20537.06  "
      ]
     },
     "execution_count": 38,
     "metadata": {},
     "output_type": "execute_result"
    }
   ],
   "source": [
    "X.head()"
   ]
  },
  {
   "cell_type": "code",
   "execution_count": 39,
   "metadata": {},
   "outputs": [],
   "source": [
    "X['cluster1']=x_df['cluster']"
   ]
  },
  {
   "cell_type": "code",
   "execution_count": 40,
   "metadata": {},
   "outputs": [],
   "source": [
    "X['cluster2']=x_df['cluster2']"
   ]
  },
  {
   "cell_type": "markdown",
   "metadata": {},
   "source": [
    "## 6.0 Analysis of Results:  Kmeans and MeanShift"
   ]
  },
  {
   "cell_type": "markdown",
   "metadata": {},
   "source": [
    "### 6.1 Kmeans clustering analysis\n",
    "Kmeans grouped the countries into 4 clusters. In cluster 0, countries with lowest mean score in government integrity (37.02) had the least per capital GDP of ($16,647) while countries with an average score of (59.06) had the highest average per capital GDP of ($32,761) which is twice that of those in the first group i.e. cluster 0.  \n",
    "\n",
    "In terms of property rights' protection, countries in cluster 3.0 recoreded the highest mean score of 70.0, however, their mean per capital GDP was lower by $10,000 compared with those in cluster 2.0 with only 4 points difference in property rights protection."
   ]
  },
  {
   "cell_type": "code",
   "execution_count": 41,
   "metadata": {},
   "outputs": [
    {
     "data": {
      "text/html": [
       "<div>\n",
       "<style scoped>\n",
       "    .dataframe tbody tr th:only-of-type {\n",
       "        vertical-align: middle;\n",
       "    }\n",
       "\n",
       "    .dataframe tbody tr th {\n",
       "        vertical-align: top;\n",
       "    }\n",
       "\n",
       "    .dataframe thead th {\n",
       "        text-align: right;\n",
       "    }\n",
       "</style>\n",
       "<table border=\"1\" class=\"dataframe\">\n",
       "  <thead>\n",
       "    <tr style=\"text-align: right;\">\n",
       "      <th></th>\n",
       "      <th>Prop_Rights</th>\n",
       "      <th>Govt_Integrity</th>\n",
       "      <th>gdpPcp</th>\n",
       "    </tr>\n",
       "    <tr>\n",
       "      <th>cluster1</th>\n",
       "      <th></th>\n",
       "      <th></th>\n",
       "      <th></th>\n",
       "    </tr>\n",
       "  </thead>\n",
       "  <tbody>\n",
       "    <tr>\n",
       "      <th>0.0</th>\n",
       "      <td>51.092500</td>\n",
       "      <td>37.022500</td>\n",
       "      <td>16646.853025</td>\n",
       "    </tr>\n",
       "    <tr>\n",
       "      <th>1.0</th>\n",
       "      <td>62.253125</td>\n",
       "      <td>48.065625</td>\n",
       "      <td>24129.165781</td>\n",
       "    </tr>\n",
       "    <tr>\n",
       "      <th>2.0</th>\n",
       "      <td>65.365517</td>\n",
       "      <td>59.062069</td>\n",
       "      <td>32760.857931</td>\n",
       "    </tr>\n",
       "    <tr>\n",
       "      <th>3.0</th>\n",
       "      <td>69.850000</td>\n",
       "      <td>57.100000</td>\n",
       "      <td>23895.095000</td>\n",
       "    </tr>\n",
       "  </tbody>\n",
       "</table>\n",
       "</div>"
      ],
      "text/plain": [
       "          Prop_Rights  Govt_Integrity        gdpPcp\n",
       "cluster1                                           \n",
       "0.0         51.092500       37.022500  16646.853025\n",
       "1.0         62.253125       48.065625  24129.165781\n",
       "2.0         65.365517       59.062069  32760.857931\n",
       "3.0         69.850000       57.100000  23895.095000"
      ]
     },
     "execution_count": 41,
     "metadata": {},
     "output_type": "execute_result"
    }
   ],
   "source": [
    "kmgroup = X.groupby('cluster1')['Prop_Rights','Govt_Integrity','gdpPcp'].mean()\n",
    "kmgroup"
   ]
  },
  {
   "cell_type": "markdown",
   "metadata": {},
   "source": [
    "### 6.2 Mean Shift Cluster\n",
    "The Mean Shift clustering which was adjudged to be better than kmeans in this analysis classified the countries into 2.  Those in cluster 0.0 had an average score of 44.80 in government integrity which was more than 10 points lower than those in group 1.0.  However, the difference in income was a little over $1000.  Similar difference was observed in property rights and GDP differentials."
   ]
  },
  {
   "cell_type": "code",
   "execution_count": 42,
   "metadata": {},
   "outputs": [
    {
     "data": {
      "text/html": [
       "<div>\n",
       "<style scoped>\n",
       "    .dataframe tbody tr th:only-of-type {\n",
       "        vertical-align: middle;\n",
       "    }\n",
       "\n",
       "    .dataframe tbody tr th {\n",
       "        vertical-align: top;\n",
       "    }\n",
       "\n",
       "    .dataframe thead th {\n",
       "        text-align: right;\n",
       "    }\n",
       "</style>\n",
       "<table border=\"1\" class=\"dataframe\">\n",
       "  <thead>\n",
       "    <tr style=\"text-align: right;\">\n",
       "      <th></th>\n",
       "      <th>Prop_Rights</th>\n",
       "      <th>Govt_Integrity</th>\n",
       "      <th>gdpPcp</th>\n",
       "    </tr>\n",
       "    <tr>\n",
       "      <th>cluster2</th>\n",
       "      <th></th>\n",
       "      <th></th>\n",
       "      <th></th>\n",
       "    </tr>\n",
       "  </thead>\n",
       "  <tbody>\n",
       "    <tr>\n",
       "      <th>0.0</th>\n",
       "      <td>57.613873</td>\n",
       "      <td>44.802312</td>\n",
       "      <td>22116.067815</td>\n",
       "    </tr>\n",
       "    <tr>\n",
       "      <th>1.0</th>\n",
       "      <td>69.850000</td>\n",
       "      <td>57.100000</td>\n",
       "      <td>23895.095000</td>\n",
       "    </tr>\n",
       "  </tbody>\n",
       "</table>\n",
       "</div>"
      ],
      "text/plain": [
       "          Prop_Rights  Govt_Integrity        gdpPcp\n",
       "cluster2                                           \n",
       "0.0         57.613873       44.802312  22116.067815\n",
       "1.0         69.850000       57.100000  23895.095000"
      ]
     },
     "execution_count": 42,
     "metadata": {},
     "output_type": "execute_result"
    }
   ],
   "source": [
    "msgroup = X.groupby('cluster2')['Prop_Rights','Govt_Integrity','gdpPcp'].mean()\n",
    "msgroup"
   ]
  }
 ],
 "metadata": {
  "kernelspec": {
   "display_name": "Python 3",
   "language": "python",
   "name": "python3"
  },
  "language_info": {
   "codemirror_mode": {
    "name": "ipython",
    "version": 3
   },
   "file_extension": ".py",
   "mimetype": "text/x-python",
   "name": "python",
   "nbconvert_exporter": "python",
   "pygments_lexer": "ipython3",
   "version": "3.7.3"
  }
 },
 "nbformat": 4,
 "nbformat_minor": 2
}
